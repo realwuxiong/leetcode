{
 "cells": [
  {
   "cell_type": "code",
   "execution_count": 13,
   "metadata": {},
   "outputs": [
    {
     "data": {
      "text/plain": [
       "6"
      ]
     },
     "execution_count": 13,
     "metadata": {},
     "output_type": "execute_result"
    }
   ],
   "source": [
    "# 576. 出界的路径数\n",
    "# https://leetcode-cn.com/problems/out-of-boundary-paths/\n",
    "\n",
    "def findPaths(m: int, n: int, maxMove: int, startRow: int, startColumn: int) -> int:\n",
    "    \n",
    "    # 用dfs，但是超时了\n",
    "    ans = [0]\n",
    "    def dfs(row,clo,remainMove):\n",
    "\n",
    "\n",
    "        if row < 0 or clo < 0 or row  >=m or clo >= n:\n",
    "            if remainMove < 0:\n",
    "                return\n",
    "            ans[0] += 1\n",
    "            return \n",
    "        if remainMove < 0:\n",
    "            return\n",
    "\n",
    "        dfs(row+1,clo,remainMove-1)\n",
    "        dfs(row-1,clo,remainMove-1)\n",
    "        dfs(row,clo+1,remainMove-1)\n",
    "        dfs(row,clo-1,remainMove-1)\n",
    "\n",
    "\n",
    "    dfs(startRow,startColumn,maxMove)\n",
    "    return ans[0] % (10**9+7)\n",
    "m = 2\n",
    "n = 2\n",
    "maxMove = 2\n",
    "startRow = 0\n",
    "startColumn = 0\n",
    "findPaths(m,n,maxMove,startRow,startColumn)"
   ]
  },
  {
   "cell_type": "code",
   "execution_count": 14,
   "metadata": {},
   "outputs": [
    {
     "data": {
      "text/plain": [
       "6"
      ]
     },
     "execution_count": 14,
     "metadata": {},
     "output_type": "execute_result"
    }
   ],
   "source": [
    "# 还是得动态规划\n",
    "# 看的答案，明天重新看看。\n",
    "\n",
    "def findPaths(m: int, n: int, maxMove: int, startRow: int, startColumn: int) -> int:\n",
    "    \n",
    "    MOD = 10**9 + 7\n",
    "    outCounts = 0\n",
    "    dp = [[[0] * n for _ in range(m)] for _ in range(maxMove + 1)]\n",
    "    dp[0][startRow][startColumn] = 1\n",
    "    for i in range(maxMove):\n",
    "        for j in range(m):\n",
    "            for k in range(n):\n",
    "                if dp[i][j][k] > 0:\n",
    "                    for j1, k1 in [(j - 1, k), (j + 1, k), (j, k - 1), (j, k + 1)]:\n",
    "                        if 0 <= j1 < m and 0 <= k1 < n:\n",
    "                            dp[i + 1][j1][k1] = (dp[i + 1][j1][k1] + dp[i][j][k]) % MOD\n",
    "                        else:\n",
    "                            outCounts = (outCounts + dp[i][j][k]) % MOD\n",
    "\n",
    "    return outCounts\n",
    "\n",
    "\n"
   ]
  },
  {
   "cell_type": "code",
   "execution_count": 32,
   "metadata": {},
   "outputs": [
    {
     "name": "stdout",
     "output_type": "stream",
     "text": [
      "6\n"
     ]
    }
   ],
   "source": [
    "# 重新做一次这个题目- 2021年8月16日补做\n",
    "\n",
    "def findPaths(m: int, n: int, maxMove: int, startRow: int, startColumn: int) -> int:\n",
    "    # 先用dfs试试\n",
    "    # 这个题目需要用动态规划去做\n",
    "    # 最主要的是写出状态转移方程\n",
    "    \"\"\"\n",
    "    dp[i][j][k]表示第i步，在j,k位置的方法数\n",
    "    \n",
    "    初始值：当i=0时，dp[0][startRow][startColumn] = 1\n",
    "    \"\"\"\n",
    "    dp = []\n",
    "    \n",
    "    for i in range(maxMove+1):\n",
    "        dp.append([[0]*n for j in range(m)])\n",
    "    # 初始化dp\n",
    "    dp[0][startRow][startColumn] = 1\n",
    "    \n",
    "    ans = 0\n",
    "    for i in range(maxMove):\n",
    "        for j in range(m):\n",
    "            for k in range(n):\n",
    "                # 上下左右进行移动\n",
    "                if dp[i][j][k] > 0:\n",
    "                    for z,w in [(j+1,k),(j-1,k),(j,k+1),(j,k-1)]:\n",
    "                        if 0<=z<m and 0<=w<n:\n",
    "                            dp[i+1][z][w] += dp[i][j][k] \n",
    "                        else:\n",
    "                            ans += dp[i][j][k]\n",
    "    return  ans % ( 10**9 + 7)\n",
    "            \n",
    "    \n",
    "m = 2\n",
    "n = 2\n",
    "maxMove = 2\n",
    "startRow = 0\n",
    "startColumn = 0\n",
    "findPaths(m,n,maxMove,startRow,startColumn)    "
   ]
  }
 ],
 "metadata": {
  "kernelspec": {
   "display_name": "Python 3",
   "language": "python",
   "name": "python3"
  },
  "language_info": {
   "codemirror_mode": {
    "name": "ipython",
    "version": 3
   },
   "file_extension": ".py",
   "mimetype": "text/x-python",
   "name": "python",
   "nbconvert_exporter": "python",
   "pygments_lexer": "ipython3",
   "version": "3.6.9"
  },
  "toc-autonumbering": false,
  "toc-showcode": false,
  "toc-showmarkdowntxt": false,
  "toc-showtags": false
 },
 "nbformat": 4,
 "nbformat_minor": 4
}
