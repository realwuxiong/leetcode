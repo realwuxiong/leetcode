{
 "cells": [
  {
   "cell_type": "code",
   "execution_count": 69,
   "metadata": {},
   "outputs": [
    {
     "data": {
      "text/plain": [
       "6"
      ]
     },
     "execution_count": 69,
     "metadata": {},
     "output_type": "execute_result"
    }
   ],
   "source": [
    "# 752. 打开转盘锁\n",
    "# https://leetcode-cn.com/problems/open-the-lock/\n",
    "# 我操？这一题完全没思路，明天做吧。。。。\n",
    "\n",
    "# 20201年6月27日再做一次\n",
    "# 广度搜索。做完用java写一遍\n",
    "# 写的贼差，但是好歹算是写出了\n",
    "from typing import List\n",
    "from collections import deque\n",
    "def openLock(deadends: List[str], target: str) -> int:\n",
    "    statues = deque()\n",
    "    statues.append((\"0000\",0))\n",
    "    if \"0000\" in dead:\n",
    "        return -1\n",
    "    mySet = set()\n",
    "    \n",
    "    def enuStatue(s,count):\n",
    "        ans = []\n",
    "        s = list(s)\n",
    "        for i in range(4):\n",
    "            # 加一\n",
    "            x = s[i]\n",
    "            if s[i] == '9':\n",
    "                s[i] = '0'\n",
    "            else:\n",
    "                s[i] = chr(ord(s[i])+1)\n",
    "            if \"\".join(s) not in mySet and \"\".join(s) not in deadends:\n",
    "                mySet.add(\"\".join(s))\n",
    "#                 print(ans,s)\n",
    "                ans.append((\"\".join(s),count+1))\n",
    "                statues.append((\"\".join(s),count+1))\n",
    "            s[i] = x\n",
    "            # 减一\n",
    "            if s[i] == '0':\n",
    "                s[i] = '9'\n",
    "            else:\n",
    "                s[i] = chr(ord(s[i])-1)\n",
    "            if \"\".join(s) not in mySet and \"\".join(s) not in deadends:\n",
    "                mySet.add(\"\".join(s))\n",
    "                ans.append((\"\".join(s),count+1))\n",
    "                statues.append((\"\".join(s),count+1))\n",
    "#             print(s,x,i)\n",
    "            s[i] = x\n",
    "#         print(ans)\n",
    "        return ans\n",
    "        \n",
    "#     print(statues)\n",
    "    while len(statues)>0:\n",
    "        statue = statues.popleft()\n",
    "\n",
    "        if statue[0] == target:\n",
    "            return statue[1]\n",
    "        enuStatue(statue[0],statue[1])\n",
    "\n",
    "#         print(statues)\n",
    "    return -1\n",
    "        \n",
    "        \n",
    "    \n",
    "    pass\n",
    "deadends = [\"0201\",\"0101\",\"0102\",\"1212\",\"2002\"]\n",
    "target = \"0202\"\n",
    "openLock(deadends,target)"
   ]
  },
  {
   "cell_type": "code",
   "execution_count": 17,
   "metadata": {},
   "outputs": [
    {
     "name": "stdout",
     "output_type": "stream",
     "text": [
      "['2', '3']\n"
     ]
    }
   ],
   "source": [
    "print(list(\"23\"))"
   ]
  }
 ],
 "metadata": {
  "kernelspec": {
   "display_name": "Python 3",
   "language": "python",
   "name": "python3"
  },
  "language_info": {
   "codemirror_mode": {
    "name": "ipython",
    "version": 3
   },
   "file_extension": ".py",
   "mimetype": "text/x-python",
   "name": "python",
   "nbconvert_exporter": "python",
   "pygments_lexer": "ipython3",
   "version": "3.6.9"
  }
 },
 "nbformat": 4,
 "nbformat_minor": 4
}
