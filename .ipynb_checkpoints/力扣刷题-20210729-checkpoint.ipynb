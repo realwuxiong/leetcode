{
 "cells": [
  {
   "cell_type": "code",
   "execution_count": 32,
   "metadata": {},
   "outputs": [
    {
     "data": {
      "text/plain": [
       "[1, 2, 6, 11, 25, 45, 100]"
      ]
     },
     "execution_count": 32,
     "metadata": {},
     "output_type": "execute_result"
    }
   ],
   "source": [
    "# 1104. 二叉树寻路\n",
    "# https://leetcode-cn.com/problems/path-in-zigzag-labelled-binary-tree/\n",
    "\n",
    "# 最近天天二叉树\n",
    "from typing import List\n",
    "def pathInZigZagTree(label: int) -> List[int]:\n",
    "    # 这个题目怎么感觉是数学题目\n",
    "    \"\"\"\n",
    "    奇数层  左->右\n",
    "    偶数层  右->左\n",
    "    \"\"\"\n",
    "#     print(label)\n",
    "    \n",
    "    \n",
    "    ans = []\n",
    "    # 先判断是第几层\n",
    "    layer = -1\n",
    "    for i in range(1,50):  # 设置50是超过10**6\n",
    "        if 2**(i-1)<= label<=2**i-1:\n",
    "            layer = i\n",
    "            break\n",
    "    # 向上找\n",
    "    for i in range(layer,0,-1):\n",
    "        ans.insert(0,label)\n",
    "        \n",
    "        # 第i层的数字的区间为\n",
    "        start = 2**(i-1)\n",
    "        end = 2**i -1\n",
    "        # 第i层一共有total个数\n",
    "        total = 2 ** (i-1)\n",
    "        \n",
    "        # 从左到右第几个树下\n",
    "        import math\n",
    "        # 向上取整\n",
    "#         print(f\"start:{start}  end:{end}\")\n",
    "        t = math.ceil((label-start+1)/2.0) \n",
    "#         print(t)\n",
    "        # 奇数层\n",
    "        if i & 1 == 1:\n",
    "            # 这一层是奇数层，所以上一层是偶数层\n",
    "            # label\n",
    "            label = 2**(i-1) - t  \n",
    "#             print(t,0,label)\n",
    "        else:\n",
    "            # 当前为偶数层\n",
    "            label = 2**(i-1) -1 - t + 1\n",
    "#             print(t,1,label)\n",
    "        \n",
    "            \n",
    "    return ans\n",
    "label = 100\n",
    "pathInZigZagTree(label)"
   ]
  }
 ],
 "metadata": {
  "kernelspec": {
   "display_name": "Python 3",
   "language": "python",
   "name": "python3"
  },
  "language_info": {
   "codemirror_mode": {
    "name": "ipython",
    "version": 3
   },
   "file_extension": ".py",
   "mimetype": "text/x-python",
   "name": "python",
   "nbconvert_exporter": "python",
   "pygments_lexer": "ipython3",
   "version": "3.6.9"
  },
  "toc-autonumbering": false,
  "toc-showcode": false,
  "toc-showmarkdowntxt": false,
  "toc-showtags": false
 },
 "nbformat": 4,
 "nbformat_minor": 4
}
