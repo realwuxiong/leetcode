{
 "cells": [
  {
   "cell_type": "code",
   "execution_count": 13,
   "metadata": {},
   "outputs": [
    {
     "data": {
      "text/plain": [
       "149"
      ]
     },
     "execution_count": 13,
     "metadata": {},
     "output_type": "execute_result"
    }
   ],
   "source": [
    "# 1518. 换酒问题\n",
    "# https://leetcode-cn.com/problems/water-bottles/\n",
    "\n",
    "from typing import List\n",
    "def numWaterBottles(numBottles: int, numExchange: int) -> int:\n",
    "    #直接模拟\n",
    "    ans = numBottles\n",
    "    m,n = numBottles,0  # 空瓶数,有酒的瓶数\n",
    "    while m >= numExchange:\n",
    "        n = m // numExchange\n",
    "        m = m % numExchange + n\n",
    "        ans += n\n",
    "    return ans\n",
    "\n",
    "numBottles = 100\n",
    "numExchange = 3\n",
    "numWaterBottles(numBottles,numExchange)"
   ]
  }
 ],
 "metadata": {
  "kernelspec": {
   "display_name": "Python 3",
   "language": "python",
   "name": "python3"
  },
  "language_info": {
   "codemirror_mode": {
    "name": "ipython",
    "version": 3
   },
   "file_extension": ".py",
   "mimetype": "text/x-python",
   "name": "python",
   "nbconvert_exporter": "python",
   "pygments_lexer": "ipython3",
   "version": "3.6.9"
  },
  "toc-autonumbering": false,
  "toc-showcode": false,
  "toc-showmarkdowntxt": false,
  "toc-showtags": false
 },
 "nbformat": 4,
 "nbformat_minor": 4
}
