{
 "cells": [
  {
   "cell_type": "code",
   "execution_count": 15,
   "metadata": {},
   "outputs": [
    {
     "name": "stdout",
     "output_type": "stream",
     "text": [
      "2\n",
      "2\n",
      "2\n",
      "3\n"
     ]
    },
    {
     "data": {
      "text/plain": [
       "2"
      ]
     },
     "execution_count": 15,
     "metadata": {},
     "output_type": "execute_result"
    }
   ],
   "source": [
    "/*\n",
    "27. 移除元素\n",
    "https://leetcode-cn.com/problems/remove-element/\n",
    "*/\n",
    "\n",
    "// 删除对应的数组,还是快慢指针\n",
    "public int removeElement(int[] nums, int val) {\n",
    "    int slow=0;\n",
    "    for(int i = 0; i < nums.length; ++i){\n",
    "        if(nums[i]!=val){\n",
    "            nums[slow++] = nums[i];\n",
    "        }  \n",
    "    }\n",
    "    for(int num: nums){\n",
    "        System.out.println(num);\n",
    "    }\n",
    "    return slow;\n",
    "}\n",
    "int [] nums = {3,2,2,3};\n",
    "int val = 3;\n",
    "removeElement(nums,val);\n"
   ]
  },
  {
   "cell_type": "code",
   "execution_count": 24,
   "metadata": {},
   "outputs": [
    {
     "name": "stdout",
     "output_type": "stream",
     "text": [
      "[hello, world]10\n"
     ]
    }
   ],
   "source": [
    "// 试一下java的栈\n",
    "Stack<String> a = new Stack<String>();\n",
    "a.add(\"hello\");\n",
    "a.add(\"world\");\n",
    "a.capacity();\n",
    "System.out.println(a+String.valueOf(a.capacity()));"
   ]
  },
  {
   "cell_type": "code",
   "execution_count": 29,
   "metadata": {},
   "outputs": [
    {
     "name": "stdout",
     "output_type": "stream",
     "text": [
      "helloworld2\n"
     ]
    }
   ],
   "source": [
    "// 试一下java的队列\n",
    "Queue<String> b = new LinkedList<String>();\n",
    "b.offer(\"helloworld2\");\n",
    "b.offer(\"helloworld\");\n",
    "// b.poll();\n",
    "System.out.println(b);"
   ]
  }
 ],
 "metadata": {
  "kernelspec": {
   "display_name": "Java",
   "language": "java",
   "name": "java"
  },
  "language_info": {
   "codemirror_mode": "java",
   "file_extension": ".jshell",
   "mimetype": "text/x-java-source",
   "name": "Java",
   "pygments_lexer": "java",
   "version": "11.0.10+9-Ubuntu-0ubuntu1.18.04"
  }
 },
 "nbformat": 4,
 "nbformat_minor": 4
}
