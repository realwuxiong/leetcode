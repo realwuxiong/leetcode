{
 "cells": [
  {
   "cell_type": "code",
   "execution_count": 10,
   "metadata": {},
   "outputs": [
    {
     "data": {
      "text/plain": [
       "10"
      ]
     },
     "execution_count": 10,
     "metadata": {},
     "output_type": "execute_result"
    }
   ],
   "source": [
    "# 1688. 比赛中的配对次数\n",
    "# https://leetcode-cn.com/problems/count-of-matches-in-tournament/\n",
    "\n",
    "def numberOfMatches(n: int) -> int:\n",
    "    ans = 0\n",
    "    n = int(n)\n",
    "    while n > 1:\n",
    "        if (n&1) == 1: #奇数\n",
    "            ans += (n - 1) // 2 + 1\n",
    "            n = (n - 1) // 2 \n",
    "        else:\n",
    "            ans += n // 2\n",
    "            n //= 2\n",
    "    return ans\n",
    "    pass\n",
    "\n",
    "n = 11\n",
    "numberOfMatches(n)"
   ]
  },
  {
   "cell_type": "code",
   "execution_count": null,
   "metadata": {},
   "outputs": [],
   "source": [
    "\"\"\"\n",
    "在每一场比赛中，输的队伍无法晋级，且不会再参加后续的比赛。由于最后只决出一个获胜队伍，因此就有n−1个无法晋级的队伍,也就是会有n−1场比赛。\n",
    "\"\"\"\n",
    "# 看答案。。。\n",
    "def numberOfMatches(n: int) -> int:\n",
    "    return n - 1"
   ]
  }
 ],
 "metadata": {
  "kernelspec": {
   "display_name": "Python 3",
   "language": "python",
   "name": "python3"
  },
  "language_info": {
   "codemirror_mode": {
    "name": "ipython",
    "version": 3
   },
   "file_extension": ".py",
   "mimetype": "text/x-python",
   "name": "python",
   "nbconvert_exporter": "python",
   "pygments_lexer": "ipython3",
   "version": "3.6.9"
  },
  "toc-autonumbering": false,
  "toc-showcode": false,
  "toc-showmarkdowntxt": false,
  "toc-showtags": false
 },
 "nbformat": 4,
 "nbformat_minor": 4
}
