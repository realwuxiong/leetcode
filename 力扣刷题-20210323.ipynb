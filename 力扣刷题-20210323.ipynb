{
 "cells": [
  {
   "cell_type": "code",
   "execution_count": 17,
   "metadata": {},
   "outputs": [
    {
     "data": {
      "text/plain": [
       "[1, 1, 2, 1, 1]"
      ]
     },
     "execution_count": 17,
     "metadata": {},
     "output_type": "execute_result"
    }
   ],
   "source": [
    "# 341. 扁平化嵌套列表迭代器\n",
    "# https://leetcode-cn.com/problems/flatten-nested-list-iterator/\n",
    "# 这个题目还是有点点难度的，没做出来，要沉下心写第代码。。。。\n",
    "list(map(int,str([[1,1],2,[1,1]]).replace('[',\"\").replace(']',\"\").replace(\" \",\"\").split(',')))"
   ]
  }
 ],
 "metadata": {
  "kernelspec": {
   "display_name": "Python 3",
   "language": "python",
   "name": "python3"
  },
  "language_info": {
   "codemirror_mode": {
    "name": "ipython",
    "version": 3
   },
   "file_extension": ".py",
   "mimetype": "text/x-python",
   "name": "python",
   "nbconvert_exporter": "python",
   "pygments_lexer": "ipython3",
   "version": "3.8.5"
  }
 },
 "nbformat": 4,
 "nbformat_minor": 4
}
