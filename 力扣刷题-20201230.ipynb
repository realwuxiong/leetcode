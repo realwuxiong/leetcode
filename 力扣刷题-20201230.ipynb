{
 "cells": [
  {
   "cell_type": "code",
   "execution_count": 15,
   "metadata": {},
   "outputs": [
    {
     "name": "stdout",
     "output_type": "stream",
     "text": [
      "1\n"
     ]
    }
   ],
   "source": [
    "# 1046.最后一块石头的重量\n",
    "# https://leetcode-cn.com/problems/last-stone-weight/\n",
    "\n",
    "# 第一思路，用堆排序\n",
    "import heapq\n",
    "def lastStoneWeight(stones) -> int:\n",
    "    \n",
    "    reverse_stones = [-l for l in stones]  # python 只能构建小顶堆，现在取反，变成大顶堆\n",
    "    heapq.heapify(reverse_stones) # 把list转化成堆\n",
    "    while(len(reverse_stones) >= 2):\n",
    "        # 取出两个值\n",
    "        y=heapq.heappop(reverse_stones)*(-1)\n",
    "        x = heapq.heappop(reverse_stones)*(-1)\n",
    "        if(y!=x):\n",
    "            heapq.heappush(reverse_stones,x-y)\n",
    "    return heapq.heappop(reverse_stones)*(-1) if reverse_stones else 0\n",
    "\n",
    "stones = [2,7,4,1,8,1]\n",
    "\n",
    "print(lastStoneWeight(stones))"
   ]
  },
  {
   "cell_type": "code",
   "execution_count": 8,
   "metadata": {},
   "outputs": [
    {
     "name": "stdout",
     "output_type": "stream",
     "text": [
      "[]\n"
     ]
    }
   ],
   "source": []
  }
 ],
 "metadata": {
  "kernelspec": {
   "display_name": "Python 3",
   "language": "python",
   "name": "python3"
  },
  "language_info": {
   "codemirror_mode": {
    "name": "ipython",
    "version": 3
   },
   "file_extension": ".py",
   "mimetype": "text/x-python",
   "name": "python",
   "nbconvert_exporter": "python",
   "pygments_lexer": "ipython3",
   "version": "3.8.5"
  }
 },
 "nbformat": 4,
 "nbformat_minor": 4
}
