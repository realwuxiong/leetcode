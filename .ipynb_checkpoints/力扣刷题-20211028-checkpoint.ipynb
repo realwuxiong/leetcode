{
 "cells": [
  {
   "cell_type": "code",
   "execution_count": 28,
   "metadata": {},
   "outputs": [
    {
     "data": {
      "text/plain": [
       "True"
      ]
     },
     "execution_count": 28,
     "metadata": {},
     "output_type": "execute_result"
    }
   ],
   "source": [
    "# 869. 重新排序得到 2 的幂\n",
    "# https://leetcode-cn.com/problems/reordered-power-of-2/\n",
    "def reorderedPowerOf2(n: int) -> bool:\n",
    "    # 直接排列\n",
    "    nstr = list(str(n))\n",
    "    n = len(nstr)\n",
    "    ans = []\n",
    "    def dfs(i):\n",
    "        if i == n:\n",
    "            if nstr[0] == '0':\n",
    "                return\n",
    "            num = int(\"\".join(nstr)) \n",
    "#             print(num)\n",
    "            if num&(num-1) == 0:\n",
    "                ans.append(1)\n",
    "            return\n",
    "        \n",
    "        for j in range(i,n):\n",
    "            nstr[j],nstr[i] = nstr[i],nstr[j]\n",
    "            dfs(i+1)  # 这里是i+1还是j+1是不一样的\n",
    "            nstr[j],nstr[i] = nstr[i],nstr[j]\n",
    "        \n",
    "    dfs(0)\n",
    "    return True if len(ans) > 0 else False\n",
    "    pass\n",
    "\n",
    "reorderedPowerOf2(125)"
   ]
  }
 ],
 "metadata": {
  "kernelspec": {
   "display_name": "Python 3",
   "language": "python",
   "name": "python3"
  },
  "language_info": {
   "codemirror_mode": {
    "name": "ipython",
    "version": 3
   },
   "file_extension": ".py",
   "mimetype": "text/x-python",
   "name": "python",
   "nbconvert_exporter": "python",
   "pygments_lexer": "ipython3",
   "version": "3.6.9"
  },
  "toc-autonumbering": false,
  "toc-showcode": false,
  "toc-showmarkdowntxt": false,
  "toc-showtags": false
 },
 "nbformat": 4,
 "nbformat_minor": 4
}
