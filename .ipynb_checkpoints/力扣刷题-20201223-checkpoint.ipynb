{
 "cells": [
  {
   "cell_type": "code",
   "execution_count": 1,
   "metadata": {},
   "outputs": [
    {
     "data": {
      "text/plain": [
       "-1"
      ]
     },
     "execution_count": 1,
     "metadata": {},
     "output_type": "execute_result"
    }
   ],
   "source": [
    "# 387. 字符串中的第一个唯一字符\n",
    "# https://leetcode-cn.com/problems/first-unique-character-in-a-string/\n",
    "import collections\n",
    "s = \"aadadaad\"\n",
    "def firstUniqChar(s: str) -> int:\n",
    "    dic = collections.OrderedDict()\n",
    "    for index,data in enumerate(s):\n",
    "        if data not in dic.keys():\n",
    "            dic[data] = index\n",
    "        else:\n",
    "            dic[data] = -1\n",
    "    \n",
    "    for value in dic.values():\n",
    "        if value != -1:\n",
    "            return value\n",
    "    return -1\n",
    "firstUniqChar(s)"
   ]
  },
  {
   "cell_type": "code",
   "execution_count": 23,
   "metadata": {},
   "outputs": [
    {
     "name": "stdout",
     "output_type": "stream",
     "text": [
      "[1, 2, 3, 4, 5]\n"
     ]
    }
   ],
   "source": []
  }
 ],
 "metadata": {
  "kernelspec": {
   "display_name": "Python 3",
   "language": "python",
   "name": "python3"
  },
  "language_info": {
   "codemirror_mode": {
    "name": "ipython",
    "version": 3
   },
   "file_extension": ".py",
   "mimetype": "text/x-python",
   "name": "python",
   "nbconvert_exporter": "python",
   "pygments_lexer": "ipython3",
   "version": "3.8.5"
  }
 },
 "nbformat": 4,
 "nbformat_minor": 4
}
