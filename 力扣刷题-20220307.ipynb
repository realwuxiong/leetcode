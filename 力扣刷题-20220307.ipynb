{
 "cells": [
  {
   "cell_type": "code",
   "execution_count": 9,
   "metadata": {},
   "outputs": [
    {
     "data": {
      "text/plain": [
       "'-10'"
      ]
     },
     "execution_count": 9,
     "metadata": {},
     "output_type": "execute_result"
    }
   ],
   "source": [
    "# 504. 七进制数\n",
    "# https://leetcode-cn.com/problems/base-7/\n",
    "\n",
    "def convertToBase7(num: int) -> str:\n",
    "    ans = []\n",
    "    flag = False  # 是否为负数\n",
    "    if num < 0:\n",
    "        num = -1*num\n",
    "        flag = True\n",
    "    \n",
    "    while num >= 7:\n",
    "        ans.insert(0,str(num%7))\n",
    "        num //= 7\n",
    "    ans.insert(0,str(num%7))\n",
    "    if flag:\n",
    "        ans.insert(0,'-')\n",
    "    return \"\".join(ans)\n",
    "\n",
    "num = -7\n",
    "convertToBase7(num)"
   ]
  }
 ],
 "metadata": {
  "kernelspec": {
   "display_name": "Python 3",
   "language": "python",
   "name": "python3"
  },
  "language_info": {
   "codemirror_mode": {
    "name": "ipython",
    "version": 3
   },
   "file_extension": ".py",
   "mimetype": "text/x-python",
   "name": "python",
   "nbconvert_exporter": "python",
   "pygments_lexer": "ipython3",
   "version": "3.6.9"
  },
  "toc-autonumbering": false,
  "toc-showcode": false,
  "toc-showmarkdowntxt": false,
  "toc-showtags": false
 },
 "nbformat": 4,
 "nbformat_minor": 4
}
