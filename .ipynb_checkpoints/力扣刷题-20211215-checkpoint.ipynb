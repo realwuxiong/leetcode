{
 "cells": [
  {
   "cell_type": "code",
   "execution_count": null,
   "metadata": {},
   "outputs": [],
   "source": [
    "# 851. 喧闹和富有\n",
    "# https://leetcode-cn.com/problems/loud-and-rich/\n",
    "\n",
    "from typing import List\n",
    "def loudAndRich(richer: List[List[int]], quiet: List[int]) -> List[int]:\n",
    "    # 感觉是自定义排序\n",
    "    \n",
    "    \n",
    "    pass\n",
    "richer = [[1,0],[2,1],[3,1],[3,7],[4,3],[5,3],[6,3]]\n",
    "quiet = [3,2,5,4,6,1,7,0]\n",
    "loudAndRich(richer,quiet)"
   ]
  }
 ],
 "metadata": {
  "kernelspec": {
   "display_name": "Python 3",
   "language": "python",
   "name": "python3"
  },
  "language_info": {
   "codemirror_mode": {
    "name": "ipython",
    "version": 3
   },
   "file_extension": ".py",
   "mimetype": "text/x-python",
   "name": "python",
   "nbconvert_exporter": "python",
   "pygments_lexer": "ipython3",
   "version": "3.6.9"
  },
  "toc-autonumbering": false,
  "toc-showcode": false,
  "toc-showmarkdowntxt": false,
  "toc-showtags": false
 },
 "nbformat": 4,
 "nbformat_minor": 4
}
