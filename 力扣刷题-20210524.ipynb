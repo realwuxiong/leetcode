{
 "cells": [
  {
   "cell_type": "code",
   "execution_count": null,
   "metadata": {},
   "outputs": [],
   "source": [
    "# 664. 奇怪的打印机\n",
    "# https://leetcode-cn.com/problems/strange-printer/\n",
    "\n",
    "# 太难了，直接抄个答案吧，改天在试试\n",
    "\n",
    "class Solution {\n",
    "    public int strangePrinter(String s) {\n",
    "        int n = s.length();\n",
    "        int[][] f = new int[n][n];\n",
    "        for (int i = n - 1; i >= 0; i--) {\n",
    "            f[i][i] = 1;\n",
    "            for (int j = i + 1; j < n; j++) {\n",
    "                if (s.charAt(i) == s.charAt(j)) {\n",
    "                    f[i][j] = f[i][j - 1];\n",
    "                } else {\n",
    "                    int minn = Integer.MAX_VALUE;\n",
    "                    for (int k = i; k < j; k++) {\n",
    "                        minn = Math.min(minn, f[i][k] + f[k + 1][j]);\n",
    "                    }\n",
    "                    f[i][j] = minn;\n",
    "                }\n",
    "            }\n",
    "        }\n",
    "        return f[0][n - 1];\n",
    "    }\n",
    "}\n"
   ]
  }
 ],
 "metadata": {
  "kernelspec": {
   "display_name": "Python 3",
   "language": "python",
   "name": "python3"
  },
  "language_info": {
   "codemirror_mode": {
    "name": "ipython",
    "version": 3
   },
   "file_extension": ".py",
   "mimetype": "text/x-python",
   "name": "python",
   "nbconvert_exporter": "python",
   "pygments_lexer": "ipython3",
   "version": "3.6.9"
  }
 },
 "nbformat": 4,
 "nbformat_minor": 4
}
