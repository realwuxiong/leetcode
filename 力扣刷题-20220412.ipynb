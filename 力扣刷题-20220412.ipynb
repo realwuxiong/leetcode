{
 "cells": [
  {
   "cell_type": "code",
   "execution_count": 2,
   "metadata": {},
   "outputs": [
    {
     "data": {
      "text/plain": [
       "[3, 60]"
      ]
     },
     "execution_count": 2,
     "metadata": {},
     "output_type": "execute_result"
    }
   ],
   "source": [
    "# 806. 写字符串需要的行数\n",
    "# https://leetcode-cn.com/problems/number-of-lines-to-write-string/\n",
    "\n",
    "# 简单题，去年的时候已经打卡成功了！\n",
    "from typing import List\n",
    "def numberOfLines(widths: List[int], S: str) -> List[int]:\n",
    "    a,b = 1,0\n",
    "    for s in S:\n",
    "        tem = widths[ord(s)-ord('a')] \n",
    "        if tem + b > 100:\n",
    "            a += 1\n",
    "            b = tem\n",
    "        else:\n",
    "            b += tem\n",
    "    return [a,b]\n",
    "    \n",
    "\n",
    "widths = [10,10,10,10,10,10,10,10,10,10,10,10,10,10,10,10,10,10,10,10,10,10,10,10,10,10]\n",
    "S = \"abcdefghijklmnopqrstuvwxyz\"\n",
    "\n",
    "numberOfLines(widths,S)\n"
   ]
  }
 ],
 "metadata": {
  "kernelspec": {
   "display_name": "Python 3",
   "language": "python",
   "name": "python3"
  },
  "language_info": {
   "codemirror_mode": {
    "name": "ipython",
    "version": 3
   },
   "file_extension": ".py",
   "mimetype": "text/x-python",
   "name": "python",
   "nbconvert_exporter": "python",
   "pygments_lexer": "ipython3",
   "version": "3.6.9"
  },
  "toc-autonumbering": false,
  "toc-showcode": false,
  "toc-showmarkdowntxt": false,
  "toc-showtags": false
 },
 "nbformat": 4,
 "nbformat_minor": 4
}
