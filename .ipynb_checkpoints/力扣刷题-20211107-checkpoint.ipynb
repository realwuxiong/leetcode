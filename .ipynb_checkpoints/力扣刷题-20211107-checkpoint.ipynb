{
 "cells": [
  {
   "cell_type": "code",
   "execution_count": 2,
   "metadata": {},
   "outputs": [
    {
     "data": {
      "text/plain": [
       "4"
      ]
     },
     "execution_count": 2,
     "metadata": {},
     "output_type": "execute_result"
    }
   ],
   "source": [
    "# 598. 范围求和 II\n",
    "# https://leetcode-cn.com/problems/range-addition-ii/\n",
    "\n",
    "from typing import List\n",
    "def maxCount(m: int, n: int, ops: List[List[int]]) -> int:\n",
    "    # 有点像差分数组的二维的形式\n",
    "    mina = m \n",
    "    minb = n \n",
    "    for a,b in ops:\n",
    "        mina = min(a,mina)\n",
    "        minb = min(b,minb)\n",
    "    return mina*minb\n",
    "m = 3\n",
    "n = 3\n",
    "operations = [[2,2],[3,3]]\n",
    "maxCount(m,n,operations)"
   ]
  }
 ],
 "metadata": {
  "kernelspec": {
   "display_name": "Python 3",
   "language": "python",
   "name": "python3"
  },
  "language_info": {
   "codemirror_mode": {
    "name": "ipython",
    "version": 3
   },
   "file_extension": ".py",
   "mimetype": "text/x-python",
   "name": "python",
   "nbconvert_exporter": "python",
   "pygments_lexer": "ipython3",
   "version": "3.6.9"
  },
  "toc-autonumbering": false,
  "toc-showcode": false,
  "toc-showmarkdowntxt": false,
  "toc-showtags": false
 },
 "nbformat": 4,
 "nbformat_minor": 4
}
