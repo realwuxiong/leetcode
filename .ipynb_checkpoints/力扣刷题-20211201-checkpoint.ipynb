{
 "cells": [
  {
   "cell_type": "code",
   "execution_count": 8,
   "metadata": {},
   "outputs": [
    {
     "name": "stdout",
     "output_type": "stream",
     "text": [
      "1 y\n"
     ]
    },
    {
     "data": {
      "text/plain": [
       "11"
      ]
     },
     "execution_count": 8,
     "metadata": {},
     "output_type": "execute_result"
    }
   ],
   "source": [
    "# 1446. 连续字符\n",
    "# https://leetcode-cn.com/problems/consecutive-characters/\n",
    "\n",
    "# 简单题，秒杀\n",
    "def maxPower(s: str) -> int:\n",
    "    maxlens = -1\n",
    "    pre = s[0]\n",
    "    n = len(s)\n",
    "    count = 1\n",
    "    for i in range(1,n):\n",
    "        if s[i] != pre:\n",
    "#             print(count,s[i])\n",
    "            maxlens = max(maxlens,count)\n",
    "            count = 1\n",
    "            pre = s[i]\n",
    "        else:\n",
    "            count += 1\n",
    "    return max(maxlens,count)\n",
    "    \n",
    "    pass\n",
    "s = \"hooraaaaaaaaaaay\"\n",
    "maxPower(s)"
   ]
  }
 ],
 "metadata": {
  "kernelspec": {
   "display_name": "Python 3",
   "language": "python",
   "name": "python3"
  },
  "language_info": {
   "codemirror_mode": {
    "name": "ipython",
    "version": 3
   },
   "file_extension": ".py",
   "mimetype": "text/x-python",
   "name": "python",
   "nbconvert_exporter": "python",
   "pygments_lexer": "ipython3",
   "version": "3.6.9"
  },
  "toc-autonumbering": false,
  "toc-showcode": false,
  "toc-showmarkdowntxt": false,
  "toc-showtags": false
 },
 "nbformat": 4,
 "nbformat_minor": 4
}
