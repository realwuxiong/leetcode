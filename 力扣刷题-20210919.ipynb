{
 "cells": [
  {
   "cell_type": "code",
   "execution_count": 8,
   "metadata": {},
   "outputs": [
    {
     "data": {
      "text/plain": [
       "46"
      ]
     },
     "execution_count": 8,
     "metadata": {},
     "output_type": "execute_result"
    }
   ],
   "source": [
    "# 650. 只有两个键的键盘\n",
    "# https://leetcode-cn.com/problems/2-keys-keyboard/\n",
    "\n",
    "# 1 <= n <= 1000\n",
    "def minSteps(n: int) -> int:\n",
    "    if n == 1:\n",
    "        return 0\n",
    "    p = 1\n",
    "    copy = 1\n",
    "    paste = 0\n",
    "    remain = n-1\n",
    "    while remain > 0: \n",
    "#         print(remain,n,copy,paste)\n",
    "        if remain - p == 0:\n",
    "            paste += 1\n",
    "            break\n",
    "        if remain % (n-remain) == 0 and p != (n-remain):\n",
    "            copy += 1\n",
    "            p = n-remain\n",
    "            remain -= p\n",
    "            paste += 1\n",
    "        else:\n",
    "            remain -= p\n",
    "            paste += 1\n",
    "    return copy + paste\n",
    "minSteps(888)"
   ]
  },
  {
   "cell_type": "code",
   "execution_count": 16,
   "metadata": {},
   "outputs": [
    {
     "data": {
      "text/plain": [
       "array([[0.0583816 , 0.32445145, 0.78192503, ..., 0.05332802, 0.57298676,\n",
       "        0.70320091],\n",
       "       [0.3574333 , 0.50370037, 0.3115974 , ..., 0.21642577, 0.76706066,\n",
       "        0.6725123 ],\n",
       "       [0.92031604, 0.0110366 , 0.40737878, ..., 0.46468925, 0.94369501,\n",
       "        0.84520559],\n",
       "       ...,\n",
       "       [0.13685542, 0.4365454 , 0.21853609, ..., 0.32328373, 0.01483033,\n",
       "        0.07039469],\n",
       "       [0.54527477, 0.44543603, 0.78937408, ..., 0.07708194, 0.42822075,\n",
       "        0.37849173],\n",
       "       [0.70233498, 0.76712977, 0.60980843, ..., 0.20999688, 0.14164664,\n",
       "        0.63125211]])"
      ]
     },
     "execution_count": 16,
     "metadata": {},
     "output_type": "execute_result"
    }
   ],
   "source": [
    "import numpy as np\n",
    "np.random.random([124,10])"
   ]
  }
 ],
 "metadata": {
  "kernelspec": {
   "display_name": "Python 3",
   "language": "python",
   "name": "python3"
  },
  "language_info": {
   "codemirror_mode": {
    "name": "ipython",
    "version": 3
   },
   "file_extension": ".py",
   "mimetype": "text/x-python",
   "name": "python",
   "nbconvert_exporter": "python",
   "pygments_lexer": "ipython3",
   "version": "3.6.9"
  },
  "toc-autonumbering": false,
  "toc-showcode": false,
  "toc-showmarkdowntxt": false,
  "toc-showtags": false
 },
 "nbformat": 4,
 "nbformat_minor": 4
}
