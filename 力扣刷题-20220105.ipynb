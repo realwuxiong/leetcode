{
 "cells": [
  {
   "cell_type": "code",
   "execution_count": 12,
   "metadata": {},
   "outputs": [
    {
     "data": {
      "text/plain": [
       "'jaqgacb'"
      ]
     },
     "execution_count": 12,
     "metadata": {},
     "output_type": "execute_result"
    }
   ],
   "source": [
    "# 1576. 替换所有的问号\n",
    "# https://leetcode-cn.com/problems/replace-all-s-to-avoid-consecutive-repeating-characters/\n",
    "\n",
    "def modifyString(s: str) -> str:\n",
    "    letter = \"abcdefghijklmnopqrstuvwxyz\"\n",
    "    n = len(s)\n",
    "    s = list(s)\n",
    "    for i in range(n):\n",
    "        t = list(letter)\n",
    "        if s[i] == \"?\":\n",
    "            if i-1 >= 0 and s[i-1] in t:\n",
    "                t.remove(s[i-1]) \n",
    "            if i+1 < n and s[i+1] in t:\n",
    "                t.remove(s[i+1])\n",
    "            s[i] = t[0]\n",
    "    return \"\".join(s)\n",
    "    pass\n",
    "s = \"j?qg??b\"\n",
    "modifyString(s)"
   ]
  },
  {
   "cell_type": "code",
   "execution_count": null,
   "metadata": {},
   "outputs": [],
   "source": [
    "# 答案写的nice啊\n",
    "class Solution:\n",
    "    def modifyString(self, s: str) -> str:\n",
    "        res = list(s)\n",
    "        n = len(res)\n",
    "        for i in range(n):\n",
    "            if res[i] == '?':\n",
    "                for b in \"abc\":\n",
    "                    if not (i > 0 and res[i - 1] == b or i < n - 1 and res[i + 1] == b):\n",
    "                        res[i] = b\n",
    "                        break\n",
    "        return ''.join(res)\n",
    "\n"
   ]
  }
 ],
 "metadata": {
  "kernelspec": {
   "display_name": "Python 3",
   "language": "python",
   "name": "python3"
  },
  "language_info": {
   "codemirror_mode": {
    "name": "ipython",
    "version": 3
   },
   "file_extension": ".py",
   "mimetype": "text/x-python",
   "name": "python",
   "nbconvert_exporter": "python",
   "pygments_lexer": "ipython3",
   "version": "3.6.9"
  },
  "toc-autonumbering": false,
  "toc-showcode": false,
  "toc-showmarkdowntxt": false,
  "toc-showtags": false
 },
 "nbformat": 4,
 "nbformat_minor": 4
}
