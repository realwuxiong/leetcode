{
 "cells": [
  {
   "cell_type": "code",
   "execution_count": null,
   "metadata": {},
   "outputs": [],
   "source": [
    "# 804. 唯一摩尔斯密码词\n",
    "# https://leetcode-cn.com/problems/unique-morse-code-words/\n",
    "\n",
    "from typing import List\n",
    "def uniqueMorseRepresentations(words: List[str]) -> int:\n",
    "    dic = [\".-\",\"-...\",\"-.-.\",\"-..\",\".\",\"..-.\",\"--.\",\"....\",\"..\",\".---\",\"-.-\",\".-..\",\"--\",\"-.\",\"---\",\".--.\",\"--.-\",\".-.\",\"...\",\"-\",\"..-\",\"...-\",\".--\",\"-..-\",\"-.--\",\"--..\"]\n",
    "    \n",
    "    t = \"\"\n",
    "    ans = set()\n",
    "    for word in words:\n",
    "        t = \"\"\n",
    "        for w in word:\n",
    "            t += dic[ord(w)-ord('a')]\n",
    "        ans.add(t)\n",
    "    return len(ans)\n",
    "    pass\n",
    "words = [\"gin\", \"zen\", \"gig\", \"msg\"]\n",
    "uniqueMorseRepresentations(words)"
   ]
  }
 ],
 "metadata": {
  "kernelspec": {
   "display_name": "Python 3",
   "language": "python",
   "name": "python3"
  },
  "language_info": {
   "codemirror_mode": {
    "name": "ipython",
    "version": 3
   },
   "file_extension": ".py",
   "mimetype": "text/x-python",
   "name": "python",
   "nbconvert_exporter": "python",
   "pygments_lexer": "ipython3",
   "version": "3.6.9"
  },
  "toc-autonumbering": false,
  "toc-showcode": false,
  "toc-showmarkdowntxt": false,
  "toc-showtags": false
 },
 "nbformat": 4,
 "nbformat_minor": 4
}
