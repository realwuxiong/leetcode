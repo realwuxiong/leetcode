{
 "cells": [
  {
   "cell_type": "code",
   "execution_count": null,
   "metadata": {},
   "outputs": [],
   "source": [
    "# 275. H 指数 II\n",
    "# https://leetcode-cn.com/problems/h-index-ii/\n",
    "from typing import List\n",
    "def hIndex(citations: List[int]) -> int:\n",
    "    ans = 0\n",
    "    n = len(citations)-1\n",
    "    for n >=0 and ans < \n",
    "    pass\n",
    "citations =  [0,1,3,5,6]\n",
    "hIndex(citations)"
   ]
  },
  {
   "cell_type": "code",
   "execution_count": null,
   "metadata": {},
   "outputs": [],
   "source": [
    "# 官方答案用的是二分法\n",
    "class Solution:\n",
    "    def hIndex(self, citations: List[int]) -> int:\n",
    "        n = len(citations)\n",
    "        left = 0; right = n - 1\n",
    "        while left <= right:\n",
    "            mid = left + (right - left) // 2\n",
    "            if citations[mid] >= n - mid:\n",
    "                right = mid - 1\n",
    "            else:\n",
    "                left = mid + 1\n",
    "        return n - left\n"
   ]
  }
 ],
 "metadata": {
  "kernelspec": {
   "display_name": "Python 3",
   "language": "python",
   "name": "python3"
  },
  "language_info": {
   "codemirror_mode": {
    "name": "ipython",
    "version": 3
   },
   "file_extension": ".py",
   "mimetype": "text/x-python",
   "name": "python",
   "nbconvert_exporter": "python",
   "pygments_lexer": "ipython3",
   "version": "3.6.9"
  }
 },
 "nbformat": 4,
 "nbformat_minor": 4
}
