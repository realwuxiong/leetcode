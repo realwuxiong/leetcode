{
 "cells": [
  {
   "cell_type": "code",
   "execution_count": null,
   "metadata": {},
   "outputs": [],
   "source": [
    "# 86. 分隔链表\n",
    "# https://leetcode-cn.com/problems/partition-list/\n",
    "'''\n",
    "给你一个链表和一个特定值 x ，请你对链表进行分隔，使得所有小于 x 的节点都出现在大于或等于 x 的节点之前。\n",
    "你应当保留两个分区中每个节点的初始相对位置。\n",
    "'''\n",
    "\n",
    "\n",
    "# 他自己定义了数据结构，，\n",
    "#  就是弄两个链表\n",
    "\n",
    "\n",
    "class Solution:\n",
    "    def partition(self, head: ListNode, x: int) -> ListNode:\n",
    "        smallest = ListNode(0)\n",
    "        largest = ListNode(0)\n",
    "        smallestHead = smallest\n",
    "        largestHead = largest\n",
    "        while(head):\n",
    "            if(head.val<x):\n",
    "                smallest.next = head\n",
    "                smallest = head\n",
    "            else:\n",
    "                largest.next = head\n",
    "                largest = head\n",
    "            head = head.next\n",
    "        largest.next = None\n",
    "        smallest.next = largestHead.next\n",
    "        return smallestHead.next\n"
   ]
  },
  {
   "cell_type": "code",
   "execution_count": 20,
   "metadata": {},
   "outputs": [
    {
     "name": "stdout",
     "output_type": "stream",
     "text": [
      "10\n"
     ]
    }
   ],
   "source": [
    "# 第二题\n",
    "# https://leetcode-cn.com/problems/largest-number/\n",
    "# 最大数\n",
    "\n",
    "def largestNumber( nums) -> str:\n",
    "    aa=[[] for i in range(10)]\n",
    "    for data in nums:\n",
    "        tem = data\n",
    "        while(tem):\n",
    "            x = tem-(tem//10)*10\n",
    "            tem = tem // 10\n",
    "        aa[x].append(data)\n",
    "    print(aa)\n",
    "    for i in range(len(aa)):\n",
    "        aa[i].sort(reverse=True)  #按照降序排序\n",
    "    \n",
    "    ans = []\n",
    "    for i in range(len(aa),-1,-1):\n",
    "        for data in aa[i]:\n",
    "            \n",
    "\n",
    "nums = [3,30,34,5,9,91]\n",
    "largestNumber(nums)"
   ]
  }
 ],
 "metadata": {
  "kernelspec": {
   "display_name": "Python 3",
   "language": "python",
   "name": "python3"
  },
  "language_info": {
   "codemirror_mode": {
    "name": "ipython",
    "version": 3
   },
   "file_extension": ".py",
   "mimetype": "text/x-python",
   "name": "python",
   "nbconvert_exporter": "python",
   "pygments_lexer": "ipython3",
   "version": "3.8.5"
  }
 },
 "nbformat": 4,
 "nbformat_minor": 4
}
