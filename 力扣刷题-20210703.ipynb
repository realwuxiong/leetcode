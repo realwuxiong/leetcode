{
 "cells": [
  {
   "cell_type": "code",
   "execution_count": 18,
   "metadata": {},
   "outputs": [
    {
     "name": "stdout",
     "output_type": "stream",
     "text": [
      "dddddfffeesart\n",
      "[('t', 1), ('r', 1), ('a', 1), ('s', 1), ('e', 2), ('f', 3), ('d', 5)]\n"
     ]
    }
   ],
   "source": [
    "# 451. 根据字符出现频率排序\n",
    "# https://leetcode-cn.com/problems/sort-characters-by-frequency/\n",
    "\n",
    "# java和python都写一下\n",
    "import collections\n",
    "def frequencySort(s: str) -> str:\n",
    "    counterMap = collections.Counter(s)\n",
    "    x = []\n",
    "    for key in counterMap.keys():\n",
    "        x.append((key,counterMap[key]))\n",
    "    \n",
    "    x = sorted(x,key=lambda t:t[1])\n",
    "    ans = \"\"\n",
    "    for xx in x:\n",
    "        ans = xx[0]*xx[1] + ans\n",
    "    print(ans)\n",
    "\n",
    "    \n",
    "frequencySort(\"treedasddddfff\")"
   ]
  },
  {
   "cell_type": "code",
   "execution_count": 4,
   "metadata": {},
   "outputs": [
    {
     "name": "stdout",
     "output_type": "stream",
     "text": [
      "aa\n"
     ]
    }
   ],
   "source": [
    "// java 版本\n",
    "package leetcode;\n",
    "\n",
    "import java.util.*;\n",
    "\n",
    "public class Leetcode0703 {\n",
    "    public static void main(String[] args){\n",
    "        frequencySort(\"Tree\");\n",
    "    }\n",
    "\n",
    "    public static String frequencySort(String s) {\n",
    "        Map<Character,Integer>  map = new HashMap<>();\n",
    "        for(int i = 0; i < s.length();++i){\n",
    "            map.put(s.charAt(i),map.getOrDefault(s.charAt(i),0)+1);\n",
    "        }\n",
    "        List<MySort> list= new ArrayList<>();\n",
    "\n",
    "        map.forEach((k,v)->{\n",
    "            list.add(new MySort(k,v));\n",
    "        });\n",
    "        Collections.sort(list, new Comparator<MySort>() {\n",
    "            @Override\n",
    "            public int compare(MySort o1, MySort o2) {\n",
    "                if(o1.getCount() > o2.getCount())return -1;\n",
    "                return 0;\n",
    "            }\n",
    "        });\n",
    "\n",
    "        StringBuilder ans = new StringBuilder();\n",
    "        list.forEach(x->{\n",
    "            StringBuilder tmp = new StringBuilder();\n",
    "            for(int i=0; i < x.getCount(); ++i){\n",
    "                tmp.append(x.getChr());\n",
    "            }\n",
    "            ans.append(tmp);\n",
    "\n",
    "        });\n",
    "        System.out.println(ans.toString());\n",
    "        return ans.toString();\n",
    "    }\n",
    "\n",
    "}\n",
    "class MySort{\n",
    "    private char chr;\n",
    "    private int count;\n",
    "\n",
    "    public MySort(char chr, int count) {\n",
    "        this.chr = chr;\n",
    "        this.count = count;\n",
    "    }\n",
    "\n",
    "    public int getCount() {\n",
    "        return count;\n",
    "    }\n",
    "\n",
    "    public char getChr() {\n",
    "        return chr;\n",
    "    }\n",
    "\n",
    "    @Override\n",
    "    public String toString() {\n",
    "        return \"MySort{\" +\n",
    "                \"chr=\" + chr +\n",
    "                \", count=\" + count +\n",
    "                '}';\n",
    "    }\n",
    "}"
   ]
  },
  {
   "cell_type": "code",
   "execution_count": 19,
   "metadata": {},
   "outputs": [
    {
     "ename": "SyntaxError",
     "evalue": "invalid syntax (<ipython-input-19-965dc04c396d>, line 1)",
     "output_type": "error",
     "traceback": [
      "\u001b[0;36m  File \u001b[0;32m\"<ipython-input-19-965dc04c396d>\"\u001b[0;36m, line \u001b[0;32m1\u001b[0m\n\u001b[0;31m    // 官方java答案\u001b[0m\n\u001b[0m     ^\u001b[0m\n\u001b[0;31mSyntaxError\u001b[0m\u001b[0;31m:\u001b[0m invalid syntax\n"
     ]
    }
   ],
   "source": [
    "// 官方java答案\n",
    "class Solution {\n",
    "    public String frequencySort(String s) {\n",
    "        Map<Character, Integer> map = new HashMap<Character, Integer>();\n",
    "        int length = s.length();\n",
    "        for (int i = 0; i < length; i++) {\n",
    "            char c = s.charAt(i);\n",
    "            int frequency = map.getOrDefault(c, 0) + 1;\n",
    "            map.put(c, frequency);\n",
    "        }\n",
    "        List<Character> list = new ArrayList<Character>(map.keySet());\n",
    "        Collections.sort(list, (a, b) -> map.get(b) - map.get(a));\n",
    "        StringBuffer sb = new StringBuffer();\n",
    "        int size = list.size();\n",
    "        for (int i = 0; i < size; i++) {\n",
    "            char c = list.get(i);\n",
    "            int frequency = map.get(c);\n",
    "            for (int j = 0; j < frequency; j++) {\n",
    "                sb.append(c);\n",
    "            }\n",
    "        }\n",
    "        return sb.toString();\n",
    "    }\n",
    "}\n"
   ]
  }
 ],
 "metadata": {
  "kernelspec": {
   "display_name": "Python 3",
   "language": "python",
   "name": "python3"
  },
  "language_info": {
   "codemirror_mode": {
    "name": "ipython",
    "version": 3
   },
   "file_extension": ".py",
   "mimetype": "text/x-python",
   "name": "python",
   "nbconvert_exporter": "python",
   "pygments_lexer": "ipython3",
   "version": "3.6.9"
  }
 },
 "nbformat": 4,
 "nbformat_minor": 4
}
