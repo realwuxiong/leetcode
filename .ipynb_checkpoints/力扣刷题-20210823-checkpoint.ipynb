{
 "cells": [
  {
   "cell_type": "code",
   "execution_count": 6,
   "metadata": {},
   "outputs": [
    {
     "data": {
      "text/plain": [
       "21"
      ]
     },
     "execution_count": 6,
     "metadata": {},
     "output_type": "execute_result"
    }
   ],
   "source": [
    "# 1646. 获取生成数组中的最大值\n",
    "# https://leetcode-cn.com/problems/get-maximum-in-generated-array/\n",
    "\n",
    "\"\"\"\n",
    "给你一个整数 n 。按下述规则生成一个长度为 n + 1 的数组 nums ：\n",
    "\n",
    "nums[0] = 0\n",
    "nums[1] = 1\n",
    "当 2 <= 2 * i <= n 时，nums[2 * i] = nums[i]\n",
    "当 2 <= 2 * i + 1 <= n 时，nums[2 * i + 1] = nums[i] + nums[i + 1]\n",
    "返回生成数组 nums 中的 最大 值。\n",
    "\"\"\"\n",
    "# 又是简单题，nice\n",
    "def getMaximumGenerated(n: int) -> int:\n",
    "    if n == 0:\n",
    "        return 0\n",
    "    nums = [-1]*(n+1)\n",
    "    nums[0] = 0\n",
    "    nums[1] = 1\n",
    "    \n",
    "    for i in range(0,n+1):\n",
    "        if 2 <= 2 * i <= n:\n",
    "            nums[2 * i] = nums[i]\n",
    "        \n",
    "        if 2 <= 2 * i + 1 <= n:\n",
    "            nums[2 * i + 1] = nums[i] + nums[i + 1]    \n",
    "    return max(nums)    \n",
    "    \n",
    "    pass\n",
    "n = 100\n",
    "getMaximumGenerated(n)"
   ]
  }
 ],
 "metadata": {
  "kernelspec": {
   "display_name": "Python 3",
   "language": "python",
   "name": "python3"
  },
  "language_info": {
   "codemirror_mode": {
    "name": "ipython",
    "version": 3
   },
   "file_extension": ".py",
   "mimetype": "text/x-python",
   "name": "python",
   "nbconvert_exporter": "python",
   "pygments_lexer": "ipython3",
   "version": "3.6.9"
  },
  "toc-autonumbering": false,
  "toc-showcode": false,
  "toc-showmarkdowntxt": false,
  "toc-showtags": false
 },
 "nbformat": 4,
 "nbformat_minor": 4
}
