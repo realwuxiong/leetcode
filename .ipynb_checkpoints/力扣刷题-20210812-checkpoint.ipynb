{
 "cells": [
  {
   "cell_type": "code",
   "execution_count": 23,
   "metadata": {},
   "outputs": [
    {
     "data": {
      "text/plain": [
       "3"
      ]
     },
     "execution_count": 23,
     "metadata": {},
     "output_type": "execute_result"
    }
   ],
   "source": [
    "# 516. 最长回文子序列\n",
    "# https://leetcode-cn.com/problems/longest-palindromic-subsequence/\n",
    "\n",
    "# 真的是躲不掉啊，回文字符迟早要遇到。\n",
    "def longestPalindromeSubseq(s: str) -> int:\n",
    "    # 采用动态规划？？\n",
    "    \"\"\"\n",
    "    dp[i][j]表示在i-j区间内 最长的回文序列的长度\n",
    "    if s[i] == s[j]的时候\n",
    "        dp[i][j] = dp[i-1][j-1]+2\n",
    "    else 不相等的时候\n",
    "        dp[i][j] = max(dp[i-1][j],dp[i][j-1])\n",
    "    然后需要考虑初始值问题\n",
    "    dp[i][i] = 1是定值\n",
    "    \"\"\"\n",
    "    n = len(s)\n",
    "    dp = [[0]*n for _ in range(n)]\n",
    "\n",
    "    #开始动态规划\n",
    "    for i in range(n - 1, -1, -1):\n",
    "        dp[i][i] = 1\n",
    "        for j in range(i+1,n):\n",
    "            if s[i] == s[j]:\n",
    "                dp[i][j] = dp[i+1][j-1]+2\n",
    "            else:\n",
    "                dp[i][j] = max(dp[i+1][j],dp[i][j-1])\n",
    "    return dp[0][n-1]\n",
    "\n",
    "\n",
    "    pass\n",
    "s = \"abaa\"\n",
    "longestPalindromeSubseq(s)"
   ]
  }
 ],
 "metadata": {
  "kernelspec": {
   "display_name": "Python 3",
   "language": "python",
   "name": "python3"
  },
  "language_info": {
   "codemirror_mode": {
    "name": "ipython",
    "version": 3
   },
   "file_extension": ".py",
   "mimetype": "text/x-python",
   "name": "python",
   "nbconvert_exporter": "python",
   "pygments_lexer": "ipython3",
   "version": "3.6.9"
  },
  "toc-autonumbering": false,
  "toc-showcode": false,
  "toc-showmarkdowntxt": false,
  "toc-showtags": false
 },
 "nbformat": 4,
 "nbformat_minor": 4
}
