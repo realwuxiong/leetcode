{
 "cells": [
  {
   "cell_type": "code",
   "execution_count": null,
   "metadata": {},
   "outputs": [],
   "source": [
    "# 1004. 最大连续1的个数 III\n",
    "# https://leetcode-cn.com/problems/max-consecutive-ones-iii/\n",
    "# 又是滑动窗口\n",
    "from typing import List\n",
    "def longestOnes(A: List[int], K: int) -> int:\n",
    "    maxcount = count = 0\n",
    "    first = last = 0\n",
    "    for i in range(len(A)):\n",
    "        if A[i] == 1:\n",
    "            count += 1\n",
    "        if i - first  - count  > K :\n",
    "            if (A[first] == 1):\n",
    "                count -= 1\n",
    "            first += 1\n",
    "        last += 1\n",
    "    print(last - first)\n",
    "    pass\n",
    "A = [0,0,1,1,0,0,1,1,1,0,1,1,0,0,0,1,1,1,1]\n",
    "K = 3\n",
    "longestOnes(A,K)"
   ]
  }
 ],
 "metadata": {
  "kernelspec": {
   "display_name": "Python 3",
   "language": "python",
   "name": "python3"
  },
  "language_info": {
   "codemirror_mode": {
    "name": "ipython",
    "version": 3
   },
   "file_extension": ".py",
   "mimetype": "text/x-python",
   "name": "python",
   "nbconvert_exporter": "python",
   "pygments_lexer": "ipython3",
   "version": "3.8.5"
  }
 },
 "nbformat": 4,
 "nbformat_minor": 4
}
