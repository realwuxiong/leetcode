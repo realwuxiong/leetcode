{
 "cells": [
  {
   "cell_type": "code",
   "execution_count": 19,
   "metadata": {},
   "outputs": [
    {
     "name": "stdout",
     "output_type": "stream",
     "text": [
      "10\n"
     ]
    }
   ],
   "source": [
    "# 518. 零钱兑换 II\n",
    "# https://leetcode-cn.com/problems/coin-change-2/\n",
    "\n",
    "# 艹，又是背包问题，今天我要把这个写出来，跟目标和一样题。感觉回溯也行，但是肯定超时\n",
    "\n",
    "# 我草，总算写出来了。。。。。\n",
    "from typing import List\n",
    "def change(amount: int, coins: List[int]) -> int:\n",
    "\n",
    "    dp = [[0]*(amount+1) for _ in range(len(coins)+1)]\n",
    "    for i in range(len(coins)+1):\n",
    "        dp[i][0] = 1\n",
    "#     print(dp)\n",
    "    for i in range(1,len(coins)+1):\n",
    "        coin = coins[i-1]\n",
    "        for j in range(amount+1):\n",
    "            dp[i][j] = dp[i-1][j]\n",
    "            if coin <= j:\n",
    "                dp[i][j] = dp[i][j] + dp[i][j-coin]\n",
    "    print(dp[len(coins)][amount])\n",
    "    pass\n",
    "amount = 10\n",
    "coins = [1,2,5]\n",
    "change(amount,coins)"
   ]
  }
 ],
 "metadata": {
  "kernelspec": {
   "display_name": "Python 3",
   "language": "python",
   "name": "python3"
  },
  "language_info": {
   "codemirror_mode": {
    "name": "ipython",
    "version": 3
   },
   "file_extension": ".py",
   "mimetype": "text/x-python",
   "name": "python",
   "nbconvert_exporter": "python",
   "pygments_lexer": "ipython3",
   "version": "3.6.9"
  }
 },
 "nbformat": 4,
 "nbformat_minor": 4
}
