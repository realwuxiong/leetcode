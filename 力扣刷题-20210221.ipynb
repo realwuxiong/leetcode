{
 "cells": [
  {
   "cell_type": "code",
   "execution_count": 13,
   "metadata": {},
   "outputs": [
    {
     "name": "stdout",
     "output_type": "stream",
     "text": [
      "0 2\n",
      "1 5\n",
      "2 7\n",
      "3 7\n",
      "4 7\n",
      "5 7\n",
      "6 9\n",
      "7 9\n",
      "8 9\n",
      "5\n"
     ]
    }
   ],
   "source": [
    "# 1438. 绝对差不超过限制的最长连续子数组\n",
    "# https://leetcode-cn.com/problems/longest-continuous-subarray-with-absolute-diff-less-than-or-equal-to-limit/\n",
    "# 超出了时间限制\n",
    "from typing import List\n",
    "def longestSubarray(nums: List[int], limit: int) -> int:\n",
    "    maxlen = 1\n",
    "    for index,num in enumerate(nums):\n",
    "        i = j = index\n",
    "        temMax = temMin = nums[index]\n",
    "        while i < len(nums):\n",
    "            temMax = max(temMax,nums[i])\n",
    "            temMin = min(temMin,nums[i])\n",
    "            if abs(temMax-temMin) > limit:\n",
    "                break\n",
    "            i += 1\n",
    "        print(j,i)\n",
    "        maxlen = max(maxlen,i - j)\n",
    "    print(maxlen)\n",
    "    pass\n",
    "nums = [1,5,6,7,8,10,6,5,6]\n",
    "limit = 4\n",
    "longestSubarray(nums,limit)"
   ]
  }
 ],
 "metadata": {
  "kernelspec": {
   "display_name": "Python 3",
   "language": "python",
   "name": "python3"
  },
  "language_info": {
   "codemirror_mode": {
    "name": "ipython",
    "version": 3
   },
   "file_extension": ".py",
   "mimetype": "text/x-python",
   "name": "python",
   "nbconvert_exporter": "python",
   "pygments_lexer": "ipython3",
   "version": "3.8.5"
  }
 },
 "nbformat": 4,
 "nbformat_minor": 4
}
