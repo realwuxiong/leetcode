{
 "cells": [
  {
   "cell_type": "code",
   "execution_count": 9,
   "id": "996c350f-afcb-4631-a261-5cf44df28adc",
   "metadata": {},
   "outputs": [
    {
     "name": "stdout",
     "output_type": "stream",
     "text": [
      "[0]\n",
      "[1]\n",
      "[2]\n",
      "[2, 3]\n",
      "[2, 3, 4]\n",
      "[2, 5]\n",
      "[6]\n",
      "[6, 7]\n"
     ]
    },
    {
     "data": {
      "text/plain": [
       "[1, 1, 4, 2, 1, 1, 0, 0]"
      ]
     },
     "execution_count": 9,
     "metadata": {},
     "output_type": "execute_result"
    }
   ],
   "source": [
    "# 739. 每日温度\n",
    "# https://leetcode.cn/problems/daily-temperatures/description/?envType=study-plan-v2&envId=top-100-liked\n",
    "# 再次回顾单调栈\n",
    "\n",
    "from typing import List \n",
    "def dailyTemperatures(temperatures: List[int]) -> List[int]:\n",
    "    stack = list()\n",
    "    result = [0] * len(temperatures)\n",
    "    for index in range(len(temperatures)):\n",
    "        while(stack and temperatures[index] > temperatures[stack[-1]]):\n",
    "            result[stack[-1]] = index - stack[-1]\n",
    "            stack.pop()\n",
    "        stack.append(index)\n",
    "    return result\n",
    "\n",
    "temperatures = [73,74,75,71,69,72,76,73]\n",
    "dailyTemperatures(temperatures)"
   ]
  },
  {
   "cell_type": "code",
   "execution_count": null,
   "id": "59ad8cf2-e87d-4500-841f-2f0877b24297",
   "metadata": {},
   "outputs": [],
   "source": []
  }
 ],
 "metadata": {
  "kernelspec": {
   "display_name": "Python 3",
   "language": "python",
   "name": "python3"
  },
  "language_info": {
   "codemirror_mode": {
    "name": "ipython",
    "version": 3
   },
   "file_extension": ".py",
   "mimetype": "text/x-python",
   "name": "python",
   "nbconvert_exporter": "python",
   "pygments_lexer": "ipython3",
   "version": "3.6.9"
  }
 },
 "nbformat": 4,
 "nbformat_minor": 5
}
