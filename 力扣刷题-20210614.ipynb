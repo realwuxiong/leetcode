{
 "cells": [
  {
   "cell_type": "code",
   "execution_count": null,
   "metadata": {},
   "outputs": [],
   "source": [
    "# 374. 猜数字大小\n",
    "# https://leetcode-cn.com/problems/guess-number-higher-or-lower/\n",
    "#  又是二分法，倒是很简单\n",
    "\n",
    "# The guess API is already defined for you.\n",
    "# @param num, your guess\n",
    "# @return -1 if my number is lower, 1 if my number is higher, otherwise return 0\n",
    "# def guess(num: int) -> int:\n",
    "\n",
    "class Solution:\n",
    "    def guessNumber(self, n: int) -> int:\n",
    "        # 又是二分法\n",
    "        low = 1\n",
    "        high = n\n",
    "\n",
    "        while low <= high:\n",
    "            mid = (low+high)//2\n",
    "            if guess(mid) == 0:\n",
    "                return mid\n",
    "            elif guess(mid) == -1:\n",
    "                high = mid -1\n",
    "            else:\n",
    "                low = mid + 1"
   ]
  }
 ],
 "metadata": {
  "kernelspec": {
   "display_name": "Python 3",
   "language": "python",
   "name": "python3"
  },
  "language_info": {
   "codemirror_mode": {
    "name": "ipython",
    "version": 3
   },
   "file_extension": ".py",
   "mimetype": "text/x-python",
   "name": "python",
   "nbconvert_exporter": "python",
   "pygments_lexer": "ipython3",
   "version": "3.6.9"
  }
 },
 "nbformat": 4,
 "nbformat_minor": 4
}
