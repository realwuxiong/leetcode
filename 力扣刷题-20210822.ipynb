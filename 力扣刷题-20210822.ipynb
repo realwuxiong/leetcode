{
 "cells": [
  {
   "cell_type": "code",
   "execution_count": 9,
   "metadata": {},
   "outputs": [
    {
     "name": "stdout",
     "output_type": "stream",
     "text": [
      "[1, 0]\n"
     ]
    },
    {
     "data": {
      "text/plain": [
       "True"
      ]
     },
     "execution_count": 9,
     "metadata": {},
     "output_type": "execute_result"
    }
   ],
   "source": [
    "# 789. 逃脱阻碍者\n",
    "# https://leetcode-cn.com/problems/escape-the-ghosts/\n",
    "\n",
    "from typing import List\n",
    "def escapeGhosts(ghosts: List[List[int]], target: List[int]) -> bool:\n",
    "    \n",
    "    # 说实话，没太懂这个题目的意思，并没有说ghosts是智能的。\n",
    "    # 这个题目也太简单了吧，思路就是，鬼最快到target的花费时间如果小于玩家，那么玩家就跑不出去了\n",
    "    # 因为此时，鬼到了target的位置就可以站着不动了。\n",
    "    minExpense = float(\"INF\")\n",
    "    for ghost in ghosts:\n",
    "        minExpense = min(abs(ghost[0]-target[0]) + abs(ghost[1] - target[1]) , minExpense)\n",
    "        if minExpense <= abs(target[0]) + abs(target[1]):\n",
    "            return False\n",
    "    return True\n",
    "\n",
    "ghosts = [[1,0],[11,0],[21,0],[31,0],[41,0],[51,0],[61,0],[71,0],[81,0],[91,0],[101,0],[111,0],[121,0],[131,0],[141,0],[151,0],[161,0],[171,0],[181,0],[191,0],[201,0],[211,0],[221,0],[231,0],[241,0],[251,0],[261,0],[271,0],[281,0],[291,0],[301,0],[311,0],[321,0],[331,0],[341,0],[351,0],[361,0],[371,0],[381,0],[391,0],[401,0],[411,0],[421,0],[431,0],[441,0],[451,0],[461,0],[471,0],[481,0],[491,0],[501,0],[511,0],[521,0],[531,0],[541,0],[551,0],[561,0],[571,0],[581,0],[591,0],[601,0],[611,0],[621,0],[631,0],[641,0],[651,0],[661,0],[671,0],[681,0],[691,0],[701,0],[711,0],[721,0],[731,0],[741,0],[751,0],[761,0],[771,0],[781,0],[791,0],[801,0],[811,0],[821,0],[831,0],[841,0],[851,0],[861,0],[871,0],[881,0],[891,0],[901,0],[911,0],[921,0],[931,0],[941,0],[951,0],[961,0],[971,0],[981,0],[991,0]]\n",
    "target = [-10000,10000]\n",
    "escapeGhosts(ghosts,target)"
   ]
  }
 ],
 "metadata": {
  "kernelspec": {
   "display_name": "Python 3",
   "language": "python",
   "name": "python3"
  },
  "language_info": {
   "codemirror_mode": {
    "name": "ipython",
    "version": 3
   },
   "file_extension": ".py",
   "mimetype": "text/x-python",
   "name": "python",
   "nbconvert_exporter": "python",
   "pygments_lexer": "ipython3",
   "version": "3.6.9"
  },
  "toc-autonumbering": false,
  "toc-showcode": false,
  "toc-showmarkdowntxt": false,
  "toc-showtags": false
 },
 "nbformat": 4,
 "nbformat_minor": 4
}
