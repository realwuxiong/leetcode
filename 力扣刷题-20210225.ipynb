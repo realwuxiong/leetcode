{
 "cells": [
  {
   "cell_type": "code",
   "execution_count": 3,
   "metadata": {},
   "outputs": [
    {
     "data": {
      "text/plain": [
       "[[1, 4], [2, 5], [3, 6]]"
      ]
     },
     "execution_count": 3,
     "metadata": {},
     "output_type": "execute_result"
    }
   ],
   "source": [
    "# 867. 转置矩阵\n",
    "# https://leetcode-cn.com/problems/transpose-matrix/\n",
    "# 题目太easy了，再刷一个\n",
    "from typing import List\n",
    "def transpose(matrix: List[List[int]]) -> List[List[int]]:\n",
    "    res = []\n",
    "    for i in range(len(matrix[0])):\n",
    "        res.append([0]*len(matrix))\n",
    "    for j in range(len(matrix[0])):\n",
    "        for i in range(len(matrix)):\n",
    "            res[j][i] = matrix[i][j]\n",
    "    return res           \n",
    "matrix = [[1,2,3],[4,5,6]]\n",
    "transpose(matrix)"
   ]
  },
  {
   "cell_type": "code",
   "execution_count": null,
   "metadata": {},
   "outputs": [],
   "source": [
    "# 213. 打家劫舍 II\n",
    "# https://leetcode-cn.com/problems/house-robber-ii/\n",
    "# 198. 打家劫舍\n",
    "# https://leetcode-cn.com/problems/house-robber/solution/da-jia-jie-she-by-leetcode-solution/\n",
    "# 采用的是动态规划的方法（看的答案）\n",
    "# 好好看看动态规划的转移方程\n",
    "from typing import List\n",
    "def rob(nums: List[int]) -> int:"
   ]
  }
 ],
 "metadata": {
  "kernelspec": {
   "display_name": "Python 3",
   "language": "python",
   "name": "python3"
  },
  "language_info": {
   "codemirror_mode": {
    "name": "ipython",
    "version": 3
   },
   "file_extension": ".py",
   "mimetype": "text/x-python",
   "name": "python",
   "nbconvert_exporter": "python",
   "pygments_lexer": "ipython3",
   "version": "3.8.5"
  }
 },
 "nbformat": 4,
 "nbformat_minor": 4
}
