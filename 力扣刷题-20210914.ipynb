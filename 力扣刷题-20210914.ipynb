{
 "cells": [
  {
   "cell_type": "code",
   "execution_count": 38,
   "metadata": {},
   "outputs": [
    {
     "data": {
      "text/plain": [
       "'ewaf'"
      ]
     },
     "execution_count": 38,
     "metadata": {},
     "output_type": "execute_result"
    }
   ],
   "source": [
    "# 524. 通过删除字母匹配到字典里最长单词\n",
    "# https://leetcode-cn.com/problems/longest-word-in-dictionary-through-deleting/\n",
    "\n",
    "from typing import List\n",
    "def findLongestWord(s: str, dictionary: List[str]) -> str:\n",
    "    # 最长公共子串,直接超时\n",
    "    ans = \"\"\n",
    "    for dic in dictionary:\n",
    "        if len(dic) > len(s):\n",
    "            continue\n",
    "        m = len(s)\n",
    "        n = len(dic)\n",
    "        dp = [[0]* (n+1) for _ in range(m+1)]\n",
    "        \n",
    "        for i in range(1,m+1):\n",
    "            for j in range(1,n+1):\n",
    "                if dic[j-1] == s[i-1]:\n",
    "                    dp[i][j] = dp[i-1][j-1] + 1\n",
    "                else:\n",
    "                    dp[i][j] = max(dp[i-1][j],dp[i][j-1])  \n",
    "                    \n",
    "        if dp[m][n] == len(dic):\n",
    "            if len(dic) == len(ans):\n",
    "                ans = min(dic,ans)\n",
    "            if len(dic) > len(ans):\n",
    "                ans = dic\n",
    "\n",
    "\n",
    "    return ans\n",
    "    pass\n",
    "s = \"aewfafwafjlwajflwajflwafj\"\n",
    "dictionary = [\"apple\",\"ewaf\",\"awefawfwaf\",\"awef\",\"awefe\",\"ewafeffewafewf\"]\n",
    "findLongestWord(s,dictionary)\n"
   ]
  },
  {
   "cell_type": "code",
   "execution_count": null,
   "metadata": {},
   "outputs": [],
   "source": [
    "# 答案的做法，双指针\n",
    "class Solution:\n",
    "    def findLongestWord(self, s: str, dictionary: List[str]) -> str:\n",
    "        res = \"\"\n",
    "        for t in dictionary:\n",
    "            i = j = 0\n",
    "            while i < len(t) and j < len(s):\n",
    "                if t[i] == s[j]:\n",
    "                    i += 1\n",
    "                j += 1\n",
    "            if i == len(t):\n",
    "                if len(t) > len(res) or (len(t) == len(res) and t < res):\n",
    "                    res = t\n",
    "        return res\n",
    "\n"
   ]
  },
  {
   "cell_type": "code",
   "execution_count": 1,
   "metadata": {},
   "outputs": [
    {
     "name": "stdout",
     "output_type": "stream",
     "text": [
      "[1, 3, 4, 5, 6, 7, 8, 9]\n"
     ]
    }
   ],
   "source": [
    "# 合并两个有序数组\n",
    "nums1 = [1,4,8,9]\n",
    "nums2 = [3,5,6,7]\n",
    "\n",
    "m,n = len(nums1),len(nums2)\n",
    "\n",
    "ans = []\n",
    "i,j = 0,0\n",
    "while i < m or j < n:\n",
    "#     print(i,j,m,n)\n",
    "    if i < m:\n",
    "        a = nums1[i]\n",
    "    else:\n",
    "        a = float(\"INF\")\n",
    "    if j < n:\n",
    "        b = nums2[j]\n",
    "    else:\n",
    "        b = float(\"INF\")\n",
    "    \n",
    "    if a < b:\n",
    "        ans.append(a)\n",
    "        i += 1\n",
    "    else:\n",
    "        ans.append(b)\n",
    "        j += 1\n",
    "print(ans)"
   ]
  }
 ],
 "metadata": {
  "kernelspec": {
   "display_name": "Python 3",
   "language": "python",
   "name": "python3"
  },
  "language_info": {
   "codemirror_mode": {
    "name": "ipython",
    "version": 3
   },
   "file_extension": ".py",
   "mimetype": "text/x-python",
   "name": "python",
   "nbconvert_exporter": "python",
   "pygments_lexer": "ipython3",
   "version": "3.6.9"
  },
  "toc-autonumbering": false,
  "toc-showcode": false,
  "toc-showmarkdowntxt": false,
  "toc-showtags": false
 },
 "nbformat": 4,
 "nbformat_minor": 4
}
