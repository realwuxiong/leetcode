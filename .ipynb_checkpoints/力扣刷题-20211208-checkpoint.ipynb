{
 "cells": [
  {
   "cell_type": "code",
   "execution_count": null,
   "metadata": {},
   "outputs": [],
   "source": [
    "# 689. 三个无重叠子数组的最大和\n",
    "# https://leetcode-cn.com/problems/maximum-sum-of-3-non-overlapping-subarrays/\n",
    "\n",
    "from typing import List\n",
    "def maxSumOfThreeSubarrays(nums: List[int], k: int) -> List[int]:\n",
    "    pass\n",
    "nums = [1,2,1,2,6,7,5,1]\n",
    "k = 2\n",
    "maxSumOfThreeSubarrays(nums,k)"
   ]
  }
 ],
 "metadata": {
  "kernelspec": {
   "display_name": "Python 3",
   "language": "python",
   "name": "python3"
  },
  "language_info": {
   "codemirror_mode": {
    "name": "ipython",
    "version": 3
   },
   "file_extension": ".py",
   "mimetype": "text/x-python",
   "name": "python",
   "nbconvert_exporter": "python",
   "pygments_lexer": "ipython3",
   "version": "3.6.9"
  },
  "toc-autonumbering": false,
  "toc-showcode": false,
  "toc-showmarkdowntxt": false,
  "toc-showtags": false
 },
 "nbformat": 4,
 "nbformat_minor": 4
}
