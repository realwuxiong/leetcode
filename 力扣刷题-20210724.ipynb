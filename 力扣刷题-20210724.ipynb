{
 "cells": [
  {
   "cell_type": "code",
   "execution_count": 6,
   "metadata": {},
   "outputs": [
    {
     "data": {
      "text/plain": [
       "'23:59'"
      ]
     },
     "execution_count": 6,
     "metadata": {},
     "output_type": "execute_result"
    }
   ],
   "source": [
    "# 1736. 替换隐藏数字得到的最晚时间\n",
    "# https://leetcode-cn.com/problems/latest-time-by-replacing-hidden-digits/\n",
    "\n",
    "def maximumTime(time: str) -> str:\n",
    "    flages = [False]*5\n",
    "    for i,t in enumerate(time):\n",
    "        flages[i] = True if time[i] == \"?\" else False\n",
    "    ans = list(time)\n",
    "    if flages[4]:\n",
    "        ans[4]=\"9\"\n",
    "    if flages[3]:\n",
    "        ans[3]=\"5\"\n",
    "    if flages[0] :\n",
    "        ans[0] = \"2\" if (flages[1] or int(time[1])<4) else \"1\"\n",
    "    if flages[1]:\n",
    "        ans[1] = \"3\" if (flages[0] or int(time[0])==2) else \"9\"\n",
    "    \n",
    "    return ''.join(ans)\n",
    "    pass\n",
    "time = \"??:??\"\n",
    "maximumTime(time)"
   ]
  }
 ],
 "metadata": {
  "kernelspec": {
   "display_name": "Python 3",
   "language": "python",
   "name": "python3"
  },
  "language_info": {
   "codemirror_mode": {
    "name": "ipython",
    "version": 3
   },
   "file_extension": ".py",
   "mimetype": "text/x-python",
   "name": "python",
   "nbconvert_exporter": "python",
   "pygments_lexer": "ipython3",
   "version": "3.6.9"
  },
  "toc-autonumbering": false,
  "toc-showcode": false,
  "toc-showmarkdowntxt": false,
  "toc-showtags": false
 },
 "nbformat": 4,
 "nbformat_minor": 4
}
