{
 "cells": [
  {
   "cell_type": "code",
   "execution_count": null,
   "metadata": {},
   "outputs": [],
   "source": [
    "# 372. 超级次方\n",
    "# https://leetcode-cn.com/problems/super-pow/\n",
    "from typing import List\n",
    "\n",
    "# 想法是对的，用dfs，但是没写出来。。。看一下答案算了\n",
    "def superPow(a: int, b: List[int]) -> int:\n",
    "    n = len(b)\n",
    "    NUM = 1337\n",
    "    for i in range(-n,-1,-1):\n",
    "        pass\n",
    "    \n",
    "    # c是单位，单位是几位数，x是该单位的值\n",
    "    # 如myMOD(2,3)  表示200\n",
    "    # myMOD(4,2) 表示40\n",
    "    def myMOD(x,c):\n",
    "        \n",
    "        if \n",
    "    \n",
    "    pass\n",
    "a = 1\n",
    "b = [4,3,3,8,5,2]\n",
    "superPow(a,b)"
   ]
  },
  {
   "cell_type": "code",
   "execution_count": null,
   "metadata": {},
   "outputs": [],
   "source": [
    "class Solution {\n",
    "    int MOD = 1337;\n",
    "    public int superPow(int a, int[] b) {\n",
    "        return dfs(a, b, b.length - 1);\n",
    "    }\n",
    "    int dfs(int a, int[] b, int u) {\n",
    "        if (u == -1) return 1;\n",
    "        return qpow(dfs(a, b, u - 1), 10) * qpow(a, b[u]) % MOD;\n",
    "    }\n",
    "    int qpow(int a, int b) {\n",
    "        int ans = 1;\n",
    "        a %= MOD;\n",
    "        while (b != 0) {\n",
    "            if ((b & 1) != 0) ans = ans * a % MOD;\n",
    "            a = a * a % MOD;\n",
    "            b >>= 1;\n",
    "        }\n",
    "        return ans;\n",
    "    }\n",
    "}\n",
    "\n"
   ]
  }
 ],
 "metadata": {
  "kernelspec": {
   "display_name": "Python 3",
   "language": "python",
   "name": "python3"
  },
  "language_info": {
   "codemirror_mode": {
    "name": "ipython",
    "version": 3
   },
   "file_extension": ".py",
   "mimetype": "text/x-python",
   "name": "python",
   "nbconvert_exporter": "python",
   "pygments_lexer": "ipython3",
   "version": "3.6.9"
  },
  "toc-autonumbering": false,
  "toc-showcode": false,
  "toc-showmarkdowntxt": false,
  "toc-showtags": false
 },
 "nbformat": 4,
 "nbformat_minor": 4
}
