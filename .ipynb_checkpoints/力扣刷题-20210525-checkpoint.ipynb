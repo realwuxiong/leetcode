{
 "cells": [
  {
   "cell_type": "code",
   "execution_count": null,
   "metadata": {},
   "outputs": [],
   "source": [
    "# 1787. 使所有区间的异或结果为零\n",
    "# https://leetcode-cn.com/problems/make-the-xor-of-all-segments-equal-to-zero/\n",
    "\n",
    "# 我猜是用动态规划。。\n",
    "# 卧槽，怎么天天都是hard题。。。。。\n",
    "class Solution {\n",
    "    // x 的范围为 [0, 2^10)\n",
    "    static final int MAXX = 1 << 10;\n",
    "    // 极大值，为了防止整数溢出选择 INT_MAX / 2\n",
    "    static final int INFTY = Integer.MAX_VALUE / 2;\n",
    "\n",
    "    public int minChanges(int[] nums, int k) {\n",
    "        int n = nums.length;\n",
    "        int[] f = new int[MAXX];\n",
    "        Arrays.fill(f, INFTY);\n",
    "        // 边界条件 f(-1,0)=0\n",
    "        f[0] = 0;\n",
    "        \n",
    "        for (int i = 0; i < k; ++i) {\n",
    "            // 第 i 个组的哈希映射\n",
    "            Map<Integer, Integer> cnt = new HashMap<Integer, Integer>();\n",
    "            int size = 0;\n",
    "            for (int j = i; j < n; j += k) {\n",
    "                cnt.put(nums[j], cnt.getOrDefault(nums[j], 0) + 1);\n",
    "                ++size;\n",
    "            }\n",
    "\n",
    "            // 求出 t2\n",
    "            int t2min = Arrays.stream(f).min().getAsInt();\n",
    "\n",
    "            int[] g = new int[MAXX];\n",
    "            Arrays.fill(g, t2min);\n",
    "            for (int mask = 0; mask < MAXX; ++mask) {\n",
    "                // t1 则需要枚举 x 才能求出\n",
    "                for (Map.Entry<Integer, Integer> entry : cnt.entrySet()) {\n",
    "                    int x = entry.getKey(), countx = entry.getValue();\n",
    "                    g[mask] = Math.min(g[mask], f[mask ^ x] - countx);\n",
    "                }\n",
    "            }\n",
    "            \n",
    "            // 别忘了加上 size\n",
    "            for (int j = 0; j < MAXX; ++j) {\n",
    "                g[j] += size;\n",
    "            }\n",
    "            f = g;\n",
    "        }\n",
    "\n",
    "        return f[0];\n",
    "    }\n",
    "}\n"
   ]
  }
 ],
 "metadata": {
  "kernelspec": {
   "display_name": "Python 3",
   "language": "python",
   "name": "python3"
  },
  "language_info": {
   "codemirror_mode": {
    "name": "ipython",
    "version": 3
   },
   "file_extension": ".py",
   "mimetype": "text/x-python",
   "name": "python",
   "nbconvert_exporter": "python",
   "pygments_lexer": "ipython3",
   "version": "3.6.9"
  }
 },
 "nbformat": 4,
 "nbformat_minor": 4
}
