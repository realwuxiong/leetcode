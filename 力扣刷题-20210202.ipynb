{
 "cells": [
  {
   "cell_type": "code",
   "execution_count": null,
   "metadata": {},
   "outputs": [],
   "source": [
    "# 424. 替换后的最长重复字符\n",
    "# https://leetcode-cn.com/problems/longest-repeating-character-replacement/\n",
    "# 采用双指针的方法，以下的方法是官方的答案。。好好理解一下滑动窗口和双指针\n",
    "\n",
    "class Solution:\n",
    "    def characterReplacement(self, s: str, k: int) -> int:\n",
    "        num = [0] * 26\n",
    "        n = len(s)\n",
    "        maxn = left = right = 0\n",
    "\n",
    "        while right < n:\n",
    "            num[ord(s[right]) - ord(\"A\")] += 1\n",
    "            maxn = max(maxn, num[ord(s[right]) - ord(\"A\")])\n",
    "            if right - left + 1 - maxn > k:\n",
    "                num[ord(s[left]) - ord(\"A\")] -= 1\n",
    "                left += 1\n",
    "            right += 1\n",
    "        \n",
    "        return right - left\n",
    "\n"
   ]
  }
 ],
 "metadata": {
  "kernelspec": {
   "display_name": "Python 3",
   "language": "python",
   "name": "python3"
  },
  "language_info": {
   "codemirror_mode": {
    "name": "ipython",
    "version": 3
   },
   "file_extension": ".py",
   "mimetype": "text/x-python",
   "name": "python",
   "nbconvert_exporter": "python",
   "pygments_lexer": "ipython3",
   "version": "3.8.5"
  }
 },
 "nbformat": 4,
 "nbformat_minor": 4
}
