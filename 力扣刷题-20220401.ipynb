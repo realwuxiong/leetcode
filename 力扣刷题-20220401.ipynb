{
 "cells": [
  {
   "cell_type": "code",
   "execution_count": 3,
   "metadata": {},
   "outputs": [
    {
     "name": "stdout",
     "output_type": "stream",
     "text": [
      "Counter({2: 2, 1: 1, 6: 1})\n"
     ]
    },
    {
     "data": {
      "text/plain": [
       "False"
      ]
     },
     "execution_count": 3,
     "metadata": {},
     "output_type": "execute_result"
    }
   ],
   "source": [
    "# 954. 二倍数对数组\n",
    "# https://leetcode-cn.com/problems/array-of-doubled-pairs/\n",
    "\n",
    "from typing import List\n",
    "from collections import Counter\n",
    "def canReorderDoubled(arr: List[int]) -> bool:\n",
    "    cnt = Counter(arr)\n",
    "    print(cnt)\n",
    "    if cnt[0] % 2:\n",
    "        return False\n",
    "    for x in sorted(cnt, key=abs):\n",
    "        if cnt[2 * x] < cnt[x]:  # 无法找到足够的 2x 与 x 配对\n",
    "            return False\n",
    "        cnt[2 * x] -= cnt[x]\n",
    "    return True\n",
    "    pass\n",
    "\n",
    "arr = [2,1,2,6]\n",
    "canReorderDoubled(arr)"
   ]
  }
 ],
 "metadata": {
  "kernelspec": {
   "display_name": "Python 3",
   "language": "python",
   "name": "python3"
  },
  "language_info": {
   "codemirror_mode": {
    "name": "ipython",
    "version": 3
   },
   "file_extension": ".py",
   "mimetype": "text/x-python",
   "name": "python",
   "nbconvert_exporter": "python",
   "pygments_lexer": "ipython3",
   "version": "3.6.9"
  },
  "toc-autonumbering": false,
  "toc-showcode": false,
  "toc-showmarkdowntxt": false,
  "toc-showtags": false
 },
 "nbformat": 4,
 "nbformat_minor": 4
}
