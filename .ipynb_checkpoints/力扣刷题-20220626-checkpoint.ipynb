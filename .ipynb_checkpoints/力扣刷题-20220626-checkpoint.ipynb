{
 "cells": [
  {
   "cell_type": "code",
   "execution_count": 33,
   "metadata": {},
   "outputs": [
    {
     "data": {
      "text/plain": [
       "9"
      ]
     },
     "execution_count": 33,
     "metadata": {},
     "output_type": "execute_result"
    }
   ],
   "source": [
    "# 522. 最长特殊序列 II\n",
    "# https://leetcode.cn/problems/longest-uncommon-subsequence-ii/\n",
    "\n",
    "from typing import List\n",
    "def findLUSlength(strs: List[str]) -> int:\n",
    "    # 搞了半天是个暴力破解的题，没写出来，看的答案。按照我的思路写，判断语句太多了。\n",
    "    \"\"\"\n",
    "    2 <= strs.length <= 50\n",
    "    1 <= strs[i].length <= 10\n",
    "    strs[i] 只包含小写英文字母\n",
    "    \"\"\"\n",
    "    def is_subseq(s: str, t: str) -> bool:\n",
    "        pt_s = pt_t = 0\n",
    "        while pt_s < len(s) and pt_t < len(t):\n",
    "            if s[pt_s] == t[pt_t]:\n",
    "                pt_s += 1\n",
    "            pt_t += 1\n",
    "        return pt_s == len(s)\n",
    "\n",
    "    ans = -1\n",
    "    for i, s in enumerate(strs):\n",
    "        check = True\n",
    "        for j, t in enumerate(strs):\n",
    "            if i != j and is_subseq(s, t):\n",
    "                check = False\n",
    "                break\n",
    "        if check:\n",
    "            ans = max(ans, len(s))\n",
    "\n",
    "    return ans\n",
    "\n",
    "\n",
    "strs = [\"aba\",\"cdc\",\"eae\",\"abcdsdsad\",\"dsa\",\"cccccccc\"]\n",
    "findLUSlength(strs)\n"
   ]
  }
 ],
 "metadata": {
  "kernelspec": {
   "display_name": "Python 3",
   "language": "python",
   "name": "python3"
  },
  "language_info": {
   "codemirror_mode": {
    "name": "ipython",
    "version": 3
   },
   "file_extension": ".py",
   "mimetype": "text/x-python",
   "name": "python",
   "nbconvert_exporter": "python",
   "pygments_lexer": "ipython3",
   "version": "3.6.9"
  },
  "toc-autonumbering": false,
  "toc-showcode": false,
  "toc-showmarkdowntxt": false,
  "toc-showtags": false
 },
 "nbformat": 4,
 "nbformat_minor": 4
}
