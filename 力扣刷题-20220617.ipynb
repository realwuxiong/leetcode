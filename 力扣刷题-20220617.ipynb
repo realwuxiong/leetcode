{
 "cells": [
  {
   "cell_type": "code",
   "execution_count": 2,
   "metadata": {},
   "outputs": [
    {
     "name": "stdout",
     "output_type": "stream",
     "text": [
      "[1, 0, 0, 2, 3, 0, 0, 4]\n"
     ]
    }
   ],
   "source": [
    "# 1089. 复写零\n",
    "# https://leetcode.cn/problems/duplicate-zeros/\n",
    "\n",
    "from typing import List\n",
    "def duplicateZeros(arr: List[int]) -> None:\n",
    "    \"\"\"\n",
    "    Do not return anything, modify arr in-place instead.\n",
    "    \"\"\"\n",
    "    # 简单题，今天美滋滋，今天发双证！\n",
    "    n = len(arr)\n",
    "    i = 0\n",
    "    while i < n:\n",
    "        if arr[i] == 0:\n",
    "            # 全体后移\n",
    "            t = n -1 \n",
    "            while t > i:\n",
    "                arr[t] = arr[t-1]\n",
    "                t -= 1\n",
    "            i += 2\n",
    "        else:\n",
    "            i += 1\n",
    "    print(arr)\n",
    "            \n",
    "    \n",
    "    \n",
    "    pass\n",
    "arr = [1,0,2,3,0,4,5,0]\n",
    "duplicateZeros(arr)"
   ]
  }
 ],
 "metadata": {
  "kernelspec": {
   "display_name": "Python 3",
   "language": "python",
   "name": "python3"
  },
  "language_info": {
   "codemirror_mode": {
    "name": "ipython",
    "version": 3
   },
   "file_extension": ".py",
   "mimetype": "text/x-python",
   "name": "python",
   "nbconvert_exporter": "python",
   "pygments_lexer": "ipython3",
   "version": "3.6.9"
  },
  "toc-autonumbering": false,
  "toc-showcode": false,
  "toc-showmarkdowntxt": false,
  "toc-showtags": false
 },
 "nbformat": 4,
 "nbformat_minor": 4
}
