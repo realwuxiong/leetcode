{
 "cells": [
  {
   "cell_type": "code",
   "execution_count": 21,
   "metadata": {},
   "outputs": [
    {
     "name": "stdout",
     "output_type": "stream",
     "text": [
      "False\n"
     ]
    }
   ],
   "source": [
    "# //  605. 种花问题\n",
    "# //  https://leetcode-cn.com/problems/can-place-flowers/\n",
    "\n",
    "# 下面的写错了 想的太简单，也想的太复杂了\n",
    "\n",
    "def canPlaceFlowers(flowerbed, n: int) -> bool:\n",
    "    ans=0\n",
    "    if(len(flowerbed)==1 and flowerbed[0]==0):\n",
    "        return True\n",
    "    for i in range(1,len(flowerbed)-1):  # 从1开始\n",
    "        print(flowerbed)\n",
    "        if(flowerbed[i]==0 and flowerbed[i-1]==0 and flowerbed[i+1]==0 ):\n",
    "            flowerbed[i]=1\n",
    "            ans+=1\n",
    "            continue\n",
    "        if(flowerbed[i]==0 and flowerbed[i-1]==0 and flowerbed[i+1]==1 ):\n",
    "            flowerbed[i-1]=1\n",
    "            ans+=1\n",
    "            continue\n",
    "        if(flowerbed[i]==0 and flowerbed[i-1]==1 and flowerbed[i+1]==0 ):\n",
    "            flowerbed[i+1]=1\n",
    "            ans+=1\n",
    "            continue\n",
    "    pre =flowerbed[0]\n",
    "    for i in range(1,len(flowerbed)):\n",
    "        if(flowerbed[i]==1 and pre==1):\n",
    "            return False\n",
    "        pre = flowerbed[i]\n",
    "    return (ans-n)>=0\n",
    "    pass\n",
    "flowerbed = [0]\n",
    "n = 1\n",
    "print(canPlaceFlowers(flowerbed,n))"
   ]
  },
  {
   "cell_type": "code",
   "execution_count": 23,
   "metadata": {},
   "outputs": [],
   "source": []
  }
 ],
 "metadata": {
  "kernelspec": {
   "display_name": "Python 3",
   "language": "python",
   "name": "python3"
  },
  "language_info": {
   "codemirror_mode": {
    "name": "ipython",
    "version": 3
   },
   "file_extension": ".py",
   "mimetype": "text/x-python",
   "name": "python",
   "nbconvert_exporter": "python",
   "pygments_lexer": "ipython3",
   "version": "3.8.5"
  }
 },
 "nbformat": 4,
 "nbformat_minor": 4
}
