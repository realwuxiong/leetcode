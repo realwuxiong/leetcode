{
 "cells": [
  {
   "cell_type": "code",
   "execution_count": 21,
   "metadata": {},
   "outputs": [
    {
     "name": "stdout",
     "output_type": "stream",
     "text": [
      "1\n"
     ]
    }
   ],
   "source": [
    "# 剑指 Offer 53 - I. 在排序数组中查找数字 I\n",
    "# https://leetcode-cn.com/problems/zai-pai-xu-shu-zu-zhong-cha-zhao-shu-zi-lcof/\n",
    "# 边界问题，要多多考虑\n",
    "from typing import List\n",
    "def search(nums: List[int], target: int) -> int:\n",
    "    # 二分法\n",
    "    n = len(nums)\n",
    "    if n < 1:\n",
    "        return 0\n",
    "    low = 0\n",
    "    high = len(nums)-1\n",
    "    while low < high:\n",
    "        mid = low + (high - low) // 2\n",
    "        if nums[mid] < target:\n",
    "            low = mid+1\n",
    "        elif nums[mid] > target :\n",
    "            high = mid -1\n",
    "        else:\n",
    "            low = mid\n",
    "            break\n",
    "    ans = 0\n",
    "    index = low\n",
    "    while index > -1  and nums[index] == target:\n",
    "        ans += 1\n",
    "        index -= 1\n",
    "    index = low+1\n",
    "    while index < n  and nums[index] == target:\n",
    "        ans += 1\n",
    "        index += 1\n",
    "    print(ans)\n",
    "    pass\n",
    "nums =  [5,7,7,7,7,7,7,7,7,8,8,10,10]\n",
    "target = 5\n",
    "search(nums,target)"
   ]
  }
 ],
 "metadata": {
  "kernelspec": {
   "display_name": "Python 3",
   "language": "python",
   "name": "python3"
  },
  "language_info": {
   "codemirror_mode": {
    "name": "ipython",
    "version": 3
   },
   "file_extension": ".py",
   "mimetype": "text/x-python",
   "name": "python",
   "nbconvert_exporter": "python",
   "pygments_lexer": "ipython3",
   "version": "3.6.9"
  }
 },
 "nbformat": 4,
 "nbformat_minor": 4
}
