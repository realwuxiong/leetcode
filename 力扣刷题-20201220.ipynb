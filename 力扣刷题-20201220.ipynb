{
 "cells": [
  {
   "cell_type": "code",
   "execution_count": 41,
   "metadata": {},
   "outputs": [
    {
     "data": {
      "text/plain": [
       "'bac'"
      ]
     },
     "execution_count": 41,
     "metadata": {},
     "output_type": "execute_result"
    }
   ],
   "source": [
    "# https://leetcode-cn.com/problems/remove-duplicate-letters/\n",
    "# 去除重复字母\n",
    "# 还是有问题，看看官方答案吧\n",
    "\n",
    "def removeDuplicateLetters(s: str) -> str:\n",
    "    s_list = list(s)\n",
    "    stack=[]\n",
    "    values = [] #存value\n",
    "    important={} # 存关键字\n",
    "    for index in range(len(s_list)):\n",
    "        # 删除关键字\n",
    "#         print(stack)\n",
    "#         print(important)\n",
    "        if(stack and s_list[index] in important.keys()):\n",
    "            stack.remove(important[s_list[index]])\n",
    "            important.pop(s_list[index])\n",
    "            values.remove(s_list[index])\n",
    "        \n",
    "        for \n",
    "        if(stack and s_list[index] < s_list[stack[-1]]):\n",
    "            important_key = s_list[stack[-1]]\n",
    "            important[important_key] = stack[-1] #存关键字\n",
    "\n",
    "            \n",
    "        if(s_list[index] not in values):\n",
    "            stack.append(index)\n",
    "            values.append(s_list[index])\n",
    "    return \"\".join([s_list[x] for x in stack])\n",
    "s = \"bcabc\"\n",
    "a =removeDuplicateLetters(s)\n",
    "a"
   ]
  },
  {
   "cell_type": "code",
   "execution_count": 34,
   "metadata": {},
   "outputs": [
    {
     "name": "stdout",
     "output_type": "stream",
     "text": [
      "False\n"
     ]
    },
    {
     "data": {
      "text/plain": [
       "[1, 3, 4, 5]"
      ]
     },
     "execution_count": 34,
     "metadata": {},
     "output_type": "execute_result"
    }
   ],
   "source": [
    "a = [1,3,4,5]\n",
    "print(1 not in a)\n",
    "a"
   ]
  }
 ],
 "metadata": {
  "kernelspec": {
   "display_name": "Python 3",
   "language": "python",
   "name": "python3"
  },
  "language_info": {
   "codemirror_mode": {
    "name": "ipython",
    "version": 3
   },
   "file_extension": ".py",
   "mimetype": "text/x-python",
   "name": "python",
   "nbconvert_exporter": "python",
   "pygments_lexer": "ipython3",
   "version": "3.8.5"
  }
 },
 "nbformat": 4,
 "nbformat_minor": 4
}
