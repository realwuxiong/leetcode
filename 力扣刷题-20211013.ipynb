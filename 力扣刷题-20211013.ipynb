{
 "cells": [
  {
   "cell_type": "code",
   "execution_count": 1,
   "metadata": {},
   "outputs": [
    {
     "data": {
      "text/plain": [
       "[1,\n",
       " 2,\n",
       " 'Fizz',\n",
       " 4,\n",
       " 'Buzz',\n",
       " 'Fizz',\n",
       " 7,\n",
       " 8,\n",
       " 'Fizz',\n",
       " 'Buzz',\n",
       " 11,\n",
       " 'Fizz',\n",
       " 13,\n",
       " 14,\n",
       " 'FizzBuzz']"
      ]
     },
     "execution_count": 1,
     "metadata": {},
     "output_type": "execute_result"
    }
   ],
   "source": [
    "# 412. Fizz Buzz\n",
    "# https://leetcode-cn.com/problems/fizz-buzz/\n",
    "\n",
    "from typing import List\n",
    "def fizzBuzz(n: int) -> List[str]:\n",
    "    labels = [\"Fizz\",\"Buzz\",\"FizzBuzz\"]\n",
    "    ans = []\n",
    "    \n",
    "    for i in range(1,n+1):\n",
    "        if i % 3 == 0 and i % 5 == 0:\n",
    "            ans.append(labels[2])\n",
    "        elif i % 3 == 0:\n",
    "            ans.append(labels[0])\n",
    "        elif i % 5 == 0:\n",
    "            ans.append(labels[1])\n",
    "        else:\n",
    "            ans.append(str(i))\n",
    "    return ans\n",
    "            \n",
    "    \n",
    "    \n",
    "    pass\n",
    "fizzBuzz(15)"
   ]
  }
 ],
 "metadata": {
  "kernelspec": {
   "display_name": "Python 3",
   "language": "python",
   "name": "python3"
  },
  "language_info": {
   "codemirror_mode": {
    "name": "ipython",
    "version": 3
   },
   "file_extension": ".py",
   "mimetype": "text/x-python",
   "name": "python",
   "nbconvert_exporter": "python",
   "pygments_lexer": "ipython3",
   "version": "3.6.9"
  },
  "toc-autonumbering": false,
  "toc-showcode": false,
  "toc-showmarkdowntxt": false,
  "toc-showtags": false
 },
 "nbformat": 4,
 "nbformat_minor": 4
}
