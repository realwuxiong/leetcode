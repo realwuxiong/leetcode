{
 "cells": [
  {
   "cell_type": "code",
   "execution_count": 35,
   "metadata": {},
   "outputs": [
    {
     "name": "stdout",
     "output_type": "stream",
     "text": [
      "['011111', '001', '001'] ['001', '001', '011111']\n",
      "2\n"
     ]
    }
   ],
   "source": [
    "# 474. 一和零\n",
    "# https://leetcode-cn.com/problems/ones-and-zeroes/\n",
    "from typing import List\n",
    "def findMaxForm(strs: List[str], m: int, n: int) -> int:\n",
    "    # 用贪心算法  67 / 70 个通过测试用例,还是不行，，还是得动态规划。。。。\n",
    "\n",
    "    import collections\n",
    "    import functools\n",
    "    def cmp1(s1,s2):\n",
    "        counter1 = collections.Counter(s1)\n",
    "        counter2 = collections.Counter(s2)\n",
    "        if counter1[\"0\"] > counter2[\"0\"]:\n",
    "            return 1\n",
    "        elif  counter1[\"0\"] < counter2[\"0\"]:\n",
    "            return -1\n",
    "        else:\n",
    "            if  counter1[\"1\"] > counter2[\"1\"]:\n",
    "                return 1\n",
    "            else:\n",
    "                return -1\n",
    "    def cmp2(s1,s2):\n",
    "        counter1 = collections.Counter(s1)\n",
    "        counter2 = collections.Counter(s2)\n",
    "        if counter1[\"1\"] > counter2[\"1\"]:\n",
    "            return 1\n",
    "        elif  counter1[\"1\"] < counter2[\"1\"]:\n",
    "            return -1\n",
    "        else:\n",
    "            if  counter1[\"0\"] > counter2[\"0\"]:\n",
    "                return 1\n",
    "            else:\n",
    "                return -1\n",
    "#     print(strs)\n",
    "    strs1 = sorted(strs,key=functools.cmp_to_key(cmp1))\n",
    "    strs2 = sorted(strs,key=functools.cmp_to_key(cmp2))\n",
    "        \n",
    "#     print(strs)\n",
    "    sum0 = 0\n",
    "    sum1 = 0\n",
    "    ans1 = 0\n",
    "#     print(strs1,strs2)\n",
    "    for s in strs1:\n",
    "        a = collections.Counter(s)\n",
    "        if sum0 + a[\"0\"] <= m and sum1+a[\"1\"]<=n:\n",
    "            sum0 += a[\"0\"]\n",
    "            sum1 += a[\"1\"]\n",
    "            ans1 += 1\n",
    "    ans2 = 0\n",
    "    sum0 = 0\n",
    "    sum1 = 0\n",
    "    for s in strs2:\n",
    "        a = collections.Counter(s)\n",
    "        if sum0 + a[\"0\"] <= m and sum1+a[\"1\"]<=n:\n",
    "            sum0 += a[\"0\"]\n",
    "            sum1 += a[\"1\"]\n",
    "            ans2 += 1\n",
    "\n",
    "    print(max(ans1,ans2))\n",
    "strs = [\"011111\",\"001\",\"001\"]\n",
    "m = 4\n",
    "n = 5\n",
    "findMaxForm(strs,m,n)"
   ]
  },
  {
   "cell_type": "code",
   "execution_count": 2,
   "metadata": {},
   "outputs": [
    {
     "name": "stdout",
     "output_type": "stream",
     "text": [
      "4\n"
     ]
    }
   ],
   "source": [
    "# 标准答案\n",
    "from typing import List\n",
    "\n",
    "# 01 背包问题, 照着答案写的，。，，，，写了个大概，但是细节还是有点问题\n",
    "def findMaxForm(strs: List[str], m: int, n: int) -> int:\n",
    "    dp = []\n",
    "    for _ in range(len(strs)+1):\n",
    "        dp.append([[0]*(n+1) for _ in range(m+1)])\n",
    "    \n",
    "    import collections\n",
    "    for i in range(1,len(strs)+1):\n",
    "        mymap = collections.Counter(strs[i-1])\n",
    "        for j in range(0,m+1):\n",
    "            for k in range(0,n+1):\n",
    "                dp[i][j][k] = dp[i - 1][j][k]\n",
    "                if(mymap[\"0\"] <= j and mymap[\"1\"] <= k):\n",
    "                    dp[i][j][k] = max(dp[i][j][k], dp[i-1][j-mymap[\"0\"]][k-mymap[\"1\"]]+1)\n",
    "\n",
    "    print(dp[len(strs)][m][n])  \n",
    "#     print(dp)\n",
    "    pass\n",
    "strs = [\"10\", \"0001\", \"111001\", \"1\", \"0\"]\n",
    "m = 5\n",
    "n = 3\n",
    "findMaxForm(strs,m,n)"
   ]
  }
 ],
 "metadata": {
  "kernelspec": {
   "display_name": "Python 3",
   "language": "python",
   "name": "python3"
  },
  "language_info": {
   "codemirror_mode": {
    "name": "ipython",
    "version": 3
   },
   "file_extension": ".py",
   "mimetype": "text/x-python",
   "name": "python",
   "nbconvert_exporter": "python",
   "pygments_lexer": "ipython3",
   "version": "3.6.9"
  }
 },
 "nbformat": 4,
 "nbformat_minor": 4
}
