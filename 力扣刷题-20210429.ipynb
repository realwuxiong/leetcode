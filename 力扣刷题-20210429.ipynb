{
 "cells": [
  {
   "cell_type": "code",
   "execution_count": 2,
   "metadata": {},
   "outputs": [
    {
     "name": "stdout",
     "output_type": "stream",
     "text": [
      "3 1 2\n",
      "5 3 2\n",
      "6 5 1\n",
      "8 6 2\n",
      "12 8 4\n"
     ]
    },
    {
     "data": {
      "text/plain": [
       "False"
      ]
     },
     "execution_count": 2,
     "metadata": {},
     "output_type": "execute_result"
    }
   ],
   "source": [
    "# 403. 青蛙过河\n",
    "# https://leetcode-cn.com/problems/frog-jump/\n",
    "# 困难题，我估计是用动态规划。\n",
    "# 没做出来，抄的答案\n",
    "# java\n",
    "class Solution {\n",
    "    private Boolean[][] rec;\n",
    "\n",
    "    public boolean canCross(int[] stones) {\n",
    "        int n = stones.length;\n",
    "        rec = new Boolean[n][n];\n",
    "        return dfs(stones, 0, 0);\n",
    "    }\n",
    "\n",
    "    private boolean dfs(int[] stones, int i, int lastDis) {\n",
    "        if (i == stones.length - 1) {\n",
    "            return true;\n",
    "        }\n",
    "        if (rec[i][lastDis] != null) {\n",
    "            return rec[i][lastDis];\n",
    "        }\n",
    "\n",
    "        for (int curDis = lastDis - 1; curDis <= lastDis + 1; curDis++) {\n",
    "            if (curDis > 0) {\n",
    "                int j = Arrays.binarySearch(stones, i + 1, stones.length, curDis + stones[i]);\n",
    "                if (j >= 0 && dfs(stones, j, curDis)) {\n",
    "                    return rec[i][lastDis] = true;\n",
    "                }\n",
    "            }\n",
    "        }\n",
    "        return rec[i][lastDis] = false;\n",
    "    }\n",
    "}\n"
   ]
  }
 ],
 "metadata": {
  "kernelspec": {
   "display_name": "Python 3",
   "language": "python",
   "name": "python3"
  },
  "language_info": {
   "codemirror_mode": {
    "name": "ipython",
    "version": 3
   },
   "file_extension": ".py",
   "mimetype": "text/x-python",
   "name": "python",
   "nbconvert_exporter": "python",
   "pygments_lexer": "ipython3",
   "version": "3.6.9"
  }
 },
 "nbformat": 4,
 "nbformat_minor": 4
}
