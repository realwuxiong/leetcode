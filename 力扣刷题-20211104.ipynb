{
 "cells": [
  {
   "cell_type": "code",
   "execution_count": 7,
   "metadata": {},
   "outputs": [
    {
     "data": {
      "text/plain": [
       "False"
      ]
     },
     "execution_count": 7,
     "metadata": {},
     "output_type": "execute_result"
    }
   ],
   "source": [
    "# 367. 有效的完全平方数\n",
    "# https://leetcode-cn.com/problems/valid-perfect-square/\n",
    "\n",
    "def isPerfectSquare(num: int) -> bool:\n",
    "    # 明显采用二分法\n",
    "    low = 1\n",
    "    high = num\n",
    "    while low <= high:\n",
    "        mid = low + (high-low)//2\n",
    "        if mid**2 == num:\n",
    "            return True\n",
    "        if mid**2 > num:\n",
    "            high = mid - 1\n",
    "        else:\n",
    "            low = mid + 1\n",
    "    return False\n",
    "    \n",
    "isPerfectSquare(17)\n",
    "\n"
   ]
  }
 ],
 "metadata": {
  "kernelspec": {
   "display_name": "Python 3",
   "language": "python",
   "name": "python3"
  },
  "language_info": {
   "codemirror_mode": {
    "name": "ipython",
    "version": 3
   },
   "file_extension": ".py",
   "mimetype": "text/x-python",
   "name": "python",
   "nbconvert_exporter": "python",
   "pygments_lexer": "ipython3",
   "version": "3.6.9"
  },
  "toc-autonumbering": false,
  "toc-showcode": false,
  "toc-showmarkdowntxt": false,
  "toc-showtags": false
 },
 "nbformat": 4,
 "nbformat_minor": 4
}
