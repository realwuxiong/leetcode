{
 "cells": [
  {
   "cell_type": "code",
   "execution_count": 3,
   "metadata": {},
   "outputs": [
    {
     "name": "stdout",
     "output_type": "stream",
     "text": [
      "90\n"
     ]
    }
   ],
   "source": [
    "# 396. 旋转函数\n",
    "# https://leetcode-cn.com/problems/rotate-function/\n",
    "\n",
    "# 迭代，抄的答案。还是得沉下心写代码\n",
    "from typing import List\n",
    "def maxRotateFunction(nums: List[int]) -> int:\n",
    "    f, n, numSum = 0, len(nums), sum(nums)\n",
    "    for i, num in enumerate(nums):\n",
    "        f += i * num\n",
    "    res = f\n",
    "    for i in range(n - 1, 0, -1):\n",
    "        f = f + numSum - n * nums[i]\n",
    "        res = max(res, f)\n",
    "    return res\n",
    "\n",
    "nums = [4,3,2,6]\n",
    "maxRotateFunction(nums)"
   ]
  }
 ],
 "metadata": {
  "kernelspec": {
   "display_name": "Python 3",
   "language": "python",
   "name": "python3"
  },
  "language_info": {
   "codemirror_mode": {
    "name": "ipython",
    "version": 3
   },
   "file_extension": ".py",
   "mimetype": "text/x-python",
   "name": "python",
   "nbconvert_exporter": "python",
   "pygments_lexer": "ipython3",
   "version": "3.6.9"
  },
  "toc-autonumbering": false,
  "toc-showcode": false,
  "toc-showmarkdowntxt": false,
  "toc-showtags": false
 },
 "nbformat": 4,
 "nbformat_minor": 4
}
