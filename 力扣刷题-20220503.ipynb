{
 "cells": [
  {
   "cell_type": "code",
   "execution_count": 27,
   "metadata": {},
   "outputs": [
    {
     "data": {
      "text/plain": [
       "['5 m w', 'j mo', 't q h', 'g 07', 'o 2 0']"
      ]
     },
     "execution_count": 27,
     "metadata": {},
     "output_type": "execute_result"
    }
   ],
   "source": [
    "# 937. 重新排列日志文件\n",
    "# https://leetcode-cn.com/problems/reorder-data-in-log-files/\n",
    "\n",
    "from typing import List\n",
    "def reorderLogFiles(logs: List[str]) -> List[str]:\n",
    "    # 就是一个自定义排序的问题\n",
    "    # 写的太烂了，还64/65没过\n",
    "    import functools\n",
    "    def compare(a,b):\n",
    "        a_array = a.split()\n",
    "        b_array = b.split()\n",
    "#         print(a_array,b_array)\n",
    "        if a_array[1].isdigit() and b_array[1].isdigit():\n",
    "            return 1\n",
    "        else:\n",
    "            if a_array[1].isdigit():\n",
    "                return 1\n",
    "            if b_array[1].isdigit():\n",
    "                return -1\n",
    "            \n",
    "            # 不能用空格填充，不然会出错\n",
    "            # [\"j mo\", \"5 m w\", \"g 07\", \"o 2 0\", \"t q h\"] 这种情况会出错\n",
    "            if \"a\".join(a_array[1:]) < \"a\".join(b_array[1:]):\n",
    "                return -1\n",
    "            if \"a\".join(a_array[1:]) > \"a\".join(b_array[1:]):\n",
    "                return 1\n",
    "            \n",
    "            if a_array[0] < b_array[0]:\n",
    "                return -1\n",
    "            else:\n",
    "                return 1\n",
    "        \n",
    "        pass\n",
    "    logs.sort(key=functools.cmp_to_key(compare))\n",
    "    return logs\n",
    "#     print(logs)\n",
    "    pass\n",
    "\n",
    "logs = [\"j mo\", \"5 m w\", \"g 07\", \"o 2 0\", \"t q h\"]\n",
    "reorderLogFiles(logs)"
   ]
  },
  {
   "cell_type": "code",
   "execution_count": 28,
   "metadata": {},
   "outputs": [
    {
     "data": {
      "text/plain": [
       "['5 m w', 'j mo', 't q h', 'g 07', 'o 2 0']"
      ]
     },
     "execution_count": 28,
     "metadata": {},
     "output_type": "execute_result"
    }
   ],
   "source": [
    "# 答案多简洁\n",
    "from typing import List\n",
    "def reorderLogFiles(logs: List[str]) -> List[str]:\n",
    "    def trans(log: str) -> tuple:\n",
    "        a, b = log.split(' ', 1)\n",
    "        return (0, b, a) if b[0].isalpha() else (1,)\n",
    "\n",
    "    logs.sort(key=trans)  # sort 是稳定排序\n",
    "    return logs\n",
    "\n",
    "logs = [\"j mo\", \"5 m w\", \"g 07\", \"o 2 0\", \"t q h\"]\n",
    "reorderLogFiles(logs)\n"
   ]
  }
 ],
 "metadata": {
  "kernelspec": {
   "display_name": "Python 3",
   "language": "python",
   "name": "python3"
  },
  "language_info": {
   "codemirror_mode": {
    "name": "ipython",
    "version": 3
   },
   "file_extension": ".py",
   "mimetype": "text/x-python",
   "name": "python",
   "nbconvert_exporter": "python",
   "pygments_lexer": "ipython3",
   "version": "3.6.9"
  },
  "toc-autonumbering": false,
  "toc-showcode": false,
  "toc-showmarkdowntxt": false,
  "toc-showtags": false
 },
 "nbformat": 4,
 "nbformat_minor": 4
}
