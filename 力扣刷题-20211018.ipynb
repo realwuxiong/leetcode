{
 "cells": [
  {
   "cell_type": "code",
   "execution_count": 15,
   "metadata": {},
   "outputs": [
    {
     "data": {
      "text/plain": [
       "0"
      ]
     },
     "execution_count": 15,
     "metadata": {},
     "output_type": "execute_result"
    }
   ],
   "source": [
    "# 476. 数字的补数\n",
    "# https://leetcode-cn.com/problems/number-complement/\n",
    "\n",
    "# 这个题目简单\n",
    "def findComplement(num: int) -> int:\n",
    "    result = 0\n",
    "    t = 1\n",
    "    while num > 0:\n",
    "        result += (1 if num&1 == 0 else 0)*t\n",
    "        num >>= 1\n",
    "        t *= 2    \n",
    "    return result\n",
    "    \n",
    "findComplement(1)\n"
   ]
  }
 ],
 "metadata": {
  "kernelspec": {
   "display_name": "Python 3",
   "language": "python",
   "name": "python3"
  },
  "language_info": {
   "codemirror_mode": {
    "name": "ipython",
    "version": 3
   },
   "file_extension": ".py",
   "mimetype": "text/x-python",
   "name": "python",
   "nbconvert_exporter": "python",
   "pygments_lexer": "ipython3",
   "version": "3.6.9"
  },
  "toc-autonumbering": false,
  "toc-showcode": false,
  "toc-showmarkdowntxt": false,
  "toc-showtags": false
 },
 "nbformat": 4,
 "nbformat_minor": 4
}
