{
 "cells": [
  {
   "cell_type": "code",
   "execution_count": 1,
   "metadata": {},
   "outputs": [
    {
     "name": "stdout",
     "output_type": "stream",
     "text": [
      "Hello world!\n"
     ]
    }
   ],
   "source": [
    "# 638. 大礼包\n",
    "# https://leetcode-cn.com/problems/shopping-offers/\n",
    "\n",
    "from typing import List\n",
    "def shoppingOffers(price: List[int], special: List[List[int]], needs: List[int]) -> int:\n",
    "    print(\"Hello world!\")\n",
    "    pass\n",
    "price = [2,5]\n",
    "special = [[3,0,5],[1,2,10]]\n",
    "needs = [3,2]\n",
    "shoppingOffers(price,special,needs)"
   ]
  },
  {
   "cell_type": "code",
   "execution_count": null,
   "metadata": {},
   "outputs": [],
   "source": [
    "# 不想做，直接复制的，明天吧记忆搜索好好看看。。。\n",
    "from functools import lru_cache\n",
    "\n",
    "class Solution:\n",
    "    def shoppingOffers(self, price: List[int], special: List[List[int]], needs: List[int]) -> int:\n",
    "        n = len(price)\n",
    "\n",
    "        # 过滤不需要计算的大礼包，只保留需要计算的大礼包\n",
    "        filter_special = []\n",
    "        for sp in special:\n",
    "            if sum(sp[i] for i in range(n)) > 0 and sum(sp[i] * price[i] for i in range(n)) > sp[-1]:\n",
    "                filter_special.append(sp)\n",
    "\n",
    "        # 记忆化搜索计算满足购物清单所需花费的最低价格\n",
    "        @lru_cache(None)\n",
    "        def dfs(cur_needs):\n",
    "            # 不购买任何大礼包，原价购买购物清单中的所有物品\n",
    "            min_price = sum(need * price[i] for i, need in enumerate(cur_needs))\n",
    "            for cur_special in filter_special:\n",
    "                special_price = cur_special[-1]\n",
    "                nxt_needs = []\n",
    "                for i in range(n):\n",
    "                    if cur_special[i] > cur_needs[i]:  # 不能购买超出购物清单指定数量的物品\n",
    "                        break\n",
    "                    nxt_needs.append(cur_needs[i] - cur_special[i])\n",
    "                if len(nxt_needs) == n:  # 大礼包可以购买\n",
    "                    min_price = min(min_price, dfs(tuple(nxt_needs)) + special_price)\n",
    "            return min_price\n",
    "\n",
    "        return dfs(tuple(needs))\n",
    "\n"
   ]
  }
 ],
 "metadata": {
  "kernelspec": {
   "display_name": "Python 3",
   "language": "python",
   "name": "python3"
  },
  "language_info": {
   "codemirror_mode": {
    "name": "ipython",
    "version": 3
   },
   "file_extension": ".py",
   "mimetype": "text/x-python",
   "name": "python",
   "nbconvert_exporter": "python",
   "pygments_lexer": "ipython3",
   "version": "3.6.9"
  },
  "toc-autonumbering": false,
  "toc-showcode": false,
  "toc-showmarkdowntxt": false,
  "toc-showtags": false
 },
 "nbformat": 4,
 "nbformat_minor": 4
}
