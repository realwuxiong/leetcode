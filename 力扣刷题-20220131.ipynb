{
 "cells": [
  {
   "cell_type": "code",
   "execution_count": 1,
   "metadata": {},
   "outputs": [
    {
     "data": {
      "text/plain": [
       "6"
      ]
     },
     "execution_count": 1,
     "metadata": {},
     "output_type": "execute_result"
    }
   ],
   "source": [
    "# 1342. 将数字变成 0 的操作次数\n",
    "# https://leetcode-cn.com/problems/number-of-steps-to-reduce-a-number-to-zero/\n",
    "\n",
    "def numberOfSteps(num: int) -> int:\n",
    "    ans = 0\n",
    "    while num:\n",
    "        ans += num & 1\n",
    "        if num > 1:\n",
    "            ans += 1\n",
    "        num >>= 1\n",
    "    return ans\n",
    "numberOfSteps(14)"
   ]
  }
 ],
 "metadata": {
  "kernelspec": {
   "display_name": "Python 3",
   "language": "python",
   "name": "python3"
  },
  "language_info": {
   "codemirror_mode": {
    "name": "ipython",
    "version": 3
   },
   "file_extension": ".py",
   "mimetype": "text/x-python",
   "name": "python",
   "nbconvert_exporter": "python",
   "pygments_lexer": "ipython3",
   "version": "3.6.9"
  },
  "toc-autonumbering": false,
  "toc-showcode": false,
  "toc-showmarkdowntxt": false,
  "toc-showtags": false
 },
 "nbformat": 4,
 "nbformat_minor": 4
}
