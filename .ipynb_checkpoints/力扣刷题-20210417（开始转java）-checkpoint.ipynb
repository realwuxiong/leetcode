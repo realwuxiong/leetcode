{
 "cells": [
  {
   "cell_type": "code",
   "execution_count": 4,
   "metadata": {
    "tags": []
   },
   "outputs": [
    {
     "data": {
      "text/plain": [
       "False"
      ]
     },
     "execution_count": 4,
     "metadata": {},
     "output_type": "execute_result"
    }
   ],
   "source": [
    "# 220. 存在重复元素 III\n",
    "# https://leetcode-cn.com/problems/contains-duplicate-iii/\n",
    "# 采用滑动窗口\n",
    "# 今天开始用java写代码\n",
    "\n",
    "# 暴力法，超出了时间限制\n",
    "from typing import List\n",
    "def containsNearbyAlmostDuplicate(nums: List[int], k: int, t: int) -> bool:\n",
    "    for i in range(len(nums)):\n",
    "        for j in range(i+1,i+k+1):\n",
    "            if j >= len(nums):\n",
    "                break\n",
    "            if abs(nums[i]-nums[j]) <= t:\n",
    "                return True\n",
    "    return False\n",
    "nums =[1,5,9,1,5,9]\n",
    "k = 2\n",
    "t = 3\n",
    "containsNearbyAlmostDuplicate(nums,k,t)"
   ]
  },
  {
   "cell_type": "code",
   "execution_count": 15,
   "metadata": {},
   "outputs": [
    {
     "name": "stdout",
     "output_type": "stream",
     "text": [
      "[(0, 1), (3, 2), (1, 3), (2, 6)]\n",
      "(0, 1) (3, 2)\n",
      "(3, 2) (1, 3)\n",
      "(1, 3) (2, 6)\n"
     ]
    },
    {
     "data": {
      "text/plain": [
       "False"
      ]
     },
     "execution_count": 15,
     "metadata": {},
     "output_type": "execute_result"
    }
   ],
   "source": [
    "# 方法二，这个考虑的不全面，是错的\n",
    "from typing import List\n",
    "def containsNearbyAlmostDuplicate(nums: List[int], k: int, t: int) -> bool:\n",
    "    # 先不考虑，为空这些条件\n",
    "    # 用排序\n",
    "    if not nums:\n",
    "        return False\n",
    "    stack = []\n",
    "    for i in range(len(nums)):\n",
    "        stack.append((i,nums[i]))\n",
    "    stack.sort(key=lambda x:x[1])\n",
    "    tem = stack[0]\n",
    "    print(stack)\n",
    "    for i in range(1,len(nums)):\n",
    "        print(tem,stack[i])\n",
    "        if abs(stack[i][0]  - tem[0]) <= k and abs(stack[i][1]- tem[1])<= t:\n",
    "            return True\n",
    "        tem = stack[i]\n",
    "    return False\n",
    "    \n",
    "nums =[1,3,6,2]  # 这个测试用例，真棒\n",
    "k = 1\n",
    "t = 2\n",
    "containsNearbyAlmostDuplicate(nums,k,t)"
   ]
  },
  {
   "cell_type": "code",
   "execution_count": 3,
   "metadata": {},
   "outputs": [
    {
     "name": "stdout",
     "output_type": "stream",
     "text": [
      "null\n",
      "1\n",
      "true\n"
     ]
    }
   ],
   "source": [
    "//用java\n",
    "public boolean containsNearbyAlmostDuplicate(int[] nums, int k, int t) {\n",
    "        int n = nums.length;\n",
    "        TreeSet<Long> set = new TreeSet<Long>();\n",
    "        for (int i = 0; i < n; i++) {\n",
    "            Long ceiling = set.ceiling((long) nums[i] - (long) t);\n",
    "            if (ceiling != null && ceiling <= (long) nums[i] + (long) t) {\n",
    "                return true;\n",
    "            }\n",
    "            set.add((long) nums[i]);\n",
    "            if (i >= k) {\n",
    "                set.remove((long) nums[i - k]);\n",
    "            }\n",
    "        }\n",
    "        return false;\n",
    "    }\n",
    "int [] nums = {1,3,6,2};\n",
    "int k =1,t=2;\n",
    "System.out.println(containsNearbyAlmostDuplicate(nums,k,t))\n"
   ]
  }
 ],
 "metadata": {
  "kernelspec": {
   "display_name": "Java",
   "language": "java",
   "name": "java"
  },
  "language_info": {
   "codemirror_mode": "java",
   "file_extension": ".jshell",
   "mimetype": "text/x-java-source",
   "name": "Java",
   "pygments_lexer": "java",
   "version": "11.0.10+9-Ubuntu-0ubuntu1.18.04"
  }
 },
 "nbformat": 4,
 "nbformat_minor": 4
}
