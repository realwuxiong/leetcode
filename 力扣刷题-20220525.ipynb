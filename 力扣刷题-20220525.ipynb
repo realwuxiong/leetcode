{
 "cells": [
  {
   "cell_type": "code",
   "execution_count": 14,
   "metadata": {},
   "outputs": [
    {
     "name": "stdout",
     "output_type": "stream",
     "text": [
      "abcdefghijklmnopqrstuvwxyzabcdefghijklmnopqrstuvwxyz\n"
     ]
    },
    {
     "data": {
      "text/plain": [
       "4"
      ]
     },
     "execution_count": 14,
     "metadata": {},
     "output_type": "execute_result"
    }
   ],
   "source": [
    "# 467. 环绕字符串中唯一的子字符串\n",
    "# https://leetcode.cn/problems/unique-substrings-in-wraparound-string/\n",
    "def findSubstringInWraproundString(p: str) -> int:\n",
    "    # dfs果然超时了\n",
    "    t = \"abcdefghijklmnopqrstuvwxyz\" *2\n",
    "    ans = set()\n",
    "    n = len(p)\n",
    "    stack = []\n",
    "    def dfs(i):\n",
    "        if i > n:\n",
    "            return\n",
    "        if ''.join(stack) in t and stack:\n",
    "            ans.add(''.join(stack))\n",
    "        if ''.join(stack) not in t:\n",
    "            return \n",
    "        \n",
    "        for j in range(i,n):\n",
    "            stack.append(p[i])\n",
    "            dfs(j+1)\n",
    "            stack.pop()\n",
    "    for i in range(n):\n",
    "        dfs(i)\n",
    "    return len(ans)\n",
    "        \n",
    "    \n",
    "    pass\n",
    "\n",
    "\n",
    "p = \"caccd\"\n",
    "findSubstringInWraproundString(p)"
   ]
  },
  {
   "cell_type": "code",
   "execution_count": null,
   "metadata": {},
   "outputs": [],
   "source": [
    "# 还是答案的方法巧妙\n",
    "dp = defaultdict(int)\n",
    "k = 0\n",
    "for i, ch in enumerate(p):\n",
    "    if i > 0 and (ord(ch) - ord(p[i - 1])) % 26 == 1:  # 字符之差为 1 或 -25\n",
    "        k += 1\n",
    "    else:\n",
    "        k = 1\n",
    "    dp[ch] = max(dp[ch], k)\n",
    "return sum(dp.values())\n",
    "\n"
   ]
  }
 ],
 "metadata": {
  "kernelspec": {
   "display_name": "Python 3",
   "language": "python",
   "name": "python3"
  },
  "language_info": {
   "codemirror_mode": {
    "name": "ipython",
    "version": 3
   },
   "file_extension": ".py",
   "mimetype": "text/x-python",
   "name": "python",
   "nbconvert_exporter": "python",
   "pygments_lexer": "ipython3",
   "version": "3.6.9"
  },
  "toc-autonumbering": false,
  "toc-showcode": false,
  "toc-showmarkdowntxt": false,
  "toc-showtags": false
 },
 "nbformat": 4,
 "nbformat_minor": 4
}
