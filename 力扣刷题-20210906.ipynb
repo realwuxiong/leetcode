{
 "cells": [
  {
   "cell_type": "code",
   "execution_count": 14,
   "metadata": {},
   "outputs": [
    {
     "data": {
      "text/plain": [
       "-1"
      ]
     },
     "execution_count": 14,
     "metadata": {},
     "output_type": "execute_result"
    }
   ],
   "source": [
    "# 704. 二分查找\n",
    "# https://leetcode-cn.com/problems/binary-search/\n",
    "\n",
    "from typing import List\n",
    "def search(nums: List[int], target: int) -> int:\n",
    "    \n",
    "    low = 0\n",
    "    high = len(nums)-1\n",
    "    while low <= high:\n",
    "        t = low + (high-low)//2\n",
    "        if nums[t] == target:\n",
    "            return t\n",
    "        if nums[t] > target:\n",
    "            high = t -1\n",
    "        else:\n",
    "            low = t + 1\n",
    "    return -1\n",
    "\n",
    "nums = [-1,0,3,5,9,12]\n",
    "target = 13\n",
    "search(nums,target)"
   ]
  }
 ],
 "metadata": {
  "kernelspec": {
   "display_name": "Python 3",
   "language": "python",
   "name": "python3"
  },
  "language_info": {
   "codemirror_mode": {
    "name": "ipython",
    "version": 3
   },
   "file_extension": ".py",
   "mimetype": "text/x-python",
   "name": "python",
   "nbconvert_exporter": "python",
   "pygments_lexer": "ipython3",
   "version": "3.6.9"
  },
  "toc-autonumbering": false,
  "toc-showcode": false,
  "toc-showmarkdowntxt": false,
  "toc-showtags": false
 },
 "nbformat": 4,
 "nbformat_minor": 4
}
