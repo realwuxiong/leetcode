{
 "cells": [
  {
   "cell_type": "code",
   "execution_count": null,
   "metadata": {},
   "outputs": [],
   "source": [
    "# 807. 保持城市天际线\n",
    "# https://leetcode-cn.com/problems/max-increase-to-keep-city-skyline/\n",
    "\n",
    "from typing import List\n",
    "def maxIncreaseKeepingSkyline(grid: List[List[int]]) -> int:\n",
    "    # 采用贪心算法\n",
    "    # 看到答案的写法，思路是这个思路，学到了一招zip(*grid)，解压zip\n",
    "    # \n",
    "    rowMax = list(map(max, grid))\n",
    "    colMax = list(map(max, zip(*grid)))\n",
    "    return sum(min(rowMax[i], colMax[j]) - h for i, row in enumerate(grid) for j, h in enumerate(row))\n",
    "\n",
    "grid = [[3,0,8,4],[2,4,5,7],[9,2,6,3],[0,3,1,0]]\n",
    "maxIncreaseKeepingSkyline(grid)"
   ]
  }
 ],
 "metadata": {
  "kernelspec": {
   "display_name": "Python 3",
   "language": "python",
   "name": "python3"
  },
  "language_info": {
   "codemirror_mode": {
    "name": "ipython",
    "version": 3
   },
   "file_extension": ".py",
   "mimetype": "text/x-python",
   "name": "python",
   "nbconvert_exporter": "python",
   "pygments_lexer": "ipython3",
   "version": "3.6.9"
  },
  "toc-autonumbering": false,
  "toc-showcode": false,
  "toc-showmarkdowntxt": false,
  "toc-showtags": false
 },
 "nbformat": 4,
 "nbformat_minor": 4
}
