{
 "cells": [
  {
   "cell_type": "code",
   "execution_count": 15,
   "metadata": {},
   "outputs": [
    {
     "data": {
      "text/plain": [
       "[6, 6, 6, 6, 6, 6, 6, 6, 6, 6, 6, 6, 6, 6, 2, 1]"
      ]
     },
     "execution_count": 15,
     "metadata": {},
     "output_type": "execute_result"
    }
   ],
   "source": [
    "# 2028. 找出缺失的观测数据\n",
    "# https://leetcode-cn.com/problems/find-missing-observations/\n",
    "\n",
    "# 这个题主要就是模拟\n",
    "from typing import List\n",
    "def missingRolls(rolls: List[int], mean: int, n: int) -> List[int]:\n",
    "    \n",
    "    m = len(rolls)\n",
    "    All = mean * (m + n)\n",
    "    \n",
    "    left = All - sum(rolls)\n",
    "    \n",
    "    ans = [1]*n\n",
    "    count = n\n",
    "    index = 0\n",
    "    if n * 6 < left or left < n:\n",
    "        return []\n",
    "    \n",
    "    while count < left:\n",
    "        if left - count <= 5:\n",
    "            ans[index] += left - count\n",
    "            break\n",
    "        else:\n",
    "            ans[index] += 5\n",
    "            count += 5\n",
    "        index += 1\n",
    "    \n",
    "    return ans\n",
    "\n",
    "rolls = [6,1,6,2,4,4,5]\n",
    "mean = 5\n",
    "n = 16\n",
    "missingRolls(rolls,mean,n)"
   ]
  }
 ],
 "metadata": {
  "kernelspec": {
   "display_name": "Python 3",
   "language": "python",
   "name": "python3"
  },
  "language_info": {
   "codemirror_mode": {
    "name": "ipython",
    "version": 3
   },
   "file_extension": ".py",
   "mimetype": "text/x-python",
   "name": "python",
   "nbconvert_exporter": "python",
   "pygments_lexer": "ipython3",
   "version": "3.6.9"
  },
  "toc-autonumbering": false,
  "toc-showcode": false,
  "toc-showmarkdowntxt": false,
  "toc-showtags": false
 },
 "nbformat": 4,
 "nbformat_minor": 4
}
