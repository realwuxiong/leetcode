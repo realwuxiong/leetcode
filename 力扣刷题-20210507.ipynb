{
 "cells": [
  {
   "cell_type": "code",
   "execution_count": 3,
   "metadata": {},
   "outputs": [
    {
     "data": {
      "text/plain": [
       "8"
      ]
     },
     "execution_count": 3,
     "metadata": {},
     "output_type": "execute_result"
    }
   ],
   "source": [
    "# 1486. 数组异或操作\n",
    "# https://leetcode-cn.com/problems/xor-operation-in-an-array/\n",
    "def xorOperation(n: int, start: int) -> int:\n",
    "    res = 0\n",
    "    for i in range(n):\n",
    "        res ^=  start + 2*i\n",
    "    \n",
    "    return res\n",
    "    pass\n",
    "n = 5\n",
    "start = 0\n",
    "xorOperation(5,0)"
   ]
  },
  {
   "cell_type": "code",
   "execution_count": null,
   "metadata": {},
   "outputs": [],
   "source": [
    "// java 版本\n",
    "public int xorOperation(int n, int start) {\n",
    "        int res = 0;\n",
    "        for(int i = 0; i < n; ++i){\n",
    "            res ^= start + 2*i;\n",
    "        }\n",
    "        System.out.println(res);\n",
    "        return res;\n",
    "}"
   ]
  }
 ],
 "metadata": {
  "kernelspec": {
   "display_name": "Python 3",
   "language": "python",
   "name": "python3"
  },
  "language_info": {
   "codemirror_mode": {
    "name": "ipython",
    "version": 3
   },
   "file_extension": ".py",
   "mimetype": "text/x-python",
   "name": "python",
   "nbconvert_exporter": "python",
   "pygments_lexer": "ipython3",
   "version": "3.6.9"
  }
 },
 "nbformat": 4,
 "nbformat_minor": 4
}
