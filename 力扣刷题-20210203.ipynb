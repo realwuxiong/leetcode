{
 "cells": [
  {
   "cell_type": "code",
   "execution_count": 10,
   "metadata": {},
   "outputs": [
    {
     "name": "stdout",
     "output_type": "stream",
     "text": [
      "[-1, 1, 3] 1\n",
      "[-3, -1, 3] -1\n",
      "[-3, -1, 5] -1\n",
      "[-3, 3, 5] 3\n",
      "[3, 5, 6] 5\n",
      "[3, 6, 7] 6\n"
     ]
    }
   ],
   "source": [
    "# 480. 滑动窗口中位数\n",
    "# https://leetcode-cn.com/problems/sliding-window-median/\n",
    "\n",
    "# 暴力破解，竟然不超时。上个月并查集，这个月估计是滑动窗口\n",
    "from typing import List\n",
    "def medianSlidingWindow( nums: List[int], k: int) -> List[float]:\n",
    "    tem = [0]*k\n",
    "    ans=[]\n",
    "    for i in range(len(nums)-k+1):\n",
    "        tem = [nums[i] for i in range(i,i+k) ]\n",
    "        tem.sort()\n",
    "        # 取中位数\n",
    "\n",
    "        median = tem[k//2] if k&1 else (tem[k//2]+tem[k//2-1])/2.0\n",
    "        ans.append(median)\n",
    "    return ans\n",
    "nums = [1,3,-1,-3,5,3,6,7]\n",
    "k = 3\n",
    "medianSlidingWindow(nums,k)"
   ]
  }
 ],
 "metadata": {
  "kernelspec": {
   "display_name": "Python 3",
   "language": "python",
   "name": "python3"
  },
  "language_info": {
   "codemirror_mode": {
    "name": "ipython",
    "version": 3
   },
   "file_extension": ".py",
   "mimetype": "text/x-python",
   "name": "python",
   "nbconvert_exporter": "python",
   "pygments_lexer": "ipython3",
   "version": "3.8.5"
  }
 },
 "nbformat": 4,
 "nbformat_minor": 4
}
