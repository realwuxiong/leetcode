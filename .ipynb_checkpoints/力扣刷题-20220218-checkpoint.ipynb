{
 "cells": [
  {
   "cell_type": "code",
   "execution_count": null,
   "metadata": {},
   "outputs": [],
   "source": [
    "# 1791. 找出星型图的中心节点\n",
    "# https://leetcode-cn.com/problems/find-center-of-star-graph/\n",
    "\n",
    "from typing import List\n",
    "def findCenter(edges: List[List[int]]) -> int:\n",
    "    \n",
    "    pass\n",
    "edges = [[1,2],[2,3],[4,2]]\n",
    "findCenter(edges)"
   ]
  }
 ],
 "metadata": {
  "kernelspec": {
   "display_name": "Python 3",
   "language": "python",
   "name": "python3"
  },
  "language_info": {
   "codemirror_mode": {
    "name": "ipython",
    "version": 3
   },
   "file_extension": ".py",
   "mimetype": "text/x-python",
   "name": "python",
   "nbconvert_exporter": "python",
   "pygments_lexer": "ipython3",
   "version": "3.6.9"
  },
  "toc-autonumbering": false,
  "toc-showcode": false,
  "toc-showmarkdowntxt": false,
  "toc-showtags": false
 },
 "nbformat": 4,
 "nbformat_minor": 4
}
