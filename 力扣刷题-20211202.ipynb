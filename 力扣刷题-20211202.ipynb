{
 "cells": [
  {
   "cell_type": "code",
   "execution_count": 8,
   "metadata": {},
   "outputs": [
    {
     "data": {
      "text/plain": [
       "['Gold Medal', 'Silver Medal', 'Bronze Medal', '4', '5']"
      ]
     },
     "execution_count": 8,
     "metadata": {},
     "output_type": "execute_result"
    }
   ],
   "source": [
    "# 506. 相对名次\n",
    "# https://leetcode-cn.com/problems/relative-ranks/\n",
    "\n",
    "from typing import List\n",
    "def findRelativeRanks(score: List[int]) -> List[str]:\n",
    "    myscore = [(i,s) for i,s in enumerate(score)]\n",
    "    myscore.sort(key=lambda x:-x[1]) # 逆序\n",
    "    n = len(score)\n",
    "    topThree = [\"Gold Medal\",\"Silver Medal\",\"Bronze Medal\"]\n",
    "    ans = []\n",
    "    for i in range(3):\n",
    "        if i >= n:\n",
    "            break\n",
    "        ans.append((myscore[i][0],topThree[i]))\n",
    "    for i in range(3,n):\n",
    "        ans.append((myscore[i][0],str(i+1)))\n",
    "    ans.sort(key=lambda x:x[0])\n",
    "    return [s[1] for s in ans]\n",
    "\n",
    "score = [5,4,3,2,1]\n",
    "findRelativeRanks(score)"
   ]
  }
 ],
 "metadata": {
  "kernelspec": {
   "display_name": "Python 3",
   "language": "python",
   "name": "python3"
  },
  "language_info": {
   "codemirror_mode": {
    "name": "ipython",
    "version": 3
   },
   "file_extension": ".py",
   "mimetype": "text/x-python",
   "name": "python",
   "nbconvert_exporter": "python",
   "pygments_lexer": "ipython3",
   "version": "3.6.9"
  },
  "toc-autonumbering": false,
  "toc-showcode": false,
  "toc-showmarkdowntxt": false,
  "toc-showtags": false
 },
 "nbformat": 4,
 "nbformat_minor": 4
}
