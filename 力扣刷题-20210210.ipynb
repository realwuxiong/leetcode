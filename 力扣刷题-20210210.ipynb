{
 "cells": [
  {
   "cell_type": "code",
   "execution_count": 12,
   "metadata": {},
   "outputs": [
    {
     "data": {
      "text/plain": [
       "True"
      ]
     },
     "execution_count": 12,
     "metadata": {},
     "output_type": "execute_result"
    }
   ],
   "source": [
    "# 567. 字符串的排列\n",
    "# https://leetcode-cn.com/problems/permutation-in-string/\n",
    "# 又是滑动窗口\n",
    "def checkInclusion(s1: str, s2: str) -> bool:\n",
    "    n1 = len(s1)\n",
    "    n2 = len(s2)\n",
    "    if n1 > n2:\n",
    "        return False \n",
    "    slist1 =[0]*26\n",
    "    slist2 =[0]*26\n",
    "    for i in range(n1):\n",
    "        slist1[ord(s1[i])-ord('a')] += 1\n",
    "        slist2[ord(s2[i])-ord('a')] += 1\n",
    "    for i in range(n1,n2):\n",
    "        if slist1 == slist2:\n",
    "            return True \n",
    "        slist2[ord(s2[i-n1])-ord('a')] -= 1\n",
    "        slist2[ord(s2[i])-ord('a')] += 1\n",
    "    return True if slist1 == slist2 else False\n",
    "\n",
    "\n",
    "s1 = \"ei\"\n",
    "s2 = \"eidbaooo\"\n",
    "checkInclusion(s1,s2)"
   ]
  }
 ],
 "metadata": {
  "kernelspec": {
   "display_name": "Python 3",
   "language": "python",
   "name": "python3"
  },
  "language_info": {
   "codemirror_mode": {
    "name": "ipython",
    "version": 3
   },
   "file_extension": ".py",
   "mimetype": "text/x-python",
   "name": "python",
   "nbconvert_exporter": "python",
   "pygments_lexer": "ipython3",
   "version": "3.8.5"
  }
 },
 "nbformat": 4,
 "nbformat_minor": 4
}
