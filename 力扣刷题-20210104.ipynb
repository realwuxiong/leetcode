{
 "cells": [
  {
   "cell_type": "code",
   "execution_count": 3,
   "metadata": {},
   "outputs": [
    {
     "name": "stdout",
     "output_type": "stream",
     "text": [
      "1\n"
     ]
    }
   ],
   "source": [
    "#斐波拉契数。这个简单\n",
    "\n",
    "# 递归，太简单\n",
    "def fib(n: int) -> int:\n",
    "        if(n==0):\n",
    "            return 0\n",
    "        if(n==1):\n",
    "            return 1\n",
    "        return fib(n-1)+fib(n-2)\n",
    "print(fib(2))"
   ]
  },
  {
   "cell_type": "code",
   "execution_count": 14,
   "metadata": {},
   "outputs": [
    {
     "name": "stdout",
     "output_type": "stream",
     "text": [
      "2\n"
     ]
    }
   ],
   "source": [
    "def fib2(n:int) -> int:\n",
    "    x,y=0,1\n",
    "    if(n == 0):\n",
    "        return x\n",
    "    if(n==1):\n",
    "        return y\n",
    "    res = x+y\n",
    "    for i in range(2,n+1):\n",
    "        res = x + y\n",
    "        x = y\n",
    "        y = res\n",
    "    return res\n",
    "print(fib2(3))\n",
    "    "
   ]
  }
 ],
 "metadata": {
  "kernelspec": {
   "display_name": "Python 3",
   "language": "python",
   "name": "python3"
  },
  "language_info": {
   "codemirror_mode": {
    "name": "ipython",
    "version": 3
   },
   "file_extension": ".py",
   "mimetype": "text/x-python",
   "name": "python",
   "nbconvert_exporter": "python",
   "pygments_lexer": "ipython3",
   "version": "3.8.5"
  }
 },
 "nbformat": 4,
 "nbformat_minor": 4
}
