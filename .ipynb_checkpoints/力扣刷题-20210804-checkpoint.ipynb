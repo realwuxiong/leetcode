{
 "cells": [
  {
   "cell_type": "code",
   "execution_count": 42,
   "metadata": {},
   "outputs": [
    {
     "name": "stdout",
     "output_type": "stream",
     "text": [
      "3\n"
     ]
    }
   ],
   "source": [
    "# 611. 有效三角形的个数\n",
    "# https://leetcode-cn.com/problems/valid-triangle-number/\n",
    "\n",
    "from typing import List\n",
    "def triangleNumber(nums: List[int]) -> int:\n",
    "    # 采用dfs,估计会超时  , 223 / 241 个通过测试用例\n",
    "    def dfs(i):\n",
    "        if i > n:   # 一定要是大于n，而不是>=n\n",
    "            return\n",
    "        if len(stack) == 3:\n",
    "            check(stack)\n",
    "            return \n",
    "        for j in range(i,n):\n",
    "            stack.append(nums[j])\n",
    "            dfs(j+1)\n",
    "            stack.pop()\n",
    "        pass \n",
    "    def check(stack): \n",
    "        if stack[0]+stack[1]>stack[2] and stack[0]+stack[2]>stack[1] and stack[2]+stack[1]>stack[0]:\n",
    "            ans[0] += 1\n",
    "    ans = [0]\n",
    "    n = len(nums)\n",
    "    stack = []\n",
    "    dfs(0)\n",
    "    print(ans[0])\n",
    "    \n",
    "    pass\n",
    "nums = [2,2,3,4]\n",
    "triangleNumber(nums)"
   ]
  },
  {
   "cell_type": "code",
   "execution_count": null,
   "metadata": {},
   "outputs": [],
   "source": [
    "# 答案的方法\n",
    "# 先排序\n",
    "class Solution:\n",
    "    def triangleNumber(self, nums: List[int]) -> int:\n",
    "        n = len(nums)\n",
    "        nums.sort()\n",
    "        ans = 0\n",
    "        for i in range(n):\n",
    "            for j in range(i + 1, n):\n",
    "                left, right, k = j + 1, n - 1, j\n",
    "                while left <= right:\n",
    "                    mid = (left + right) // 2\n",
    "                    if nums[mid] < nums[i] + nums[j]:\n",
    "                        k = mid\n",
    "                        left = mid + 1\n",
    "                    else:\n",
    "                        right = mid - 1\n",
    "                ans += k - j\n",
    "        return ans\n",
    "\n"
   ]
  }
 ],
 "metadata": {
  "kernelspec": {
   "display_name": "Python 3",
   "language": "python",
   "name": "python3"
  },
  "language_info": {
   "codemirror_mode": {
    "name": "ipython",
    "version": 3
   },
   "file_extension": ".py",
   "mimetype": "text/x-python",
   "name": "python",
   "nbconvert_exporter": "python",
   "pygments_lexer": "ipython3",
   "version": "3.6.9"
  },
  "toc-autonumbering": false,
  "toc-showcode": false,
  "toc-showmarkdowntxt": false,
  "toc-showtags": false
 },
 "nbformat": 4,
 "nbformat_minor": 4
}
