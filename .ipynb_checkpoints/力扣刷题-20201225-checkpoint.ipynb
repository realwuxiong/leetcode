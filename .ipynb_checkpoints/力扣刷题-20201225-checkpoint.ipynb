{
 "cells": [
  {
   "cell_type": "code",
   "execution_count": 14,
   "metadata": {},
   "outputs": [
    {
     "name": "stdout",
     "output_type": "stream",
     "text": [
      "1\n"
     ]
    }
   ],
   "source": [
    "# 4555. 分发饼干\n",
    "# https://leetcode-cn.com/problems/assign-cookies/\n",
    "def findContentChildren( g, s) -> int:\n",
    "    # 使用贪心算法，先把饼干的尺寸和学生的胃口排序，然后把饼干从小到大进行分配\n",
    "    s_sort = sorted(s)  #饼干尺寸\n",
    "    g_sort = sorted(g) #学生尺寸\n",
    "    res = 0\n",
    "    i,j=0,0\n",
    "    while(i<len(s) and j < len(g)):\n",
    "          if(s_sort[i] >= g_sort[j]):\n",
    "              res += 1\n",
    "              i += 1\n",
    "              j += 1\n",
    "          else:\n",
    "              i += 1\n",
    "    return res\n",
    "          \n",
    "g = [1,2,3]\n",
    "s = [1,1]\n",
    "\n",
    "print(findContentChildren(g,s))"
   ]
  }
 ],
 "metadata": {
  "kernelspec": {
   "display_name": "Python 3",
   "language": "python",
   "name": "python3"
  },
  "language_info": {
   "codemirror_mode": {
    "name": "ipython",
    "version": 3
   },
   "file_extension": ".py",
   "mimetype": "text/x-python",
   "name": "python",
   "nbconvert_exporter": "python",
   "pygments_lexer": "ipython3",
   "version": "3.8.5"
  }
 },
 "nbformat": 4,
 "nbformat_minor": 4
}
