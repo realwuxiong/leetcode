{
 "cells": [
  {
   "cell_type": "code",
   "execution_count": 12,
   "metadata": {},
   "outputs": [
    {
     "name": "stdout",
     "output_type": "stream",
     "text": [
      "2\n",
      "51=51-1+50\n",
      "42=42-12+50\n",
      "12.75\n"
     ]
    }
   ],
   "source": [
    "# 643. 子数组最大平均数 \n",
    "# https://leetcode-cn.com/problems/maximum-average-subarray-i/\n",
    "from typing import List\n",
    "def findMaxAverage( nums: List[int], k: int) -> float:  \n",
    "    sumK = 0\n",
    "    for i in range(k):\n",
    "        sumK += nums[i]\n",
    "    maxSum=sumK\n",
    "    print(sumK)\n",
    "    for i in range(k,len(nums)):\n",
    "        sumK = sumK-nums[i-k]+nums[i]\n",
    "        print(\"{}={}-{}+{}\".format(sumK,sumK,nums[i-k],nums[k]))\n",
    "        maxSum = max(maxSum,sumK)\n",
    "        \n",
    "    print(maxSum/k)\n",
    "        \n",
    "    pass\n",
    "nums,k=[1,12,-5,-6,50,3],4\n",
    "findMaxAverage(nums,k)"
   ]
  }
 ],
 "metadata": {
  "kernelspec": {
   "display_name": "Python 3",
   "language": "python",
   "name": "python3"
  },
  "language_info": {
   "codemirror_mode": {
    "name": "ipython",
    "version": 3
   },
   "file_extension": ".py",
   "mimetype": "text/x-python",
   "name": "python",
   "nbconvert_exporter": "python",
   "pygments_lexer": "ipython3",
   "version": "3.8.5"
  }
 },
 "nbformat": 4,
 "nbformat_minor": 4
}
