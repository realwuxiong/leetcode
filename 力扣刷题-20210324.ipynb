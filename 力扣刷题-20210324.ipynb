{
 "cells": [
  {
   "cell_type": "code",
   "execution_count": 3,
   "metadata": {},
   "outputs": [
    {
     "data": {
      "text/plain": [
       "[[-1, 3, 2], [-1, 3, 0], [-1, 2, 0]]"
      ]
     },
     "execution_count": 3,
     "metadata": {},
     "output_type": "execute_result"
    }
   ],
   "source": [
    "# 456. 132模式\n",
    "# https://leetcode-cn.com/problems/132-pattern/\n",
    "\n",
    "# 用回溯的方法,超时了，，101个用例用了87个，看答案是用单调栈\n",
    "from typing import List\n",
    "def find132pattern(nums: List[int]) -> bool:\n",
    "    n = len(nums)\n",
    "    res = []\n",
    "    def dfs(i,j,k):\n",
    "        if i >= n or j >=n or k >= n:\n",
    "            return\n",
    "        if nums[i] < nums[k] < nums[j]:\n",
    "            res.append([nums[i],nums[j],nums[k]])\n",
    "            return\n",
    "        if nums[i] >= nums[k] or nums[i] >= nums[j]:\n",
    "            dfs(i+1,j+1,k+1)\n",
    "        if nums[i] < nums[j] <= nums[k]:\n",
    "            dfs(i,j,k+1)\n",
    "        if nums[j] <= nums[i] < nums[k]:\n",
    "            dfs(i,j+1,k)\n",
    "           \n",
    "    for i in range(n):\n",
    "        for j in range(i+1,n):\n",
    "            for k in range(j+1,n):\n",
    "                dfs(i,j,k)\n",
    "                \n",
    "    return len(res)  > 0\n",
    "nums=[-1, 3, 2, 0]\n",
    "find132pattern(nums)"
   ]
  },
  {
   "cell_type": "code",
   "execution_count": null,
   "metadata": {},
   "outputs": [],
   "source": [
    "# 没看答案的实现，我自己写一个单调栈试试,明天再看看\n",
    "from typing import List\n",
    "def find132pattern(nums: List[int]) -> bool:\n",
    "    # 单调栈\n",
    "    stack = []\n",
    "\n",
    "nums=[-1, 3, 2, 0]\n",
    "find132pattern(nums)"
   ]
  }
 ],
 "metadata": {
  "kernelspec": {
   "display_name": "Python 3",
   "language": "python",
   "name": "python3"
  },
  "language_info": {
   "codemirror_mode": {
    "name": "ipython",
    "version": 3
   },
   "file_extension": ".py",
   "mimetype": "text/x-python",
   "name": "python",
   "nbconvert_exporter": "python",
   "pygments_lexer": "ipython3",
   "version": "3.8.5"
  }
 },
 "nbformat": 4,
 "nbformat_minor": 4
}
