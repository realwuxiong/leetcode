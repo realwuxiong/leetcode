{
 "cells": [
  {
   "cell_type": "code",
   "execution_count": 3,
   "metadata": {},
   "outputs": [
    {
     "data": {
      "text/plain": [
       "2"
      ]
     },
     "execution_count": 3,
     "metadata": {},
     "output_type": "execute_result"
    }
   ],
   "source": [
    "# 419. 甲板上的战舰\n",
    "# https://leetcode-cn.com/problems/battleships-in-a-board/\n",
    "\n",
    "from typing import List\n",
    "def countBattleships(board: List[List[str]]) -> int:\n",
    "    # 先按照dfs做一做，过了，但是空间复杂度有点大\n",
    "    # 答案的思路不错，\n",
    "    \"\"\"\n",
    "    我们遍历矩阵中的每个位置 (i,j)(i,j) 且满足\n",
    "    board[i][j] = board[i][j]=’X’，\n",
    "    并将以 (i,j)(i,j) 为起点的战舰的所有位置均设置为空位，从而我们即可统计出所有可能的战舰。\n",
    "    \"\"\"\n",
    "    m = len(board)\n",
    "    n = len(board[0])\n",
    "    \n",
    "    visited = [[False]*n for _ in range(m)]\n",
    "    \n",
    "    def dfs(i,j):\n",
    "        if not (0 <= i < m) or not (0 <= j < n):\n",
    "            return \n",
    "        if visited[i][j] or board[i][j] == \".\":\n",
    "            return\n",
    "        visited[i][j] = True\n",
    "        positions = [(-1,0),(1,0),(0,-1),(0,1)]  # 上下左右\n",
    "        for position in positions:\n",
    "            a,b = position\n",
    "            dfs(a+i,b+j)\n",
    "    ans = 0\n",
    "    for i in range(m):\n",
    "        for j in range(n):\n",
    "            if board[i][j] == \"X\" and visited[i][j] == False:\n",
    "                dfs(i,j)\n",
    "                ans += 1\n",
    "    return ans\n",
    "\n",
    "board = [[\"X\",\".\",\".\",\"X\"],[\".\",\".\",\".\",\"X\"],[\".\",\".\",\".\",\"X\"]]\n",
    "countBattleships(board)"
   ]
  }
 ],
 "metadata": {
  "kernelspec": {
   "display_name": "Python 3",
   "language": "python",
   "name": "python3"
  },
  "language_info": {
   "codemirror_mode": {
    "name": "ipython",
    "version": 3
   },
   "file_extension": ".py",
   "mimetype": "text/x-python",
   "name": "python",
   "nbconvert_exporter": "python",
   "pygments_lexer": "ipython3",
   "version": "3.6.9"
  },
  "toc-autonumbering": false,
  "toc-showcode": false,
  "toc-showmarkdowntxt": false,
  "toc-showtags": false
 },
 "nbformat": 4,
 "nbformat_minor": 4
}
