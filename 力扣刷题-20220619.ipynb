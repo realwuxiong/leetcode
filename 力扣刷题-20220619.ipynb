{
 "cells": [
  {
   "cell_type": "code",
   "execution_count": 6,
   "metadata": {},
   "outputs": [
    {
     "name": "stdout",
     "output_type": "stream",
     "text": [
      "1 1\n"
     ]
    }
   ],
   "source": [
    "# 508. 出现次数最多的子树元素和\n",
    "# https://leetcode.cn/problems/most-frequent-subtree-sum/\n",
    "\n",
    "# 一次通过，和答案基本上一致\n",
    "\n",
    "# Definition for a binary tree node.\n",
    "# class TreeNode:\n",
    "#     def __init__(self, val=0, left=None, right=None):\n",
    "#         self.val = val\n",
    "#         self.left = left\n",
    "#         self.right = right\n",
    "class Solution:\n",
    "    def findFrequentTreeSum(self, root: TreeNode) -> List[int]:\n",
    "        dic = {}\n",
    "\n",
    "        def dfs(node):\n",
    "            if not node:\n",
    "                # dic[count] = dic.setdefault(count,0)+1\n",
    "                return 0\n",
    "            # 前序遍历\n",
    "            t =  dfs(node.left)+dfs(node.right)+node.val\n",
    "            dic[t] = dic.setdefault(t,0)+1\n",
    "            return t\n",
    "        dfs(root)\n",
    "        maxCount = max(dic.values())\n",
    "        return [key for key, value in dic.items() if value == maxCount]\n",
    "    "
   ]
  }
 ],
 "metadata": {
  "kernelspec": {
   "display_name": "Python 3",
   "language": "python",
   "name": "python3"
  },
  "language_info": {
   "codemirror_mode": {
    "name": "ipython",
    "version": 3
   },
   "file_extension": ".py",
   "mimetype": "text/x-python",
   "name": "python",
   "nbconvert_exporter": "python",
   "pygments_lexer": "ipython3",
   "version": "3.6.9"
  },
  "toc-autonumbering": false,
  "toc-showcode": false,
  "toc-showmarkdowntxt": false,
  "toc-showtags": false
 },
 "nbformat": 4,
 "nbformat_minor": 4
}
