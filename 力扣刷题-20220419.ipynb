{
 "cells": [
  {
   "cell_type": "code",
   "execution_count": 16,
   "metadata": {},
   "outputs": [
    {
     "data": {
      "text/plain": [
       "[1, 0, 0, 1]"
      ]
     },
     "execution_count": 16,
     "metadata": {},
     "output_type": "execute_result"
    }
   ],
   "source": [
    "# 821. 字符的最短距离\n",
    "# https://leetcode-cn.com/problems/shortest-distance-to-a-character/\n",
    "\n",
    "from typing import List\n",
    "def shortestToChar(s: str, c: str) -> List[int]:\n",
    "    n = len(s)\n",
    "    ans = [0] * n\n",
    "\n",
    "    idx = -n\n",
    "    for i, ch in enumerate(s):\n",
    "        if ch == c:\n",
    "            idx = i\n",
    "        ans[i] = i - idx\n",
    "\n",
    "    idx = 2 * n\n",
    "    for i in range(n - 1, -1, -1):\n",
    "        if s[i] == c:\n",
    "            idx = i\n",
    "        ans[i] = min(ans[i], idx - i)\n",
    "    return ans\n",
    "\n",
    "\n",
    "s = \"abba\"\n",
    "c = \"b\"\n",
    "shortestToChar(s,c)"
   ]
  }
 ],
 "metadata": {
  "kernelspec": {
   "display_name": "Python 3",
   "language": "python",
   "name": "python3"
  },
  "language_info": {
   "codemirror_mode": {
    "name": "ipython",
    "version": 3
   },
   "file_extension": ".py",
   "mimetype": "text/x-python",
   "name": "python",
   "nbconvert_exporter": "python",
   "pygments_lexer": "ipython3",
   "version": "3.6.9"
  },
  "toc-autonumbering": false,
  "toc-showcode": false,
  "toc-showmarkdowntxt": false,
  "toc-showtags": false
 },
 "nbformat": 4,
 "nbformat_minor": 4
}
