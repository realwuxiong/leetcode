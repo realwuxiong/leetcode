{
 "cells": [
  {
   "cell_type": "code",
   "execution_count": 58,
   "metadata": {},
   "outputs": [
    {
     "name": "stdout",
     "output_type": "stream",
     "text": [
      "[[0, 0, 0, 0, 0, 0, 0, 0, 0, 0, 0], [0, 0, 0, 0, 0, 0, 0, 0, 0, 0, 0], [0, 1, 1, 1, 1, 1, 1, 1, 1, 1, 1], [0, 1, 1, 2, 2, 2, 2, 2, 2, 2, 2], [0, 1, 1, 2, 2, 2, 3, 3, 3, 3, 3], [0, 1, 1, 2, 3, 3, 3, 3, 3, 3, 4], [0, 1, 1, 2, 3, 3, 3, 3, 3, 3, 4], [0, 1, 1, 2, 3, 3, 3, 3, 3, 3, 4], [0, 1, 1, 2, 3, 3, 3, 3, 3, 3, 4], [0, 1, 1, 2, 3, 3, 3, 3, 3, 4, 4], [0, 1, 1, 2, 3, 3, 3, 3, 4, 4, 4]]\n"
     ]
    },
    {
     "data": {
      "text/plain": [
       "6"
      ]
     },
     "execution_count": 58,
     "metadata": {},
     "output_type": "execute_result"
    }
   ],
   "source": [
    "# 1713. 得到子序列的最少操作次数\n",
    "# https://leetcode-cn.com/problems/minimum-operations-to-make-a-subsequence/\n",
    "from typing import List\n",
    "def minOperations(target: List[int], arr: List[int]) -> int:\n",
    "    # 感觉就是求最长公共子序列\n",
    "    # 试一试动态规划，方法应该没错，但是超时了73 / 82 个通过测试用例\n",
    "    m = len(target)\n",
    "    n = len(arr)\n",
    "    \n",
    "    dp = [[0]*(n+1) for i in range(m+1)]\n",
    "#     dp =[[0]*(n+1)]*(m+1)  这种写法是错的，是浅拷贝，该一个参数会导致整列数的改变\n",
    "    for i in range(1,m+1):\n",
    "        for j in range(1,n+1):\n",
    "            if target[i-1] == arr[j-1]:\n",
    "                dp[i][j] = dp[i-1][j-1]+1\n",
    "            else:\n",
    "                dp[i][j] = max(dp[i][j-1],dp[i-1][j])\n",
    "    print(dp)\n",
    "\n",
    "    return m-dp[m][n]\n",
    "\n",
    "    \n",
    "target = [17,18,14,13,6,9,1,3,2,20]\n",
    "arr = [18,15,14,6,6,13,15,20,2,6]\n",
    "minOperations(target,arr)"
   ]
  }
 ],
 "metadata": {
  "kernelspec": {
   "display_name": "Python 3",
   "language": "python",
   "name": "python3"
  },
  "language_info": {
   "codemirror_mode": {
    "name": "ipython",
    "version": 3
   },
   "file_extension": ".py",
   "mimetype": "text/x-python",
   "name": "python",
   "nbconvert_exporter": "python",
   "pygments_lexer": "ipython3",
   "version": "3.6.9"
  },
  "toc-autonumbering": false,
  "toc-showcode": false,
  "toc-showmarkdowntxt": false,
  "toc-showtags": false
 },
 "nbformat": 4,
 "nbformat_minor": 4
}
