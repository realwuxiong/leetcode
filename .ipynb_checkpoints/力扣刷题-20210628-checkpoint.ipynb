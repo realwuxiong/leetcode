{
 "cells": [
  {
   "cell_type": "code",
   "execution_count": null,
   "metadata": {},
   "outputs": [],
   "source": [
    "# 815. 公交路线\n",
    "# https://leetcode-cn.com/problems/bus-routes/\n",
    "from typing import List\n",
    "def numBusesToDestination(self, routes: List[List[int]], source: int, target: int) -> int:\n",
    "    pass\n",
    "routes = [[7,12],[4,5,15],[6],[15,19],[9,12,13]]\n",
    "source = 15\n",
    "target = 12"
   ]
  }
 ],
 "metadata": {
  "kernelspec": {
   "display_name": "Python 3",
   "language": "python",
   "name": "python3"
  },
  "language_info": {
   "codemirror_mode": {
    "name": "ipython",
    "version": 3
   },
   "file_extension": ".py",
   "mimetype": "text/x-python",
   "name": "python",
   "nbconvert_exporter": "python",
   "pygments_lexer": "ipython3",
   "version": "3.6.9"
  }
 },
 "nbformat": 4,
 "nbformat_minor": 4
}
