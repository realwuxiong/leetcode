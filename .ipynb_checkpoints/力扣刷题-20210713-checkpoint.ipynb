{
 "cells": [
  {
   "cell_type": "code",
   "execution_count": 1,
   "metadata": {},
   "outputs": [],
   "source": [
    "# 218. 天际线问题\n",
    "# https://leetcode-cn.com/problems/the-skyline-problem/\n",
    "# 不想做了，看的答案。。。。后面再补一补\n",
    "class Solution:\n",
    "    def getSkyline(self, buildings: List[List[int]]) -> List[List[int]]:\n",
    "        events = [(l, -h, r) for l, r, h in buildings]\n",
    "        events += [(r, 0, 0) for _, r, _ in buildings]\n",
    "        events.sort()\n",
    "        \n",
    "        res = [[0, 0]]\n",
    "        queue = [(0, float('inf'))]\n",
    "        for l, minusH, r in events:\n",
    "            h = -minusH\n",
    "            while l>=queue[0][1]:\n",
    "                heapq.heappop(queue)\n",
    "            if h:\n",
    "                heapq.heappush(queue, (-h, r))\n",
    "            if res[-1][1] != -queue[0][0]:\n",
    "                res.append([l, -queue[0][0]])\n",
    "        return res[1:]"
   ]
  }
 ],
 "metadata": {
  "kernelspec": {
   "display_name": "Python 3",
   "language": "python",
   "name": "python3"
  },
  "language_info": {
   "codemirror_mode": {
    "name": "ipython",
    "version": 3
   },
   "file_extension": ".py",
   "mimetype": "text/x-python",
   "name": "python",
   "nbconvert_exporter": "python",
   "pygments_lexer": "ipython3",
   "version": "3.6.9"
  }
 },
 "nbformat": 4,
 "nbformat_minor": 4
}
