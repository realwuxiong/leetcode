{
 "cells": [
  {
   "cell_type": "code",
   "execution_count": null,
   "metadata": {},
   "outputs": [],
   "source": [
    "# 273. 整数转换英文表示\n",
    "# https://leetcode-cn.com/problems/integer-to-english-words/\n",
    "# 不想做，复制粘贴走人。。\n",
    "\n",
    "singles = [\"\", \"One\", \"Two\", \"Three\", \"Four\", \"Five\", \"Six\", \"Seven\", \"Eight\", \"Nine\"]\n",
    "teens = [\"Ten\", \"Eleven\", \"Twelve\", \"Thirteen\", \"Fourteen\", \"Fifteen\", \"Sixteen\", \"Seventeen\", \"Eighteen\", \"Nineteen\"]\n",
    "tens = [\"\", \"Ten\", \"Twenty\", \"Thirty\", \"Forty\", \"Fifty\", \"Sixty\", \"Seventy\", \"Eighty\", \"Ninety\"]\n",
    "thousands = [\"\", \"Thousand\", \"Million\", \"Billion\"]\n",
    "\n",
    "class Solution:\n",
    "    def numberToWords(self, num: int) -> str:\n",
    "        if num == 0:\n",
    "            return \"Zero\"\n",
    "\n",
    "        def recursion(num: int) -> str:\n",
    "            s = \"\"\n",
    "            if num == 0:\n",
    "                return s\n",
    "            elif num < 10:\n",
    "                s += singles[num] + \" \"\n",
    "            elif num < 20:\n",
    "                s += teens[num - 10] + \" \"\n",
    "            elif num < 100:\n",
    "                s += tens[num // 10] + \" \" + recursion(num % 10)\n",
    "            else:\n",
    "                s += singles[num // 100] + \" Hundred \" + recursion(num % 100)\n",
    "            return s\n",
    "\n",
    "        s = \"\"\n",
    "        unit = int(1e9)\n",
    "        for i in range(3, -1, -1):\n",
    "            curNum = num // unit\n",
    "            if curNum:\n",
    "                num -= curNum * unit\n",
    "                s += recursion(curNum) + thousands[i] + \" \"\n",
    "            unit //= 1000\n",
    "        return s.strip()\n",
    "\n"
   ]
  }
 ],
 "metadata": {
  "kernelspec": {
   "display_name": "Python 3",
   "language": "python",
   "name": "python3"
  },
  "language_info": {
   "codemirror_mode": {
    "name": "ipython",
    "version": 3
   },
   "file_extension": ".py",
   "mimetype": "text/x-python",
   "name": "python",
   "nbconvert_exporter": "python",
   "pygments_lexer": "ipython3",
   "version": "3.6.9"
  },
  "toc-autonumbering": false,
  "toc-showcode": false,
  "toc-showmarkdowntxt": false,
  "toc-showtags": false
 },
 "nbformat": 4,
 "nbformat_minor": 4
}
