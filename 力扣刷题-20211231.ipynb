{
 "cells": [
  {
   "cell_type": "code",
   "execution_count": 3,
   "metadata": {},
   "outputs": [
    {
     "data": {
      "text/plain": [
       "True"
      ]
     },
     "execution_count": 3,
     "metadata": {},
     "output_type": "execute_result"
    }
   ],
   "source": [
    "# 507. 完美数\n",
    "# https://leetcode-cn.com/problems/perfect-number/\n",
    "\n",
    "def checkPerfectNumber(num: int) -> bool:\n",
    "    if num == 1:\n",
    "        return False\n",
    "\n",
    "    sum = 1\n",
    "    d = 2\n",
    "    while d * d <= num:\n",
    "        if num % d == 0:\n",
    "            sum += d\n",
    "            if d * d < num:\n",
    "                sum += num / d\n",
    "        d += 1\n",
    "    return sum == num\n",
    "num = 496\n",
    "checkPerfectNumber(num)"
   ]
  }
 ],
 "metadata": {
  "kernelspec": {
   "display_name": "Python 3",
   "language": "python",
   "name": "python3"
  },
  "language_info": {
   "codemirror_mode": {
    "name": "ipython",
    "version": 3
   },
   "file_extension": ".py",
   "mimetype": "text/x-python",
   "name": "python",
   "nbconvert_exporter": "python",
   "pygments_lexer": "ipython3",
   "version": "3.6.9"
  },
  "toc-autonumbering": false,
  "toc-showcode": false,
  "toc-showmarkdowntxt": false,
  "toc-showtags": false
 },
 "nbformat": 4,
 "nbformat_minor": 4
}
