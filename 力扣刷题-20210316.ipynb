{
 "cells": [
  {
   "cell_type": "code",
   "execution_count": 1,
   "metadata": {},
   "outputs": [
    {
     "data": {
      "text/plain": [
       "[[1, 2, 3], [8, 9, 4], [7, 6, 5]]"
      ]
     },
     "execution_count": 1,
     "metadata": {},
     "output_type": "execute_result"
    }
   ],
   "source": [
    "# 59. 螺旋矩阵 II\n",
    "# https://leetcode-cn.com/problems/spiral-matrix-ii/\n",
    "# 用模拟的方法,参考的标准答案\n",
    "from typing import List\n",
    "def generateMatrix(n: int) -> List[List[int]]:\n",
    "    # \n",
    "    dirs = [(0, 1), [1, 0], (0, -1), (-1, 0)]\n",
    "    matrix = [[0] * n for _ in range(n)]\n",
    "    row, col, dirIdx = 0, 0, 0\n",
    "    for i in range(n * n):\n",
    "        matrix[row][col] = i + 1\n",
    "        dx, dy = dirs[dirIdx]\n",
    "        r, c = row + dx, col + dy\n",
    "        if r < 0 or r >= n or c < 0 or c >= n or matrix[r][c] > 0:\n",
    "            dirIdx = (dirIdx + 1) % 4   # 顺时针旋转至下一个方向\n",
    "            dx, dy = dirs[dirIdx]\n",
    "        row, col = row + dx, col + dy\n",
    "\n",
    "    return matrix\n",
    "\n",
    "\n",
    "generateMatrix(3)"
   ]
  }
 ],
 "metadata": {
  "kernelspec": {
   "display_name": "Python 3",
   "language": "python",
   "name": "python3"
  },
  "language_info": {
   "codemirror_mode": {
    "name": "ipython",
    "version": 3
   },
   "file_extension": ".py",
   "mimetype": "text/x-python",
   "name": "python",
   "nbconvert_exporter": "python",
   "pygments_lexer": "ipython3",
   "version": "3.8.5"
  }
 },
 "nbformat": 4,
 "nbformat_minor": 4
}
