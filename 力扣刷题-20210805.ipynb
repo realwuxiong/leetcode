{
 "cells": [
  {
   "cell_type": "code",
   "execution_count": 45,
   "metadata": {},
   "outputs": [
    {
     "data": {
      "text/plain": [
       "[2, 4, 5, 6]"
      ]
     },
     "execution_count": 45,
     "metadata": {},
     "output_type": "execute_result"
    }
   ],
   "source": [
    "# 802. 找到最终的安全状态\n",
    "# https://leetcode-cn.com/problems/find-eventual-safe-states/\n",
    "\n",
    "from typing import List\n",
    "def eventualSafeNodes(graph: List[List[int]]) -> List[int]:\n",
    "    \"\"\"\n",
    "    分析：有环则该节点为非安全节点，用dfs,\n",
    "    还是看的答案，\n",
    "    根据题意，若起始节点位于一个环内，或者能到达一个环，则该节点不是安全的。否则，该节点是安全的。\n",
    "\n",
    "    我们可以使用深度优先搜索来找环，并在深度优先搜索时，用三种颜色对节点进行标记，标记的规则如下：\n",
    "\n",
    "    白色（用 00 表示）：该节点尚未被访问；\n",
    "    灰色（用 11 表示）：该节点位于递归栈中，或者在某个环上；\n",
    "    黑色（用 22 表示）：该节点搜索完毕，是一个安全节点。\n",
    "    当我们首次访问一个节点时，将其标记为灰色，并继续搜索与其相连的节点。\n",
    "\n",
    "    如果在搜索过程中遇到了一个灰色节点，则说明找到了一个环，此时退出搜索，栈中的节点仍保持为灰色，这一做法可以将「找到了环」这一信息传递到栈中的所有节点上。\n",
    "\n",
    "    如果搜索过程中没有遇到灰色节点，则说明没有遇到环，那么递归返回前，我们将其标记由灰色改为黑色，即表示它是一个安全的节点。\n",
    "\n",
    "    \"\"\"\n",
    "    n = len(graph)\n",
    "    visit = [0] * n\n",
    "    ans = []\n",
    "    def dfs(i):\n",
    "        if visit[i] > 0:\n",
    "            return  visit[i] == 2\n",
    "        visit[i] = 1\n",
    "        for j in graph[i]:\n",
    "            if not dfs(j):\n",
    "                return False\n",
    "        visit[i] = 2\n",
    "        return True\n",
    "    return [i for i in range(n) if dfs(i)]\n",
    "graph = [[1,2],[2,3],[5],[0],[5],[],[]]\n",
    "eventualSafeNodes(graph)"
   ]
  },
  {
   "cell_type": "code",
   "execution_count": 61,
   "metadata": {},
   "outputs": [
    {
     "data": {
      "text/plain": [
       "False"
      ]
     },
     "execution_count": 61,
     "metadata": {},
     "output_type": "execute_result"
    }
   ],
   "source": [
    "# 1893. 检查是否区域内所有整数都被覆盖\n",
    "# 再做一次查分数组\n",
    "\n",
    "from typing import List\n",
    "def isCovered(ranges: List[List[int]], left: int, right: int) -> bool:\n",
    "    prefix = [0]*51\n",
    "    for r in ranges:\n",
    "        prefix[r[0]] += 1\n",
    "        if r[1] < right:\n",
    "            prefix[r[1]+1] -= 1\n",
    "    t = 0\n",
    "    for i in range(right+1):\n",
    "        t += prefix[i]\n",
    "        if left <= i <= right:\n",
    "            if t <= 0:\n",
    "                return False\n",
    "    return True\n",
    "    pass\n",
    "ranges =  [[50,50]]\n",
    "left = 1\n",
    "right = 49\n",
    "isCovered(ranges,left,right)"
   ]
  }
 ],
 "metadata": {
  "kernelspec": {
   "display_name": "Python 3",
   "language": "python",
   "name": "python3"
  },
  "language_info": {
   "codemirror_mode": {
    "name": "ipython",
    "version": 3
   },
   "file_extension": ".py",
   "mimetype": "text/x-python",
   "name": "python",
   "nbconvert_exporter": "python",
   "pygments_lexer": "ipython3",
   "version": "3.6.9"
  },
  "toc-autonumbering": false,
  "toc-showcode": false,
  "toc-showmarkdowntxt": false,
  "toc-showtags": false
 },
 "nbformat": 4,
 "nbformat_minor": 4
}
