{
 "cells": [
  {
   "cell_type": "code",
   "execution_count": 5,
   "metadata": {},
   "outputs": [
    {
     "data": {
      "text/plain": [
       "0"
      ]
     },
     "execution_count": 5,
     "metadata": {},
     "output_type": "execute_result"
    }
   ],
   "source": [
    "# 1894. 找到需要补充粉笔的学生编号\n",
    "# https://leetcode-cn.com/problems/find-the-student-that-will-replace-the-chalk/\n",
    "from typing import List\n",
    "def chalkReplacer(chalk: List[int], k: int) -> int:\n",
    "    i = 0\n",
    "    n = len(chalk)\n",
    "    k %= sum(chalk)\n",
    "    while k >= chalk[i]:\n",
    "        k -= chalk[i]\n",
    "        i += 1\n",
    "        i %= n\n",
    "    return i\n",
    "chalk = [5,1,5]\n",
    "k = 22\n",
    "chalkReplacer(chalk,k)"
   ]
  },
  {
   "cell_type": "code",
   "execution_count": 3,
   "metadata": {},
   "outputs": [
    {
     "data": {
      "text/plain": [
       "[[1, 4],\n",
       " [1, 5],\n",
       " [2, 5],\n",
       " [2, 4],\n",
       " [2, 3],\n",
       " [1, 3],\n",
       " [0, 3],\n",
       " [0, 4],\n",
       " [0, 5],\n",
       " [3, 5],\n",
       " [3, 4],\n",
       " [3, 3],\n",
       " [3, 2],\n",
       " [2, 2],\n",
       " [1, 2],\n",
       " [0, 2],\n",
       " [4, 5],\n",
       " [4, 4],\n",
       " [4, 3],\n",
       " [4, 2],\n",
       " [4, 1],\n",
       " [3, 1],\n",
       " [2, 1],\n",
       " [1, 1],\n",
       " [0, 1],\n",
       " [4, 0],\n",
       " [3, 0],\n",
       " [2, 0],\n",
       " [1, 0],\n",
       " [0, 0]]"
      ]
     },
     "execution_count": 3,
     "metadata": {},
     "output_type": "execute_result"
    }
   ],
   "source": [
    "# 再来一题\n",
    "# 885. 螺旋矩阵 III\n",
    "# https://leetcode-cn.com/problems/spiral-matrix-iii/\n",
    "\n",
    "from typing import List\n",
    "def spiralMatrixIII(rows: int, cols: int, rStart: int, cStart: int) -> List[List[int]]:\n",
    "    # Easy，一次AC。\n",
    "    step = 1\n",
    "    count = 0\n",
    "    n = rows*cols\n",
    "    ans = []\n",
    "    spiral = [(0,1),(1,0),(0,-1),(-1,0)]\n",
    "    index = 0\n",
    "    while True:\n",
    "        for a,b in spiral:\n",
    "            for i in range(step):\n",
    "                r,c =rStart,cStart\n",
    "                if -1 < r < rows and -1 < c < cols:\n",
    "                    ans.append([r,c])\n",
    "                    count += 1\n",
    "                if count == n:\n",
    "                    return ans\n",
    "                rStart,cStart=r+a,c+b\n",
    "            index += 1\n",
    "            if index % 2 == 0:\n",
    "                step += 1\n",
    "\n",
    "R = 5\n",
    "C = 6\n",
    "r0 = 1\n",
    "c0 = 4\n",
    "spiralMatrixIII(R,C,r0,c0)"
   ]
  }
 ],
 "metadata": {
  "kernelspec": {
   "display_name": "Python 3",
   "language": "python",
   "name": "python3"
  },
  "language_info": {
   "codemirror_mode": {
    "name": "ipython",
    "version": 3
   },
   "file_extension": ".py",
   "mimetype": "text/x-python",
   "name": "python",
   "nbconvert_exporter": "python",
   "pygments_lexer": "ipython3",
   "version": "3.6.9"
  },
  "toc-autonumbering": false,
  "toc-showcode": false,
  "toc-showmarkdowntxt": false,
  "toc-showtags": false
 },
 "nbformat": 4,
 "nbformat_minor": 4
}
