{
 "cells": [
  {
   "cell_type": "code",
   "execution_count": 95,
   "metadata": {},
   "outputs": [
    {
     "data": {
      "text/plain": [
       "[-2, 4, 1, -3]"
      ]
     },
     "execution_count": 95,
     "metadata": {},
     "output_type": "execute_result"
    }
   ],
   "source": [
    "# 1743. 从相邻元素对还原数组\n",
    "# https://leetcode-cn.com/problems/restore-the-array-from-adjacent-pairs/\n",
    "\n",
    "\n",
    "# 明天重新做一下这个题目\n",
    "from typing import List\n",
    "def restoreArray(adjacentPairs: List[List[int]]) -> List[int]:\n",
    "#     print(adjacentPairs)\n",
    "    # 进行一下排序就好了\n",
    "    # python 版本会超出时间限制，但是理解他的方法就行。。。\n",
    "    myHashMap ={}\n",
    "    for a ,b in adjacentPairs:\n",
    "        if a not in myHashMap.keys():\n",
    "            myHashMap[a] = [b]\n",
    "        else:\n",
    "            myHashMap[a].append(b)\n",
    "            \n",
    "        if b not in myHashMap.keys():\n",
    "            myHashMap[b] = [a]\n",
    "        else:\n",
    "            myHashMap[b].append(a)\n",
    "    ans = []\n",
    "    head = None\n",
    "    for key in myHashMap.keys():\n",
    "        if len( myHashMap[key]) == 1:\n",
    "            head = key\n",
    "            break\n",
    "    ans.append(head)\n",
    "    t = myHashMap[head][0]\n",
    "#     print(myHashMap)\n",
    "#     print(ans)\n",
    "    for i in range(len(myHashMap)-2):\n",
    "        ans.append(t)\n",
    "        if myHashMap[t][0] not in ans:\n",
    "            t = myHashMap[t][0]\n",
    "        else:\n",
    "            t = myHashMap[t][1]\n",
    "    ans.append(t)\n",
    "    return ans\n",
    "    \n",
    "    \n",
    "    pass\n",
    "adjacentPairs =[[4,-2],[1,4],[-3,1]]\n",
    "restoreArray(adjacentPairs)"
   ]
  }
 ],
 "metadata": {
  "kernelspec": {
   "display_name": "Python 3",
   "language": "python",
   "name": "python3"
  },
  "language_info": {
   "codemirror_mode": {
    "name": "ipython",
    "version": 3
   },
   "file_extension": ".py",
   "mimetype": "text/x-python",
   "name": "python",
   "nbconvert_exporter": "python",
   "pygments_lexer": "ipython3",
   "version": "3.6.9"
  },
  "toc-autonumbering": false,
  "toc-showcode": false,
  "toc-showmarkdowntxt": false,
  "toc-showtags": false
 },
 "nbformat": 4,
 "nbformat_minor": 4
}
