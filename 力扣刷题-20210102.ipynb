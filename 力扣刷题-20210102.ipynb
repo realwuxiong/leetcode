{
 "cells": [
  {
   "cell_type": "code",
   "execution_count": 4,
   "metadata": {},
   "outputs": [
    {
     "name": "stdout",
     "output_type": "stream",
     "text": [
      "[1, 3, -1]\n",
      "[3, -1, -3]\n",
      "[-1, -3, 5]\n",
      "[-3, 5, 3]\n",
      "[5, 3, 6]\n",
      "[3, 6, 7]\n",
      "[3, 3, 5, 5, 6, 7]\n"
     ]
    }
   ],
   "source": [
    "# 239. 滑动窗口最大值\n",
    "# https://leetcode-cn.com/problems/sliding-window-maximum/\n",
    "\n",
    "# 这种方法超出时间限制\n",
    "def maxSlidingWindow(nums, k: int) :  \n",
    "    head = k\n",
    "    tail = 0\n",
    "    ans=[]\n",
    "    while(head<=len(nums)):\n",
    "        ans.append(max(nums[tail:head]))\n",
    "        tail += 1\n",
    "        head += 1\n",
    "    return ans\n",
    "\n",
    "\n",
    "nums = [1,3,-1,-3,5,3,6,7]\n",
    "k = 3\n",
    "maxSlidingWindow(nums,k)\n"
   ]
  },
  {
   "cell_type": "code",
   "execution_count": null,
   "metadata": {},
   "outputs": [],
   "source": [
    "# 想到了用队列，但是还是没写出来。。。。\n",
    "#  这官方答案\n",
    "class Solution:\n",
    "    def maxSlidingWindow(self, nums: List[int], k: int) -> List[int]:\n",
    "        n = len(nums)\n",
    "        # 注意 Python 默认的优先队列是小根堆\n",
    "        q = [(-nums[i], i) for i in range(k)]\n",
    "        heapq.heapify(q)\n",
    "\n",
    "        ans = [-q[0][0]]\n",
    "        for i in range(k, n):\n",
    "            heapq.heappush(q, (-nums[i], i))\n",
    "            while q[0][1] <= i - k:\n",
    "                heapq.heappop(q)\n",
    "            ans.append(-q[0][0])\n",
    "        \n",
    "        return ans\n",
    "\n",
    "\n"
   ]
  }
 ],
 "metadata": {
  "kernelspec": {
   "display_name": "Python 3",
   "language": "python",
   "name": "python3"
  },
  "language_info": {
   "codemirror_mode": {
    "name": "ipython",
    "version": 3
   },
   "file_extension": ".py",
   "mimetype": "text/x-python",
   "name": "python",
   "nbconvert_exporter": "python",
   "pygments_lexer": "ipython3",
   "version": "3.8.5"
  }
 },
 "nbformat": 4,
 "nbformat_minor": 4
}
