{
 "cells": [
  {
   "cell_type": "code",
   "execution_count": 8,
   "metadata": {},
   "outputs": [
    {
     "name": "stdout",
     "output_type": "stream",
     "text": [
      "Counter({2: 3, 1: 2, 3: 1, 4: 1})\n",
      "dict_values([2, 3, 1, 1])\n"
     ]
    }
   ],
   "source": [
    "# 697. 数组的度\n",
    "# https://leetcode-cn.com/problems/degree-of-an-array/\n",
    "# 又是滑动窗口\n",
    "# 以下的抄的评论的代码\n",
    "import java.util.ArrayList;\n",
    "import java.util.HashMap;\n",
    "import java.util.List;\n",
    "import java.util.Map;\n",
    "\n",
    "class Solution {\n",
    "    public int findShortestSubArray(int[] nums) {\n",
    "        //记录元素的出现次数\n",
    "        HashMap<Integer, Integer> map = new HashMap<>();\n",
    "        //记录元素出现的第一个下标\n",
    "        HashMap<Integer, Integer> stIndex = new HashMap<>();\n",
    "        //记录元素出现的最后一个下标\n",
    "        HashMap<Integer, Integer> endIndex = new HashMap<>();\n",
    "        int maxx = 0;\n",
    "        for (int i = 0; i < nums.length; i++) {\n",
    "            if (!map.containsKey(nums[i])) {\n",
    "                //元素不存在,第一次出现,记录起始下标\n",
    "                stIndex.put(nums[i], i);\n",
    "                endIndex.put(nums[i], i);\n",
    "            } else {\n",
    "                //元素已存在,更新最后出现的下标\n",
    "                endIndex.put(nums[i], i);\n",
    "            }\n",
    "            map.put(nums[i], map.getOrDefault(nums[i], 0) + 1);\n",
    "            maxx = Math.max(maxx, map.get(nums[i]));\n",
    "        }\n",
    "        //记录出现频度最大的数(可能有多个),加入列表\n",
    "        List<Integer> list = new ArrayList<>();\n",
    "        for (Map.Entry<Integer, Integer> entry : map.entrySet()) {\n",
    "            if (entry.getValue() == maxx) {\n",
    "                list.add(entry.getKey());\n",
    "            }\n",
    "        }\n",
    "        //选取end - st + 1长度最小的为答案\n",
    "        int ans = Integer.MAX_VALUE;\n",
    "        for (int i = 0; i < list.size(); i++)\n",
    "            ans = Math.min(ans, endIndex.get(list.get(i)) - stIndex.get(list.get(i)) + 1);\n",
    "        return ans;\n",
    "    }\n",
    "}"
   ]
  }
 ],
 "metadata": {
  "kernelspec": {
   "display_name": "Python 3",
   "language": "python",
   "name": "python3"
  },
  "language_info": {
   "codemirror_mode": {
    "name": "ipython",
    "version": 3
   },
   "file_extension": ".py",
   "mimetype": "text/x-python",
   "name": "python",
   "nbconvert_exporter": "python",
   "pygments_lexer": "ipython3",
   "version": "3.8.5"
  }
 },
 "nbformat": 4,
 "nbformat_minor": 4
}
