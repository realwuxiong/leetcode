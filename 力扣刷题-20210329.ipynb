{
 "cells": [
  {
   "cell_type": "code",
   "execution_count": null,
   "metadata": {},
   "outputs": [],
   "source": [
    "# 190. 颠倒二进制位\n",
    "# https://leetcode-cn.com/problems/reverse-bits/\n",
    "# 菜鸡还是得不断的努力啊。。。。。。\n",
    "# 太菜了，，，\n",
    "class Solution:\n",
    "    def reverseBits(self, n: int) -> int:\n",
    "        # print(type(n))\n",
    "        # print(n)\n",
    "        reves_n = 0\n",
    "        for i in range(32):\n",
    "            reves_n |= (n&1)<<(31-i)\n",
    "            n >>= 1\n",
    "        return reves_n\n",
    "\n",
    "# 分治，也太秀了。。。。\n",
    "# public class Solution {\n",
    "#     private static final int M1 = 0x55555555; // 01010101010101010101010101010101\n",
    "#     private static final int M2 = 0x33333333; // 00110011001100110011001100110011\n",
    "#     private static final int M4 = 0x0f0f0f0f; // 00001111000011110000111100001111\n",
    "#     private static final int M8 = 0x00ff00ff; // 00000000111111110000000011111111\n",
    "\n",
    "#     public int reverseBits(int n) {\n",
    "#         n = n >>> 1 & M1 | (n & M1) << 1;\n",
    "#         n = n >>> 2 & M2 | (n & M2) << 2;\n",
    "#         n = n >>> 4 & M4 | (n & M4) << 4;\n",
    "#         n = n >>> 8 & M8 | (n & M8) << 8;\n",
    "#         return n >>> 16 | n << 16;\n",
    "#     }\n",
    "# }\n"
   ]
  }
 ],
 "metadata": {
  "kernelspec": {
   "display_name": "Python 3",
   "language": "python",
   "name": "python3"
  },
  "language_info": {
   "codemirror_mode": {
    "name": "ipython",
    "version": 3
   },
   "file_extension": ".py",
   "mimetype": "text/x-python",
   "name": "python",
   "nbconvert_exporter": "python",
   "pygments_lexer": "ipython3",
   "version": "3.8.5"
  }
 },
 "nbformat": 4,
 "nbformat_minor": 4
}
