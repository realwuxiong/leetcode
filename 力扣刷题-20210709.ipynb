{
 "cells": [
  {
   "cell_type": "code",
   "execution_count": 4,
   "metadata": {},
   "outputs": [
    {
     "name": "stdout",
     "output_type": "stream",
     "text": [
      "[1, 2, 5, 9]\n"
     ]
    },
    {
     "data": {
      "text/plain": [
       "5"
      ]
     },
     "execution_count": 4,
     "metadata": {},
     "output_type": "execute_result"
    }
   ],
   "source": [
    "# 面试题 17.10. 主要元素\n",
    "# https://leetcode-cn.com/problems/find-majority-element-lcci/\n",
    "\n",
    "# 要时间复杂度为O(n),空间复杂度为O(1),还是有点困难啊\n",
    "from typing import List\n",
    "def majorityElement(nums: List[int]) -> int:\n",
    "    import collections\n",
    "    counter = collections.Counter(nums)\n",
    "    keys = list(counter.keys())\n",
    "    print(keys)\n",
    "    keys.sort(key=lambda x: counter[x])\n",
    "    return keys[-1] if counter[keys[-1]] > len(nums)//2 else -1\n",
    "    pass\n",
    "nums = [1,2,5,9,5,9,5,5,5]\n",
    "majorityElement(nums)"
   ]
  },
  {
   "cell_type": "code",
   "execution_count": 18,
   "metadata": {},
   "outputs": [
    {
     "name": "stdout",
     "output_type": "stream",
     "text": [
      "1\n"
     ]
    },
    {
     "data": {
      "text/plain": [
       "-1"
      ]
     },
     "execution_count": 18,
     "metadata": {},
     "output_type": "execute_result"
    }
   ],
   "source": [
    "# 看一看答案的解法\n",
    "from typing import List\n",
    "def majorityElement(nums: List[int]) -> int:\n",
    "    candidate = -1\n",
    "    count = 0\n",
    "    for num in nums:\n",
    "        if count == 0:\n",
    "            candidate = num\n",
    "        \n",
    "        if num == candidate:\n",
    "            count += 1\n",
    "        else:\n",
    "            count -= 1\n",
    "#     print(candidate)\n",
    "    count = 0          \n",
    "    for num in nums:\n",
    "        if num == candidate:\n",
    "            count += 1\n",
    "            \n",
    "    return candidate if count > len(nums)//2 else -1\n",
    "nums = [3,3,3,4,5,6,1]\n",
    "majorityElement(nums)"
   ]
  }
 ],
 "metadata": {
  "kernelspec": {
   "display_name": "Python 3",
   "language": "python",
   "name": "python3"
  },
  "language_info": {
   "codemirror_mode": {
    "name": "ipython",
    "version": 3
   },
   "file_extension": ".py",
   "mimetype": "text/x-python",
   "name": "python",
   "nbconvert_exporter": "python",
   "pygments_lexer": "ipython3",
   "version": "3.6.9"
  }
 },
 "nbformat": 4,
 "nbformat_minor": 4
}
