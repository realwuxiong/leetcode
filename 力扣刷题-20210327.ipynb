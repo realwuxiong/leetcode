{
 "cells": [
  {
   "cell_type": "code",
   "execution_count": null,
   "metadata": {},
   "outputs": [],
   "source": [
    "# 61. 旋转链表\n",
    "# https://leetcode-cn.com/problems/rotate-list/\n",
    "# 这个题目到也简单\n",
    "# 标准答案的闭合环的思想很不错，，，，\n",
    "\n",
    "# Definition for singly-linked list.\n",
    "# class ListNode:\n",
    "#     def __init__(self, val=0, next=None):\n",
    "#         self.val = val\n",
    "#         self.next = next\n",
    "class Solution:\n",
    "    def rotateRight(self, head: ListNode, k: int) -> ListNode:\n",
    "        if  head == None:\n",
    "            return head\n",
    "        p = head\n",
    "        n = 0   # 计算出链表的长度\n",
    "        while p:\n",
    "            n += 1\n",
    "            p = p.next\n",
    "        k = k % n # 避免循环好几次\n",
    "        if k ==0:\n",
    "            return head\n",
    "        dummy = ListNode(0,head) # 设置一个哑点\n",
    "        # 找到断开的点\n",
    "        p = dummy\n",
    "        for i in range(n-k):\n",
    "            p = p.next\n",
    "\n",
    "        q = p.next\n",
    "        p.next = None\n",
    "        dummy.next = q\n",
    "        while q.next:\n",
    "            q = q.next\n",
    "        q.next = head\n",
    "        return dummy.next"
   ]
  },
  {
   "cell_type": "code",
   "execution_count": 1,
   "metadata": {},
   "outputs": [
    {
     "name": "stdin",
     "output_type": "stream",
     "text": [
      " 0\n"
     ]
    },
    {
     "name": "stdout",
     "output_type": "stream",
     "text": [
      "['0']\n"
     ]
    }
   ],
   "source": [
    "x = input().split()\n",
    "print(x)"
   ]
  }
 ],
 "metadata": {
  "kernelspec": {
   "display_name": "Python 3",
   "language": "python",
   "name": "python3"
  },
  "language_info": {
   "codemirror_mode": {
    "name": "ipython",
    "version": 3
   },
   "file_extension": ".py",
   "mimetype": "text/x-python",
   "name": "python",
   "nbconvert_exporter": "python",
   "pygments_lexer": "ipython3",
   "version": "3.8.5"
  }
 },
 "nbformat": 4,
 "nbformat_minor": 4
}
