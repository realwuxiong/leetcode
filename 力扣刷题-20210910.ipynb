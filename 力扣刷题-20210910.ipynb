{
 "cells": [
  {
   "cell_type": "code",
   "execution_count": 5,
   "metadata": {},
   "outputs": [
    {
     "data": {
      "text/plain": [
       "0"
      ]
     },
     "execution_count": 5,
     "metadata": {},
     "output_type": "execute_result"
    }
   ],
   "source": [
    "# 1894. 找到需要补充粉笔的学生编号\n",
    "# https://leetcode-cn.com/problems/find-the-student-that-will-replace-the-chalk/\n",
    "from typing import List\n",
    "def chalkReplacer(chalk: List[int], k: int) -> int:\n",
    "    i = 0\n",
    "    n = len(chalk)\n",
    "    k %= sum(chalk)\n",
    "    while k >= chalk[i]:\n",
    "        k -= chalk[i]\n",
    "        i += 1\n",
    "        i %= n\n",
    "    return i\n",
    "chalk = [5,1,5]\n",
    "k = 22\n",
    "chalkReplacer(chalk,k)"
   ]
  }
 ],
 "metadata": {
  "kernelspec": {
   "display_name": "Python 3",
   "language": "python",
   "name": "python3"
  },
  "language_info": {
   "codemirror_mode": {
    "name": "ipython",
    "version": 3
   },
   "file_extension": ".py",
   "mimetype": "text/x-python",
   "name": "python",
   "nbconvert_exporter": "python",
   "pygments_lexer": "ipython3",
   "version": "3.6.9"
  },
  "toc-autonumbering": false,
  "toc-showcode": false,
  "toc-showmarkdowntxt": false,
  "toc-showtags": false
 },
 "nbformat": 4,
 "nbformat_minor": 4
}
