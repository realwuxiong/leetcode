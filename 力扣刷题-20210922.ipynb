{
 "cells": [
  {
   "cell_type": "code",
   "execution_count": 4,
   "metadata": {},
   "outputs": [
    {
     "data": {
      "text/plain": [
       "5"
      ]
     },
     "execution_count": 4,
     "metadata": {},
     "output_type": "execute_result"
    }
   ],
   "source": [
    "# 725. 分隔链表\n",
    "# https://leetcode-cn.com/problems/split-linked-list-in-parts/\n",
    "\n",
    "# Definition for singly-linked list.\n",
    "# class ListNode:\n",
    "#     def __init__(self, val=0, next=None):\n",
    "#         self.val = val\n",
    "#         self.next = next\n",
    "class Solution:\n",
    "    def splitListToParts(self, head: ListNode, k: int) -> List[ListNode]:\n",
    "        # 首先计算链表的长度\n",
    "        n = 0\n",
    "        p = head\n",
    "        while p:\n",
    "            n += 1\n",
    "            p = p.next\n",
    "        # 平均每个链表的长度\n",
    "        w1 = n // k\n",
    "        # 前面w2个需要在w1的基础上多加一个\n",
    "        w2 = n-w1*k\n",
    "        ans = []\n",
    "        p = head\n",
    "        q = p\n",
    "        for i in range(k):\n",
    "            if i < w2:\n",
    "                w = w1+1\n",
    "            else:\n",
    "                w = w1\n",
    "            ans.append(p)\n",
    "            for j in range(0,w-1):\n",
    "                if q:\n",
    "                    q = q.next\n",
    "            if  p:\n",
    "                p = q.next\n",
    "                q.next = None\n",
    "                q = p        \n",
    "        return ans"
   ]
  }
 ],
 "metadata": {
  "kernelspec": {
   "display_name": "Python 3",
   "language": "python",
   "name": "python3"
  },
  "language_info": {
   "codemirror_mode": {
    "name": "ipython",
    "version": 3
   },
   "file_extension": ".py",
   "mimetype": "text/x-python",
   "name": "python",
   "nbconvert_exporter": "python",
   "pygments_lexer": "ipython3",
   "version": "3.6.9"
  },
  "toc-autonumbering": false,
  "toc-showcode": false,
  "toc-showmarkdowntxt": false,
  "toc-showtags": false
 },
 "nbformat": 4,
 "nbformat_minor": 4
}
