{
 "cells": [
  {
   "cell_type": "code",
   "execution_count": 7,
   "metadata": {},
   "outputs": [
    {
     "name": "stdout",
     "output_type": "stream",
     "text": [
      "[3, 3, 4, 6, 8, 8]\n",
      "[3, 3, 4, 6]\n",
      "[2, 3, 3]\n",
      "[2]\n",
      "[2]\n"
     ]
    }
   ],
   "source": [
    "# 1049. 最后一块石头的重量 II\n",
    "# https://leetcode-cn.com/problems/last-stone-weight-ii/\n",
    "\n",
    "# 艹，，又是背包问题，，，，，，，，这题目又没写出来。。。。\n",
    "from typing import List\n",
    "def lastStoneWeightII(stones: List[int]) -> int:\n",
    "    stones.sort()\n",
    "    print(stones)\n",
    "    while len(stones)>1:\n",
    "        a = stones.pop()\n",
    "        b = stones.pop()\n",
    "        if a - b > 0:\n",
    "            stones.append(a - b)\n",
    "        stones.sort()\n",
    "        print(stones)\n",
    "    print(stones)\n",
    "    pass\n",
    "stones = [3,3,6,4,8,8]\n",
    "lastStoneWeightII(stones)"
   ]
  }
 ],
 "metadata": {
  "kernelspec": {
   "display_name": "Python 3",
   "language": "python",
   "name": "python3"
  },
  "language_info": {
   "codemirror_mode": {
    "name": "ipython",
    "version": 3
   },
   "file_extension": ".py",
   "mimetype": "text/x-python",
   "name": "python",
   "nbconvert_exporter": "python",
   "pygments_lexer": "ipython3",
   "version": "3.6.9"
  }
 },
 "nbformat": 4,
 "nbformat_minor": 4
}
