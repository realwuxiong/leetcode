{
 "cells": [
  {
   "cell_type": "code",
   "execution_count": 8,
   "metadata": {},
   "outputs": [
    {
     "data": {
      "text/plain": [
       "'()()()()(())'"
      ]
     },
     "execution_count": 8,
     "metadata": {},
     "output_type": "execute_result"
    }
   ],
   "source": [
    "# 1021. 删除最外层的括号\n",
    "# https://leetcode.cn/problems/remove-outermost-parentheses/\n",
    "\n",
    "def removeOuterParentheses(s: str) -> str:\n",
    "    # 用堆栈\n",
    "    left,right = 0,0  #左括号和右括号的数量\n",
    "    ans = []\n",
    "    j=0\n",
    "    for i in range(len(s)):\n",
    "        if s[i]=='(':\n",
    "            left+=1\n",
    "        else:\n",
    "            right+=1\n",
    "        \n",
    "        if left != 0 and left == right:\n",
    "            ans.append(s[j:i+1])\n",
    "            left = right = 0\n",
    "            j = i+1\n",
    "    \n",
    "    return \"\".join([a[1:-1] for a in ans])\n",
    "\n",
    "\n",
    "s = \"(()())(())(()(()))\"\n",
    "removeOuterParentheses(s)"
   ]
  }
 ],
 "metadata": {
  "kernelspec": {
   "display_name": "Python 3",
   "language": "python",
   "name": "python3"
  },
  "language_info": {
   "codemirror_mode": {
    "name": "ipython",
    "version": 3
   },
   "file_extension": ".py",
   "mimetype": "text/x-python",
   "name": "python",
   "nbconvert_exporter": "python",
   "pygments_lexer": "ipython3",
   "version": "3.6.9"
  },
  "toc-autonumbering": false,
  "toc-showcode": false,
  "toc-showmarkdowntxt": false,
  "toc-showtags": false
 },
 "nbformat": 4,
 "nbformat_minor": 4
}
