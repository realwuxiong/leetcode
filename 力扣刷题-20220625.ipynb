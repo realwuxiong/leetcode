{
 "cells": [
  {
   "cell_type": "code",
   "execution_count": 4,
   "metadata": {},
   "outputs": [
    {
     "data": {
      "text/plain": [
       "10"
      ]
     },
     "execution_count": 4,
     "metadata": {},
     "output_type": "execute_result"
    }
   ],
   "source": [
    "# 剑指 Offer II 091. 粉刷房子\n",
    "# https://leetcode.cn/problems/JEj789/\n",
    "\n",
    "from typing import List\n",
    "def minCost(costs: List[List[int]]) -> int:\n",
    "     # 终于来了动态规划\n",
    "        \n",
    "    # 参考了答案，做的不够好，还得强化。\n",
    "    dp = costs[0]\n",
    "    for i in range(1,len(costs)):\n",
    "        dp = [min(dp[j-1],dp[j-2])+c  for j,c in enumerate(costs[i])]\n",
    "    return min(dp)\n",
    "\n",
    "costs = [[17,2,17],[16,16,5],[14,3,19]]\n",
    "minCost(costs)"
   ]
  },
  {
   "cell_type": "code",
   "execution_count": 27,
   "metadata": {},
   "outputs": [
    {
     "data": {
      "text/plain": [
       "36"
      ]
     },
     "execution_count": 27,
     "metadata": {},
     "output_type": "execute_result"
    }
   ],
   "source": [
    "#再写一题，剪绳子\n",
    "# 剑指 Offer 14- I. 剪绳子\n",
    "# https://leetcode.cn/problems/jian-sheng-zi-lcof/\n",
    "def cuttingRope(n: int) -> int:\n",
    "    # 动态规划\n",
    "    dp = [0]*(n+1)\n",
    "#     dp[i] 代表从i段剪的最大值\n",
    "    # 这三个的特殊情况。\n",
    "    if n == 1:\n",
    "        return 0\n",
    "    if n == 2:\n",
    "        return 1\n",
    "    if n == 3:\n",
    "        return 2\n",
    "    \n",
    "    dp[1] = 1\n",
    "    dp[2] = 2\n",
    "    dp[3] = 3\n",
    "    for i in range(4,n+1):\n",
    "        for j in range(1,i//2+1):\n",
    "            dp[i] = max(dp[i],dp[j]*dp[i-j])\n",
    "#             print(dp[i],j,i)\n",
    "    return dp[n]\n",
    "\n",
    "cuttingRope(10)"
   ]
  },
  {
   "cell_type": "code",
   "execution_count": 35,
   "metadata": {},
   "outputs": [
    {
     "data": {
      "text/plain": [
       "2"
      ]
     },
     "execution_count": 35,
     "metadata": {},
     "output_type": "execute_result"
    }
   ],
   "source": [
    "# 45. 跳跃游戏 II\n",
    "# https://leetcode.cn/problems/jump-game-ii/\n",
    "\n",
    "# 再来一题动态规划\n",
    "from typing import List\n",
    "def jump(nums: List[int]) -> int:\n",
    "    n = len(nums)\n",
    "    dp = [float(\"INF\")]*(n)\n",
    "    dp[0]=0\n",
    "    # dp[i]表示跳到i进行了多少步\n",
    "    for i,num in enumerate(nums):\n",
    "        for j in range(1,num+1):\n",
    "            if i+j >= n:\n",
    "                break\n",
    "            dp[i+j] = min(dp[i+j],dp[i]+1)\n",
    "#     print(dp)\n",
    "    return dp[n-1]\n",
    "    pass\n",
    "\n",
    "nums = [2,3,1,8,4]\n",
    "jump(nums)\n",
    "\"\"\"\n",
    "// 答案的做法更好。java版本的容易看。\n",
    "class Solution {\n",
    "    public int jump(int[] nums) {\n",
    "        int length = nums.length;\n",
    "        int end = 0;\n",
    "        int maxPosition = 0; \n",
    "        int steps = 0;\n",
    "        for (int i = 0; i < length - 1; i++) {\n",
    "            maxPosition = Math.max(maxPosition, i + nums[i]); \n",
    "            if (i == end) {\n",
    "                end = maxPosition;\n",
    "                steps++;\n",
    "            }\n",
    "        }\n",
    "        return steps;\n",
    "    }\n",
    "}\n",
    "\n",
    "\"\"\""
   ]
  }
 ],
 "metadata": {
  "kernelspec": {
   "display_name": "Python 3",
   "language": "python",
   "name": "python3"
  },
  "language_info": {
   "codemirror_mode": {
    "name": "ipython",
    "version": 3
   },
   "file_extension": ".py",
   "mimetype": "text/x-python",
   "name": "python",
   "nbconvert_exporter": "python",
   "pygments_lexer": "ipython3",
   "version": "3.6.9"
  },
  "toc-autonumbering": false,
  "toc-showcode": false,
  "toc-showmarkdowntxt": false,
  "toc-showtags": false
 },
 "nbformat": 4,
 "nbformat_minor": 4
}
