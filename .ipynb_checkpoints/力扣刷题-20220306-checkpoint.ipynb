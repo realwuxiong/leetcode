{
 "cells": [
  {
   "cell_type": "code",
   "execution_count": 24,
   "metadata": {},
   "outputs": [
    {
     "data": {
      "text/plain": [
       "[]"
      ]
     },
     "execution_count": 24,
     "metadata": {},
     "output_type": "execute_result"
    }
   ],
   "source": [
    "# 2100. 适合打劫银行的日子\n",
    "# https://leetcode-cn.com/problems/find-good-days-to-rob-the-bank/\n",
    "\n",
    "from typing import List\n",
    "def goodDaysToRobBank(security: List[int], time: int) -> List[int]:\n",
    "    # 超时了。，其实我的想法跟答案是一样，但是没有抽象出是动态规划\n",
    "    left = []\n",
    "    right = []\n",
    "\n",
    "    stack = []\n",
    "    n = len(security)\n",
    "    if time == 0:\n",
    "        return list(range(n))\n",
    "\n",
    "    for i in range(n):\n",
    "        # 左，非递增\n",
    "        if not stack:\n",
    "            stack.append(security[i])\n",
    "            continue\n",
    "        if security[i] <= stack[-1]:\n",
    "            if len(stack) >= time:\n",
    "                left.append(i)\n",
    "            stack.append(security[i])\n",
    "        else:\n",
    "            stack.clear()\n",
    "            stack.append(security[i])\n",
    "    stack.clear()\n",
    "    for i in range(n-1,-1,-1):\n",
    "        # 右，非递减\n",
    "        if not stack:\n",
    "            stack.append(security[i])\n",
    "            continue\n",
    "        if security[i] <= stack[-1]:\n",
    "            if len(stack) >= time:\n",
    "                right.append(i)\n",
    "            stack.append(security[i])\n",
    "        else:\n",
    "            stack.clear()\n",
    "            stack.append(security[i])\n",
    "    ans = []\n",
    "#     print(left,right)\n",
    "    for l in left:\n",
    "        if l in right:\n",
    "            ans.append(l)\n",
    "    return ans\n",
    "\n",
    "security = [0,0,0,0,0]\n",
    "time = 3\n",
    "\n",
    "goodDaysToRobBank(security,time)"
   ]
  },
  {
   "cell_type": "code",
   "execution_count": null,
   "metadata": {},
   "outputs": [],
   "source": [
    "# 答案抽象成了动态规划。。！\n",
    "class Solution:\n",
    "    def goodDaysToRobBank(self, security: List[int], time: int) -> List[int]:\n",
    "        n = len(security)\n",
    "        left = [0] * n\n",
    "        right = [0] * n\n",
    "        for i in range(1, n):\n",
    "            if security[i] <= security[i - 1]:\n",
    "                left[i] = left[i - 1] + 1\n",
    "            if security[n - i - 1] <= security[n - i]:\n",
    "                right[n - i - 1] = right[n - i] + 1\n",
    "        return [i for i in range(time, n - time) if left[i] >= time and right[i] >= time]\n"
   ]
  }
 ],
 "metadata": {
  "kernelspec": {
   "display_name": "Python 3",
   "language": "python",
   "name": "python3"
  },
  "language_info": {
   "codemirror_mode": {
    "name": "ipython",
    "version": 3
   },
   "file_extension": ".py",
   "mimetype": "text/x-python",
   "name": "python",
   "nbconvert_exporter": "python",
   "pygments_lexer": "ipython3",
   "version": "3.6.9"
  },
  "toc-autonumbering": false,
  "toc-showcode": false,
  "toc-showmarkdowntxt": false,
  "toc-showtags": false
 },
 "nbformat": 4,
 "nbformat_minor": 4
}
