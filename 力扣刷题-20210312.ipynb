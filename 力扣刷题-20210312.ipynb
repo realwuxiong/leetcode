{
 "cells": [
  {
   "cell_type": "code",
   "execution_count": 26,
   "metadata": {},
   "outputs": [
    {
     "data": {
      "text/plain": [
       "False"
      ]
     },
     "execution_count": 26,
     "metadata": {},
     "output_type": "execute_result"
    }
   ],
   "source": [
    "# 331. 验证二叉树的前序序列化\n",
    "# https://leetcode-cn.com/problems/verify-preorder-serialization-of-a-binary-tree/\n",
    "# 13:59\n",
    "# 看的答案，这个月一直考的都是堆栈类型的题目\n",
    "# 堆栈题目还是有意思啊,需要深刻的去理解这个题目的意思\n",
    "def isValidSerialization(preorder: str) -> bool:\n",
    "    stack = [1]\n",
    "    for i,data in enumerate(preorder.split(',')):\n",
    "        if len(stack) == 0:\n",
    "            return False\n",
    "        if data.isdigit():\n",
    "            top = stack.pop() -1\n",
    "            if top > 0 :\n",
    "                stack.append(top)\n",
    "            stack.append(2)\n",
    "        elif data == '#':\n",
    "            top = stack.pop() -1\n",
    "            if top > 0 :\n",
    "                stack.append(top)\n",
    "#         print(stack)\n",
    "     \n",
    "    return len(stack) == 0\n",
    "\n",
    "#  方法二\n",
    "def isValidSerialization2(preorder: str) -> bool:\n",
    "    count = 1\n",
    "    for i,data in enumerate(preorder.split(',')):\n",
    "        if count == 0:\n",
    "            return False\n",
    "        if data.isdigit():\n",
    "            count += 1\n",
    "        elif data == '#':\n",
    "            count -= 1\n",
    "    return count == 0\n",
    "preorder = \"9,3,4,#,#,1,#,#,2,#,6,#,#\"\n",
    "isValidSerialization(preorder)"
   ]
  }
 ],
 "metadata": {
  "kernelspec": {
   "display_name": "Python 3",
   "language": "python",
   "name": "python3"
  },
  "language_info": {
   "codemirror_mode": {
    "name": "ipython",
    "version": 3
   },
   "file_extension": ".py",
   "mimetype": "text/x-python",
   "name": "python",
   "nbconvert_exporter": "python",
   "pygments_lexer": "ipython3",
   "version": "3.8.5"
  }
 },
 "nbformat": 4,
 "nbformat_minor": 4
}
