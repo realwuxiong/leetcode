{
 "cells": [
  {
   "cell_type": "code",
   "execution_count": 15,
   "metadata": {},
   "outputs": [
    {
     "data": {
      "text/plain": [
       "True"
      ]
     },
     "execution_count": 15,
     "metadata": {},
     "output_type": "execute_result"
    }
   ],
   "source": [
    "# 846. 一手顺子\n",
    "# https://leetcode-cn.com/problems/hand-of-straights/\n",
    "\n",
    "from typing import List\n",
    "def isNStraightHand(hand: List[int], groupSize: int) -> bool:\n",
    "    # 用字典，贪心算法，这次跟答案的思路不谋而合\n",
    "    n = len(hand)\n",
    "    if n % groupSize != 0:\n",
    "        return False\n",
    "\n",
    "    import collections\n",
    "    counter = collections.Counter(hand)\n",
    "    keys = list(counter.keys())\n",
    "    keys.sort()\n",
    "    keys_length = len(keys)\n",
    "    cur = 0\n",
    "    while cur < keys_length:\n",
    "        if counter[keys[cur]] <= 0:\n",
    "            cur += 1\n",
    "            continue\n",
    "        for i in range(keys[cur],keys[cur]+groupSize):\n",
    "            if i not in keys or counter[i] <= 0:\n",
    "                return False\n",
    "            else:\n",
    "                counter[i] -= 1\n",
    "    return True\n",
    "\n",
    "hand = [1,2,3,4,5,6]\n",
    "groupSize = 2\n",
    "isNStraightHand(hand,groupSize)"
   ]
  }
 ],
 "metadata": {
  "kernelspec": {
   "display_name": "Python 3",
   "language": "python",
   "name": "python3"
  },
  "language_info": {
   "codemirror_mode": {
    "name": "ipython",
    "version": 3
   },
   "file_extension": ".py",
   "mimetype": "text/x-python",
   "name": "python",
   "nbconvert_exporter": "python",
   "pygments_lexer": "ipython3",
   "version": "3.6.9"
  },
  "toc-autonumbering": false,
  "toc-showcode": false,
  "toc-showmarkdowntxt": false,
  "toc-showtags": false
 },
 "nbformat": 4,
 "nbformat_minor": 4
}
