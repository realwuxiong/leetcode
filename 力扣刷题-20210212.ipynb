{
 "cells": [
  {
   "cell_type": "code",
   "execution_count": 43,
   "metadata": {},
   "outputs": [
    {
     "name": "stdout",
     "output_type": "stream",
     "text": [
      "[1, 3, 3, 1]\n"
     ]
    }
   ],
   "source": [
    "# 119.杨辉三角\n",
    "# https://leetcode-cn.com/problems/pascals-triangle-ii/\n",
    "'''\n",
    "大年初一，写代码\n",
    "给定一个非负索引 k，其中 k ≤ 33，返回杨辉三角的第 k 行。\n",
    "动态规划可以解决这个问题\n",
    "'''\n",
    "from typing import List\n",
    "def getRow(rowIndex: int) -> List[int]:\n",
    "    ss = [[0]*35 for i in range(35)]\n",
    "    ss[0][1]=1\n",
    "    ss[1][1]=ss[1][2]=1\n",
    "    for i in range(2,rowIndex+1):\n",
    "        for j in range(1,i+2):\n",
    "            ss[i][j]=ss[i-1][j]+ss[i-1][j-1]\n",
    "        if(i == rowIndex):\n",
    "            break\n",
    "#     print(ss[rowIndex][1:rowIndex+1])\n",
    "    print(ss[rowIndex][1:rowIndex+2])\n",
    "    pass\n",
    "getRow(3)\n",
    "    "
   ]
  },
  {
   "cell_type": "code",
   "execution_count": null,
   "metadata": {},
   "outputs": [],
   "source": [
    "# 补昨天（除夕）的题目\n",
    "# 703. 数据流中的第 K 大元素\n",
    "# https://leetcode-cn.com/problems/kth-largest-element-in-a-stream/\n",
    "# 这个题目它定义了数据类型，不能在这里运行\n",
    "\n",
    "# 题目的解析，前k个数的优先队列，这个题目想法真不错，我用的暴力的方法，也通过了"
   ]
  },
  {
   "cell_type": "code",
   "execution_count": 49,
   "metadata": {},
   "outputs": [
    {
     "data": {
      "text/plain": [
       "10"
      ]
     },
     "execution_count": 49,
     "metadata": {},
     "output_type": "execute_result"
    }
   ],
   "source": [
    "a = [2,4,56,6,10]\n",
    "a.sort()\n",
    "a[-2]"
   ]
  }
 ],
 "metadata": {
  "kernelspec": {
   "display_name": "Python 3",
   "language": "python",
   "name": "python3"
  },
  "language_info": {
   "codemirror_mode": {
    "name": "ipython",
    "version": 3
   },
   "file_extension": ".py",
   "mimetype": "text/x-python",
   "name": "python",
   "nbconvert_exporter": "python",
   "pygments_lexer": "ipython3",
   "version": "3.8.5"
  }
 },
 "nbformat": 4,
 "nbformat_minor": 4
}
