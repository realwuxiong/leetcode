{
 "cells": [
  {
   "cell_type": "code",
   "execution_count": 5,
   "metadata": {},
   "outputs": [
    {
     "name": "stdout",
     "output_type": "stream",
     "text": [
      "testemail+alex leetcodecom\n",
      "testemail+bobcathy leetcodecom\n",
      "testemail+david leetcodecom\n"
     ]
    }
   ],
   "source": [
    "# 929. 独特的电子邮件地址\n",
    "# https://leetcode.cn/problems/unique-email-addresses/\n",
    "\n",
    "from typing import List\n",
    "def numUniqueEmails(emails: List[str]) -> int:\n",
    "    ans = set()\n",
    "    for email in emails:\n",
    "        email = email.replace(\".\",\"\")\n",
    "        localName,domainName = email.split(\"@\")\n",
    "        localName = localName.split(\"+\")[0]\n",
    "        set.append()\n",
    "    \n",
    "    \n",
    "    \n",
    "    pass\n",
    "\n",
    "emails = [\"test.email+alex@leetcode.com\",\"test.e.mail+bob.cathy@leetcode.com\",\"testemail+david@lee.tcode.com\"]\n",
    "numUniqueEmails(emails)"
   ]
  }
 ],
 "metadata": {
  "kernelspec": {
   "display_name": "Python 3",
   "language": "python",
   "name": "python3"
  },
  "language_info": {
   "codemirror_mode": {
    "name": "ipython",
    "version": 3
   },
   "file_extension": ".py",
   "mimetype": "text/x-python",
   "name": "python",
   "nbconvert_exporter": "python",
   "pygments_lexer": "ipython3",
   "version": "3.6.9"
  },
  "toc-autonumbering": false,
  "toc-showcode": false,
  "toc-showmarkdowntxt": false,
  "toc-showtags": false
 },
 "nbformat": 4,
 "nbformat_minor": 4
}
