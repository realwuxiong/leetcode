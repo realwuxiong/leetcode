{
 "cells": [
  {
   "cell_type": "code",
   "execution_count": 14,
   "metadata": {},
   "outputs": [
    {
     "name": "stdout",
     "output_type": "stream",
     "text": [
      "[0, 0, 0, 0, 0, 0, 2, 2, 2, 2, 2, 2, 7, 7, 7, 9, 9, 9, 9, 11, 11]\n",
      "9 0\n",
      "0 0\n",
      "9 7\n",
      "2 0\n",
      "9 9\n"
     ]
    },
    {
     "data": {
      "text/plain": [
       "[9, 0, 2, 2, 0]"
      ]
     },
     "execution_count": 14,
     "metadata": {},
     "output_type": "execute_result"
    }
   ],
   "source": [
    "# 2055. 蜡烛之间的盘子\n",
    "# https://leetcode-cn.com/problems/plates-between-candles/\n",
    "\n",
    "from typing import List\n",
    "def platesBetweenCandles(s: str, queries: List[List[int]]) -> List[int]:\n",
    "    # 有考虑前缀和，但是还差一点。整个做法是错误的，可以参考答案\n",
    "    stastics = []\n",
    "    n = len(s)\n",
    "    count = 0 \n",
    "    candle = False\n",
    "    t = 0\n",
    "    for i in range(n):\n",
    "        if s[i] == \"|\":\n",
    "            if candle == False:\n",
    "                candle = True\n",
    "                t = 0\n",
    "            else:\n",
    "                count += t\n",
    "                t = 0\n",
    "        else:\n",
    "            t += 1\n",
    "        stastics.append(count)\n",
    "    print(stastics)  \n",
    "    ans = []\n",
    "    for left,right in queries:\n",
    "        print(stastics[right],stastics[left])\n",
    "        ans.append(stastics[right]-stastics[left])\n",
    "    \n",
    "    return ans\n",
    "    \n",
    "    pass\n",
    "\n",
    "s = \"***|**|*****|**||**|*\"\n",
    "# s = \"|**||**\"\n",
    "queries = [[1,17],[4,5],[14,17],[5,11],[15,16]]\n",
    "platesBetweenCandles(s,queries)"
   ]
  },
  {
   "cell_type": "code",
   "execution_count": 15,
   "metadata": {},
   "outputs": [
    {
     "data": {
      "text/plain": [
       "[9, 0, 0, 0, 0]"
      ]
     },
     "execution_count": 15,
     "metadata": {},
     "output_type": "execute_result"
    }
   ],
   "source": [
    "from typing import List\n",
    "def platesBetweenCandles(s: str, queries: List[List[int]]) -> List[int]:\n",
    "    '''\n",
    "    答案的思路，前缀和\n",
    "    对于每一个询问，我们只需要找到给定区间内最左侧和最右侧的两个蜡烛，这样两个蜡烛之间的所有盘子都是符合条件的。\n",
    "    对于寻找蜡烛，我们可以预处理区间内每个位置左侧的第一个蜡烛和右侧的第一个蜡烛。这样区间左端点 \n",
    "  右侧的第一个蜡烛即为区间最左侧的蜡烛，区间右端点 \n",
    "  左侧的第一个蜡烛即为区间最右侧的蜡烛。\n",
    "    '''\n",
    "    n = len(s)\n",
    "    preSum, sum = [0] * n, 0\n",
    "    left, l = [0] * n, -1\n",
    "    for i, ch in enumerate(s):\n",
    "        if ch == '*':\n",
    "            sum += 1\n",
    "        else:\n",
    "            l = i\n",
    "        preSum[i] = sum\n",
    "        left[i] = l\n",
    "\n",
    "    right, r = [0] * n, -1\n",
    "    for i in range(n - 1, -1, -1):\n",
    "        if s[i] == '|':\n",
    "            r = i\n",
    "        right[i] = r\n",
    "\n",
    "    ans = [0] * len(queries)\n",
    "    for i, (x, y) in enumerate(queries):\n",
    "        x, y = right[x], left[y]\n",
    "        if x >= 0 and y >= 0 and x < y:\n",
    "            ans[i] = preSum[y] - preSum[x]\n",
    "    return ans\n",
    "s = \"***|**|*****|**||**|*\"\n",
    "# s = \"|**||**\"\n",
    "queries = [[1,17],[4,5],[14,17],[5,11],[15,16]]\n",
    "platesBetweenCandles(s,queries)\n"
   ]
  }
 ],
 "metadata": {
  "kernelspec": {
   "display_name": "Python 3",
   "language": "python",
   "name": "python3"
  },
  "language_info": {
   "codemirror_mode": {
    "name": "ipython",
    "version": 3
   },
   "file_extension": ".py",
   "mimetype": "text/x-python",
   "name": "python",
   "nbconvert_exporter": "python",
   "pygments_lexer": "ipython3",
   "version": "3.6.9"
  },
  "toc-autonumbering": false,
  "toc-showcode": false,
  "toc-showmarkdowntxt": false,
  "toc-showtags": false
 },
 "nbformat": 4,
 "nbformat_minor": 4
}
