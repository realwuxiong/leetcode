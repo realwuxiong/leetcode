{
 "cells": [
  {
   "cell_type": "code",
   "execution_count": 3,
   "metadata": {},
   "outputs": [
    {
     "data": {
      "text/plain": [
       "3"
      ]
     },
     "execution_count": 3,
     "metadata": {},
     "output_type": "execute_result"
    }
   ],
   "source": [
    "# 1995. 统计特殊四元组\n",
    "# https://leetcode-cn.com/problems/count-special-quadruplets/\n",
    "\n",
    "from typing import List\n",
    "def countQuadruplets(nums: List[int]) -> int:\n",
    "    # 来一波DFS，还得去重\n",
    "    n = len(nums)\n",
    "    ans = 0\n",
    "    cnt = Counter()\n",
    "    for c in range(n - 2, 1, -1):\n",
    "        cnt[nums[c + 1]] += 1\n",
    "        for a in range(c):\n",
    "            for b in range(a + 1, c):\n",
    "                if (total := nums[a] + nums[b] + nums[c]) in cnt:\n",
    "                    ans += cnt[total]\n",
    "    return ans\n",
    "nums = [28,8,49,85,37,90,20,8]\n",
    "countQuadruplets(nums)"
   ]
  }
 ],
 "metadata": {
  "kernelspec": {
   "display_name": "Python 3",
   "language": "python",
   "name": "python3"
  },
  "language_info": {
   "codemirror_mode": {
    "name": "ipython",
    "version": 3
   },
   "file_extension": ".py",
   "mimetype": "text/x-python",
   "name": "python",
   "nbconvert_exporter": "python",
   "pygments_lexer": "ipython3",
   "version": "3.6.9"
  },
  "toc-autonumbering": false,
  "toc-showcode": false,
  "toc-showmarkdowntxt": false,
  "toc-showtags": false
 },
 "nbformat": 4,
 "nbformat_minor": 4
}
