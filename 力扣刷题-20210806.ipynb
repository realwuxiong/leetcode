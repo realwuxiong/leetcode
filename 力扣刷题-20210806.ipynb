{
 "cells": [
  {
   "cell_type": "code",
   "execution_count": 40,
   "metadata": {},
   "outputs": [
    {
     "data": {
      "text/plain": [
       "4"
      ]
     },
     "execution_count": 40,
     "metadata": {},
     "output_type": "execute_result"
    }
   ],
   "source": [
    "# 847. 访问所有节点的最短路径\n",
    "# https://leetcode-cn.com/problems/shortest-path-visiting-all-nodes/\n",
    "# 这个题目是分困难题，感觉有点费劲。。\n",
    "# 直接放弃，看答案\n",
    "from typing import List\n",
    "from collections import deque\n",
    "def shortestPathLength(graph: List[List[int]]) -> int:\n",
    "    n = len(graph)\n",
    "    q = deque((i, 1 << i, 0) for i in range(n))\n",
    "    seen = {(i, 1 << i) for i in range(n)}\n",
    "    ans = 0\n",
    "\n",
    "    while q:\n",
    "        u, mask, dist = q.popleft()\n",
    "        if mask == (1 << n) - 1:\n",
    "            ans = dist\n",
    "            break\n",
    "        # 搜索相邻的节点\n",
    "        for v in graph[u]:\n",
    "            # 将 mask 的第 v 位置为 1\n",
    "            mask_v = mask | (1 << v)\n",
    "            if (v, mask_v) not in seen:\n",
    "                q.append((v, mask_v, dist + 1))\n",
    "                seen.add((v, mask_v))\n",
    "    return ans\n",
    "\n",
    "    pass\n",
    "graph = [[1,2,3],[0],[0],[0]]\n",
    "shortestPathLength(graph)"
   ]
  },
  {
   "cell_type": "code",
   "execution_count": 31,
   "metadata": {},
   "outputs": [
    {
     "name": "stdout",
     "output_type": "stream",
     "text": [
      "0 1\n",
      "{'a'}\n",
      "0 2\n",
      "{'a', 'b'}\n",
      "0 3\n",
      "{'a', 'c', 'b'}\n",
      "1 4\n",
      "{'a', 'c'}\n",
      "1 5\n",
      "{'a', 'c', 'b'}\n",
      "2 6\n",
      "{'a', 'c', 'b'}\n",
      "3 7\n",
      "{'c', 'b'}\n",
      "4 8\n",
      "{'b', 'c'}\n"
     ]
    },
    {
     "data": {
      "text/plain": [
       "4"
      ]
     },
     "execution_count": 31,
     "metadata": {},
     "output_type": "execute_result"
    }
   ],
   "source": [
    "# 3. 无重复字符的最长子串\n",
    "# https://leetcode-cn.com/problems/longest-substring-without-repeating-characters/\n",
    "\n",
    "# 滑动窗口+哈希表，写的和答案很相似了。但是还是没写出来，最近是咋了。。。\n",
    "\"\"\"\n",
    "def lengthOfLongestSubstring(s: str) -> int:\n",
    "    # 哈希集合，记录每个字符是否出现过\n",
    "    occ = set()\n",
    "    n = len(s)\n",
    "    # 右指针，初始值为 -1，相当于我们在字符串的左边界的左侧，还没有开始移动\n",
    "    rk, ans = -1, 0\n",
    "    for i in range(n):\n",
    "        if i != 0:\n",
    "            # 左指针向右移动一格，移除一个字符\n",
    "            occ.remove(s[i - 1])\n",
    "        while rk + 1 < n and s[rk + 1] not in occ:\n",
    "            # 不断地移动右指针\n",
    "            occ.add(s[rk + 1])\n",
    "            rk += 1\n",
    "        # 第 i 到 rk 个字符是一个极长的无重复字符子串\n",
    "        ans = max(ans, rk - i + 1)\n",
    "    return ans\n",
    "\n",
    "\n",
    "\"\"\"\n",
    "\n",
    "#下面的答案是错的，还是没写出来。。。\n",
    "def lengthOfLongestSubstring(s: str) -> int:\n",
    "    left,right = 0,0\n",
    "    n = len(s)\n",
    "    mySet = set()\n",
    "    ans = 0\n",
    "    while right < n:\n",
    "        if s[right] in mySet:\n",
    "            left+=1\n",
    "            mySet.remove(s[left])\n",
    "        mySet.add(s[right])\n",
    "        \n",
    "        right+=1\n",
    "        print(left,right)\n",
    "    return right - left -1\n",
    "s = \"abcabcbb\"\n",
    "# s = \"an\"\n",
    "lengthOfLongestSubstring(s)"
   ]
  },
  {
   "cell_type": "code",
   "execution_count": 38,
   "metadata": {},
   "outputs": [
    {
     "data": {
      "text/plain": [
       "[2, 4, 5, 6]"
      ]
     },
     "execution_count": 38,
     "metadata": {},
     "output_type": "execute_result"
    }
   ],
   "source": [
    "# 把昨天的题在补一下\n",
    "# 802. 找到最终的安全状态\n",
    "from typing import List\n",
    "def eventualSafeNodes(graph: List[List[int]]) -> List[int]:\n",
    "    # 采用dfs+三色\n",
    "    # 0表示未访问，1表示访问中，2表示安全节点\n",
    "    def dfs(i):\n",
    "        if flag[i] > 0:\n",
    "            return flag[i] == 2\n",
    "        flag[i] = 1\n",
    "        \n",
    "        for j in graph[i]:\n",
    "            if not dfs(j):\n",
    "                return False\n",
    "        flag[i] = 2\n",
    "        return True\n",
    "    n = len(graph)\n",
    "    flag = [0]*n\n",
    "    return [i for i in range(n) if dfs(i)]    \n",
    "\n",
    "graph = graph = [[1,2],[2,3],[5],[0],[5],[],[]]\n",
    "eventualSafeNodes(graph)"
   ]
  }
 ],
 "metadata": {
  "kernelspec": {
   "display_name": "Python 3",
   "language": "python",
   "name": "python3"
  },
  "language_info": {
   "codemirror_mode": {
    "name": "ipython",
    "version": 3
   },
   "file_extension": ".py",
   "mimetype": "text/x-python",
   "name": "python",
   "nbconvert_exporter": "python",
   "pygments_lexer": "ipython3",
   "version": "3.6.9"
  },
  "toc-autonumbering": false,
  "toc-showcode": false,
  "toc-showmarkdowntxt": false,
  "toc-showtags": false
 },
 "nbformat": 4,
 "nbformat_minor": 4
}
