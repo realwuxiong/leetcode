{
 "cells": [
  {
   "cell_type": "code",
   "execution_count": 23,
   "metadata": {},
   "outputs": [
    {
     "name": "stdout",
     "output_type": "stream",
     "text": [
      "[[0, 5, 7], [0, 1, 7]]\n",
      "[0]\n"
     ]
    },
    {
     "data": {
      "text/plain": [
       "0"
      ]
     },
     "execution_count": 23,
     "metadata": {},
     "output_type": "execute_result"
    }
   ],
   "source": [
    "# 1738. 找出第 K 大的异或坐标值\n",
    "# https://leetcode-cn.com/problems/find-kth-largest-xor-coordinate-value/\n",
    "\n",
    "# 2021年5月19日 20：21-20:43\n",
    "# 超时了。。。。\n",
    "# 还是用前缀和,题目用的是二维前缀和。。。\n",
    "from typing import List\n",
    "def kthLargestValue(matrix: List[List[int]], k: int) -> int:\n",
    "    # 用行的前缀和\n",
    "    prefixSum = [[0]*(len(matrix[0])+1) for _ in range(len(matrix))]\n",
    "    \n",
    "    for i in range(len(matrix)):\n",
    "        for j in range(len(matrix[0])):\n",
    "            prefixSum[i][j+1]= prefixSum[i][j]^matrix[i][j]\n",
    "#     # 前缀和求好了，然后堆排序\n",
    "#     ans = []\n",
    "#     import heapq\n",
    "#     heapq.heapify(ans)\n",
    "    ans = []\n",
    "    for i in range(len(matrix)):\n",
    "        for j in range(len(matrix[0])):\n",
    "            t = 0\n",
    "            for p in range(0,i+1):\n",
    "                t ^= prefixSum[p][j+1]\n",
    "            ans.append(t)\n",
    "    ans = [-a for a in ans]  \n",
    "    import heapq\n",
    "    heapq.heapify(ans)\n",
    "    for i in range(k-1):\n",
    "        heapq.heappop(ans)\n",
    "    \n",
    "    print(prefixSum)\n",
    "    print(ans)\n",
    "#     print(-heapq.heappop(ans))\n",
    "    return -heapq.heappop(ans)\n",
    "    pass\n",
    "matrix = [[5,2],[1,6]]\n",
    "k = 4\n",
    "kthLargestValue(matrix, k)"
   ]
  },
  {
   "cell_type": "code",
   "execution_count": 9,
   "metadata": {},
   "outputs": [
    {
     "name": "stdout",
     "output_type": "stream",
     "text": [
      "1\n",
      "[2, 13, 10, 32, 21]\n"
     ]
    }
   ],
   "source": [
    "import heapq\n",
    "a = [1,2,32,13,21,10]\n",
    "heapq.heapify(a)\n",
    "print(heapq.heappop(a))\n",
    "print(a)"
   ]
  }
 ],
 "metadata": {
  "kernelspec": {
   "display_name": "Python 3",
   "language": "python",
   "name": "python3"
  },
  "language_info": {
   "codemirror_mode": {
    "name": "ipython",
    "version": 3
   },
   "file_extension": ".py",
   "mimetype": "text/x-python",
   "name": "python",
   "nbconvert_exporter": "python",
   "pygments_lexer": "ipython3",
   "version": "3.6.9"
  }
 },
 "nbformat": 4,
 "nbformat_minor": 4
}
