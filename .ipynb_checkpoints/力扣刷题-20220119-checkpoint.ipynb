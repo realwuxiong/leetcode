{
 "cells": [
  {
   "cell_type": "code",
   "execution_count": 1,
   "metadata": {},
   "outputs": [
    {
     "data": {
      "text/plain": [
       "True"
      ]
     },
     "execution_count": 1,
     "metadata": {},
     "output_type": "execute_result"
    }
   ],
   "source": [
    "# 219. 存在重复元素 II\n",
    "# https://leetcode-cn.com/problems/contains-duplicate-ii/\n",
    "\n",
    "from typing import List\n",
    "def containsNearbyDuplicate(nums: List[int], k: int) -> bool:\n",
    "    # 滑动窗口。。。\n",
    "    s = set()\n",
    "    for i, num in enumerate(nums):\n",
    "        if i > k:\n",
    "            s.remove(nums[i - k - 1])\n",
    "        if num in s:\n",
    "            return True\n",
    "        s.add(num)\n",
    "    return False\n",
    "\n",
    "nums = [1,2,3,1]\n",
    "k = 3\n",
    "containsNearbyDuplicate(nums,k)"
   ]
  }
 ],
 "metadata": {
  "kernelspec": {
   "display_name": "Python 3",
   "language": "python",
   "name": "python3"
  },
  "language_info": {
   "codemirror_mode": {
    "name": "ipython",
    "version": 3
   },
   "file_extension": ".py",
   "mimetype": "text/x-python",
   "name": "python",
   "nbconvert_exporter": "python",
   "pygments_lexer": "ipython3",
   "version": "3.6.9"
  },
  "toc-autonumbering": false,
  "toc-showcode": false,
  "toc-showmarkdowntxt": false,
  "toc-showtags": false
 },
 "nbformat": 4,
 "nbformat_minor": 4
}
