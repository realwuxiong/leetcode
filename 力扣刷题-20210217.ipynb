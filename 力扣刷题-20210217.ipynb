{
 "cells": [
  {
   "cell_type": "code",
   "execution_count": 20,
   "metadata": {},
   "outputs": [
    {
     "name": "stdout",
     "output_type": "stream",
     "text": [
      "[[1], [2], [3], [4]]\n"
     ]
    }
   ],
   "source": [
    "# 566. 重塑矩阵\n",
    "# https://leetcode-cn.com/problems/reshape-the-matrix/\n",
    "from typing import List\n",
    "def matrixReshape(nums: List[List[int]], r: int, c: int) -> List[List[int]]:\n",
    "    n = len(nums)*len(nums[0])\n",
    "    if n != r * c:\n",
    "        return nums\n",
    "    nn = [nums[i][j] for i in range(len(nums)) for j in range(len(nums[0]))]\n",
    "    res = []\n",
    "    for i in range(r):\n",
    "        tem=[]\n",
    "        for j in range(c):\n",
    "            tem.append(nn[i*c+j])\n",
    "        res.append(tem)\n",
    "    print(res)\n",
    "nums = [[1,2],[3,4]]\n",
    "r = 4\n",
    "c = 1\n",
    "matrixReshape(nums,r,c)"
   ]
  }
 ],
 "metadata": {
  "kernelspec": {
   "display_name": "Python 3",
   "language": "python",
   "name": "python3"
  },
  "language_info": {
   "codemirror_mode": {
    "name": "ipython",
    "version": 3
   },
   "file_extension": ".py",
   "mimetype": "text/x-python",
   "name": "python",
   "nbconvert_exporter": "python",
   "pygments_lexer": "ipython3",
   "version": "3.8.5"
  }
 },
 "nbformat": 4,
 "nbformat_minor": 4
}
