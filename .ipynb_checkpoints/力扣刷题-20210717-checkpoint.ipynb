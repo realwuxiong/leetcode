{
 "cells": [
  {
   "cell_type": "code",
   "execution_count": 1,
   "metadata": {},
   "outputs": [
    {
     "name": "stdout",
     "output_type": "stream",
     "text": [
      "6\n"
     ]
    }
   ],
   "source": [
    "# 剑指 Offer 42. 连续子数组的最大和\n",
    "# https://leetcode-cn.com/problems/lian-xu-zi-shu-zu-de-zui-da-he-lcof/\n",
    "\n",
    "from typing import List\n",
    "def maxSubArray(nums: List[int]) -> int:\n",
    "    ans = -100000\n",
    "    # 前缀和\n",
    "    prefixSum = [0]\n",
    "    minPrefixSum = 0\n",
    "    for num in nums:\n",
    "        t = prefixSum[-1]+num\n",
    "        ans = max(ans,t-minPrefixSum)\n",
    "        minPrefixSum = min(minPrefixSum,t)\n",
    "        prefixSum.append(t)\n",
    "    print(ans)\n",
    "    pass\n",
    "nums = [-2,1,-3,4,-1,2,1,-5,4]\n",
    "maxSubArray(nums)"
   ]
  }
 ],
 "metadata": {
  "kernelspec": {
   "display_name": "Python 3",
   "language": "python",
   "name": "python3"
  },
  "language_info": {
   "codemirror_mode": {
    "name": "ipython",
    "version": 3
   },
   "file_extension": ".py",
   "mimetype": "text/x-python",
   "name": "python",
   "nbconvert_exporter": "python",
   "pygments_lexer": "ipython3",
   "version": "3.6.9"
  }
 },
 "nbformat": 4,
 "nbformat_minor": 4
}
