{
 "cells": [
  {
   "cell_type": "code",
   "execution_count": 25,
   "metadata": {},
   "outputs": [
    {
     "data": {
      "text/plain": [
       "1"
      ]
     },
     "execution_count": 25,
     "metadata": {},
     "output_type": "execute_result"
    }
   ],
   "source": [
    "# 1137. 第 N 个泰波那契数\n",
    "# https://leetcode-cn.com/problems/n-th-tribonacci-number/\n",
    "\n",
    "# 简单题\n",
    "def tribonacci(n: int) -> int:\n",
    "    if n == 0:\n",
    "        return 0\n",
    "    if n == 1:\n",
    "        return 1\n",
    "    a,b,c = 0,1,1\n",
    "    i = 0\n",
    "    while i+2 < n:\n",
    "        a,b,c = b,c,a+b+c\n",
    "        i+=1\n",
    "    return c\n",
    "n = 3\n",
    "tribonacci(2)"
   ]
  },
  {
   "cell_type": "code",
   "execution_count": 46,
   "metadata": {},
   "outputs": [
    {
     "data": {
      "text/plain": [
       "149"
      ]
     },
     "execution_count": 46,
     "metadata": {},
     "output_type": "execute_result"
    }
   ],
   "source": [
    "# 用yied试试\n",
    "\n",
    "def tribonacci(n: int) -> int:\n",
    "    if n == 0:\n",
    "        return 0\n",
    "    if n == 1:\n",
    "        return 1\n",
    "    def f(n):\n",
    "        a,b,c = 0,1,1\n",
    "        i = 0\n",
    "        while i+2 < n:\n",
    "            a,b,c = b,c,a+b+c\n",
    "            yield c\n",
    "            i+=1\n",
    "    ans = 1\n",
    "    for i in f(n):\n",
    "        ans = i\n",
    "    return ans\n",
    "    \n",
    "        \n",
    "    \n",
    "n = 10\n",
    "tribonacci(n)\n"
   ]
  },
  {
   "cell_type": "code",
   "execution_count": 49,
   "metadata": {},
   "outputs": [
    {
     "name": "stdout",
     "output_type": "stream",
     "text": [
      "96\n",
      "84\n",
      "73\n",
      "96\n"
     ]
    }
   ],
   "source": [
    "a=[2,51,12,95,42,52,76,77,23,81,71,41,2,23,43,4,64,22,71,96,1,87,51,91,67,16,58,11,44,38,63,14,4,69,88,49,92,91,9,15,17,74,21,91,24,78,62,50,82,26,53,18,25,14,94,79,44,11,36,38,44,53,9,34,58,6,50,82,81,50,36,1,6,61,9,47,33,47,84,41,57,48,73,18]\n",
    "print(a[19])\n",
    "print(len(a))\n",
    "print(a[82])\n",
    "print(max(a))"
   ]
  },
  {
   "cell_type": "code",
   "execution_count": 61,
   "metadata": {},
   "outputs": [
    {
     "data": {
      "text/plain": [
       "[1, 2, 3, 4]"
      ]
     },
     "execution_count": 61,
     "metadata": {},
     "output_type": "execute_result"
    }
   ],
   "source": [
    "# 最小的k个数\n",
    "def GetLeastNumbers_Solution(tinput, k):\n",
    "    # write code here\n",
    "    # 堆排序\n",
    "    import heapq\n",
    "    ans = []\n",
    "    heapq.heapify(ans)\n",
    "    for data in tinput:\n",
    "        heapq.heappush(ans,-1*data)\n",
    "        if len(ans) > k:\n",
    "            heapq.heappop(ans)\n",
    "    res = []\n",
    "    while ans:\n",
    "        res.insert(0,heapq.heappop(ans)*-1)\n",
    "    return res\n",
    "tinput = [4,5,1,6,2,7,3,8]\n",
    "k = 4 \n",
    "GetLeastNumbers_Solution(tinput,k)"
   ]
  },
  {
   "cell_type": "code",
   "execution_count": 73,
   "metadata": {},
   "outputs": [
    {
     "data": {
      "text/plain": [
       "{'aac', 'aca', 'caa'}"
      ]
     },
     "execution_count": 73,
     "metadata": {},
     "output_type": "execute_result"
    }
   ],
   "source": [
    "# NC121 字符串的排列\n",
    "def Permutation(ss):\n",
    "    ans = []\n",
    "    n = len(ss)\n",
    "    t = []\n",
    "    for s in ss:\n",
    "        t.append(s)\n",
    "    def dfs(i):\n",
    "        if i == n:\n",
    "            ans.append(\"\".join(t))\n",
    "            return \n",
    "        for j in range(i,n):\n",
    "            t[j],t[i] = t[i],t[j]\n",
    "            dfs(i+1)\n",
    "            t[j],t[i] = t[i],t[j]\n",
    "    dfs(0)\n",
    "    # 去重\n",
    "    return list(set(ans))\n",
    "    pass\n",
    "ss = \"aac\"\n",
    "Permutation(ss)"
   ]
  }
 ],
 "metadata": {
  "kernelspec": {
   "display_name": "Python 3",
   "language": "python",
   "name": "python3"
  },
  "language_info": {
   "codemirror_mode": {
    "name": "ipython",
    "version": 3
   },
   "file_extension": ".py",
   "mimetype": "text/x-python",
   "name": "python",
   "nbconvert_exporter": "python",
   "pygments_lexer": "ipython3",
   "version": "3.6.9"
  },
  "toc-autonumbering": false,
  "toc-showcode": false,
  "toc-showmarkdowntxt": false,
  "toc-showtags": false
 },
 "nbformat": 4,
 "nbformat_minor": 4
}
