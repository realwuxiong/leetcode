{
 "cells": [
  {
   "cell_type": "code",
   "execution_count": null,
   "metadata": {},
   "outputs": [],
   "source": [
    "## !/usr/bin/python3\n",
    "\n",
    "# \n",
    "# 2020年12月28日\n",
    "\n",
    "\n",
    "# Python3实现循环链表\n",
    "\n",
    "def func()->bool:\n",
    "    a = int(input(\"第一个参数：\"))\n",
    "    b = int(input(\"第二个参数：\"))\n",
    "    c = list(input(\"第三个参数：\"))\n",
    "    li = c\n",
    "#     li=[1,2,3,4,6]\n",
    "    sum_li = sum(li)\n",
    "    for index in range(len(li)):\n",
    "        x = 0\n",
    "        for i in range(index,len(li)*2):\n",
    "            if(i >= len(li)):\n",
    "                i = i % len(li)\n",
    "            x += li[i]\n",
    "            if(x==sum_li/2):\n",
    "                return True\n",
    "            if(x>sum_li/2):\n",
    "                break\n",
    "    return False\n",
    "            \n",
    "\n",
    "func()"
   ]
  },
  {
   "cell_type": "code",
   "execution_count": 4,
   "metadata": {},
   "outputs": [
    {
     "data": {
      "text/plain": [
       "[1, 2, 3, 4]"
      ]
     },
     "execution_count": 4,
     "metadata": {},
     "output_type": "execute_result"
    }
   ],
   "source": []
  },
  {
   "cell_type": "code",
   "execution_count": 9,
   "metadata": {},
   "outputs": [
    {
     "name": "stdout",
     "output_type": "stream",
     "text": [
      "[[[ 0  1  2  3]\n",
      "  [ 4  5  6  7]\n",
      "  [ 8  9 10 11]]\n",
      "\n",
      " [[12 13 14 15]\n",
      "  [16 17 18 19]\n",
      "  [20 21 22 23]]]\n",
      "\n",
      "[[12 14 16 18]\n",
      " [20 22 24 26]\n",
      " [28 30 32 34]]\n",
      "\n",
      "[[12 15 18 21]\n",
      " [48 51 54 57]]\n",
      "\n",
      "[[ 6 22 38]\n",
      " [54 70 86]]\n"
     ]
    }
   ],
   "source": [
    "import numpy as np\n",
    "x = np.arange(24).reshape(2,3,4)\n",
    "\n",
    "print(x,end='\\n')\n",
    "print()\n",
    "print(x.sum(axis=0))\n",
    "\n",
    "print('')\n",
    " \n",
    "print(x.sum(axis=1))\n",
    "\n",
    "print('')\n",
    "print(x.sum(axis=2))\n"
   ]
  },
  {
   "cell_type": "code",
   "execution_count": 29,
   "metadata": {},
   "outputs": [
    {
     "data": {
      "text/plain": [
       "0"
      ]
     },
     "execution_count": 29,
     "metadata": {},
     "output_type": "execute_result"
    }
   ],
   "source": [
    "def reverse(x: int) -> int:\n",
    "        if(x >= 0):\n",
    "            ans = list(str(x))\n",
    "            ans.reverse()\n",
    "            return int(\"\".join(ans)) if int(\"\".join(ans)) <= pow(2,31)-1 else 0\n",
    "        else:\n",
    "            if(-1*x>pow(2,32)):\n",
    "                    return 0\n",
    "            ans = list(str(x)[1:])\n",
    "            ans.reverse()\n",
    "            return int(\"\".join(ans))*-1 if int(\"\".join(ans)) <=pow(2,31) else 0\n",
    "reverse(-2147483648)"
   ]
  },
  {
   "cell_type": "code",
   "execution_count": 34,
   "metadata": {},
   "outputs": [
    {
     "name": "stdout",
     "output_type": "stream",
     "text": [
      "121 121\n"
     ]
    },
    {
     "data": {
      "text/plain": [
       "True"
      ]
     },
     "execution_count": 34,
     "metadata": {},
     "output_type": "execute_result"
    }
   ],
   "source": [
    "def isPalindrome( x: int) -> bool:\n",
    "        x_str = str(x)\n",
    "        x_str_array = list(x_str)\n",
    "        x_str_array.reverse()\n",
    "        return True if x_str==''.join(x_str_array) else False\n",
    "isPalindrome(121)"
   ]
  }
 ],
 "metadata": {
  "kernelspec": {
   "display_name": "Python 3",
   "language": "python",
   "name": "python3"
  },
  "language_info": {
   "codemirror_mode": {
    "name": "ipython",
    "version": 3
   },
   "file_extension": ".py",
   "mimetype": "text/x-python",
   "name": "python",
   "nbconvert_exporter": "python",
   "pygments_lexer": "ipython3",
   "version": "3.8.5"
  }
 },
 "nbformat": 4,
 "nbformat_minor": 4
}
