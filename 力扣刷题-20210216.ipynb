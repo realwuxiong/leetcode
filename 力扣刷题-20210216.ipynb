{
 "cells": [
  {
   "cell_type": "code",
   "execution_count": 10,
   "metadata": {},
   "outputs": [
    {
     "data": {
      "text/plain": [
       "9"
      ]
     },
     "execution_count": 10,
     "metadata": {},
     "output_type": "execute_result"
    }
   ],
   "source": [
    "# 561. 数组拆分 I\n",
    "# https://leetcode-cn.com/problems/array-partition-i/\n",
    "from typing import List\n",
    "def arrayPairSum(nums: List[int]) -> int:\n",
    "    nums.sort()\n",
    "    res = 0\n",
    "    for i in range(len(nums)):\n",
    "        res += nums[i] if not i & 1 else 0    \n",
    "    return res\n",
    "nums = [6,2,6,5,1,2]\n",
    "arrayPairSum(nums)"
   ]
  }
 ],
 "metadata": {
  "kernelspec": {
   "display_name": "Python 3",
   "language": "python",
   "name": "python3"
  },
  "language_info": {
   "codemirror_mode": {
    "name": "ipython",
    "version": 3
   },
   "file_extension": ".py",
   "mimetype": "text/x-python",
   "name": "python",
   "nbconvert_exporter": "python",
   "pygments_lexer": "ipython3",
   "version": "3.8.5"
  }
 },
 "nbformat": 4,
 "nbformat_minor": 4
}
