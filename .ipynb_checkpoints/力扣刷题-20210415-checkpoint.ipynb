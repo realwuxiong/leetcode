{
 "cells": [
  {
   "cell_type": "code",
   "execution_count": null,
   "metadata": {},
   "outputs": [],
   "source": [
    "# 213. 打家劫舍 II\n",
    "# https://leetcode-cn.com/problems/house-robber-ii/\n",
    "# 第一感觉可以用动态规划，但是没想出来\n",
    "# 看了看标准答案\n",
    "from typing import List\n",
    "def rob(self, nums: List[int]) -> int:\n",
    "    res = -1\n",
    "    n = len(nums)\n",
    "    tem = [True]*n\n",
    "    def dfs(i):\n",
    "        \n",
    "        for j in range(i,n):\n",
    "            if nums[(j-1+n)%n] and nums[(j+1+n)%n]:\n",
    "                \n",
    "            \n",
    "        \n",
    "    pass\n",
    "nums = [1,2,3,1]\n",
    "\n",
    "# 标准答案，确实是动态规划，，动态规划好好看看，，\n",
    "# class Solution:\n",
    "#     def rob(self, nums: List[int]) -> int:\n",
    "#         def robRange(start: int, end: int) -> int:\n",
    "#             first = nums[start]\n",
    "#             second = max(nums[start], nums[start + 1])\n",
    "#             for i in range(start + 2, end + 1):\n",
    "#                 first, second = second, max(first + nums[i], second)\n",
    "#             return second\n",
    "        \n",
    "#         length = len(nums)\n",
    "#         if length == 1:\n",
    "#             return nums[0]\n",
    "#         elif length == 2:\n",
    "#             return max(nums[0], nums[1])\n",
    "#         else:\n",
    "#             return max(robRange(0, length - 2), robRange(1, length - 1))\n"
   ]
  },
  {
   "cell_type": "code",
   "execution_count": 5,
   "metadata": {},
   "outputs": [
    {
     "data": {
      "text/plain": [
       "4"
      ]
     },
     "execution_count": 5,
     "metadata": {},
     "output_type": "execute_result"
    }
   ],
   "source": [
    "# 198. 打家劫舍\n",
    "# https://leetcode-cn.com/problems/house-robber/\n",
    "# 这个题目要写出来\n",
    "from typing import List\n",
    "def rob(nums: List[int]) -> int:\n",
    "    n = len(nums)\n",
    "    if n == 1:\n",
    "        return nums[0]\n",
    "    if n == 2:\n",
    "        return max(nums[0],nums[1])\n",
    "    \n",
    "    first = nums[0]\n",
    "    second = max(nums[0],nums[1])\n",
    "    for i in range(2,n):\n",
    "        first,second = second,max(first+nums[i],second)\n",
    "    return second\n",
    "    pass\n",
    "nums = [2,1,1,2]\n",
    "rob(nums)"
   ]
  }
 ],
 "metadata": {
  "kernelspec": {
   "display_name": "Python 3",
   "language": "python",
   "name": "python3"
  },
  "language_info": {
   "codemirror_mode": {
    "name": "ipython",
    "version": 3
   },
   "file_extension": ".py",
   "mimetype": "text/x-python",
   "name": "python",
   "nbconvert_exporter": "python",
   "pygments_lexer": "ipython3",
   "version": "3.8.5"
  }
 },
 "nbformat": 4,
 "nbformat_minor": 4
}
