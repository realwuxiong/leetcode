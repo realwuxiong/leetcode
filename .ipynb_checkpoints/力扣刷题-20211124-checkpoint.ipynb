{
 "cells": [
  {
   "cell_type": "code",
   "execution_count": null,
   "metadata": {},
   "outputs": [],
   "source": [
    "# 423. 从英文中重建数字\n",
    "# https://leetcode-cn.com/problems/reconstruct-original-digits-from-english/\n",
    "\n",
    "def originalDigits(s: str) -> str:\n",
    "    t = [\"zeor\",\"one\",\"two\",\"three\",\"four\",\"five\",\"six\",\"seven\",\"eight\",\"nine\"]\n",
    "\n",
    "    arr = [0]*26\n",
    "    for ss in s:\n",
    "        arr[ord(ss)-ord('a')] += 1\n",
    "    \n",
    "    ans = 0\n",
    "    for i in range\n",
    "        \n",
    "        \n",
    "        \n",
    "                \n",
    "    \n",
    "    pass\n"
   ]
  }
 ],
 "metadata": {
  "kernelspec": {
   "display_name": "Python 3",
   "language": "python",
   "name": "python3"
  },
  "language_info": {
   "codemirror_mode": {
    "name": "ipython",
    "version": 3
   },
   "file_extension": ".py",
   "mimetype": "text/x-python",
   "name": "python",
   "nbconvert_exporter": "python",
   "pygments_lexer": "ipython3",
   "version": "3.6.9"
  },
  "toc-autonumbering": false,
  "toc-showcode": false,
  "toc-showmarkdowntxt": false,
  "toc-showtags": false
 },
 "nbformat": 4,
 "nbformat_minor": 4
}
