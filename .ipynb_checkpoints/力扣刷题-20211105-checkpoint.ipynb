{
 "cells": [
  {
   "cell_type": "code",
   "execution_count": 5,
   "metadata": {},
   "outputs": [
    {
     "data": {
      "text/plain": [
       "4"
      ]
     },
     "execution_count": 5,
     "metadata": {},
     "output_type": "execute_result"
    }
   ],
   "source": [
    "# 1218. 最长定差子序列\n",
    "# https://leetcode-cn.com/problems/longest-arithmetic-subsequence-of-given-difference/\n",
    "\n",
    "from typing import List\n",
    "def longestSubsequence(arr: List[int], difference: int) -> int:\n",
    "    # 这个题目明显就是用动态规划了\n",
    "    dic = {}\n",
    "    for a in arr:\n",
    "        if a-difference in dic.keys():\n",
    "            dic[a] = dic[a-difference] + 1\n",
    "        else:\n",
    "            dic[a] = 1\n",
    "    return max(dic.values())\n",
    "\n",
    "arr = [1,5,7,8,5,3,4,2,1]\n",
    "difference = -2\n",
    "longestSubsequence(arr,difference)"
   ]
  }
 ],
 "metadata": {
  "kernelspec": {
   "display_name": "Python 3",
   "language": "python",
   "name": "python3"
  },
  "language_info": {
   "codemirror_mode": {
    "name": "ipython",
    "version": 3
   },
   "file_extension": ".py",
   "mimetype": "text/x-python",
   "name": "python",
   "nbconvert_exporter": "python",
   "pygments_lexer": "ipython3",
   "version": "3.6.9"
  },
  "toc-autonumbering": false,
  "toc-showcode": false,
  "toc-showmarkdowntxt": false,
  "toc-showtags": false
 },
 "nbformat": 4,
 "nbformat_minor": 4
}
