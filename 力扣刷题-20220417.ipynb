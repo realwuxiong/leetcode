{
 "cells": [
  {
   "cell_type": "code",
   "execution_count": 15,
   "metadata": {},
   "outputs": [
    {
     "data": {
      "text/plain": [
       "'a'"
      ]
     },
     "execution_count": 15,
     "metadata": {},
     "output_type": "execute_result"
    }
   ],
   "source": [
    "# 819. 最常见的单词\n",
    "# https://leetcode-cn.com/problems/most-common-word/\n",
    "\n",
    "from typing import List\n",
    "def mostCommonWord(paragraph: str, banned: List[str]) -> str:\n",
    "    # 得好好学习学习正则表达式\n",
    "    import re\n",
    "    from collections import Counter\n",
    "    rule = re.compile(r\"[^a-zA-Z0-9\\u4e00-\\u9fa5]\")\n",
    "    paragraph = rule.sub(' ', paragraph)\n",
    "#     print(paragraph)\n",
    "    counter = Counter(paragraph.lower().split())\n",
    "    keys = list(counter.keys())\n",
    "    keys.sort(key=lambda a:-counter[a])\n",
    "    \n",
    "    for key in keys:\n",
    "        if key not in banned:\n",
    "            return key\n",
    "    return None\n",
    "    pass\n",
    "\n",
    "paragraph = \"a.\"\n",
    "banned = [\"hit\"]\n",
    "mostCommonWord(paragraph,banned)"
   ]
  }
 ],
 "metadata": {
  "kernelspec": {
   "display_name": "Python 3",
   "language": "python",
   "name": "python3"
  },
  "language_info": {
   "codemirror_mode": {
    "name": "ipython",
    "version": 3
   },
   "file_extension": ".py",
   "mimetype": "text/x-python",
   "name": "python",
   "nbconvert_exporter": "python",
   "pygments_lexer": "ipython3",
   "version": "3.6.9"
  },
  "toc-autonumbering": false,
  "toc-showcode": false,
  "toc-showmarkdowntxt": false,
  "toc-showtags": false
 },
 "nbformat": 4,
 "nbformat_minor": 4
}
