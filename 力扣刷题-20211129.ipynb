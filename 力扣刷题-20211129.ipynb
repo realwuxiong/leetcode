{
 "cells": [
  {
   "cell_type": "code",
   "execution_count": 3,
   "metadata": {},
   "outputs": [
    {
     "data": {
      "text/plain": [
       "[2, 5]"
      ]
     },
     "execution_count": 3,
     "metadata": {},
     "output_type": "execute_result"
    }
   ],
   "source": [
    "# 786. 第 K 个最小的素数分数\n",
    "# https://leetcode-cn.com/problems/k-th-smallest-prime-fraction/\n",
    "\n",
    "from typing import List,Tuple\n",
    "from functools import cmp_to_key\n",
    "# 自定义排序，复制的答案，这个是个困难题，不想做了。。\n",
    "def kthSmallestPrimeFraction(arr: List[int], k: int) -> List[int]:\n",
    "    def cmp(x: Tuple[int, int], y: Tuple[int, int]) -> int:\n",
    "        return -1 if x[0] * y[1] < x[1] * y[0] else 1\n",
    "\n",
    "    n = len(arr)\n",
    "    frac = list()\n",
    "    for i in range(n):\n",
    "        for j in range(i + 1, n):\n",
    "            frac.append((arr[i], arr[j]))\n",
    "\n",
    "    frac.sort(key=cmp_to_key(cmp))\n",
    "    return list(frac[k - 1])\n",
    "\n",
    "arr = [1,2,3,5]\n",
    "k = 3\n",
    "kthSmallestPrimeFraction(arr,k)"
   ]
  }
 ],
 "metadata": {
  "kernelspec": {
   "display_name": "Python 3",
   "language": "python",
   "name": "python3"
  },
  "language_info": {
   "codemirror_mode": {
    "name": "ipython",
    "version": 3
   },
   "file_extension": ".py",
   "mimetype": "text/x-python",
   "name": "python",
   "nbconvert_exporter": "python",
   "pygments_lexer": "ipython3",
   "version": "3.6.9"
  },
  "toc-autonumbering": false,
  "toc-showcode": false,
  "toc-showmarkdowntxt": false,
  "toc-showtags": false
 },
 "nbformat": 4,
 "nbformat_minor": 4
}
