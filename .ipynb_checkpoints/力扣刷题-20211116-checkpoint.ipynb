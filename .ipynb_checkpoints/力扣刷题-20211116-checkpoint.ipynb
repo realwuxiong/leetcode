{
 "cells": [
  {
   "cell_type": "code",
   "execution_count": null,
   "metadata": {},
   "outputs": [],
   "source": [
    "# 391. 完美矩形\n",
    "# https://leetcode-cn.com/problems/perfect-rectangle/\n",
    "\n",
    "from typing import List\n",
    "def isRectangleCover(rectangles: List[List[int]]) -> bool:\n",
    "    # 这个题有点像差分数组\n",
    "    \n",
    "    # 思路：两个两个找覆盖的部分\n",
    "    \n",
    "    \n",
    "    \n",
    "    pass\n",
    "rectangles = [[1,1,3,3],[3,1,4,2],[3,2,4,4],[1,3,2,4],[2,3,3,4]]\n",
    "isRectangleCover(rectangles)"
   ]
  }
 ],
 "metadata": {
  "kernelspec": {
   "display_name": "Python 3",
   "language": "python",
   "name": "python3"
  },
  "language_info": {
   "codemirror_mode": {
    "name": "ipython",
    "version": 3
   },
   "file_extension": ".py",
   "mimetype": "text/x-python",
   "name": "python",
   "nbconvert_exporter": "python",
   "pygments_lexer": "ipython3",
   "version": "3.6.9"
  },
  "toc-autonumbering": false,
  "toc-showcode": false,
  "toc-showmarkdowntxt": false,
  "toc-showtags": false
 },
 "nbformat": 4,
 "nbformat_minor": 4
}
