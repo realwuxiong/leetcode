{
 "cells": [
  {
   "cell_type": "code",
   "execution_count": 7,
   "metadata": {},
   "outputs": [
    {
     "data": {
      "text/plain": [
       "['abc', 'deq']"
      ]
     },
     "execution_count": 7,
     "metadata": {},
     "output_type": "execute_result"
    }
   ],
   "source": [
    "# 890. 查找和替换模式\n",
    "# https://leetcode.cn/problems/find-and-replace-pattern/\n",
    "\n",
    "from typing import List\n",
    "def findAndReplacePattern(words: List[str], pattern: str) -> List[str]:\n",
    "    ans = []\n",
    "    n = len(pattern)\n",
    "    for word in words:\n",
    "        if len(word)!= n:\n",
    "            continue\n",
    "        dic = {}\n",
    "        for i in range(n):\n",
    "            if pattern[i] not in dic.keys():\n",
    "                dic[pattern[i]] = word[i]\n",
    "            if dic[pattern[i]] != word[i]:\n",
    "                break\n",
    "        else:\n",
    "            if len(dic.keys()) == len(set(dic.values())):\n",
    "                ans.append(word)\n",
    "    return ans\n",
    "    \n",
    "words = [\"abc\",\"deq\",\"mee\",\"aqq\",\"dkd\",\"ccc\"]\n",
    "# words = [\"mee\"]\n",
    "pattern = \"abc\"\n",
    "findAndReplacePattern(words,pattern)"
   ]
  }
 ],
 "metadata": {
  "kernelspec": {
   "display_name": "Python 3",
   "language": "python",
   "name": "python3"
  },
  "language_info": {
   "codemirror_mode": {
    "name": "ipython",
    "version": 3
   },
   "file_extension": ".py",
   "mimetype": "text/x-python",
   "name": "python",
   "nbconvert_exporter": "python",
   "pygments_lexer": "ipython3",
   "version": "3.6.9"
  },
  "toc-autonumbering": false,
  "toc-showcode": false,
  "toc-showmarkdowntxt": false,
  "toc-showtags": false
 },
 "nbformat": 4,
 "nbformat_minor": 4
}
