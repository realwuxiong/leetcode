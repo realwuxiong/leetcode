{
 "cells": [
  {
   "cell_type": "code",
   "execution_count": 16,
   "metadata": {},
   "outputs": [
    {
     "data": {
      "text/plain": [
       "'2A0B'"
      ]
     },
     "execution_count": 16,
     "metadata": {},
     "output_type": "execute_result"
    }
   ],
   "source": [
    "# 299. 猜数字游戏\n",
    "# https://leetcode-cn.com/problems/bulls-and-cows/\n",
    "\n",
    "def getHint(secret: str, guess: str) -> str:\n",
    "    bulls = 0\n",
    "    cows = 0\n",
    "    \n",
    "    n = len(secret)\n",
    "    ss = list(secret)\n",
    "    gg = list(guess)\n",
    "    for i in range(n):\n",
    "        if secret[i] == guess[i]:\n",
    "            bulls += 1\n",
    "            ss.remove(secret[i])\n",
    "            gg.remove(secret[i])\n",
    "    while gg:\n",
    "        if gg[0] in ss:\n",
    "            cows += 1\n",
    "            ss.remove(gg[0])\n",
    "        del gg[0]\n",
    "    return f\"{bulls}A{cows}B\"\n",
    "    \n",
    "    pass\n",
    "secret = \"11\"\n",
    "guess = \"11\"\n",
    "getHint(secret,guess)"
   ]
  },
  {
   "cell_type": "code",
   "execution_count": 17,
   "metadata": {},
   "outputs": [
    {
     "data": {
      "text/plain": [
       "'2A0B'"
      ]
     },
     "execution_count": 17,
     "metadata": {},
     "output_type": "execute_result"
    }
   ],
   "source": [
    "# 还是答案写的简洁啊。。\n",
    "def getHint(secret: str, guess: str) -> str:\n",
    "    cows = 0\n",
    "    bulls = 0\n",
    "    cntS, cntG = [0] * 10, [0] * 10\n",
    "    for s, g in zip(secret, guess):\n",
    "        if s == g:\n",
    "            bulls += 1\n",
    "        else:\n",
    "            cntS[int(s)] += 1\n",
    "            cntG[int(g)] += 1\n",
    "    cows = sum(min(s, g) for s, g in zip(cntS, cntG))\n",
    "    return f'{bulls}A{cows}B'\n",
    "secret = \"11\"\n",
    "guess = \"11\"\n",
    "getHint(secret,guess)"
   ]
  }
 ],
 "metadata": {
  "kernelspec": {
   "display_name": "Python 3",
   "language": "python",
   "name": "python3"
  },
  "language_info": {
   "codemirror_mode": {
    "name": "ipython",
    "version": 3
   },
   "file_extension": ".py",
   "mimetype": "text/x-python",
   "name": "python",
   "nbconvert_exporter": "python",
   "pygments_lexer": "ipython3",
   "version": "3.6.9"
  },
  "toc-autonumbering": false,
  "toc-showcode": false,
  "toc-showmarkdowntxt": false,
  "toc-showtags": false
 },
 "nbformat": 4,
 "nbformat_minor": 4
}
