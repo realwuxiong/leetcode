{
 "cells": [
  {
   "cell_type": "code",
   "execution_count": 5,
   "metadata": {},
   "outputs": [
    {
     "data": {
      "text/plain": [
       "5"
      ]
     },
     "execution_count": 5,
     "metadata": {},
     "output_type": "execute_result"
    }
   ],
   "source": [
    "# 115. 不同的子序列\n",
    "# https://leetcode-cn.com/problems/distinct-subsequences/\n",
    "# 这是一道难题，但是还是得做一做。。。\n",
    "# 初步的想法是采用回溯,不是吧，，瞬间就做出来了？？，没想到就是回溯，只是超过了时间限制\n",
    "\n",
    "#  官方答案采用的是动态规划的办法。。。参考一下。。\n",
    "def numDistinct(s: str, t: str) -> int:\n",
    "    global res \n",
    "    res = 0\n",
    "    def dfs(sindex,tindex):\n",
    "        global res\n",
    "        if tindex == len(t):\n",
    "            res += 1\n",
    "            return\n",
    "        for i in range(sindex,len(s)):\n",
    "            if s[i] == t[tindex]:\n",
    "                dfs(i+1,tindex+1)\n",
    "    dfs(0,0)\n",
    "    return res\n",
    "# 好好理解一下动态转移方程\n",
    "# class Solution:\n",
    "#     def numDistinct(self, s: str, t: str) -> int:\n",
    "#         m, n = len(s), len(t)\n",
    "#         if m < n:\n",
    "#             return 0\n",
    "        \n",
    "#         dp = [[0] * (n + 1) for _ in range(m + 1)]\n",
    "#         for i in range(m + 1):\n",
    "#             dp[i][n] = 1\n",
    "        \n",
    "#         for i in range(m - 1, -1, -1):\n",
    "#             for j in range(n - 1, -1, -1):\n",
    "#                 if s[i] == t[j]:\n",
    "#                     dp[i][j] = dp[i + 1][j + 1] + dp[i + 1][j]\n",
    "#                 else:\n",
    "#                     dp[i][j] = dp[i + 1][j]\n",
    "        \n",
    "#         return dp[0][0]\n",
    "\n",
    "s = \"babgbag\"\n",
    "t = \"bag\"\n",
    "numDistinct(s,t)"
   ]
  }
 ],
 "metadata": {
  "kernelspec": {
   "display_name": "Python 3",
   "language": "python",
   "name": "python3"
  },
  "language_info": {
   "codemirror_mode": {
    "name": "ipython",
    "version": 3
   },
   "file_extension": ".py",
   "mimetype": "text/x-python",
   "name": "python",
   "nbconvert_exporter": "python",
   "pygments_lexer": "ipython3",
   "version": "3.8.5"
  }
 },
 "nbformat": 4,
 "nbformat_minor": 4
}
