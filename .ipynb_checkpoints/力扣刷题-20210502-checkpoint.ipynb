{
 "cells": [
  {
   "cell_type": "code",
   "execution_count": 9,
   "metadata": {},
   "outputs": [
    {
     "data": {
      "text/plain": [
       "2"
      ]
     },
     "execution_count": 9,
     "metadata": {},
     "output_type": "execute_result"
    }
   ],
   "source": [
    "# 554. 砖墙\n",
    "# https://leetcode-cn.com/problems/brick-wall/\n",
    "from typing import List\n",
    "def leastBricks(wall: List[List[int]]) -> int:\n",
    "    myhash = {}\n",
    "    myhash[-1] = 0\n",
    "    for i in range(len(wall)):\n",
    "        tem = 0\n",
    "        for j in range(len(wall[i])-1):\n",
    "            tem += wall[i][j]\n",
    "            if tem in myhash.keys():\n",
    "                myhash[tem] += 1\n",
    "            else:\n",
    "                myhash[tem] = 1\n",
    "    return len(wall) - max(myhash.values())\n",
    "    pass\n",
    "wall = [[1,2,2,1],[3,1,2],[1,3,2],[2,4],[3,1,2],[1,3,1,1]]\n",
    "leastBricks(wall)"
   ]
  },
  {
   "cell_type": "code",
   "execution_count": null,
   "metadata": {},
   "outputs": [],
   "source": [
    "// java 版本\n",
    "public int leastBricks(List<List<Integer>> wall) {\n",
    "    Map<Integer, Integer> myHashMap = new HashMap<>();\n",
    "    myHashMap.put(-1,0);\n",
    "    for(List<Integer> data : wall){\n",
    "        int tem = 0;\n",
    "        for(int i = 0; i < data.size()-1; ++i){\n",
    "            tem += data.get(i);\n",
    "            myHashMap.put(tem,myHashMap.getOrDefault(tem,0)+1); // 这一行代码，可以替代下面好几行。\n",
    "//                if(myHashMap.keySet()!= null && myHashMap.keySet().contains(tem)){\n",
    "//                    myHashMap.put(tem,myHashMap.get(tem)+1);\n",
    "//                }else{\n",
    "//                    myHashMap.put(tem,1);\n",
    "//                }\n",
    "\n",
    "        }\n",
    "    }\n",
    "    System.out.println(wall.size()- Collections.max(myHashMap.values()));\n",
    "    return wall.size()- Collections.max(myHashMap.values());\n",
    "}"
   ]
  }
 ],
 "metadata": {
  "kernelspec": {
   "display_name": "Python 3",
   "language": "python",
   "name": "python3"
  },
  "language_info": {
   "codemirror_mode": {
    "name": "ipython",
    "version": 3
   },
   "file_extension": ".py",
   "mimetype": "text/x-python",
   "name": "python",
   "nbconvert_exporter": "python",
   "pygments_lexer": "ipython3",
   "version": "3.6.9"
  }
 },
 "nbformat": 4,
 "nbformat_minor": 4
}
