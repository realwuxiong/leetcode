{
 "cells": [
  {
   "cell_type": "code",
   "execution_count": 20,
   "metadata": {},
   "outputs": [
    {
     "name": "stdout",
     "output_type": "stream",
     "text": [
      "53\n"
     ]
    }
   ],
   "source": [
    "# 1711. 大餐计数\n",
    "# https://leetcode-cn.com/problems/count-good-meals/\n",
    "from typing import List\n",
    "# 这方法超时\n",
    "# 能过58/70用例\n",
    "def countPairs(deliciousness: List[int]) -> int:\n",
    "    n = len(deliciousness)\n",
    "    count = 0\n",
    "    for i in range(n):\n",
    "        for j in range(i+1,n):\n",
    "            if (deliciousness[i]+deliciousness[j])&(deliciousness[i]+deliciousness[j]-1)==0 and (deliciousness[i]+deliciousness[j]) != 0:\n",
    "#                 print(deliciousness[i]+deliciousness[j],deliciousness[i],deliciousness[j],i,j)\n",
    "                count += 1\n",
    "                count %= 10**9+7\n",
    "    print(count)\n",
    "    pass\n",
    "deliciousness = [2160,1936,3,29,27,5,2503,1593,2,0,16,0,3860,28908,6,2,15,49,6246,1946,23,105,7996,196,0,2,55,457,5,3,924,7268,16,48,4,0,12,116,2628,1468]\n",
    "countPairs(deliciousness)"
   ]
  },
  {
   "cell_type": "code",
   "execution_count": 28,
   "metadata": {},
   "outputs": [
    {
     "name": "stdout",
     "output_type": "stream",
     "text": [
      "53\n"
     ]
    }
   ],
   "source": [
    "# 1711. 大餐计数\n",
    "# https://leetcode-cn.com/problems/count-good-meals/\n",
    "from typing import List\n",
    "# 换一个思路,这样能过61/70个用例\n",
    "def countPairs(deliciousness: List[int]) -> int:\n",
    "    import collections\n",
    "    counter = collections.Counter(deliciousness)\n",
    "    keys =list(counter.keys())\n",
    "    n = len(keys)\n",
    "    count = 0\n",
    "    for i in range(n):\n",
    "        if (keys[i]*2)&(keys[i]*2-1) == 0 and keys[i]!=0:\n",
    "   \n",
    "            count +=counter[keys[i]]*(counter[keys[i]]-1)//2\n",
    "            count %= 10**9+7\n",
    "        \n",
    "        for j in range(i+1,n):\n",
    "            if (keys[i]+keys[j])&(keys[i]+keys[j]-1)==0 and (keys[i]+keys[j]) != 0 :\n",
    "#                 print(deliciousness[i]+deliciousness[j],deliciousness[i],deliciousness[j],i,j)\n",
    "                count += counter[keys[i]]*counter[keys[j]]\n",
    "                count %= 10**9+7\n",
    "    print(count)\n",
    "    \n",
    "    pass\n",
    "deliciousness = [2160,1936,3,29,27,5,2503,1593,2,0,16,0,3860,28908,6,2,15,49,6246,1946,23,105,7996,196,0,2,55,457,5,3,924,7268,16,48,4,0,12,116,2628,1468]\n",
    "countPairs(deliciousness)"
   ]
  },
  {
   "cell_type": "code",
   "execution_count": 25,
   "metadata": {},
   "outputs": [
    {
     "data": {
      "text/plain": [
       "6"
      ]
     },
     "execution_count": 25,
     "metadata": {},
     "output_type": "execute_result"
    }
   ],
   "source": []
  }
 ],
 "metadata": {
  "kernelspec": {
   "display_name": "Python 3",
   "language": "python",
   "name": "python3"
  },
  "language_info": {
   "codemirror_mode": {
    "name": "ipython",
    "version": 3
   },
   "file_extension": ".py",
   "mimetype": "text/x-python",
   "name": "python",
   "nbconvert_exporter": "python",
   "pygments_lexer": "ipython3",
   "version": "3.6.9"
  }
 },
 "nbformat": 4,
 "nbformat_minor": 4
}
