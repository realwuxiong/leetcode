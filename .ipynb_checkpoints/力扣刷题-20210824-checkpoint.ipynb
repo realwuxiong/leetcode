{
 "cells": [
  {
   "cell_type": "code",
   "execution_count": 4,
   "metadata": {},
   "outputs": [
    {
     "name": "stdout",
     "output_type": "stream",
     "text": [
      "[200, 500]\n"
     ]
    }
   ],
   "source": [
    "# 787. K 站中转内最便宜的航班\n",
    "# https://leetcode-cn.com/problems/cheapest-flights-within-k-stops/\n",
    "from typing import List\n",
    "def findCheapestPrice(n: int, flights: List[List[int]], src: int, dst: int, k: int) -> int:\n",
    "    # 用dfs试试\n",
    "    # dfs超出时间限制\n",
    "    def dfs(position,expense,kk):\n",
    "        if position == dst:\n",
    "            ans.append(expense)\n",
    "            return\n",
    "        if kk < -1:\n",
    "            return\n",
    "        \n",
    "        for flight in flights:\n",
    "            if flight[0] == position:\n",
    "                dfs(flight[1],expense+flight[2],kk-1)  \n",
    "    ans = [10000]\n",
    "    dfs(src,0,k)\n",
    "    return -1 if min(ans) == 10000 else min(ans)\n",
    "    pass\n",
    "n = 3\n",
    "edges = [[0,1,100],[1,2,100],[0,2,500]]\n",
    "src = 0\n",
    "dst = 2\n",
    "k = 1\n",
    "findCheapestPrice(n,edges,src,dst,k)"
   ]
  },
  {
   "cell_type": "code",
   "execution_count": null,
   "metadata": {},
   "outputs": [],
   "source": [
    "from typing import List\n",
    "def findCheapestPrice(n: int, flights: List[List[int]], src: int, dst: int, k: int) -> int:\n",
    "    # 看答案的，其实还是动态规划\n",
    "    \n",
    "n = 3\n",
    "edges = [[0,1,100],[1,2,100],[0,2,500]]\n",
    "src = 0\n",
    "dst = 2\n",
    "k = 1\n",
    "findCheapestPrice(n,edges,src,dst,k)"
   ]
  }
 ],
 "metadata": {
  "kernelspec": {
   "display_name": "Python 3",
   "language": "python",
   "name": "python3"
  },
  "language_info": {
   "codemirror_mode": {
    "name": "ipython",
    "version": 3
   },
   "file_extension": ".py",
   "mimetype": "text/x-python",
   "name": "python",
   "nbconvert_exporter": "python",
   "pygments_lexer": "ipython3",
   "version": "3.6.9"
  },
  "toc-autonumbering": false,
  "toc-showcode": false,
  "toc-showmarkdowntxt": false,
  "toc-showtags": false
 },
 "nbformat": 4,
 "nbformat_minor": 4
}
