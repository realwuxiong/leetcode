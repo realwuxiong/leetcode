{
 "cells": [
  {
   "cell_type": "code",
   "execution_count": 31,
   "metadata": {},
   "outputs": [
    {
     "name": "stdout",
     "output_type": "stream",
     "text": [
      "0 1 2 3 4 2 2 3 3 4 "
     ]
    },
    {
     "data": {
      "text/plain": [
       "5"
      ]
     },
     "execution_count": 31,
     "metadata": {},
     "output_type": "execute_result"
    }
   ],
   "source": [
    "/*\n",
    "26. 删除有序数组中的重复项\n",
    "https://leetcode-cn.com/problems/remove-duplicates-from-sorted-array/\n",
    "采用的是快慢指针的方法，刚刚开始用java好不习惯。。。\n",
    "*/\n",
    "public int removeDuplicates(int[] nums) {\n",
    "    if(nums == null || nums.length == 0){\n",
    "        return 0;\n",
    "    }\n",
    "    int tem = nums[0];\n",
    "    int slow  = 0;\n",
    "    for(int i=1; i < nums.length;++i){\n",
    "        if(nums[i] != nums[slow]){\n",
    "            nums[++slow] = nums[i];\n",
    "        }\n",
    "    }\n",
    "//     for(int num :nums){\n",
    "//         System.out.print(num+\" \");\n",
    "//     }\n",
    "    \n",
    "    return ++slow;\n",
    "}\n",
    "int [] nums ={0,0,1,1,1,2,2,3,3,4};\n",
    "removeDuplicates(nums)"
   ]
  },
  {
   "cell_type": "code",
   "execution_count": 37,
   "metadata": {},
   "outputs": [
    {
     "name": "stdout",
     "output_type": "stream",
     "text": [
      "[0, 0, 1, 1, 1, 2, 2, 3, 3, 4]\n"
     ]
    }
   ],
   "source": [
    "// 慢慢习惯用java写代码\n",
    "int [] nums ={0,0,1,1,1,2,2,3,3,4};\n",
    "Arrays.sort(nums);\n",
    "System.out.println(Arrays.toString(nums));"
   ]
  }
 ],
 "metadata": {
  "kernelspec": {
   "display_name": "Java",
   "language": "java",
   "name": "java"
  },
  "language_info": {
   "codemirror_mode": "java",
   "file_extension": ".jshell",
   "mimetype": "text/x-java-source",
   "name": "Java",
   "pygments_lexer": "java",
   "version": "11.0.10+9-Ubuntu-0ubuntu1.18.04"
  }
 },
 "nbformat": 4,
 "nbformat_minor": 4
}
