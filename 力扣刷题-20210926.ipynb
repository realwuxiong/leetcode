{
 "cells": [
  {
   "cell_type": "code",
   "execution_count": null,
   "metadata": {},
   "outputs": [],
   "source": [
    "# 371. 两整数之和\n",
    "# https://leetcode-cn.com/problems/sum-of-two-integers/\n",
    "\n",
    "\n",
    "# Java版本\n",
    "class Solution {\n",
    "    public int getSum(int a, int b) {\n",
    "        while (b != 0) {\n",
    "            int carry = (a & b) << 1;\n",
    "            a = a ^ b;\n",
    "            b = carry;\n",
    "        }\n",
    "        return a;\n",
    "    }\n",
    "}\n"
   ]
  }
 ],
 "metadata": {
  "kernelspec": {
   "display_name": "Python 3",
   "language": "python",
   "name": "python3"
  },
  "language_info": {
   "codemirror_mode": {
    "name": "ipython",
    "version": 3
   },
   "file_extension": ".py",
   "mimetype": "text/x-python",
   "name": "python",
   "nbconvert_exporter": "python",
   "pygments_lexer": "ipython3",
   "version": "3.6.9"
  },
  "toc-autonumbering": false,
  "toc-showcode": false,
  "toc-showmarkdowntxt": false,
  "toc-showtags": false
 },
 "nbformat": 4,
 "nbformat_minor": 4
}
