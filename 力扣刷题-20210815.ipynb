{
 "cells": [
  {
   "cell_type": "code",
   "execution_count": 13,
   "metadata": {},
   "outputs": [
    {
     "data": {
      "text/plain": [
       "6"
      ]
     },
     "execution_count": 13,
     "metadata": {},
     "output_type": "execute_result"
    }
   ],
   "source": [
    "# 576. 出界的路径数\n",
    "# https://leetcode-cn.com/problems/out-of-boundary-paths/\n",
    "\n",
    "def findPaths(m: int, n: int, maxMove: int, startRow: int, startColumn: int) -> int:\n",
    "    \n",
    "    # 用dfs，但是超时了\n",
    "    ans = [0]\n",
    "    def dfs(row,clo,remainMove):\n",
    "\n",
    "\n",
    "        if row < 0 or clo < 0 or row  >=m or clo >= n:\n",
    "            if remainMove < 0:\n",
    "                return\n",
    "            ans[0] += 1\n",
    "            return \n",
    "        if remainMove < 0:\n",
    "            return\n",
    "\n",
    "        dfs(row+1,clo,remainMove-1)\n",
    "        dfs(row-1,clo,remainMove-1)\n",
    "        dfs(row,clo+1,remainMove-1)\n",
    "        dfs(row,clo-1,remainMove-1)\n",
    "\n",
    "\n",
    "    dfs(startRow,startColumn,maxMove)\n",
    "    return ans[0] % (10**9+7)\n",
    "m = 2\n",
    "n = 2\n",
    "maxMove = 2\n",
    "startRow = 0\n",
    "startColumn = 0\n",
    "findPaths(m,n,maxMove,startRow,startColumn)"
   ]
  },
  {
   "cell_type": "code",
   "execution_count": 14,
   "metadata": {},
   "outputs": [
    {
     "data": {
      "text/plain": [
       "6"
      ]
     },
     "execution_count": 14,
     "metadata": {},
     "output_type": "execute_result"
    }
   ],
   "source": [
    "# 还是得动态规划\n",
    "# 看的答案，明天重新看看。\n",
    "\n",
    "def findPaths(m: int, n: int, maxMove: int, startRow: int, startColumn: int) -> int:\n",
    "    \n",
    "    MOD = 10**9 + 7\n",
    "    outCounts = 0\n",
    "    dp = [[[0] * n for _ in range(m)] for _ in range(maxMove + 1)]\n",
    "    dp[0][startRow][startColumn] = 1\n",
    "    for i in range(maxMove):\n",
    "        for j in range(m):\n",
    "            for k in range(n):\n",
    "                if dp[i][j][k] > 0:\n",
    "                    for j1, k1 in [(j - 1, k), (j + 1, k), (j, k - 1), (j, k + 1)]:\n",
    "                        if 0 <= j1 < m and 0 <= k1 < n:\n",
    "                            dp[i + 1][j1][k1] = (dp[i + 1][j1][k1] + dp[i][j][k]) % MOD\n",
    "                        else:\n",
    "                            outCounts = (outCounts + dp[i][j][k]) % MOD\n",
    "\n",
    "    return outCounts\n",
    "\n",
    "\n",
    "m = 2\n",
    "n = 2\n",
    "maxMove = 2\n",
    "startRow = 0\n",
    "startColumn = 0\n",
    "findPaths(m,n,maxMove,startRow,startColumn)"
   ]
  }
 ],
 "metadata": {
  "kernelspec": {
   "display_name": "Python 3",
   "language": "python",
   "name": "python3"
  },
  "language_info": {
   "codemirror_mode": {
    "name": "ipython",
    "version": 3
   },
   "file_extension": ".py",
   "mimetype": "text/x-python",
   "name": "python",
   "nbconvert_exporter": "python",
   "pygments_lexer": "ipython3",
   "version": "3.6.9"
  },
  "toc-autonumbering": false,
  "toc-showcode": false,
  "toc-showmarkdowntxt": false,
  "toc-showtags": false
 },
 "nbformat": 4,
 "nbformat_minor": 4
}
