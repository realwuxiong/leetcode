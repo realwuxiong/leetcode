{
 "cells": [
  {
   "cell_type": "code",
   "execution_count": 1,
   "metadata": {},
   "outputs": [
    {
     "name": "stdout",
     "output_type": "stream",
     "text": [
      "das 21 ads& 23 213@1 tt90  \n",
      "null 21 null 23 null null "
     ]
    }
   ],
   "source": [
    "import java.util.*;\n",
    "public static boolean isNumeric(String str){\n",
    "    Pattern pattern = Pattern.compile(\"[0-9]*\");  //正则表达式判断是不是字符\n",
    "    return pattern.matcher(str).matches();   \n",
    "}\n",
    "\n",
    "String []s = {\"das\",\"21\",\"ads&\",\"23\",\"213@1\",\"tt90\"};\n",
    "\n",
    "ArrayList result = new ArrayList(); \n",
    "for(String data:s){\n",
    "    if(isNumeric(data)){\n",
    "//         System.out.println(data);\n",
    "        result.add(data);  // 是字符，原文传入\n",
    "    }else{\n",
    "        result.add(null);   // 不是字符，传入null\n",
    "    }\n",
    "}\n",
    "\n",
    "\n",
    "// 遍历字符串\n",
    "for(int i=0; i < s.length;++i){\n",
    "    System.out.print(s[i]+\" \");\n",
    "}\n",
    "System.out.println(\" \");\n",
    "\n",
    "for(int i=0; i < s.length;++i){\n",
    "    System.out.print(result.get(i)+\" \");\n",
    "}"
   ]
  },
  {
   "cell_type": "code",
   "execution_count": 14,
   "metadata": {},
   "outputs": [
    {
     "name": "stdout",
     "output_type": "stream",
     "text": [
      "1 1\n",
      "2 1\n",
      "2 2\n"
     ]
    },
    {
     "data": {
      "text/plain": [
       "2"
      ]
     },
     "execution_count": 14,
     "metadata": {},
     "output_type": "execute_result"
    }
   ],
   "source": [
    "import java.util.*;\n",
    "\n",
    "public class Gift {\n",
    "    public int getValue(int[] gifts, int n) {\n",
    "        // write code here\n",
    "        Arrays.sort(gifts);\n",
    "        int account = 0;\n",
    "        int tem;\n",
    "        tem = gifts[0];\n",
    "        for(int i : gifts){\n",
    "            if(tem==i){\n",
    "                account++;\n",
    "            }else{\n",
    "                account = 1;\n",
    "                tem = i;\n",
    "            }\n",
    "            if(account>gifts.length/2){\n",
    "                return i;\n",
    "            }\n",
    "            System.out.println(i+\" \"+account);\n",
    "        }\n",
    "        return 0;\n",
    "    }\n",
    "}\n",
    "\n",
    "Gift g = new Gift();\n",
    "int []gifts = {1,2,3,2,2};\n",
    "g.getValue(gifts,5);"
   ]
  },
  {
   "cell_type": "code",
   "execution_count": 11,
   "metadata": {},
   "outputs": [
    {
     "name": "stdout",
     "output_type": "stream",
     "text": [
      "2\n"
     ]
    }
   ],
   "source": [
    "System.out.println(Math.round(1.5))"
   ]
  },
  {
   "cell_type": "code",
   "execution_count": 1,
   "metadata": {},
   "outputs": [],
   "source": [
    "// 函数式编程\n",
    "Thread a = new Thread(()->System.out.println(\"12312\"));\n",
    "a.start();"
   ]
  }
 ],
 "metadata": {
  "kernelspec": {
   "display_name": "Java",
   "language": "java",
   "name": "java"
  },
  "language_info": {
   "codemirror_mode": "java",
   "file_extension": ".jshell",
   "mimetype": "text/x-java-source",
   "name": "Java",
   "pygments_lexer": "java",
   "version": "11.0.10+9-Ubuntu-0ubuntu1.18.04"
  },
  "toc-autonumbering": false,
  "toc-showcode": true,
  "toc-showmarkdowntxt": false,
  "toc-showtags": false
 },
 "nbformat": 4,
 "nbformat_minor": 4
}
