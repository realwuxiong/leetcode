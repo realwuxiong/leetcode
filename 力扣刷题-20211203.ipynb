{
 "cells": [
  {
   "cell_type": "code",
   "execution_count": 13,
   "metadata": {},
   "outputs": [
    {
     "name": "stdout",
     "output_type": "stream",
     "text": [
      "[-9, -9, -7, -6, -3, 1, 3, 8, 9]\n",
      "[9, 9, 7, 6, 3, -1, 3, 8, 9]\n"
     ]
    },
    {
     "data": {
      "text/plain": [
       "53"
      ]
     },
     "execution_count": 13,
     "metadata": {},
     "output_type": "execute_result"
    }
   ],
   "source": [
    "# 1005. K 次取反后最大化的数组和\n",
    "# https://leetcode-cn.com/problems/maximize-sum-of-array-after-k-negations/\n",
    "\n",
    "# 答案的桶排序也可以\n",
    "from typing import List\n",
    "def largestSumAfterKNegations(nums: List[int], k: int) -> int:\n",
    "    nums.sort()\n",
    "    j = 0\n",
    "    n = len(nums)\n",
    "    for i in range(k):\n",
    "        nums[j] *= -1\n",
    "        if j+1 < n and (nums[j+1] <=0 or nums[j+1] < nums[j]):\n",
    "            j += 1\n",
    "    return sum(nums)\n",
    "nums = [8,-7,-3,-9,1,9,-6,-9,3]\n",
    "k = 8\n",
    "largestSumAfterKNegations(nums,k)"
   ]
  }
 ],
 "metadata": {
  "kernelspec": {
   "display_name": "Python 3",
   "language": "python",
   "name": "python3"
  },
  "language_info": {
   "codemirror_mode": {
    "name": "ipython",
    "version": 3
   },
   "file_extension": ".py",
   "mimetype": "text/x-python",
   "name": "python",
   "nbconvert_exporter": "python",
   "pygments_lexer": "ipython3",
   "version": "3.6.9"
  },
  "toc-autonumbering": false,
  "toc-showcode": false,
  "toc-showmarkdowntxt": false,
  "toc-showtags": false
 },
 "nbformat": 4,
 "nbformat_minor": 4
}
