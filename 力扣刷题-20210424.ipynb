{
 "cells": [
  {
   "cell_type": "code",
   "execution_count": 24,
   "metadata": {},
   "outputs": [
    {
     "name": "stdout",
     "output_type": "stream",
     "text": [
      "[[2, 2, 3], [2, 3, 2], [2, 5], [3, 2, 2], [5, 2]]\n"
     ]
    }
   ],
   "source": [
    "# 377. 组合总和 Ⅳ\n",
    "# https://leetcode-cn.com/problems/combination-sum-iv/\n",
    "# dfs,啪一下就出来了，但是超时了\n",
    "from typing import List\n",
    "def combinationSum4(nums: List[int], target: int) -> int:\n",
    "    n = len(nums)\n",
    "    res=[]\n",
    "    stack=[]\n",
    "    def dfs(i):\n",
    "        if i > len(nums) or sum(stack)>target:\n",
    "            return\n",
    "        if sum(stack) == target:\n",
    "            res.append(stack[:])\n",
    "            return\n",
    "        for j in range(n):\n",
    "            stack.append(nums[j])\n",
    "            dfs(j+1)\n",
    "            stack.pop()\n",
    "    dfs(0)\n",
    "    print(res)\n",
    "\n",
    "nums = [2,3,5]\n",
    "target = 7\n",
    "combinationSum4(nums,target)"
   ]
  },
  {
   "cell_type": "code",
   "execution_count": 14,
   "metadata": {},
   "outputs": [
    {
     "name": "stdout",
     "output_type": "stream",
     "text": [
      "[1, 1, 0, 0, 0]\n",
      "[1, 1, 2, 0, 0]\n",
      "[1, 1, 2, 3, 0]\n",
      "[1, 1, 2, 3, 6]\n",
      "6\n"
     ]
    }
   ],
   "source": [
    "# 方法二，动态规划\n",
    "from typing import List\n",
    "def combinationSum4(nums: List[int], target: int) -> int:\n",
    "    n = len(nums)\n",
    "    dp = [1]+[0]*target\n",
    "    for i in range(1,target+1):\n",
    "        for num in nums:\n",
    "            if num <= i:\n",
    "                dp[i] += dp[i - num]\n",
    "        print(dp)\n",
    "    print(dp[target])\n",
    "nums = [4,2,1]\n",
    "target = 4\n",
    "combinationSum4(nums,target)"
   ]
  },
  {
   "cell_type": "code",
   "execution_count": 36,
   "metadata": {},
   "outputs": [
    {
     "name": "stdout",
     "output_type": "stream",
     "text": [
      "[[2, 2, 2, 2], [2, 3, 3], [3, 5]]\n"
     ]
    }
   ],
   "source": [
    "# 39. 组合总和\n",
    "# https://leetcode-cn.com/problems/combination-sum/\n",
    "# 我操，这代码写的太漂亮了\n",
    "from typing import List\n",
    "def combinationSum4(nums: List[int], target: int) -> int:\n",
    "    n = len(nums)\n",
    "    res=[]\n",
    "    stack=[]\n",
    "    def dfs(i,target):\n",
    "        if i > len(nums) or target < 0:\n",
    "            return\n",
    "        if 0 == target:\n",
    "            res.append(stack[:])\n",
    "            return \n",
    "        \n",
    "        for j in range(i,n):\n",
    "            stack.append(nums[j])\n",
    "            dfs(j,target-nums[j])\n",
    "            stack.pop()\n",
    "    dfs(0,target)\n",
    "    print(res)\n",
    "\n",
    "nums = [2,3,5]\n",
    "target = 8\n",
    "combinationSum4(nums,target)"
   ]
  },
  {
   "cell_type": "code",
   "execution_count": 52,
   "metadata": {},
   "outputs": [
    {
     "name": "stdout",
     "output_type": "stream",
     "text": [
      "[[1, 2, 3, 4, 5, 6, 7, 8, 9]]\n"
     ]
    }
   ],
   "source": [
    "# 216. 组合总和 III\n",
    "# https://leetcode-cn.com/problems/combination-sum-iii/\n",
    "from typing import List\n",
    "def combinationSum3(k,n) -> int:\n",
    "    res =[]\n",
    "    stack=[]\n",
    "    def dfs(i):\n",
    "        if i > 10:\n",
    "            return\n",
    "        if i > n or len(stack) > k or sum(stack)>n:\n",
    "            return\n",
    "        if sum(stack)== n and len(stack) == k:\n",
    "            res.append(stack[:])\n",
    "            return\n",
    "        for j in range(i,n+1):\n",
    "            stack.append(j)\n",
    "            dfs(j+1)\n",
    "            stack.pop()\n",
    "    dfs(1)\n",
    "    print(res)\n",
    "k = 9\n",
    "n = 45\n",
    "combinationSum3(k,n)"
   ]
  }
 ],
 "metadata": {
  "kernelspec": {
   "display_name": "Python 3",
   "language": "python",
   "name": "python3"
  },
  "language_info": {
   "codemirror_mode": {
    "name": "ipython",
    "version": 3
   },
   "file_extension": ".py",
   "mimetype": "text/x-python",
   "name": "python",
   "nbconvert_exporter": "python",
   "pygments_lexer": "ipython3",
   "version": "3.6.9"
  }
 },
 "nbformat": 4,
 "nbformat_minor": 4
}
