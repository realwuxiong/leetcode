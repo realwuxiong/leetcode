{
 "cells": [
  {
   "cell_type": "code",
   "execution_count": 6,
   "metadata": {},
   "outputs": [
    {
     "name": "stdout",
     "output_type": "stream",
     "text": [
      "701\n"
     ]
    }
   ],
   "source": [
    "# 171. Excel表列序号\n",
    "# https://leetcode-cn.com/problems/excel-sheet-column-number/\n",
    "def titleToNumber(columnTitle: str) -> int:\n",
    "    # 26进制\n",
    "    ans = 0\n",
    "    t = 0\n",
    "    for i in range(len(columnTitle)-1,-1,-1):\n",
    "        ans += (ord(columnTitle[i])-ord(\"A\")+1)*(26**t)\n",
    "        t += 1\n",
    "    print(ans)\n",
    "    \n",
    "    pass\n",
    "columnTitle = \"ZY\"\n",
    "titleToNumber(columnTitle)"
   ]
  },
  {
   "cell_type": "code",
   "execution_count": 31,
   "metadata": {},
   "outputs": [
    {
     "data": {
      "text/plain": [
       "'AB'"
      ]
     },
     "execution_count": 31,
     "metadata": {},
     "output_type": "execute_result"
    }
   ],
   "source": [
    "# 168. Excel表列名称\n",
    "# https://leetcode-cn.com/problems/excel-sheet-column-title/\n",
    "# 这两个题目对比一下\n",
    "def convertToTitle(columnNumber: int) -> str:\n",
    "    stack =[]\n",
    "    while columnNumber:\n",
    "        # 这个题目好好理解一下\n",
    "        a = (columnNumber-1) % 26\n",
    "        stack.insert(0,chr(ord(\"A\")+a))\n",
    "        columnNumber = (columnNumber-1)//26\n",
    "\n",
    "    return \"\".join(stack)\n",
    "\n",
    "columnNumber = 28\n",
    "convertToTitle(columnNumber)"
   ]
  },
  {
   "cell_type": "code",
   "execution_count": 6,
   "metadata": {},
   "outputs": [
    {
     "name": "stdout",
     "output_type": "stream",
     "text": [
      "0 1 2 3 4 5 6 7 8 9 time:0.002731800079345703\n"
     ]
    }
   ],
   "source": [
    "# 来一个装饰器模式，了解\n",
    "import time\n",
    "from functools import wraps\n",
    "def decorate(func):\n",
    "    \n",
    "    @wraps(func)\n",
    "    def stastics():\n",
    "        start = time.time()\n",
    "        func()\n",
    "        end = time.time()\n",
    "        print(f\"time:{end-start}\")\n",
    "    return stastics\n",
    "@decorate\n",
    "def myFunc():\n",
    "    for i in range(10):\n",
    "        print(i,end=\" \")\n",
    "myFunc()"
   ]
  }
 ],
 "metadata": {
  "kernelspec": {
   "display_name": "Python 3",
   "language": "python",
   "name": "python3"
  },
  "language_info": {
   "codemirror_mode": {
    "name": "ipython",
    "version": 3
   },
   "file_extension": ".py",
   "mimetype": "text/x-python",
   "name": "python",
   "nbconvert_exporter": "python",
   "pygments_lexer": "ipython3",
   "version": "3.6.9"
  },
  "toc-autonumbering": false,
  "toc-showcode": false,
  "toc-showmarkdowntxt": false,
  "toc-showtags": false
 },
 "nbformat": 4,
 "nbformat_minor": 4
}
