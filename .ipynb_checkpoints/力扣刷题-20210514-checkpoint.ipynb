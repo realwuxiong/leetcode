{
 "cells": [
  {
   "cell_type": "code",
   "execution_count": 19,
   "metadata": {},
   "outputs": [
    {
     "name": "stdout",
     "output_type": "stream",
     "text": [
      "C\n"
     ]
    }
   ],
   "source": [
    "# 12. 整数转罗马数字\n",
    "# https://leetcode-cn.com/problems/integer-to-roman/submissions/\n",
    "\n",
    "# 昨天那题动态规划再试试（未完成！）\n",
    "\n",
    "# 这代码写的太挫了    \n",
    "def intToRoman(num)->str:\n",
    "    numStr = str(num)\n",
    "    ans = []\n",
    "    position = 0 # 个位\n",
    "    numStr = numStr[::-1]\n",
    "    for i, n in enumerate(numStr):\n",
    "        tem = \"\"\n",
    "#         print(i,n)\n",
    "        n = int(n)\n",
    "        if i == 0: # 个位\n",
    "            if n == 9:\n",
    "                tem = \"IX\"\n",
    "            elif int(n) >= 5:\n",
    "                tem = \"V\"+\"\".join([\"I\"]*(n-5))\n",
    "            elif int(n)== 4:\n",
    "                tem = \"IV\"\n",
    "            else:\n",
    "                tem = \"\".join([\"I\"]*int(n))\n",
    "        if i == 1: # 十位 \n",
    "            if n == 9:\n",
    "                tem = \"XC\"\n",
    "            elif int(n) >= 5:\n",
    "                tem = \"L\"+\"\".join([\"X\"]*(n-5))\n",
    "            elif int(n)== 4:\n",
    "                tem = \"XL\"\n",
    "            else:\n",
    "                tem = \"\".join([\"X\"]*int(n))\n",
    "        if i == 2: # 百位\n",
    "            if n == 9:\n",
    "                tem = \"CM\"\n",
    "            elif int(n) >= 5:\n",
    "                tem = \"D\"+\"\".join([\"C\"]*(n-5))\n",
    "            elif int(n)== 4:\n",
    "                tem = \"CD\"\n",
    "            else:\n",
    "                tem = \"\".join([\"C\"]*int(n))\n",
    "        if i == 3: # 千位\n",
    "            tem = \"\".join([\"M\"]*int(n))\n",
    "#         print(tem)\n",
    "        ans.insert(0,tem)\n",
    "    print(\"\".join(ans))\n",
    "#     print(ans)\n",
    "    pass\n",
    "intToRoman(100)"
   ]
  },
  {
   "cell_type": "code",
   "execution_count": 3,
   "metadata": {},
   "outputs": [
    {
     "data": {
      "text/plain": [
       "[]"
      ]
     },
     "execution_count": 3,
     "metadata": {},
     "output_type": "execute_result"
    }
   ],
   "source": []
  }
 ],
 "metadata": {
  "kernelspec": {
   "display_name": "Python 3",
   "language": "python",
   "name": "python3"
  },
  "language_info": {
   "codemirror_mode": {
    "name": "ipython",
    "version": 3
   },
   "file_extension": ".py",
   "mimetype": "text/x-python",
   "name": "python",
   "nbconvert_exporter": "python",
   "pygments_lexer": "ipython3",
   "version": "3.6.9"
  }
 },
 "nbformat": 4,
 "nbformat_minor": 4
}
