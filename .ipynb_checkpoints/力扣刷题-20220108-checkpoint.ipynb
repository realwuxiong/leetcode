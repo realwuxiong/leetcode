{
 "cells": [
  {
   "cell_type": "code",
   "execution_count": 1,
   "metadata": {},
   "outputs": [
    {
     "data": {
      "text/plain": [
       "[0, 1, 3, 2]"
      ]
     },
     "execution_count": 1,
     "metadata": {},
     "output_type": "execute_result"
    }
   ],
   "source": [
    "# 89. 格雷编码\n",
    "# https://leetcode-cn.com/problems/gray-code/\n",
    "\n",
    "# 不想做，今天周六，就这样吧。。。\n",
    "from typing import List\n",
    "def grayCode(n: int) -> List[int]:\n",
    "    ans = [0]\n",
    "    for i in range(1, n + 1):\n",
    "        for j in range(len(ans) - 1, -1, -1):\n",
    "            ans.append(ans[j] | (1 << (i - 1)))\n",
    "    return ans\n",
    "\n",
    "n = 2\n",
    "grayCode(n)"
   ]
  }
 ],
 "metadata": {
  "kernelspec": {
   "display_name": "Python 3",
   "language": "python",
   "name": "python3"
  },
  "language_info": {
   "codemirror_mode": {
    "name": "ipython",
    "version": 3
   },
   "file_extension": ".py",
   "mimetype": "text/x-python",
   "name": "python",
   "nbconvert_exporter": "python",
   "pygments_lexer": "ipython3",
   "version": "3.6.9"
  },
  "toc-autonumbering": false,
  "toc-showcode": false,
  "toc-showmarkdowntxt": false,
  "toc-showtags": false
 },
 "nbformat": 4,
 "nbformat_minor": 4
}
