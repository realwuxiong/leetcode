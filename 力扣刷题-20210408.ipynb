{
 "cells": [
  {
   "cell_type": "code",
   "execution_count": 13,
   "metadata": {},
   "outputs": [
    {
     "data": {
      "text/plain": [
       "False"
      ]
     },
     "execution_count": 13,
     "metadata": {},
     "output_type": "execute_result"
    }
   ],
   "source": [
    "# 263. 丑数\n",
    "# https://leetcode-cn.com/problems/ugly-number/\n",
    "def isUgly(n: int) -> bool:\n",
    "    if n <=0:\n",
    "        return False\n",
    "    while n:\n",
    "        print(n)\n",
    "        if n % 5 ==0:\n",
    "            n /= 5\n",
    "        elif n % 3 ==0:\n",
    "            n /= 3\n",
    "        elif n % 2 == 0:\n",
    "            n /= 2\n",
    "        else:\n",
    "            break\n",
    "\n",
    "    return n == 1\n",
    "    pass\n",
    "isUgly(-2147483648)"
   ]
  }
 ],
 "metadata": {
  "kernelspec": {
   "display_name": "Python 3",
   "language": "python",
   "name": "python3"
  },
  "language_info": {
   "codemirror_mode": {
    "name": "ipython",
    "version": 3
   },
   "file_extension": ".py",
   "mimetype": "text/x-python",
   "name": "python",
   "nbconvert_exporter": "python",
   "pygments_lexer": "ipython3",
   "version": "3.8.5"
  }
 },
 "nbformat": 4,
 "nbformat_minor": 4
}
