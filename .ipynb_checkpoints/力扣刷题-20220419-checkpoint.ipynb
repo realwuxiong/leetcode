{
 "cells": [
  {
   "cell_type": "code",
   "execution_count": null,
   "metadata": {},
   "outputs": [],
   "source": [
    "# 821. 字符的最短距离\n",
    "# https://leetcode-cn.com/problems/shortest-distance-to-a-character/\n",
    "\n",
    "from typing import List\n",
    "def shortestToChar(s: str, c: str) -> List[int]:\n",
    "    \n",
    "    \n",
    "    \n",
    "    \n",
    "    pass\n",
    "\n",
    "s = \"loveleetcode\", c = \"e\"\n",
    "shortestToChar(s,c)"
   ]
  }
 ],
 "metadata": {
  "kernelspec": {
   "display_name": "Python 3",
   "language": "python",
   "name": "python3"
  },
  "language_info": {
   "codemirror_mode": {
    "name": "ipython",
    "version": 3
   },
   "file_extension": ".py",
   "mimetype": "text/x-python",
   "name": "python",
   "nbconvert_exporter": "python",
   "pygments_lexer": "ipython3",
   "version": "3.6.9"
  },
  "toc-autonumbering": false,
  "toc-showcode": false,
  "toc-showmarkdowntxt": false,
  "toc-showtags": false
 },
 "nbformat": 4,
 "nbformat_minor": 4
}
