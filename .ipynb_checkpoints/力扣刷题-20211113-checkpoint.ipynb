{
 "cells": [
  {
   "cell_type": "code",
   "execution_count": 3,
   "metadata": {},
   "outputs": [
    {
     "data": {
      "text/plain": [
       "False"
      ]
     },
     "execution_count": 3,
     "metadata": {},
     "output_type": "execute_result"
    }
   ],
   "source": [
    "# 520. 检测大写字母\n",
    "# https://leetcode-cn.com/problems/detect-capital/\n",
    "\n",
    "def detectCapitalUse(word: str) -> bool:\n",
    "    \n",
    "    flag = 0 if 'a'<=word[0]<='z' else 1  # 0:第一个字母小写，1：第一个字母大写\n",
    "    \n",
    "    t = 1\n",
    "    for i in range(1,len(word)):\n",
    "        if flag == 0 and 'A' <= word[i] <= 'Z':\n",
    "            return False\n",
    "        \n",
    "        if flag == 1 and 'a'<=word[i]<='z':\n",
    "            t = 0\n",
    "            \n",
    "    \n",
    "    pass\n",
    "word = \"leetcod\"\n",
    "detectCapitalUse(word)"
   ]
  }
 ],
 "metadata": {
  "kernelspec": {
   "display_name": "Python 3",
   "language": "python",
   "name": "python3"
  },
  "language_info": {
   "codemirror_mode": {
    "name": "ipython",
    "version": 3
   },
   "file_extension": ".py",
   "mimetype": "text/x-python",
   "name": "python",
   "nbconvert_exporter": "python",
   "pygments_lexer": "ipython3",
   "version": "3.6.9"
  },
  "toc-autonumbering": false,
  "toc-showcode": false,
  "toc-showmarkdowntxt": false,
  "toc-showtags": false
 },
 "nbformat": 4,
 "nbformat_minor": 4
}
