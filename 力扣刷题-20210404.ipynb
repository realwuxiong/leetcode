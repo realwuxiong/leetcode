{
 "cells": [
  {
   "cell_type": "code",
   "execution_count": 6,
   "metadata": {},
   "outputs": [
    {
     "data": {
      "text/plain": [
       "4"
      ]
     },
     "execution_count": 6,
     "metadata": {},
     "output_type": "execute_result"
    }
   ],
   "source": [
    "# 781. 森林中的兔子\n",
    "# https://leetcode-cn.com/problems/rabbits-in-forest/\n",
    "# 早上6：20 -6:27 清明节\n",
    "# 时间复杂度就是排序的时间复杂度，后面就一次遍历\n",
    "# 看看标准答案的方法，还是很巧妙的用hash\n",
    "from typing import List\n",
    "def numRabbits(answers: List[int]) -> int:\n",
    "    answers.sort()\n",
    "    res = 0\n",
    "    while answers:\n",
    "        tem = answers.pop()\n",
    "        res += tem+1\n",
    "        for i in range(tem):\n",
    "            if answers and answers[-1]==tem:\n",
    "                answers.pop()\n",
    "    return res\n",
    "    pass\n",
    "answers = [1, 1, 1]\n",
    "numRabbits(answers)"
   ]
  }
 ],
 "metadata": {
  "kernelspec": {
   "display_name": "Python 3",
   "language": "python",
   "name": "python3"
  },
  "language_info": {
   "codemirror_mode": {
    "name": "ipython",
    "version": 3
   },
   "file_extension": ".py",
   "mimetype": "text/x-python",
   "name": "python",
   "nbconvert_exporter": "python",
   "pygments_lexer": "ipython3",
   "version": "3.8.5"
  }
 },
 "nbformat": 4,
 "nbformat_minor": 4
}
