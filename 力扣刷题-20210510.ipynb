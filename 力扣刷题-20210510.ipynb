{
 "cells": [
  {
   "cell_type": "code",
   "execution_count": null,
   "metadata": {},
   "outputs": [],
   "source": [
    "# 872. 叶子相似的树\n",
    "# https://leetcode-cn.com/problems/leaf-similar-trees/\n",
    "# Definition for a binary tree node.\n",
    "# 上班入职的第一天，2021年5月10日，20:44-20:52\n",
    "# Definition for a binary tree node.\n",
    "# class TreeNode:\n",
    "#     def __init__(self, val=0, left=None, right=None):\n",
    "#         self.val = val\n",
    "#         self.left = left\n",
    "#         self.right = right\n",
    "class Solution:\n",
    "    def leafSimilar(self, root1: TreeNode, root2: TreeNode) -> bool:\n",
    "        stack1 = []\n",
    "        stack2 = []\n",
    "        def dfs(root,stack):\n",
    "            if not root:\n",
    "                return \n",
    "            if root.left == None and root.right == None:\n",
    "                stack.append(root.val)\n",
    "                return \n",
    "            dfs(root.left,stack)\n",
    "            dfs(root.right,stack)\n",
    "        dfs(root1,stack1)\n",
    "        dfs(root2,stack2)\n",
    "        print(stack1,stack2)\n",
    "        return True if stack1==stack2 else False"
   ]
  },
  {
   "cell_type": "code",
   "execution_count": null,
   "metadata": {},
   "outputs": [],
   "source": [
    "// java版本\n",
    "/**\n",
    " * Definition for a binary tree node.\n",
    " * public class TreeNode {\n",
    " *     int val;\n",
    " *     TreeNode left;\n",
    " *     TreeNode right;\n",
    " *     TreeNode() {}\n",
    " *     TreeNode(int val) { this.val = val; }\n",
    " *     TreeNode(int val, TreeNode left, TreeNode right) {\n",
    " *         this.val = val;\n",
    " *         this.left = left;\n",
    " *         this.right = right;\n",
    " *     }\n",
    " * }\n",
    " */\n",
    "class Solution {\n",
    "    public boolean leafSimilar(TreeNode root1, TreeNode root2) {\n",
    "        Stack<Integer> a = new Stack<>();\n",
    "        Stack<Integer> b = new Stack<>();\n",
    "        dfs(root1,a);\n",
    "        dfs(root2,b);\n",
    "        System.out.println(a);\n",
    "        System.out.println(b);\n",
    "        return a.equals(b);\n",
    "    }\n",
    "    public void dfs(TreeNode root, Stack<Integer> s ){\n",
    "        if(root == null)return;\n",
    "        if(root.left == null &&root.right==null){\n",
    "            s.add(root.val);\n",
    "            return;\n",
    "        }\n",
    "        dfs(root.left,s);\n",
    "        dfs(root.right,s);\n",
    "    }\n",
    "}"
   ]
  },
  {
   "cell_type": "code",
   "execution_count": 6,
   "metadata": {},
   "outputs": [
    {
     "data": {
      "text/plain": [
       "6"
      ]
     },
     "execution_count": 6,
     "metadata": {},
     "output_type": "execute_result"
    }
   ],
   "source": [
    "# 补一下，五月5号的题目\n",
    "# 740. 删除并获得点数\n",
    "# https://leetcode-cn.com/problems/delete-and-earn/\n",
    "\n",
    "# 21:20-20:54 看的答案的解析，然后自己写出来的题目\n",
    "# 还是动态规划。。。。，跟打家劫舍一样\n",
    "from typing import List\n",
    "import collections\n",
    "def deleteAndEarn(nums: List[int]) -> int:\n",
    "    total  = (1+max(nums))*[0]\n",
    "    for num in nums:\n",
    "        total[num] += num\n",
    "    def dp(nums):\n",
    "        first,second =nums[0],max(nums[0],nums[1])\n",
    "        for i in range(2,len(nums)):\n",
    "            first,second = second, max(nums[i]+first,second)\n",
    "        return second\n",
    "    return dp(total)\n",
    "    pass\n",
    "nums = [3,4,2]\n",
    "deleteAndEarn(nums)"
   ]
  }
 ],
 "metadata": {
  "kernelspec": {
   "display_name": "Python 3",
   "language": "python",
   "name": "python3"
  },
  "language_info": {
   "codemirror_mode": {
    "name": "ipython",
    "version": 3
   },
   "file_extension": ".py",
   "mimetype": "text/x-python",
   "name": "python",
   "nbconvert_exporter": "python",
   "pygments_lexer": "ipython3",
   "version": "3.6.9"
  }
 },
 "nbformat": 4,
 "nbformat_minor": 4
}
