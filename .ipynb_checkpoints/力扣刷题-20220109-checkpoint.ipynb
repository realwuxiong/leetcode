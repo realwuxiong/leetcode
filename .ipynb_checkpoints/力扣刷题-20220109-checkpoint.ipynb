{
 "cells": [
  {
   "cell_type": "code",
   "execution_count": 2,
   "metadata": {},
   "outputs": [
    {
     "data": {
      "text/plain": [
       "'a'"
      ]
     },
     "execution_count": 2,
     "metadata": {},
     "output_type": "execute_result"
    }
   ],
   "source": [
    "# 1629. 按键持续时间最长的键\n",
    "# https://leetcode-cn.com/problems/slowest-key/\n",
    "\n",
    "# 跟答案的思路一致\n",
    "from typing import List\n",
    "def slowestKey(releaseTimes: List[int], keysPressed: str) -> str:\n",
    "    a = releaseTimes[0]\n",
    "    b = 0\n",
    "    n = len(releaseTimes)\n",
    "    for i in range(1,n):\n",
    "        c = releaseTimes[i]-releaseTimes[i-1]\n",
    "        if (c > a) or ( c == a and keysPressed[i] > keysPressed[b]):\n",
    "            b = i\n",
    "            a = c\n",
    "    return keysPressed[b]\n",
    "    pass\n",
    "releaseTimes = [12,23,36,46,62]\n",
    "keysPressed = \"spuda\"\n",
    "slowestKey(releaseTimes,keysPressed)"
   ]
  }
 ],
 "metadata": {
  "kernelspec": {
   "display_name": "Python 3",
   "language": "python",
   "name": "python3"
  },
  "language_info": {
   "codemirror_mode": {
    "name": "ipython",
    "version": 3
   },
   "file_extension": ".py",
   "mimetype": "text/x-python",
   "name": "python",
   "nbconvert_exporter": "python",
   "pygments_lexer": "ipython3",
   "version": "3.6.9"
  },
  "toc-autonumbering": false,
  "toc-showcode": false,
  "toc-showmarkdowntxt": false,
  "toc-showtags": false
 },
 "nbformat": 4,
 "nbformat_minor": 4
}
