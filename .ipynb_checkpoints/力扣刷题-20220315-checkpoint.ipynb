{
 "cells": [
  {
   "cell_type": "code",
   "execution_count": 9,
   "metadata": {},
   "outputs": [
    {
     "data": {
      "text/plain": [
       "6"
      ]
     },
     "execution_count": 9,
     "metadata": {},
     "output_type": "execute_result"
    }
   ],
   "source": [
    "# 2044. 统计按位或能得到最大值的子集数目\n",
    "# https://leetcode-cn.com/problems/count-number-of-maximum-bitwise-or-subsets/\n",
    "\n",
    "from typing import List\n",
    "def countMaxOrSubsets(nums: List[int]) -> int:\n",
    "    # 艹，搞了半天是暴力的方法\n",
    "    \n",
    "    n = len(nums)\n",
    "    \n",
    "    max_v = [float(\"-inf\")]\n",
    "    count = [0]\n",
    "    \n",
    "    stack = []\n",
    "    # 再说吧，下午写。\n",
    "    def dfs(i):\n",
    "        if i > n:\n",
    "            return \n",
    "        \n",
    "        t = 0\n",
    "        for s in stack:\n",
    "            t |= s\n",
    "        if t > max_v[0]:\n",
    "            max_v[0] = t\n",
    "            count[0] = 1\n",
    "        elif t == max_v[0]:\n",
    "            count[0] += 1\n",
    "        \n",
    "        for j in range(i,n):\n",
    "            stack.append(nums[j])\n",
    "            dfs(j+1)\n",
    "            stack.pop()\n",
    "    dfs(0)\n",
    "        \n",
    "    return count[0]\n",
    "    pass\n",
    "\n",
    "\n",
    "nums = [3,2,1,5]\n",
    "countMaxOrSubsets(nums)"
   ]
  }
 ],
 "metadata": {
  "kernelspec": {
   "display_name": "Python 3",
   "language": "python",
   "name": "python3"
  },
  "language_info": {
   "codemirror_mode": {
    "name": "ipython",
    "version": 3
   },
   "file_extension": ".py",
   "mimetype": "text/x-python",
   "name": "python",
   "nbconvert_exporter": "python",
   "pygments_lexer": "ipython3",
   "version": "3.6.9"
  },
  "toc-autonumbering": false,
  "toc-showcode": false,
  "toc-showmarkdowntxt": false,
  "toc-showtags": false
 },
 "nbformat": 4,
 "nbformat_minor": 4
}
