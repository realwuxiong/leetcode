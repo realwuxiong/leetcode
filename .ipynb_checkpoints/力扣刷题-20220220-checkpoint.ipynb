{
 "cells": [
  {
   "cell_type": "code",
   "execution_count": null,
   "metadata": {},
   "outputs": [],
   "source": [
    "# 717. 1比特与2比特字符\n",
    "# https://leetcode-cn.com/problems/1-bit-and-2-bit-characters/\n",
    "\n",
    "from typing import List\n",
    "def isOneBitCharacter(bits: List[int]) -> bool:\n",
    "    n = len(bits)\n",
    "    if n == 1:\n",
    "        return True\n",
    "    if bits[-2] == 0:\n",
    "        return True\n",
    "    if 0 in bits[:-1]:\n",
    "        return True\n",
    "    return False\n",
    "        \n",
    "    \n",
    "    pass\n",
    "bits = [1, 1, 1, 0]\n",
    "isOneBitCharacter(bits)"
   ]
  }
 ],
 "metadata": {
  "kernelspec": {
   "display_name": "Python 3",
   "language": "python",
   "name": "python3"
  },
  "language_info": {
   "codemirror_mode": {
    "name": "ipython",
    "version": 3
   },
   "file_extension": ".py",
   "mimetype": "text/x-python",
   "name": "python",
   "nbconvert_exporter": "python",
   "pygments_lexer": "ipython3",
   "version": "3.6.9"
  },
  "toc-autonumbering": false,
  "toc-showcode": false,
  "toc-showmarkdowntxt": false,
  "toc-showtags": false
 },
 "nbformat": 4,
 "nbformat_minor": 4
}
