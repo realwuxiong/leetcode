{
 "cells": [
  {
   "cell_type": "code",
   "execution_count": null,
   "metadata": {},
   "outputs": [],
   "source": [
    "# 690. 员工的重要性\n",
    "# https://leetcode-cn.com/problems/employee-importance/\n",
    "# 感觉有点并查集的感觉了\n",
    "# 五一，不想写代码，抄的答案\n",
    "class Solution:\n",
    "    def getImportance(self, employees: List['Employee'], idx: int) -> int:\n",
    "        mp = {employee.id: employee for employee in employees}\n",
    "\n",
    "        def dfs(idx: int) -> int:\n",
    "            employee = mp[idx]\n",
    "            total = employee.importance + sum(dfs(subIdx) for subIdx in employee.subordinates)\n",
    "            return total\n",
    "        \n",
    "        return dfs(idx)\n"
   ]
  }
 ],
 "metadata": {
  "kernelspec": {
   "display_name": "Python 3",
   "language": "python",
   "name": "python3"
  },
  "language_info": {
   "codemirror_mode": {
    "name": "ipython",
    "version": 3
   },
   "file_extension": ".py",
   "mimetype": "text/x-python",
   "name": "python",
   "nbconvert_exporter": "python",
   "pygments_lexer": "ipython3",
   "version": "3.6.9"
  }
 },
 "nbformat": 4,
 "nbformat_minor": 4
}
