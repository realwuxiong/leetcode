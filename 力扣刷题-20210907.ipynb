{
 "cells": [
  {
   "cell_type": "code",
   "execution_count": 1,
   "metadata": {},
   "outputs": [
    {
     "data": {
      "text/plain": [
       "4"
      ]
     },
     "execution_count": 1,
     "metadata": {},
     "output_type": "execute_result"
    }
   ],
   "source": [
    "# 1221. 分割平衡字符串\n",
    "# https://leetcode-cn.com/problems/split-a-string-in-balanced-strings/\n",
    "\n",
    "def balancedStringSplit(s: str) -> int:\n",
    "    ans = 0\n",
    "    countR=0\n",
    "    countL=0\n",
    "    \n",
    "    for ss in s:\n",
    "        if ss == \"R\":\n",
    "            countR+=1\n",
    "        else:\n",
    "            countL+=1\n",
    "        if countL == countR and countL !=0:\n",
    "            ans += 1\n",
    "            countR = countL = 0\n",
    "    return ans\n",
    "\n",
    "s = \"RLRRLLRLRL\"\n",
    "balancedStringSplit(s)"
   ]
  }
 ],
 "metadata": {
  "kernelspec": {
   "display_name": "Python 3",
   "language": "python",
   "name": "python3"
  },
  "language_info": {
   "codemirror_mode": {
    "name": "ipython",
    "version": 3
   },
   "file_extension": ".py",
   "mimetype": "text/x-python",
   "name": "python",
   "nbconvert_exporter": "python",
   "pygments_lexer": "ipython3",
   "version": "3.6.9"
  },
  "toc-autonumbering": false,
  "toc-showcode": false,
  "toc-showmarkdowntxt": false,
  "toc-showtags": false
 },
 "nbformat": 4,
 "nbformat_minor": 4
}
