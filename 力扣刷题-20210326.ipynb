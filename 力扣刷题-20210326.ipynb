{
 "cells": [
  {
   "cell_type": "code",
   "execution_count": null,
   "metadata": {},
   "outputs": [],
   "source": [
    "# 83. 删除排序链表中的重复元素\n",
    "# https://leetcode-cn.com/problems/remove-duplicates-from-sorted-list/\n",
    "# 今天这个题目相对于昨天来说，写出来还是很容易的\n",
    "class Solution:\n",
    "    def deleteDuplicates(self, head: ListNode) -> ListNode:\n",
    "        dummy = ListNode(-101,head)\n",
    "        p = dummy\n",
    "        q = head\n",
    "        temData = p.val\n",
    "        while q:\n",
    "            if temData != q.val:\n",
    "                p.next = q\n",
    "                p = q\n",
    "                temData = q.val\n",
    "                q = q.next\n",
    "            else:\n",
    "                while q and temData == q.val :\n",
    "                    q = q.next\n",
    "                p.next = q\n",
    "        return dummy.next"
   ]
  }
 ],
 "metadata": {
  "kernelspec": {
   "display_name": "Python 3",
   "language": "python",
   "name": "python3"
  },
  "language_info": {
   "codemirror_mode": {
    "name": "ipython",
    "version": 3
   },
   "file_extension": ".py",
   "mimetype": "text/x-python",
   "name": "python",
   "nbconvert_exporter": "python",
   "pygments_lexer": "ipython3",
   "version": "3.8.5"
  }
 },
 "nbformat": 4,
 "nbformat_minor": 4
}
