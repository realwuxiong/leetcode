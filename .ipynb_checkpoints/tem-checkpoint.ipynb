{
 "cells": [
  {
   "cell_type": "code",
   "execution_count": null,
   "metadata": {},
   "outputs": [],
   "source": [
    "## !/usr/bin/python3\n",
    "\n",
    "# \n",
    "# 2020年12月28日\n",
    "\n",
    "\n",
    "# Python3实现循环链表\n",
    "\n",
    "def func()->bool:\n",
    "    a = int(input(\"第一个参数：\"))\n",
    "    b = int(input(\"第二个参数：\"))\n",
    "    c = list(input(\"第三个参数：\"))\n",
    "    li = c\n",
    "#     li=[1,2,3,4,6]\n",
    "    sum_li = sum(li)\n",
    "    for index in range(len(li)):\n",
    "        x = 0\n",
    "        for i in range(index,len(li)*2):\n",
    "            if(i >= len(li)):\n",
    "                i = i % len(li)\n",
    "            x += li[i]\n",
    "            if(x==sum_li/2):\n",
    "                return True\n",
    "            if(x>sum_li/2):\n",
    "                break\n",
    "    return False\n",
    "            \n",
    "\n",
    "func()"
   ]
  },
  {
   "cell_type": "code",
   "execution_count": 4,
   "metadata": {},
   "outputs": [
    {
     "data": {
      "text/plain": [
       "[1, 2, 3, 4]"
      ]
     },
     "execution_count": 4,
     "metadata": {},
     "output_type": "execute_result"
    }
   ],
   "source": [
    "# 现场写一个快排\n",
    "# 2021年8月10日\n",
    "\n",
    "def quickSort(nums):\n",
    "    n = len(nums)\n",
    "    low = 0\n",
    "    high = n-1\n",
    "    \n",
    "    \n",
    "    def quick_sort(low,high):\n",
    "        if low >= high:\n",
    "            return\n",
    "        t = nums[low]\n",
    "        while low < high:\n",
    "            mid = low + (high - low) // 2\n",
    "            while t <= nums[high] and low < high:\n",
    "                high -= 1\n",
    "            nums[low] = nums[high]\n",
    "            while t >= nums[low] and low < high:\n",
    "                low += 1\n",
    "            nums[high] = nums[low]\n",
    "        nums[low] = t\n",
    "        quick_sort(low,mid-1)\n",
    "        quick_sort(mid+1,high)\n",
    "    quick_sort(0,1)       \n",
    "    print(nums)\n",
    "    pass\n",
    "nums = [12,3,4,5,7,19,2,3,4]\n",
    "quickSort(nums)"
   ]
  }
 ],
 "metadata": {
  "kernelspec": {
   "display_name": "Python 3",
   "language": "python",
   "name": "python3"
  },
  "language_info": {
   "codemirror_mode": {
    "name": "ipython",
    "version": 3
   },
   "file_extension": ".py",
   "mimetype": "text/x-python",
   "name": "python",
   "nbconvert_exporter": "python",
   "pygments_lexer": "ipython3",
   "version": "3.6.9"
  }
 },
 "nbformat": 4,
 "nbformat_minor": 4
}
