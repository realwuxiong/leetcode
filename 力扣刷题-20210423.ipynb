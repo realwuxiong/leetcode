{
 "cells": [
  {
   "cell_type": "code",
   "execution_count": 5,
   "metadata": {},
   "outputs": [
    {
     "name": "stdout",
     "output_type": "stream",
     "text": [
      "[1, 1, 1, 1, 1, 1, 1]\n",
      "[1, 1, 1, 1, 1, 1, 1]\n",
      "[1, 1, 2, 1, 1, 1, 1]\n",
      "[1, 1, 2, 2, 1, 1, 1]\n",
      "[1, 1, 2, 2, 3, 1, 1]\n",
      "[1, 1, 2, 2, 3, 3, 1]\n",
      "[1, 1, 2, 2, 3, 3, 4]\n",
      "[54, 18, 6, 3]\n"
     ]
    }
   ],
   "source": [
    "# 368. 最大整除子集\n",
    "# https://leetcode-cn.com/problems/largest-divisible-subset/\n",
    "# 2021/4/23 16:00\n",
    "# 第一感觉采用并查集？？\n",
    "# 题目抽象出来，就是求最长的等比数列（中间可以缺项）\n",
    "# 其实是动态规划，看看力扣第300题\n",
    "from typing import List\n",
    "def largestDivisibleSubset(nums: List[int]) -> List[int]:\n",
    "    # 我首先采用暴力法试试\n",
    "    n = len(nums)\n",
    "    nums.sort() # 排序一下\n",
    "    dp = [1]*n\n",
    "    maxSize = 1\n",
    "    maxVal = nums[0]\n",
    "    for i in range(n):\n",
    "        for j in range(i):\n",
    "            if nums[i] % nums[j] == 0:\n",
    "                dp[i] = max(dp[j]+1,dp[i])\n",
    "        if dp[i] > maxSize:\n",
    "            maxSize = dp[i]\n",
    "            maxVal = nums[i]\n",
    "        print(dp)\n",
    "    # 逆推\n",
    "    res = []\n",
    "    for i in range(n-1,-1,-1):\n",
    "        if dp[i] == maxSize and maxVal % nums[i] == 0:\n",
    "            res.append(nums[i])\n",
    "            maxVal = nums[i]\n",
    "            maxSize -= 1\n",
    "    print(res)\n",
    "        \n",
    "nums = [2,4,8,3,6,18,54]\n",
    "largestDivisibleSubset(nums)"
   ]
  },
  {
   "cell_type": "code",
   "execution_count": 14,
   "metadata": {},
   "outputs": [
    {
     "name": "stdout",
     "output_type": "stream",
     "text": [
      "[1, 1, 1, 1, 1, 1, 1, 1, 1]\n",
      "[1, 2, 1, 1, 1, 1, 1, 1, 1]\n",
      "[1, 2, 3, 1, 1, 1, 1, 1, 1]\n",
      "[1, 2, 3, 4, 1, 1, 1, 1, 1]\n",
      "[1, 2, 3, 4, 5, 1, 1, 1, 1]\n",
      "[1, 2, 3, 4, 5, 3, 1, 1, 1]\n",
      "[1, 2, 3, 4, 5, 3, 6, 1, 1]\n",
      "[1, 2, 3, 4, 5, 3, 6, 4, 1]\n",
      "[1, 2, 3, 4, 5, 3, 6, 4, 5]\n",
      "6\n"
     ]
    }
   ],
   "source": [
    "# 300. 最长递增子序列\n",
    "# https://leetcode-cn.com/problems/longest-increasing-subsequence/\n",
    "# 这个题目用动态规划做一做试试\n",
    "from typing import List\n",
    "def lengthOfLIS(nums: List[int]) -> int:\n",
    "    if not nums:\n",
    "        return 0\n",
    "    n = len(nums)\n",
    "    dp = [1]*n\n",
    "    for i in range(n):\n",
    "        for j in range(i):\n",
    "            if nums[i]>nums[j]:\n",
    "                dp[i] = max(dp[j]+1,dp[i])\n",
    "        print(dp)\n",
    "    print(max(dp))\n",
    "    pass\n",
    "nums =[1,3,6,7,9,4,10,5,6] # \n",
    "lengthOfLIS(nums)\n",
    "\n",
    "# 方法二，用贪心算法+二分查找\n",
    "def lengthOfLIS2(nums):\n",
    "    if not nums:\n",
    "        return 0\n",
    "    d = []\n",
    "    for n in nums:\n",
    "        if not d or n > d[-1]:\n",
    "            d.append(n)\n",
    "        else:\n",
    "            l, r = 0, len(d) - 1\n",
    "            loc = r\n",
    "            while l <= r:\n",
    "                mid = (l + r) // 2\n",
    "                if d[mid] >= n:\n",
    "                    loc = mid\n",
    "                    r = mid - 1\n",
    "                else:\n",
    "                    l = mid + 1\n",
    "            d[loc] = n\n",
    "    return len(d)"
   ]
  },
  {
   "cell_type": "code",
   "execution_count": 15,
   "metadata": {},
   "outputs": [
    {
     "name": "stdout",
     "output_type": "stream",
     "text": [
      "[1, 1, 1, 1, 1, 1, 1, 1, 1]\n",
      "[1, 2, 1, 1, 1, 1, 1, 1, 1]\n",
      "[1, 2, 3, 1, 1, 1, 1, 1, 1]\n",
      "[1, 2, 3, 4, 1, 1, 1, 1, 1]\n",
      "[1, 2, 3, 4, 5, 1, 1, 1, 1]\n",
      "[1, 2, 3, 4, 5, 3, 1, 1, 1]\n",
      "[1, 2, 3, 4, 5, 3, 6, 1, 1]\n",
      "[1, 2, 3, 4, 5, 3, 6, 4, 1]\n",
      "[1, 2, 3, 4, 5, 3, 6, 4, 5]\n",
      "6\n"
     ]
    }
   ],
   "source": [
    "// 300题用java做一遍\n",
    "public static void lengthOfLIS(int [] nums){\n",
    "    int n = nums.length;\n",
    "    int [] dp = new int[n];\n",
    "    Arrays.fill(dp, 1);\n",
    "    int res = 0;\n",
    "    for(int i = 0; i < n; ++i){\n",
    "        for(int j = 0; j < i; ++j){\n",
    "            if(nums[i] > nums[j]){\n",
    "                dp[i] = Math.max(dp[i],dp[j]+1);\n",
    "            }\n",
    "        }\n",
    "        System.out.println(Arrays.toString(dp));\n",
    "        res = Math.max(res,dp[i]);\n",
    "    }\n",
    "    System.out.println(res);\n",
    "}\n",
    "int [] nums = {1,3,6,7,9,4,10,5,6};\n",
    "lengthOfLIS(nums)"
   ]
  },
  {
   "cell_type": "code",
   "execution_count": 3,
   "metadata": {},
   "outputs": [
    {
     "name": "stdout",
     "output_type": "stream",
     "text": [
      "00sfasdjsadjkahsdkjash\n"
     ]
    }
   ],
   "source": [
    "//试试stringbuffer\n",
    "String md5code=  \"sfasdjsadjkahsdkjash\";\n",
    "StringBuffer sb = new StringBuffer(md5code);\n",
    "sb.insert(0, \"0\");\n",
    "sb.insert(0, \"0\");\n",
    "System.out.println(sb); \n"
   ]
  },
  {
   "cell_type": "code",
   "execution_count": 17,
   "metadata": {
    "tags": []
   },
   "outputs": [
    {
     "name": "stdout",
     "output_type": "stream",
     "text": [
      "开始了\n",
      "0？？？7\n",
      "1？？？4\n",
      "[5, 4, 2, 1, 10, 201, 20, 10]\n",
      "开始了\n",
      "0？？？3\n",
      "[1, 4, 2, 5, 10, 201, 20, 10]\n",
      "开始了\n",
      "0？？？2\n",
      "[1, 4, 2, 5, 10, 201, 20, 10]\n",
      "开始了\n",
      "1？？？2\n",
      "[1, 2, 4, 5, 10, 201, 20, 10]\n",
      "开始了\n",
      "5？？？7\n",
      "[1, 2, 4, 5, 10, 10, 20, 201]\n",
      "开始了\n",
      "5？？？6\n",
      "[1, 2, 4, 5, 10, 10, 20, 201]\n"
     ]
    }
   ],
   "source": [
    "// 现场写一个快排试试\n",
    "// 妈的，总算调试好了\n",
    "class QuickSort{\n",
    "    private int []  nums;\n",
    "    QuickSort(int[] nums){\n",
    "        this.nums = nums;\n",
    "    }\n",
    "    public void sort(int start, int end){\n",
    "        if(start >= end){\n",
    "            return;\n",
    "        }\n",
    "        int i = start, j = end;\n",
    "        int t = nums[i];\n",
    "       \n",
    "        System.out.printAln(\"开始了\");\n",
    "        while(i < j){\n",
    "            System.out.println(i+\"？？？\"+j);\n",
    "            while(i<j && nums[j] >= t){\n",
    "                --j;\n",
    "//                 System.out.println(\"aaa\");\n",
    "//                 System.out.println(Arrays.toString(nums));\n",
    "            }\n",
    "            nums[i] = nums[j];\n",
    "            while(i<j && nums[i] <= t){\n",
    "                ++i;\n",
    "//                 System.out.println(\"bbb\");\n",
    "//                 System.out.println(Arrays.toString(nums));\n",
    "            }\n",
    "            nums[j] = nums[i];\n",
    "//             System.out.println(Arrays.toString(nums));\n",
    "        }\n",
    "        nums[i] = t;\n",
    "        System.out.println(Arrays.toString(nums));\n",
    "//         System.out.println(start+\" \"+(i-1)+\" \"+(i+1)+\" \"+end);\n",
    "        sort(start,i-1);\n",
    "        sort(i+1,end);\n",
    "    }\n",
    "}\n",
    "int [] a = {10,201,2,1,4,5,20,10};\n",
    "QuickSort quick = new QuickSort(a);\n",
    "quick.sort(0,a.length-1);\n"
   ]
  }
 ],
 "metadata": {
  "kernelspec": {
   "display_name": "Python 3",
   "language": "python",
   "name": "python3"
  },
  "language_info": {
   "codemirror_mode": {
    "name": "ipython",
    "version": 3
   },
   "file_extension": ".py",
   "mimetype": "text/x-python",
   "name": "python",
   "nbconvert_exporter": "python",
   "pygments_lexer": "ipython3",
   "version": "3.6.9"
  }
 },
 "nbformat": 4,
 "nbformat_minor": 4
}
