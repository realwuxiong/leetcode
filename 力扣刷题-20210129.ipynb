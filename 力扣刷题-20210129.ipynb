{
 "cells": [
  {
   "cell_type": "code",
   "execution_count": 19,
   "metadata": {},
   "outputs": [
    {
     "name": "stdout",
     "output_type": "stream",
     "text": [
      "[[0, 1, 1, 1, 1], [0, 0, 0, 0, 0], [0, 0, 0, 0, 0], [0, 0, 0, 0, 0], [0, 0, 0, 0, 0]]\n",
      "[[0, 1, 1, 1, 1], [0, 1, 1, 1, 1], [0, 1, 1, 1, 1], [0, 1, 1, 1, 1], [0, 0, 0, 1, 1]]\n"
     ]
    }
   ],
   "source": [
    "# 1631. 最小体力消耗路径\n",
    "# https://leetcode-cn.com/problems/path-with-minimum-effort/\n",
    "\n",
    "# 一看题目估计就是动态规划 ,判断错误，不是动态规划\n",
    "from typing import List\n",
    "def minimumEffortPath(heights: List[List[int]]) -> int: \n",
    "   \n",
    "            \n",
    "        \n",
    "    pass\n",
    "heights = [[1,2,1,1,1],[1,2,1,2,1],[1,2,1,2,1],[1,2,1,2,1],[1,1,1,2,1]]\n",
    "minimumEffortPath(heights)"
   ]
  },
  {
   "cell_type": "code",
   "execution_count": null,
   "metadata": {},
   "outputs": [],
   "source": [
    "# 1631. 最小体力消耗路径\n",
    "# https://leetcode-cn.com/problems/path-with-minimum-effort/\n",
    "# 错误的思路\n",
    "# 一看题目估计就是动态规划 ,判断错误，不是动态规划\n",
    "from typing import List\n",
    "def minimumEffortPath(heights: List[List[int]]) -> int: \n",
    "    # 题目给的矩阵是方阵\n",
    "    n = len(heights)\n",
    "    res = []\n",
    "    for i in range(n):\n",
    "        res.append([0]*(n))\n",
    "    for i in range(1,n):\n",
    "        res[0][i] = max(res[0][i-1],abs(heights[0][i]-heights[0][i-1]))\n",
    "        res[i][0] = max(res[i-1][0],abs(heights[i][0]-heights[i-1][0]))\n",
    "    print(res)\n",
    "    for i in range(1,n):\n",
    "        for j in range(1,n):\n",
    "            res[i][j] = min(max(res[i-1][j],abs(heights[i-1][j]-heights[i][j])),\n",
    "                           max(res[i][j-1],abs(heights[i][j-1]-heights[i][j])))\n",
    "    print(res)\n",
    "    \n",
    "            \n",
    "        \n",
    "    pass\n",
    "heights = [[1,2,1,1,1],[1,2,1,2,1],[1,2,1,2,1],[1,2,1,2,1],[1,1,1,2,1]]\n",
    "minimumEffortPath(heights)"
   ]
  }
 ],
 "metadata": {
  "kernelspec": {
   "display_name": "Python 3",
   "language": "python",
   "name": "python3"
  },
  "language_info": {
   "codemirror_mode": {
    "name": "ipython",
    "version": 3
   },
   "file_extension": ".py",
   "mimetype": "text/x-python",
   "name": "python",
   "nbconvert_exporter": "python",
   "pygments_lexer": "ipython3",
   "version": "3.8.5"
  }
 },
 "nbformat": 4,
 "nbformat_minor": 4
}
