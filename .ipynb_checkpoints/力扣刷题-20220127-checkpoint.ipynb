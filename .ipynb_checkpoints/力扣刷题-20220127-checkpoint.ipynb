{
 "cells": [
  {
   "cell_type": "code",
   "execution_count": null,
   "metadata": {},
   "outputs": [],
   "source": [
    "# 2047. 句子中的有效单词数\n",
    "# https://leetcode-cn.com/problems/number-of-valid-words-in-a-sentence/\n",
    "\n",
    "# 正则表达式\n",
    "def countValidWords(sentence: str) -> int:\n",
    "    import re\n",
    "    sentences = sentence.split()\n",
    "    pattern = re.compile(r'([a-z]+) ([a-z]+)', re.I)\n",
    "    ans = 0\n",
    "    for s in sentences:\n",
    "        m = pattern.match(s)\n",
    "        if m not None:\n",
    "            ans += 1\n",
    "    return ans\n",
    "    \n",
    "    \n",
    "    pass\n",
    "sentence = \"alice and  bob are playing stone-game10\"\n",
    "countValidWords(sentence)"
   ]
  }
 ],
 "metadata": {
  "kernelspec": {
   "display_name": "Python 3",
   "language": "python",
   "name": "python3"
  },
  "language_info": {
   "codemirror_mode": {
    "name": "ipython",
    "version": 3
   },
   "file_extension": ".py",
   "mimetype": "text/x-python",
   "name": "python",
   "nbconvert_exporter": "python",
   "pygments_lexer": "ipython3",
   "version": "3.6.9"
  },
  "toc-autonumbering": false,
  "toc-showcode": false,
  "toc-showmarkdowntxt": false,
  "toc-showtags": false
 },
 "nbformat": 4,
 "nbformat_minor": 4
}
