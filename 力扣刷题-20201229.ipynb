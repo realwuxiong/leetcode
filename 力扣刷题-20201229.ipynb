{
 "cells": [
  {
   "cell_type": "code",
   "execution_count": 13,
   "metadata": {},
   "outputs": [
    {
     "name": "stdout",
     "output_type": "stream",
     "text": [
      "2\n"
     ]
    }
   ],
   "source": [
    "# 330.按要求补齐数组\n",
    "# https://leetcode-cn.com/problems/patching-array/\n",
    "\n",
    "\n",
    "def minPatches(nums, n: int) -> int:\n",
    "    index,patchs=0,0\n",
    "    x = 1\n",
    "    while(x<=n):\n",
    "        if(index < len(nums) and nums[index]<=x):\n",
    "            x += nums[index]\n",
    "            index += 1\n",
    "        else:\n",
    "            x <<= 1\n",
    "            patchs +=1\n",
    "    print(patchs)    \n",
    "    pass\n",
    "minPatches(nums,n)\n",
    "nums = [1,5,10]\n",
    "n = 20\n"
   ]
  },
  {
   "cell_type": "code",
   "execution_count": 12,
   "metadata": {},
   "outputs": [
    {
     "name": "stdout",
     "output_type": "stream",
     "text": [
      "2\n"
     ]
    }
   ],
   "source": []
  }
 ],
 "metadata": {
  "kernelspec": {
   "display_name": "Python 3",
   "language": "python",
   "name": "python3"
  },
  "language_info": {
   "codemirror_mode": {
    "name": "ipython",
    "version": 3
   },
   "file_extension": ".py",
   "mimetype": "text/x-python",
   "name": "python",
   "nbconvert_exporter": "python",
   "pygments_lexer": "ipython3",
   "version": "3.8.5"
  }
 },
 "nbformat": 4,
 "nbformat_minor": 4
}
