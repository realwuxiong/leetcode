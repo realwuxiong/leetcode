{
 "cells": [
  {
   "cell_type": "code",
   "execution_count": 11,
   "metadata": {},
   "outputs": [
    {
     "data": {
      "text/plain": [
       "True"
      ]
     },
     "execution_count": 11,
     "metadata": {},
     "output_type": "execute_result"
    }
   ],
   "source": [
    "# 766. 托普利茨矩阵\n",
    "# https://leetcode-cn.com/problems/toeplitz-matrix/\n",
    "\n",
    "# 看看别人的方法\n",
    "# class Solution:\n",
    "#     def isToeplitzMatrix(self, matrix: List[List[int]]) -> bool:\n",
    "#         for i in range(len(matrix)-1):\n",
    "#             if matrix[i][:-1] != matrix[i+1][1:]:\n",
    "#                 return False\n",
    "#         return True\n",
    "    \n",
    "    \n",
    "from typing import List\n",
    "def isToeplitzMatrix(matrix: List[List[int]]) -> bool:\n",
    "    row = len(matrix)\n",
    "    column = len(matrix[0])\n",
    "    for i in range(column): # 从行开始\n",
    "        ti = 0\n",
    "        tj = i\n",
    "        data = matrix[0][i]\n",
    "        while(ti < row and tj < column):\n",
    "            if data != matrix[ti][tj]:\n",
    "                return False\n",
    "            ti += 1\n",
    "            tj += 1\n",
    "    for j in range(1,row):\n",
    "        ti = j\n",
    "        tj = 0\n",
    "        data = matrix[ti][0]\n",
    "        while(ti < row and tj < column):\n",
    "            if data != matrix[ti][tj]:\n",
    "                return False\n",
    "            ti += 1\n",
    "            tj += 1\n",
    "            \n",
    "    return True\n",
    "matrix = [[1,2,3,4],[5,1,2,3],[9,5,1,2]]\n",
    "isToeplitzMatrix(matrix)"
   ]
  }
 ],
 "metadata": {
  "kernelspec": {
   "display_name": "Python 3",
   "language": "python",
   "name": "python3"
  },
  "language_info": {
   "codemirror_mode": {
    "name": "ipython",
    "version": 3
   },
   "file_extension": ".py",
   "mimetype": "text/x-python",
   "name": "python",
   "nbconvert_exporter": "python",
   "pygments_lexer": "ipython3",
   "version": "3.8.5"
  }
 },
 "nbformat": 4,
 "nbformat_minor": 4
}
