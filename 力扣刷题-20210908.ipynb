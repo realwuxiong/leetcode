{
 "cells": [
  {
   "cell_type": "code",
   "execution_count": 15,
   "metadata": {},
   "outputs": [
    {
     "name": "stdout",
     "output_type": "stream",
     "text": [
      "[(1, 0), (2, 1), (3, 2)]\n",
      "(1, 0)\n",
      "(2, 1)\n",
      "(3, 2)\n"
     ]
    },
    {
     "data": {
      "text/plain": [
       "6"
      ]
     },
     "execution_count": 15,
     "metadata": {},
     "output_type": "execute_result"
    }
   ],
   "source": [
    "# 502. IPO\n",
    "# https://leetcode-cn.com/problems/ipo/\n",
    "# 天天简单题，然后就突然困难\n",
    "\n",
    "from typing import List\n",
    "def findMaximizedCapital(k: int, w: int, profits: List[int], capital: List[int]) -> int:\n",
    "#     print(k,w)\n",
    "    # 用贪心算法？\n",
    "    # 33 / 35 个通过测试用例，超出时间限制\n",
    "    # 按照profits进行排序\n",
    "    myList = []\n",
    "    for i in range(len(profits)):\n",
    "        myList.append((profits[i],capital[i]))\n",
    "    \n",
    "    myList.sort(key=lambda a:a[0])\n",
    "    print(myList)\n",
    "    for _ in range(k):\n",
    "        n = len(myList)-1\n",
    "        while n > -1:\n",
    "            if myList[n][1] <= w:\n",
    "                w  += myList[n][0]\n",
    "#                 print(myList[n])\n",
    "                del myList[n]\n",
    "                break\n",
    "            n -= 1\n",
    "    return w\n",
    "    pass\n",
    "k = 3\n",
    "w = 0\n",
    "profits = [1,2,3]\n",
    "capital = [0,1,2]\n",
    "findMaximizedCapital(k,w,profits,capital)"
   ]
  },
  {
   "cell_type": "code",
   "execution_count": 20,
   "metadata": {},
   "outputs": [
    {
     "data": {
      "text/plain": [
       "6"
      ]
     },
     "execution_count": 20,
     "metadata": {},
     "output_type": "execute_result"
    }
   ],
   "source": [
    "from typing import List\n",
    "def findMaximizedCapital(k: int, w: int, profits: List[int], capital: List[int]) -> int:\n",
    "    # 按照profits进行排序\n",
    "    # 用大根堆。python没有大根堆，取负数就好了。\n",
    "    myList = []\n",
    "    for i in range(len(profits)):\n",
    "        myList.append((profits[i],capital[i]))\n",
    "    \n",
    "    myList.sort(key=lambda a:a[1])\n",
    "    import heapq\n",
    "    q = []\n",
    "    index = 0\n",
    "    n =  len(profits)\n",
    "    for _ in range(k):\n",
    "        while index < n and myList[index][1] <= w:\n",
    "            heapq.heappush(q,-myList[index][0])\n",
    "            index += 1\n",
    "        if q:\n",
    "            w -= heapq.heappop(q)\n",
    "          \n",
    "    return w\n",
    "    pass\n",
    "k = 3\n",
    "w = 0\n",
    "profits = [1,2,3]\n",
    "capital = [0,1,2]\n",
    "findMaximizedCapital(k,w,profits,capital)"
   ]
  }
 ],
 "metadata": {
  "kernelspec": {
   "display_name": "Python 3",
   "language": "python",
   "name": "python3"
  },
  "language_info": {
   "codemirror_mode": {
    "name": "ipython",
    "version": 3
   },
   "file_extension": ".py",
   "mimetype": "text/x-python",
   "name": "python",
   "nbconvert_exporter": "python",
   "pygments_lexer": "ipython3",
   "version": "3.6.9"
  },
  "toc-autonumbering": false,
  "toc-showcode": false,
  "toc-showmarkdowntxt": false,
  "toc-showtags": false
 },
 "nbformat": 4,
 "nbformat_minor": 4
}
