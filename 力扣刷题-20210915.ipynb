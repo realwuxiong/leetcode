{
 "cells": [
  {
   "cell_type": "code",
   "execution_count": 1,
   "metadata": {},
   "outputs": [
    {
     "data": {
      "text/plain": [
       "5"
      ]
     },
     "execution_count": 1,
     "metadata": {},
     "output_type": "execute_result"
    }
   ],
   "source": [
    "# 162. 寻找峰值\n",
    "# https://leetcode-cn.com/problems/find-peak-element/\n",
    "\n",
    "# 要求的时间复杂度是O(logn),这个是关键\n",
    "from typing import List\n",
    "def findPeakElement(nums: List[int]) -> int:\n",
    "    return nums.index(max(nums))\n",
    "\n",
    "nums = [1,2,1,3,5,6,4]\n",
    "findPeakElement(nums)"
   ]
  },
  {
   "cell_type": "code",
   "execution_count": null,
   "metadata": {},
   "outputs": [],
   "source": [
    "# 看答案的Log(n)的解法\n",
    "# 因为题目限制了：对于所有有效的 i 都有 nums[i] != nums[i + 1]\n",
    "# 爬坡法+类二分法。\n",
    "class Solution:\n",
    "    def findPeakElement(self, nums: List[int]) -> int:\n",
    "        n = len(nums)\n",
    "\n",
    "        # 辅助函数，输入下标 i，返回 nums[i] 的值\n",
    "        # 方便处理 nums[-1] 以及 nums[n] 的边界情况\n",
    "        def get(i: int) -> int:\n",
    "            if i == -1 or i == n:\n",
    "                return float('-inf')\n",
    "            return nums[i]\n",
    "        \n",
    "        left, right, ans = 0, n - 1, -1\n",
    "        while left <= right:\n",
    "            mid = (left + right) // 2\n",
    "            if get(mid - 1) < get(mid) > get(mid + 1):\n",
    "                ans = mid\n",
    "                break\n",
    "            if get(mid) < get(mid + 1):\n",
    "                left = mid + 1\n",
    "            else:\n",
    "                right = mid - 1\n",
    "        \n",
    "        return ans\n",
    "\n"
   ]
  }
 ],
 "metadata": {
  "kernelspec": {
   "display_name": "Python 3",
   "language": "python",
   "name": "python3"
  },
  "language_info": {
   "codemirror_mode": {
    "name": "ipython",
    "version": 3
   },
   "file_extension": ".py",
   "mimetype": "text/x-python",
   "name": "python",
   "nbconvert_exporter": "python",
   "pygments_lexer": "ipython3",
   "version": "3.6.9"
  },
  "toc-autonumbering": false,
  "toc-showcode": false,
  "toc-showmarkdowntxt": false,
  "toc-showtags": false
 },
 "nbformat": 4,
 "nbformat_minor": 4
}
