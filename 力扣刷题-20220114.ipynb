{
 "cells": [
  {
   "cell_type": "code",
   "execution_count": 2,
   "metadata": {},
   "outputs": [
    {
     "data": {
      "text/plain": [
       "[[1, 3], [2, 3]]"
      ]
     },
     "execution_count": 2,
     "metadata": {},
     "output_type": "execute_result"
    }
   ],
   "source": [
    "# 373. 查找和最小的 K 对数字\n",
    "# https://leetcode-cn.com/problems/find-k-pairs-with-smallest-sums/\n",
    "\n",
    "# \n",
    "from typing import List\n",
    "def kSmallestPairs(nums1: List[int], nums2: List[int], k: int) -> List[List[int]]:\n",
    "    # 方法肯定是对的，但是超时\n",
    "    ans = []\n",
    "    for num1 in nums1:\n",
    "        for num2 in nums2:\n",
    "            ans.append([num1,num2])\n",
    "    ans.sort(key = lambda x : x[0]+x[1])\n",
    "    return ans[:k]\n",
    "    pass\n",
    "\n",
    "nums1 = [1,2]\n",
    "nums2 = [3]\n",
    "k = 3 \n",
    "kSmallestPairs(nums1,nums2,k)"
   ]
  },
  {
   "cell_type": "code",
   "execution_count": null,
   "metadata": {},
   "outputs": [],
   "source": [
    "# 答案的优先队列\n",
    "class Solution:\n",
    "    def kSmallestPairs(self, nums1: List[int], nums2: List[int], k: int) -> List[List[int]]:\n",
    "        m, n = len(nums1), len(nums2)\n",
    "        ans = []\n",
    "        pq = [(nums1[i] + nums2[0], i, 0) for i in range(min(k, m))]\n",
    "        while pq and len(ans) < k:\n",
    "            _, i, j = heappop(pq)\n",
    "            ans.append([nums1[i], nums2[j]])\n",
    "            if j + 1 < n:\n",
    "                heappush(pq, (nums1[i] + nums2[j + 1], i, j + 1))\n",
    "        return ans\n"
   ]
  }
 ],
 "metadata": {
  "kernelspec": {
   "display_name": "Python 3",
   "language": "python",
   "name": "python3"
  },
  "language_info": {
   "codemirror_mode": {
    "name": "ipython",
    "version": 3
   },
   "file_extension": ".py",
   "mimetype": "text/x-python",
   "name": "python",
   "nbconvert_exporter": "python",
   "pygments_lexer": "ipython3",
   "version": "3.6.9"
  },
  "toc-autonumbering": false,
  "toc-showcode": false,
  "toc-showmarkdowntxt": false,
  "toc-showtags": false
 },
 "nbformat": 4,
 "nbformat_minor": 4
}
