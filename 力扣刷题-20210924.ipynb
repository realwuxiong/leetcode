{
 "cells": [
  {
   "cell_type": "code",
   "execution_count": null,
   "metadata": {},
   "outputs": [],
   "source": [
    "# 430. 扁平化多级双向链表\n",
    "# https://leetcode-cn.com/problems/flatten-a-multilevel-doubly-linked-list/\n",
    "\n",
    "# 写了半天，费劲，最后复制粘贴。。。\n",
    "\n",
    "class Solution:\n",
    "    def flatten(self, head: \"Node\") -> \"Node\":\n",
    "        def dfs(node: \"Node\") -> \"Node\":\n",
    "            cur = node\n",
    "            # 记录链表的最后一个节点\n",
    "            last = None\n",
    "\n",
    "            while cur:\n",
    "                nxt = cur.next\n",
    "                # 如果有子节点，那么首先处理子节点\n",
    "                if cur.child:\n",
    "                    child_last = dfs(cur.child)\n",
    "                    \n",
    "                    nxt = cur.next\n",
    "                    # 将 node 与 child 相连\n",
    "                    cur.next = cur.child\n",
    "                    cur.child.prev = cur\n",
    "\n",
    "                    # 如果 nxt 不为空，就将 last 与 nxt 相连\n",
    "                    if nxt:\n",
    "                        child_last.next = nxt\n",
    "                        nxt.prev = child_last\n",
    "\n",
    "                    # 将 child 置为空\n",
    "                    cur.child = None\n",
    "                    last = child_last\n",
    "                else:\n",
    "                    last = cur\n",
    "                cur = nxt\n",
    "\n",
    "            return last\n",
    "\n",
    "        dfs(head)\n",
    "        return head\n",
    "\n"
   ]
  }
 ],
 "metadata": {
  "kernelspec": {
   "display_name": "Python 3",
   "language": "python",
   "name": "python3"
  },
  "language_info": {
   "codemirror_mode": {
    "name": "ipython",
    "version": 3
   },
   "file_extension": ".py",
   "mimetype": "text/x-python",
   "name": "python",
   "nbconvert_exporter": "python",
   "pygments_lexer": "ipython3",
   "version": "3.6.9"
  },
  "toc-autonumbering": false,
  "toc-showcode": false,
  "toc-showmarkdowntxt": false,
  "toc-showtags": false
 },
 "nbformat": 4,
 "nbformat_minor": 4
}
