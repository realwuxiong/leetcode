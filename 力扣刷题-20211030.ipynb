{
 "cells": [
  {
   "cell_type": "code",
   "execution_count": 8,
   "metadata": {},
   "outputs": [
    {
     "data": {
      "text/plain": [
       "[3, 4]"
      ]
     },
     "execution_count": 8,
     "metadata": {},
     "output_type": "execute_result"
    }
   ],
   "source": [
    "# 260. 只出现一次的数字 III\n",
    "# https://leetcode-cn.com/problems/single-number-iii/\n",
    "\n",
    "from typing import List\n",
    "def singleNumber(nums: List[int]) -> List[int]:\n",
    "    # 异或？？？\n",
    "    \n",
    "    xor = 0\n",
    "    for num in nums:\n",
    "        xor ^= num\n",
    "    \n",
    "    for i in range(32):\n",
    "        if (xor>>i) & 1 == 1:\n",
    "            break\n",
    "\n",
    "    x1,x2 = 0, 0\n",
    "    for num in nums:\n",
    "        if (num>>i)&1 == 1:\n",
    "            x1 ^= num\n",
    "        else:\n",
    "            x2 ^= num\n",
    "    return [x1,x2]\n",
    "    \n",
    "    \n",
    "    \n",
    "    pass\n",
    "nums = [2,1,2,3,4,1]\n",
    "singleNumber(nums)\n"
   ]
  }
 ],
 "metadata": {
  "kernelspec": {
   "display_name": "Python 3",
   "language": "python",
   "name": "python3"
  },
  "language_info": {
   "codemirror_mode": {
    "name": "ipython",
    "version": 3
   },
   "file_extension": ".py",
   "mimetype": "text/x-python",
   "name": "python",
   "nbconvert_exporter": "python",
   "pygments_lexer": "ipython3",
   "version": "3.6.9"
  },
  "toc-autonumbering": false,
  "toc-showcode": false,
  "toc-showmarkdowntxt": false,
  "toc-showtags": false
 },
 "nbformat": 4,
 "nbformat_minor": 4
}
