{
 "cells": [
  {
   "cell_type": "code",
   "execution_count": 2,
   "metadata": {},
   "outputs": [
    {
     "data": {
      "text/plain": [
       "[3]"
      ]
     },
     "execution_count": 2,
     "metadata": {},
     "output_type": "execute_result"
    }
   ],
   "source": [
    "# 229. 求众数 II\n",
    "# https://leetcode-cn.com/problems/majority-element-ii/\n",
    "\n",
    "from typing import List\n",
    "def majorityElement(nums: List[int]) -> List[int]:\n",
    "    nums.sort()\n",
    "    n = len(nums)\n",
    "    if n==1:\n",
    "        return nums\n",
    "    if n == 2:\n",
    "        if nums[0]==nums[1]:\n",
    "            return [nums[0]]\n",
    "        else:\n",
    "            return nums\n",
    "    \n",
    "    t = n // 3\n",
    "    nums.insert(0,float(\"-inf\"))\n",
    "    count = 0\n",
    "    ans = []\n",
    "    for i in range(1,n+1):\n",
    "        if nums[i] != nums[i-1]:\n",
    "            if count > t:\n",
    "                ans.append(nums[i-1])\n",
    "            count = 1\n",
    "        else:\n",
    "            count += 1\n",
    "    if nums[-1] == nums[-2] and count > t:\n",
    "        ans.append(nums[-1])\n",
    "    return ans\n",
    "    pass\n",
    "nums = [3,2,3]\n",
    "majorityElement(nums)"
   ]
  }
 ],
 "metadata": {
  "kernelspec": {
   "display_name": "Python 3",
   "language": "python",
   "name": "python3"
  },
  "language_info": {
   "codemirror_mode": {
    "name": "ipython",
    "version": 3
   },
   "file_extension": ".py",
   "mimetype": "text/x-python",
   "name": "python",
   "nbconvert_exporter": "python",
   "pygments_lexer": "ipython3",
   "version": "3.6.9"
  },
  "toc-autonumbering": false,
  "toc-showcode": false,
  "toc-showmarkdowntxt": false,
  "toc-showtags": false
 },
 "nbformat": 4,
 "nbformat_minor": 4
}
