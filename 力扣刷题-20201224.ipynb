{
 "cells": [
  {
   "cell_type": "code",
   "execution_count": null,
   "metadata": {},
   "outputs": [],
   "source": [
    "# 135. 分发糖果\n",
    "# https://leetcode-cn.com/problems/candy/\n",
    "\n",
    "class Solution:\n",
    "    def candy(self, ratings: List[int]) -> int:\n",
    "        n = len(ratings)\n",
    "        left = [0] * n\n",
    "        for i in range(n):\n",
    "            if i > 0 and ratings[i] > ratings[i - 1]:\n",
    "                left[i] = left[i - 1] + 1\n",
    "            else:\n",
    "                left[i] = 1\n",
    "        \n",
    "        right = ret = 0\n",
    "        for i in range(n - 1, -1, -1):\n",
    "            if i < n - 1 and ratings[i] > ratings[i + 1]:\n",
    "                right += 1\n",
    "            else:\n",
    "                right = 1\n",
    "            ret += max(left[i], right)\n",
    "        \n",
    "        return ret"
   ]
  }
 ],
 "metadata": {
  "kernelspec": {
   "display_name": "Python 3",
   "language": "python",
   "name": "python3"
  },
  "language_info": {
   "codemirror_mode": {
    "name": "ipython",
    "version": 3
   },
   "file_extension": ".py",
   "mimetype": "text/x-python",
   "name": "python",
   "nbconvert_exporter": "python",
   "pygments_lexer": "ipython3",
   "version": "3.8.5"
  }
 },
 "nbformat": 4,
 "nbformat_minor": 4
}
