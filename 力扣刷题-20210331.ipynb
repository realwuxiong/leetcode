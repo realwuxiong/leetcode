{
 "cells": [
  {
   "cell_type": "code",
   "execution_count": 13,
   "metadata": {},
   "outputs": [
    {
     "name": "stdout",
     "output_type": "stream",
     "text": [
      "[[], [2], [2, 2], [1], [1, 2], [1, 2, 2]]\n"
     ]
    }
   ],
   "source": [
    "# 90. 子集 II\n",
    "# https://leetcode-cn.com/problems/subsets-ii/\n",
    "# 这个题目唯一的难点就是有重复值\n",
    "# 没做出来，看到答案的方法，先将数组进行排序\n",
    "# 这个递归的回溯太难想了。。。\n",
    "from typing import List\n",
    "def subsetsWithDup(nums: List[int]) -> List[List[int]]:\n",
    "    nums.sort()\n",
    "    res = []\n",
    "    stack = []\n",
    "    def dfs(ischoose,i):\n",
    "        if i == len(nums):\n",
    "            res.append(stack[:])\n",
    "            return\n",
    "        dfs(False,i+1)\n",
    "        if not ischoose and i>0 and nums[i - 1] == nums[i]:\n",
    "            return\n",
    "        stack.append(nums[i])\n",
    "        dfs(True,i+1)\n",
    "        stack.pop()\n",
    "    dfs(False,0)\n",
    "    print(res)\n",
    "nums = [1,2,2]\n",
    "subsetsWithDup(nums)"
   ]
  },
  {
   "cell_type": "code",
   "execution_count": 5,
   "metadata": {},
   "outputs": [
    {
     "name": "stdout",
     "output_type": "stream",
     "text": [
      "[[], [1], [1, 2], [1, 2, 3], [1, 3], [2], [2, 3], [3]]\n"
     ]
    }
   ],
   "source": [
    "# 78. 子集\n",
    "# https://leetcode-cn.com/problems/subsets/\n",
    "# 这个没有重复值，这个用回溯应该是可以的\n",
    "# 回溯法确实可以。\n",
    "# 标准答案用二进制真的漂亮，强烈推荐看看这个方法\n",
    "from typing import List\n",
    "def subsets(nums: List[int]) -> List[List[int]]:\n",
    "    res = []\n",
    "    stack =[]\n",
    "    def huisu(i):\n",
    "        if i > len(nums):\n",
    "            return\n",
    "        res.append(stack[:])\n",
    "        for j in range(i,len(nums)):\n",
    "            stack.append(nums[j])\n",
    "            huisu(j+1)\n",
    "            stack.pop()\n",
    "    huisu(0)\n",
    "    print(res)\n",
    "nums = [1,2,3]\n",
    "subsets(nums)"
   ]
  },
  {
   "cell_type": "code",
   "execution_count": 15,
   "metadata": {},
   "outputs": [
    {
     "name": "stdout",
     "output_type": "stream",
     "text": [
      "[[], [1], [2], [1, 2], [3], [1, 3], [2, 3], [1, 2, 3]]\n"
     ]
    }
   ],
   "source": [
    "# 78子集，方法二。。二进制表示的方法\n",
    "from typing import List\n",
    "def subsets(nums: List[int]) -> List[List[int]]:\n",
    "    res = []\n",
    "    stack =[]\n",
    "    n = len(nums)  # 数组长度\n",
    "    total = 2**n  #一共有这么多组合\n",
    "    # 需要n为数进行表示\n",
    "    for i in range(0,total):\n",
    "        stack.clear()\n",
    "        for j in range(n):\n",
    "            if (i >> j) & 1:\n",
    "                stack.append(nums[j])\n",
    "        res.append(stack[:])\n",
    "    print(res)\n",
    "            \n",
    "nums = [1,2,3]\n",
    "subsets(nums)"
   ]
  }
 ],
 "metadata": {
  "kernelspec": {
   "display_name": "Python 3",
   "language": "python",
   "name": "python3"
  },
  "language_info": {
   "codemirror_mode": {
    "name": "ipython",
    "version": 3
   },
   "file_extension": ".py",
   "mimetype": "text/x-python",
   "name": "python",
   "nbconvert_exporter": "python",
   "pygments_lexer": "ipython3",
   "version": "3.8.5"
  }
 },
 "nbformat": 4,
 "nbformat_minor": 4
}
