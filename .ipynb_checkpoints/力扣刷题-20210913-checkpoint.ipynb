{
 "cells": [
  {
   "cell_type": "code",
   "execution_count": 7,
   "metadata": {},
   "outputs": [
    {
     "data": {
      "text/plain": [
       "2"
      ]
     },
     "execution_count": 7,
     "metadata": {},
     "output_type": "execute_result"
    }
   ],
   "source": [
    "# 447. 回旋镖的数量\n",
    "# https://leetcode-cn.com/problems/number-of-boomerangs/\n",
    "\n",
    "from typing import List\n",
    "def numberOfBoomerangs(points: List[List[int]]) -> int:\n",
    "    # 第一思路，就是暴力。。。\n",
    "   # 暴力还真过了。。。。答案解析也是暴力。。。\n",
    "    n = len(points)\n",
    "    ans = 0\n",
    "    dic = {}\n",
    "    for i in range(n):\n",
    "        dic.clear()\n",
    "        for j in range(n):\n",
    "            if i == j:\n",
    "                continue\n",
    "            distance = (points[i][0]-points[j][0])**2+(points[i][1]-points[j][1])**2\n",
    "            dic[distance] = dic.setdefault(distance,0)+1\n",
    "        for dd in dic.values():\n",
    "            ans += dd*(dd-1)\n",
    "    return ans\n",
    "    pass\n",
    "points = [[0,0],[1,0],[2,0]]\n",
    "numberOfBoomerangs(points)"
   ]
  }
 ],
 "metadata": {
  "kernelspec": {
   "display_name": "Python 3",
   "language": "python",
   "name": "python3"
  },
  "language_info": {
   "codemirror_mode": {
    "name": "ipython",
    "version": 3
   },
   "file_extension": ".py",
   "mimetype": "text/x-python",
   "name": "python",
   "nbconvert_exporter": "python",
   "pygments_lexer": "ipython3",
   "version": "3.6.9"
  },
  "toc-autonumbering": false,
  "toc-showcode": false,
  "toc-showmarkdowntxt": false,
  "toc-showtags": false
 },
 "nbformat": 4,
 "nbformat_minor": 4
}
