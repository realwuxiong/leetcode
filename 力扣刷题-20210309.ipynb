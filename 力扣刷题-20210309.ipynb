{
 "cells": [
  {
   "cell_type": "code",
   "execution_count": 6,
   "metadata": {},
   "outputs": [
    {
     "data": {
      "text/plain": [
       "'caba'"
      ]
     },
     "execution_count": 6,
     "metadata": {},
     "output_type": "execute_result"
    }
   ],
   "source": [
    "# 1047. 删除字符串中的所有相邻重复项\n",
    "# https://leetcode-cn.com/problems/remove-all-adjacent-duplicates-in-string/\n",
    "# 直接用堆栈，简单题\n",
    "def removeDuplicates(S: str) -> str:\n",
    "    res = []\n",
    "    for i in range(len(S)):\n",
    "        if res and res[-1] == S[i]:\n",
    "            res.pop()\n",
    "        else:\n",
    "            res.append(S[i])\n",
    "    return ''.join(res)\n",
    "    pass\n",
    "S = \"abbacaba\"\n",
    "removeDuplicates(S)"
   ]
  },
  {
   "cell_type": "code",
   "execution_count": 14,
   "metadata": {},
   "outputs": [
    {
     "data": {
      "text/plain": [
       "[[1, 2, 3], [1, 3, 2], [2, 1, 3], [3, 2, 1]]"
      ]
     },
     "execution_count": 14,
     "metadata": {},
     "output_type": "execute_result"
    }
   ],
   "source": [
    "# 再来一道回溯的题目，好好把回溯这个算法看看\n",
    "# https://leetcode-cn.com/problems/permutations/\n",
    "from typing import List\n",
    "def permute(nums: List[int]) -> List[List[int]]:\n",
    "    res = []\n",
    "    def dfs(i):\n",
    "        if i == len(nums):\n",
    "            res.append(nums[:])\n",
    "            return\n",
    "        for j in range(i,len(nums)):\n",
    "            nums[i],nums[j] =nums[j],nums[i]\n",
    "            dfs(j+1)\n",
    "            nums[i],nums[j] =nums[j],nums[i]\n",
    "    dfs(0)\n",
    "    return res\n",
    "nums = [1,2,3]\n",
    "permute(nums)"
   ]
  }
 ],
 "metadata": {
  "kernelspec": {
   "display_name": "Python 3",
   "language": "python",
   "name": "python3"
  },
  "language_info": {
   "codemirror_mode": {
    "name": "ipython",
    "version": 3
   },
   "file_extension": ".py",
   "mimetype": "text/x-python",
   "name": "python",
   "nbconvert_exporter": "python",
   "pygments_lexer": "ipython3",
   "version": "3.8.5"
  }
 },
 "nbformat": 4,
 "nbformat_minor": 4
}
