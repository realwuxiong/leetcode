{
 "cells": [
  {
   "cell_type": "code",
   "execution_count": 6,
   "metadata": {},
   "outputs": [
    {
     "data": {
      "text/plain": [
       "21"
      ]
     },
     "execution_count": 6,
     "metadata": {},
     "output_type": "execute_result"
    }
   ],
   "source": [
    "# 1646. 获取生成数组中的最大值\n",
    "# https://leetcode-cn.com/problems/get-maximum-in-generated-array/\n",
    "\n",
    "\"\"\"\n",
    "给你一个整数 n 。按下述规则生成一个长度为 n + 1 的数组 nums ：\n",
    "\n",
    "nums[0] = 0\n",
    "nums[1] = 1\n",
    "当 2 <= 2 * i <= n 时，nums[2 * i] = nums[i]\n",
    "当 2 <= 2 * i + 1 <= n 时，nums[2 * i + 1] = nums[i] + nums[i + 1]\n",
    "返回生成数组 nums 中的 最大 值。\n",
    "\"\"\"\n",
    "# 又是简单题，nice\n",
    "def getMaximumGenerated(n: int) -> int:\n",
    "    if n == 0:\n",
    "        return 0\n",
    "    nums = [-1]*(n+1)\n",
    "    nums[0] = 0\n",
    "    nums[1] = 1\n",
    "    \n",
    "    for i in range(0,n+1):\n",
    "        if 2 <= 2 * i <= n:\n",
    "            nums[2 * i] = nums[i]\n",
    "        \n",
    "        if 2 <= 2 * i + 1 <= n:\n",
    "            nums[2 * i + 1] = nums[i] + nums[i + 1]    \n",
    "    return max(nums)    \n",
    "    \n",
    "    pass\n",
    "n = 100\n",
    "getMaximumGenerated(n)"
   ]
  },
  {
   "cell_type": "code",
   "execution_count": 13,
   "metadata": {},
   "outputs": [
    {
     "name": "stdout",
     "output_type": "stream",
     "text": [
      "[0, 1, 2, 3, 4, 5, 6, 7, 8]\n",
      "8\n"
     ]
    }
   ],
   "source": [
    "# 再来一个中等题吧\n",
    "# 45. 跳跃游戏 II\n",
    "# https://leetcode-cn.com/problems/jump-game-ii/\n",
    "from typing import List\n",
    "def jump(nums: List[int]) -> int:\n",
    "    \n",
    "    \"\"\"\n",
    "     这个题目明显是用动态规划\n",
    "     先把转移方程和初始值给设定一下\n",
    "     dp[i]表示到这一步最少需要的跳数\n",
    "     \n",
    "     初始值dp[i] = 最大值\n",
    "    \"\"\"\n",
    "    \n",
    "    n = len(nums)\n",
    "    dp = [float(\"INF\")]*n\n",
    "    dp[0] = 0\n",
    "    \n",
    "    for index, data in enumerate(nums):\n",
    "        for j in range(index+1,index+data+1):\n",
    "            if j >= n:\n",
    "                break\n",
    "            dp[j] = min(dp[j],dp[index]+1)\n",
    "    print(dp[-1])\n",
    "    pass\n",
    "\n",
    "nums = [1,1,1,1,1,1,1,1,1]\n",
    "jump(nums)"
   ]
  }
 ],
 "metadata": {
  "kernelspec": {
   "display_name": "Python 3",
   "language": "python",
   "name": "python3"
  },
  "language_info": {
   "codemirror_mode": {
    "name": "ipython",
    "version": 3
   },
   "file_extension": ".py",
   "mimetype": "text/x-python",
   "name": "python",
   "nbconvert_exporter": "python",
   "pygments_lexer": "ipython3",
   "version": "3.6.9"
  },
  "toc-autonumbering": false,
  "toc-showcode": false,
  "toc-showmarkdowntxt": false,
  "toc-showtags": false
 },
 "nbformat": 4,
 "nbformat_minor": 4
}
