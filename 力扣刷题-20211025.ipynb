{
 "cells": [
  {
   "cell_type": "code",
   "execution_count": 30,
   "metadata": {},
   "outputs": [
    {
     "data": {
      "text/plain": [
       "False"
      ]
     },
     "execution_count": 30,
     "metadata": {},
     "output_type": "execute_result"
    }
   ],
   "source": [
    "# 240. 搜索二维矩阵 II\n",
    "# https://leetcode-cn.com/problems/search-a-2d-matrix-ii/\n",
    "\n",
    "from typing import List\n",
    "def searchMatrix(matrix: List[List[int]], target: int) -> bool:\n",
    "    # 两个二分法\n",
    "    m = len(matrix)\n",
    "    n = len(matrix[0])\n",
    "    \n",
    "    for i in range(m):\n",
    "        start = 0\n",
    "        end = n - 1\n",
    "        while start <= end:\n",
    "            mid = start + (end-start) // 2\n",
    "            if matrix[i][mid] == target:\n",
    "                return True\n",
    "            if matrix[i][mid] > target:\n",
    "                end = mid - 1\n",
    "            else:\n",
    "                start = mid + 1    \n",
    "    \n",
    "    return False\n",
    "matrix = [[1,4,7,11,15],[2,5,8,12,19],[3,6,9,16,22],[10,13,14,17,24],[18,21,23,26,30]]\n",
    "target = 31\n",
    "searchMatrix(matrix,target)\n"
   ]
  }
 ],
 "metadata": {
  "kernelspec": {
   "display_name": "Python 3",
   "language": "python",
   "name": "python3"
  },
  "language_info": {
   "codemirror_mode": {
    "name": "ipython",
    "version": 3
   },
   "file_extension": ".py",
   "mimetype": "text/x-python",
   "name": "python",
   "nbconvert_exporter": "python",
   "pygments_lexer": "ipython3",
   "version": "3.6.9"
  },
  "toc-autonumbering": false,
  "toc-showcode": false,
  "toc-showmarkdowntxt": false,
  "toc-showtags": false
 },
 "nbformat": 4,
 "nbformat_minor": 4
}
