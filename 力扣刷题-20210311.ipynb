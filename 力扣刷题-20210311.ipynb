{
 "cells": [
  {
   "cell_type": "code",
   "execution_count": 6,
   "metadata": {},
   "outputs": [
    {
     "data": {
      "text/plain": [
       "7"
      ]
     },
     "execution_count": 6,
     "metadata": {},
     "output_type": "execute_result"
    }
   ],
   "source": [
    "# 227. 基本计算器 II\n",
    "# https://leetcode-cn.com/problems/basic-calculator-ii/\n",
    "# 相对昨天那个题目来说，这个题目是没有括号的，所以昨天那个题目是hard这个，这个是中等\n",
    "def calculate(s: str) -> int:\n",
    "    n = len(s)\n",
    "    stack = []\n",
    "    preSign = '+'\n",
    "    num = 0\n",
    "    for i in range(n):\n",
    "        if s[i] != ' ' and s[i].isdigit():\n",
    "            num = num * 10 + ord(s[i]) - ord('0')\n",
    "        if i == n - 1 or s[i] in '+-*/':\n",
    "            if preSign == '+':\n",
    "                stack.append(num)\n",
    "            elif preSign == '-':\n",
    "                stack.append(-num)\n",
    "            elif preSign == '*':\n",
    "                stack.append(stack.pop() * num)\n",
    "            else:\n",
    "                stack.append(int(stack.pop() / num))\n",
    "            preSign = s[i]\n",
    "            num = 0\n",
    "    return sum(stack)\n",
    "\n",
    "\n",
    "s = \"3+2*2\"\n",
    "calculate(s)"
   ]
  }
 ],
 "metadata": {
  "kernelspec": {
   "display_name": "Python 3",
   "language": "python",
   "name": "python3"
  },
  "language_info": {
   "codemirror_mode": {
    "name": "ipython",
    "version": 3
   },
   "file_extension": ".py",
   "mimetype": "text/x-python",
   "name": "python",
   "nbconvert_exporter": "python",
   "pygments_lexer": "ipython3",
   "version": "3.8.5"
  }
 },
 "nbformat": 4,
 "nbformat_minor": 4
}
