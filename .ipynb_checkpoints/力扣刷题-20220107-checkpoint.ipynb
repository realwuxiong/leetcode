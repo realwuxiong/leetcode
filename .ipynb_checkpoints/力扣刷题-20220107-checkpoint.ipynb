{
 "cells": [
  {
   "cell_type": "code",
   "execution_count": null,
   "metadata": {},
   "outputs": [],
   "source": [
    "# 1614. 括号的最大嵌套深度\n",
    "# https://leetcode-cn.com/problems/maximum-nesting-depth-of-the-parentheses/\n",
    "def maxDepth(s: str) -> int:\n",
    "    \n",
    "    pass\n",
    "\n",
    "s = \"(1+(2*3)+((8)/4))+1\"\n",
    "maxDepth(s)"
   ]
  }
 ],
 "metadata": {
  "kernelspec": {
   "display_name": "Python 3",
   "language": "python",
   "name": "python3"
  },
  "language_info": {
   "codemirror_mode": {
    "name": "ipython",
    "version": 3
   },
   "file_extension": ".py",
   "mimetype": "text/x-python",
   "name": "python",
   "nbconvert_exporter": "python",
   "pygments_lexer": "ipython3",
   "version": "3.6.9"
  },
  "toc-autonumbering": false,
  "toc-showcode": false,
  "toc-showmarkdowntxt": false,
  "toc-showtags": false
 },
 "nbformat": 4,
 "nbformat_minor": 4
}
