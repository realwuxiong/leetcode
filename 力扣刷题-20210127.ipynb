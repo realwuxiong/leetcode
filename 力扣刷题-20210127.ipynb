{
 "cells": [
  {
   "cell_type": "code",
   "execution_count": 51,
   "metadata": {},
   "outputs": [
    {
     "data": {
      "text/plain": [
       "114"
      ]
     },
     "execution_count": 51,
     "metadata": {},
     "output_type": "execute_result"
    }
   ],
   "source": [
    "# 1579. 保证图可完全遍历\n",
    "# https://leetcode-cn.com/problems/remove-max-number-of-edges-to-keep-graph-fully-traversable/\n",
    "def maxNumEdgesToRemove(n, edges) -> int:\n",
    "    count=[0]  # 可以深入的了解一下局部变量和全局变量\n",
    "    def find(parents,i):\n",
    "        if(parents[i]!=i):\n",
    "            parents[i] = find(parents,parents[i])\n",
    "        return parents[i]\n",
    "    def union(parents,i,j):\n",
    "        if(find(parents,i) == find(parents,j)):\n",
    "            count[0] = count[0]+1\n",
    "        else:\n",
    "            parents[find(parents,i)]=find(parents,j)\n",
    "            \n",
    "    parents1 = [i for i in range(n+1)]\n",
    "    parents2 = [i for i in range(n+1)]\n",
    "    \n",
    "    for i in range(len(edges)):\n",
    "        if(edges[i][0]==3):\n",
    "            union(parents1,edges[i][1],edges[i][2])\n",
    "    for i in range(n+1):\n",
    "        parents2[i] = parents1[i]\n",
    "    for i in range(len(edges)):\n",
    "        if(edges[i][0]==1):\n",
    "            union(parents1,edges[i][1],edges[i][2])\n",
    "        if(edges[i][0]==2):\n",
    "            union(parents2,edges[i][1],edges[i][2])\n",
    "            \n",
    "    sum1,sum2= 0,0\n",
    "    for i in range(1,len(parents1)):\n",
    "        if parents1[i]==i:\n",
    "            sum1 += 1\n",
    "        if parents2[i]==i:\n",
    "            sum2 += 1\n",
    "#     print(parents1,parents2)\n",
    "#     print(sum1,sum2,count)\n",
    "    return -1 if sum1!=1 or sum2!=1 else count[0]\n",
    "    \n",
    "\n",
    "n = 13\n",
    "edges = [[1,1,2],[2,1,3],[3,2,4],[3,2,5],[1,2,6],[3,6,7],[3,7,8],[3,6,9],[3,4,10],[2,3,11],[1,5,12],[3,3,13],[2,1,10],[2,6,11],[3,5,13],[1,9,12],[1,6,8],[3,6,13],[2,1,4],[1,1,13],[2,9,10],[2,1,6],[2,10,13],[2,2,9],[3,4,12],[2,4,7],[1,1,10],[1,3,7],[1,7,11],[3,3,12],[2,4,8],[3,8,9],[1,9,13],[2,4,10],[1,6,9],[3,10,13],[1,7,10],[1,1,11],[2,4,9],[3,5,11],[3,2,6],[2,1,5],[2,5,11],[2,1,7],[2,3,8],[2,8,9],[3,4,13],[3,3,8],[3,3,11],[2,9,11],[3,1,8],[2,1,8],[3,8,13],[2,10,11],[3,1,5],[1,10,11],[1,7,12],[2,3,5],[3,1,13],[2,4,11],[2,3,9],[2,6,9],[2,1,13],[3,1,12],[2,7,8],[2,5,6],[3,1,9],[1,5,10],[3,2,13],[2,3,6],[2,2,10],[3,4,11],[1,4,13],[3,5,10],[1,4,10],[1,1,8],[3,3,4],[2,4,6],[2,7,11],[2,7,10],[2,3,12],[3,7,11],[3,9,10],[2,11,13],[1,1,12],[2,10,12],[1,7,13],[1,4,11],[2,4,5],[1,3,10],[2,12,13],[3,3,10],[1,6,12],[3,6,10],[1,3,4],[2,7,9],[1,3,11],[2,2,8],[1,2,8],[1,11,13],[1,2,13],[2,2,6],[1,4,6],[1,6,11],[3,1,2],[1,1,3],[2,11,12],[3,2,11],[1,9,10],[2,6,12],[3,1,7],[1,4,9],[1,10,12],[2,6,13],[2,2,12],[2,1,11],[2,5,9],[1,3,8],[1,7,8],[1,2,12],[1,5,11],[2,7,12],[3,1,11],[3,9,12],[3,2,9],[3,10,11]]\n",
    "maxNumEdgesToRemove(n,edges)"
   ]
  }
 ],
 "metadata": {
  "kernelspec": {
   "display_name": "Python 3",
   "language": "python",
   "name": "python3"
  },
  "language_info": {
   "codemirror_mode": {
    "name": "ipython",
    "version": 3
   },
   "file_extension": ".py",
   "mimetype": "text/x-python",
   "name": "python",
   "nbconvert_exporter": "python",
   "pygments_lexer": "ipython3",
   "version": "3.8.5"
  }
 },
 "nbformat": 4,
 "nbformat_minor": 4
}
