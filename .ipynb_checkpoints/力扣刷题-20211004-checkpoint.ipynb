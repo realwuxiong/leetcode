{
 "cells": [
  {
   "cell_type": "code",
   "execution_count": 25,
   "metadata": {},
   "outputs": [
    {
     "data": {
      "text/plain": [
       "'2-5G-3J'"
      ]
     },
     "execution_count": 25,
     "metadata": {},
     "output_type": "execute_result"
    }
   ],
   "source": [
    "# 482. 密钥格式化\n",
    "# https://leetcode-cn.com/problems/license-key-formatting/\n",
    "\n",
    "def licenseKeyFormatting(s: str, k: int) -> str:\n",
    "    s = s.upper()\n",
    "    s = s.replace(\"-\",\"\")\n",
    "    first = len(s)%k\n",
    "    ans = \"\"\n",
    "    import math\n",
    "    t = math.ceil(len(s)/k)\n",
    "    index = 0\n",
    "#     print(s)\n",
    "    for i in range(t):\n",
    "        if i == 0:\n",
    "            for j in range(first):\n",
    "                ans += s[index]\n",
    "                index += 1\n",
    "            if first != 0:\n",
    "                ans += \"-\"\n",
    "                continue\n",
    "        for j in range(k):\n",
    "            ans += s[index]\n",
    "            index += 1\n",
    "        ans += \"-\"\n",
    "    return ans[:-1] \n",
    "    pass\n",
    "s = \"2-5g-3-J\" \n",
    "k = 2\n",
    "licenseKeyFormatting(s,k)"
   ]
  },
  {
   "cell_type": "code",
   "execution_count": null,
   "metadata": {},
   "outputs": [],
   "source": [
    "# 答案写的更好看。。。。\n",
    "class Solution:\n",
    "    def licenseKeyFormatting(self, s: str, k: int) -> str:\n",
    "        ans = list()\n",
    "        cnt = 0\n",
    "\n",
    "        for i in range(len(s) - 1, -1, -1):\n",
    "            if s[i] != \"-\":\n",
    "                ans.append(s[i].upper())\n",
    "                cnt += 1\n",
    "                if cnt % k == 0:\n",
    "                    ans.append(\"-\")\n",
    "        \n",
    "        if ans and ans[-1] == \"-\":\n",
    "            ans.pop()\n",
    "        \n",
    "        return \"\".join(ans[::-1])\n",
    "\n"
   ]
  }
 ],
 "metadata": {
  "kernelspec": {
   "display_name": "Python 3",
   "language": "python",
   "name": "python3"
  },
  "language_info": {
   "codemirror_mode": {
    "name": "ipython",
    "version": 3
   },
   "file_extension": ".py",
   "mimetype": "text/x-python",
   "name": "python",
   "nbconvert_exporter": "python",
   "pygments_lexer": "ipython3",
   "version": "3.6.9"
  },
  "toc-autonumbering": false,
  "toc-showcode": false,
  "toc-showmarkdowntxt": false,
  "toc-showtags": false
 },
 "nbformat": 4,
 "nbformat_minor": 4
}
