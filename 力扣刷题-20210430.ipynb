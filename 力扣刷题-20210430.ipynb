{
 "cells": [
  {
   "cell_type": "code",
   "execution_count": 6,
   "metadata": {},
   "outputs": [
    {
     "data": {
      "text/plain": [
       "-4"
      ]
     },
     "execution_count": 6,
     "metadata": {},
     "output_type": "execute_result"
    }
   ],
   "source": [
    "# 137. 只出现一次的数字 II\n",
    "# https://leetcode-cn.com/problems/single-number-ii/\n",
    "from typing import List\n",
    "def singleNumber(nums: List[int]) -> int:\n",
    "    # 32位\n",
    "    res = 0\n",
    "    for i in range(32):\n",
    "        count = 0\n",
    "        for num in nums:\n",
    "            count += num>>i & 1\n",
    "        if count % 3 != 0:\n",
    "            if i == 31:\n",
    "                res -= (1 << i)\n",
    "            else:\n",
    "                res |= (1 << i)\n",
    "    return res\n",
    "    pass\n",
    "nums = [-2,-2,1,1,4,1,4,4,-4,-2]\n",
    "singleNumber(nums)\n"
   ]
  },
  {
   "cell_type": "code",
   "execution_count": null,
   "metadata": {},
   "outputs": [],
   "source": [
    "//\n",
    "public int singleNumber(int[] nums) {\n",
    "        int res = 0;\n",
    "        int count;\n",
    "        for(int i =0; i < 32; ++i){\n",
    "            count = 0;\n",
    "            for(int num: nums){\n",
    "                count += ((num >> i )& 1);\n",
    "            }\n",
    "            if(count % 3 != 0){\n",
    "                res |= (1 << i);\n",
    "            }\n",
    "        }\n",
    "        return res;\n",
    "    }"
   ]
  }
 ],
 "metadata": {
  "kernelspec": {
   "display_name": "Java",
   "language": "java",
   "name": "java"
  },
  "language_info": {
   "codemirror_mode": "java",
   "file_extension": ".jshell",
   "mimetype": "text/x-java-source",
   "name": "Java",
   "pygments_lexer": "java",
   "version": "11.0.10+9-Ubuntu-0ubuntu1.18.04"
  }
 },
 "nbformat": 4,
 "nbformat_minor": 4
}
