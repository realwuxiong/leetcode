{
 "cells": [
  {
   "cell_type": "code",
   "execution_count": 2,
   "metadata": {},
   "outputs": [
    {
     "data": {
      "text/plain": [
       "[2, 0, 3]"
      ]
     },
     "execution_count": 2,
     "metadata": {},
     "output_type": "execute_result"
    }
   ],
   "source": [
    "# 1337. 矩阵中战斗力最弱的 K 行\n",
    "# https://leetcode-cn.com/problems/the-k-weakest-rows-in-a-matrix/\n",
    "from typing import List\n",
    "def kWeakestRows(mat: List[List[int]], k: int) -> List[int]:\n",
    "    # 这个题目简单，按照列遍历\n",
    "    \n",
    "    # 行\n",
    "    m = len(mat)\n",
    "    # 列\n",
    "    n = len(mat[0])\n",
    "    \n",
    "    flags = [False]*m\n",
    "    ans = []\n",
    "    for j in range(n):\n",
    "        t = []\n",
    "        for i in range(m):\n",
    "            if flags[i]:\n",
    "                continue \n",
    "            if mat[i][j] == 0:\n",
    "                t.append(i)\n",
    "                flags[i] = True\n",
    "        t.sort()\n",
    "        ans+=t[:]\n",
    "    t = []\n",
    "    for i in range(m):\n",
    "        if mat[i][-1] == 1:\n",
    "            t.append(i)\n",
    "    t.sort()\n",
    "    ans+=t[:]\n",
    "    return ans[0:k]\n",
    "mat = [[1,1,0,0,0],\n",
    " [1,1,1,1,0],\n",
    " [1,0,0,0,0],\n",
    " [1,1,0,0,0],\n",
    " [1,1,1,1,1]]\n",
    "k = 3\n",
    "\n",
    "kWeakestRows(mat, k) "
   ]
  }
 ],
 "metadata": {
  "kernelspec": {
   "display_name": "Python 3",
   "language": "python",
   "name": "python3"
  },
  "language_info": {
   "codemirror_mode": {
    "name": "ipython",
    "version": 3
   },
   "file_extension": ".py",
   "mimetype": "text/x-python",
   "name": "python",
   "nbconvert_exporter": "python",
   "pygments_lexer": "ipython3",
   "version": "3.6.9"
  },
  "toc-autonumbering": false,
  "toc-showcode": false,
  "toc-showmarkdowntxt": false,
  "toc-showtags": false
 },
 "nbformat": 4,
 "nbformat_minor": 4
}
