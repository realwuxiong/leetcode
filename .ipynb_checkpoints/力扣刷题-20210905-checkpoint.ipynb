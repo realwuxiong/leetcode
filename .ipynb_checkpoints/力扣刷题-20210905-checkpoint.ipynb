{
 "cells": [
  {
   "cell_type": "code",
   "execution_count": null,
   "metadata": {},
   "outputs": [],
   "source": [
    "# 470. 用 Rand7() 实现 Rand10()\n",
    "# https://leetcode-cn.com/problems/implement-rand10-using-rand7/\n",
    "\n",
    "# The rand7() API is already defined for you.\n",
    "# def rand7():\n",
    "# @return a random integer in the range 1 to 7\n",
    "\n",
    "# 这个题目好好理解一下\n",
    "class Solution:\n",
    "    def rand10(self) -> int:\n",
    "        while True:\n",
    "            row = rand7()\n",
    "            col = rand7()\n",
    "            idx = (row - 1) * 7 + col\n",
    "            if idx <= 40:\n",
    "                return 1 + (idx - 1) % 10\n",
    "\n"
   ]
  },
  {
   "cell_type": "code",
   "execution_count": null,
   "metadata": {},
   "outputs": [],
   "source": [
    "# 这思路nice，别人的、、、\n",
    "class Solution {\n",
    "public:\n",
    "    int rand10() {\n",
    "        return (rand7()+rand7()+rand7()+rand7()+rand7()+rand7()+rand7()+rand7()+rand7()+rand7())%10+1;\n",
    "    }\n",
    "};"
   ]
  }
 ],
 "metadata": {
  "kernelspec": {
   "display_name": "Python 3",
   "language": "python",
   "name": "python3"
  },
  "language_info": {
   "codemirror_mode": {
    "name": "ipython",
    "version": 3
   },
   "file_extension": ".py",
   "mimetype": "text/x-python",
   "name": "python",
   "nbconvert_exporter": "python",
   "pygments_lexer": "ipython3",
   "version": "3.6.9"
  },
  "toc-autonumbering": false,
  "toc-showcode": false,
  "toc-showmarkdowntxt": false,
  "toc-showtags": false
 },
 "nbformat": 4,
 "nbformat_minor": 4
}
