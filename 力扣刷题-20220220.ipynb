{
 "cells": [
  {
   "cell_type": "code",
   "execution_count": 2,
   "metadata": {},
   "outputs": [
    {
     "data": {
      "text/plain": [
       "False"
      ]
     },
     "execution_count": 2,
     "metadata": {},
     "output_type": "execute_result"
    }
   ],
   "source": [
    "# 717. 1比特与2比特字符\n",
    "# https://leetcode-cn.com/problems/1-bit-and-2-bit-characters/\n",
    "\n",
    "from typing import List\n",
    "def isOneBitCharacter(bits: List[int]) -> bool:\n",
    "    i, n = 0, len(bits)\n",
    "    while i < n - 1:\n",
    "        i += bits[i] + 1\n",
    "    return i == n - 1\n",
    "bits = [1, 1, 1, 0]\n",
    "isOneBitCharacter(bits)"
   ]
  }
 ],
 "metadata": {
  "kernelspec": {
   "display_name": "Python 3",
   "language": "python",
   "name": "python3"
  },
  "language_info": {
   "codemirror_mode": {
    "name": "ipython",
    "version": 3
   },
   "file_extension": ".py",
   "mimetype": "text/x-python",
   "name": "python",
   "nbconvert_exporter": "python",
   "pygments_lexer": "ipython3",
   "version": "3.6.9"
  },
  "toc-autonumbering": false,
  "toc-showcode": false,
  "toc-showmarkdowntxt": false,
  "toc-showtags": false
 },
 "nbformat": 4,
 "nbformat_minor": 4
}
