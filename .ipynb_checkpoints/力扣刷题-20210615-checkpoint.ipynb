{
 "cells": [
  {
   "cell_type": "code",
   "execution_count": null,
   "metadata": {},
   "outputs": [],
   "source": [
    "# 852. 山脉数组的峰顶索引\n",
    "# https://leetcode-cn.com/problems/peak-index-in-a-mountain-array/\n",
    "\n",
    "class Solution:\n",
    "    def peakIndexInMountainArray(self, arr: List[int]) -> int:\n",
    "        # 天天二分法\n",
    "        low = 1\n",
    "        high = len(arr) -2\n",
    "        if high == 2:\n",
    "            return 1 if arr[1] > arr[2] else 2\n",
    "        if high == 1:\n",
    "            return 1\n",
    "        while low <= high:\n",
    "            mid = low + (high-low)//2 # 防止溢出\n",
    "            # print(mid,low,high)\n",
    "            if (arr[mid-1]<arr[mid]and arr[mid]<arr[mid+1]):\n",
    "                low = mid + 1\n",
    "            elif(arr[mid-1>arr[mid] and arr[mid] >arr[mid+1]]):\n",
    "                high = mid -1\n",
    "        return low"
   ]
  }
 ],
 "metadata": {
  "kernelspec": {
   "display_name": "Python 3",
   "language": "python",
   "name": "python3"
  },
  "language_info": {
   "codemirror_mode": {
    "name": "ipython",
    "version": 3
   },
   "file_extension": ".py",
   "mimetype": "text/x-python",
   "name": "python",
   "nbconvert_exporter": "python",
   "pygments_lexer": "ipython3",
   "version": "3.6.9"
  }
 },
 "nbformat": 4,
 "nbformat_minor": 4
}
