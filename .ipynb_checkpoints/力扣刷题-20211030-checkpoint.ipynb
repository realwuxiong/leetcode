{
 "cells": [
  {
   "cell_type": "code",
   "execution_count": 1,
   "metadata": {},
   "outputs": [
    {
     "name": "stdout",
     "output_type": "stream",
     "text": [
      "[1, 2, 1, 3, 2, 5]\n"
     ]
    }
   ],
   "source": [
    "# 260. 只出现一次的数字 III\n",
    "# https://leetcode-cn.com/problems/single-number-iii/\n",
    "\n",
    "from typing import List\n",
    "def singleNumber(nums: List[int]) -> List[int]:\n",
    "    # 异或？？？\n",
    "    \n",
    "    \n",
    "    \n",
    "    \n",
    "    pass\n",
    "nums = [1,2,1,3,2,5]\n",
    "singleNumber(nums)\n"
   ]
  }
 ],
 "metadata": {
  "kernelspec": {
   "display_name": "Python 3",
   "language": "python",
   "name": "python3"
  },
  "language_info": {
   "codemirror_mode": {
    "name": "ipython",
    "version": 3
   },
   "file_extension": ".py",
   "mimetype": "text/x-python",
   "name": "python",
   "nbconvert_exporter": "python",
   "pygments_lexer": "ipython3",
   "version": "3.6.9"
  },
  "toc-autonumbering": false,
  "toc-showcode": false,
  "toc-showmarkdowntxt": false,
  "toc-showtags": false
 },
 "nbformat": 4,
 "nbformat_minor": 4
}
