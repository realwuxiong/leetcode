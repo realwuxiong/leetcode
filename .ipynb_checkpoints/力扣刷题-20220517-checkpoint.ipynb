{
 "cells": [
  {
   "cell_type": "code",
   "execution_count": 7,
   "metadata": {},
   "outputs": [
    {
     "data": {
      "text/plain": [
       "True"
      ]
     },
     "execution_count": 7,
     "metadata": {},
     "output_type": "execute_result"
    }
   ],
   "source": [
    "# 953. 验证外星语词典\n",
    "# https://leetcode.cn/problems/verifying-an-alien-dictionary/\n",
    "\n",
    "from typing import List\n",
    "def isAlienSorted(words: List[str], order: str) -> bool:\n",
    "    myOrder = [-1]*26\n",
    "    \n",
    "    for i, o in enumerate(order):\n",
    "        myOrder[ord(o)-ord('a')] = i\n",
    "    \n",
    "    tem = words[0]\n",
    "    for i in range(1,len(words)):\n",
    "        for j,w in enumerate(words[i]):\n",
    "            if j >= len(tem) or myOrder[ord(words[i][j])-ord('a')] >= myOrder[ord(tem[j])-ord('a')]:\n",
    "                break\n",
    "            if myOrder[ord(words[i][j])-ord('a')] < myOrder[ord(tem[j])-ord('a')]:\n",
    "                return False\n",
    "        else:\n",
    "            if j < len(tem)-1:\n",
    "                return False\n",
    "        \n",
    "    return True\n",
    " \n",
    "\n",
    "words = [\"word\",\"world\",\"row\"]\n",
    "order = \"worldabcefghijkmnpqstuvxyz\"\n",
    "isAlienSorted(words,order)"
   ]
  }
 ],
 "metadata": {
  "kernelspec": {
   "display_name": "Python 3",
   "language": "python",
   "name": "python3"
  },
  "language_info": {
   "codemirror_mode": {
    "name": "ipython",
    "version": 3
   },
   "file_extension": ".py",
   "mimetype": "text/x-python",
   "name": "python",
   "nbconvert_exporter": "python",
   "pygments_lexer": "ipython3",
   "version": "3.6.9"
  },
  "toc-autonumbering": false,
  "toc-showcode": false,
  "toc-showmarkdowntxt": false,
  "toc-showtags": false
 },
 "nbformat": 4,
 "nbformat_minor": 4
}
