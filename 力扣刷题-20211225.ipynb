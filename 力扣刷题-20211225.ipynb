{
 "cells": [
  {
   "cell_type": "code",
   "execution_count": null,
   "metadata": {},
   "outputs": [],
   "source": [
    "# 1609. 奇偶树\n",
    "# https://leetcode-cn.com/problems/even-odd-tree/\n",
    "\n",
    "# Definition for a binary tree node.\n",
    "# class TreeNode:\n",
    "#     def __init__(self, val=0, left=None, right=None):\n",
    "#         self.val = val\n",
    "#         self.left = left\n",
    "#         self.right = right\n",
    "class Solution:\n",
    "    def isEvenOddTree(self, root: Optional[TreeNode]) -> bool:\n",
    "        from collections import deque\n",
    "        # 层次遍历\n",
    "        flag = True\n",
    "        stack = deque()\n",
    "        stack.append(root)\n",
    "        if root.val & 1 != 1:\n",
    "            return False\n",
    "        while stack:\n",
    "            n = len(stack)\n",
    "            pre = None\n",
    "            for i in range(n):\n",
    "                t = stack.popleft()\n",
    "                # print(t.val,end=\" \")\n",
    "                if t.left:\n",
    "                    stack.append(t.left)\n",
    "                if t.right:\n",
    "                    stack.append(t.right)\n",
    "                if i == 0:\n",
    "                    pre = t\n",
    "                    if (t.val & 1 == 1) != flag:\n",
    "                        return False\n",
    "                    continue\n",
    "                # 判断条件一大堆。。。先判断单调，然后判断是奇偶，最后判断两个值相等的特殊情况\n",
    "                if (t.val-pre.val <= 0) == flag or (t.val & 1 == 1) != flag or t.val-pre.val == 0:\n",
    "                    return False\n",
    "                pre = t\n",
    "            # print(\"\\n\")\n",
    "            flag = not flag\n",
    "        return True"
   ]
  }
 ],
 "metadata": {
  "kernelspec": {
   "display_name": "Python 3",
   "language": "python",
   "name": "python3"
  },
  "language_info": {
   "codemirror_mode": {
    "name": "ipython",
    "version": 3
   },
   "file_extension": ".py",
   "mimetype": "text/x-python",
   "name": "python",
   "nbconvert_exporter": "python",
   "pygments_lexer": "ipython3",
   "version": "3.6.9"
  },
  "toc-autonumbering": false,
  "toc-showcode": false,
  "toc-showmarkdowntxt": false,
  "toc-showtags": false
 },
 "nbformat": 4,
 "nbformat_minor": 4
}
