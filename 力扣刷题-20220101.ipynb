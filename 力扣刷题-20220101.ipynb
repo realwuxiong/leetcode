{
 "cells": [
  {
   "cell_type": "code",
   "execution_count": 5,
   "metadata": {},
   "outputs": [
    {
     "data": {
      "text/plain": [
       "[[1, 2, 3]]"
      ]
     },
     "execution_count": 5,
     "metadata": {},
     "output_type": "execute_result"
    }
   ],
   "source": [
    "# 2022. 将一维数组转变成二维数组\n",
    "# https://leetcode-cn.com/problems/convert-1d-array-into-2d-array/\n",
    "\n",
    "from typing import List\n",
    "def construct2DArray(original: List[int], m: int, n: int) -> List[List[int]]:\n",
    "    length = len(original)\n",
    "    ans = []\n",
    "    if length != m * n:\n",
    "        return ans\n",
    "    stack=[]\n",
    "    for i in range(length):\n",
    "        stack.append(original[i])\n",
    "        if (i+1) % n == 0:\n",
    "            ans.append(stack[:])\n",
    "            stack.clear()\n",
    "    return ans\n",
    "    \n",
    "    pass\n",
    "original = [1,2,3]\n",
    "m = 1\n",
    "n = 3\n",
    "construct2DArray(original,m,n)"
   ]
  },
  {
   "cell_type": "code",
   "execution_count": null,
   "metadata": {},
   "outputs": [],
   "source": [
    "# 答案做法，其实有这个想法，但是没有这样写。。\n",
    "class Solution:\n",
    "    def construct2DArray(self, original: List[int], m: int, n: int) -> List[List[int]]:\n",
    "        return [original[i: i + n] for i in range(0, len(original), n)] if len(original) == m * n else []\n"
   ]
  }
 ],
 "metadata": {
  "kernelspec": {
   "display_name": "Python 3",
   "language": "python",
   "name": "python3"
  },
  "language_info": {
   "codemirror_mode": {
    "name": "ipython",
    "version": 3
   },
   "file_extension": ".py",
   "mimetype": "text/x-python",
   "name": "python",
   "nbconvert_exporter": "python",
   "pygments_lexer": "ipython3",
   "version": "3.6.9"
  },
  "toc-autonumbering": false,
  "toc-showcode": false,
  "toc-showmarkdowntxt": false,
  "toc-showtags": false
 },
 "nbformat": 4,
 "nbformat_minor": 4
}
