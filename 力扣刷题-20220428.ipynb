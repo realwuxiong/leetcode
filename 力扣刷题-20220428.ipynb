{
 "cells": [
  {
   "cell_type": "code",
   "execution_count": 16,
   "metadata": {},
   "outputs": [
    {
     "name": "stdout",
     "output_type": "stream",
     "text": [
      "0 1\n"
     ]
    },
    {
     "data": {
      "text/plain": [
       "[1, 3]"
      ]
     },
     "execution_count": 16,
     "metadata": {},
     "output_type": "execute_result"
    }
   ],
   "source": [
    "# 905. 按奇偶排序数组\n",
    "# https://leetcode-cn.com/problems/sort-array-by-parity/\n",
    "\n",
    "# 这个题，当时面试度小满的时候就是这个\n",
    "from typing import List\n",
    "def sortArrayByParity(nums: List[int]) -> List[int]:\n",
    "    n = len(nums)\n",
    "    start,end = 0, n-1\n",
    "    while start < end:\n",
    "#         print(start,end)\n",
    "        while nums[start] & 1 == 0 and start < n-1:  # 如果是偶数\n",
    "            start += 1\n",
    "        while nums[end] & 1 == 1 and end > -1:  # 如果是奇数\n",
    "            end -= 1\n",
    "        if start < end:\n",
    "            nums[start], nums[end] = nums[end],nums[start]\n",
    "#         print(nums)\n",
    "    return nums\n",
    "    \n",
    "    \n",
    "    pass\n",
    "\n",
    "nums = [1,3]\n",
    "sortArrayByParity(nums)"
   ]
  }
 ],
 "metadata": {
  "kernelspec": {
   "display_name": "Python 3",
   "language": "python",
   "name": "python3"
  },
  "language_info": {
   "codemirror_mode": {
    "name": "ipython",
    "version": 3
   },
   "file_extension": ".py",
   "mimetype": "text/x-python",
   "name": "python",
   "nbconvert_exporter": "python",
   "pygments_lexer": "ipython3",
   "version": "3.6.9"
  },
  "toc-autonumbering": false,
  "toc-showcode": false,
  "toc-showmarkdowntxt": false,
  "toc-showtags": false
 },
 "nbformat": 4,
 "nbformat_minor": 4
}
