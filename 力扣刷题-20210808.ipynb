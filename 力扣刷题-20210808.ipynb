{
 "cells": [
  {
   "cell_type": "code",
   "execution_count": 25,
   "metadata": {},
   "outputs": [
    {
     "data": {
      "text/plain": [
       "1"
      ]
     },
     "execution_count": 25,
     "metadata": {},
     "output_type": "execute_result"
    }
   ],
   "source": [
    "# 1137. 第 N 个泰波那契数\n",
    "# https://leetcode-cn.com/problems/n-th-tribonacci-number/\n",
    "\n",
    "# 简单题\n",
    "def tribonacci(n: int) -> int:\n",
    "    if n == 0:\n",
    "        return 0\n",
    "    if n == 1:\n",
    "        return 1\n",
    "    a,b,c = 0,1,1\n",
    "    i = 0\n",
    "    while i+2 < n:\n",
    "        a,b,c = b,c,a+b+c\n",
    "        i+=1\n",
    "    return c\n",
    "n = 3\n",
    "tribonacci(2)"
   ]
  },
  {
   "cell_type": "code",
   "execution_count": 46,
   "metadata": {},
   "outputs": [
    {
     "data": {
      "text/plain": [
       "149"
      ]
     },
     "execution_count": 46,
     "metadata": {},
     "output_type": "execute_result"
    }
   ],
   "source": [
    "# 用yied试试\n",
    "\n",
    "def tribonacci(n: int) -> int:\n",
    "    if n == 0:\n",
    "        return 0\n",
    "    if n == 1:\n",
    "        return 1\n",
    "    def f(n):\n",
    "        a,b,c = 0,1,1\n",
    "        i = 0\n",
    "        while i+2 < n:\n",
    "            a,b,c = b,c,a+b+c\n",
    "            yield c\n",
    "            i+=1\n",
    "    ans = 1\n",
    "    for i in f(n):\n",
    "        ans = i\n",
    "    return ans\n",
    "    \n",
    "        \n",
    "    \n",
    "n = 10\n",
    "tribonacci(n)\n"
   ]
  }
 ],
 "metadata": {
  "kernelspec": {
   "display_name": "Python 3",
   "language": "python",
   "name": "python3"
  },
  "language_info": {
   "codemirror_mode": {
    "name": "ipython",
    "version": 3
   },
   "file_extension": ".py",
   "mimetype": "text/x-python",
   "name": "python",
   "nbconvert_exporter": "python",
   "pygments_lexer": "ipython3",
   "version": "3.6.9"
  },
  "toc-autonumbering": false,
  "toc-showcode": false,
  "toc-showmarkdowntxt": false,
  "toc-showtags": false
 },
 "nbformat": 4,
 "nbformat_minor": 4
}
