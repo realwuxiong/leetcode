{
 "cells": [
  {
   "cell_type": "code",
   "execution_count": 7,
   "metadata": {},
   "outputs": [
    {
     "data": {
      "text/plain": [
       "True"
      ]
     },
     "execution_count": 7,
     "metadata": {},
     "output_type": "execute_result"
    }
   ],
   "source": [
    "# 877. 石子游戏\n",
    "# https://leetcode-cn.com/problems/stone-game/\n",
    "\n",
    "# 就这样就通过了？？？ 太草率了吧\n",
    "from typing import List\n",
    "def stoneGame(piles: List[int]) -> bool:\n",
    "    Alex =[]\n",
    "    turn = True\n",
    "    while len(piles) > 0:\n",
    "        if turn:\n",
    "            if piles[0] > piles[-1]:\n",
    "                Alex.append(piles[0])\n",
    "                del piles[0]\n",
    "            else:\n",
    "                Alex.append(piles[-1])\n",
    "                piles.pop()\n",
    "        else:\n",
    "            if piles[0] > piles[-1]:\n",
    "                del piles[0]\n",
    "            else:\n",
    "                piles.pop()\n",
    "        turn = bool(1-turn)  # 反转bool类型\n",
    "    return sum(Alex) > sum(piles)/2\n",
    "    pass\n",
    "piles = [5,3,4,5,12,2,3,1,23,1,23,13,2]\n",
    "stoneGame(piles)"
   ]
  }
 ],
 "metadata": {
  "kernelspec": {
   "display_name": "Python 3",
   "language": "python",
   "name": "python3"
  },
  "language_info": {
   "codemirror_mode": {
    "name": "ipython",
    "version": 3
   },
   "file_extension": ".py",
   "mimetype": "text/x-python",
   "name": "python",
   "nbconvert_exporter": "python",
   "pygments_lexer": "ipython3",
   "version": "3.6.9"
  }
 },
 "nbformat": 4,
 "nbformat_minor": 4
}
