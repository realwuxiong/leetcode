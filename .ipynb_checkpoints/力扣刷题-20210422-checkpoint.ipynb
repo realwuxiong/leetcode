{
 "cells": [
  {
   "cell_type": "code",
   "execution_count": 1,
   "metadata": {},
   "outputs": [
    {
     "name": "stdout",
     "output_type": "stream",
     "text": [
      "2\n"
     ]
    }
   ],
   "source": [
    "# 363. 矩形区域不超过 K 的最大数值和\n",
    "# https://leetcode-cn.com/problems/max-sum-of-rectangle-no-larger-than-k/\n",
    "from typing import List\n",
    "def maxSumSubmatrix(matrix: List[List[int]], k: int) -> int:\n",
    "    pass\n",
    "matrix = [[1,0,1],[0,-2,3]]\n",
    "k = 2\n",
    "maxSumSubmatrix(matrix,k)"
   ]
  }
 ],
 "metadata": {
  "kernelspec": {
   "display_name": "Java",
   "language": "java",
   "name": "java"
  },
  "language_info": {
   "codemirror_mode": "java",
   "file_extension": ".jshell",
   "mimetype": "text/x-java-source",
   "name": "Java",
   "pygments_lexer": "java",
   "version": "11.0.10+9-Ubuntu-0ubuntu1.18.04"
  }
 },
 "nbformat": 4,
 "nbformat_minor": 4
}
