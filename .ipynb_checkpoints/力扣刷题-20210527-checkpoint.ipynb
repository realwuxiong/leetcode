{
 "cells": [
  {
   "cell_type": "code",
   "execution_count": 4,
   "metadata": {},
   "outputs": [
    {
     "name": "stdout",
     "output_type": "stream",
     "text": [
      "2\n"
     ]
    }
   ],
   "source": [
    "# 461. 汉明距离\n",
    "# https://leetcode-cn.com/problems/hamming-distance/\n",
    "# 总算来了easy题。。。\n",
    "def hammingDistance(x: int, y: int) -> int:\n",
    "    t = x ^ y\n",
    "    count = 0\n",
    "    while t:\n",
    "        t &= t-1\n",
    "        count +=1\n",
    "    print(count)\n",
    "    pass\n",
    "x ,y = 1,4\n",
    "hammingDistance(x,y)"
   ]
  }
 ],
 "metadata": {
  "kernelspec": {
   "display_name": "Python 3",
   "language": "python",
   "name": "python3"
  },
  "language_info": {
   "codemirror_mode": {
    "name": "ipython",
    "version": 3
   },
   "file_extension": ".py",
   "mimetype": "text/x-python",
   "name": "python",
   "nbconvert_exporter": "python",
   "pygments_lexer": "ipython3",
   "version": "3.6.9"
  }
 },
 "nbformat": 4,
 "nbformat_minor": 4
}
