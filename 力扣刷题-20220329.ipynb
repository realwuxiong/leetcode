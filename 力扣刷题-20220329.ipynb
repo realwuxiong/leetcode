{
 "cells": [
  {
   "cell_type": "code",
   "execution_count": 9,
   "metadata": {},
   "outputs": [
    {
     "name": "stdout",
     "output_type": "stream",
     "text": [
      "0 0 0 1\n",
      "1 0\n",
      "1 0 0 1\n",
      "2 0\n",
      "2 0 1 1\n",
      "2 1\n",
      "3 0 1 1\n",
      "3 1\n",
      "4 0 1 1\n",
      "4 1\n",
      "5 1 2 1\n",
      "3 2\n",
      "6 2 2 1\n",
      "3 2\n",
      "7 3 2 1\n",
      "4 1\n"
     ]
    },
    {
     "data": {
      "text/plain": [
       "5"
      ]
     },
     "execution_count": 9,
     "metadata": {},
     "output_type": "execute_result"
    }
   ],
   "source": [
    "# 2024. 考试的最大困扰度\n",
    "# https://leetcode-cn.com/problems/maximize-the-confusion-of-an-exam/\n",
    "\n",
    "from typing import List\n",
    "def maxConsecutiveAnswers(answerKey: str, k: int) -> int:\n",
    "    # 这个题目之前肯定是做过的\n",
    "    # 应该是用滑动窗口\n",
    "    # 果然是，这个题还不错！今天2022年29号，明天得把论文交给老周！希望毕业顺利！！\n",
    "    \n",
    "    n = len(answerKey)\n",
    "    tCount, fCount = 0, 0\n",
    "    start, end = 0, 0\n",
    "    for i in range(n):\n",
    "        if answerKey[i] == 'T':\n",
    "            tCount += 1\n",
    "        else:\n",
    "            fCount += 1\n",
    "        minAnser = min(tCount, fCount)\n",
    "        if minAnser > k:\n",
    "            if answerKey[start] == 'T':\n",
    "                tCount -= 1\n",
    "            else:\n",
    "                fCount -= 1\n",
    "            start += 1\n",
    "#         print(end,start,minAnser,k)\n",
    "#         print(tCount,fCount)\n",
    "        end += 1\n",
    "    return end - start \n",
    "\n",
    "\n",
    "answerKey = \"TTFTTFTT\"\n",
    "k = 1\n",
    "maxConsecutiveAnswers(answerKey, k)"
   ]
  }
 ],
 "metadata": {
  "kernelspec": {
   "display_name": "Python 3",
   "language": "python",
   "name": "python3"
  },
  "language_info": {
   "codemirror_mode": {
    "name": "ipython",
    "version": 3
   },
   "file_extension": ".py",
   "mimetype": "text/x-python",
   "name": "python",
   "nbconvert_exporter": "python",
   "pygments_lexer": "ipython3",
   "version": "3.6.9"
  },
  "toc-autonumbering": false,
  "toc-showcode": false,
  "toc-showmarkdowntxt": false,
  "toc-showtags": false
 },
 "nbformat": 4,
 "nbformat_minor": 4
}
