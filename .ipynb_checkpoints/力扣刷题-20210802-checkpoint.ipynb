{
 "cells": [
  {
   "cell_type": "code",
   "execution_count": null,
   "metadata": {},
   "outputs": [],
   "source": [
    "# 743. 网络延迟时间\n",
    "# https://leetcode-cn.com/problems/network-delay-time/\n",
    "\n",
    "from typing import List\n",
    "# 居然是迪杰斯特拉， 。。。直接放弃了。。明天补一补。\n",
    "def networkDelayTime(times: List[List[int]], n: int, k: int) -> int:\n",
    "    g = [[float('inf')] * n for _ in range(n)]\n",
    "    for x, y, time in times:\n",
    "        g[x - 1][y - 1] = time\n",
    "\n",
    "    dist = [float('inf')] * n\n",
    "    dist[k - 1] = 0\n",
    "    used = [False] * n\n",
    "    for _ in range(n):\n",
    "        x = -1\n",
    "        for y, u in enumerate(used):\n",
    "            if not u and (x == -1 or dist[y] < dist[x]):\n",
    "                x = y\n",
    "        used[x] = True\n",
    "        for y, time in enumerate(g[x]):\n",
    "            dist[y] = min(dist[y], dist[x] + time)\n",
    "\n",
    "    ans = max(dist)\n",
    "    return ans if ans < float('inf') else -1\n",
    "\n",
    "        \n",
    "\n",
    "times = [[2,1,1],[2,3,1],[3,4,1]]\n",
    "n = 4\n",
    "k = 2\n",
    "networkDelayTime(times,n,k)"
   ]
  },
  {
   "cell_type": "code",
   "execution_count": 26,
   "metadata": {},
   "outputs": [
    {
     "data": {
      "text/plain": [
       "2"
      ]
     },
     "execution_count": 26,
     "metadata": {},
     "output_type": "execute_result"
    }
   ],
   "source": [
    "# 回顾一下并查集\n",
    "# 547. 省份数量\n",
    "# https://leetcode-cn.com/problems/number-of-provinces/\n",
    "\n",
    "from typing import List\n",
    "def findCircleNum(isConnected: List[List[int]]) -> int:\n",
    "    # 试一试并查集\n",
    "    \n",
    "    def find(i):\n",
    "        if provinces[i] != i:\n",
    "            provinces[i] = find(provinces[i])\n",
    "        return provinces[i]\n",
    "    \n",
    "    def union(i,j):\n",
    "        provinces[find(i)] = find(j)\n",
    "    \n",
    "    n = len(isConnected)\n",
    "    provinces = list(range(n))\n",
    "    for i in range(n):\n",
    "        for j in range(n):\n",
    "            if isConnected[i][j] == 1:\n",
    "                union(i,j)\n",
    "    \n",
    "    ans = 0\n",
    "    for i, p in enumerate(provinces):\n",
    "        if i == p:\n",
    "            ans+=1\n",
    "    return ans\n",
    "    \n",
    "    pass\n",
    "isConnected = [[1,1,0],[1,1,0],[0,0,1]]\n",
    "findCircleNum(isConnected)"
   ]
  }
 ],
 "metadata": {
  "kernelspec": {
   "display_name": "Python 3",
   "language": "python",
   "name": "python3"
  },
  "language_info": {
   "codemirror_mode": {
    "name": "ipython",
    "version": 3
   },
   "file_extension": ".py",
   "mimetype": "text/x-python",
   "name": "python",
   "nbconvert_exporter": "python",
   "pygments_lexer": "ipython3",
   "version": "3.6.9"
  },
  "toc-autonumbering": false,
  "toc-showcode": false,
  "toc-showmarkdowntxt": false,
  "toc-showtags": false
 },
 "nbformat": 4,
 "nbformat_minor": 4
}
