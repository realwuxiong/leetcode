{
 "cells": [
  {
   "cell_type": "code",
   "execution_count": 41,
   "metadata": {},
   "outputs": [
    {
     "data": {
      "text/plain": [
       "False"
      ]
     },
     "execution_count": 41,
     "metadata": {},
     "output_type": "execute_result"
    }
   ],
   "source": [
    "# 523. 连续的子数组和\n",
    "# https://leetcode-cn.com/problems/continuous-subarray-sum/\n",
    "\n",
    "\n",
    "# 心态炸了啊，，还是提交不通过，最近一个星期的力扣都重新刷一刷。。。。。。。\n",
    "# 下面这个代码还是有点问题\n",
    "# from typing import List\n",
    "# def checkSubarraySum(nums: List[int], k: int) -> bool:\n",
    "#     # 前缀和\n",
    "#     total = 0\n",
    "#     sumNums = []\n",
    "#     for num in nums:\n",
    "#         total += num\n",
    "#         sumNums.append(total)\n",
    "# #     print(sumNums)\n",
    "#     for i in range(len(nums)):\n",
    "#         for j in range(i+1, len(nums)):\n",
    "#             if i >1 and (sumNums[j]-sumNums[i-1]) % k == 0 :\n",
    "#                 return True\n",
    "#             else:\n",
    "#                 if sumNums[j] % k == 0 or  sumNums[j]==0:\n",
    "#                     return True\n",
    "#     return False\n",
    "#     pass\n",
    "# nums = [23,6,9]\n",
    "# k=6\n",
    "# checkSubarraySum(nums,k)\n",
    "\n",
    "# 6月3日再刷\n",
    "from typing import List\n",
    "def checkSubarraySum(nums: List[int], k: int) -> bool:\n",
    "    # 前缀和\n",
    "    if len(nums) < 2:\n",
    "        return False\n",
    "    prefixSum = {}\n",
    "    prefixSum[0] = -1\n",
    "    remainder = 0\n",
    "    for i , num in enumerate(nums):\n",
    "        remainder = (remainder + num)%k\n",
    "        if x in prefixSum.keys():\n",
    "            if prefixSum[x] - i >= 2:\n",
    "                return True\n",
    "        else:\n",
    "            prefixSum[x] = i\n",
    "    return False\n",
    "nums = [23,2,4,6,7]\n",
    "k=6\n",
    "checkSubarraySum(nums,k)\n"
   ]
  },
  {
   "cell_type": "code",
   "execution_count": null,
   "metadata": {},
   "outputs": [],
   "source": [
    "\n",
    "class Solution {\n",
    "    public boolean checkSubarraySum(int[] nums, int k) {\n",
    "        int m = nums.length;\n",
    "        if (m < 2) {\n",
    "            return false;\n",
    "        }\n",
    "        Map<Integer, Integer> map = new HashMap<Integer, Integer>();\n",
    "        map.put(0, -1);\n",
    "        int remainder = 0;\n",
    "        for (int i = 0; i < m; i++) {\n",
    "            remainder = (remainder + nums[i]) % k;\n",
    "            if (map.containsKey(remainder)) {\n",
    "                int prevIndex = map.get(remainder);\n",
    "                if (i - prevIndex >= 2) {\n",
    "                    return true;\n",
    "                }\n",
    "            } else {\n",
    "                map.put(remainder, i);\n",
    "            }\n",
    "        }\n",
    "        return false;\n",
    "    }\n",
    "}\n",
    "\n"
   ]
  }
 ],
 "metadata": {
  "kernelspec": {
   "display_name": "Python 3",
   "language": "python",
   "name": "python3"
  },
  "language_info": {
   "codemirror_mode": {
    "name": "ipython",
    "version": 3
   },
   "file_extension": ".py",
   "mimetype": "text/x-python",
   "name": "python",
   "nbconvert_exporter": "python",
   "pygments_lexer": "ipython3",
   "version": "3.6.9"
  }
 },
 "nbformat": 4,
 "nbformat_minor": 4
}
