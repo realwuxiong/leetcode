{
 "cells": [
  {
   "cell_type": "code",
   "execution_count": 3,
   "metadata": {},
   "outputs": [
    {
     "data": {
      "text/plain": [
       "3"
      ]
     },
     "execution_count": 3,
     "metadata": {},
     "output_type": "execute_result"
    }
   ],
   "source": [
    "# 650. 只有两个键的键盘\n",
    "# https://leetcode-cn.com/problems/2-keys-keyboard/\n",
    "\n",
    "# 1 <= n <= 1000\n",
    "def minSteps(n: int) -> int:\n",
    "    # 感觉其实是一个等差数列\n",
    "    \n",
    "    if n == 1:\n",
    "        return 0\n",
    "    p = 1\n",
    "    copy = 1\n",
    "    paste = 0\n",
    "    remain = n-1\n",
    "    while remain > 0: \n",
    "#         print(remain,n,copy,paste)\n",
    "        if remain - p == 0:\n",
    "            paste += 1\n",
    "            break\n",
    "        \n",
    "        if remain % (n-remain) == 0 and p != (n-remain):\n",
    "            copy += 1\n",
    "            p = n-remain\n",
    "            remain -= p\n",
    "            paste += 1\n",
    "        else:\n",
    "            remain -= p\n",
    "            paste += 1\n",
    "        \n",
    "        \n",
    "    return copy + paste\n",
    "    \n",
    "    pass\n",
    "\n",
    "minSteps(3)"
   ]
  }
 ],
 "metadata": {
  "kernelspec": {
   "display_name": "Python 3",
   "language": "python",
   "name": "python3"
  },
  "language_info": {
   "codemirror_mode": {
    "name": "ipython",
    "version": 3
   },
   "file_extension": ".py",
   "mimetype": "text/x-python",
   "name": "python",
   "nbconvert_exporter": "python",
   "pygments_lexer": "ipython3",
   "version": "3.6.9"
  },
  "toc-autonumbering": false,
  "toc-showcode": false,
  "toc-showmarkdowntxt": false,
  "toc-showtags": false
 },
 "nbformat": 4,
 "nbformat_minor": 4
}
