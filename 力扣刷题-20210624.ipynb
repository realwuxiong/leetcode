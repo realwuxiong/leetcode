{
 "cells": [
  {
   "cell_type": "code",
   "execution_count": 16,
   "metadata": {},
   "outputs": [
    {
     "name": "stdout",
     "output_type": "stream",
     "text": [
      "1.25 0 1\n",
      "1.1428571428571428 0 2\n",
      "1.125 0 3\n",
      "1.2 0 4\n",
      "1.3333333333333333 0 5\n",
      "1.0 0 6\n",
      "1.0 1 2\n",
      "1.0 1 3\n",
      "1.0 1 4\n",
      "1.0 1 5\n",
      "1.3333333333333333 1 6\n",
      "1.0 2 3\n",
      "1.0 2 4\n",
      "1.0 2 5\n",
      "1.1666666666666667 2 6\n",
      "1.0 3 4\n",
      "1.0 3 5\n",
      "1.1428571428571428 3 6\n",
      "1.0 4 5\n",
      "1.25 4 6\n",
      "1.5 5 6\n",
      "{1.25: [0, 1, 4, 6], 1.1428571428571428: [0, 2, 3, 6], 1.125: [0, 3], 1.2: [0, 4], 1.3333333333333333: [0, 5, 1, 6], 1.0: [0, 6, 1, 2, 3, 4, 5], 1.1666666666666667: [2, 6], 1.5: [5, 6]}\n",
      "7\n"
     ]
    }
   ],
   "source": [
    "# 149. 直线上最多的点数\n",
    "# https://leetcode-cn.com/problems/max-points-on-a-line/\n",
    "from typing import List\n",
    "def maxPoints(points: List[List[int]]) -> int:\n",
    "    # 两层循环试试？\n",
    "    myHashMap ={}  # 存斜率\n",
    "    n = len(points)\n",
    "    if n==1:\n",
    "        return 1\n",
    "    for i in range(n):\n",
    "        a = points[i]\n",
    "        for j in range(i+1,n):\n",
    "            b = points[j] \n",
    "            if b[0] == a[0]:\n",
    "                if f\"{b[0]}无穷\" not in myHashMap.keys():\n",
    "                    myHashMap[f\"{b[0]}无穷\"] =[i,j]\n",
    "                    continue\n",
    "                if i not in myHashMap[f\"{b[0]}无穷\"]:\n",
    "                    myHashMap[f\"{b[0]}无穷\"].append(i)\n",
    "                if j not in myHashMap[f\"{b[0]}无穷\"]:\n",
    "                    myHashMap[f\"{b[0]}无穷\"].append(j)\n",
    "                continue\n",
    "            k =(b[1]-a[1])/(b[0]-a[0]) # 斜率\n",
    "            print(k,i,j)\n",
    "            if k in myHashMap.keys():\n",
    "                if i not in myHashMap[k]:\n",
    "                    myHashMap[k].append(i)\n",
    "                if j not in myHashMap[k]:\n",
    "                    myHashMap[k].append(j)\n",
    "            else:\n",
    "                myHashMap[k]= [i,j]\n",
    "    ans = 0\n",
    "    print(myHashMap)\n",
    "    for value in myHashMap.values():\n",
    "        ans = max(ans,len(value))\n",
    "    print(ans)\n",
    "    pass\n",
    "points = [[0,0],[4,5],[7,8],[8,9],[5,6],[3,4],[1,1]]\n",
    "maxPoints(points)"
   ]
  }
 ],
 "metadata": {
  "kernelspec": {
   "display_name": "Python 3",
   "language": "python",
   "name": "python3"
  },
  "language_info": {
   "codemirror_mode": {
    "name": "ipython",
    "version": 3
   },
   "file_extension": ".py",
   "mimetype": "text/x-python",
   "name": "python",
   "nbconvert_exporter": "python",
   "pygments_lexer": "ipython3",
   "version": "3.6.9"
  }
 },
 "nbformat": 4,
 "nbformat_minor": 4
}
