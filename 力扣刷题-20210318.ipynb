{
 "cells": [
  {
   "cell_type": "code",
   "execution_count": 12,
   "metadata": {},
   "outputs": [
    {
     "name": "stdout",
     "output_type": "stream",
     "text": [
      "2 1 3 4 5 "
     ]
    }
   ],
   "source": [
    "# 92. 反转链表 II\n",
    "# https://leetcode-cn.com/problems/reverse-linked-list-ii/\n",
    "\n",
    "# 阿里二面完第二天，流程还不更新，也不知道是过了，还是挂了。。。\n",
    "\n",
    "# 穿针引线，这个题目写出来没啥问题。。时间花的稍微久了一点点\n",
    "class ListNode:\n",
    "    def __init__(self, val=0, next=None):\n",
    "        self.val = val\n",
    "        self.next = next\n",
    "\n",
    "def reverseBetween(head, left: int, right: int):\n",
    "    a1 = ListNode(1)\n",
    "    a2 = ListNode(2)\n",
    "    a3 = ListNode(3)\n",
    "    a4 = ListNode(4)\n",
    "    a5 = ListNode(5)\n",
    "    a1.next = a2\n",
    "    a2.next = a3\n",
    "    a3.next = a4\n",
    "    a4.next = a5\n",
    "    head = a1\n",
    "    \n",
    "\n",
    "    res = ListNode()\n",
    "    p = res\n",
    "    p.next = head\n",
    "    for _ in range(0,left-1):\n",
    "        p = p.next\n",
    "    # 开始翻转\n",
    "    q = p.next\n",
    "    tail = q\n",
    "    for _ in range(right-left+1):\n",
    "        tem = q.next\n",
    "        q.next = p.next\n",
    "        p.next = q\n",
    "        tail.next = tem\n",
    "        q = tem\n",
    "    res = res.next\n",
    "    while res:\n",
    "        print(res.val,end=\" \")\n",
    "        res=res.next\n",
    "reverseBetween(None, 1, 2)"
   ]
  }
 ],
 "metadata": {
  "kernelspec": {
   "display_name": "Python 3",
   "language": "python",
   "name": "python3"
  },
  "language_info": {
   "codemirror_mode": {
    "name": "ipython",
    "version": 3
   },
   "file_extension": ".py",
   "mimetype": "text/x-python",
   "name": "python",
   "nbconvert_exporter": "python",
   "pygments_lexer": "ipython3",
   "version": "3.8.5"
  }
 },
 "nbformat": 4,
 "nbformat_minor": 4
}
