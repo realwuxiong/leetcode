{
 "cells": [
  {
   "cell_type": "code",
   "execution_count": 29,
   "metadata": {},
   "outputs": [
    {
     "data": {
      "text/plain": [
       "48"
      ]
     },
     "execution_count": 29,
     "metadata": {},
     "output_type": "execute_result"
    }
   ],
   "source": [
    "# 223. 矩形面积\n",
    "# https://leetcode-cn.com/problems/rectangle-area/\n",
    "\n",
    "def computeArea(ax1: int, ay1: int, ax2: int, ay2: int, bx1: int, by1: int, bx2: int, by2: int) -> int:\n",
    "    # 就是模拟而已，两个面积相加，然后减掉多算的那部分\n",
    "    area1 = (ay2-ay1) * (ax2-ax1)\n",
    "    area2 = (by2-by1) * (bx2-bx1)\n",
    "    redundant = 0\n",
    "    x = [ax1,ax2,bx1,bx2]\n",
    "    x.sort()\n",
    "    y = [ay1,ay2,by1,by2]\n",
    "    y.sort()\n",
    "    def isOverlap(ax1,ay1,ax2,ay2,bx1,by1,bx2,by2):\n",
    "        if (ax1>=bx2) or (ax2<=bx1) or (ay2<=by1) or (ay1>=by2):\n",
    "             return False\n",
    "        else:\n",
    "             return True\n",
    "    \n",
    "    # 判断是否有重合第地方\n",
    "    if isOverlap(ax1,ay1,ax2,ay2,bx1,by1,bx2,by2):\n",
    "        redundant = (x[2]-x[1])*(y[2]-y[1])\n",
    "    return area1+area2-redundant\n",
    "    pass\n",
    "ax1 = -5\n",
    "ay1 = -2\n",
    "ax2 = 5\n",
    "ay2 = 1\n",
    "bx1 = -3\n",
    "by1 = -3\n",
    "bx2 = 3\n",
    "by2 = 3\n",
    "computeArea(ax1,ay1,ax2,ay2,bx1,by1,bx2,by2)"
   ]
  },
  {
   "cell_type": "code",
   "execution_count": null,
   "metadata": {},
   "outputs": [],
   "source": [
    "# 答案直接秒杀我\n",
    "class Solution:\n",
    "    def computeArea(self, ax1: int, ay1: int, ax2: int, ay2: int, bx1: int, by1: int, bx2: int, by2: int) -> int:\n",
    "        area1 = (ax2 - ax1) * (ay2 - ay1)\n",
    "        area2 = (bx2 - bx1) * (by2 - by1)\n",
    "        overlapWidth = min(ax2, bx2) - max(ax1, bx1)\n",
    "        overlapHeight = min(ay2, by2) - max(ay1, by1)\n",
    "        overlapArea = max(overlapWidth, 0) * max(overlapHeight, 0)\n",
    "        return area1 + area2 - overlapArea"
   ]
  },
  {
   "cell_type": "code",
   "execution_count": 2,
   "metadata": {},
   "outputs": [
    {
     "name": "stdout",
     "output_type": "stream",
     "text": [
      "[0, 2, 3, 3, 12, 12, 21, 21, 213, 321]\n"
     ]
    }
   ],
   "source": [
    "# 再来一次快排\n",
    "\n",
    "def quickSort(start,end):\n",
    "    low = start \n",
    "    high = end\n",
    "    if low >= high:\n",
    "        return\n",
    "    t = nums[low]\n",
    "    while low < high:\n",
    "        while low < high and nums[high] >= t:\n",
    "            high -= 1\n",
    "        nums[low] = nums[high]\n",
    "        while low < high and nums[low] <= t:\n",
    "            low += 1\n",
    "        nums[high] = nums[low]\n",
    "    nums[low] = t\n",
    "    quickSort(start,low-1)\n",
    "    quickSort(high+1,end)\n",
    "nums = [2,12,12,3,213,21,3,21,321,0]\n",
    "quickSort(0,len(nums)-1)\n",
    "print(nums)\n",
    "        "
   ]
  }
 ],
 "metadata": {
  "kernelspec": {
   "display_name": "Python 3",
   "language": "python",
   "name": "python3"
  },
  "language_info": {
   "codemirror_mode": {
    "name": "ipython",
    "version": 3
   },
   "file_extension": ".py",
   "mimetype": "text/x-python",
   "name": "python",
   "nbconvert_exporter": "python",
   "pygments_lexer": "ipython3",
   "version": "3.6.9"
  },
  "toc-autonumbering": false,
  "toc-showcode": false,
  "toc-showmarkdowntxt": false,
  "toc-showtags": false
 },
 "nbformat": 4,
 "nbformat_minor": 4
}
