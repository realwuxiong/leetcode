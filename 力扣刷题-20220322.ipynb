{
 "cells": [
  {
   "cell_type": "code",
   "execution_count": 9,
   "metadata": {},
   "outputs": [
    {
     "data": {
      "text/plain": [
       "False"
      ]
     },
     "execution_count": 9,
     "metadata": {},
     "output_type": "execute_result"
    }
   ],
   "source": [
    "# 2038. 如果相邻两个颜色均相同则删除当前颜色\n",
    "# https://leetcode-cn.com/problems/remove-colored-pieces-if-both-neighbors-are-the-same-color/\n",
    "\n",
    "def winnerOfGame(colors: str) -> bool:\n",
    "    \n",
    "    # 题目的思路：遍历数组，统计连续的A和B有多少个，连续3个A，只能抽一次所以要减2\n",
    "    Alice = []\n",
    "    Bob = []\n",
    "    \n",
    "    Acount = 0\n",
    "    Bcount = 0\n",
    "    \n",
    "    flag = True  # True代表上一步是A\n",
    "    if colors[0] == \"A\":\n",
    "        Acount += 1\n",
    "    else:\n",
    "        Bcount += 1\n",
    "        flag = False\n",
    "    \n",
    "    for i in range(1, len(colors)):\n",
    "        if colors[i] == \"A\" :\n",
    "            if flag:  # 如果上一步也是A\n",
    "                Acount += 1\n",
    "            else:  # 否则是B要重新计数，并开始统计Bcount的数目\n",
    "                if Bcount >= 3:  # 小于3的不需要统计\n",
    "                    Bob.append(Bcount-2)  # 代表能够抽几次\n",
    "                Acount = 1\n",
    "\n",
    "            flag = True\n",
    "            pass\n",
    "        else:\n",
    "            if not flag:\n",
    "                Bcount += 1\n",
    "            else:\n",
    "                if Acount >= 3:\n",
    "                    Alice.append(Acount-2)\n",
    "                Bcount = 1\n",
    "            flag = False\n",
    "    if flag and Acount >= 3:\n",
    "        Alice.append(Acount-2)\n",
    "    elif not flag and Bcount >= 3:\n",
    "        Bob.append(Bcount-2)\n",
    "    return sum(Alice) > sum(Bob)\n",
    "    \n",
    "    pass\n",
    "\n",
    "colors = \"AAAABBBBBBAAA\"\n",
    "winnerOfGame(colors)"
   ]
  }
 ],
 "metadata": {
  "kernelspec": {
   "display_name": "Python 3",
   "language": "python",
   "name": "python3"
  },
  "language_info": {
   "codemirror_mode": {
    "name": "ipython",
    "version": 3
   },
   "file_extension": ".py",
   "mimetype": "text/x-python",
   "name": "python",
   "nbconvert_exporter": "python",
   "pygments_lexer": "ipython3",
   "version": "3.6.9"
  },
  "toc-autonumbering": false,
  "toc-showcode": false,
  "toc-showmarkdowntxt": false,
  "toc-showtags": false
 },
 "nbformat": 4,
 "nbformat_minor": 4
}
