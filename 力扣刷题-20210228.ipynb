{
 "cells": [
  {
   "cell_type": "code",
   "execution_count": 18,
   "metadata": {},
   "outputs": [
    {
     "data": {
      "text/plain": [
       "False"
      ]
     },
     "execution_count": 18,
     "metadata": {},
     "output_type": "execute_result"
    }
   ],
   "source": [
    "# 896. 单调数列\n",
    "# https://leetcode-cn.com/problems/monotonic-array/\n",
    "from typing import List\n",
    "def isMonotonic( A: List[int]) -> bool:\n",
    "    asc = 1\n",
    "    desc = 1\n",
    "    for i in range(1,len(A)):   #判断单调递增\n",
    "        if A[i] - A[i-1] < 0: #单调增\n",
    "            asc = 0\n",
    "            break\n",
    "    if asc:\n",
    "        return True\n",
    "    for i in range(1,len(A)):   #判断单调递减\n",
    "        if A[i] - A[i-1] > 0: #单调减\n",
    "            desc = 0\n",
    "            break\n",
    "    if desc:\n",
    "        return True\n",
    "    return False\n",
    "\n",
    "A = [1,1,3,1]\n",
    "isMonotonic(A)"
   ]
  }
 ],
 "metadata": {
  "kernelspec": {
   "display_name": "Python 3",
   "language": "python",
   "name": "python3"
  },
  "language_info": {
   "codemirror_mode": {
    "name": "ipython",
    "version": 3
   },
   "file_extension": ".py",
   "mimetype": "text/x-python",
   "name": "python",
   "nbconvert_exporter": "python",
   "pygments_lexer": "ipython3",
   "version": "3.8.5"
  }
 },
 "nbformat": 4,
 "nbformat_minor": 4
}
