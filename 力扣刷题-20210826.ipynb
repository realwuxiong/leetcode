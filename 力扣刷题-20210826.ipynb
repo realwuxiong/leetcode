{
 "cells": [
  {
   "cell_type": "code",
   "execution_count": 13,
   "metadata": {},
   "outputs": [
    {
     "data": {
      "text/plain": [
       "3"
      ]
     },
     "execution_count": 13,
     "metadata": {},
     "output_type": "execute_result"
    }
   ],
   "source": [
    "# 881. 救生艇\n",
    "# https://leetcode-cn.com/problems/boats-to-save-people/\n",
    "\n",
    "from typing import List\n",
    "def numRescueBoats(people: List[int], limit: int) -> int:\n",
    "    # 排序\n",
    "    # 但是超出了时间限制。。。,\n",
    "    count = 0\n",
    "    people.sort(reverse=True)\n",
    "    while people:\n",
    "        t = people[0]\n",
    "        del people[0]\n",
    "        \n",
    "        if limit - t in people:\n",
    "            count += 1\n",
    "            del people[people.index(limit - t)]\n",
    "            continue\n",
    "        \n",
    "        x = -1\n",
    "        for i,p in enumerate(people):\n",
    "            if p+t <= limit:\n",
    "                x = p\n",
    "                break\n",
    "        if x != -1:\n",
    "            del people[i]\n",
    "        count += 1\n",
    "    return count\n",
    "people =[21,40,16,24,30]\n",
    "limit = 50\n",
    "numRescueBoats(people,limit)"
   ]
  },
  {
   "cell_type": "code",
   "execution_count": 16,
   "metadata": {},
   "outputs": [
    {
     "data": {
      "text/plain": [
       "3"
      ]
     },
     "execution_count": 16,
     "metadata": {},
     "output_type": "execute_result"
    }
   ],
   "source": [
    "\n",
    "from typing import List\n",
    "def numRescueBoats(people: List[int], limit: int) -> int:\n",
    "    # 排序\n",
    "    # 换一个思路,其实思路是对的，用指针就行（看的答案）\n",
    "    # 我操，看漏了条件，最多只能坐两个人\n",
    "    \n",
    "    people.sort()\n",
    "    \n",
    "    i,j = 0, len(people)-1\n",
    "    ans = 0\n",
    "    while i < j:\n",
    "        if people[j] + people[i] > limit:\n",
    "            j -= 1\n",
    "        else:\n",
    "            i += 1\n",
    "            j -= 1\n",
    "        ans += 1\n",
    "    return ans\n",
    "    \n",
    "people =[21,40,16,24,30]\n",
    "limit = 50\n",
    "numRescueBoats(people,limit)"
   ]
  }
 ],
 "metadata": {
  "kernelspec": {
   "display_name": "Python 3",
   "language": "python",
   "name": "python3"
  },
  "language_info": {
   "codemirror_mode": {
    "name": "ipython",
    "version": 3
   },
   "file_extension": ".py",
   "mimetype": "text/x-python",
   "name": "python",
   "nbconvert_exporter": "python",
   "pygments_lexer": "ipython3",
   "version": "3.6.9"
  },
  "toc-autonumbering": false,
  "toc-showcode": false,
  "toc-showmarkdowntxt": false,
  "toc-showtags": false
 },
 "nbformat": 4,
 "nbformat_minor": 4
}
