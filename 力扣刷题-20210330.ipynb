{
 "cells": [
  {
   "cell_type": "code",
   "execution_count": 3,
   "metadata": {},
   "outputs": [
    {
     "name": "stdout",
     "output_type": "stream",
     "text": [
      "True\n"
     ]
    }
   ],
   "source": [
    "# 74. 搜索二维矩阵\n",
    "# https://leetcode-cn.com/problems/search-a-2d-matrix/\n",
    "# 太菜了，还得继续努力，标准答案的另外一种方法，先找到对应的行，再用二分法。\n",
    "from typing import List\n",
    "def func(matrix,target):\n",
    "    stack = []\n",
    "    for i in range(len(matrix)):\n",
    "        for j in range(len(matrix[0])):\n",
    "            stack.append(matrix[i][j])\n",
    "    low = 0 \n",
    "    high = len(stack)-1\n",
    "    while low <= high:\n",
    "        middle = (low+high) // 2\n",
    "        if stack[middle] == target:\n",
    "            return True\n",
    "        if stack[middle] < target:\n",
    "            low = middle + 1\n",
    "        if stack[middle] > target:\n",
    "            high = middle - 1\n",
    "    return False\n",
    "    \n",
    "def searchMatrix(matrix: List[List[int]], target: int) -> bool:\n",
    "    # 感觉用二分法\n",
    "    print(func(matrix,target))\n",
    "    pass\n",
    "matrix = [[1,3,5,7],[10,11,16,20],[23,30,34,60]]\n",
    "target = 7\n",
    "searchMatrix(matrix,target)"
   ]
  }
 ],
 "metadata": {
  "kernelspec": {
   "display_name": "Python 3",
   "language": "python",
   "name": "python3"
  },
  "language_info": {
   "codemirror_mode": {
    "name": "ipython",
    "version": 3
   },
   "file_extension": ".py",
   "mimetype": "text/x-python",
   "name": "python",
   "nbconvert_exporter": "python",
   "pygments_lexer": "ipython3",
   "version": "3.8.5"
  }
 },
 "nbformat": 4,
 "nbformat_minor": 4
}
