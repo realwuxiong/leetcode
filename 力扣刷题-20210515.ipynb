{
 "cells": [
  {
   "cell_type": "code",
   "execution_count": 13,
   "metadata": {},
   "outputs": [
    {
     "name": "stdout",
     "output_type": "stream",
     "text": [
      "1994\n"
     ]
    }
   ],
   "source": [
    "# 13. 罗马数字转整数\n",
    "# https://leetcode-cn.com/problems/roman-to-integer/\n",
    "# 这个题目就很简单了，昨天的题目。。\n",
    "# 但是标准答案写的更加的好看，非常的nice\n",
    "def romanToInt(s: str) -> int:\n",
    "    romanNumber = [\"MMM\",'MM','M',\n",
    "                   \"CM\",\"DCCC\",\"DCC\",\"DC\",\"D\",\"CD\",\"CCC\",\"CC\",\"C\",\n",
    "                  \"XC\",\"LXXX\",\"LXX\",'LX',\"L\",\"XL\",\"XXX\",\"XX\",\"X\",\n",
    "                  \"IX\",\"VIII\",\"VII\",\"VI\",\"V\",\"IV\",\"III\",\"II\",\"I\"]\n",
    "    number =[3000,2000,1000,\n",
    "            900,800,700,600,500,400,300,200,100,\n",
    "            90,80,70,60,50,40,30,20,10,\n",
    "            9,8,7,6,5,4,3,2,1]\n",
    "    index = 0\n",
    "    n = len(romanNumber)\n",
    "    ans = 0\n",
    "    while(s):\n",
    "        while(index<n):\n",
    "            if s.startswith(romanNumber[index]):\n",
    "                ans += number[index]\n",
    "                s = s[len(romanNumber[index]):]\n",
    "                index += 1\n",
    "                break\n",
    "            index += 1\n",
    "    print(ans)\n",
    "    pass\n",
    "romanToInt(\"MCMXCIV\")"
   ]
  }
 ],
 "metadata": {
  "kernelspec": {
   "display_name": "Python 3",
   "language": "python",
   "name": "python3"
  },
  "language_info": {
   "codemirror_mode": {
    "name": "ipython",
    "version": 3
   },
   "file_extension": ".py",
   "mimetype": "text/x-python",
   "name": "python",
   "nbconvert_exporter": "python",
   "pygments_lexer": "ipython3",
   "version": "3.6.9"
  }
 },
 "nbformat": 4,
 "nbformat_minor": 4
}
