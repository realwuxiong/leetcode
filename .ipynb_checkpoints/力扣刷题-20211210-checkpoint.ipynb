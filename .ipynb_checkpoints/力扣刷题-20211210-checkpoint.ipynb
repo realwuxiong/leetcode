{
 "cells": [
  {
   "cell_type": "code",
   "execution_count": 2,
   "metadata": {},
   "outputs": [
    {
     "data": {
      "text/plain": [
       "'enough'"
      ]
     },
     "execution_count": 2,
     "metadata": {},
     "output_type": "execute_result"
    }
   ],
   "source": [
    "# 748. 最短补全词\n",
    "# https://leetcode-cn.com/problems/shortest-completing-word/\n",
    "\n",
    "from typing import List\n",
    "def shortestCompletingWord(licensePlate: str, words: List[str]) -> str:\n",
    "    a = [0]*26\n",
    "    licensePlate = licensePlate.lower()\n",
    "    for w in licensePlate:\n",
    "        if 'a' <= w <= 'z':\n",
    "            a[ord(w)-97] += 1\n",
    "    ans = \"\"\n",
    "    t = 10000\n",
    "    for word in words:\n",
    "        b = [0]*26\n",
    "        word_length = len(word)\n",
    "        if word_length>t:\n",
    "            continue\n",
    "        for ww in word:\n",
    "            if 'a' <= ww <= 'z':\n",
    "                b[ord(ww)-97] += 1\n",
    "        for i in range(26):\n",
    "            if b[i] < a[i]:\n",
    "                break\n",
    "        else:\n",
    "            if word_length < t:\n",
    "                ans = word\n",
    "                t = word_length\n",
    "    return ans\n",
    "    \n",
    "\n",
    "licensePlate = \"OgEu755\"\n",
    "words = [\"enough\",\"these\",\"play\",\"wide\",\"wonder\",\"box\",\"arrive\",\"money\",\"tax\",\"thus\"]\n",
    "shortestCompletingWord(licensePlate,words)\n"
   ]
  },
  {
   "cell_type": "code",
   "execution_count": null,
   "metadata": {},
   "outputs": [],
   "source": [
    "# 代码的答案也太...............\n",
    "class Solution:\n",
    "    def shortestCompletingWord(self, licensePlate: str, words: List[str]) -> str:\n",
    "        cnt = Counter(ch.lower() for ch in licensePlate if ch.isalpha())\n",
    "        return min((word for word in words if not cnt - Counter(word)), key=len)"
   ]
  }
 ],
 "metadata": {
  "kernelspec": {
   "display_name": "Python 3",
   "language": "python",
   "name": "python3"
  },
  "language_info": {
   "codemirror_mode": {
    "name": "ipython",
    "version": 3
   },
   "file_extension": ".py",
   "mimetype": "text/x-python",
   "name": "python",
   "nbconvert_exporter": "python",
   "pygments_lexer": "ipython3",
   "version": "3.6.9"
  },
  "toc-autonumbering": false,
  "toc-showcode": false,
  "toc-showmarkdowntxt": false,
  "toc-showtags": false
 },
 "nbformat": 4,
 "nbformat_minor": 4
}
