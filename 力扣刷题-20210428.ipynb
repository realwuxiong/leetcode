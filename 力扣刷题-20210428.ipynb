{
 "cells": [
  {
   "cell_type": "code",
   "execution_count": 6,
   "metadata": {},
   "outputs": [
    {
     "data": {
      "text/plain": [
       "True"
      ]
     },
     "execution_count": 6,
     "metadata": {},
     "output_type": "execute_result"
    }
   ],
   "source": [
    "# 633. 平方数之和\n",
    "# https://leetcode-cn.com/problems/sum-of-square-numbers/\n",
    "# 双指针\n",
    "import math\n",
    "def judgeSquareSum(c: int) -> bool:\n",
    "    left = 0\n",
    "    right = int(math.sqrt(c))\n",
    "    while left <= right:\n",
    "        t = left**2+right**2\n",
    "        if t == c:\n",
    "            return True\n",
    "        \n",
    "        if t < c:\n",
    "            left += 1\n",
    "        else:\n",
    "            right -= 1\n",
    "    return False\n",
    "c = 2\n",
    "judgeSquareSum(2)"
   ]
  },
  {
   "cell_type": "code",
   "execution_count": 10,
   "metadata": {},
   "outputs": [
    {
     "data": {
      "text/plain": [
       "false"
      ]
     },
     "execution_count": 10,
     "metadata": {},
     "output_type": "execute_result"
    }
   ],
   "source": [
    "// java版本\n",
    "// 双指针真的漂亮啊\n",
    "public boolean judgeSquareSum(int c) {\n",
    "    int left = 0;\n",
    "    int right = (int)Math.sqrt(c);\n",
    "    int t;\n",
    "//     System.out.println(right);\n",
    "    while(left <= right){\n",
    "        t =  left*left+right*right;\n",
    "        if(t == c)return true;\n",
    "        if(t<c)++left;\n",
    "        else --right;\n",
    "    }\n",
    "    return false;\n",
    "}\n",
    "judgeSquareSum(3)"
   ]
  },
  {
   "cell_type": "code",
   "execution_count": 12,
   "metadata": {},
   "outputs": [
    {
     "data": {
      "text/plain": [
       "15"
      ]
     },
     "execution_count": 12,
     "metadata": {},
     "output_type": "execute_result"
    }
   ],
   "source": [
    "# 最低运载量二刷\n",
    "# 1011. 在 D 天内送达包裹的能力\n",
    "from typing import List\n",
    "def shipWithinDays(weights: List[int], D: int) -> int:\n",
    "    # 二分法去找最低运送能力\n",
    "    left = max(weights)\n",
    "    right = sum(weights)\n",
    "    while left <= right:\n",
    "        mid = (left+right)//2\n",
    "        cur = 0\n",
    "        need = 1\n",
    "        for weight in weights:\n",
    "            if cur + weight <= mid:\n",
    "                cur += weight\n",
    "            else:\n",
    "                cur = weight\n",
    "                need += 1\n",
    "#         print(left,right,mid,need,D)\n",
    "        if need > D:\n",
    "            left = mid+1\n",
    "        else:\n",
    "            right = mid -1\n",
    "    return left\n",
    "weights = [1,2,3,4,5,6,7,8,9,10]\n",
    "D = 5\n",
    "shipWithinDays(weights,D)"
   ]
  },
  {
   "cell_type": "code",
   "execution_count": 30,
   "metadata": {},
   "outputs": [
    {
     "data": {
      "text/plain": [
       "4"
      ]
     },
     "execution_count": 30,
     "metadata": {},
     "output_type": "execute_result"
    }
   ],
   "source": [
    "# 二分法 确定最小速度，最小运载量\n",
    "# 875. 爱吃香蕉的珂珂\n",
    "# 还是用二分法试试\n",
    "# 懂了方法就很easy\n",
    "from typing import List\n",
    "import math\n",
    "def minEatingSpeed(piles: List[int], h: int) -> int:\n",
    "    slow = 1\n",
    "    fast = max(piles)\n",
    "    while slow <= fast:\n",
    "        mid = (slow+fast)//2\n",
    "        need = 0\n",
    "        for pile in piles:\n",
    "            cur = math.ceil(pile/mid*1.0)\n",
    "            need += cur\n",
    "        if need > h:\n",
    "            slow = mid + 1\n",
    "        else:\n",
    "            fast = mid -1\n",
    "    return slow\n",
    "    pass\n",
    "piles = [3,6,7,11]\n",
    "H = 8\n",
    "minEatingSpeed(piles,H)"
   ]
  },
  {
   "cell_type": "code",
   "execution_count": 73,
   "metadata": {},
   "outputs": [
    {
     "data": {
      "text/plain": [
       "18"
      ]
     },
     "execution_count": 73,
     "metadata": {},
     "output_type": "execute_result"
    }
   ],
   "source": [
    "# 再来一题\n",
    "# 410. 分割数组的最大值\n",
    "from typing import List\n",
    "def splitArray(nums: List[int], m: int) -> int:\n",
    "    left = max(nums)\n",
    "    right = sum(nums)\n",
    "    while left <= right:\n",
    "        mid = (left+right)//2\n",
    "        cur = 0\n",
    "        need = 1\n",
    "        for num in nums:\n",
    "            if num + cur <= mid:\n",
    "                cur += num\n",
    "            else:\n",
    "                cur = num\n",
    "                need += 1\n",
    "        if need >  m:\n",
    "            left = mid + 1\n",
    "        else:\n",
    "            right = mid - 1\n",
    "            \n",
    "    return left\n",
    "nums = [7,2,5,10,8]\n",
    "m = 2\n",
    "splitArray(nums,m)"
   ]
  }
 ],
 "metadata": {
  "kernelspec": {
   "display_name": "Python 3",
   "language": "python",
   "name": "python3"
  },
  "language_info": {
   "codemirror_mode": {
    "name": "ipython",
    "version": 3
   },
   "file_extension": ".py",
   "mimetype": "text/x-python",
   "name": "python",
   "nbconvert_exporter": "python",
   "pygments_lexer": "ipython3",
   "version": "3.6.9"
  }
 },
 "nbformat": 4,
 "nbformat_minor": 4
}
