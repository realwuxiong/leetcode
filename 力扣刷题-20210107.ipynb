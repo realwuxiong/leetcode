{
 "cells": [
  {
   "cell_type": "code",
   "execution_count": 26,
   "metadata": {},
   "outputs": [
    {
     "data": {
      "text/plain": [
       "1"
      ]
     },
     "execution_count": 26,
     "metadata": {},
     "output_type": "execute_result"
    }
   ],
   "source": [
    "# 547. 省份数量\n",
    "# https://leetcode-cn.com/problems/number-of-provinces/\n",
    "\n",
    "# 深度搜索\n",
    "\n",
    "def findCircleNum( isConnected) -> int:\n",
    "    def dfs(i):\n",
    "        for j in range(n):\n",
    "            if(isConnected[i][j] == 1 and j  not in visit):\n",
    "                visit.add(j)\n",
    "                dfs(j)\n",
    "        pass\n",
    "    n = len(isConnected)\n",
    "    visit=set()\n",
    "    circles = 0\n",
    "    for i in range(n):\n",
    "        if i not in visit:\n",
    "            dfs(i)\n",
    "            circles += 1\n",
    "    return circles\n",
    "isConnected = [[1,0,0,1],[0,1,1,0],[0,1,1,1],[1,0,1,1]]\n",
    "findCircleNum(isConnected)"
   ]
  },
  {
   "cell_type": "code",
   "execution_count": 28,
   "metadata": {},
   "outputs": [
    {
     "data": {
      "text/plain": [
       "1"
      ]
     },
     "execution_count": 28,
     "metadata": {},
     "output_type": "execute_result"
    }
   ],
   "source": [
    "# 并查集\n",
    "\n",
    "def findCircleNum2( isConnected) -> int:\n",
    "    def find(index: int) -> int:\n",
    "        if parent[index] != index:\n",
    "            parent[index] = find(parent[index])\n",
    "        return parent[index]\n",
    "\n",
    "    def union(index1: int, index2: int):\n",
    "        parent[find(index1)] = find(index2)\n",
    "\n",
    "    provinces = len(isConnected)\n",
    "    parent = list(range(provinces))\n",
    "\n",
    "    for i in range(provinces):\n",
    "        for j in range(i + 1, provinces):\n",
    "            if isConnected[i][j] == 1:\n",
    "                union(i, j)\n",
    "\n",
    "    circles = sum(parent[i] == i for i in range(provinces))\n",
    "    return circles\n",
    "\n",
    "isConnected = [[1,0,0,1],[0,1,1,0],[0,1,1,1],[1,0,1,1]]\n",
    "findCircleNum2(isConnected)"
   ]
  }
 ],
 "metadata": {
  "kernelspec": {
   "display_name": "Python 3",
   "language": "python",
   "name": "python3"
  },
  "language_info": {
   "codemirror_mode": {
    "name": "ipython",
    "version": 3
   },
   "file_extension": ".py",
   "mimetype": "text/x-python",
   "name": "python",
   "nbconvert_exporter": "python",
   "pygments_lexer": "ipython3",
   "version": "3.8.5"
  }
 },
 "nbformat": 4,
 "nbformat_minor": 4
}
