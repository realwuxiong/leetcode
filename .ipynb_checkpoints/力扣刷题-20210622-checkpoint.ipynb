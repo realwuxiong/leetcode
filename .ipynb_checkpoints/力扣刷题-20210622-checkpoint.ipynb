{
 "cells": [
  {
   "cell_type": "code",
   "execution_count": 7,
   "metadata": {},
   "outputs": [
    {
     "name": "stdout",
     "output_type": "stream",
     "text": [
      "[]\n"
     ]
    }
   ],
   "source": [
    "# 剑指 Offer 38. 字符串的排列\n",
    "# https://leetcode-cn.com/problems/zi-fu-chuan-de-pai-lie-lcof/\n",
    "def permutation(s: str):\n",
    "    s = list(set(s))\n",
    "    \n",
    "    n = len(s)\n",
    "    ans = []\n",
    "    stack = []\n",
    "    def dfs(i):\n",
    "        if i > n:\n",
    "            return \n",
    "        if len(stack) == n:\n",
    "            ans.append(\"\".join(stack[:]))\n",
    "        for j in range(i,n):\n",
    "            stack.append(s[j])\n",
    "            dfs(j+1)\n",
    "            stack.pop()\n",
    "    dfs(0)\n",
    "    print(ans)\n",
    "    pass\n",
    "s = \"abc\"\n",
    "permutation(s)"
   ]
  }
 ],
 "metadata": {
  "kernelspec": {
   "display_name": "Python 3",
   "language": "python",
   "name": "python3"
  },
  "language_info": {
   "codemirror_mode": {
    "name": "ipython",
    "version": 3
   },
   "file_extension": ".py",
   "mimetype": "text/x-python",
   "name": "python",
   "nbconvert_exporter": "python",
   "pygments_lexer": "ipython3",
   "version": "3.6.9"
  }
 },
 "nbformat": 4,
 "nbformat_minor": 4
}
