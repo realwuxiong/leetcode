{
 "cells": [
  {
   "cell_type": "code",
   "execution_count": 2,
   "metadata": {},
   "outputs": [
    {
     "name": "stdout",
     "output_type": "stream",
     "text": [
      "False\n"
     ]
    }
   ],
   "source": [
    "# 力扣刷题\n",
    "# 2020年12月16日\n",
    "# 吴雄\n",
    "# https://leetcode-cn.com/problems/word-pattern/\n",
    "\n",
    "def wordPattern(pattern: str, s: str) -> bool:\n",
    "    dic={}\n",
    "    pattern_array = [i for i in pattern]\n",
    "    s_array = s.split(\" \")\n",
    "    if(len(pattern_array)!=len(s_array) or (len(set(pattern_array))!=len(set(s_array)))):\n",
    "        return False\n",
    "    for index, p in enumerate(pattern_array) :\n",
    "        try:\n",
    "            if(dic[p]!=s_array[index]):\n",
    "                return False\n",
    "        except Exception as e:\n",
    "            dic[p] = s_array[index]\n",
    "    return True\n",
    "        \n",
    "print(wordPattern(\"abba\",\"dog dog dog dog\"))"
   ]
  },
  {
   "cell_type": "code",
   "execution_count": 3,
   "metadata": {},
   "outputs": [
    {
     "name": "stdout",
     "output_type": "stream",
     "text": [
      "[1, 4, 5]\n",
      "[1, 3, 4]\n",
      "[2, 6]\n"
     ]
    }
   ],
   "source": [
    "# 刷第二题\n",
    "#\n",
    "# https://leetcode-cn.com/problems/merge-k-sorted-lists/\n",
    "#\n",
    "\n",
    "def mergeKLists(lists):\n",
    "    for i in lists:\n",
    "        print(i)\n",
    "mergeKLists([[1,4,5],[1,3,4],[2,6]])"
   ]
  }
 ],
 "metadata": {
  "kernelspec": {
   "display_name": "Python 3",
   "language": "python",
   "name": "python3"
  },
  "language_info": {
   "codemirror_mode": {
    "name": "ipython",
    "version": 3
   },
   "file_extension": ".py",
   "mimetype": "text/x-python",
   "name": "python",
   "nbconvert_exporter": "python",
   "pygments_lexer": "ipython3",
   "version": "3.6.9"
  }
 },
 "nbformat": 4,
 "nbformat_minor": 4
}
