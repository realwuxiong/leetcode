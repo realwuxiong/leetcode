{
 "cells": [
  {
   "cell_type": "code",
   "execution_count": 1,
   "metadata": {},
   "outputs": [
    {
     "data": {
      "text/plain": [
       "[1, 3, 6, 10]"
      ]
     },
     "execution_count": 1,
     "metadata": {},
     "output_type": "execute_result"
    }
   ],
   "source": [
    "# 1480. 一维数组的动态和\n",
    "# https://leetcode-cn.com/problems/running-sum-of-1d-array/\n",
    "\n",
    "from typing import List\n",
    "def runningSum(nums: List[int]) -> List[int]:\n",
    "    # 前缀和\n",
    "    ans = []\n",
    "    for num in nums:\n",
    "        if not ans:\n",
    "            ans.append(num)\n",
    "            continue\n",
    "        ans.append(ans[-1]+num)\n",
    "    return ans\n",
    "nums = [1,2,3,4]\n",
    "runningSum(nums)"
   ]
  }
 ],
 "metadata": {
  "kernelspec": {
   "display_name": "Python 3",
   "language": "python",
   "name": "python3"
  },
  "language_info": {
   "codemirror_mode": {
    "name": "ipython",
    "version": 3
   },
   "file_extension": ".py",
   "mimetype": "text/x-python",
   "name": "python",
   "nbconvert_exporter": "python",
   "pygments_lexer": "ipython3",
   "version": "3.6.9"
  },
  "toc-autonumbering": false,
  "toc-showcode": false,
  "toc-showmarkdowntxt": false,
  "toc-showtags": false
 },
 "nbformat": 4,
 "nbformat_minor": 4
}
