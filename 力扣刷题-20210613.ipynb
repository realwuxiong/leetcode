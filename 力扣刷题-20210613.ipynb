{
 "cells": [
  {
   "cell_type": "code",
   "execution_count": null,
   "metadata": {},
   "outputs": [],
   "source": [
    "# 278. 第一个错误的版本\n",
    "# https://leetcode-cn.com/problems/first-bad-version/\n",
    "\n",
    "# The isBadVersion API is already defined for you.\n",
    "# @param version, an integer\n",
    "# @return an integer\n",
    "# def isBadVersion(version):\n",
    "\n",
    "class Solution:\n",
    "    def firstBadVersion(self, n):\n",
    "        \"\"\"\n",
    "        :type n: int\n",
    "        :rtype: int\n",
    "        \"\"\"\n",
    "        # 一看就是二分法？一下子就写出来咯。。。\n",
    "        def binarySearch(n,m):\n",
    "            low = n\n",
    "            high = m\n",
    "            while low <= high:\n",
    "                mid = (low+high)//2\n",
    "                # print(mid,isBadVersion(mid))\n",
    "                if isBadVersion(mid):\n",
    "                    high = mid-1\n",
    "                else:\n",
    "                    low = mid + 1\n",
    "            return low\n",
    "        ans = binarySearch(1,n)\n",
    "\n",
    "        print(ans)\n",
    "        return ans\n",
    "        pass"
   ]
  }
 ],
 "metadata": {
  "kernelspec": {
   "display_name": "Python 3",
   "language": "python",
   "name": "python3"
  },
  "language_info": {
   "codemirror_mode": {
    "name": "ipython",
    "version": 3
   },
   "file_extension": ".py",
   "mimetype": "text/x-python",
   "name": "python",
   "nbconvert_exporter": "python",
   "pygments_lexer": "ipython3",
   "version": "3.6.9"
  }
 },
 "nbformat": 4,
 "nbformat_minor": 4
}
