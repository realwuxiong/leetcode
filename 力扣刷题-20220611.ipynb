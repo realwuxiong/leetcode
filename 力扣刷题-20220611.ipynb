{
 "cells": [
  {
   "cell_type": "code",
   "execution_count": 4,
   "metadata": {},
   "outputs": [
    {
     "name": "stdout",
     "output_type": "stream",
     "text": [
      "5\n",
      "2\n"
     ]
    }
   ],
   "source": [
    "# 926. 将字符串翻转到单调递增\n",
    "# https://leetcode.cn/problems/flip-string-to-monotone-increasing/\n",
    "\n",
    "def minFlipsMonoIncr(s: str) -> int:\n",
    "    # 用动态规划呢\n",
    "    \n",
    "    # 抄的答案，后面再做一下这个题\n",
    "    dp0 = dp1 = 0\n",
    "    for c in s:\n",
    "        dp0New, dp1New = dp0, min(dp0, dp1)\n",
    "        if c == '1':\n",
    "            dp0New += 1\n",
    "        else:\n",
    "            dp1New += 1\n",
    "        dp0, dp1 = dp0New, dp1New\n",
    "    return min(dp0, dp1)\n",
    "\n",
    "\n",
    "\n",
    "s = \"0010010\"\n",
    "minFlipsMonoIncr(s)\n"
   ]
  }
 ],
 "metadata": {
  "kernelspec": {
   "display_name": "Python 3",
   "language": "python",
   "name": "python3"
  },
  "language_info": {
   "codemirror_mode": {
    "name": "ipython",
    "version": 3
   },
   "file_extension": ".py",
   "mimetype": "text/x-python",
   "name": "python",
   "nbconvert_exporter": "python",
   "pygments_lexer": "ipython3",
   "version": "3.6.9"
  },
  "toc-autonumbering": false,
  "toc-showcode": false,
  "toc-showmarkdowntxt": false,
  "toc-showtags": false
 },
 "nbformat": 4,
 "nbformat_minor": 4
}
