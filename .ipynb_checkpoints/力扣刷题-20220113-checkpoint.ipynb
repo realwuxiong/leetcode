{
 "cells": [
  {
   "cell_type": "code",
   "execution_count": 9,
   "metadata": {},
   "outputs": [
    {
     "name": "stdout",
     "output_type": "stream",
     "text": [
      "2 0\n"
     ]
    },
    {
     "data": {
      "text/plain": [
       "2"
      ]
     },
     "execution_count": 9,
     "metadata": {},
     "output_type": "execute_result"
    }
   ],
   "source": [
    "# 747. 至少是其他数字两倍的最大数\n",
    "# https://leetcode-cn.com/problems/largest-number-at-least-twice-of-others/\n",
    "\n",
    "from typing import List\n",
    "def dominantIndex(nums: List[int]) -> int:\n",
    "    # 只用比最大的数和第二大的数\n",
    "    first = max(nums)\n",
    "    ans = -1\n",
    "    second = float(\"-inf\")\n",
    "    for i in range(len(nums)):\n",
    "        if second < nums[i] and second != first:\n",
    "            second = nums[i]\n",
    "    \n",
    "nums = [0,0,3,2]\n",
    "dominantIndex(nums)"
   ]
  }
 ],
 "metadata": {
  "kernelspec": {
   "display_name": "Python 3",
   "language": "python",
   "name": "python3"
  },
  "language_info": {
   "codemirror_mode": {
    "name": "ipython",
    "version": 3
   },
   "file_extension": ".py",
   "mimetype": "text/x-python",
   "name": "python",
   "nbconvert_exporter": "python",
   "pygments_lexer": "ipython3",
   "version": "3.6.9"
  },
  "toc-autonumbering": false,
  "toc-showcode": false,
  "toc-showmarkdowntxt": false,
  "toc-showtags": false
 },
 "nbformat": 4,
 "nbformat_minor": 4
}
