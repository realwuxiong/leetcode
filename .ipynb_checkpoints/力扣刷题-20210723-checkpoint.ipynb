{
 "cells": [
  {
   "cell_type": "code",
   "execution_count": 7,
   "metadata": {},
   "outputs": [
    {
     "data": {
      "text/plain": [
       "True"
      ]
     },
     "execution_count": 7,
     "metadata": {},
     "output_type": "execute_result"
    }
   ],
   "source": [
    "# 1893. 检查是否区域内所有整数都被覆盖\n",
    "# https://leetcode-cn.com/problems/check-if-all-the-integers-in-a-range-are-covered/\n",
    "\n",
    "# 可以学习学习答案的差分数组的思路\n",
    "from typing import List\n",
    "def isCovered(ranges: List[List[int]], left: int, right: int) -> bool:\n",
    "#     print(ranges)\n",
    "#     print(left,right)\n",
    "    # 直接暴力。。。。\n",
    "    flages = [1]*(right-left+1)\n",
    "    for l in range(left,right+1):\n",
    "        for r in ranges:\n",
    "            if l in range(r[0],r[1]+1):\n",
    "                flages[l-left] = 0\n",
    "                break\n",
    "        if flages[l-left] != 0:\n",
    "            return False\n",
    "    return True\n",
    "    \n",
    "    pass\n",
    "ranges = [[1,2],[3,4],[5,6]]\n",
    "left = 2\n",
    "right = 5\n",
    "isCovered(ranges,left,right)"
   ]
  },
  {
   "cell_type": "code",
   "execution_count": 6,
   "metadata": {},
   "outputs": [
    {
     "data": {
      "text/plain": [
       "True"
      ]
     },
     "execution_count": 6,
     "metadata": {},
     "output_type": "execute_result"
    }
   ],
   "source": [
    "# 试一试差分数组\n",
    "from typing import List\n",
    "def isCovered(ranges: List[List[int]], left: int, right: int) -> bool:\n",
    "#     print(ranges)\n",
    "#     print(left,right)\n",
    "    # 差分数组\n",
    "    # 卧槽，差分数组真的漂亮\n",
    "    \"\"\"\n",
    "    这是题目的限定条件\n",
    "    1 <= ranges.length <= 50\n",
    "    1 <= starti <= endi <= 50\n",
    "    1 <= left <= right <= 50\n",
    "    \"\"\"\n",
    "    diff = [0]*52\n",
    "    for l,r in ranges:\n",
    "        diff[l] += 1\n",
    "        diff[r+1] -= 1  # 理解差分数组的意思，表示的区间，所以在l处加1，在r处减1\n",
    "    \n",
    "    # 求前缀和\n",
    "#     print(diff)\n",
    "    prefixSum = 0\n",
    "    for i in range(1,len(diff)):\n",
    "        prefixSum += diff[i]\n",
    "        if prefixSum < 1 and i >= left and i <= right:\n",
    "            return False\n",
    "    return True\n",
    "\n",
    "ranges = [[1,2],[3,4],[5,6]]\n",
    "left = 1\n",
    "right = 5\n",
    "isCovered(ranges,left,right)"
   ]
  },
  {
   "cell_type": "code",
   "execution_count": 20,
   "metadata": {},
   "outputs": [
    {
     "name": "stdout",
     "output_type": "stream",
     "text": [
      "[1, 2, 3, 3, 3, 3, 12, 21, 21, 123, 321]\n"
     ]
    }
   ],
   "source": [
    "# 再来一次快速排序\n",
    "def quick_sort(nums):\n",
    "    n = len(nums)\n",
    "    \n",
    "    def quickSort(start,end):\n",
    "        if start >= end:\n",
    "            return \n",
    "        low = start\n",
    "        high = end\n",
    "        t = nums[low]\n",
    "        while low < high:\n",
    "            while low < high and nums[high] >= t :\n",
    "                high -= 1\n",
    "            nums[low] = nums[high]\n",
    "            while low < high and nums[low] <= t:\n",
    "                low += 1\n",
    "            nums[high] = nums[low]\n",
    "        nums[low] = t  #哨兵归位\n",
    "        quickSort(start,low-1)\n",
    "        quickSort(low+1,end)\n",
    "    quickSort(0,n-1)\n",
    "    print(nums)\n",
    "nums = [1,2,3,12,3,123,21,321,3,21,3]\n",
    "quick_sort(nums)\n",
    "        \n"
   ]
  }
 ],
 "metadata": {
  "kernelspec": {
   "display_name": "Python 3",
   "language": "python",
   "name": "python3"
  },
  "language_info": {
   "codemirror_mode": {
    "name": "ipython",
    "version": 3
   },
   "file_extension": ".py",
   "mimetype": "text/x-python",
   "name": "python",
   "nbconvert_exporter": "python",
   "pygments_lexer": "ipython3",
   "version": "3.6.9"
  },
  "toc-autonumbering": false,
  "toc-showcode": false,
  "toc-showmarkdowntxt": false,
  "toc-showtags": false
 },
 "nbformat": 4,
 "nbformat_minor": 4
}
