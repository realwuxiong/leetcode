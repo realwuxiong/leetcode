{
 "cells": [
  {
   "cell_type": "code",
   "execution_count": null,
   "metadata": {},
   "outputs": [],
   "source": [
    "# 1011. 在 D 天内送达包裹的能力\n",
    "# https://leetcode-cn.com/problems/capacity-to-ship-packages-within-d-days/\n",
    "def shipWithinDays(weights: List[int], D: int) -> int:\n",
    "    pass\n",
    "weights = [1,2,3,4,5,6,7,8,9,10]\n",
    "D = 5"
   ]
  }
 ],
 "metadata": {
  "kernelspec": {
   "display_name": "Python 3",
   "language": "python",
   "name": "python3"
  },
  "language_info": {
   "codemirror_mode": {
    "name": "ipython",
    "version": 3
   },
   "file_extension": ".py",
   "mimetype": "text/x-python",
   "name": "python",
   "nbconvert_exporter": "python",
   "pygments_lexer": "ipython3",
   "version": "3.6.9"
  }
 },
 "nbformat": 4,
 "nbformat_minor": 4
}
