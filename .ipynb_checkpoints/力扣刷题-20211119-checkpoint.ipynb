{
 "cells": [
  {
   "cell_type": "code",
   "execution_count": 21,
   "metadata": {},
   "outputs": [
    {
     "data": {
      "text/plain": [
       "9"
      ]
     },
     "execution_count": 21,
     "metadata": {},
     "output_type": "execute_result"
    }
   ],
   "source": [
    "# 397. 整数替换\n",
    "# https://leetcode-cn.com/problems/integer-replacement/\n",
    "\n",
    "# 贪心\n",
    "def integerReplacement(n: int) -> int:\n",
    "    ans = 0\n",
    "    while n != 1:\n",
    "        if n % 2 == 0:\n",
    "            ans += 1\n",
    "            n //= 2\n",
    "        elif n % 4 == 1:\n",
    "            ans += 2\n",
    "            n //= 2\n",
    "        else:\n",
    "            if n == 3:\n",
    "                ans += 2\n",
    "                n = 1\n",
    "            else:\n",
    "                ans += 2\n",
    "                n = n // 2 + 1\n",
    "    return ans\n",
    "\n",
    "\n",
    "n = 156\n",
    "integerReplacement(n)"
   ]
  },
  {
   "cell_type": "code",
   "execution_count": null,
   "metadata": {},
   "outputs": [],
   "source": [
    "// 缓存递归、、、\n",
    "class Solution {\n",
    "    Map<Integer, Integer> memo = new HashMap<Integer, Integer>();\n",
    "\n",
    "    public int integerReplacement(int n) {\n",
    "        if (n == 1) {\n",
    "            return 0;\n",
    "        }\n",
    "        if (!memo.containsKey(n)) {\n",
    "            if (n % 2 == 0) {\n",
    "                memo.put(n, 1 + integerReplacement(n / 2));\n",
    "            } else {\n",
    "                memo.put(n, 2 + Math.min(integerReplacement(n / 2), integerReplacement(n / 2 + 1)));\n",
    "            }\n",
    "        }\n",
    "        return memo.get(n);\n",
    "    }\n",
    "}\n"
   ]
  }
 ],
 "metadata": {
  "kernelspec": {
   "display_name": "Python 3",
   "language": "python",
   "name": "python3"
  },
  "language_info": {
   "codemirror_mode": {
    "name": "ipython",
    "version": 3
   },
   "file_extension": ".py",
   "mimetype": "text/x-python",
   "name": "python",
   "nbconvert_exporter": "python",
   "pygments_lexer": "ipython3",
   "version": "3.6.9"
  },
  "toc-autonumbering": false,
  "toc-showcode": false,
  "toc-showmarkdowntxt": false,
  "toc-showtags": false
 },
 "nbformat": 4,
 "nbformat_minor": 4
}
