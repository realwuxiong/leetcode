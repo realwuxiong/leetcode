{
 "cells": [
  {
   "cell_type": "code",
   "execution_count": 3,
   "metadata": {},
   "outputs": [
    {
     "data": {
      "text/plain": [
       "['Shogun']"
      ]
     },
     "execution_count": 3,
     "metadata": {},
     "output_type": "execute_result"
    }
   ],
   "source": [
    "# 599. 两个列表的最小索引总和\n",
    "# https://leetcode-cn.com/problems/minimum-index-sum-of-two-lists/\n",
    "from typing import List\n",
    "def findRestaurant(list1: List[str], list2: List[str]) -> List[str]:\n",
    "    # 最小索引和\n",
    "    index = {s: i for i, s in enumerate(list1)}\n",
    "    ans = []\n",
    "    indexSum = float(\"INF\")\n",
    "    for i, s in enumerate(list2):\n",
    "        if s in index:\n",
    "            j = index[s]\n",
    "            if i + j < indexSum:\n",
    "                indexSum = i + j\n",
    "                ans = [s]\n",
    "            elif i + j == indexSum:\n",
    "                ans.append(s)\n",
    "    return ans\n",
    "\n",
    "list1 = [\"Shogun\",\"Tapioca Express\",\"Burger King\",\"KFC\"]\n",
    "list2 = [\"KFC\",\"Shogun\",\"Burger King\"]\n",
    "findRestaurant(list1, list2)"
   ]
  }
 ],
 "metadata": {
  "kernelspec": {
   "display_name": "Python 3",
   "language": "python",
   "name": "python3"
  },
  "language_info": {
   "codemirror_mode": {
    "name": "ipython",
    "version": 3
   },
   "file_extension": ".py",
   "mimetype": "text/x-python",
   "name": "python",
   "nbconvert_exporter": "python",
   "pygments_lexer": "ipython3",
   "version": "3.6.9"
  },
  "toc-autonumbering": false,
  "toc-showcode": false,
  "toc-showmarkdowntxt": false,
  "toc-showtags": false
 },
 "nbformat": 4,
 "nbformat_minor": 4
}
