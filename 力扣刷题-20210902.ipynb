{
 "cells": [
  {
   "cell_type": "code",
   "execution_count": null,
   "metadata": {},
   "outputs": [],
   "source": [
    "# 剑指 Offer 22. 链表中倒数第k个节点\n",
    "# https://leetcode-cn.com/problems/lian-biao-zhong-dao-shu-di-kge-jie-dian-lcof/\n",
    "\n",
    "# 这个简单，遍历两次就行了,一次性AC\n",
    "# Definition for singly-linked list.\n",
    "# class ListNode:\n",
    "#     def __init__(self, x):\n",
    "#         self.val = x\n",
    "#         self.next = None\n",
    "\n",
    "class Solution:\n",
    "    def getKthFromEnd(self, head: ListNode, k: int) -> ListNode:\n",
    "        # 直接遍历两次就好了\n",
    "        length = 0\n",
    "        p = head\n",
    "        while p:\n",
    "            p = p.next\n",
    "            length += 1\n",
    "        \n",
    "        index = length - k \n",
    "        t = 0\n",
    "        p = head\n",
    "        while p:\n",
    "            if t == index:\n",
    "                return p\n",
    "            t += 1\n",
    "            p = p.next"
   ]
  },
  {
   "cell_type": "code",
   "execution_count": 25,
   "metadata": {},
   "outputs": [
    {
     "data": {
      "text/plain": [
       "True"
      ]
     },
     "execution_count": 25,
     "metadata": {},
     "output_type": "execute_result"
    }
   ],
   "source": [
    "# 再来一题中等题\n",
    "# 79. 单词搜索\n",
    "# https://leetcode-cn.com/problems/word-search/\n",
    "\n",
    "# 07:49-\n",
    "from typing import List\n",
    "def exist(board: List[List[str]], word: str) -> bool:\n",
    "    # 感觉是可以用dfs来实现的，试试吧\n",
    "    def dfs(i,j,k):\n",
    "        if i >= m or j >=n or i < 0 or j < 0:\n",
    "            return False\n",
    "        \n",
    "        if k == wordLength:\n",
    "            return True\n",
    "#         print(i,j,k,word[k])\n",
    "        if board[i][j] == word[k] and not flag[i][j]:\n",
    "            flag[i][j] = True\n",
    "            ans = dfs(i,j+1,k+1) or dfs(i,j-1,k+1) or dfs(i-1,j,k+1) or dfs(i+1,j,k+1) or k == wordLength-1\n",
    "            flag[i][j] = False\n",
    "            return ans\n",
    "        return False\n",
    "    \n",
    "    m = len(board)\n",
    "    n = len(board[0])\n",
    "    wordLength = len(word)\n",
    "    flag = [[False]*n for _ in range(m)]\n",
    "    for i in range(m):\n",
    "        for j in range(n):\n",
    "            if dfs(i,j,0):\n",
    "                return True\n",
    "    return False\n",
    "    pass\n",
    "board = [[\"A\",\"B\",\"C\",\"E\"],[\"S\",\"F\",\"C\",\"S\"],[\"A\",\"D\",\"E\",\"E\"]]\n",
    "word = \"CBCCS\"\n",
    "\n",
    "exist(board,word)\n",
    "\n"
   ]
  }
 ],
 "metadata": {
  "kernelspec": {
   "display_name": "Python 3",
   "language": "python",
   "name": "python3"
  },
  "language_info": {
   "codemirror_mode": {
    "name": "ipython",
    "version": 3
   },
   "file_extension": ".py",
   "mimetype": "text/x-python",
   "name": "python",
   "nbconvert_exporter": "python",
   "pygments_lexer": "ipython3",
   "version": "3.6.9"
  },
  "toc-autonumbering": false,
  "toc-showcode": false,
  "toc-showmarkdowntxt": false,
  "toc-showtags": false
 },
 "nbformat": 4,
 "nbformat_minor": 4
}
