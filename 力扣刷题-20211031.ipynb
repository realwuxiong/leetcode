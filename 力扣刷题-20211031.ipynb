{
 "cells": [
  {
   "cell_type": "code",
   "execution_count": 7,
   "metadata": {},
   "outputs": [
    {
     "data": {
      "text/plain": [
       "['Alaska', 'Dad']"
      ]
     },
     "execution_count": 7,
     "metadata": {},
     "output_type": "execute_result"
    }
   ],
   "source": [
    "# 500. 键盘行\n",
    "# https://leetcode-cn.com/problems/keyboard-row/\n",
    "\n",
    "from typing import List\n",
    "def findWords(words: List[str]) -> List[str]:\n",
    "    ans = []\n",
    "    s1 = \"qwertyuiop\"\n",
    "    s2 = \"asdfghjkl\"\n",
    "    s3 = \"zxcvbnm\"\n",
    "    \n",
    "    for word in words:\n",
    "        for w in word:\n",
    "            if w not in s1+s1.upper():\n",
    "                break\n",
    "        else:\n",
    "            ans.append(word)\n",
    "    for word in words:\n",
    "        for w in word:\n",
    "            if w not in s2+s2.upper():\n",
    "                break\n",
    "        else:\n",
    "            ans.append(word)\n",
    "    for word in words:\n",
    "        for w in word:\n",
    "            if w not in s3+s3.upper():\n",
    "                break\n",
    "        else:\n",
    "            ans.append(word)\n",
    "    \n",
    "    return ans\n",
    "\n",
    "words = [\"Hello\",\"Alaska\",\"Dad\",\"Peace\"]\n",
    "findWords(words)"
   ]
  }
 ],
 "metadata": {
  "kernelspec": {
   "display_name": "Python 3",
   "language": "python",
   "name": "python3"
  },
  "language_info": {
   "codemirror_mode": {
    "name": "ipython",
    "version": 3
   },
   "file_extension": ".py",
   "mimetype": "text/x-python",
   "name": "python",
   "nbconvert_exporter": "python",
   "pygments_lexer": "ipython3",
   "version": "3.6.9"
  },
  "toc-autonumbering": false,
  "toc-showcode": false,
  "toc-showmarkdowntxt": false,
  "toc-showtags": false
 },
 "nbformat": 4,
 "nbformat_minor": 4
}
