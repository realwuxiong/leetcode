{
 "cells": [
  {
   "cell_type": "code",
   "execution_count": 5,
   "metadata": {},
   "outputs": [
    {
     "data": {
      "text/plain": [
       "'a = \\n    print(a)'"
      ]
     },
     "execution_count": 5,
     "metadata": {},
     "output_type": "execute_result"
    }
   ],
   "source": [
    "# 446. 等差数列划分 II - 子序列\n",
    "# https://leetcode-cn.com/problems/arithmetic-slices-ii-subsequence/\n",
    "\n",
    "# 这个题和昨天的那个题需要有一个对比\n",
    "# 15:10-\n",
    "\n",
    "from typing import List\n",
    "def numberOfArithmeticSlices(nums: List[int]) -> int:\n",
    "    # 要求子序列\n",
    "    n = len(nums)\n",
    "    # 动态规划+哈希表\n",
    "    # 思路是动态规划\n",
    "    # dp[i][j]表示？\n",
    "    pass\n",
    "nums = [2,4,6,8,10]\n",
    "numberOfArithmeticSlices(nums)"
   ]
  }
 ],
 "metadata": {
  "kernelspec": {
   "display_name": "Python 3",
   "language": "python",
   "name": "python3"
  },
  "language_info": {
   "codemirror_mode": {
    "name": "ipython",
    "version": 3
   },
   "file_extension": ".py",
   "mimetype": "text/x-python",
   "name": "python",
   "nbconvert_exporter": "python",
   "pygments_lexer": "ipython3",
   "version": "3.6.9"
  },
  "toc-autonumbering": false,
  "toc-showcode": false,
  "toc-showmarkdowntxt": false,
  "toc-showtags": false
 },
 "nbformat": 4,
 "nbformat_minor": 4
}
