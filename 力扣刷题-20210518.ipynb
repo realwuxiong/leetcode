{
 "cells": [
  {
   "cell_type": "code",
   "execution_count": 5,
   "metadata": {},
   "outputs": [
    {
     "name": "stdout",
     "output_type": "stream",
     "text": [
      "3\n"
     ]
    }
   ],
   "source": [
    "# 1442. 形成两个异或相等数组的三元组数目\n",
    "# https://leetcode-cn.com/problems/count-triplets-that-can-form-two-arrays-of-equal-xor/\n",
    "\n",
    "# 前缀和\n",
    "# 2021年5月18 21:33-21:46\n",
    "# (0 <= i < j <= k < arr.length)\n",
    "# 就是效率有点低\n",
    "\n",
    "from typing import List\n",
    "def countTriplets(arr: List[int]) -> int:\n",
    "    t = 0\n",
    "    prefixSum = []\n",
    "    ans = 0\n",
    "    for a in arr:\n",
    "        t ^= a\n",
    "        prefixSum.append(t)\n",
    "    for i in range(len(arr)):\n",
    "        for j in range(i+1,len(arr)):\n",
    "            for k in range(j,len(arr)):\n",
    "                if i == 0:\n",
    "                    if prefixSum[j-1] == prefixSum[j-1]^prefixSum[k]:\n",
    "                        ans += 1\n",
    "                else:\n",
    "                    if prefixSum[j-1]^prefixSum[i-1] == prefixSum[j-1]^prefixSum[k]:\n",
    "                        ans += 1\n",
    "    print(ans)\n",
    "    pass\n",
    "arr = [1,3,5,7,9]\n",
    "countTriplets(arr)"
   ]
  }
 ],
 "metadata": {
  "kernelspec": {
   "display_name": "Python 3",
   "language": "python",
   "name": "python3"
  },
  "language_info": {
   "codemirror_mode": {
    "name": "ipython",
    "version": 3
   },
   "file_extension": ".py",
   "mimetype": "text/x-python",
   "name": "python",
   "nbconvert_exporter": "python",
   "pygments_lexer": "ipython3",
   "version": "3.6.9"
  }
 },
 "nbformat": 4,
 "nbformat_minor": 4
}
