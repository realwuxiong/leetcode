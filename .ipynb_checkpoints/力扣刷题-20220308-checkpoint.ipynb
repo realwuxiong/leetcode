{
 "cells": [
  {
   "cell_type": "code",
   "execution_count": null,
   "metadata": {},
   "outputs": [],
   "source": [
    "# 2055. 蜡烛之间的盘子\n",
    "# https://leetcode-cn.com/problems/plates-between-candles/\n",
    "\n",
    "from typing import List\n",
    "def platesBetweenCandles(s: str, queries: List[List[int]]) -> List[int]:\n",
    "    stastics = []\n",
    "    n = len(s)\n",
    "    ccount = 0 \n",
    "    for i in range(n):\n",
    "        \n",
    "    \n",
    "    \n",
    "    \n",
    "    pass\n",
    "\n",
    "s = \"***|**|*****|**||**|*\"\n",
    "queries = [[1,17],[4,5],[14,17],[5,11],[15,16]]\n",
    "platesBetweenCandles(s,queries)"
   ]
  }
 ],
 "metadata": {
  "kernelspec": {
   "display_name": "Python 3",
   "language": "python",
   "name": "python3"
  },
  "language_info": {
   "codemirror_mode": {
    "name": "ipython",
    "version": 3
   },
   "file_extension": ".py",
   "mimetype": "text/x-python",
   "name": "python",
   "nbconvert_exporter": "python",
   "pygments_lexer": "ipython3",
   "version": "3.6.9"
  },
  "toc-autonumbering": false,
  "toc-showcode": false,
  "toc-showmarkdowntxt": false,
  "toc-showtags": false
 },
 "nbformat": 4,
 "nbformat_minor": 4
}
