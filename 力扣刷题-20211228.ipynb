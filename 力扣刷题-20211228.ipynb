{
 "cells": [
  {
   "cell_type": "code",
   "execution_count": 1,
   "metadata": {},
   "outputs": [
    {
     "data": {
      "text/plain": [
       "3"
      ]
     },
     "execution_count": 1,
     "metadata": {},
     "output_type": "execute_result"
    }
   ],
   "source": [
    "# 825. 适龄的朋友\n",
    "# https://leetcode-cn.com/problems/friends-of-appropriate-ages/\n",
    "\n",
    "from typing import List\n",
    "def numFriendRequests(ages: List[int]) -> int:\n",
    "    # 这个题目好没意思哦。。。\n",
    "    \n",
    "    # 思路是对的，先排序\n",
    "    n = len(ages)\n",
    "    ages.sort()\n",
    "    left = right = ans = 0\n",
    "    for age in ages:\n",
    "        if age < 15:\n",
    "            continue\n",
    "        while ages[left] <= 0.5 * age + 7:\n",
    "            left += 1\n",
    "        while right + 1 < n and ages[right + 1] <= age:\n",
    "            right += 1\n",
    "        ans += right - left\n",
    "    return ans\n",
    "\n",
    "ages = [20,30,100,110,120]\n",
    "numFriendRequests(ages)"
   ]
  }
 ],
 "metadata": {
  "kernelspec": {
   "display_name": "Python 3",
   "language": "python",
   "name": "python3"
  },
  "language_info": {
   "codemirror_mode": {
    "name": "ipython",
    "version": 3
   },
   "file_extension": ".py",
   "mimetype": "text/x-python",
   "name": "python",
   "nbconvert_exporter": "python",
   "pygments_lexer": "ipython3",
   "version": "3.6.9"
  },
  "toc-autonumbering": false,
  "toc-showcode": false,
  "toc-showmarkdowntxt": false,
  "toc-showtags": false
 },
 "nbformat": 4,
 "nbformat_minor": 4
}
