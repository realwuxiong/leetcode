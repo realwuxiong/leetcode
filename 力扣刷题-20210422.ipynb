{
 "cells": [
  {
   "cell_type": "code",
   "execution_count": 1,
   "metadata": {},
   "outputs": [
    {
     "name": "stdout",
     "output_type": "stream",
     "text": [
      "2\n"
     ]
    }
   ],
   "source": [
    "# 363. 矩形区域不超过 K 的最大数值和\n",
    "# https://leetcode-cn.com/problems/max-sum-of-rectangle-no-larger-than-k/\n",
    "from typing import List\n",
    "def maxSumSubmatrix(matrix: List[List[int]], k: int) -> int:\n",
    "    pass\n",
    "matrix = [[1,0,1],[0,-2,3]]\n",
    "k = 2\n",
    "maxSumSubmatrix(matrix,k)"
   ]
  }
 ],
 "metadata": {
  "kernelspec": {
   "display_name": "Python 3",
   "language": "python",
   "name": "python3"
  },
  "language_info": {
   "codemirror_mode": {
    "name": "ipython",
    "version": 3
   },
   "file_extension": ".py",
   "mimetype": "text/x-python",
   "name": "python",
   "nbconvert_exporter": "python",
   "pygments_lexer": "ipython3",
   "version": "3.6.9"
  }
 },
 "nbformat": 4,
 "nbformat_minor": 4
}
