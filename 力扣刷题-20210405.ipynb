{
 "cells": [
  {
   "cell_type": "code",
   "execution_count": null,
   "metadata": {},
   "outputs": [
    {
     "name": "stdout",
     "output_type": "stream",
     "text": [
      "[1, 2, 3, 4, 5, 6]\n"
     ]
    }
   ],
   "source": [
    "# 88. 合并两个有序数组\n",
    "# https://leetcode-cn.com/problems/merge-sorted-array/\n",
    "from typing import List\n",
    "def merge(nums1: List[int], m: int, nums2: List[int], n: int) -> None:\n",
    "    if n == 0:\n",
    "        return \n",
    "    if m == 0:\n",
    "        nums1 = nums2\n",
    "        print(nums1)\n",
    "        return \n",
    "    p = m \n",
    "    q = n\n",
    "    length = m+n\n",
    "    while q > 0 and p > 0:    #把m2都插入进去\n",
    "#         print(p,q)\n",
    "        if nums2[q-1] > nums1[p-1]:\n",
    "            nums1[length-1] = nums2[q-1]\n",
    "            q -= 1\n",
    "        else:\n",
    "            nums1[length-1] = nums1[p-1]\n",
    "            p -= 1\n",
    "        length -= 1\n",
    "    for i in range(q):\n",
    "        nums1[i] = nums2[i]\n",
    "    print(nums1)\n",
    "nums1 = [4,5,6,0,0,0]\n",
    "m = 3\n",
    "nums2 = [1,2,3]\n",
    "n = 3\n",
    "\n",
    "merge(nums1,m,nums2,n)"
   ]
  }
 ],
 "metadata": {
  "kernelspec": {
   "display_name": "Python 3",
   "language": "python",
   "name": "python3"
  },
  "language_info": {
   "codemirror_mode": {
    "name": "ipython",
    "version": 3
   },
   "file_extension": ".py",
   "mimetype": "text/x-python",
   "name": "python",
   "nbconvert_exporter": "python",
   "pygments_lexer": "ipython3",
   "version": "3.8.5"
  }
 },
 "nbformat": 4,
 "nbformat_minor": 4
}
