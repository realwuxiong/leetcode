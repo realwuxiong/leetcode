{
 "cells": [
  {
   "cell_type": "code",
   "execution_count": 7,
   "metadata": {},
   "outputs": [
    {
     "data": {
      "text/plain": [
       "4"
      ]
     },
     "execution_count": 7,
     "metadata": {},
     "output_type": "execute_result"
    }
   ],
   "source": [
    "# 674. 最长连续递增序列\n",
    "# https://leetcode-cn.com/problems/longest-continuous-increasing-subsequence/\n",
    "def findLengthOfLCIS(nums) -> int:\n",
    "    preNum = nums[0]\n",
    "    count = 1\n",
    "    maxCount = 1\n",
    "    for index in range(1,len(nums)):\n",
    "        Num = nums[index]\n",
    "        if(Num > preNum):\n",
    "            count += 1\n",
    "        else:\n",
    "            maxCount = max(maxCount,count)\n",
    "            count = 1\n",
    "        preNum = Num\n",
    "    return max(maxCount,count)\n",
    "nums = [1,3,5,7]\n",
    "findLengthOfLCIS(nums)"
   ]
  },
  {
   "cell_type": "code",
   "execution_count": 9,
   "metadata": {},
   "outputs": [
    {
     "name": "stdout",
     "output_type": "stream",
     "text": [
      "[-2, 1, 2, 3]\n"
     ]
    },
    {
     "data": {
      "text/plain": [
       "6"
      ]
     },
     "execution_count": 9,
     "metadata": {},
     "output_type": "execute_result"
    }
   ],
   "source": [
    "# 刷第二题\n",
    "# 628. 三个数的最大乘积\n",
    "# https://leetcode-cn.com/problems/maximum-product-of-three-numbers/\n",
    "\n",
    "#分析，题目的主要的点就在于数组有的数有正负号。\n",
    "def maximumProduct(nums) -> int:\n",
    "    nums.sort()\n",
    "    print(nums)\n",
    "    n = len(nums)\n",
    "    return max(nums[0] * nums[1] * nums[n - 1], nums[n - 3] * nums[n - 2] * nums[n - 1])\n",
    "\n",
    "\n",
    "\n",
    "nums = [1,2,3,-2]\n",
    "maximumProduct(nums)"
   ]
  }
 ],
 "metadata": {
  "kernelspec": {
   "display_name": "Python 3",
   "language": "python",
   "name": "python3"
  },
  "language_info": {
   "codemirror_mode": {
    "name": "ipython",
    "version": 3
   },
   "file_extension": ".py",
   "mimetype": "text/x-python",
   "name": "python",
   "nbconvert_exporter": "python",
   "pygments_lexer": "ipython3",
   "version": "3.8.5"
  }
 },
 "nbformat": 4,
 "nbformat_minor": 4
}
