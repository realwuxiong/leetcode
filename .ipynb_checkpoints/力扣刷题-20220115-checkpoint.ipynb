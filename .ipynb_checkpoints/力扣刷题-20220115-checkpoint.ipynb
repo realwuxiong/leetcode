{
 "cells": [
  {
   "cell_type": "code",
   "execution_count": 27,
   "metadata": {},
   "outputs": [
    {
     "data": {
      "text/plain": [
       "10"
      ]
     },
     "execution_count": 27,
     "metadata": {},
     "output_type": "execute_result"
    }
   ],
   "source": [
    "# 1716. 计算力扣银行的钱\n",
    "# https://leetcode-cn.com/problems/calculate-money-in-leetcode-bank/\n",
    "\n",
    "def totalMoney(n: int) -> int:\n",
    "    # 第一周\n",
    "    a = 28  # 第一周存钱总数\n",
    "    b = 1 # 第一周周一存的钱数\n",
    "    c = n // 7  #一共多少周\n",
    "    d = n % 7\n",
    "    ans = a * c + (c-1)*c//2*7 + (c+b)*d + d*(d-1)//2\n",
    "    return ans\n",
    "n = 4\n",
    "totalMoney(n)"
   ]
  }
 ],
 "metadata": {
  "kernelspec": {
   "display_name": "Python 3",
   "language": "python",
   "name": "python3"
  },
  "language_info": {
   "codemirror_mode": {
    "name": "ipython",
    "version": 3
   },
   "file_extension": ".py",
   "mimetype": "text/x-python",
   "name": "python",
   "nbconvert_exporter": "python",
   "pygments_lexer": "ipython3",
   "version": "3.6.9"
  },
  "toc-autonumbering": false,
  "toc-showcode": false,
  "toc-showmarkdowntxt": false,
  "toc-showtags": false
 },
 "nbformat": 4,
 "nbformat_minor": 4
}
