{
 "cells": [
  {
   "cell_type": "code",
   "execution_count": 2,
   "metadata": {},
   "outputs": [
    {
     "data": {
      "text/plain": [
       "0"
      ]
     },
     "execution_count": 2,
     "metadata": {},
     "output_type": "execute_result"
    }
   ],
   "source": [
    "# 154. 寻找旋转排序数组中的最小值 II\n",
    "# https://leetcode-cn.com/problems/find-minimum-in-rotated-sorted-array-ii/\n",
    "# 这个是看的标准答案\n",
    "from typing import List\n",
    "def findMin(nums: List[int]) -> int:\n",
    "    # 采用二分法，可以思考每种情况\n",
    "    low, high = 0, len(nums) - 1\n",
    "    while low < high:\n",
    "        pivot = low + (high - low) // 2\n",
    "        if nums[pivot] < nums[high]:\n",
    "            high = pivot \n",
    "        elif nums[pivot] > nums[high]:\n",
    "            low = pivot + 1\n",
    "        else:\n",
    "            high -= 1\n",
    "    return nums[low]\n",
    "\n",
    "\n",
    "nums = [2,2,2,0,1]\n",
    "findMin(nums)"
   ]
  }
 ],
 "metadata": {
  "kernelspec": {
   "display_name": "Python 3",
   "language": "python",
   "name": "python3"
  },
  "language_info": {
   "codemirror_mode": {
    "name": "ipython",
    "version": 3
   },
   "file_extension": ".py",
   "mimetype": "text/x-python",
   "name": "python",
   "nbconvert_exporter": "python",
   "pygments_lexer": "ipython3",
   "version": "3.8.5"
  }
 },
 "nbformat": 4,
 "nbformat_minor": 4
}
