{
 "cells": [
  {
   "cell_type": "code",
   "execution_count": 18,
   "metadata": {},
   "outputs": [
    {
     "name": "stdout",
     "output_type": "stream",
     "text": [
      "['bc', 'cd']\n",
      "b c c d\n",
      "{'a': 2.0, 'b': 1.3333333333333333, 'c': 0.5333333333333333, 'bc': 4.0, 'cd': 0.8}\n",
      "[3.75, 0.4, -1.0, -1.0]\n"
     ]
    }
   ],
   "source": [
    "# 399. 除法求值\n",
    "# https://leetcode-cn.com/problems/evaluate-division/\n",
    "\n",
    "# 我的思路是，把所有的值用数组去代替。\n",
    "# 这个只能适用equations[i][0].length=1的\n",
    "\n",
    "def calcEquation( equations, values, queries) :\n",
    "    dic = {}\n",
    "    ini = 2.0\n",
    "    for i in range(len(equations)):\n",
    "#         if(len(equations[i][0])>1):\n",
    "#             x1 = equations[i][0][0]\n",
    "#             x2 = equations[i][0][1]\n",
    "#             x3 = equations[i][1][0]\n",
    "#             x4 = equations[i][1][1] \n",
    "        if(equations[i][0] not in dic.keys() and equations[i][1] not in dic.keys()):\n",
    "            dic[equations[i][0]] = ini\n",
    "            dic[equations[i][1]] = ini / values[i]\n",
    "            ini *= 2\n",
    "        if(equations[i][0] not in dic.keys() and equations[i][1] in dic.keys()):\n",
    "            dic[equations[i][0]] = dic[equations[i][1]] * values[i]\n",
    "        if(equations[i][0]  in dic.keys() and equations[i][1] not in dic.keys()):\n",
    "            dic[equations[i][1]] = dic[equations[i][0]] / values[i]\n",
    "   \n",
    "    print(dic)\n",
    "    ans = []\n",
    "    for i in range(len(queries)):\n",
    "        flag = 1\n",
    "        x = 1\n",
    "        for data1,data2 in zip(queries[i][0],queries[i][1]):\n",
    "            for j in range(len(data1)):\n",
    "                if(data1[j] in dic.keys() and data2[j] in dic.keys()):\n",
    "                    x *= dic[data1[j]] / dic[data2[j]]\n",
    "                else:\n",
    "                    ans.append(-1.0)\n",
    "                    flag = 0\n",
    "        if flag:\n",
    "            ans.append(x) \n",
    "            \n",
    "    print(ans)\n",
    "    pass\n",
    "\n",
    "equations = [[\"a\",\"b\"],[\"b\",\"c\"],[\"bc\",\"cd\"]]\n",
    "values = [1.5,2.5,5.0]\n",
    "queries = [[\"a\",\"c\"],[\"c\",\"b\"],[\"bc\",\"cd\"],[\"cd\",\"bc\"]]\n",
    "\n",
    "\n",
    "\n",
    "\n",
    "calcEquation( equations, values, queries)\n",
    "\n"
   ]
  }
 ],
 "metadata": {
  "kernelspec": {
   "display_name": "Python 3",
   "language": "python",
   "name": "python3"
  },
  "language_info": {
   "codemirror_mode": {
    "name": "ipython",
    "version": 3
   },
   "file_extension": ".py",
   "mimetype": "text/x-python",
   "name": "python",
   "nbconvert_exporter": "python",
   "pygments_lexer": "ipython3",
   "version": "3.8.5"
  }
 },
 "nbformat": 4,
 "nbformat_minor": 4
}
