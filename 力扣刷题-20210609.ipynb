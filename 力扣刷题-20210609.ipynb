{
 "cells": [
  {
   "cell_type": "code",
   "execution_count": null,
   "metadata": {},
   "outputs": [],
   "source": [
    "# 879. 盈利计划\n",
    "# https://leetcode-cn.com/problems/profitable-schemes/\n",
    "\n",
    "# 艹 这个题目又做不出来，，这一周的力扣真是服了，，，，\n",
    " def profitableSchemes(self, n: int, minProfit: int, group: List[int], profit: List[int]) -> int:"
   ]
  }
 ],
 "metadata": {
  "kernelspec": {
   "display_name": "Python 3",
   "language": "python",
   "name": "python3"
  },
  "language_info": {
   "codemirror_mode": {
    "name": "ipython",
    "version": 3
   },
   "file_extension": ".py",
   "mimetype": "text/x-python",
   "name": "python",
   "nbconvert_exporter": "python",
   "pygments_lexer": "ipython3",
   "version": "3.6.9"
  }
 },
 "nbformat": 4,
 "nbformat_minor": 4
}
