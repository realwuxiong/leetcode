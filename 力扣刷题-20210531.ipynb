{
 "cells": [
  {
   "cell_type": "code",
   "execution_count": null,
   "metadata": {},
   "outputs": [],
   "source": [
    "# 342. 4的幂\n",
    "# https://leetcode-cn.com/problems/power-of-four/\n",
    "\n",
    "class Solution:\n",
    "    def isPowerOfFour(self, n: int) -> bool:\n",
    "        return n > 0 and (n & (n - 1)) == 0 and (n & 0xaaaaaaaa) == 0\n",
    "\n",
    "# 标准答案写的真漂亮\n",
    "\n",
    "class Solution:\n",
    "    def isPowerOfFour(self, n: int) -> bool:\n",
    "        if n == 1:\n",
    "            return True\n",
    "        if n == 0:\n",
    "            return False\n",
    "        if n&(n-1) != 0:\n",
    "            return False   \n",
    "        i = 2\n",
    "        while i < 32:\n",
    "            n = n >> 2\n",
    "            if n == 1:\n",
    "                return True\n",
    "            i += 2\n",
    "        return False\n"
   ]
  }
 ],
 "metadata": {
  "kernelspec": {
   "display_name": "Python 3",
   "language": "python",
   "name": "python3"
  },
  "language_info": {
   "codemirror_mode": {
    "name": "ipython",
    "version": 3
   },
   "file_extension": ".py",
   "mimetype": "text/x-python",
   "name": "python",
   "nbconvert_exporter": "python",
   "pygments_lexer": "ipython3",
   "version": "3.6.9"
  }
 },
 "nbformat": 4,
 "nbformat_minor": 4
}
