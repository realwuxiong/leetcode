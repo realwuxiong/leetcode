{
 "cells": [
  {
   "cell_type": "code",
   "execution_count": 3,
   "metadata": {
    "tags": []
   },
   "outputs": [
    {
     "data": {
      "text/plain": [
       "'banana'"
      ]
     },
     "execution_count": 3,
     "metadata": {},
     "output_type": "execute_result"
    }
   ],
   "source": [
    "# 720. 词典中最长的单词\n",
    "# https://leetcode-cn.com/problems/longest-word-in-dictionary/\n",
    "\n",
    "from typing import List\n",
    "def longestWord(words: List[str]) -> str:\n",
    "    words.sort(key=lambda x: (-len(x), x), reverse=True)\n",
    "    longest = \"\"\n",
    "    candidates = {\"\"}\n",
    "    for word in words:\n",
    "        if word[:-1] in candidates:\n",
    "            longest = word\n",
    "            candidates.add(word)\n",
    "    return longest\n",
    "    pass\n",
    "\n",
    "words = [\"a\", \"banana\", \"app\", \"appl\", \"ap\", \"apply\", \"apple\"]\n",
    "longestWord(words)"
   ]
  }
 ],
 "metadata": {
  "kernelspec": {
   "display_name": "Python 3",
   "language": "python",
   "name": "python3"
  },
  "language_info": {
   "codemirror_mode": {
    "name": "ipython",
    "version": 3
   },
   "file_extension": ".py",
   "mimetype": "text/x-python",
   "name": "python",
   "nbconvert_exporter": "python",
   "pygments_lexer": "ipython3",
   "version": "3.6.9"
  },
  "toc-autonumbering": false,
  "toc-showcode": false,
  "toc-showmarkdowntxt": false,
  "toc-showtags": false
 },
 "nbformat": 4,
 "nbformat_minor": 4
}
