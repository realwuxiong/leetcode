{
 "cells": [
  {
   "cell_type": "code",
   "execution_count": 5,
   "metadata": {},
   "outputs": [
    {
     "data": {
      "text/plain": [
       "True"
      ]
     },
     "execution_count": 5,
     "metadata": {},
     "output_type": "execute_result"
    }
   ],
   "source": [
    "# 334. 递增的三元子序列\n",
    "# https://leetcode-cn.com/problems/increasing-triplet-subsequence/\n",
    "\n",
    "from typing import List\n",
    "def increasingTriplet(nums: List[int]) -> bool:\n",
    "    n = len(nums)\n",
    "    if n < 3:\n",
    "        return False\n",
    "    \n",
    "    leftMinNum = float(\"INF\")\n",
    "    rightMaxNum = float(\"-INF\")\n",
    "    # 这个思路和答案不谋而合。但是有点超时。rightMaxNum必须用一个数组存才行，这样不会超时\n",
    "    # 但是空间复杂度为O(n)\n",
    "    for i in range(1,n-1):\n",
    "        leftMinNum = min(leftMinNum,nums[i-1])\n",
    "        if leftMinNum < nums[i] < max(nums[i+1:]):\n",
    "            return True\n",
    "    return False\n",
    "    \n",
    "nums = [20,100,10,12,5,13]\n",
    "increasingTriplet(nums)\n"
   ]
  },
  {
   "cell_type": "code",
   "execution_count": null,
   "metadata": {},
   "outputs": [],
   "source": [
    "# 答案的贪心算法\n",
    "# 一直保持first < second \n",
    "# 如果当前值大于second，直接返回True\n",
    "# 每次都保存最小的两个值（first和second）\n",
    "class Solution:\n",
    "    def increasingTriplet(self, nums: List[int]) -> bool:\n",
    "        n = len(nums)\n",
    "        if n < 3:\n",
    "            return False\n",
    "        first, second = nums[0], float('inf')\n",
    "        for i in range(1, n):\n",
    "            num = nums[i]\n",
    "            if num > second:\n",
    "                return True\n",
    "            if num > first:\n",
    "                second = num\n",
    "            else:\n",
    "                first = num\n",
    "        return False\n"
   ]
  }
 ],
 "metadata": {
  "kernelspec": {
   "display_name": "Python 3",
   "language": "python",
   "name": "python3"
  },
  "language_info": {
   "codemirror_mode": {
    "name": "ipython",
    "version": 3
   },
   "file_extension": ".py",
   "mimetype": "text/x-python",
   "name": "python",
   "nbconvert_exporter": "python",
   "pygments_lexer": "ipython3",
   "version": "3.6.9"
  },
  "toc-autonumbering": false,
  "toc-showcode": false,
  "toc-showmarkdowntxt": false,
  "toc-showtags": false
 },
 "nbformat": 4,
 "nbformat_minor": 4
}
