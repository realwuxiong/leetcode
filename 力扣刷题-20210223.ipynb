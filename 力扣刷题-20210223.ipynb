{
 "cells": [
  {
   "cell_type": "code",
   "execution_count": 15,
   "metadata": {},
   "outputs": [
    {
     "name": "stdout",
     "output_type": "stream",
     "text": [
      "-1\n"
     ]
    }
   ],
   "source": [
    "# 1052. 爱生气的书店老板\n",
    "# https://leetcode-cn.com/problems/grumpy-bookstore-owner/\n",
    "\n",
    "# 又是滑动窗口的题目\n",
    "# 思路，先按正常的计算满意人数，然后滑动窗口吧额外的计算进来，标准答案写的更加的简介好看，\n",
    "from typing import List\n",
    "def maxSatisfied(customers: List[int], grumpy: List[int], X: int) -> int:\n",
    "    res = 0\n",
    "    for i in range(len(customers)):\n",
    "        if grumpy[i] == 0:\n",
    "            res += customers[i]\n",
    "    # 滑动窗口\n",
    "    first = 0 \n",
    "    tem  = 0\n",
    "    maxRes = res\n",
    "    for i in range(len(customers)):\n",
    "        if i - first + 1 > X:\n",
    "            if grumpy[first] == 1:\n",
    "                tem -= customers[first]\n",
    "            first += 1\n",
    "        if grumpy[i] == 1:\n",
    "            tem += customers[i]\n",
    "            maxRes = max(maxRes,tem+res)\n",
    "    print(maxRes)\n",
    "    pass\n",
    "\n",
    "customers = [2]\n",
    "grumpy =    [0]\n",
    "X = 1\n",
    "maxSatisfied(customers,grumpy,X)"
   ]
  },
  {
   "cell_type": "code",
   "execution_count": null,
   "metadata": {},
   "outputs": [],
   "source": []
  }
 ],
 "metadata": {
  "kernelspec": {
   "display_name": "Python 3",
   "language": "python",
   "name": "python3"
  },
  "language_info": {
   "codemirror_mode": {
    "name": "ipython",
    "version": 3
   },
   "file_extension": ".py",
   "mimetype": "text/x-python",
   "name": "python",
   "nbconvert_exporter": "python",
   "pygments_lexer": "ipython3",
   "version": "3.8.5"
  }
 },
 "nbformat": 4,
 "nbformat_minor": 4
}
