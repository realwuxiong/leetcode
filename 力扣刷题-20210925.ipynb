{
 "cells": [
  {
   "cell_type": "code",
   "execution_count": 5,
   "metadata": {},
   "outputs": [
    {
     "data": {
      "text/plain": [
       "2"
      ]
     },
     "execution_count": 5,
     "metadata": {},
     "output_type": "execute_result"
    }
   ],
   "source": [
    "# 583. 两个字符串的删除操作\n",
    "# https://leetcode-cn.com/problems/delete-operation-for-two-strings/\n",
    "\n",
    "def minDistance(word1: str, word2: str) -> int:\n",
    "    # 找最大公共子串\n",
    "    m = len(word1)\n",
    "    n = len(word2)\n",
    "    \n",
    "    dp = [[0]*(n+1) for _ in range(m+1)]\n",
    "    \n",
    "    for i in range(1,m+1):\n",
    "        for j in range(1,n+1):\n",
    "            if word1[i-1] == word2[j-1]:\n",
    "                dp[i][j] = dp[i-1][j-1] + 1\n",
    "            else:\n",
    "                dp[i][j] = max(dp[i][j-1],dp[i-1][j])\n",
    "                \n",
    "   \n",
    "    \n",
    "    return abs(dp[m][n] - m) + abs(dp[m][n] - n)\n",
    "\n",
    "word1 = \"sea\"\n",
    "word2 = \"eat\"\n",
    "\n",
    "minDistance(word1,word2)\n"
   ]
  }
 ],
 "metadata": {
  "kernelspec": {
   "display_name": "Python 3",
   "language": "python",
   "name": "python3"
  },
  "language_info": {
   "codemirror_mode": {
    "name": "ipython",
    "version": 3
   },
   "file_extension": ".py",
   "mimetype": "text/x-python",
   "name": "python",
   "nbconvert_exporter": "python",
   "pygments_lexer": "ipython3",
   "version": "3.6.9"
  },
  "toc-autonumbering": false,
  "toc-showcode": false,
  "toc-showmarkdowntxt": false,
  "toc-showtags": false
 },
 "nbformat": 4,
 "nbformat_minor": 4
}
