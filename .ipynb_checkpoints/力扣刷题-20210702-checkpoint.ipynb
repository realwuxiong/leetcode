{
 "cells": [
  {
   "cell_type": "code",
   "execution_count": 4,
   "metadata": {},
   "outputs": [
    {
     "data": {
      "text/plain": [
       "4"
      ]
     },
     "execution_count": 4,
     "metadata": {},
     "output_type": "execute_result"
    }
   ],
   "source": [
    "# 1833. 雪糕的最大数量\n",
    "# https://leetcode-cn.com/problems/maximum-ice-cream-bars/\n",
    "from typing import List\n",
    "def maxIceCream(costs: List[int], coins: int) -> int:\n",
    "    costs.sort()\n",
    "    ans = 0\n",
    "    for i in range(len(costs)):\n",
    "        if coins - costs[i] >= 0:\n",
    "            coins -= costs[i]\n",
    "            ans += 1\n",
    "        else:\n",
    "            break\n",
    "    return ans\n",
    "    pass\n",
    "costs = [1,3,2,4,1]\n",
    "coins = 7\n",
    "maxIceCream(costs,coins)"
   ]
  },
  {
   "cell_type": "code",
   "execution_count": 62,
   "metadata": {},
   "outputs": [
    {
     "name": "stdout",
     "output_type": "stream",
     "text": [
      "[[0, 0, 0, 0, 0, 0, 0, 0], [0, 1, 1, 1, 1, 1, 1, 1], [0, 1, 1, 1, 1, 1, 1, 2], [0, 1, 1, 1, 2, 2, 2, 2], [0, 1, 2, 2, 2, 3, 3, 3], [0, 1, 2, 2, 3, 3, 3, 4], [0, 1, 2, 2, 3, 3, 3, 4]]\n",
      "4\n"
     ]
    }
   ],
   "source": [
    "# 用背包写一写\n",
    "# 没啥问题，但是会超时，因为如何coins设置很大，会很占空间\n",
    "def maxIceCream(costs: List[int], coins: int) -> int:\n",
    "    dp = [[0]*(coins+1) for _ in range(len(costs)+1)]    \n",
    "#     dp[0][0]=1\n",
    "    for i in range(1,len(costs)+1):\n",
    "        for j in range(1,coins+1):\n",
    "#             print(i,j)\n",
    "            dp[i][j] = dp[i-1][j]\n",
    "            if costs[i-1] <= j:\n",
    "                dp[i][j] = max(dp[i][j],dp[i-1][j-costs[i-1]]+1)\n",
    "    print(dp)\n",
    "#     print(len(costs),coins)\n",
    "                \n",
    "    print(dp[len(costs)][coins])\n",
    "    pass\n",
    "costs = [1,6,3,1,2,5]\n",
    "coins = 7\n",
    "maxIceCream(costs,coins)"
   ]
  }
 ],
 "metadata": {
  "kernelspec": {
   "display_name": "Python 3",
   "language": "python",
   "name": "python3"
  },
  "language_info": {
   "codemirror_mode": {
    "name": "ipython",
    "version": 3
   },
   "file_extension": ".py",
   "mimetype": "text/x-python",
   "name": "python",
   "nbconvert_exporter": "python",
   "pygments_lexer": "ipython3",
   "version": "3.6.9"
  }
 },
 "nbformat": 4,
 "nbformat_minor": 4
}
