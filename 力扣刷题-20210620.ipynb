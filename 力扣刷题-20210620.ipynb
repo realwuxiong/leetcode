{
 "cells": [
  {
   "cell_type": "code",
   "execution_count": null,
   "metadata": {},
   "outputs": [],
   "source": [
    "# 1600. 皇位继承顺序\n",
    "# https://leetcode-cn.com/problems/throne-inheritance/\n",
    "# 今天不想做了\n",
    "\n",
    "#下面是标准答案\n",
    "class ThroneInheritance:\n",
    "\n",
    "    def __init__(self, kingName: str):\n",
    "        self.edges = defaultdict(list)\n",
    "        self.dead = set()\n",
    "        self.king = kingName\n",
    "\n",
    "    def birth(self, parentName: str, childName: str) -> None:\n",
    "        self.edges[parentName].append(childName)\n",
    "\n",
    "    def death(self, name: str) -> None:\n",
    "        self.dead.add(name)\n",
    "\n",
    "    def getInheritanceOrder(self) -> List[str]:\n",
    "        ans = list()\n",
    "\n",
    "        def preorder(name: str) -> None:\n",
    "            if name not in self.dead:\n",
    "                ans.append(name)\n",
    "            if name in self.edges:\n",
    "                for childName in self.edges[name]:\n",
    "                    preorder(childName)\n",
    "\n",
    "        preorder(self.king)\n",
    "        return ans\n"
   ]
  }
 ],
 "metadata": {
  "kernelspec": {
   "display_name": "Python 3",
   "language": "python",
   "name": "python3"
  },
  "language_info": {
   "codemirror_mode": {
    "name": "ipython",
    "version": 3
   },
   "file_extension": ".py",
   "mimetype": "text/x-python",
   "name": "python",
   "nbconvert_exporter": "python",
   "pygments_lexer": "ipython3",
   "version": "3.6.9"
  }
 },
 "nbformat": 4,
 "nbformat_minor": 4
}
