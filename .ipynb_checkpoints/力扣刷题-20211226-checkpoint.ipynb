{
 "cells": [
  {
   "cell_type": "code",
   "execution_count": 7,
   "metadata": {},
   "outputs": [
    {
     "data": {
      "text/plain": [
       "['we', 'rock', '12']"
      ]
     },
     "execution_count": 7,
     "metadata": {},
     "output_type": "execute_result"
    }
   ],
   "source": [
    "# 1078. Bigram 分词\n",
    "# https://leetcode-cn.com/problems/occurrences-after-bigram/\n",
    "\n",
    "from typing import List\n",
    "def findOcurrences(text: str, first: str, second: str) -> List[str]:\n",
    "    \n",
    "    ans = []\n",
    "    text = text.split()\n",
    "    n = len(text)\n",
    "    for i in range(n-2):\n",
    "        if text[i] == first and text[i+1] == second and i+2 < n:\n",
    "                ans.append(text[i+2])\n",
    "    return ans\n",
    "\n",
    "\n",
    "text = \"we will we will rock you we will 12\"\n",
    "first = \"we\"\n",
    "second = \"will\"\n",
    "findOcurrences(text,first,second)"
   ]
  },
  {
   "cell_type": "code",
   "execution_count": 8,
   "metadata": {},
   "outputs": [
    {
     "data": {
      "text/plain": [
       "['we', 'rock', '12']"
      ]
     },
     "execution_count": 8,
     "metadata": {},
     "output_type": "execute_result"
    }
   ],
   "source": [
    "# 一行代码\n",
    "from typing import List\n",
    "def findOcurrences(text: str, first: str, second: str) -> List[str]:\n",
    "    text = text.split()\n",
    "    n = len(text)\n",
    "    return [text[i+2] for i in range(n-2)  if text[i] == first and text[i+1] == second and i+2 < n]\n",
    "\n",
    "text = \"we will we will rock you we will 12\"\n",
    "first = \"we\"\n",
    "second = \"will\"\n",
    "findOcurrences(text,first,second)\n"
   ]
  }
 ],
 "metadata": {
  "kernelspec": {
   "display_name": "Python 3",
   "language": "python",
   "name": "python3"
  },
  "language_info": {
   "codemirror_mode": {
    "name": "ipython",
    "version": 3
   },
   "file_extension": ".py",
   "mimetype": "text/x-python",
   "name": "python",
   "nbconvert_exporter": "python",
   "pygments_lexer": "ipython3",
   "version": "3.6.9"
  },
  "toc-autonumbering": false,
  "toc-showcode": false,
  "toc-showmarkdowntxt": false,
  "toc-showtags": false
 },
 "nbformat": 4,
 "nbformat_minor": 4
}
