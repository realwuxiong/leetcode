{
 "cells": [
  {
   "cell_type": "code",
   "execution_count": 3,
   "metadata": {},
   "outputs": [
    {
     "name": "stdout",
     "output_type": "stream",
     "text": [
      "2\n"
     ]
    }
   ],
   "source": [
    "# 517. 超级洗衣机\n",
    "# https://leetcode-cn.com/problems/super-washing-machines/\n",
    "# 最近老不想刷题了，直接复制的答案。。。\n",
    "# 贪心算法\n",
    "from typing import List\n",
    "def findMinMoves(machines: List[int]) -> int:\n",
    "    average = sum(machines) // len(machines)\n",
    "    print(average)\n",
    "    pass\n",
    "machines = [1,0,5]\n",
    "findMinMoves(machines)"
   ]
  }
 ],
 "metadata": {
  "kernelspec": {
   "display_name": "Python 3",
   "language": "python",
   "name": "python3"
  },
  "language_info": {
   "codemirror_mode": {
    "name": "ipython",
    "version": 3
   },
   "file_extension": ".py",
   "mimetype": "text/x-python",
   "name": "python",
   "nbconvert_exporter": "python",
   "pygments_lexer": "ipython3",
   "version": "3.6.9"
  },
  "toc-autonumbering": false,
  "toc-showcode": false,
  "toc-showmarkdowntxt": false,
  "toc-showtags": false
 },
 "nbformat": 4,
 "nbformat_minor": 4
}
