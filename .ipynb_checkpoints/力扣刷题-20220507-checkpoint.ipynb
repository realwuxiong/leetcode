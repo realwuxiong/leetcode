{
 "cells": [
  {
   "cell_type": "code",
   "execution_count": 3,
   "metadata": {},
   "outputs": [
    {
     "name": "stdout",
     "output_type": "stream",
     "text": [
      "1\n"
     ]
    },
    {
     "data": {
      "text/plain": [
       "-1"
      ]
     },
     "execution_count": 3,
     "metadata": {},
     "output_type": "execute_result"
    }
   ],
   "source": [
    "# 433. 最小基因变化\n",
    "# https://leetcode-cn.com/problems/minimum-genetic-mutation/\n",
    "\n",
    "from typing import List\n",
    "def minMutation(start: str, end: str, bank: List[str]) -> int:\n",
    "    #得广度搜索。。。\n",
    "    \n",
    "    \n",
    "    pass\n",
    "start = \"AAAAACCC\"\n",
    "end = \"AACCCCCC\"\n",
    "bank = [\"AAAACCCC\",\"AAACCCCC\",\"AACCCCCC\"]\n",
    "minMutation(start,end,bank)"
   ]
  },
  {
   "cell_type": "code",
   "execution_count": null,
   "metadata": {},
   "outputs": [],
   "source": [
    "p = 0.796\n",
    "r = 0.806\n",
    "\n",
    "print(f\"f1:{p*r*2/(p+r)}\")"
   ]
  }
 ],
 "metadata": {
  "kernelspec": {
   "display_name": "Python 3",
   "language": "python",
   "name": "python3"
  },
  "language_info": {
   "codemirror_mode": {
    "name": "ipython",
    "version": 3
   },
   "file_extension": ".py",
   "mimetype": "text/x-python",
   "name": "python",
   "nbconvert_exporter": "python",
   "pygments_lexer": "ipython3",
   "version": "3.6.9"
  },
  "toc-autonumbering": false,
  "toc-showcode": false,
  "toc-showmarkdowntxt": false,
  "toc-showtags": false
 },
 "nbformat": 4,
 "nbformat_minor": 4
}
