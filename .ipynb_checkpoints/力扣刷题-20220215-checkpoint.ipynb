{
 "cells": [
  {
   "cell_type": "code",
   "execution_count": 4,
   "metadata": {},
   "outputs": [
    {
     "data": {
      "text/plain": [
       "[12]"
      ]
     },
     "execution_count": 4,
     "metadata": {},
     "output_type": "execute_result"
    }
   ],
   "source": [
    "# 1380. 矩阵中的幸运数\n",
    "# https://leetcode-cn.com/problems/lucky-numbers-in-a-matrix/\n",
    "\n",
    "from typing import List\n",
    "def luckyNumbers (matrix: List[List[int]]) -> List[int]:\n",
    "    \n",
    "#     print()\n",
    "    matrix1 = list(zip(*matrix))  # 这个用法可以好好学一学。\n",
    "    m = len(matrix)\n",
    "    n = len(matrix[0])\n",
    "    ans = []\n",
    "    for i in range(m):\n",
    "        for j in range(n):\n",
    "            a = min(matrix[i])\n",
    "            b = max(matrix1[j])\n",
    "            if a==b:\n",
    "                ans.append(a)\n",
    "    return ans\n",
    "    pass\n",
    "matrix = [[1,10,4,2],[9,3,8,7],[15,16,17,12]]\n",
    "luckyNumbers(matrix)"
   ]
  }
 ],
 "metadata": {
  "kernelspec": {
   "display_name": "Python 3",
   "language": "python",
   "name": "python3"
  },
  "language_info": {
   "codemirror_mode": {
    "name": "ipython",
    "version": 3
   },
   "file_extension": ".py",
   "mimetype": "text/x-python",
   "name": "python",
   "nbconvert_exporter": "python",
   "pygments_lexer": "ipython3",
   "version": "3.6.9"
  },
  "toc-autonumbering": false,
  "toc-showcode": false,
  "toc-showmarkdowntxt": false,
  "toc-showtags": false
 },
 "nbformat": 4,
 "nbformat_minor": 4
}
