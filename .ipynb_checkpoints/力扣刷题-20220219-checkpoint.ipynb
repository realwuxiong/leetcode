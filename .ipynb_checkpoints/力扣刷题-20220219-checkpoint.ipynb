{
 "cells": [
  {
   "cell_type": "code",
   "execution_count": null,
   "metadata": {},
   "outputs": [],
   "source": [
    "# 969. 煎饼排序\n",
    "# https://leetcode-cn.com/problems/pancake-sorting/\n",
    "\n",
    "from typing import List\n",
    "def pancakeSort(arr: List[int]) -> List[int]:\n",
    "    # 用最智障的做法试试，我的思路跟答案一样，但是不想写，最近都不爱动脑筋了。。\n",
    "    \n",
    "    # 以下抄的答案，就是不断找最大值，然后翻转一次放到第一位，然后再转一次到最后一位。。\n",
    "    ans = []\n",
    "    for n in range(len(arr), 1, -1):\n",
    "        index = 0\n",
    "        for i in range(n):\n",
    "            if arr[i] > arr[index]:\n",
    "                index = i\n",
    "        if index == n - 1:\n",
    "            continue\n",
    "        m = index\n",
    "        for i in range((m + 1) // 2):\n",
    "            arr[i], arr[m - i] = arr[m - i], arr[i]  # 原地反转\n",
    "        for i in range(n // 2):\n",
    "            arr[i], arr[n - 1 - i] = arr[n - 1 - i], arr[i]  # 原地反转\n",
    "        ans.append(index + 1)\n",
    "        ans.append(n)\n",
    "    return ans\n",
    "\n",
    "\n",
    "    pass\n",
    "arr = [3,2,4,1]\n",
    "pancakeSort(arr)"
   ]
  }
 ],
 "metadata": {
  "kernelspec": {
   "display_name": "Python 3",
   "language": "python",
   "name": "python3"
  },
  "language_info": {
   "codemirror_mode": {
    "name": "ipython",
    "version": 3
   },
   "file_extension": ".py",
   "mimetype": "text/x-python",
   "name": "python",
   "nbconvert_exporter": "python",
   "pygments_lexer": "ipython3",
   "version": "3.6.9"
  },
  "toc-autonumbering": false,
  "toc-showcode": false,
  "toc-showmarkdowntxt": false,
  "toc-showtags": false
 },
 "nbformat": 4,
 "nbformat_minor": 4
}
