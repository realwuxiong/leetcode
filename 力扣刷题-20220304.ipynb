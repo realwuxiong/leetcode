{
 "cells": [
  {
   "cell_type": "code",
   "execution_count": 2,
   "metadata": {},
   "outputs": [
    {
     "data": {
      "text/plain": [
       "59"
      ]
     },
     "execution_count": 2,
     "metadata": {},
     "output_type": "execute_result"
    }
   ],
   "source": [
    "# 2104. 子数组范围和\n",
    "# https://leetcode-cn.com/problems/sum-of-subarray-ranges/\n",
    "\n",
    "from typing import List\n",
    "def subArrayRanges(nums: List[int]) -> int:\n",
    "    n = len(nums)\n",
    "    \n",
    "    # 滑动窗口,超时了，看一下答案\n",
    "    ans = 0\n",
    "    for i in range(1,n+1):\n",
    "        j = 0\n",
    "        while j < n and j + i <= n:\n",
    "            ans += max(nums[j:j+i])-min(nums[j:j+i])\n",
    "            j += 1\n",
    "    return ans\n",
    "nums = [4,-2,-3,4,1]\n",
    "subArrayRanges(nums)"
   ]
  }
 ],
 "metadata": {
  "kernelspec": {
   "display_name": "Python 3",
   "language": "python",
   "name": "python3"
  },
  "language_info": {
   "codemirror_mode": {
    "name": "ipython",
    "version": 3
   },
   "file_extension": ".py",
   "mimetype": "text/x-python",
   "name": "python",
   "nbconvert_exporter": "python",
   "pygments_lexer": "ipython3",
   "version": "3.6.9"
  },
  "toc-autonumbering": false,
  "toc-showcode": false,
  "toc-showmarkdowntxt": false,
  "toc-showtags": false
 },
 "nbformat": 4,
 "nbformat_minor": 4
}
