{
 "cells": [
  {
   "cell_type": "code",
   "execution_count": 11,
   "metadata": {},
   "outputs": [
    {
     "name": "stdout",
     "output_type": "stream",
     "text": [
      "行没问题\n",
      "列没问题\n",
      "方格没问题\n"
     ]
    },
    {
     "data": {
      "text/plain": [
       "True"
      ]
     },
     "execution_count": 11,
     "metadata": {},
     "output_type": "execute_result"
    }
   ],
   "source": [
    "# 36. 有效的数独\n",
    "# https://leetcode-cn.com/problems/valid-sudoku/\n",
    "\n",
    "# 写的有点傻。。\n",
    "from typing import List\n",
    "def isValidSudoku(board: List[List[str]]) -> bool:\n",
    "   \n",
    "    # 检查行\n",
    "    stack = []\n",
    "    for i in range(9):\n",
    "        stack.clear()\n",
    "        for j in range(9):\n",
    "            if board[i][j] == \".\":\n",
    "                continue           \n",
    "            if board[i][j] in stack:\n",
    "                return False\n",
    "            else:\n",
    "                stack.append(board[i][j])\n",
    "    print(\"行没问题\")\n",
    "    # 检查列\n",
    "    for j in range(9):\n",
    "        stack.clear()\n",
    "        for i in range(9):\n",
    "            if board[i][j] == \".\":\n",
    "                continue           \n",
    "            if board[i][j] in stack:\n",
    "                return False\n",
    "            else:\n",
    "                stack.append(board[i][j])\n",
    "    print(\"列没问题\")\n",
    "    # 检查方格\n",
    "    for r,c in [(0,0),(0,3),(0,6),\n",
    "               (3,0),(3,3),(3,6),\n",
    "               (6,0),(6,3),(6,6)]:\n",
    "        stack.clear()\n",
    "        for i in range(3):\n",
    "            for j in range(3):\n",
    "                if board[i+r][j+c] == \".\":\n",
    "                    continue\n",
    "                if board[i+r][j+c] in stack:\n",
    "                    return False\n",
    "                else:\n",
    "                    stack.append(board[i+r][j+c])\n",
    "    print(\"方格没问题\")\n",
    "    return True\n",
    "    \n",
    "    pass\n",
    "board = [[\"5\",\"3\",\".\",\".\",\"7\",\".\",\".\",\".\",\".\"]\n",
    ",[\"6\",\".\",\".\",\"1\",\"9\",\"5\",\".\",\".\",\".\"]\n",
    ",[\".\",\"9\",\"8\",\".\",\".\",\".\",\".\",\"6\",\".\"]\n",
    ",[\"8\",\".\",\".\",\".\",\"6\",\".\",\".\",\".\",\"3\"]\n",
    ",[\"4\",\".\",\".\",\"8\",\".\",\"3\",\".\",\".\",\"1\"]\n",
    ",[\"7\",\".\",\".\",\".\",\"2\",\".\",\".\",\".\",\"6\"]\n",
    ",[\".\",\"6\",\".\",\".\",\".\",\".\",\"2\",\"8\",\".\"]\n",
    ",[\".\",\".\",\".\",\"4\",\"1\",\"9\",\".\",\".\",\"5\"]\n",
    ",[\".\",\".\",\".\",\".\",\"8\",\".\",\".\",\"7\",\"9\"]]\n",
    "isValidSudoku(board)"
   ]
  },
  {
   "cell_type": "code",
   "execution_count": null,
   "metadata": {},
   "outputs": [],
   "source": [
    "# 36. 有效的数独\n",
    "# https://leetcode-cn.com/problems/valid-sudoku/\n",
    "\n",
    "# 写的有点傻。。看答案的做法\n",
    "class Solution {\n",
    "    public boolean isValidSudoku(char[][] board) {\n",
    "        int[][] rows = new int[9][9];\n",
    "        int[][] columns = new int[9][9];\n",
    "        int[][][] subboxes = new int[3][3][9];\n",
    "        for (int i = 0; i < 9; i++) {\n",
    "            for (int j = 0; j < 9; j++) {\n",
    "                char c = board[i][j];\n",
    "                if (c != '.') {\n",
    "                    int index = c - '0' - 1;\n",
    "                    rows[i][index]++;\n",
    "                    columns[j][index]++;\n",
    "                    subboxes[i / 3][j / 3][index]++;\n",
    "                    if (rows[i][index] > 1 || columns[j][index] > 1 || subboxes[i / 3][j / 3][index] > 1) {\n",
    "                        return false;\n",
    "                    }\n",
    "                }\n",
    "            }\n",
    "        }\n",
    "        return true;\n",
    "    }\n",
    "}\n"
   ]
  }
 ],
 "metadata": {
  "kernelspec": {
   "display_name": "Python 3",
   "language": "python",
   "name": "python3"
  },
  "language_info": {
   "codemirror_mode": {
    "name": "ipython",
    "version": 3
   },
   "file_extension": ".py",
   "mimetype": "text/x-python",
   "name": "python",
   "nbconvert_exporter": "python",
   "pygments_lexer": "ipython3",
   "version": "3.6.9"
  },
  "toc-autonumbering": false,
  "toc-showcode": false,
  "toc-showmarkdowntxt": false,
  "toc-showtags": false
 },
 "nbformat": 4,
 "nbformat_minor": 4
}
