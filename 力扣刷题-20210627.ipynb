{
 "cells": [
  {
   "cell_type": "code",
   "execution_count": 3,
   "metadata": {},
   "outputs": [
    {
     "name": "stdout",
     "output_type": "stream",
     "text": [
      "deque([(1, 0)])\n"
     ]
    }
   ],
   "source": [
    "# 909. 蛇梯棋\n",
    "# https://leetcode-cn.com/problems/snakes-and-ladders/\n",
    "\n",
    "# 今天把\n",
    "from typing import List\n",
    "from collections import deque\n",
    "def snakesAndLadders(board: List[List[int]]) -> int:\n",
    "    q = deque()\n",
    "    q.append((1,0))\n",
    "    \n",
    "    print(q)\n",
    "    while q:\n",
    "        \n",
    "    \n",
    "    pass\n",
    "board = [\n",
    "[-1,-1,-1,-1,-1,-1],\n",
    "[-1,-1,-1,-1,-1,-1],\n",
    "[-1,-1,-1,-1,-1,-1],\n",
    "[-1,35,-1,-1,13,-1],\n",
    "[-1,-1,-1,-1,-1,-1],\n",
    "[-1,15,-1,-1,-1,-1]]\n",
    "\n",
    "snakesAndLadders(board)"
   ]
  }
 ],
 "metadata": {
  "kernelspec": {
   "display_name": "Python 3",
   "language": "python",
   "name": "python3"
  },
  "language_info": {
   "codemirror_mode": {
    "name": "ipython",
    "version": 3
   },
   "file_extension": ".py",
   "mimetype": "text/x-python",
   "name": "python",
   "nbconvert_exporter": "python",
   "pygments_lexer": "ipython3",
   "version": "3.6.9"
  }
 },
 "nbformat": 4,
 "nbformat_minor": 4
}
