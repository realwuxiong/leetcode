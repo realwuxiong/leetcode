{
 "cells": [
  {
   "cell_type": "code",
   "execution_count": 19,
   "metadata": {},
   "outputs": [
    {
     "name": "stdout",
     "output_type": "stream",
     "text": [
      "24679\n"
     ]
    }
   ],
   "source": [
    "# 526. 优美的排列\n",
    "# https://leetcode-cn.com/problems/beautiful-arrangement/\n",
    "\n",
    "# N 是一个正整数，并且不会超过15。\n",
    "# 这个限制条件是非常重要的\n",
    "\n",
    "# 最近的力扣刷的很烂。。。\n",
    "# 16:26-\n",
    "def countArrangement(n: int) -> int:\n",
    "    # 如果用dfs回溯，肯定是不行。。。会超时，如果不用dfs的话，估计八成得用动态规划\n",
    "    \n",
    "    # 先用dfs试试\n",
    "    # 卧槽勒，dfs真的做出来了。。。。\n",
    "    # 了解一些记忆搜索\n",
    "    def dfs(i):\n",
    "        if i > n-1:\n",
    "            ans.append(stack[:])\n",
    "            return \n",
    "        for j in range(n):\n",
    "            if visit[j+1]:\n",
    "                 continue\n",
    "            if (j+1) % (i+1) == 0 or (i+1) % (j+1) == 0:\n",
    "                visit[j+1] = True\n",
    "                stack.append(j+1)\n",
    "                dfs(i+1)\n",
    "                visit[j+1] = False\n",
    "                stack.pop()\n",
    "    \n",
    "    visit = [False]*(n+1)\n",
    "    stack = []\n",
    "    ans = []\n",
    "    dfs(0)\n",
    "    print(len(ans))\n",
    "    pass\n",
    "countArrangement(15)"
   ]
  },
  {
   "cell_type": "code",
   "execution_count": null,
   "metadata": {},
   "outputs": [],
   "source": [
    "# 看一下答案的动态规划，，，，\n",
    "class Solution:\n",
    "    def countArrangement(self, n: int) -> int:\n",
    "        f = [0] * (1 << n)\n",
    "        f[0] = 1\n",
    "        for mask in range(1, 1 << n):\n",
    "            num = bin(mask).count(\"1\")\n",
    "            for i in range(n):\n",
    "                if mask & (1 << i) and (num % (i + 1) == 0 or (i + 1) % num == 0):\n",
    "                    f[mask] += f[mask ^ (1 << i)]\n",
    "        \n",
    "        return f[(1 << n) - 1]"
   ]
  },
  {
   "cell_type": "code",
   "execution_count": 20,
   "metadata": {},
   "outputs": [
    {
     "name": "stdout",
     "output_type": "stream",
     "text": [
      "[[0, 0, 0, 0, 0, 0], [0, 0, 0, 0, 0, 0], [0, 0, 0, 0, 0, 0], [0, 0, 0, 0, 0, 0], [0, 0, 0, 0, 0, 0], [0, 0, 0, 0, 0, 0]]\n"
     ]
    }
   ],
   "source": [
    "# 516. 最长回文子序列\n",
    "# 重新补一下这个题目\n",
    "def longestPalindromeSubseq(s: str) -> int:\n",
    "    \"\"\"\n",
    "    最长回文子序列\n",
    "    dp[i][j] 表示未，字符索引在i-j之间的最长回文字符\n",
    "    \n",
    "    最后需要求的结果是dp[0][len(s)-1]\n",
    "    \"\"\"\n",
    "    n = len(s)\n",
    "    dp = [[0]*n for _ in range(n)]\n",
    "    \n",
    "    # 初始化\n",
    "    for i in range(n):\n",
    "        dp[i][i] = 1\n",
    "    \n",
    "    for i in range(n-1,-1,-1):\n",
    "        for j in range(i+1,n):\n",
    "            if s[i] == s[j]:\n",
    "                dp[i][j] = dp[i+1][j-1] + 2\n",
    "            else:\n",
    "                dp[i][j] = max(dp[i+1][j],dp[i][j-1])\n",
    "    \n",
    "    \n",
    "    pass\n",
    "longestPalindromeSubseq(\"abbbac\")"
   ]
  }
 ],
 "metadata": {
  "kernelspec": {
   "display_name": "Python 3",
   "language": "python",
   "name": "python3"
  },
  "language_info": {
   "codemirror_mode": {
    "name": "ipython",
    "version": 3
   },
   "file_extension": ".py",
   "mimetype": "text/x-python",
   "name": "python",
   "nbconvert_exporter": "python",
   "pygments_lexer": "ipython3",
   "version": "3.6.9"
  },
  "toc-autonumbering": false,
  "toc-showcode": false,
  "toc-showmarkdowntxt": false,
  "toc-showtags": false
 },
 "nbformat": 4,
 "nbformat_minor": 4
}
