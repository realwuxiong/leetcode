{
 "cells": [
  {
   "cell_type": "code",
   "execution_count": 2,
   "metadata": {},
   "outputs": [
    {
     "data": {
      "text/plain": [
       "2"
      ]
     },
     "execution_count": 2,
     "metadata": {},
     "output_type": "execute_result"
    }
   ],
   "source": [
    "# 1984. 学生分数的最小差值\n",
    "# https://leetcode-cn.com/problems/minimum-difference-between-highest-and-lowest-of-k-scores/\n",
    "from typing import List\n",
    "def minimumDifference(nums: List[int], k: int) -> int:\n",
    "    # 排序+滑动窗口\n",
    "    ans = float(\"INF\")\n",
    "    nums.sort()\n",
    "    for i in range(k-1,len(nums)):\n",
    "        ans = min(ans,nums[i]-nums[i+1-k])\n",
    "    return ans\n",
    "    pass\n",
    "nums = [9,4,1,7]\n",
    "k = 2\n",
    "minimumDifference(nums,k)"
   ]
  }
 ],
 "metadata": {
  "kernelspec": {
   "display_name": "Python 3",
   "language": "python",
   "name": "python3"
  },
  "language_info": {
   "codemirror_mode": {
    "name": "ipython",
    "version": 3
   },
   "file_extension": ".py",
   "mimetype": "text/x-python",
   "name": "python",
   "nbconvert_exporter": "python",
   "pygments_lexer": "ipython3",
   "version": "3.6.9"
  },
  "toc-autonumbering": false,
  "toc-showcode": false,
  "toc-showmarkdowntxt": false,
  "toc-showtags": false
 },
 "nbformat": 4,
 "nbformat_minor": 4
}
