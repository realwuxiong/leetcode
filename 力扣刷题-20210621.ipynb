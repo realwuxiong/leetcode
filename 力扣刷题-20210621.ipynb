{
 "cells": [
  {
   "cell_type": "code",
   "execution_count": null,
   "metadata": {},
   "outputs": [],
   "source": [
    "# 401. 二进制手表\n",
    "# https://leetcode-cn.com/problems/binary-watch/\n",
    "def readBinaryWatch(turnedOn: int) -> List[str]:\n",
    "    # 直接枚举？\n",
    "    # 时针四个\n",
    "    hour0 =[\"0:\"]\n",
    "    hour1 = [\"8:\",\"4:\",\"2:\",\"1:\"]  # 只亮一个灯\n",
    "    hour2 = [\"12:\",\"10:\",\"9:\",\"6:\",\"5:\",\"3:\"]  # 只亮一个灯\n",
    "    hour3 = [\"11:\",\"7:\"]  # 只亮一个灯\n",
    "#     hour4 = []  # 不可能亮四个灯\n",
    "#     min0 = [\"00\"]\n",
    "#     min1 = [\"32\",\"16\",\"08\",\"04\",\"02\",\"01\"]\n",
    "#     min2 = [\"48\",\"40\",\"36\",\"34\",\"33\",\n",
    "#             \"24\",\"20\",\"18\",\"17\",\n",
    "#             \"12\",\"10\",\"09\",\n",
    "#             \"06\",\"05\",\n",
    "#             \"03\"\n",
    "#            ]\n",
    "#     min3 = \n",
    "    # 当hour=0\n",
    "    if turnedOn == 6:\n",
    "        pass\n",
    "    else:\n",
    "        for i in range()\n",
    "        \n",
    "    # 分针六个里面选turnedOn个\n",
    "        \n",
    "readBinaryWatch(1)"
   ]
  },
  {
   "cell_type": "code",
   "execution_count": null,
   "metadata": {},
   "outputs": [],
   "source": [
    "# 看的答案\n",
    "class Solution:\n",
    "    def readBinaryWatch(self, turnedOn: int) -> List[str]:\n",
    "        ans = list()\n",
    "        for h in range(12):\n",
    "            for m in range(60):\n",
    "                if bin(h).count(\"1\") + bin(m).count(\"1\") == turnedOn:\n",
    "                    ans.append(f\"{h}:{m:02d}\")\n",
    "        return ans\n",
    "\n"
   ]
  }
 ],
 "metadata": {
  "kernelspec": {
   "display_name": "Python 3",
   "language": "python",
   "name": "python3"
  },
  "language_info": {
   "codemirror_mode": {
    "name": "ipython",
    "version": 3
   },
   "file_extension": ".py",
   "mimetype": "text/x-python",
   "name": "python",
   "nbconvert_exporter": "python",
   "pygments_lexer": "ipython3",
   "version": "3.6.9"
  }
 },
 "nbformat": 4,
 "nbformat_minor": 4
}
