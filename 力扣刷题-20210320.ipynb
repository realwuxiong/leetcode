{
 "cells": [
  {
   "cell_type": "code",
   "execution_count": 28,
   "metadata": {},
   "outputs": [
    {
     "data": {
      "text/plain": [
       "-7"
      ]
     },
     "execution_count": 28,
     "metadata": {},
     "output_type": "execute_result"
    }
   ],
   "source": [
    "# 150. 逆波兰表达式求值\n",
    "# https://leetcode-cn.com/problems/evaluate-reverse-polish-notation/\n",
    "# 终于来了逆波兰式\n",
    "\n",
    "from typing import List\n",
    "def evalRPN(tokens: List[str]) -> int:\n",
    "    stack = []\n",
    "    for token in tokens:\n",
    "        if token in \"+-*/\":\n",
    "            if token == '+':\n",
    "                stack.append(stack.pop()+stack.pop())\n",
    "            elif token == '-':\n",
    "                y = stack.pop()\n",
    "                x = stack.pop()\n",
    "                stack.append(x-y)\n",
    "            elif token == '*':\n",
    "                y = stack.pop()\n",
    "                x = stack.pop()\n",
    "                stack.append(x*y)\n",
    "            elif token == '/':\n",
    "                y = stack.pop()\n",
    "                x = stack.pop()\n",
    "                import math\n",
    "                stack.append(math.floor(x/y)) if x/y >= 0 else stack.append(math.ceil(x/y))\n",
    "        else:\n",
    "            stack.append(int(token))\n",
    "    return stack[0]\n",
    "    \n",
    "    pass\n",
    "    \n",
    "tokens = [\"4\",\"-2\",\"/\",\"2\",\"-3\",\"-\",\"-\"]\n",
    "evalRPN(tokens)"
   ]
  },
  {
   "cell_type": "code",
   "execution_count": 42,
   "metadata": {},
   "outputs": [
    {
     "name": "stdout",
     "output_type": "stream",
     "text": [
      "{'A': 'N', 'B': 'O', 'C': 'P', 'D': 'Q', 'E': 'R', 'F': 'S', 'G': 'T', 'H': 'U', 'I': 'V', 'J': 'W', 'K': 'X', 'L': 'Y', 'M': 'Z', 'N': 'A', 'O': 'B', 'P': 'C', 'Q': 'D', 'R': 'E', 'S': 'F', 'T': 'G', 'U': 'H', 'V': 'I', 'W': 'J', 'X': 'K', 'Y': 'L', 'Z': 'M'}\n",
      "Cython"
     ]
    }
   ],
   "source": [
    "# 这个题就是，ASCII码的转换\n",
    "d={}\n",
    "for i in range(26):\n",
    "    d[chr(i+ord(\"A\"))] = chr((i+13)%26 + ord(\"A\"))\n",
    "print(d)\n",
    "for c in \"Python\":\n",
    "    print(d.get(c,c),end=\"\")  # d.get(c,c)如果字典key没有c则返回c ,d.get(c)如果字典key没有c则返回None"
   ]
  },
  {
   "cell_type": "code",
   "execution_count": 41,
   "metadata": {},
   "outputs": [
    {
     "name": "stdout",
     "output_type": "stream",
     "text": [
      "c\n"
     ]
    }
   ],
   "source": []
  }
 ],
 "metadata": {
  "kernelspec": {
   "display_name": "Python 3",
   "language": "python",
   "name": "python3"
  },
  "language_info": {
   "codemirror_mode": {
    "name": "ipython",
    "version": 3
   },
   "file_extension": ".py",
   "mimetype": "text/x-python",
   "name": "python",
   "nbconvert_exporter": "python",
   "pygments_lexer": "ipython3",
   "version": "3.8.5"
  }
 },
 "nbformat": 4,
 "nbformat_minor": 4
}
