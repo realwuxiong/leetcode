{
 "cells": [
  {
   "cell_type": "code",
   "execution_count": 4,
   "metadata": {},
   "outputs": [
    {
     "data": {
      "text/plain": [
       "3"
      ]
     },
     "execution_count": 4,
     "metadata": {},
     "output_type": "execute_result"
    }
   ],
   "source": [
    "# 495. 提莫攻击\n",
    "# https://leetcode-cn.com/problems/teemo-attacking/\n",
    "\n",
    "from typing import List\n",
    "def findPoisonedDuration(timeSeries: List[int], duration: int) -> int:\n",
    "    # 一次AC,但是写的好像不是那么容易理解\n",
    "    start = timeSeries[0]\n",
    "    t = start\n",
    "    ans = 0\n",
    "    for i in range(1,len(timeSeries)):\n",
    "        if t+duration-1 < timeSeries[i]:\n",
    "            ans += t + duration  - start\n",
    "            start = timeSeries[i]\n",
    "            t = start\n",
    "        else:\n",
    "            t = timeSeries[i]\n",
    "\n",
    "    return ans + t + duration  - start\n",
    "timeSeries = [1,2]\n",
    "duration = 2\n",
    "findPoisonedDuration(timeSeries,duration)"
   ]
  },
  {
   "cell_type": "code",
   "execution_count": null,
   "metadata": {},
   "outputs": [],
   "source": [
    "# 答案的做法容易理解\n",
    "class Solution:\n",
    "    def findPoisonedDuration(self, timeSeries: List[int], duration: int) -> int:\n",
    "        ans, expired = 0, 0\n",
    "        for i in range(len(timeSeries)):\n",
    "            if timeSeries[i] >= expired:\n",
    "                ans += duration\n",
    "            else:\n",
    "                ans += timeSeries[i] + duration - expired\n",
    "            expired = timeSeries[i] + duration\n",
    "        return ans\n",
    "\n"
   ]
  }
 ],
 "metadata": {
  "kernelspec": {
   "display_name": "Python 3",
   "language": "python",
   "name": "python3"
  },
  "language_info": {
   "codemirror_mode": {
    "name": "ipython",
    "version": 3
   },
   "file_extension": ".py",
   "mimetype": "text/x-python",
   "name": "python",
   "nbconvert_exporter": "python",
   "pygments_lexer": "ipython3",
   "version": "3.6.9"
  },
  "toc-autonumbering": false,
  "toc-showcode": false,
  "toc-showmarkdowntxt": false,
  "toc-showtags": false
 },
 "nbformat": 4,
 "nbformat_minor": 4
}
