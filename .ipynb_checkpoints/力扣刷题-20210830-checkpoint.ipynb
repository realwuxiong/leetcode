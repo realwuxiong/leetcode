{
 "cells": [
  {
   "cell_type": "code",
   "execution_count": 41,
   "metadata": {},
   "outputs": [
    {
     "name": "stdout",
     "output_type": "stream",
     "text": [
      "0.9646396977026546\n",
      "2\n"
     ]
    }
   ],
   "source": [
    "# 528. 按权重随机选择\n",
    "# https://leetcode-cn.com/problems/random-pick-with-weight/\n",
    "\n",
    "# 用random去模拟\n",
    "\n",
    "class Solution:\n",
    "\n",
    "    def __init__(self, w: List[int]):\n",
    "        # 这个其实就是概率问题\n",
    "        self.w = w\n",
    "        self.length = len(w)\n",
    "        self.prefixSum = []\n",
    "        t = 0\n",
    "        sumW = sum(w)\n",
    "        for num in self.w:\n",
    "            t+=num\n",
    "            self.prefixSum.append(t/sumW)\n",
    "\n",
    "    def pickIndex(self) -> int:\n",
    "        # 这里可以优化成二分法\n",
    "        import random\n",
    "        a = random.random()\n",
    "        low,index = 0,0\n",
    "        for p in self.prefixSum:\n",
    "            high = p\n",
    "            if low <= a <= high:\n",
    "                return index\n",
    "            index += 1\n",
    "            low = high\n",
    "        return index\n",
    "\n",
    "# Your Solution object will be instantiated and called as such:\n",
    "# obj = Solution(w)\n",
    "# param_1 = obj.pickIndex()"
   ]
  }
 ],
 "metadata": {
  "kernelspec": {
   "display_name": "Python 3",
   "language": "python",
   "name": "python3"
  },
  "language_info": {
   "codemirror_mode": {
    "name": "ipython",
    "version": 3
   },
   "file_extension": ".py",
   "mimetype": "text/x-python",
   "name": "python",
   "nbconvert_exporter": "python",
   "pygments_lexer": "ipython3",
   "version": "3.6.9"
  },
  "toc-autonumbering": false,
  "toc-showcode": false,
  "toc-showmarkdowntxt": false,
  "toc-showtags": false
 },
 "nbformat": 4,
 "nbformat_minor": 4
}
