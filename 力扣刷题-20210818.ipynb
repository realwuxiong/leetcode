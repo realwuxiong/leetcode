{
 "cells": [
  {
   "cell_type": "code",
   "execution_count": 1,
   "metadata": {},
   "outputs": [
    {
     "data": {
      "text/plain": [
       "8"
      ]
     },
     "execution_count": 1,
     "metadata": {},
     "output_type": "execute_result"
    }
   ],
   "source": [
    "# 552. 学生出勤记录 II\n",
    "# https://leetcode-cn.com/problems/student-attendance-record-ii/\n",
    "def checkRecord(n: int) -> int:\n",
    "    # 采用动态规划...\n",
    "    # 这个题看的答案，明天再抽时间看看。。。\n",
    "    MOD = 10**9 + 7\n",
    "    # A 的数量，结尾连续 L 的数量\n",
    "    dp = [[0, 0, 0], [0, 0, 0]]\n",
    "    dp[0][0] = 1\n",
    "\n",
    "    for i in range(1, n + 1):\n",
    "        dpNew = [[0, 0, 0], [0, 0, 0]]\n",
    "\n",
    "        # 以 P 结尾的数量\n",
    "        for j in range(0, 2):\n",
    "            for k in range(0, 3):\n",
    "                dpNew[j][0] = (dpNew[j][0] + dp[j][k]) % MOD\n",
    "\n",
    "        # 以 A 结尾的数量\n",
    "        for k in range(0, 3):\n",
    "            dpNew[1][0] = (dpNew[1][0] + dp[0][k]) % MOD\n",
    "\n",
    "        # 以 L 结尾的数量\n",
    "        for j in range(0, 2):\n",
    "            for k in range(1, 3):\n",
    "                dpNew[j][k] = (dpNew[j][k] + dp[j][k - 1]) % MOD\n",
    "\n",
    "        dp = dpNew\n",
    "\n",
    "    total = 0\n",
    "    for j in range(0, 2):\n",
    "        for k in range(0, 3):\n",
    "            total += dp[j][k]\n",
    "\n",
    "    return total\n",
    "checkRecord(2)"
   ]
  }
 ],
 "metadata": {
  "kernelspec": {
   "display_name": "Python 3",
   "language": "python",
   "name": "python3"
  },
  "language_info": {
   "codemirror_mode": {
    "name": "ipython",
    "version": 3
   },
   "file_extension": ".py",
   "mimetype": "text/x-python",
   "name": "python",
   "nbconvert_exporter": "python",
   "pygments_lexer": "ipython3",
   "version": "3.6.9"
  },
  "toc-autonumbering": false,
  "toc-showcode": false,
  "toc-showmarkdowntxt": false,
  "toc-showtags": false
 },
 "nbformat": 4,
 "nbformat_minor": 4
}
