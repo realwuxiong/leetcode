{
 "cells": [
  {
   "cell_type": "code",
   "execution_count": 32,
   "metadata": {},
   "outputs": [
    {
     "data": {
      "text/plain": [
       "5"
      ]
     },
     "execution_count": 32,
     "metadata": {},
     "output_type": "execute_result"
    }
   ],
   "source": [
    "# 485. 最大连续1的个数\n",
    "# https://leetcode-cn.com/problems/max-consecutive-ones/\n",
    "# 滑动窗口的题目\n",
    "from typing import List\n",
    "def findMaxConsecutiveOnes(nums: List[int]) -> int:\n",
    "    count = 0\n",
    "    res = 0\n",
    "    for index, data in enumerate(nums):\n",
    "        if(data == 1):\n",
    "            count += 1\n",
    "        else:\n",
    "            res = max(res,count)\n",
    "            count = 0 \n",
    "            \n",
    "    return max(res,count)\n",
    "nums = [1,0,1,1,0,1,1,1,1,1]\n",
    "findMaxConsecutiveOnes(nums)"
   ]
  }
 ],
 "metadata": {
  "kernelspec": {
   "display_name": "Python 3",
   "language": "python",
   "name": "python3"
  },
  "language_info": {
   "codemirror_mode": {
    "name": "ipython",
    "version": 3
   },
   "file_extension": ".py",
   "mimetype": "text/x-python",
   "name": "python",
   "nbconvert_exporter": "python",
   "pygments_lexer": "ipython3",
   "version": "3.8.5"
  }
 },
 "nbformat": 4,
 "nbformat_minor": 4
}
