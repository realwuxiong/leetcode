{
 "cells": [
  {
   "cell_type": "code",
   "execution_count": 4,
   "metadata": {},
   "outputs": [
    {
     "data": {
      "text/plain": [
       "False"
      ]
     },
     "execution_count": 4,
     "metadata": {},
     "output_type": "execute_result"
    }
   ],
   "source": [
    "# 789. 逃脱阻碍者\n",
    "# https://leetcode-cn.com/problems/escape-the-ghosts/\n",
    "\n",
    "from typing import List\n",
    "def escapeGhosts(ghosts: List[List[int]], target: List[int]) -> bool:\n",
    "    \n",
    "    # 说实话，没太懂这个题目的意思，并没有说ghosts是智能的。\n",
    "    # 这就过了 76 / 77 个通过测试用例\n",
    "    minExpense = 10000\n",
    "    for ghost in ghosts:\n",
    "         minExpense = min(abs(ghost[0]-target[0]) + abs(ghost[1] - target[1]) , minExpense)\n",
    "    \n",
    "    if minExpense <= abs(target[0]) + abs(target[1]):\n",
    "        return False\n",
    "    return True\n",
    "\n",
    "\n",
    "\n",
    "ghosts = [[5,0],[-10,-2],[0,-5],[-2,-2],[-7,1]]\n",
    "target = [7,7]\n",
    "escapeGhosts(ghosts,target)"
   ]
  }
 ],
 "metadata": {
  "kernelspec": {
   "display_name": "Python 3",
   "language": "python",
   "name": "python3"
  },
  "language_info": {
   "codemirror_mode": {
    "name": "ipython",
    "version": 3
   },
   "file_extension": ".py",
   "mimetype": "text/x-python",
   "name": "python",
   "nbconvert_exporter": "python",
   "pygments_lexer": "ipython3",
   "version": "3.6.9"
  },
  "toc-autonumbering": false,
  "toc-showcode": false,
  "toc-showmarkdowntxt": false,
  "toc-showtags": false
 },
 "nbformat": 4,
 "nbformat_minor": 4
}
