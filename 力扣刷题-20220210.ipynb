{
 "cells": [
  {
   "cell_type": "code",
   "execution_count": 2,
   "metadata": {},
   "outputs": [
    {
     "name": "stdout",
     "output_type": "stream",
     "text": [
      "['1/2']\n"
     ]
    }
   ],
   "source": [
    "# 1447. 最简分数\n",
    "# https://leetcode-cn.com/problems/simplified-fractions/\n",
    "from typing import List\n",
    "from math import gcd\n",
    "# 学了一个math的函数，gcd取最大公约数\n",
    "def simplifiedFractions(n: int) -> List[str]:\n",
    "    return [f\"{numerator}/{denominator}\" for denominator in range(2, n + 1) for numerator in range(1, denominator) if gcd(denominator, numerator) == 1]\n",
    "print(simplifiedFractions(2))\n"
   ]
  },
  {
   "cell_type": "code",
   "execution_count": null,
   "metadata": {},
   "outputs": [],
   "source": [
    "class Solution {\n",
    "    public List<String> simplifiedFractions(int n) {\n",
    "        List<String> ans = new ArrayList<String>();\n",
    "        for (int denominator = 2; denominator <= n; ++denominator) {\n",
    "            for (int numerator = 1; numerator < denominator; ++numerator) {\n",
    "                if (gcd(numerator, denominator) == 1) {\n",
    "                    ans.add(numerator + \"/\" + denominator);\n",
    "                }\n",
    "            }\n",
    "        }\n",
    "        return ans;\n",
    "    }\n",
    "\n",
    "    public int gcd(int a, int b) {\n",
    "        return b != 0 ? gcd(b, a % b) : a;\n",
    "    }\n",
    "}\n",
    "\n",
    "# 求最大公约数的函数可以学一学。。"
   ]
  }
 ],
 "metadata": {
  "kernelspec": {
   "display_name": "Python 3",
   "language": "python",
   "name": "python3"
  },
  "language_info": {
   "codemirror_mode": {
    "name": "ipython",
    "version": 3
   },
   "file_extension": ".py",
   "mimetype": "text/x-python",
   "name": "python",
   "nbconvert_exporter": "python",
   "pygments_lexer": "ipython3",
   "version": "3.6.9"
  },
  "toc-autonumbering": false,
  "toc-showcode": false,
  "toc-showmarkdowntxt": false,
  "toc-showtags": false
 },
 "nbformat": 4,
 "nbformat_minor": 4
}
