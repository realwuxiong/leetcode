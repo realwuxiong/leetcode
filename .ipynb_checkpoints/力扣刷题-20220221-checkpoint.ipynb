{
 "cells": [
  {
   "cell_type": "code",
   "execution_count": 8,
   "metadata": {},
   "outputs": [
    {
     "name": "stdout",
     "output_type": "stream",
     "text": [
      "[0, 1, 3, 4]\n"
     ]
    },
    {
     "data": {
      "text/plain": [
       "'dc-ba'"
      ]
     },
     "execution_count": 8,
     "metadata": {},
     "output_type": "execute_result"
    }
   ],
   "source": [
    "# 917. 仅仅反转字母\n",
    "# https://leetcode-cn.com/problems/reverse-only-letters/\n",
    "\n",
    "def reverseOnlyLetters(s: str) -> str:\n",
    "    s = list(s)\n",
    "    t = []\n",
    "    for i in range(len(s)):\n",
    "        if ord('a') <= ord(s[i]) <= ord('z') or ord('A') <= ord(s[i]) <= ord('Z') :\n",
    "            t.append(i)\n",
    "#     print(t)\n",
    "    i,j = 0,len(t)-1\n",
    "    while i < j:\n",
    "        s[t[i]],s[t[j]] = s[t[j]],s[t[i]]\n",
    "        i += 1\n",
    "        j -= 1\n",
    "    return \"\".join(s)\n",
    "s = \"ab-cd\"\n",
    "reverseOnlyLetters(s)"
   ]
  }
 ],
 "metadata": {
  "kernelspec": {
   "display_name": "Python 3",
   "language": "python",
   "name": "python3"
  },
  "language_info": {
   "codemirror_mode": {
    "name": "ipython",
    "version": 3
   },
   "file_extension": ".py",
   "mimetype": "text/x-python",
   "name": "python",
   "nbconvert_exporter": "python",
   "pygments_lexer": "ipython3",
   "version": "3.6.9"
  },
  "toc-autonumbering": false,
  "toc-showcode": false,
  "toc-showmarkdowntxt": false,
  "toc-showtags": false
 },
 "nbformat": 4,
 "nbformat_minor": 4
}
