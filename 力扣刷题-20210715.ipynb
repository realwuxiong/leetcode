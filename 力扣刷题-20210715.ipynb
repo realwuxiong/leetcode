{
 "cells": [
  {
   "cell_type": "code",
   "execution_count": 10,
   "metadata": {},
   "outputs": [
    {
     "name": "stdout",
     "output_type": "stream",
     "text": [
      "5\n"
     ]
    }
   ],
   "source": [
    "# 1846. 减小和重新排列数组后的最大元素\n",
    "# https://leetcode-cn.com/problems/maximum-element-after-decreasing-and-rearranging/\n",
    "from typing import List\n",
    "def maximumElementAfterDecrementingAndRearranging(arr: List[int]) -> int:\n",
    "    # 堆排序\n",
    "    import heapq\n",
    "    heapq.heapify(arr)\n",
    "    heapq.heappop(arr) # 不管第一个值是什么，一定是1\n",
    "    ans =[1] # 第一个值一定是1\n",
    "    while arr:\n",
    "        x = heapq.heappop(arr)\n",
    "        \n",
    "        if x == ans[-1]:\n",
    "            ans.append(x)\n",
    "        else:\n",
    "            ans.append(ans[-1]+1)\n",
    "    print(max(ans))\n",
    "    pass\n",
    "arr =  [1,2,3,4,5]\n",
    "maximumElementAfterDecrementingAndRearranging(arr)"
   ]
  },
  {
   "cell_type": "code",
   "execution_count": null,
   "metadata": {},
   "outputs": [],
   "source": [
    "#  答案的计数排序非常棒\n",
    "class Solution {\n",
    "    public int maximumElementAfterDecrementingAndRearranging(int[] arr) {\n",
    "        int n = arr.length;\n",
    "        int[] cnt = new int[n + 1];\n",
    "        for (int v : arr) {\n",
    "            ++cnt[Math.min(v, n)];\n",
    "        }\n",
    "        int miss = 0;\n",
    "        for (int i = 1; i <= n; ++i) {\n",
    "            if (cnt[i] == 0) {\n",
    "                ++miss;\n",
    "            } else {\n",
    "                miss -= Math.min(cnt[i] - 1, miss); // miss 不会小于 0，故至多减去 miss 个元素\n",
    "            }\n",
    "        }\n",
    "        return n - miss;\n",
    "    }\n",
    "}\n",
    "\n"
   ]
  }
 ],
 "metadata": {
  "kernelspec": {
   "display_name": "Python 3",
   "language": "python",
   "name": "python3"
  },
  "language_info": {
   "codemirror_mode": {
    "name": "ipython",
    "version": 3
   },
   "file_extension": ".py",
   "mimetype": "text/x-python",
   "name": "python",
   "nbconvert_exporter": "python",
   "pygments_lexer": "ipython3",
   "version": "3.6.9"
  }
 },
 "nbformat": 4,
 "nbformat_minor": 4
}
