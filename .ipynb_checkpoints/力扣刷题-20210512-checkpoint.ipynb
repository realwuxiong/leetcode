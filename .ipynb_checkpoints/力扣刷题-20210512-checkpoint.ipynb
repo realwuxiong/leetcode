{
 "cells": [
  {
   "cell_type": "code",
   "execution_count": 17,
   "metadata": {},
   "outputs": [
    {
     "name": "stdout",
     "output_type": "stream",
     "text": [
      "[0, 4, 12, 14, 4]\n",
      "[8, 0, 4, 4]\n"
     ]
    }
   ],
   "source": [
    "# 1310. 子数组异或查询\n",
    "# https://leetcode-cn.com/problems/xor-queries-of-a-subarray/\n",
    "# 前缀和，easy\n",
    "from typing import List\n",
    "def xorQueries(arr: List[int], queries: List[List[int]]) -> List[int]:\n",
    "    ans = []\n",
    "    PrefixXor = [0]\n",
    "    t = 0\n",
    "    for a in arr:\n",
    "        PrefixXor.append(t^a)\n",
    "        t ^= a\n",
    "    print(PrefixXor)\n",
    "    for query in queries:\n",
    "        ans.append(PrefixXor[query[0]]^PrefixXor[query[1]+1])\n",
    "    print(ans)\n",
    "    pass\n",
    "arr = [4,8,2,10]\n",
    "queries = [[2,3],[1,3],[0,0],[0,3]]\n",
    "xorQueries(arr,queries)"
   ]
  },
  {
   "cell_type": "code",
   "execution_count": null,
   "metadata": {},
   "outputs": [],
   "source": [
    "// java版本，看的答案。其实跟我的Python版本差不多\n",
    "class Solution {\n",
    "    public int[] xorQueries(int[] arr, int[][] queries) {\n",
    "        int n = arr.length;\n",
    "        int[] xors = new int[n + 1];\n",
    "        for (int i = 0; i < n; i++) {\n",
    "            xors[i + 1] = xors[i] ^ arr[i];\n",
    "        }\n",
    "        int m = queries.length;\n",
    "        int[] ans = new int[m];\n",
    "        for (int i = 0; i < m; i++) {\n",
    "            ans[i] = xors[queries[i][0]] ^ xors[queries[i][1] + 1];\n",
    "        }\n",
    "        return ans;\n",
    "    }\n",
    "}\n"
   ]
  }
 ],
 "metadata": {
  "kernelspec": {
   "display_name": "Python 3",
   "language": "python",
   "name": "python3"
  },
  "language_info": {
   "codemirror_mode": {
    "name": "ipython",
    "version": 3
   },
   "file_extension": ".py",
   "mimetype": "text/x-python",
   "name": "python",
   "nbconvert_exporter": "python",
   "pygments_lexer": "ipython3",
   "version": "3.6.9"
  }
 },
 "nbformat": 4,
 "nbformat_minor": 4
}
