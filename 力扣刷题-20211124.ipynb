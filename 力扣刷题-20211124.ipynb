{
 "cells": [
  {
   "cell_type": "code",
   "execution_count": 3,
   "metadata": {},
   "outputs": [
    {
     "data": {
      "text/plain": [
       "'45'"
      ]
     },
     "execution_count": 3,
     "metadata": {},
     "output_type": "execute_result"
    }
   ],
   "source": [
    "# 423. 从英文中重建数字\n",
    "# https://leetcode-cn.com/problems/reconstruct-original-digits-from-english/\n",
    "\n",
    "def originalDigits(s: str) -> str:\n",
    "    from collections import Counter\n",
    "    c = Counter(s)\n",
    "\n",
    "    cnt = [0] * 10\n",
    "    cnt[0] = c[\"z\"]\n",
    "    cnt[2] = c[\"w\"]\n",
    "    cnt[4] = c[\"u\"]\n",
    "    cnt[6] = c[\"x\"]\n",
    "    cnt[8] = c[\"g\"]\n",
    "\n",
    "    cnt[3] = c[\"h\"] - cnt[8]\n",
    "    cnt[5] = c[\"f\"] - cnt[4]\n",
    "    cnt[7] = c[\"s\"] - cnt[6]\n",
    "\n",
    "    cnt[1] = c[\"o\"] - cnt[0] - cnt[2] - cnt[4]\n",
    "\n",
    "    cnt[9] = c[\"i\"] - cnt[5] - cnt[6] - cnt[8]\n",
    "\n",
    "    return \"\".join(str(x) * cnt[x] for x in range(10))\n",
    "\n",
    "s = \"fviefuro\"\n",
    "originalDigits(s)"
   ]
  }
 ],
 "metadata": {
  "kernelspec": {
   "display_name": "Python 3",
   "language": "python",
   "name": "python3"
  },
  "language_info": {
   "codemirror_mode": {
    "name": "ipython",
    "version": 3
   },
   "file_extension": ".py",
   "mimetype": "text/x-python",
   "name": "python",
   "nbconvert_exporter": "python",
   "pygments_lexer": "ipython3",
   "version": "3.6.9"
  },
  "toc-autonumbering": false,
  "toc-showcode": false,
  "toc-showmarkdowntxt": false,
  "toc-showtags": false
 },
 "nbformat": 4,
 "nbformat_minor": 4
}
