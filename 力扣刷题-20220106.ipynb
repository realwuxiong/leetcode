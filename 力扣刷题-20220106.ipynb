{
 "cells": [
  {
   "cell_type": "code",
   "execution_count": 44,
   "metadata": {},
   "outputs": [
    {
     "data": {
      "text/plain": [
       "'/'"
      ]
     },
     "execution_count": 44,
     "metadata": {},
     "output_type": "execute_result"
    }
   ],
   "source": [
    "# 71. 简化路径\n",
    "# https://leetcode-cn.com/problems/simplify-path/\n",
    "\n",
    "# 为啥我写的这么智障。。。。\n",
    "def simplifyPath(path: str) -> str:\n",
    "    # 其实就是只用考虑./和../ 用堆栈咯\n",
    "    \n",
    "    #先把多个斜杠转化成单个斜杠\n",
    "    s = []\n",
    "    for p in path:\n",
    "        if not s:\n",
    "            s.append(p)\n",
    "            pre = p\n",
    "            continue\n",
    "        if p == \"/\" and p == pre:\n",
    "            continue\n",
    "        s.append(p)\n",
    "        pre = p\n",
    "    paths = ''.join(s).split(\"/\")\n",
    "\n",
    "    stack = []\n",
    "#     print(paths)\n",
    "    for p in paths:\n",
    "        if p == \".\":\n",
    "            continue\n",
    "        if p == \"..\":\n",
    "            if stack:\n",
    "                stack.pop()\n",
    "            continue\n",
    "        stack.append(p)\n",
    "    ans = \"/\".join(stack)\n",
    "    if len(ans) == 1:\n",
    "        return ans\n",
    "    if ans == \"\":\n",
    "        ans = \"/\"\n",
    "    elif ans[-1] == \"/\":\n",
    "        ans = ans[:-1]\n",
    "    if ans[0] != \"/\":\n",
    "        ans = \"/\"+ans\n",
    "    return ans\n",
    "    pass\n",
    "path =  \"///\"\n",
    "simplifyPath(path)"
   ]
  },
  {
   "cell_type": "code",
   "execution_count": null,
   "metadata": {},
   "outputs": [],
   "source": [
    "class Solution:\n",
    "    def simplifyPath(self, path: str) -> str:\n",
    "        names = path.split(\"/\")\n",
    "        stack = list()\n",
    "        for name in names:\n",
    "            if name == \"..\":\n",
    "                if stack:\n",
    "                    stack.pop()\n",
    "            elif name and name != \".\":\n",
    "                stack.append(name)\n",
    "        return \"/\" + \"/\".join(stack)\n"
   ]
  }
 ],
 "metadata": {
  "kernelspec": {
   "display_name": "Python 3",
   "language": "python",
   "name": "python3"
  },
  "language_info": {
   "codemirror_mode": {
    "name": "ipython",
    "version": 3
   },
   "file_extension": ".py",
   "mimetype": "text/x-python",
   "name": "python",
   "nbconvert_exporter": "python",
   "pygments_lexer": "ipython3",
   "version": "3.6.9"
  },
  "toc-autonumbering": false,
  "toc-showcode": false,
  "toc-showmarkdowntxt": false,
  "toc-showtags": false
 },
 "nbformat": 4,
 "nbformat_minor": 4
}
