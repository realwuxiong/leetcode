{
 "cells": [
  {
   "cell_type": "code",
   "execution_count": 13,
   "metadata": {},
   "outputs": [
    {
     "data": {
      "text/plain": [
       "[[2, 2, 2], [2, 1, 2], [2, 2, 2]]"
      ]
     },
     "execution_count": 13,
     "metadata": {},
     "output_type": "execute_result"
    }
   ],
   "source": [
    "# 1034. 边界着色\n",
    "# https://leetcode-cn.com/problems/coloring-a-border/\n",
    "\n",
    "from typing import List\n",
    "def colorBorder(grid: List[List[int]], row: int, col: int, color: int) -> List[List[int]]:\n",
    "    # 感觉其实可以用dfs\n",
    "    m = len(grid)\n",
    "    n = len(grid[0])\n",
    "    originalColor = grid[row][col]\n",
    "    visited = [[False]*n for _ in range(m)]\n",
    "    borders = []\n",
    "    def dfs(x,y):\n",
    "        isBorder = False        \n",
    "        direc = ((-1, 0), (1, 0), (0, -1), (0, 1))\n",
    "        for dx, dy in direc:\n",
    "            nx, ny = x + dx, y + dy\n",
    "            if not (0 <= nx < m and 0 <= ny < n and grid[nx][ny] == originalColor):\n",
    "                isBorder = True\n",
    "            elif not visited[nx][ny]:\n",
    "                visited[nx][ny] = True\n",
    "                dfs(nx, ny)\n",
    "        if isBorder:\n",
    "            borders.append((x, y))\n",
    "    dfs(row,col)\n",
    "    for i,j in borders:\n",
    "        grid[i][j] = color\n",
    "    \n",
    "    return grid\n",
    "        \n",
    "grid = [[1,1,1],[1,1,1],[1,1,1]]\n",
    "row = 1\n",
    "col = 1\n",
    "color = 2\n",
    "colorBorder(grid,row,col,color)"
   ]
  }
 ],
 "metadata": {
  "kernelspec": {
   "display_name": "Python 3",
   "language": "python",
   "name": "python3"
  },
  "language_info": {
   "codemirror_mode": {
    "name": "ipython",
    "version": 3
   },
   "file_extension": ".py",
   "mimetype": "text/x-python",
   "name": "python",
   "nbconvert_exporter": "python",
   "pygments_lexer": "ipython3",
   "version": "3.6.9"
  },
  "toc-autonumbering": false,
  "toc-showcode": false,
  "toc-showmarkdowntxt": false,
  "toc-showtags": false
 },
 "nbformat": 4,
 "nbformat_minor": 4
}
