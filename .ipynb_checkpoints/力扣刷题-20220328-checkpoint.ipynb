{
 "cells": [
  {
   "cell_type": "code",
   "execution_count": null,
   "metadata": {},
   "outputs": [],
   "source": [
    "# 693. 交替位二进制数\n",
    "# https://leetcode-cn.com/problems/binary-number-with-alternating-bits/\n",
    "\n",
    "def hasAlternatingBits(n: int) -> bool:\n",
    "    \n",
    "    flag = n & 1\n",
    "    \n",
    "    while n > 0:\n",
    "        t = n >> 1\n",
    "        if flag == (t & 1):\n",
    "            return False\n",
    "        flag = \n",
    "    \n",
    "    \n",
    "    pass\n",
    "\n",
    "n = 7\n",
    "hasAlternatingBits(n)"
   ]
  }
 ],
 "metadata": {
  "kernelspec": {
   "display_name": "Python 3",
   "language": "python",
   "name": "python3"
  },
  "language_info": {
   "codemirror_mode": {
    "name": "ipython",
    "version": 3
   },
   "file_extension": ".py",
   "mimetype": "text/x-python",
   "name": "python",
   "nbconvert_exporter": "python",
   "pygments_lexer": "ipython3",
   "version": "3.6.9"
  },
  "toc-autonumbering": false,
  "toc-showcode": false,
  "toc-showmarkdowntxt": false,
  "toc-showtags": false
 },
 "nbformat": 4,
 "nbformat_minor": 4
}
