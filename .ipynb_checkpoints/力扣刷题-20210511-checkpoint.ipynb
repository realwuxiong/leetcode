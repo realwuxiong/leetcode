{
 "cells": [
  {
   "cell_type": "code",
   "execution_count": 5,
   "metadata": {},
   "outputs": [
    {
     "name": "stdout",
     "output_type": "stream",
     "text": [
      "[2, 4, 1, 5, 3]\n"
     ]
    }
   ],
   "source": [
    "# 1734. 解码异或后的排列\n",
    "# https://leetcode-cn.com/problems/decode-xored-permutation/\n",
    "# 22:00-22:07\n",
    "'''\n",
    "需要深刻的理解题目的信息。\n",
    "'''\n",
    "from typing import List\n",
    "def decode(encoded: List[int]) -> List[int]:\n",
    "    n = len(encoded)+1\n",
    "    allxor = 0\n",
    "    for i in range(1,n+1):\n",
    "        allxor ^= i\n",
    "    except0 = 0  # 除去encoded[0] 的异或\n",
    "    for i in range(1,n,2):\n",
    "        except0 ^= encoded[i]\n",
    "    res = []\n",
    "    res.append(allxor^except0)\n",
    "    for i in range(n-1):\n",
    "        res.append(res[-1]^encoded[i])\n",
    "    return res\n",
    "    pass\n",
    "encoded = [6,5,4,6]\n",
    "decode(encoded)"
   ]
  },
  {
   "cell_type": "code",
   "execution_count": null,
   "metadata": {},
   "outputs": [],
   "source": [
    "// java版本\n",
    "public int[] decode(int[] encoded) {\n",
    "        int all = 0;\n",
    "        for(int i=1; i < encoded.length+1;++i){\n",
    "            all ^= i;\n",
    "        }\n",
    "        int [] perm = new int[encoded.length+1];\n",
    "        int perm0 = 0;\n",
    "        // 计算出perm0\n",
    "        for(int i=1; i < encoded.length; i+=2){\n",
    "            perm0 = all ^ encoded[i];\n",
    "        }\n",
    "        perm[0]=perm0;\n",
    "        for(int i = 0; i < encoded.length; ++i){\n",
    "            perm[i+1] = perm[i]^encoded[i];\n",
    "        }\n",
    "        return perm;\n",
    "    }"
   ]
  }
 ],
 "metadata": {
  "kernelspec": {
   "display_name": "Python 3",
   "language": "python",
   "name": "python3"
  },
  "language_info": {
   "codemirror_mode": {
    "name": "ipython",
    "version": 3
   },
   "file_extension": ".py",
   "mimetype": "text/x-python",
   "name": "python",
   "nbconvert_exporter": "python",
   "pygments_lexer": "ipython3",
   "version": "3.6.9"
  }
 },
 "nbformat": 4,
 "nbformat_minor": 4
}
