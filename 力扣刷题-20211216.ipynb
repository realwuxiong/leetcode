{
 "cells": [
  {
   "cell_type": "code",
   "execution_count": 20,
   "metadata": {},
   "outputs": [
    {
     "name": "stdout",
     "output_type": "stream",
     "text": [
      "1 2\n"
     ]
    },
    {
     "data": {
      "text/plain": [
       "1"
      ]
     },
     "execution_count": 20,
     "metadata": {},
     "output_type": "execute_result"
    }
   ],
   "source": [
    "# 452. 用最少数量的箭引爆气球\n",
    "# https://leetcode-cn.com/problems/minimum-number-of-arrows-to-burst-balloons/\n",
    "\n",
    "'''\n",
    "执行结果：通过\n",
    "执行用时：288 ms, 在所有 Python3 提交中击败了25.57%的用户\n",
    "内存消耗：39.5 MB, 在所有 Python3 提交中击败了80.55%的用户\n",
    "通过测试用例：48 / 48\n",
    "'''\n",
    "from typing import List\n",
    "def findMinArrowShots(points: List[List[int]]) -> int:\n",
    "    # 可以利用差分数组，但是他的坐标范围太大了，会空间溢出\n",
    "#     print(points)\n",
    "    points.sort(key=lambda x:x[0])\n",
    "#     print(points)\n",
    "    start = points[0][0]\n",
    "    end = points[0][1]\n",
    "    ans = 0\n",
    "    for point in points:\n",
    "        if (start <= point[0] <= end) or (start <= point[1] <= end):\n",
    "            start = max(start,point[0])\n",
    "            end = min(end,point[1])\n",
    "        else:\n",
    "            start =point[0]\n",
    "            end = point[1]\n",
    "            ans += 1\n",
    "#         print(start,end)\n",
    "    return ans+1\n",
    "points = [[10,16],[2,8],[1,6],[7,12]]\n",
    "findMinArrowShots(points)"
   ]
  }
 ],
 "metadata": {
  "kernelspec": {
   "display_name": "Python 3",
   "language": "python",
   "name": "python3"
  },
  "language_info": {
   "codemirror_mode": {
    "name": "ipython",
    "version": 3
   },
   "file_extension": ".py",
   "mimetype": "text/x-python",
   "name": "python",
   "nbconvert_exporter": "python",
   "pygments_lexer": "ipython3",
   "version": "3.6.9"
  },
  "toc-autonumbering": false,
  "toc-showcode": false,
  "toc-showmarkdowntxt": false,
  "toc-showtags": false
 },
 "nbformat": 4,
 "nbformat_minor": 4
}
