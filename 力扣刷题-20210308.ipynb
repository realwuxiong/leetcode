{
 "cells": [
  {
   "cell_type": "code",
   "execution_count": 6,
   "metadata": {},
   "outputs": [
    {
     "data": {
      "text/plain": [
       "['((()))', '(()())', '(())()', '()(())', '()()()']"
      ]
     },
     "execution_count": 6,
     "metadata": {},
     "output_type": "execute_result"
    }
   ],
   "source": [
    "# 今天准备做阿里笔试，不过今天我想先把DFS，回溯算法的题刷一刷\n",
    "# https://leetcode-cn.com/problems/generate-parentheses/\n",
    "# 数字 n 代表生成括号的对数，请你设计一个函数，用于能够生成所有可能的并且 有效的 括号组合。\n",
    "from typing import List\n",
    "def generateParenthesis(n: int) -> List[str]:\n",
    "        res = []\n",
    "        S = []\n",
    "        def dfs(left,right,S):\n",
    "            if len(S) == 2*n:\n",
    "               res.append(''.join(S))\n",
    "               return\n",
    "            if left < n:\n",
    "                S.append(\"(\")\n",
    "                dfs(left+1,right,S)\n",
    "                S.pop()\n",
    "            if left > right:\n",
    "                S.append(\")\")\n",
    "                dfs(left,right+1,S)\n",
    "                S.pop()\n",
    "        dfs(0,0,S)\n",
    "        return res\n",
    "generateParenthesis(3)"
   ]
  },
  {
   "cell_type": "code",
   "execution_count": 22,
   "metadata": {},
   "outputs": [
    {
     "name": "stdout",
     "output_type": "stream",
     "text": [
      "[[1, 2, 2], [5]]\n"
     ]
    }
   ],
   "source": [
    "# 再来一题\n",
    "# 40. 组合总和 II\n",
    "# https://leetcode-cn.com/problems/combination-sum-ii/\n",
    "# 1-n个数字，取k个，和为n的所有组合\n",
    "# 题目写出来了，但是有重复的，。。。这个还得看看标准答案\n",
    "def func(candidates,target):\n",
    "    res = []\n",
    "    tem = []\n",
    "    n = len(candidates)\n",
    "    candidates.sort()\n",
    "#     print(candidates)\n",
    "    def dfs(i):\n",
    "        if sum(tem) > target or i > n:\n",
    "            return\n",
    "        if sum(tem) == target:\n",
    "            res.append(tem[:])\n",
    "            return \n",
    "        for j in range(i,n):\n",
    "            tem.append(candidates[j])\n",
    "            dfs(j+1)\n",
    "            tem.pop()\n",
    "    dfs(0)\n",
    "    rres = []\n",
    "    dic = {}\n",
    "    for i in range(len(res)):  # 去重，但是超过了时间限制\n",
    "        if (sum([data**2 for data in res[i]])) not in dic.keys():\n",
    "            rres.append(res[i])\n",
    "            dic[sum([data**2 for data in res[i]])] =1\n",
    "    print(rres)\n",
    "candidates=[2,5,2,1,2]\n",
    "target = 5\n",
    "func(candidates,target)"
   ]
  }
 ],
 "metadata": {
  "kernelspec": {
   "display_name": "Python 3",
   "language": "python",
   "name": "python3"
  },
  "language_info": {
   "codemirror_mode": {
    "name": "ipython",
    "version": 3
   },
   "file_extension": ".py",
   "mimetype": "text/x-python",
   "name": "python",
   "nbconvert_exporter": "python",
   "pygments_lexer": "ipython3",
   "version": "3.8.5"
  }
 },
 "nbformat": 4,
 "nbformat_minor": 4
}
