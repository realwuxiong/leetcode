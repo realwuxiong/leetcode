{
 "cells": [
  {
   "cell_type": "code",
   "execution_count": null,
   "metadata": {},
   "outputs": [],
   "source": [
    "# 282. 给表达式添加运算符\n",
    "# https://leetcode-cn.com/problems/expression-add-operators/\n",
    "\n",
    "# 遇到困难睡大觉，答题的思路是回溯法\n",
    "class Solution:\n",
    "    def addOperators(self, num: str, target: int) -> List[str]:\n",
    "        n = len(num)\n",
    "        ans = []\n",
    "\n",
    "        def backtrack(expr: List[str], i: int, res: int, mul: int):\n",
    "            if i == n:\n",
    "                if res == target:\n",
    "                    ans.append(''.join(expr))\n",
    "                return\n",
    "            signIndex = len(expr)\n",
    "            if i > 0:\n",
    "                expr.append('')  # 占位，下面填充符号\n",
    "            val = 0\n",
    "            for j in range(i, n):  # 枚举截取的数字长度（取多少位）\n",
    "                if j > i and num[i] == '0':  # 数字可以是单个 0 但不能有前导零\n",
    "                    break\n",
    "                val = val * 10 + int(num[j])\n",
    "                expr.append(num[j])\n",
    "                if i == 0:  # 表达式开头不能添加符号\n",
    "                    backtrack(expr, j + 1, val, val)\n",
    "                else:  # 枚举符号\n",
    "                    expr[signIndex] = '+'; backtrack(expr, j + 1, res + val, val)\n",
    "                    expr[signIndex] = '-'; backtrack(expr, j + 1, res - val, -val)\n",
    "                    expr[signIndex] = '*'; backtrack(expr, j + 1, res - mul + mul * val, mul * val)\n",
    "            del expr[signIndex:]\n",
    "\n",
    "        backtrack([], 0, 0, 0)\n",
    "        return ans\n",
    "\n"
   ]
  }
 ],
 "metadata": {
  "kernelspec": {
   "display_name": "Python 3",
   "language": "python",
   "name": "python3"
  },
  "language_info": {
   "codemirror_mode": {
    "name": "ipython",
    "version": 3
   },
   "file_extension": ".py",
   "mimetype": "text/x-python",
   "name": "python",
   "nbconvert_exporter": "python",
   "pygments_lexer": "ipython3",
   "version": "3.6.9"
  },
  "toc-autonumbering": false,
  "toc-showcode": false,
  "toc-showmarkdowntxt": false,
  "toc-showtags": false
 },
 "nbformat": 4,
 "nbformat_minor": 4
}
