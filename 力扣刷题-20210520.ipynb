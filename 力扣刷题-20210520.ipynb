{
 "cells": [
  {
   "cell_type": "code",
   "execution_count": 23,
   "metadata": {},
   "outputs": [
    {
     "name": "stdout",
     "output_type": "stream",
     "text": [
      "['the', 'is', 'sunny', 'day']\n"
     ]
    }
   ],
   "source": [
    "# 692. 前K个高频单词\n",
    "# https://leetcode-cn.com/problems/top-k-frequent-words/\n",
    "from typing import List\n",
    "import functools\n",
    "def cmp(x1,x2):\n",
    "    \n",
    "    if x1[1] < x2[1]:\n",
    "        return 1\n",
    "    if x1[1] > x2[1]:\n",
    "        return -1\n",
    "    return 1 if x1[0] > x2[0] else -1\n",
    "def topKFrequent(words: List[str], k: int) -> List[str]:\n",
    "    import collections\n",
    "    x = collections.Counter(words)\n",
    "    ans = []\n",
    "    for i in x.keys():\n",
    "        ans.append((i,x[i]))\n",
    "    ans = sorted(ans,key=functools.cmp_to_key(cmp))\n",
    "    print([ans[i][0] for i in range(k)])\n",
    "#     return [ans[0] for i in range]\n",
    "words=[\"the\", \"day\", \"is\", \"sunny\", \"the\", \"the\", \"the\", \"sunny\", \"is\", \"is\"]\n",
    "k = 4\n",
    "topKFrequent(words,k)"
   ]
  },
  {
   "cell_type": "code",
   "execution_count": null,
   "metadata": {},
   "outputs": [],
   "source": [
    "// java 版本\n",
    "public static List<String> topKFrequent(String[] words, int k) {\n",
    "        Map<String,Integer> a = new HashMap<>();\n",
    "        List<String> w = new LinkedList<String>(Arrays.asList(words));\n",
    "        w.forEach((x)->{\n",
    "            a.put(x,a.getOrDefault(x,0)+1);\n",
    "        });\n",
    "        List<String> ans = new ArrayList<>();\n",
    "        a.forEach((key,value)->{\n",
    "            ans.add(key);\n",
    "        });\n",
    "        Collections.sort(ans, new Comparator<String>() {\n",
    "            @Override\n",
    "            public int compare(String o1, String o2) {\n",
    "                return a.get(o1).equals(a.get(o2)) ? o1.compareTo(o2) : a.get(o2) - a.get(o1);\n",
    "                \n",
    "            }\n",
    "        });\n",
    "        return ans.subList(0,k);\n",
    "    }"
   ]
  },
  {
   "cell_type": "code",
   "execution_count": null,
   "metadata": {},
   "outputs": [],
   "source": [
    "# 优先队列，堆，java可以重写cmp方法\n",
    "# python也可以实现"
   ]
  }
 ],
 "metadata": {
  "kernelspec": {
   "display_name": "Python 3",
   "language": "python",
   "name": "python3"
  },
  "language_info": {
   "codemirror_mode": {
    "name": "ipython",
    "version": 3
   },
   "file_extension": ".py",
   "mimetype": "text/x-python",
   "name": "python",
   "nbconvert_exporter": "python",
   "pygments_lexer": "ipython3",
   "version": "3.6.9"
  }
 },
 "nbformat": 4,
 "nbformat_minor": 4
}
