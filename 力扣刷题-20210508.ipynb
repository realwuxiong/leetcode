{
 "cells": [
  {
   "cell_type": "code",
   "execution_count": 9,
   "metadata": {},
   "outputs": [
    {
     "name": "stdout",
     "output_type": "stream",
     "text": [
      "8 22 15 1 1\n",
      "8 22 15 1 2\n",
      "8 22 15 1 4\n",
      "8 22 15 1 7\n",
      "8 22 15 2 8\n",
      "8 14 11 1 1\n",
      "8 14 11 1 2\n",
      "8 14 11 1 4\n",
      "8 14 11 2 7\n",
      "8 14 11 3 8\n",
      "12 14 13 1 1\n",
      "12 14 13 1 2\n",
      "12 14 13 1 4\n",
      "12 14 13 2 7\n",
      "12 14 13 3 8\n",
      "14 14 14 1 1\n",
      "14 14 14 1 2\n",
      "14 14 14 1 4\n",
      "14 14 14 1 7\n",
      "14 14 14 2 8\n",
      "14\n"
     ]
    }
   ],
   "source": [
    "# 1723. 完成所有工作的最短时间\n",
    "# https://leetcode-cn.com/problems/find-minimum-time-to-finish-all-jobs/\n",
    "# 2021年5月8日，14:48\n",
    "# 最大问题最小化，二分法解决\n",
    "\n",
    "# 但是这个考虑的问题要多很多，这个是一个hard难度，，放弃了\n",
    "from typing import List\n",
    "def minimumTimeRequired(jobs: List[int], k: int) -> int:\n",
    "    sorted(jobs,reverse=True)\n",
    "    low = max(jobs)\n",
    "    high = sum(jobs)\n",
    "    while low <= high:\n",
    "        need = 1\n",
    "        mid = (low+high)//2\n",
    "        tem = 0\n",
    "        while jobs:\n",
    "            if tem + jobs[-1] <= mid:\n",
    "                tem += job\n",
    "                jobs.pop()\n",
    "            else:\n",
    "                need += 1\n",
    "                tem = job\n",
    "            print(low,high,mid,need,job)\n",
    "        if need <= k:\n",
    "            high = mid-1\n",
    "        else:\n",
    "            low = mid+1\n",
    "    print(low)\n",
    "    pass\n",
    "jobs = [1,2,4,7,8]\n",
    "k = 2\n",
    "minimumTimeRequired(jobs,k)"
   ]
  }
 ],
 "metadata": {
  "kernelspec": {
   "display_name": "Python 3",
   "language": "python",
   "name": "python3"
  },
  "language_info": {
   "codemirror_mode": {
    "name": "ipython",
    "version": 3
   },
   "file_extension": ".py",
   "mimetype": "text/x-python",
   "name": "python",
   "nbconvert_exporter": "python",
   "pygments_lexer": "ipython3",
   "version": "3.6.9"
  }
 },
 "nbformat": 4,
 "nbformat_minor": 4
}
