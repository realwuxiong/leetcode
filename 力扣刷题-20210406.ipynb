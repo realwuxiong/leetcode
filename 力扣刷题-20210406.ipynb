{
 "cells": [
  {
   "cell_type": "code",
   "execution_count": 18,
   "metadata": {},
   "outputs": [
    {
     "name": "stdout",
     "output_type": "stream",
     "text": [
      "[1, 1, 2, 2, 3, 4, 4]\n"
     ]
    }
   ],
   "source": [
    "# 80. 删除有序数组中的重复项 II\n",
    "# https://leetcode-cn.com/problems/remove-duplicates-from-sorted-array-ii/\n",
    "# 2021年4月6日 10:43\n",
    "from typing import List\n",
    "def removeDuplicates(nums: List[int]) -> int:\n",
    "    # 先采用最简单的方法去做\n",
    "    tem = nums[0]\n",
    "    res = 0\n",
    "    for i in range(len(nums)):\n",
    "        if tem == nums[i]:\n",
    "            res += 1\n",
    "            if res > 2:\n",
    "                nums[i] = float(\"-inf\")\n",
    "        else:\n",
    "            res = 1\n",
    "            tem = nums[i]\n",
    "    while float(\"-inf\") in nums:\n",
    "        nums.remove(float(\"-inf\"))\n",
    "    print(nums)\n",
    "#     i = 0\n",
    "#     while i < len(nums):\n",
    "#         if nums[i] == float(\"-inf\"):\n",
    "#             x = i\n",
    "#             while x < len(nums)-1:\n",
    "#                 nums[x] = nums[x+1]\n",
    "#                 x+=1\n",
    "#         else:\n",
    "#             i += 1\n",
    "#     print(nums)\n",
    "                \n",
    "    pass\n",
    "nums = [1,1,1,1,1,2,2,3,4,4]\n",
    "removeDuplicates(nums)"
   ]
  },
  {
   "cell_type": "code",
   "execution_count": 23,
   "metadata": {},
   "outputs": [
    {
     "name": "stdout",
     "output_type": "stream",
     "text": [
      "[1, 1, 2, 2, 3, 4, 4, 3, 4, 4]\n"
     ]
    },
    {
     "data": {
      "text/plain": [
       "7"
      ]
     },
     "execution_count": 23,
     "metadata": {},
     "output_type": "execute_result"
    }
   ],
   "source": [
    "# 用双指针（标准答案的做法）来做这个题目\n",
    "# 双指针太棒了\n",
    "from typing import List\n",
    "def removeDuplicates(nums: List[int]) -> int:\n",
    "    if len(nums)<2:\n",
    "        return len(nums)\n",
    "    low = high = 2\n",
    "    while high < len(nums):\n",
    "        if nums[low-2] != nums[high]:\n",
    "            nums[low] = nums[high]\n",
    "            low += 1\n",
    "        high += 1\n",
    "    return low\n",
    "            \n",
    "nums = [1,1,1,1,1,2,2,3,4,4]\n",
    "removeDuplicates(nums)"
   ]
  },
  {
   "cell_type": "code",
   "execution_count": null,
   "metadata": {},
   "outputs": [],
   "source": [
    "# 26. 删除有序数组中的重复项\n",
    "# 双指针，会了，会了。。。\n",
    "# https://leetcode-cn.com/problems/remove-duplicates-from-sorted-array/\n",
    "from typing import List\n",
    "def removeDuplicates(nums: List[int]) -> int:\n",
    "    if not nums:\n",
    "        return 0\n",
    "    slow = fast = 1\n",
    "    while fast < len(nums):\n",
    "        if nums[slow-1] != nums[fast]:\n",
    "            nums[slow] = nums[fast]\n",
    "            slow += 1\n",
    "        fast+=1\n",
    "    print(nums)\n",
    "    print(slow)\n",
    "    pass\n",
    "\n",
    "nums = [1,1,1,1,1,2,2,3,4,4]\n",
    "removeDuplicates(nums)    "
   ]
  }
 ],
 "metadata": {
  "kernelspec": {
   "display_name": "Python 3",
   "language": "python",
   "name": "python3"
  },
  "language_info": {
   "codemirror_mode": {
    "name": "ipython",
    "version": 3
   },
   "file_extension": ".py",
   "mimetype": "text/x-python",
   "name": "python",
   "nbconvert_exporter": "python",
   "pygments_lexer": "ipython3",
   "version": "3.8.5"
  }
 },
 "nbformat": 4,
 "nbformat_minor": 4
}
