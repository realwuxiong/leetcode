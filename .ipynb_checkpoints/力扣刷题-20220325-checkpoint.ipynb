{
 "cells": [
  {
   "cell_type": "code",
   "execution_count": null,
   "metadata": {},
   "outputs": [],
   "source": [
    "# 172. 阶乘后的零\n",
    "# https://leetcode-cn.com/problems/factorial-trailing-zeroes/\n",
    "\n",
    "def trailingZeroes(n: int) -> int:\n",
    "    \n",
    "    # 这题目就是大数的相乘呗\n",
    "    ans = 0\n",
    "    while n:\n",
    "        n //= 5\n",
    "        ans += n\n",
    "    return ans\n",
    "\n",
    "\n",
    "trailingZeroes(20)"
   ]
  }
 ],
 "metadata": {
  "kernelspec": {
   "display_name": "Python 3",
   "language": "python",
   "name": "python3"
  },
  "language_info": {
   "codemirror_mode": {
    "name": "ipython",
    "version": 3
   },
   "file_extension": ".py",
   "mimetype": "text/x-python",
   "name": "python",
   "nbconvert_exporter": "python",
   "pygments_lexer": "ipython3",
   "version": "3.6.9"
  },
  "toc-autonumbering": false,
  "toc-showcode": false,
  "toc-showmarkdowntxt": false,
  "toc-showtags": false
 },
 "nbformat": 4,
 "nbformat_minor": 4
}
