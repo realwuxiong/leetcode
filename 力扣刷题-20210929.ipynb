{
 "cells": [
  {
   "cell_type": "code",
   "execution_count": 4,
   "metadata": {},
   "outputs": [
    {
     "data": {
      "text/plain": [
       "3"
      ]
     },
     "execution_count": 4,
     "metadata": {},
     "output_type": "execute_result"
    }
   ],
   "source": [
    "# 517. 超级洗衣机\n",
    "# https://leetcode-cn.com/problems/super-washing-machines/\n",
    "# 最近老不想刷题了，直接复制的答案。。。\n",
    "# 贪心算法\n",
    "from typing import List\n",
    "def findMinMoves(machines: List[int]) -> int:\n",
    "    tot = sum(machines)\n",
    "    n = len(machines)\n",
    "    if tot % n:\n",
    "        return -1\n",
    "    avg = tot // n\n",
    "    ans, s = 0, 0\n",
    "    for num in machines:\n",
    "        num -= avg\n",
    "        s += num\n",
    "        ans = max(ans, abs(s), num)\n",
    "    return ans\n",
    "\n",
    "machines = [1,0,5]\n",
    "findMinMoves(machines)"
   ]
  }
 ],
 "metadata": {
  "kernelspec": {
   "display_name": "Python 3",
   "language": "python",
   "name": "python3"
  },
  "language_info": {
   "codemirror_mode": {
    "name": "ipython",
    "version": 3
   },
   "file_extension": ".py",
   "mimetype": "text/x-python",
   "name": "python",
   "nbconvert_exporter": "python",
   "pygments_lexer": "ipython3",
   "version": "3.6.9"
  },
  "toc-autonumbering": false,
  "toc-showcode": false,
  "toc-showmarkdowntxt": false,
  "toc-showtags": false
 },
 "nbformat": 4,
 "nbformat_minor": 4
}
