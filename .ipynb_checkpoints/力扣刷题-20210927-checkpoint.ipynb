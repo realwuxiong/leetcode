{
 "cells": [
  {
   "cell_type": "code",
   "execution_count": null,
   "metadata": {},
   "outputs": [],
   "source": [
    "# 639. 解码方法 II\n",
    "# https://leetcode-cn.com/problems/decode-ways-ii/\n",
    "\n",
    "\n",
    "# 不想做，复制粘贴\n",
    "class Solution:\n",
    "    def numDecodings(self, s: str) -> int:\n",
    "        mod = 10**9 + 7\n",
    "        \n",
    "        def check1digit(ch: str) -> int:\n",
    "            if ch == \"0\":\n",
    "                return 0\n",
    "            return 9 if ch == \"*\" else 1\n",
    "        \n",
    "        def check2digits(c0: str, c1: str) -> int:\n",
    "            if c0 == c1 == \"*\":\n",
    "                return 15\n",
    "            if c0 == \"*\":\n",
    "                return 2 if c1 <= \"6\" else 1\n",
    "            if c1 == \"*\":\n",
    "                return 9 if c0 == \"1\" else (6 if c0 == \"2\" else 0)\n",
    "            return int(c0 != \"0\" and int(c0) * 10 + int(c1) <= 26)\n",
    "\n",
    "        n = len(s)\n",
    "        # a = f[i-2], b = f[i-1], c = f[i]\n",
    "        a, b, c = 0, 1, 0\n",
    "        for i in range(1, n + 1):\n",
    "            c = b * check1digit(s[i - 1])\n",
    "            if i > 1:\n",
    "                c += a * check2digits(s[i - 2], s[i - 1])\n",
    "            c %= mod\n",
    "            a = b\n",
    "            b = c\n",
    "        \n",
    "        return c\n"
   ]
  },
  {
   "cell_type": "code",
   "execution_count": null,
   "metadata": {},
   "outputs": [],
   "source": [
    "# 91. 解码方法\n",
    "# https://leetcode-cn.com/problems/decode-ways/\n",
    "# 这个题目做一做\n",
    "def numDecodings(s: str) -> int:\n",
    "    pass\n",
    "s = \"226\""
   ]
  }
 ],
 "metadata": {
  "kernelspec": {
   "display_name": "Python 3",
   "language": "python",
   "name": "python3"
  },
  "language_info": {
   "codemirror_mode": {
    "name": "ipython",
    "version": 3
   },
   "file_extension": ".py",
   "mimetype": "text/x-python",
   "name": "python",
   "nbconvert_exporter": "python",
   "pygments_lexer": "ipython3",
   "version": "3.6.9"
  },
  "toc-autonumbering": false,
  "toc-showcode": false,
  "toc-showmarkdowntxt": false,
  "toc-showtags": false
 },
 "nbformat": 4,
 "nbformat_minor": 4
}
