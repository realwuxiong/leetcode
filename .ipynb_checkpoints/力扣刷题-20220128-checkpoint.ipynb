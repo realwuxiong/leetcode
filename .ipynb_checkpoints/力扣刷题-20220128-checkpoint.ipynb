{
 "cells": [
  {
   "cell_type": "code",
   "execution_count": 2,
   "metadata": {},
   "outputs": [
    {
     "data": {
      "text/plain": [
       "1"
      ]
     },
     "execution_count": 2,
     "metadata": {},
     "output_type": "execute_result"
    }
   ],
   "source": [
    "# 1996. 游戏中弱角色的数量\n",
    "# https://leetcode-cn.com/problems/the-number-of-weak-characters-in-the-game/\n",
    "from typing import List\n",
    "def numberOfWeakCharacters(properties: List[List[int]]) -> int:\n",
    "    # 攻击值按照从大到小排序，防御值从小到大排序\n",
    "    properties.sort(key=lambda x: (-x[0], x[1]))\n",
    "    ans = 0\n",
    "    maxDef = 0\n",
    "    for _, def_ in properties:\n",
    "        if maxDef > def_:\n",
    "            ans += 1\n",
    "        else:\n",
    "            maxDef = max(maxDef, def_)\n",
    "    return ans\n",
    "\n",
    "properties = [[1,5],[10,4],[4,3]]\n",
    "numberOfWeakCharacters(properties)"
   ]
  }
 ],
 "metadata": {
  "kernelspec": {
   "display_name": "Python 3",
   "language": "python",
   "name": "python3"
  },
  "language_info": {
   "codemirror_mode": {
    "name": "ipython",
    "version": 3
   },
   "file_extension": ".py",
   "mimetype": "text/x-python",
   "name": "python",
   "nbconvert_exporter": "python",
   "pygments_lexer": "ipython3",
   "version": "3.6.9"
  },
  "toc-autonumbering": false,
  "toc-showcode": false,
  "toc-showmarkdowntxt": false,
  "toc-showtags": false
 },
 "nbformat": 4,
 "nbformat_minor": 4
}
