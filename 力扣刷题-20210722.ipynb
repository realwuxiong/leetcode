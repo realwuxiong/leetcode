{
 "cells": [
  {
   "cell_type": "code",
   "execution_count": null,
   "metadata": {},
   "outputs": [],
   "source": [
    "# 138. 复制带随机指针的链表\n",
    "# https://leetcode-cn.com/problems/copy-list-with-random-pointer/\n",
    "\"\"\"\n",
    "# Definition for a Node.\n",
    "class Node:\n",
    "    def __init__(self, x: int, next: 'Node' = None, random: 'Node' = None):\n",
    "        self.val = int(x)\n",
    "        self.next = next\n",
    "        self.random = random\n",
    "\"\"\"\n",
    "\n",
    "class Solution:\n",
    "    def copyRandomList(self, head: 'Node') -> 'Node':\n",
    "        # 这个比较难的地方就是random这个怎么去处理，，，\n",
    "        \n",
    "        # 之间用HashMap\n",
    "        myHashTable ={}\n",
    "        p = head\n",
    "        while p:\n",
    "            tem = Node(p.val,None,None)\n",
    "            myHashTable[p] = tem\n",
    "            p = p.next\n",
    "        p = head\n",
    "        # print(myHashTable)\n",
    "        while p:\n",
    "            if p.next != None:\n",
    "                myHashTable[p].next = myHashTable[p.next]\n",
    "            if p.random != None:\n",
    "                myHashTable[p].random = myHashTable[p.random]\n",
    "            p = p.next\n",
    "        return myHashTable[head] if head != None else None\n",
    "\n",
    "\"\"\"\n",
    "我只想到了哈希表，但是空间复杂度为O(n)\n",
    "\n",
    "标准答案的第二种方法很漂亮，可以空间复杂度为O(1)\n",
    "\n",
    "大概的思路是这样的\n",
    "\n",
    "原始链表 A->B->C->D\n",
    "然后构造A->A1->B->B1->C->C1->D->D1\n",
    "其中A1是A的副本，然后在遍历一次为A1加Random。很漂亮的思路\n",
    "\"\"\"\n",
    "\n"
   ]
  },
  {
   "cell_type": "code",
   "execution_count": 20,
   "metadata": {},
   "outputs": [
    {
     "data": {
      "text/plain": [
       "['acb', 'cba', 'bac', 'cab', 'abc', 'bca']"
      ]
     },
     "execution_count": 20,
     "metadata": {},
     "output_type": "execute_result"
    }
   ],
   "source": [
    "# 再来一题\n",
    "# 剑指 Offer 38. 字符串的排列\n",
    "# https://leetcode-cn.com/problems/zi-fu-chuan-de-pai-lie-lcof/\n",
    "from typing import List\n",
    "def permutation(s: str) -> List[str]:\n",
    "    # 去重\n",
    "    s = list(s)\n",
    "#     print(s)\n",
    "    # 排列\n",
    "    # 用DFS\n",
    "    n = len(s)\n",
    "    ans =[]\n",
    "    visit = [False]*n\n",
    "    def dfs(index):\n",
    "        if index == n:\n",
    "            ans.append(\"\".join(s))\n",
    "            return\n",
    "        \n",
    "        for i in range(index,n):\n",
    "            # 换位置,i左边都确定位置了\n",
    "            s[index],s[i] = s[i],s[index]\n",
    "            dfs(index+1)\n",
    "            s[index],s[i] = s[i],s[index]\n",
    "    dfs(0)\n",
    "    return list(set(ans))\n",
    "    pass\n",
    "s = \"abc\"\n",
    "permutation(s)"
   ]
  },
  {
   "cell_type": "code",
   "execution_count": 47,
   "metadata": {},
   "outputs": [
    {
     "name": "stdout",
     "output_type": "stream",
     "text": [
      "[1, 3, 4, 8, 9, 10, 12, 12, 23, 123]\n"
     ]
    }
   ],
   "source": [
    "# 再来一个题\n",
    "# 75. 颜色分类\n",
    "# https://leetcode-cn.com/problems/sort-colors/\n",
    "from typing import List\n",
    "def sortColors(nums: List[int]) -> None:\n",
    "    #来一下快排\n",
    "    n = len(nums)\n",
    "    def quickSort(start,end):\n",
    "        if start >= end:\n",
    "            return\n",
    "        low = start\n",
    "        high = end\n",
    "        t = nums[start]\n",
    "        while low < high:\n",
    "            while nums[high] >= t and low < high : # 必须是nums[high] >= t,>是错的的，必须大于等于\n",
    "                high -= 1\n",
    "            nums[low] = nums[high]\n",
    "            while nums[low] <= t and low < high:\n",
    "                low += 1\n",
    "            nums[high] = nums[low]\n",
    "        nums[low] = t\n",
    "        quickSort(start,low-1)\n",
    "        quickSort(low+1,end)\n",
    "    quickSort(0,n-1)\n",
    "    print(nums)\n",
    "\n",
    "    pass\n",
    "nums = [12,3,1,10,123,12,23,9,8,4]\n",
    "sortColors(nums)"
   ]
  }
 ],
 "metadata": {
  "kernelspec": {
   "display_name": "Python 3",
   "language": "python",
   "name": "python3"
  },
  "language_info": {
   "codemirror_mode": {
    "name": "ipython",
    "version": 3
   },
   "file_extension": ".py",
   "mimetype": "text/x-python",
   "name": "python",
   "nbconvert_exporter": "python",
   "pygments_lexer": "ipython3",
   "version": "3.6.9"
  },
  "toc-autonumbering": false,
  "toc-showcode": false,
  "toc-showmarkdowntxt": false,
  "toc-showtags": false
 },
 "nbformat": 4,
 "nbformat_minor": 4
}
