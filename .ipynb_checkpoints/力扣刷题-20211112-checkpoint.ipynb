{
 "cells": [
  {
   "cell_type": "code",
   "execution_count": 4,
   "metadata": {},
   "outputs": [
    {
     "data": {
      "text/plain": [
       "16"
      ]
     },
     "execution_count": 4,
     "metadata": {},
     "output_type": "execute_result"
    }
   ],
   "source": [
    "# 375. 猜数字大小 II\n",
    "# https://leetcode-cn.com/problems/guess-number-higher-or-lower-ii/\n",
    "\n",
    "# 今天和昨天的动态规划再看看。。。。\n",
    "def getMoneyAmount(n: int) -> int:\n",
    "    f = [[0] * (n + 1) for _ in range(n + 1)]\n",
    "    for i in range(n - 1, 0, -1):\n",
    "        for j in range(i + 1, n + 1):\n",
    "            f[i][j] = min(k + max(f[i][k - 1], f[k + 1][j]) for k in range(i, j))\n",
    "    return f[1][n]\n",
    "n = 10\n",
    "getMoneyAmount(n)"
   ]
  }
 ],
 "metadata": {
  "kernelspec": {
   "display_name": "Python 3",
   "language": "python",
   "name": "python3"
  },
  "language_info": {
   "codemirror_mode": {
    "name": "ipython",
    "version": 3
   },
   "file_extension": ".py",
   "mimetype": "text/x-python",
   "name": "python",
   "nbconvert_exporter": "python",
   "pygments_lexer": "ipython3",
   "version": "3.6.9"
  },
  "toc-autonumbering": false,
  "toc-showcode": false,
  "toc-showmarkdowntxt": false,
  "toc-showtags": false
 },
 "nbformat": 4,
 "nbformat_minor": 4
}
