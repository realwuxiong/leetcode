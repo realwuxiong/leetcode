{
 "cells": [
  {
   "cell_type": "code",
   "execution_count": 11,
   "metadata": {},
   "outputs": [
    {
     "data": {
      "text/plain": [
       "['This    is    an', 'example  of text', 'justification.  ']"
      ]
     },
     "execution_count": 11,
     "metadata": {},
     "output_type": "execute_result"
    }
   ],
   "source": [
    "# 68. 文本左右对齐\n",
    "# https://leetcode-cn.com/problems/text-justification/\n",
    "\n",
    "from typing import List\n",
    "def fullJustify(words: List[str], maxWidth: int) -> List[str]:\n",
    "    # 我操，不好好看题目，就是一个模拟题\n",
    "    ans = []\n",
    "    n = len(words)\n",
    "    right = 0\n",
    "    \n",
    "    while True:\n",
    "        sumLen = 0\n",
    "        left = right\n",
    "        while right < n and sumLen + len(words[right]) + right - left <= maxWidth:\n",
    "                sumLen += len(words[right])\n",
    "                right += 1\n",
    "        # 当前行是最后一行：单词左对齐，且单词之间应只有一个空格，在行末填充剩余空格\n",
    "        if right == n:\n",
    "            s = \" \".join(words[left:])\n",
    "            ans.append(s + \" \"*(maxWidth - len(s)))\n",
    "            break\n",
    "\n",
    "        numWords = right - left\n",
    "        numSpaces = maxWidth - sumLen\n",
    "\n",
    "        # 当前行只有一个单词：该单词左对齐，在行末填充空格\n",
    "        if numWords == 1:\n",
    "            ans.append(words[left] + \" \"*numSpaces)\n",
    "            continue\n",
    "        # 当前行不只一个单词\n",
    "        avgSpaces = numSpaces // (numWords - 1)\n",
    "        extraSpaces = numSpaces % (numWords - 1)\n",
    "        s1 = (\" \"*(avgSpaces + 1)).join(words[left:left + extraSpaces + 1])  # 拼接额外加一个空格的单词\n",
    "        s2 =  (\" \"*(avgSpaces)).join(words[left + extraSpaces + 1:right])  # 拼接其余单词\n",
    "        ans.append(s1 + \" \"*avgSpaces + s2)\n",
    "    return ans\n",
    "\n",
    "    \n",
    "    \n",
    "    \n",
    "    pass\n",
    "words = [\"This\", \"is\", \"an\", \"example\", \"of\", \"text\", \"justification.\"]\n",
    "maxWidth = 16\n",
    "fullJustify(words,maxWidth)"
   ]
  },
  {
   "cell_type": "code",
   "execution_count": 8,
   "metadata": {},
   "outputs": [
    {
     "name": "stdout",
     "output_type": "stream",
     "text": [
      "1 1 1 1 1 1 1 1 1 1 \n"
     ]
    }
   ],
   "source": []
  }
 ],
 "metadata": {
  "kernelspec": {
   "display_name": "Python 3",
   "language": "python",
   "name": "python3"
  },
  "language_info": {
   "codemirror_mode": {
    "name": "ipython",
    "version": 3
   },
   "file_extension": ".py",
   "mimetype": "text/x-python",
   "name": "python",
   "nbconvert_exporter": "python",
   "pygments_lexer": "ipython3",
   "version": "3.6.9"
  },
  "toc-autonumbering": false,
  "toc-showcode": false,
  "toc-showmarkdowntxt": false,
  "toc-showtags": false
 },
 "nbformat": 4,
 "nbformat_minor": 4
}
