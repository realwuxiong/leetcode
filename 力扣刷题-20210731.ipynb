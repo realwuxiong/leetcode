{
 "cells": [
  {
   "cell_type": "code",
   "execution_count": null,
   "metadata": {},
   "outputs": [],
   "source": [
    "# 987. 二叉树的垂序遍历\n",
    "# https://leetcode-cn.com/problems/vertical-order-traversal-of-a-binary-tree/\n",
    "\n",
    "# 天天二叉树，这个题，如果用dfs+hashmap，我估计会超时，毕竟是个困难题\n",
    "\n",
    "# Definition for a binary tree node.\n",
    "# class TreeNode:\n",
    "#     def __init__(self, val=0, left=None, right=None):\n",
    "#         self.val = val\n",
    "#         self.left = left\n",
    "#         self.right = right\n",
    "class Solution:\n",
    "    def verticalTraversal(self, root: TreeNode) -> List[List[int]]:\n",
    "        myList=[]\n",
    "        def dfs(root,row,col):\n",
    "            if not root:\n",
    "                return \n",
    "            myList.append([row,col,root.val])\n",
    "\n",
    "            dfs(root.left,row+1,col-1)\n",
    "            dfs(root.right,row+1,col+1)\n",
    "        dfs(root,0,0)\n",
    "\n",
    "        # 自定义排序\n",
    "        # 按照x[1],x[0],x[2]进行排序，即分别按照列，行和值进行排序\n",
    "        myList.sort(key=lambda x: (x[1],x[0],x[2]))\n",
    "        ans = []\n",
    "        t = -10000\n",
    "        stack = []\n",
    "        # print(myList)\n",
    "        for l in myList:\n",
    "            if l[1]!=t:\n",
    "                if stack:\n",
    "                    ans.append(stack[:])\n",
    "                stack.clear()\n",
    "                stack.append(l[2])\n",
    "                t = l[1]\n",
    "            else:\n",
    "                stack.append(l[2])\n",
    "        ans.append(stack) \n",
    "            \n",
    "        return ans\n",
    "        \n",
    "\n",
    "\n",
    "\n",
    "\n",
    "\n",
    "\n"
   ]
  }
 ],
 "metadata": {
  "kernelspec": {
   "display_name": "Python 3",
   "language": "python",
   "name": "python3"
  },
  "language_info": {
   "codemirror_mode": {
    "name": "ipython",
    "version": 3
   },
   "file_extension": ".py",
   "mimetype": "text/x-python",
   "name": "python",
   "nbconvert_exporter": "python",
   "pygments_lexer": "ipython3",
   "version": "3.6.9"
  },
  "toc-autonumbering": false,
  "toc-showcode": false,
  "toc-showmarkdowntxt": false,
  "toc-showtags": false
 },
 "nbformat": 4,
 "nbformat_minor": 4
}
