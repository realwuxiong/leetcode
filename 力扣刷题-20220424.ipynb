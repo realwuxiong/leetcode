{
 "cells": [
  {
   "cell_type": "code",
   "execution_count": 26,
   "metadata": {},
   "outputs": [
    {
     "name": "stdout",
     "output_type": "stream",
     "text": [
      "110\n"
     ]
    },
    {
     "data": {
      "text/plain": [
       "0"
      ]
     },
     "execution_count": 26,
     "metadata": {},
     "output_type": "execute_result"
    }
   ],
   "source": [
    "# 868. 二进制间距\n",
    "# https://leetcode-cn.com/problems/binary-gap/\n",
    "\n",
    "def binaryGap(n: int) -> int:\n",
    "    last, ans, i = -1, 0, 0\n",
    "    while n:\n",
    "        if n & 1:\n",
    "            if last != -1:\n",
    "                ans = max(ans, i - last)\n",
    "            last = i\n",
    "        n >>= 1\n",
    "        i += 1\n",
    "    return ans\n",
    "\n",
    "\n",
    "\n",
    "n = 6\n",
    "binaryGap(n)"
   ]
  }
 ],
 "metadata": {
  "kernelspec": {
   "display_name": "Python 3",
   "language": "python",
   "name": "python3"
  },
  "language_info": {
   "codemirror_mode": {
    "name": "ipython",
    "version": 3
   },
   "file_extension": ".py",
   "mimetype": "text/x-python",
   "name": "python",
   "nbconvert_exporter": "python",
   "pygments_lexer": "ipython3",
   "version": "3.6.9"
  },
  "toc-autonumbering": false,
  "toc-showcode": false,
  "toc-showmarkdowntxt": false,
  "toc-showtags": false
 },
 "nbformat": 4,
 "nbformat_minor": 4
}
