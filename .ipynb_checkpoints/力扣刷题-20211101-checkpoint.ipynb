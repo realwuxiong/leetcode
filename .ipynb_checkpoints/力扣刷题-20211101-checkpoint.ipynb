{
 "cells": [
  {
   "cell_type": "code",
   "execution_count": 4,
   "metadata": {},
   "outputs": [
    {
     "data": {
      "text/plain": [
       "2"
      ]
     },
     "execution_count": 4,
     "metadata": {},
     "output_type": "execute_result"
    }
   ],
   "source": [
    "# 575. 分糖果\n",
    "# https://leetcode-cn.com/problems/distribute-candies/\n",
    "\n",
    "from typing import List\n",
    "def distributeCandies(candyType: List[int]) -> int:\n",
    "    m = len(set(candyType))\n",
    "    n = len(candyType)\n",
    "    return n // 2 if m >= n //2 else m\n",
    "candies = [1,1,2,3]\n",
    "distributeCandies(candies)"
   ]
  }
 ],
 "metadata": {
  "kernelspec": {
   "display_name": "Python 3",
   "language": "python",
   "name": "python3"
  },
  "language_info": {
   "codemirror_mode": {
    "name": "ipython",
    "version": 3
   },
   "file_extension": ".py",
   "mimetype": "text/x-python",
   "name": "python",
   "nbconvert_exporter": "python",
   "pygments_lexer": "ipython3",
   "version": "3.6.9"
  },
  "toc-autonumbering": false,
  "toc-showcode": false,
  "toc-showmarkdowntxt": false,
  "toc-showtags": false
 },
 "nbformat": 4,
 "nbformat_minor": 4
}
