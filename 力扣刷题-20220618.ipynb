{
 "cells": [
  {
   "cell_type": "code",
   "execution_count": null,
   "metadata": {},
   "outputs": [],
   "source": [
    "# 剑指 Offer II 029. 排序的循环链表\n",
    "# https://leetcode.cn/problems/4ueAj6/\n",
    "\n",
    "# 抄的答案，自己写的考虑的不够全面。。写的太垃圾了。\n",
    "class Solution:\n",
    "    def insert(self, head: 'Node', insertVal: int) -> 'Node':\n",
    "        node = Node(insertVal)\n",
    "        if head is None:\n",
    "            node.next = node\n",
    "            return node\n",
    "        if head.next == head:\n",
    "            head.next = node\n",
    "            node.next = head\n",
    "            return head\n",
    "        curr = head\n",
    "        next = head.next\n",
    "        while next != head:\n",
    "            if curr.val <= insertVal <= next.val:\n",
    "                break\n",
    "            if curr.val > next.val:\n",
    "                if insertVal > curr.val or insertVal < next.val:\n",
    "                    break\n",
    "            curr = curr.next\n",
    "            next = next.next\n",
    "        curr.next = node\n",
    "        node.next = next\n",
    "        return head\n"
   ]
  }
 ],
 "metadata": {
  "kernelspec": {
   "display_name": "Python 3",
   "language": "python",
   "name": "python3"
  },
  "language_info": {
   "codemirror_mode": {
    "name": "ipython",
    "version": 3
   },
   "file_extension": ".py",
   "mimetype": "text/x-python",
   "name": "python",
   "nbconvert_exporter": "python",
   "pygments_lexer": "ipython3",
   "version": "3.6.9"
  },
  "toc-autonumbering": false,
  "toc-showcode": false,
  "toc-showmarkdowntxt": false,
  "toc-showtags": false
 },
 "nbformat": 4,
 "nbformat_minor": 4
}
