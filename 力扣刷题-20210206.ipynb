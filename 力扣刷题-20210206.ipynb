{
 "cells": [
  {
   "cell_type": "code",
   "execution_count": 13,
   "metadata": {},
   "outputs": [
    {
     "name": "stdout",
     "output_type": "stream",
     "text": [
      "536\n"
     ]
    }
   ],
   "source": [
    "# 1423. 可获得的最大点数\n",
    "# https://leetcode-cn.com/problems/maximum-points-you-can-obtain-from-cards/\n",
    "# 这个超出时间了，想法比较局限\n",
    "from typing import List\n",
    "def maxScore(cardPoints: List[int], k: int) -> int:\n",
    "    maxRes=res=0\n",
    "    for i in range(0,k+1):\n",
    "        res = 0\n",
    "        if k-i != 0:\n",
    "            res += sum(cardPoints[:i])+sum(cardPoints[-(k-i):])\n",
    "        else:\n",
    "            res += sum(cardPoints[:i])\n",
    "        maxRes = max(maxRes,res)\n",
    "    print(maxRes)\n",
    "cardPoints = [96,90,41,82,39,74,64,50,30]\n",
    "k = 8\n",
    "maxScore(cardPoints,k)"
   ]
  },
  {
   "cell_type": "code",
   "execution_count": 18,
   "metadata": {},
   "outputs": [
    {
     "name": "stdout",
     "output_type": "stream",
     "text": [
      "536\n"
     ]
    }
   ],
   "source": [
    "# 滑动窗口最小，就可以获得到最大点数\n",
    "# 以下代码是自己写的，还不错。。哈哈哈哈哈\n",
    "from typing import List\n",
    "def maxScore(cardPoints: List[int], k: int) -> int:\n",
    "    left = 0\n",
    "    right = len(cardPoints) - k\n",
    "    # 窗口为len(cardPoints) - k\n",
    "    res = sum(cardPoints[:len(cardPoints) - k])\n",
    "    minRes = res\n",
    "    for i in range(len(cardPoints) - k,len(cardPoints)):\n",
    "        res += cardPoints[i]-cardPoints[left]\n",
    "        minRes = min(minRes, res)\n",
    "        left += 1\n",
    "    print(sum(cardPoints)-minRes)\n",
    "        \n",
    "        \n",
    "cardPoints = [96,90,41,82,39,74,64,50,30]\n",
    "k = 8\n",
    "maxScore(cardPoints,k)"
   ]
  }
 ],
 "metadata": {
  "kernelspec": {
   "display_name": "Python 3",
   "language": "python",
   "name": "python3"
  },
  "language_info": {
   "codemirror_mode": {
    "name": "ipython",
    "version": 3
   },
   "file_extension": ".py",
   "mimetype": "text/x-python",
   "name": "python",
   "nbconvert_exporter": "python",
   "pygments_lexer": "ipython3",
   "version": "3.8.5"
  }
 },
 "nbformat": 4,
 "nbformat_minor": 4
}
