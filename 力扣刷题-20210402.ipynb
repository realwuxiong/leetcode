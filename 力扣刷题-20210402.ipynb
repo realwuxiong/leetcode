{
 "cells": [
  {
   "cell_type": "code",
   "execution_count": 9,
   "metadata": {},
   "outputs": [
    {
     "name": "stdout",
     "output_type": "stream",
     "text": [
      "6\n"
     ]
    }
   ],
   "source": [
    "# 面试题 17.21. 直方图的水量\n",
    "# https://leetcode-cn.com/problems/volume-of-histogram-lcci/\n",
    "# 思路，中间向两边发散的方法，每次去找当前高度左边最高和右边最高的值，选两者的较小的值，减去当前高度就行\n",
    "from typing import List\n",
    "def trap(height: List[int]) -> int:\n",
    "    ans = 0\n",
    "    for i,h in enumerate(height):\n",
    "        if i == 0 or i == len(height)-1:\n",
    "            continue\n",
    "        leftMaxHeight = max(height[:i])\n",
    "        rightMaxHeight = max(height[i+1:])\n",
    "        ans += min(leftMaxHeight,rightMaxHeight) - h if min(leftMaxHeight,rightMaxHeight) > h else 0\n",
    "    print(ans)\n",
    "height = [0,1,0,2,1,0,1,3,2,1,2,1]\n",
    "trap(height)"
   ]
  }
 ],
 "metadata": {
  "kernelspec": {
   "display_name": "Python 3",
   "language": "python",
   "name": "python3"
  },
  "language_info": {
   "codemirror_mode": {
    "name": "ipython",
    "version": 3
   },
   "file_extension": ".py",
   "mimetype": "text/x-python",
   "name": "python",
   "nbconvert_exporter": "python",
   "pygments_lexer": "ipython3",
   "version": "3.8.5"
  }
 },
 "nbformat": 4,
 "nbformat_minor": 4
}
