{
 "cells": [
  {
   "cell_type": "code",
   "execution_count": 3,
   "metadata": {},
   "outputs": [
    {
     "data": {
      "text/plain": [
       "'Sao Paulo'"
      ]
     },
     "execution_count": 3,
     "metadata": {},
     "output_type": "execute_result"
    }
   ],
   "source": [
    "# 1436. 旅行终点站\n",
    "# https://leetcode-cn.com/problems/destination-city/\n",
    "\n",
    "from typing import List\n",
    "def destCity(paths: List[List[str]]) -> str:\n",
    "    # 随便一条路开始走，走到尽头就行了\n",
    "    # 哈希表\n",
    "    n = len(paths)\n",
    "    dicmap = {}\n",
    "    for path in paths:\n",
    "        dicmap[path[0]] = path[1]\n",
    "    \n",
    "    road = paths[0][0] #起点\n",
    "    while road in dicmap.keys():\n",
    "        road = dicmap[road]\n",
    "    return road\n",
    "paths = [[\"London\",\"New York\"],[\"New York\",\"Lima\"],[\"Lima\",\"Sao Paulo\"]]\n",
    "destCity(paths)"
   ]
  }
 ],
 "metadata": {
  "kernelspec": {
   "display_name": "Python 3",
   "language": "python",
   "name": "python3"
  },
  "language_info": {
   "codemirror_mode": {
    "name": "ipython",
    "version": 3
   },
   "file_extension": ".py",
   "mimetype": "text/x-python",
   "name": "python",
   "nbconvert_exporter": "python",
   "pygments_lexer": "ipython3",
   "version": "3.6.9"
  },
  "toc-autonumbering": false,
  "toc-showcode": false,
  "toc-showmarkdowntxt": false,
  "toc-showtags": false
 },
 "nbformat": 4,
 "nbformat_minor": 4
}
