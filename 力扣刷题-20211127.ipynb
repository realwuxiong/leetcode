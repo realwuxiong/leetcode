{
 "cells": [
  {
   "cell_type": "code",
   "execution_count": null,
   "metadata": {},
   "outputs": [],
   "source": [
    "# 519. 随机翻转矩阵\n",
    "# https://leetcode-cn.com/problems/random-flip-matrix/\n",
    "\n",
    "# 不想做，直接放弃了。。\n",
    "class Solution:\n",
    "\n",
    "    def __init__(self, m: int, n: int):\n",
    "        self.m = m\n",
    "        self.n = n\n",
    "        self.total = m * n\n",
    "        self.map = {}\n",
    "\n",
    "    def flip(self) -> List[int]:\n",
    "        x = random.randint(0, self.total - 1)\n",
    "        self.total -= 1\n",
    "        # 查找位置 x 对应的映射\n",
    "        idx = self.map.get(x, x)\n",
    "        # 将位置 x 对应的映射设置为位置 total 对应的映射\n",
    "        self.map[x] = self.map.get(self.total, self.total)\n",
    "        return [idx // self.n, idx % self.n]\n",
    "        \n",
    "    def reset(self) -> None:\n",
    "        self.total = self.m * self.n\n",
    "        self.map.clear()\n"
   ]
  }
 ],
 "metadata": {
  "kernelspec": {
   "display_name": "Python 3",
   "language": "python",
   "name": "python3"
  },
  "language_info": {
   "codemirror_mode": {
    "name": "ipython",
    "version": 3
   },
   "file_extension": ".py",
   "mimetype": "text/x-python",
   "name": "python",
   "nbconvert_exporter": "python",
   "pygments_lexer": "ipython3",
   "version": "3.6.9"
  },
  "toc-autonumbering": false,
  "toc-showcode": false,
  "toc-showmarkdowntxt": false,
  "toc-showtags": false
 },
 "nbformat": 4,
 "nbformat_minor": 4
}
