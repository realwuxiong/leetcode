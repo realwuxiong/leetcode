{
 "cells": [
  {
   "cell_type": "code",
   "execution_count": null,
   "metadata": {},
   "outputs": [],
   "source": [
    "# 981. 基于时间的键值存储\n",
    "# https://leetcode-cn.com/problems/time-based-key-value-store/\n",
    "\n",
    "# 超出时间限制，再加一个二分法就行了，懒得写了\n",
    "class TimeMap:\n",
    "\n",
    "    def __init__(self):\n",
    "        \"\"\"\n",
    "        Initialize your data structure here.\n",
    "        \"\"\"\n",
    "        # 用tuple存储\n",
    "        self.myMap = {}\n",
    "\n",
    "    def set(self, key: str, value: str, timestamp: int) -> None:\n",
    "        if key not in self.myMap.keys():\n",
    "            self.myMap[key] = [(value,timestamp)]\n",
    "        else:\n",
    "            self.myMap[key].append((value,timestamp))\n",
    "\n",
    "\n",
    "    def get(self, key: str, timestamp: int) -> str:\n",
    "        \n",
    "        if key not in self.myMap.keys():\n",
    "            return \"\"\n",
    "        else:\n",
    "            ans = \"\"\n",
    "            allValues = self.myMap[key]\n",
    "            allValues.sort(key = lambda x: x[1])\n",
    "            # print(allValues)\n",
    "            for val in allValues:\n",
    "                if val[1] <= timestamp:\n",
    "                    # print(val[0])\n",
    "                    ans = val[0]\n",
    "                else:\n",
    "                    break\n",
    "            return ans\n",
    "\n",
    "\n",
    "# Your TimeMap object will be instantiated and called as such:\n",
    "# obj = TimeMap()\n",
    "# obj.set(key,value,timestamp)\n",
    "# param_2 = obj.get(key,timestamp)"
   ]
  }
 ],
 "metadata": {
  "kernelspec": {
   "display_name": "Python 3",
   "language": "python",
   "name": "python3"
  },
  "language_info": {
   "codemirror_mode": {
    "name": "ipython",
    "version": 3
   },
   "file_extension": ".py",
   "mimetype": "text/x-python",
   "name": "python",
   "nbconvert_exporter": "python",
   "pygments_lexer": "ipython3",
   "version": "3.6.9"
  }
 },
 "nbformat": 4,
 "nbformat_minor": 4
}
