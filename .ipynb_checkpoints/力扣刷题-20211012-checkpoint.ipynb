{
 "cells": [
  {
   "cell_type": "code",
   "execution_count": 2,
   "metadata": {},
   "outputs": [
    {
     "data": {
      "text/plain": [
       "3"
      ]
     },
     "execution_count": 2,
     "metadata": {},
     "output_type": "execute_result"
    }
   ],
   "source": [
    "# 29. 两数相除\n",
    "# https://leetcode-cn.com/problems/divide-two-integers/\n",
    "\n",
    "# 最近几天天不想做题。。。\n",
    "\n",
    "# 不想做，复制粘贴\n",
    "\n",
    "def divide(dividend: int, divisor: int) -> int:\n",
    "    INT_MIN, INT_MAX = -2**31, 2**31 - 1\n",
    "\n",
    "    # 考虑被除数为最小值的情况\n",
    "    if dividend == INT_MIN:\n",
    "        if divisor == 1:\n",
    "            return INT_MIN\n",
    "        if divisor == -1:\n",
    "            return INT_MAX\n",
    "\n",
    "    # 考虑除数为最小值的情况\n",
    "    if divisor == INT_MIN:\n",
    "        return 1 if dividend == INT_MIN else 0\n",
    "    # 考虑被除数为 0 的情况\n",
    "    if dividend == 0:\n",
    "        return 0\n",
    "\n",
    "    # 一般情况，使用二分查找\n",
    "    # 将所有的正数取相反数，这样就只需要考虑一种情况\n",
    "    rev = False\n",
    "    if dividend > 0:\n",
    "        dividend = -dividend\n",
    "        rev = not rev\n",
    "    if divisor > 0:\n",
    "        divisor = -divisor\n",
    "        rev = not rev\n",
    "\n",
    "    # 快速乘\n",
    "    def quickAdd(y: int, z: int, x: int) -> bool:\n",
    "        # x 和 y 是负数，z 是正数\n",
    "        # 需要判断 z * y >= x 是否成立\n",
    "        result, add = 0, y\n",
    "        while z > 0:\n",
    "            if (z & 1) == 1:\n",
    "                # 需要保证 result + add >= x\n",
    "                if result < x - add:\n",
    "                    return False\n",
    "                result += add\n",
    "            if z != 1:\n",
    "                # 需要保证 add + add >= x\n",
    "                if add < x - add:\n",
    "                    return False\n",
    "                add += add\n",
    "            # 不能使用除法\n",
    "            z >>= 1\n",
    "        return True\n",
    "\n",
    "    left, right, ans = 1, INT_MAX, 0\n",
    "    while left <= right:\n",
    "        # 注意溢出，并且不能使用除法\n",
    "        mid = left + ((right - left) >> 1)\n",
    "        check = quickAdd(divisor, mid, dividend)\n",
    "        if check:\n",
    "            ans = mid\n",
    "            # 注意溢出\n",
    "            if mid == INT_MAX:\n",
    "                break\n",
    "            left = mid + 1\n",
    "        else:\n",
    "            right = mid - 1\n",
    "\n",
    "    return -ans if rev else ans\n",
    "\n",
    "divide(10,3)"
   ]
  }
 ],
 "metadata": {
  "kernelspec": {
   "display_name": "Python 3",
   "language": "python",
   "name": "python3"
  },
  "language_info": {
   "codemirror_mode": {
    "name": "ipython",
    "version": 3
   },
   "file_extension": ".py",
   "mimetype": "text/x-python",
   "name": "python",
   "nbconvert_exporter": "python",
   "pygments_lexer": "ipython3",
   "version": "3.6.9"
  },
  "toc-autonumbering": false,
  "toc-showcode": false,
  "toc-showmarkdowntxt": false,
  "toc-showtags": false
 },
 "nbformat": 4,
 "nbformat_minor": 4
}
