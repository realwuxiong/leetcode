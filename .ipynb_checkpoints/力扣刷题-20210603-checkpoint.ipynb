{
 "cells": [
  {
   "cell_type": "code",
   "execution_count": 16,
   "metadata": {},
   "outputs": [
    {
     "name": "stdout",
     "output_type": "stream",
     "text": [
      "8\n"
     ]
    }
   ],
   "source": [
    "# 525. 连续数组\n",
    "# https://leetcode-cn.com/problems/contiguous-array/\n",
    "\n",
    "# 又是昨天的那个题目，哈希表+前缀和，，怎么这么样。。。。后期把这个题目好好看看\n",
    "from typing import List\n",
    "def findMaxLength(nums: List[int]) -> int:\n",
    "    # 还是前缀和+哈希表\n",
    "    prefixMap = {}\n",
    "    prefixMap[-1] = 0\n",
    "    for i , data in enumerate(nums):\n",
    "        if i not in prefixMap.keys():\n",
    "            prefixMap[i] = prefixMap[i-1]+data\n",
    "\n",
    "nums = [0,1,0,1,0,1,0,1,1,1]\n",
    "findMaxLength(nums)"
   ]
  }
 ],
 "metadata": {
  "kernelspec": {
   "display_name": "Python 3",
   "language": "python",
   "name": "python3"
  },
  "language_info": {
   "codemirror_mode": {
    "name": "ipython",
    "version": 3
   },
   "file_extension": ".py",
   "mimetype": "text/x-python",
   "name": "python",
   "nbconvert_exporter": "python",
   "pygments_lexer": "ipython3",
   "version": "3.6.9"
  }
 },
 "nbformat": 4,
 "nbformat_minor": 4
}
