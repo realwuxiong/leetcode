{
 "cells": [
  {
   "cell_type": "code",
   "execution_count": 8,
   "metadata": {},
   "outputs": [
    {
     "name": "stdout",
     "output_type": "stream",
     "text": [
      "2\n"
     ]
    }
   ],
   "source": [
    "# 1035. 不相交的线\n",
    "# https://leetcode-cn.com/problems/uncrossed-lines/\n",
    "\n",
    "# 其实就是最长共子序列，但是没想到\n",
    "# 想明白了他的思路，其实下面的代码就很简单了\n",
    "from typing import List\n",
    "def maxUncrossedLines(nums1: List[int], nums2: List[int]) -> int:\n",
    "    m = len(nums1)\n",
    "    n = len(nums2)\n",
    "    dp = [[0]*(n+1) for _ in range(m+1)]\n",
    "#     print(dp)\n",
    "    for i in range(1,m+1):\n",
    "        for j in range(1, n+1):\n",
    "            if nums1[i-1] == nums2[j-1]:\n",
    "                dp[i][j] = dp[i-1][j-1]+1\n",
    "            else:\n",
    "                dp[i][j] = max(dp[i][j-1],dp[i-1][j])\n",
    "    print(dp[m][n])\n",
    "nums1 = [1,3,7,1,7,5]\n",
    "nums2 = [1,9,2,5,1]\n",
    "maxUncrossedLines(nums1,nums2)"
   ]
  }
 ],
 "metadata": {
  "kernelspec": {
   "display_name": "Python 3",
   "language": "python",
   "name": "python3"
  },
  "language_info": {
   "codemirror_mode": {
    "name": "ipython",
    "version": 3
   },
   "file_extension": ".py",
   "mimetype": "text/x-python",
   "name": "python",
   "nbconvert_exporter": "python",
   "pygments_lexer": "ipython3",
   "version": "3.6.9"
  }
 },
 "nbformat": 4,
 "nbformat_minor": 4
}
