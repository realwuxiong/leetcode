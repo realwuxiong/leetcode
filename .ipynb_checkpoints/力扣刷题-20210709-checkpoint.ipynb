{
 "cells": [
  {
   "cell_type": "code",
   "execution_count": 2,
   "metadata": {},
   "outputs": [
    {
     "name": "stdout",
     "output_type": "stream",
     "text": [
      "[1, 2, 5, 9, 5, 9, 5, 5, 5]\n"
     ]
    }
   ],
   "source": [
    "# 面试题 17.10. 主要元素\n",
    "# https://leetcode-cn.com/problems/find-majority-element-lcci/\n",
    "\n",
    "# 要时间复杂度为O(n),空间复杂度为O(1),还是有点困难啊\n",
    "from typing import List\n",
    "def majorityElement(nums: List[int]) -> int:\n",
    "    print(nums)\n",
    "    pass\n",
    "nums = [1,2,5,9,5,9,5,5,5]\n",
    "majorityElement(nums)"
   ]
  }
 ],
 "metadata": {
  "kernelspec": {
   "display_name": "Python 3",
   "language": "python",
   "name": "python3"
  },
  "language_info": {
   "codemirror_mode": {
    "name": "ipython",
    "version": 3
   },
   "file_extension": ".py",
   "mimetype": "text/x-python",
   "name": "python",
   "nbconvert_exporter": "python",
   "pygments_lexer": "ipython3",
   "version": "3.6.9"
  }
 },
 "nbformat": 4,
 "nbformat_minor": 4
}
