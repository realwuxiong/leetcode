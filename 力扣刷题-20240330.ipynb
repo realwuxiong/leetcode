{
 "cells": [
  {
   "cell_type": "code",
   "execution_count": 10,
   "id": "edf9e049-3b59-40c5-a7f7-e23a2207ac70",
   "metadata": {},
   "outputs": [
    {
     "name": "stdout",
     "output_type": "stream",
     "text": [
      "{2: 0}\n"
     ]
    },
    {
     "data": {
      "text/plain": [
       "[0, 1]"
      ]
     },
     "execution_count": 10,
     "metadata": {},
     "output_type": "execute_result"
    }
   ],
   "source": [
    "# 力扣hot100 第一天\n",
    "# 1. 两数之和\n",
    "# https://leetcode.cn/problems/two-sum/description/?envType=study-plan-v2&envId=top-100-liked\n",
    "\n",
    "from typing import List\n",
    "def twoSum(nums: List[int], target: int) -> List[int]:\n",
    "    my_dict = {}\n",
    "    result = []\n",
    "    for i, num in enumerate(nums):\n",
    "        t = target - num\n",
    "        if t in my_dict.keys():\n",
    "            result.append(my_dict[t])\n",
    "            result.append(i)\n",
    "            break \n",
    "        my_dict[num] = i\n",
    "    return result\n",
    "\n",
    "nums = [2,7,11,15]\n",
    "target = 9\n",
    "twoSum(nums, target)"
   ]
  },
  {
   "cell_type": "code",
   "execution_count": null,
   "id": "86c4b46d-a274-40d7-b6df-65c6fa8336a1",
   "metadata": {},
   "outputs": [],
   "source": [
    "# 287. 寻找重复数\n",
    "# https://leetcode.cn/problems/find-the-duplicate-number/description/?envType=study-plan-v2&envId=top-100-liked\n",
    "from typing import List\n",
    "def findDuplicate(nums: List[int]) -> int:\n",
    "    "
   ]
  }
 ],
 "metadata": {
  "kernelspec": {
   "display_name": "Python 3",
   "language": "python",
   "name": "python3"
  },
  "language_info": {
   "codemirror_mode": {
    "name": "ipython",
    "version": 3
   },
   "file_extension": ".py",
   "mimetype": "text/x-python",
   "name": "python",
   "nbconvert_exporter": "python",
   "pygments_lexer": "ipython3",
   "version": "3.6.9"
  }
 },
 "nbformat": 4,
 "nbformat_minor": 5
}
