{
 "cells": [
  {
   "cell_type": "code",
   "execution_count": 25,
   "metadata": {},
   "outputs": [
    {
     "name": "stdout",
     "output_type": "stream",
     "text": [
      "[5, 5, 1, 8]\n"
     ]
    },
    {
     "data": {
      "text/plain": [
       "False"
      ]
     },
     "execution_count": 25,
     "metadata": {},
     "output_type": "execute_result"
    }
   ],
   "source": [
    "# 665. 非递减数列\n",
    "# https://leetcode-cn.com/problems/non-decreasing-array/ bvn\n",
    "# 下面这个代码考虑的不全面\n",
    "from typing import List\n",
    "def checkPossibility(nums: List[int]) -> bool:\n",
    "    tem = nums[0]\n",
    "    res = -1\n",
    "    for i in range(1,len(nums)):\n",
    "        if(nums[i]<tem):\n",
    "            res = i\n",
    "            break\n",
    "        tem = nums[i]\n",
    "    if(res > 0):\n",
    "        if( res -2 >=0 ):\n",
    "            nums[res-1] = nums[res-2]\n",
    "        else:\n",
    "            if(res - 1 == 0):\n",
    "                nums[res-1]=nums[res]\n",
    "    else:\n",
    "        return True\n",
    "    print(nums)\n",
    "    res =  -1\n",
    "    tem = nums[0]\n",
    "    for i in range(1,len(nums)):\n",
    "        if(nums[i]<tem):\n",
    "            res = i\n",
    "        if res > 0:\n",
    "            return False\n",
    "        tem = nums[i]\n",
    "    \n",
    "    return True\n",
    "nums = [5,7,1,8]\n",
    "checkPossibility(nums)"
   ]
  },
  {
   "cell_type": "code",
   "execution_count": null,
   "metadata": {},
   "outputs": [],
   "source": [
    "# 标准答案，java版本\n",
    "class Solution {\n",
    "    public boolean checkPossibility(int[] nums) {\n",
    "        int n = nums.length;\n",
    "        for (int i = 0; i < n - 1; ++i) {\n",
    "            int x = nums[i], y = nums[i + 1];\n",
    "            if (x > y) {\n",
    "                nums[i] = y;\n",
    "                if (isSorted(nums)) {\n",
    "                    return true;\n",
    "                }\n",
    "                nums[i] = x; // 复原\n",
    "                nums[i + 1] = x;\n",
    "                return isSorted(nums);\n",
    "            }\n",
    "        }\n",
    "        return true;\n",
    "    }\n",
    "\n",
    "    public boolean isSorted(int[] nums) {\n",
    "        int n = nums.length;\n",
    "        for (int i = 1; i < n; ++i) {\n",
    "            if (nums[i - 1] > nums[i]) {\n",
    "                return false;\n",
    "            }\n",
    "        }\n",
    "        return true;\n",
    "    }\n",
    "}\n"
   ]
  },
  {
   "cell_type": "code",
   "execution_count": 74,
   "metadata": {},
   "outputs": [
    {
     "name": "stdout",
     "output_type": "stream",
     "text": [
      "   3.14149\n"
     ]
    }
   ],
   "source": [
    "a=\"3.14149\"\n",
    "print(\"%10s\"%a)"
   ]
  }
 ],
 "metadata": {
  "kernelspec": {
   "display_name": "Python 3",
   "language": "python",
   "name": "python3"
  },
  "language_info": {
   "codemirror_mode": {
    "name": "ipython",
    "version": 3
   },
   "file_extension": ".py",
   "mimetype": "text/x-python",
   "name": "python",
   "nbconvert_exporter": "python",
   "pygments_lexer": "ipython3",
   "version": "3.8.5"
  }
 },
 "nbformat": 4,
 "nbformat_minor": 4
}
