{
 "cells": [
  {
   "cell_type": "code",
   "execution_count": 6,
   "metadata": {},
   "outputs": [
    {
     "data": {
      "text/plain": [
       "5"
      ]
     },
     "execution_count": 6,
     "metadata": {},
     "output_type": "execute_result"
    }
   ],
   "source": [
    "# 532. 数组中的 k-diff 数对\n",
    "# https://leetcode.cn/problems/k-diff-pairs-in-an-array/\n",
    "\n",
    "from typing import List\n",
    "def findPairs(nums: List[int], k: int) -> int:\n",
    "    dic = {}\n",
    "    for num in nums:\n",
    "        dic[num] = dic.setdefault(num,0) + 1\n",
    "    ans = 0\n",
    "    \n",
    "    if k == 0:\n",
    "        for key in dic.keys():\n",
    "            t = 0\n",
    "    \n",
    "    # 分num为i和j\n",
    "#     print(dic)\n",
    "    for num in set(nums):\n",
    "        if num + k in dic.keys():\n",
    "            ans += dic[num]*dic[num+k]\n",
    "    return ans\n",
    "    pass\n",
    "nums = [1, 2, 3, 4, 5]\n",
    "k = 0\n",
    "findPairs(nums,k)"
   ]
  }
 ],
 "metadata": {
  "kernelspec": {
   "display_name": "Python 3",
   "language": "python",
   "name": "python3"
  },
  "language_info": {
   "codemirror_mode": {
    "name": "ipython",
    "version": 3
   },
   "file_extension": ".py",
   "mimetype": "text/x-python",
   "name": "python",
   "nbconvert_exporter": "python",
   "pygments_lexer": "ipython3",
   "version": "3.6.9"
  },
  "toc-autonumbering": false,
  "toc-showcode": false,
  "toc-showmarkdowntxt": false,
  "toc-showtags": false
 },
 "nbformat": 4,
 "nbformat_minor": 4
}
