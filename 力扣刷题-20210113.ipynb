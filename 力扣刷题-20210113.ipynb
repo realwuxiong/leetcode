{
 "cells": [
  {
   "cell_type": "code",
   "execution_count": 29,
   "metadata": {},
   "outputs": [
    {
     "name": "stdout",
     "output_type": "stream",
     "text": [
      "[[8, 10], [4, 10], [6, 8]]\n",
      "[9, 10, 5, 8, 2, 6, 1, 5, 3, 8, 4, 9, 7, 9]\n"
     ]
    },
    {
     "data": {
      "text/plain": [
       "[6, 8]"
      ]
     },
     "execution_count": 29,
     "metadata": {},
     "output_type": "execute_result"
    }
   ],
   "source": [
    "# 684. 冗余连接\n",
    "# https://leetcode-cn.com/problems/redundant-connection/\n",
    "# 又是并查集,,,,没写出来\n",
    "\n",
    "\n",
    "def findRedundantConnection(edges) :\n",
    "    visit=[]\n",
    "    result=[]\n",
    "    for data in edges:\n",
    "        if data[0] not in visit:\n",
    "            visit.append(data[0])\n",
    "            visit.append(data[1]) \n",
    "            continue\n",
    "        if data[0] in visit and data[1] not in visit:\n",
    "            visit.append(data[1])\n",
    "            continue\n",
    "        if data[1] in visit and data[0] not in visit:\n",
    "            visit.append(data[0])\n",
    "            continue\n",
    "        if data[0] in visit and data[1] in visit:\n",
    "            result.append(data)\n",
    "            continue\n",
    "    print(result)\n",
    "    print(visit)\n",
    "    return result[-1]\n",
    "\n",
    "\n",
    "edges=[[9,10],[5,8],[2,6],[1,5],[3,8],[4,9],[8,10],[4,10],[6,8],[7,9]]\n",
    "x = findRedundantConnection(edges)\n",
    "x    "
   ]
  }
 ],
 "metadata": {
  "kernelspec": {
   "display_name": "Python 3",
   "language": "python",
   "name": "python3"
  },
  "language_info": {
   "codemirror_mode": {
    "name": "ipython",
    "version": 3
   },
   "file_extension": ".py",
   "mimetype": "text/x-python",
   "name": "python",
   "nbconvert_exporter": "python",
   "pygments_lexer": "ipython3",
   "version": "3.8.5"
  }
 },
 "nbformat": 4,
 "nbformat_minor": 4
}
