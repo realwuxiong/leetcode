{
 "cells": [
  {
   "cell_type": "code",
   "execution_count": 2,
   "metadata": {},
   "outputs": [
    {
     "name": "stdout",
     "output_type": "stream",
     "text": [
      "['0201', '0101', '0102', '1212', '2002']\n"
     ]
    }
   ],
   "source": [
    "# 752. 打开转盘锁\n",
    "# https://leetcode-cn.com/problems/open-the-lock/\n",
    "# 我操？这一题完全没思路，明天做吧。。。。\n",
    "\n",
    "# 20201年6月27日再做一次\n",
    "# 广度搜索。做完用java写一遍\n",
    "from typing import List\n",
    "from collections import deque\n",
    "def openLock(deadends: List[str], target: str) -> int:\n",
    "    print(deadends)\n",
    "    pass\n",
    "deadends = [\"0201\",\"0101\",\"0102\",\"1212\",\"2002\"]\n",
    "target = \"0202\"\n",
    "openLock(deadends,target)"
   ]
  }
 ],
 "metadata": {
  "kernelspec": {
   "display_name": "Python 3",
   "language": "python",
   "name": "python3"
  },
  "language_info": {
   "codemirror_mode": {
    "name": "ipython",
    "version": 3
   },
   "file_extension": ".py",
   "mimetype": "text/x-python",
   "name": "python",
   "nbconvert_exporter": "python",
   "pygments_lexer": "ipython3",
   "version": "3.6.9"
  }
 },
 "nbformat": 4,
 "nbformat_minor": 4
}
