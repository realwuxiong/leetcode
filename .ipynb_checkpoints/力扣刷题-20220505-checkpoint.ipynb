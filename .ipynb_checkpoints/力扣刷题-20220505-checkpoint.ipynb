{
 "cells": [
  {
   "cell_type": "code",
   "execution_count": 18,
   "metadata": {},
   "outputs": [
    {
     "name": "stdout",
     "output_type": "stream",
     "text": [
      "0 10\n",
      "1 50\n",
      "1 5\n",
      "2 10\n",
      "3 60\n",
      "2 2\n",
      "3 12\n",
      "3 6\n",
      "[8]\n"
     ]
    }
   ],
   "source": [
    "# 713. 乘积小于 K 的子数组\n",
    "# https://leetcode-cn.com/problems/subarray-product-less-than-k/\n",
    "\n",
    "from typing import List\n",
    "def numSubarrayProductLessThanK(nums: List[int], k: int) -> int:\n",
    "    \n",
    "    # 直接dfs,但是超时了\n",
    "    ans = [0]\n",
    "    n = len(nums)\n",
    "    def dfs(i,product):\n",
    "        if i >= n:\n",
    "            return False\n",
    "        product *= nums[i]\n",
    "        if product < k: \n",
    "#             print(i,product)\n",
    "            ans[0] += 1\n",
    "        else:\n",
    "            return False\n",
    "        \n",
    "        for j in range(i,n):\n",
    "            if not dfs(j+1,product):\n",
    "                break\n",
    "    for i in range(n):\n",
    "        dfs(i,1)\n",
    "    return ans[0]\n",
    "\n",
    "nums = [10,5,2,6]\n",
    "k = 100\n",
    "numSubarrayProductLessThanK(nums,k)"
   ]
  },
  {
   "cell_type": "code",
   "execution_count": null,
   "metadata": {},
   "outputs": [],
   "source": [
    "# 答案的这个滑动窗口写的挺好！ \n",
    "def numSubarrayProductLessThanK(self, nums: List[int], k: int) -> int:\n",
    "    ans, prod, i = 0, 1, 0\n",
    "    for j, num in enumerate(nums):\n",
    "        prod *= num\n",
    "        while i <= j and prod >= k:\n",
    "            prod //= nums[i]\n",
    "            i += 1\n",
    "        ans += j - i + 1\n",
    "    return ans\n"
   ]
  }
 ],
 "metadata": {
  "kernelspec": {
   "display_name": "Python 3",
   "language": "python",
   "name": "python3"
  },
  "language_info": {
   "codemirror_mode": {
    "name": "ipython",
    "version": 3
   },
   "file_extension": ".py",
   "mimetype": "text/x-python",
   "name": "python",
   "nbconvert_exporter": "python",
   "pygments_lexer": "ipython3",
   "version": "3.6.9"
  },
  "toc-autonumbering": false,
  "toc-showcode": false,
  "toc-showmarkdowntxt": false,
  "toc-showtags": false
 },
 "nbformat": 4,
 "nbformat_minor": 4
}
