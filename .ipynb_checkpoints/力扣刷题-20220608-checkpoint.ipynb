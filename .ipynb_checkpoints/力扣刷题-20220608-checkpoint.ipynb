{
 "cells": [
  {
   "cell_type": "code",
   "execution_count": 3,
   "metadata": {},
   "outputs": [
    {
     "data": {
      "text/plain": [
       "False"
      ]
     },
     "execution_count": 3,
     "metadata": {},
     "output_type": "execute_result"
    }
   ],
   "source": [
    "# 1037. 有效的回旋镖\n",
    "# https://leetcode.cn/problems/valid-boomerang/\n",
    "\n",
    "from typing import List\n",
    "def isBoomerang(points: List[List[int]]) -> bool:\n",
    "    # 要考虑 斜率为0\n",
    "    if points[0] == points[1] or points[0] == points[2] or points[1] == points[2]:\n",
    "        return False\n",
    "    \n",
    "    # 用斜率\n",
    "    return not ((points[0][1]-points[1][1])/(points[0][0]-points[1][0]) == (points[2][1]-points[1][1])/(points[2][0]-points[1][0]))\n",
    "    \n",
    "    pass\n",
    "points = [[1,1],[2,2],[3,3]]\n",
    "isBoomerang(points)"
   ]
  }
 ],
 "metadata": {
  "kernelspec": {
   "display_name": "Python 3",
   "language": "python",
   "name": "python3"
  },
  "language_info": {
   "codemirror_mode": {
    "name": "ipython",
    "version": 3
   },
   "file_extension": ".py",
   "mimetype": "text/x-python",
   "name": "python",
   "nbconvert_exporter": "python",
   "pygments_lexer": "ipython3",
   "version": "3.6.9"
  },
  "toc-autonumbering": false,
  "toc-showcode": false,
  "toc-showmarkdowntxt": false,
  "toc-showtags": false
 },
 "nbformat": 4,
 "nbformat_minor": 4
}
