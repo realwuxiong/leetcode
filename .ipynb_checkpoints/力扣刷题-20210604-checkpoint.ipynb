{
 "cells": [
  {
   "cell_type": "code",
   "execution_count": null,
   "metadata": {},
   "outputs": [],
   "source": [
    "# 160. 相交链表\n",
    "# https://leetcode-cn.com/problems/intersection-of-two-linked-lists/\n",
    "\n",
    "# Definition for singly-linked list.\n",
    "# class ListNode:\n",
    "#     def __init__(self, x):\n",
    "#         self.val = x\n",
    "#         self.next = None\n",
    "\n",
    "class Solution:\n",
    "    def getIntersectionNode(self, headA: ListNode, headB: ListNode) -> ListNode:\n",
    "        # 加上哈希表试试咯。直接通过\n",
    "        myHashMap ={}\n",
    "        while headA or headB:\n",
    "            if headA:\n",
    "                if headA not in myHashMap.keys():\n",
    "                    myHashMap[headA] = 0\n",
    "                else:\n",
    "                    return headA\n",
    "                headA = headA.next\n",
    "            if headB:\n",
    "                if headB not in myHashMap.keys():\n",
    "                    myHashMap[headB] = 0\n",
    "                else:\n",
    "                    return headB\n",
    "                headB = headB.next\n",
    "        return None"
   ]
  }
 ],
 "metadata": {
  "kernelspec": {
   "display_name": "Python 3",
   "language": "python",
   "name": "python3"
  },
  "language_info": {
   "codemirror_mode": {
    "name": "ipython",
    "version": 3
   },
   "file_extension": ".py",
   "mimetype": "text/x-python",
   "name": "python",
   "nbconvert_exporter": "python",
   "pygments_lexer": "ipython3",
   "version": "3.6.9"
  }
 },
 "nbformat": 4,
 "nbformat_minor": 4
}
