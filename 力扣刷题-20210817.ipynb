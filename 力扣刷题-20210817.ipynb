{
 "cells": [
  {
   "cell_type": "code",
   "execution_count": 5,
   "metadata": {},
   "outputs": [
    {
     "data": {
      "text/plain": [
       "False"
      ]
     },
     "execution_count": 5,
     "metadata": {},
     "output_type": "execute_result"
    }
   ],
   "source": [
    "# 551. 学生出勤记录 I\n",
    "# https://leetcode-cn.com/problems/student-attendance-record-i/\n",
    "\n",
    "# 总算来了一个简单题\n",
    "\n",
    "def checkRecord(s: str) -> bool:\n",
    "    absentRecord,lateRecord = 0, 0\n",
    "    \n",
    "    for i , ss in enumerate(s):\n",
    "        if \"A\" == ss:\n",
    "            absentRecord += 1\n",
    "            lateRecord = 0\n",
    "        elif \"L\" == ss:\n",
    "            if lateRecord != 0:\n",
    "                lateRecord += 1\n",
    "            else:\n",
    "                lateRecord = 1\n",
    "        else:\n",
    "            lateRecord = 0\n",
    "        \n",
    "        if absentRecord >= 2 or lateRecord >= 3:\n",
    "            return False\n",
    "    return True\n",
    "    \n",
    "    pass\n",
    "s = \"LLLPPPA\"\n",
    "checkRecord(s)"
   ]
  },
  {
   "cell_type": "code",
   "execution_count": 8,
   "metadata": {},
   "outputs": [
    {
     "data": {
      "text/plain": [
       "[1, 1, 2, 3, 3, 12, 21, 23, 314, 321, 321]"
      ]
     },
     "execution_count": 8,
     "metadata": {},
     "output_type": "execute_result"
    }
   ],
   "source": [
    "# 再来一次快排\n",
    "# 这次可以，一波写出来了，不到五分钟\n",
    "def quick_sort(nums):\n",
    "    def quickSort(start,end):\n",
    "        if start >= end:\n",
    "            return\n",
    "        slow = start\n",
    "        fast = end\n",
    "        \n",
    "        t = nums[slow]\n",
    "        while slow < fast:\n",
    "            while nums[fast] >= t and slow < fast:\n",
    "                fast -= 1\n",
    "            nums[slow] = nums[fast]\n",
    "            while nums[slow] <= t and slow < fast:\n",
    "                slow += 1\n",
    "            nums[fast] = nums[slow]\n",
    "        nums[slow] = t\n",
    "        quickSort(start,slow-1)\n",
    "        quickSort(slow+1,end)\n",
    "    quickSort(0,len(nums)-1)\n",
    "    return nums\n",
    "nums = [1,2,314,21,321,3,12,321,3,1,23]\n",
    "quick_sort(nums)"
   ]
  },
  {
   "cell_type": "code",
   "execution_count": 16,
   "metadata": {},
   "outputs": [
    {
     "name": "stdout",
     "output_type": "stream",
     "text": [
      "[['X', 'X', 'X', 'X'], ['X', 'X', 'X', 'X'], ['X', 'X', 'X', 'X'], ['X', 'O', 'X', 'X']]\n"
     ]
    }
   ],
   "source": [
    "# 再来一题并查集\n",
    "# 130.被围绕的区域\n",
    "# https://leetcode-cn.com/problems/surrounded-regions/\n",
    "from typing import List\n",
    "def solve(board: List[List[str]]) -> None:\n",
    "    \"\"\"\n",
    "    Do not return anything, modify board in-place instead.\n",
    "    \"\"\"\n",
    "    f = {}\n",
    "    def find(x):\n",
    "        f.setdefault(x,x)\n",
    "        if f[x]!=x:\n",
    "            f[x] = find(f[x])\n",
    "        return f[x]\n",
    "    def union(x,y):\n",
    "        f[find(y)] = find(x)\n",
    "    if not board or not board[0]:\n",
    "        return\n",
    "    row,col = len(board),len(board[0])\n",
    "    dummy = row*col\n",
    "    for i in range(row):\n",
    "        for j in range(col):\n",
    "            if board[i][j] == \"O\":\n",
    "                if i == 0 or i == row - 1 or j == 0 or j == col - 1:\n",
    "                    union(i * col + j, dummy)\n",
    "                else:\n",
    "                    for x, y in [(-1, 0), (1, 0), (0, -1), (0, 1)]:\n",
    "                        if board[i + x][j + y] == \"O\":\n",
    "                            union(i * col + j, (i + x) * col + (j + y))\n",
    "\n",
    "    for i in range(row):\n",
    "        for j in range(col):\n",
    "            if find(dummy) == find(i * col + j):\n",
    "                board[i][j] = \"O\"\n",
    "            else:\n",
    "                board[i][j] = \"X\"\n",
    "    print(board)\n",
    "board = [[\"X\",\"X\",\"X\",\"X\"],[\"X\",\"O\",\"O\",\"X\"],[\"X\",\"X\",\"O\",\"X\"],[\"X\",\"O\",\"X\",\"X\"]]\n",
    "solve(board)\n"
   ]
  },
  {
   "cell_type": "code",
   "execution_count": 15,
   "metadata": {},
   "outputs": [
    {
     "data": {
      "text/plain": [
       "1"
      ]
     },
     "execution_count": 15,
     "metadata": {},
     "output_type": "execute_result"
    }
   ],
   "source": [
    "# 200. 岛屿数量\n",
    "# https://leetcode-cn.com/problems/number-of-islands/\n",
    "from typing import List\n",
    "def numIslands(grid: List[List[str]]) -> int:\n",
    "    \"\"\"\n",
    "    这个题目是二维的并查集,看的别人的答案\n",
    "    \"\"\"\n",
    "    f = {}\n",
    "    def find(x):\n",
    "        f.setdefault(x,x)\n",
    "        if f[x]!=x:\n",
    "            f[x] = find(f[x])\n",
    "        return f[x]\n",
    "    def union(x,y):\n",
    "        f[find(y)] = find(x)\n",
    "\n",
    "    if not grid:\n",
    "        return 0\n",
    "    row,col =len(grid),len(grid[0])\n",
    "    for i in range(row):\n",
    "        for j in range(col):\n",
    "            if grid[i][j] == \"1\":\n",
    "                for x, y in [[-1, 0], [0, -1]]:\n",
    "                    tmp_i = i + x\n",
    "                    tmp_j = j + y\n",
    "                    if 0 <= tmp_i < row and 0 <= tmp_j < col and grid[tmp_i][tmp_j] == \"1\":\n",
    "                        union(tmp_i * col + tmp_j, i * col + j)\n",
    "    res = set()\n",
    "    for i in range(row):\n",
    "        for j in range(col):\n",
    "            if grid[i][j] == \"1\":\n",
    "                res.add(find(col*i+j))\n",
    "    return len(res)\n",
    "    pass\n",
    "grid = [\n",
    "  [\"1\",\"1\",\"1\",\"1\",\"0\"],\n",
    "  [\"1\",\"1\",\"0\",\"1\",\"0\"],\n",
    "  [\"1\",\"1\",\"0\",\"0\",\"0\"],\n",
    "  [\"0\",\"0\",\"0\",\"0\",\"0\"]\n",
    "]\n",
    "\n",
    "numIslands(grid)\n",
    "\n"
   ]
  }
 ],
 "metadata": {
  "kernelspec": {
   "display_name": "Python 3",
   "language": "python",
   "name": "python3"
  },
  "language_info": {
   "codemirror_mode": {
    "name": "ipython",
    "version": 3
   },
   "file_extension": ".py",
   "mimetype": "text/x-python",
   "name": "python",
   "nbconvert_exporter": "python",
   "pygments_lexer": "ipython3",
   "version": "3.6.9"
  },
  "toc-autonumbering": false,
  "toc-showcode": false,
  "toc-showmarkdowntxt": false,
  "toc-showtags": false
 },
 "nbformat": 4,
 "nbformat_minor": 4
}
