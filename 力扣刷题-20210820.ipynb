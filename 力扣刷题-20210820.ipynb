{
 "cells": [
  {
   "cell_type": "code",
   "execution_count": 11,
   "metadata": {},
   "outputs": [
    {
     "name": "stdout",
     "output_type": "stream",
     "text": [
      "0 a\n"
     ]
    },
    {
     "data": {
      "text/plain": [
       "'dcba'"
      ]
     },
     "execution_count": 11,
     "metadata": {},
     "output_type": "execute_result"
    }
   ],
   "source": [
    "#541. 反转字符串 II\n",
    "# https://leetcode-cn.com/problems/reverse-string-ii/\n",
    "\n",
    "\n",
    "# 这几天都是简单题\n",
    "\n",
    "# 08:33-08:45\n",
    "\n",
    "def reverseStr(s: str, k: int) -> str:\n",
    " \n",
    "    # 定义翻转函数\n",
    "    def reverseFun(start,end):\n",
    "        while start < end:\n",
    "            s[start],s[end] = s[end],s[start]\n",
    "            start += 1\n",
    "            end -= 1\n",
    "    s = list(s)\n",
    "    n = len(s)\n",
    "    for i in range(0,n,2*k):\n",
    "        print(i,s[i])\n",
    "        if i + k -1 <= n -1:\n",
    "            reverseFun(i,i+k-1)\n",
    "    # 最后的特殊情况考虑一下，即最后一波的时候小于k个值\n",
    "    if i + k -1 > n-1:\n",
    "        reverseFun(i,n-1)\n",
    "    return \"\".join(s) \n",
    "    \n",
    "    \n",
    "    pass\n",
    "s = \"abcd\"\n",
    "k = 4\n",
    "reverseStr(s,k)"
   ]
  }
 ],
 "metadata": {
  "kernelspec": {
   "display_name": "Python 3",
   "language": "python",
   "name": "python3"
  },
  "language_info": {
   "codemirror_mode": {
    "name": "ipython",
    "version": 3
   },
   "file_extension": ".py",
   "mimetype": "text/x-python",
   "name": "python",
   "nbconvert_exporter": "python",
   "pygments_lexer": "ipython3",
   "version": "3.6.9"
  },
  "toc-autonumbering": false,
  "toc-showcode": false,
  "toc-showmarkdowntxt": false,
  "toc-showtags": false
 },
 "nbformat": 4,
 "nbformat_minor": 4
}
