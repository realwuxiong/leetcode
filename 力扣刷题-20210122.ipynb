{
 "cells": [
  {
   "cell_type": "code",
   "execution_count": 23,
   "metadata": {},
   "outputs": [
    {
     "name": "stdout",
     "output_type": "stream",
     "text": [
      "['1', '2', '3', '4']\n"
     ]
    }
   ],
   "source": [
    "# 989. 数组形式的整数加法\n",
    "# https://leetcode-cn.com/problems/add-to-array-form-of-integer/\n",
    "\n",
    "def addToArrayForm(A,K):\n",
    "    num=0\n",
    "    for i in range(len(A)):\n",
    "        num += 10**(len(A)-1-i)*A[i]\n",
    "    num += K\n",
    "    res = []\n",
    "    for i in str(num):\n",
    "        res.append(i)\n",
    "    print(res)\n",
    "    pass\n",
    "A = [1,2,0,0]\n",
    "K = 34\n",
    "addToArrayForm(A,K)"
   ]
  }
 ],
 "metadata": {
  "kernelspec": {
   "display_name": "Python 3",
   "language": "python",
   "name": "python3"
  },
  "language_info": {
   "codemirror_mode": {
    "name": "ipython",
    "version": 3
   },
   "file_extension": ".py",
   "mimetype": "text/x-python",
   "name": "python",
   "nbconvert_exporter": "python",
   "pygments_lexer": "ipython3",
   "version": "3.8.5"
  }
 },
 "nbformat": 4,
 "nbformat_minor": 4
}
