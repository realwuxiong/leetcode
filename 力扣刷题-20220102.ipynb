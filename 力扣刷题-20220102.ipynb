{
 "cells": [
  {
   "cell_type": "code",
   "execution_count": null,
   "metadata": {},
   "outputs": [],
   "source": [
    "# 390. 消除游戏\n",
    "# https://leetcode-cn.com/problems/elimination-game/\n",
    "\n",
    "# 抄答案的，就是模拟。。\n",
    "\n",
    "class Solution:\n",
    "    def lastRemaining(self, n: int) -> int:\n",
    "        a1 = 1\n",
    "        k, cnt, step = 0, n, 1\n",
    "        while cnt > 1:\n",
    "            if k % 2 == 0:  # 正向\n",
    "                a1 += step\n",
    "            else:  # 反向\n",
    "                if cnt % 2:\n",
    "                    a1 += step\n",
    "            k += 1\n",
    "            cnt >>= 1\n",
    "            step <<= 1\n",
    "        return a1\n",
    "\n"
   ]
  }
 ],
 "metadata": {
  "kernelspec": {
   "display_name": "Python 3",
   "language": "python",
   "name": "python3"
  },
  "language_info": {
   "codemirror_mode": {
    "name": "ipython",
    "version": 3
   },
   "file_extension": ".py",
   "mimetype": "text/x-python",
   "name": "python",
   "nbconvert_exporter": "python",
   "pygments_lexer": "ipython3",
   "version": "3.6.9"
  },
  "toc-autonumbering": false,
  "toc-showcode": false,
  "toc-showmarkdowntxt": false,
  "toc-showtags": false
 },
 "nbformat": 4,
 "nbformat_minor": 4
}
