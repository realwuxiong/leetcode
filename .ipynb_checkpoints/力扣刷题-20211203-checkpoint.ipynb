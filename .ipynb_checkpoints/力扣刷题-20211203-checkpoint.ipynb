{
 "cells": [
  {
   "cell_type": "code",
   "execution_count": null,
   "metadata": {},
   "outputs": [],
   "source": [
    "# 1005. K 次取反后最大化的数组和\n",
    "# https://leetcode-cn.com/problems/maximize-sum-of-array-after-k-negations/\n",
    "\n",
    "from typing import List\n",
    "def largestSumAfterKNegations(nums: List[int], k: int) -> int:\n",
    "    num.sort()\n",
    "    \n",
    "    pass\n",
    "nums = [2,-3,-1,5,-4]\n",
    "k = 2"
   ]
  }
 ],
 "metadata": {
  "kernelspec": {
   "display_name": "Python 3",
   "language": "python",
   "name": "python3"
  },
  "language_info": {
   "codemirror_mode": {
    "name": "ipython",
    "version": 3
   },
   "file_extension": ".py",
   "mimetype": "text/x-python",
   "name": "python",
   "nbconvert_exporter": "python",
   "pygments_lexer": "ipython3",
   "version": "3.6.9"
  },
  "toc-autonumbering": false,
  "toc-showcode": false,
  "toc-showmarkdowntxt": false,
  "toc-showtags": false
 },
 "nbformat": 4,
 "nbformat_minor": 4
}
