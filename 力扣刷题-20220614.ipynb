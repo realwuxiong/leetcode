{
 "cells": [
  {
   "cell_type": "code",
   "execution_count": 24,
   "metadata": {},
   "outputs": [
    {
     "data": {
      "text/plain": [
       "[2, 3]"
      ]
     },
     "execution_count": 24,
     "metadata": {},
     "output_type": "execute_result"
    }
   ],
   "source": [
    "# 498. 对角线遍历\n",
    "# https://leetcode.cn/problems/diagonal-traverse/\n",
    "\n",
    "from typing import List\n",
    "def findDiagonalOrder(mat: List[List[int]]) -> List[int]:\n",
    "    ans = []\n",
    "    m = len(mat[0]) # 列\n",
    "    n = len(mat) # 行\n",
    "    flag = False\n",
    "    for i in range(n):\n",
    "        a = i\n",
    "        b = 0\n",
    "        t = []\n",
    "        while -1 < a < n and -1 < b < m:\n",
    "            t.append(mat[a][b])\n",
    "#             print(mat[a][b])\n",
    "            a -= 1\n",
    "            b += 1\n",
    "        if flag:\n",
    "            t.reverse()\n",
    "        flag = not flag\n",
    "        ans += t\n",
    "    for i in range(1,m):\n",
    "        a = n-1\n",
    "        b = i\n",
    "        t = []\n",
    "        while -1 < a < n and -1 < b < m:\n",
    "            t.append(mat[a][b])\n",
    "#             print(mat[a][b])\n",
    "            a -= 1\n",
    "            b += 1\n",
    "        if flag:\n",
    "            t.reverse()\n",
    "        flag = not flag\n",
    "        ans += t\n",
    "    return ans\n",
    "    \n",
    "\n",
    "\n",
    "\n",
    "mat = [[2,3]]\n",
    "findDiagonalOrder(mat)"
   ]
  }
 ],
 "metadata": {
  "kernelspec": {
   "display_name": "Python 3",
   "language": "python",
   "name": "python3"
  },
  "language_info": {
   "codemirror_mode": {
    "name": "ipython",
    "version": 3
   },
   "file_extension": ".py",
   "mimetype": "text/x-python",
   "name": "python",
   "nbconvert_exporter": "python",
   "pygments_lexer": "ipython3",
   "version": "3.6.9"
  },
  "toc-autonumbering": false,
  "toc-showcode": false,
  "toc-showmarkdowntxt": false,
  "toc-showtags": false
 },
 "nbformat": 4,
 "nbformat_minor": 4
}
