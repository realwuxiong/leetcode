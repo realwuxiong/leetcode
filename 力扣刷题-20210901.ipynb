{
 "cells": [
  {
   "cell_type": "code",
   "execution_count": 63,
   "metadata": {},
   "outputs": [
    {
     "data": {
      "text/plain": [
       "-1"
      ]
     },
     "execution_count": 63,
     "metadata": {},
     "output_type": "execute_result"
    }
   ],
   "source": [
    "# 165. 比较版本号\n",
    "# https://leetcode-cn.com/problems/compare-version-numbers/\n",
    "\n",
    "# 07:02- 07:42 这题目做的真的水\n",
    "# 今天起了个早床，天天睡不着\n",
    "def compareVersion(version1: str, version2: str) -> int:\n",
    "    arr1 = version1.split(\".\")\n",
    "    arr2 = version2.split(\".\")\n",
    "    m = len(arr1)\n",
    "    n = len(arr2)\n",
    "#     print(arr1,arr2)\n",
    "    for i in range(m):\n",
    "        if i >= n:\n",
    "            # arr1比arr2长\n",
    "            for j in range(i,m):\n",
    "                if int(arr1[j]) != 0:\n",
    "                    return 1    \n",
    "            \n",
    "            return 0\n",
    "        # 写的太复杂了，其实没那么难，，，，想复杂了\n",
    "#         lengthArr1i = len(arr1[i])\n",
    "#         if lengthArr1i != 1 and arr1[i].startswith(\"0\"):\n",
    "#             for j in range(lengthArr1i):\n",
    "#                 if arr1[i][j] != \"0\":\n",
    "#                     # 截断字符串\n",
    "#                     arr1[i] = arr1[i][j:]\n",
    "#                     break\n",
    "#             arr1[i] = \"0\" if j == lengthArr1i-1 and len(arr1[i]) > 1 else arr1[i]\n",
    "#         lengthArr2i = len(arr2[i])\n",
    "#         if lengthArr2i != 1 and arr2[i].startswith(\"0\"):\n",
    "#             for j in range(lengthArr2i):\n",
    "#                 if arr2[i][j] != \"0\":\n",
    "#                     arr2[i] = arr2[i][j:]\n",
    "#                     break\n",
    "#             arr2[i] = \"0\" if j == lengthArr2i -1  and len(arr2[i]) > 1 else arr2[i]\n",
    "        if int(arr1[i]) >int(arr2[i]):\n",
    "            return 1\n",
    "#         print(arr1[i],arr2[i])\n",
    "        if int(arr1[i]) < int(arr2[i]):\n",
    "            return -1\n",
    "    i += 1\n",
    "    \n",
    "\n",
    "    if i < n:\n",
    "\n",
    "        for j in range(i,n):\n",
    "            if int(arr2[j]) != 0:\n",
    "                return -1\n",
    "    return 0\n",
    "\n",
    "\n",
    "version1 = \"1\"\n",
    "version2 = \"1.1\"\n",
    "compareVersion(version1,version2)"
   ]
  },
  {
   "cell_type": "code",
   "execution_count": 92,
   "metadata": {},
   "outputs": [
    {
     "data": {
      "text/plain": [
       "[[1, 1, 2], [1, 2, 1], [2, 1, 1]]"
      ]
     },
     "execution_count": 92,
     "metadata": {},
     "output_type": "execute_result"
    }
   ],
   "source": [
    "# 再做一题\n",
    "# 47. 全排列 II\n",
    "# https://leetcode-cn.com/problems/permutations-ii/\n",
    "\n",
    "from typing import List\n",
    "def permuteUnique(nums: List[int]) -> List[List[int]]:\n",
    "    # 要求去重的全排列,其实难点就是去重而已。。\n",
    "    # 08-44\n",
    "    def dfs():\n",
    "        if len(stack) == n:\n",
    "            ans.append(stack[:])\n",
    "#             return\n",
    "        \n",
    "        for j in range(n):\n",
    "            if(flag[j] or (j > 0 and nums[j] == nums[j-1] and not flag[j-1])):\n",
    "                continue\n",
    "            stack.append(nums[j])\n",
    "            flag[j] = True\n",
    "            dfs()\n",
    "            flag[j] = False\n",
    "            stack.pop()\n",
    "            \n",
    "    n = len(nums)\n",
    "    # 进行排序\n",
    "    nums.sort()\n",
    "    flag = [False] * n\n",
    "    stack = []\n",
    "    ans = []\n",
    "    dfs()\n",
    "    return ans\n",
    "    pass\n",
    "nums = [1,1,2]\n",
    "permuteUnique(nums)"
   ]
  }
 ],
 "metadata": {
  "kernelspec": {
   "display_name": "Python 3",
   "language": "python",
   "name": "python3"
  },
  "language_info": {
   "codemirror_mode": {
    "name": "ipython",
    "version": 3
   },
   "file_extension": ".py",
   "mimetype": "text/x-python",
   "name": "python",
   "nbconvert_exporter": "python",
   "pygments_lexer": "ipython3",
   "version": "3.6.9"
  },
  "toc-autonumbering": false,
  "toc-showcode": false,
  "toc-showmarkdowntxt": false,
  "toc-showtags": false
 },
 "nbformat": 4,
 "nbformat_minor": 4
}
