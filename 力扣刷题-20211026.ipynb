{
 "cells": [
  {
   "cell_type": "code",
   "execution_count": 5,
   "metadata": {},
   "outputs": [
    {
     "data": {
      "text/plain": [
       "[3, -1]"
      ]
     },
     "execution_count": 5,
     "metadata": {},
     "output_type": "execute_result"
    }
   ],
   "source": [
    "# 496. 下一个更大元素 I\n",
    "# https://leetcode-cn.com/problems/next-greater-element-i/\n",
    "\n",
    "from typing import List\n",
    "def nextGreaterElement(nums1: List[int], nums2: List[int]) -> List[int]:\n",
    "    # 考察的单调栈？ 果然，跟答案的思路差不多\n",
    "#     print(nums1,nums2)\n",
    "    dic = {}\n",
    "    n = len(nums2)\n",
    "    stack = []\n",
    "    for i in range(n):\n",
    "        while stack and stack[-1] < nums2[i]:\n",
    "            dic[stack[-1]] = nums2[i]\n",
    "            stack.pop()\n",
    "        if nums2[i] in nums1:\n",
    "            stack.append(nums2[i])\n",
    "    while stack:\n",
    "        dic[stack.pop()] = -1\n",
    "    ans = []\n",
    "    for nn in nums1:\n",
    "        ans.append(dic[nn]) \n",
    "    return ans\n",
    "nums1 = [2,4]\n",
    "nums2 = [1,2,3,4]\n",
    "nextGreaterElement(nums1,nums2)"
   ]
  }
 ],
 "metadata": {
  "kernelspec": {
   "display_name": "Python 3",
   "language": "python",
   "name": "python3"
  },
  "language_info": {
   "codemirror_mode": {
    "name": "ipython",
    "version": 3
   },
   "file_extension": ".py",
   "mimetype": "text/x-python",
   "name": "python",
   "nbconvert_exporter": "python",
   "pygments_lexer": "ipython3",
   "version": "3.6.9"
  },
  "toc-autonumbering": false,
  "toc-showcode": false,
  "toc-showmarkdowntxt": false,
  "toc-showtags": false
 },
 "nbformat": 4,
 "nbformat_minor": 4
}
