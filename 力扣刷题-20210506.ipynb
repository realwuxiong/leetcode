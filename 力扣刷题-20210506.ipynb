{
 "cells": [
  {
   "cell_type": "code",
   "execution_count": 2,
   "metadata": {},
   "outputs": [
    {
     "name": "stdout",
     "output_type": "stream",
     "text": [
      "[4, 2, 0, 7, 4]\n"
     ]
    }
   ],
   "source": [
    "# 1720. 解码异或后的数组\n",
    "# https://leetcode-cn.com/problems/decode-xored-array/\n",
    "# 五一出去玩了四天，这几天慢慢的吧前几天的题目补起来\n",
    "# 2021年5月6日\n",
    "# 这个题目考察的就是异或的运算法则\n",
    "from typing import List\n",
    "def decode(encoded: List[int], first: int) -> List[int]:\n",
    "    res = []\n",
    "    res.append(first)\n",
    "    for num in encoded:\n",
    "        res.append(num^res[-1])\n",
    "    print(res)\n",
    "    pass\n",
    "encoded = [6,2,7,3]\n",
    "first = 4\n",
    "decode(encoded,first)"
   ]
  },
  {
   "cell_type": "code",
   "execution_count": 5,
   "metadata": {},
   "outputs": [
    {
     "data": {
      "text/plain": [
       "[I@99de03c"
      ]
     },
     "execution_count": 5,
     "metadata": {},
     "output_type": "execute_result"
    }
   ],
   "source": [
    "// java 版本\n",
    "public int[] decode(int[] encoded, int first) {\n",
    "        int n = encoded.length + 1;\n",
    "        int[] arr = new int[n];\n",
    "        arr[0] = first;\n",
    "        for (int i = 1; i < n; i++) {\n",
    "            arr[i] = arr[i - 1] ^ encoded[i - 1];\n",
    "        }\n",
    "        System.out.println(new Arrays(arr).toString());\n",
    "        return arr;\n",
    "    }\n",
    "\n",
    "int []encoded = {6,2,7,3};\n",
    "int first = 4;\n",
    "decode(encoded,first);"
   ]
  }
 ],
 "metadata": {
  "kernelspec": {
   "display_name": "Java",
   "language": "java",
   "name": "java"
  },
  "language_info": {
   "codemirror_mode": "java",
   "file_extension": ".jshell",
   "mimetype": "text/x-java-source",
   "name": "Java",
   "pygments_lexer": "java",
   "version": "11.0.10+9-Ubuntu-0ubuntu1.18.04"
  }
 },
 "nbformat": 4,
 "nbformat_minor": 4
}
