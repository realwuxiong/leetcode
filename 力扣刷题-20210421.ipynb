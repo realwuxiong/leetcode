{
 "cells": [
  {
   "cell_type": "code",
   "execution_count": 45,
   "metadata": {},
   "outputs": [
    {
     "name": "stdout",
     "output_type": "stream",
     "text": [
      "2\n",
      "2\n",
      "6\n",
      "26\n",
      "22\n",
      "6\n",
      "3\n"
     ]
    }
   ],
   "source": [
    "# 91. 解码方法\n",
    "# https://leetcode-cn.com/problems/decode-ways/\n",
    "\n",
    "# 这个题目我的感觉是用DFS做。。。\n",
    "# 做出来了，但是超时了，方法二，动态规划\n",
    "def numDecodings(s: str) -> int:\n",
    "    n = len(s)\n",
    "    ans = []\n",
    "    def dfs(start,end):\n",
    "        # 结束条件\n",
    "        stem = s[start:end]\n",
    "#         print(stem)\n",
    "        if not stem.isdigit():\n",
    "#             print('is not digit')\n",
    "            return\n",
    "        if stem.startswith(\"0\") or int(stem) > 26:\n",
    "#             print('startwiith 0')\n",
    "            return\n",
    "        if end == n:\n",
    "            ans.append(1)\n",
    "            return\n",
    "        for j in range(end+1,n+1):\n",
    "#             print(end,j)\n",
    "            dfs(end,j)\n",
    "    dfs(0,1)  # 以一个数字为第一位数\n",
    "    dfs(0,2)  # 以两个数字为第一位数\n",
    "    print(sum(ans))\n",
    "    pass\n",
    "s = \"226\"\n",
    "numDecodings(s)"
   ]
  },
  {
   "cell_type": "code",
   "execution_count": 74,
   "metadata": {},
   "outputs": [
    {
     "name": "stdout",
     "output_type": "stream",
     "text": [
      "[1, 0, 0, 0, 0, 0, 0, 0, 0, 0, 0, 0, 0, 0, 0, 0, 0, 0, 0, 0]\n"
     ]
    },
    {
     "data": {
      "text/plain": [
       "178"
      ]
     },
     "execution_count": 74,
     "metadata": {},
     "output_type": "execute_result"
    }
   ],
   "source": [
    "#  方法二 动态规划\n",
    "#  每次可以取1位或者2位，感觉和剪绳子差不多\n",
    "def numDecodings(s: str) -> int:\n",
    "    n = len(s)\n",
    "    f =[1]+ [0]*n\n",
    "    print(f)\n",
    "    for i in range(1,n+1):\n",
    "        if s[i - 1] != '0':\n",
    "            f[i] += f[i - 1]\n",
    "        if i > 1 and s[i - 2] != '0' and int(s[i-2:i]) <= 26:\n",
    "            f[i] += f[i - 2]\n",
    "\n",
    "    return f[n]\n",
    "    pass\n",
    "s = \"1287665432221111111\"\n",
    "numDecodings(s)"
   ]
  },
  {
   "cell_type": "code",
   "execution_count": null,
   "metadata": {},
   "outputs": [],
   "source": [
    "// 用java再写一遍\n",
    "public int numDecodings(String s) {\n",
    "    int n = s.length();\n",
    "    int [] f = new int[n+1];\n",
    "    f[0] = 1; // 其余默认为0\n",
    "    for(int i = 1; i < n+1; ++i){\n",
    "        if(s.charAt(i-1) != '0'){\n",
    "            f[i] += f[i-1];\n",
    "        }\n",
    "        if(i > 1 && s.charAt(i-2) != '0' && Integer.valueOf(s.substring(i-2,i))<=26){\n",
    "            f[i] += f[i-2];\n",
    "        }\n",
    "    }\n",
    "    System.out.print(f[n]);\n",
    "    return f[n];\n",
    "\n",
    "} \n",
    "String s =\"1287665432221111111\";\n",
    "numDecodings(s);"
   ]
  }
 ],
 "metadata": {
  "kernelspec": {
   "display_name": "Java",
   "language": "java",
   "name": "java"
  },
  "language_info": {
   "codemirror_mode": "java",
   "file_extension": ".jshell",
   "mimetype": "text/x-java-source",
   "name": "Java",
   "pygments_lexer": "java",
   "version": "11.0.10+9-Ubuntu-0ubuntu1.18.04"
  }
 },
 "nbformat": 4,
 "nbformat_minor": 4
}
