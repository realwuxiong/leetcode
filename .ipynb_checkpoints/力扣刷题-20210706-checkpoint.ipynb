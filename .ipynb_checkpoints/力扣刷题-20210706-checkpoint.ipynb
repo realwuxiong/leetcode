{
 "cells": [
  {
   "cell_type": "code",
   "execution_count": 9,
   "metadata": {},
   "outputs": [
    {
     "name": "stdout",
     "output_type": "stream",
     "text": [
      "[['Table', 'Beef Burrito', 'Ceviche', 'Fried Chicken', 'Water'], ['3', '0', '2', '1', '0'], ['5', '0', '1', '0', '1'], ['10', '1', '0', '0', '0']]\n"
     ]
    }
   ],
   "source": [
    "# 1418. 点菜展示表\n",
    "# https://leetcode-cn.com/problems/display-table-of-food-orders-in-a-restaurant/\n",
    "# easy，就是逻辑麻烦一点点。\n",
    "from typing import List\n",
    "def displayTable(orders: List[List[str]]) -> List[List[str]]:\n",
    "    allTables = set()\n",
    "    allFoods = set()\n",
    "    myMap = {}\n",
    "    for order in orders:\n",
    "        allTables.add(int(order[1]))\n",
    "        allFoods.add(order[2])\n",
    "        if int(order[1]) not in myMap.keys():\n",
    "            myMap[int(order[1])] = order[2]\n",
    "        else:\n",
    "            myMap[int(order[1])] = myMap[int(order[1])]+\",\"+order[2]\n",
    "    allTables = sorted(list(allTables))\n",
    "    allFoods = sorted(list(allFoods))\n",
    "    ans = [[\"Table\"]]\n",
    "    \n",
    "    food2num = {}\n",
    "    num = 0\n",
    "    for food in allFoods:\n",
    "        ans[0].append(food)\n",
    "        food2num[food]=num\n",
    "        num +=1\n",
    "        \n",
    "        \n",
    "        \n",
    "    for table in allTables:\n",
    "        t = [0]*len(allFoods)\n",
    "       \n",
    "        tableFoods = myMap[table].split(\",\")\n",
    "        \n",
    "        for food in tableFoods:\n",
    "            t[food2num[food]] += 1\n",
    "        t.insert(0,table)\n",
    "        t = [str(tt) for tt in t]\n",
    "        ans.append(t)\n",
    "    print(ans)\n",
    "    pass\n",
    "orders =  [[\"David\",\"3\",\"Ceviche\"],[\"Corina\",\"10\",\"Beef Burrito\"],[\"David\",\"3\",\"Fried Chicken\"],[\"Carla\",\"5\",\"Water\"],[\"Carla\",\"5\",\"Ceviche\"],[\"Rous\",\"3\",\"Ceviche\"]]\n",
    "\n",
    "displayTable(orders)"
   ]
  }
 ],
 "metadata": {
  "kernelspec": {
   "display_name": "Python 3",
   "language": "python",
   "name": "python3"
  },
  "language_info": {
   "codemirror_mode": {
    "name": "ipython",
    "version": 3
   },
   "file_extension": ".py",
   "mimetype": "text/x-python",
   "name": "python",
   "nbconvert_exporter": "python",
   "pygments_lexer": "ipython3",
   "version": "3.6.9"
  }
 },
 "nbformat": 4,
 "nbformat_minor": 4
}
