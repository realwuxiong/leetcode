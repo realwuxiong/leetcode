{
 "cells": [
  {
   "cell_type": "code",
   "execution_count": null,
   "metadata": {},
   "outputs": [],
   "source": [
    "# 剑指 Offer 37. 序列化二叉树\n",
    "# https://leetcode-cn.com/problems/xu-lie-hua-er-cha-shu-lcof/\n",
    "\n",
    "# 又写不出来。。。。\n",
    "# 这兄弟写的真不错啊\n",
    "\n",
    "class Codec:\n",
    "\n",
    "    def serialize(self, root):\n",
    "        if not root: return '#,'\n",
    "        res = (str(root.val) + ',')\n",
    "        res += self.serialize(root.left)\n",
    "        res += self.serialize(root.right)\n",
    "        return res\n",
    "\n",
    "    def deserialize(self, data):\n",
    "        data = iter(data.split(','))\n",
    "        def helper():\n",
    "            val = next(data)\n",
    "            if val=='#': return\n",
    "            root = TreeNode(int(val))\n",
    "            root.left = helper()\n",
    "            root.right = helper()\n",
    "            return root\n",
    "        return helper()"
   ]
  }
 ],
 "metadata": {
  "kernelspec": {
   "display_name": "Python 3",
   "language": "python",
   "name": "python3"
  },
  "language_info": {
   "codemirror_mode": {
    "name": "ipython",
    "version": 3
   },
   "file_extension": ".py",
   "mimetype": "text/x-python",
   "name": "python",
   "nbconvert_exporter": "python",
   "pygments_lexer": "ipython3",
   "version": "3.6.9"
  }
 },
 "nbformat": 4,
 "nbformat_minor": 4
}
