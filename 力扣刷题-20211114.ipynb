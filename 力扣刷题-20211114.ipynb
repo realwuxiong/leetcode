{
 "cells": [
  {
   "cell_type": "code",
   "execution_count": null,
   "metadata": {},
   "outputs": [],
   "source": [
    "# 677. 键值映射\n",
    "# https://leetcode-cn.com/problems/map-sum-pairs/\n",
    "class MapSum:\n",
    "\n",
    "    def __init__(self):\n",
    "        # 字典树？\n",
    "        self.dic = {}\n",
    "        \n",
    "    def insert(self, key: str, val: int) -> None:\n",
    "        self.dic[key] = val\n",
    "\n",
    "    def sum(self, prefix: str) -> int:\n",
    "        ans = 0\n",
    "        for key in self.dic.keys():\n",
    "            if key.startswith(prefix):\n",
    "                ans += self.dic[key]\n",
    "        return ans\n",
    "\n",
    "\n",
    "# Your MapSum object will be instantiated and called as such:\n",
    "# obj = MapSum()\n",
    "# obj.insert(key,val)\n",
    "# param_2 = obj.sum(prefix)"
   ]
  }
 ],
 "metadata": {
  "kernelspec": {
   "display_name": "Python 3",
   "language": "python",
   "name": "python3"
  },
  "language_info": {
   "codemirror_mode": {
    "name": "ipython",
    "version": 3
   },
   "file_extension": ".py",
   "mimetype": "text/x-python",
   "name": "python",
   "nbconvert_exporter": "python",
   "pygments_lexer": "ipython3",
   "version": "3.6.9"
  },
  "toc-autonumbering": false,
  "toc-showcode": false,
  "toc-showmarkdowntxt": false,
  "toc-showtags": false
 },
 "nbformat": 4,
 "nbformat_minor": 4
}
