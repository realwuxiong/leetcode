{
 "cells": [
  {
   "cell_type": "code",
   "execution_count": 2,
   "metadata": {},
   "outputs": [
    {
     "name": "stdout",
     "output_type": "stream",
     "text": [
      "G GGGGG\n"
     ]
    }
   ],
   "source": [
    "# 488. 祖玛游戏\n",
    "# https://leetcode-cn.com/problems/zuma-game/\n",
    "# 困难题，直接CV\n",
    "def findMinStep(board: str, hand: str) -> int:\n",
    "    print(board,hand)\n",
    "    \n",
    "    pass\n",
    "board = \"G\"\n",
    "hand = \"GGGGG\"\n",
    "findMinStep(board,hand)"
   ]
  },
  {
   "cell_type": "code",
   "execution_count": null,
   "metadata": {},
   "outputs": [],
   "source": [
    "class Solution:\n",
    "    def findMinStep(self, board: str, hand: str) -> int:\n",
    "        def clean(s):\n",
    "            # 消除桌面上需要消除的球\n",
    "            n = 1\n",
    "            while n:\n",
    "                s, n = re.subn(r\"(.)\\1{2,}\", \"\", s)\n",
    "            return s\n",
    "\n",
    "        hand = \"\".join(sorted(hand))\n",
    "\n",
    "        # 初始化用队列维护的状态队列：其中的三个元素分别为桌面球状态、手中球状态和回合数\n",
    "        queue = deque([(board, hand, 0)])\n",
    "\n",
    "        # 初始化用哈希集合维护的已访问过的状态\n",
    "        visited = {(board, hand)}\n",
    "\n",
    "        while queue:\n",
    "            cur_board, cur_hand, step = queue.popleft()\n",
    "            for i, j in product(range(len(cur_board) + 1), range(len(cur_hand))):\n",
    "                # 第 1 个剪枝条件: 当前球的颜色和上一个球的颜色相同\n",
    "                if j > 0 and cur_hand[j] == cur_hand[j - 1]:\n",
    "                    continue\n",
    "\n",
    "                # 第 2 个剪枝条件: 只在连续相同颜色的球的开头位置插入新球\n",
    "                if i > 0 and cur_board[i - 1] == cur_hand[j]:\n",
    "                    continue\n",
    "\n",
    "                # 第 3 个剪枝条件: 只在以下两种情况放置新球\n",
    "                #  - 第 1 种情况 : 当前球颜色与后面的球的颜色相同\n",
    "                #  - 第 2 种情况 : 当前后颜色相同且与当前颜色不同时候放置球      \n",
    "                choose = False\n",
    "                if 0 < i < len(cur_board) and cur_board[i - 1] == cur_board[i] and cur_board[i - 1] != cur_hand[j]:\n",
    "                    choose = True\n",
    "                if i < len(cur_board) and cur_board[i] == cur_hand[j]:\n",
    "                    choose = True\n",
    "\n",
    "                if choose:\n",
    "                    new_board = clean(cur_board[:i] + cur_hand[j] + cur_board[i:])\n",
    "                    new_hand = cur_hand[:j] + cur_hand[j + 1:]\n",
    "                    if not new_board:\n",
    "                        return step + 1\n",
    "                    if (new_board, new_hand) not in visited:\n",
    "                        queue.append((new_board, new_hand, step + 1))\n",
    "                        visited.add((new_board, new_hand))\n",
    "\n",
    "        return -1"
   ]
  }
 ],
 "metadata": {
  "kernelspec": {
   "display_name": "Python 3",
   "language": "python",
   "name": "python3"
  },
  "language_info": {
   "codemirror_mode": {
    "name": "ipython",
    "version": 3
   },
   "file_extension": ".py",
   "mimetype": "text/x-python",
   "name": "python",
   "nbconvert_exporter": "python",
   "pygments_lexer": "ipython3",
   "version": "3.6.9"
  },
  "toc-autonumbering": false,
  "toc-showcode": false,
  "toc-showmarkdowntxt": false,
  "toc-showtags": false
 },
 "nbformat": 4,
 "nbformat_minor": 4
}
