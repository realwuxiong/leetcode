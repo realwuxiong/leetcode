{
 "cells": [
  {
   "cell_type": "code",
   "execution_count": 1,
   "metadata": {},
   "outputs": [
    {
     "data": {
      "text/plain": [
       "False"
      ]
     },
     "execution_count": 1,
     "metadata": {},
     "output_type": "execute_result"
    }
   ],
   "source": [
    "# 306. 累加数\n",
    "# https://leetcode-cn.com/problems/additive-number/\n",
    "\n",
    "def isAdditiveNumber(num: str) -> bool:\n",
    "    # 指针，得考虑多位数。\n",
    "    \n",
    "    for i in range(3,len(num)):\n",
    "        if int(num[i]) != int(num[i-1]) + int(num[i-2]):\n",
    "            return False\n",
    "    return True\n",
    "    \n",
    "num = \"199100199\"\n",
    "isAdditiveNumber(num)"
   ]
  }
 ],
 "metadata": {
  "kernelspec": {
   "display_name": "Python 3",
   "language": "python",
   "name": "python3"
  },
  "language_info": {
   "codemirror_mode": {
    "name": "ipython",
    "version": 3
   },
   "file_extension": ".py",
   "mimetype": "text/x-python",
   "name": "python",
   "nbconvert_exporter": "python",
   "pygments_lexer": "ipython3",
   "version": "3.6.9"
  },
  "toc-autonumbering": false,
  "toc-showcode": false,
  "toc-showmarkdowntxt": false,
  "toc-showtags": false
 },
 "nbformat": 4,
 "nbformat_minor": 4
}
