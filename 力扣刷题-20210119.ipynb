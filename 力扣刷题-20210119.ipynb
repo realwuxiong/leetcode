{
 "cells": [
  {
   "cell_type": "code",
   "execution_count": 17,
   "metadata": {},
   "outputs": [
    {
     "name": "stdout",
     "output_type": "stream",
     "text": [
      "[1, 1, 2]\n"
     ]
    },
    {
     "data": {
      "text/plain": [
       "2"
      ]
     },
     "execution_count": 17,
     "metadata": {},
     "output_type": "execute_result"
    }
   ],
   "source": [
    "# fuck 并查集\n",
    "\n",
    "# 2021年1月19日 好好捋一捋并查集\n",
    "\n",
    "# 第一题  省份数量\n",
    "\n",
    "def findCircleNum(isConnected) -> int:\n",
    "    # fuck 并查集\n",
    "    def find(i):\n",
    "        if(parents[i]!=i):\n",
    "            parents[i]=find(parents[i])\n",
    "        return parents[i]\n",
    "    def union(i,j):\n",
    "        parents[find(i)]=find(j)\n",
    "        pass\n",
    "    parents = [i for i in range(len(isConnected))]\n",
    "    \n",
    "    for i in range(len(isConnected)):\n",
    "        for j in range(i+1,len(isConnected[0])):\n",
    "            if isConnected[i][j]==1:\n",
    "                union(i,j)\n",
    "    sumProvince  = 0 \n",
    "    print(parents)\n",
    "    for i,data in enumerate(parents):\n",
    "        if i == data:\n",
    "            sumProvince += 1\n",
    "    return sumProvince\n",
    "    \n",
    "isConnected = [[1,1,0],[1,1,0],[0,0,1]]\n",
    "findCircleNum(isConnected)\n"
   ]
  },
  {
   "cell_type": "code",
   "execution_count": 19,
   "metadata": {},
   "outputs": [
    {
     "name": "stdout",
     "output_type": "stream",
     "text": [
      "[0, 0]\n",
      "[0, 1]\n",
      "[1, 0]\n",
      "[1, 2]\n",
      "[2, 1]\n",
      "[2, 2]\n"
     ]
    }
   ],
   "source": [
    "# 第二题\n",
    "# 721. 账户合并\n",
    "# https://leetcode-cn.com/problems/accounts-merge/\n",
    "# fuck 并查集\n",
    "# 官方答案  能够理解\n",
    "class UnionFind:\n",
    "    def __init__(self, n):\n",
    "        self.parent = list(range(n))\n",
    "\n",
    "    def union(self, index1: int, index2: int):\n",
    "        self.parent[self.find(index2)] = self.find(index1)\n",
    "\n",
    "    def find(self, index: int) -> int:\n",
    "        if self.parent[index] != index:\n",
    "            self.parent[index] = self.find(self.parent[index])\n",
    "        return self.parent[index]\n",
    "\n",
    "class Solution:\n",
    "    def accountsMerge(self, accounts: List[List[str]]) -> List[List[str]]:\n",
    "        emailToIndex = dict()\n",
    "        emailToName = dict()\n",
    "\n",
    "        for account in accounts:\n",
    "            name = account[0]\n",
    "            for email in account[1:]:\n",
    "                if email not in emailToIndex:\n",
    "                    emailToIndex[email] = len(emailToIndex)\n",
    "                    emailToName[email] = name\n",
    "        \n",
    "        uf = UnionFind(len(emailToIndex))\n",
    "        for account in accounts:\n",
    "            firstIndex = emailToIndex[account[1]]\n",
    "            for email in account[2:]:\n",
    "                uf.union(firstIndex, emailToIndex[email])\n",
    "        \n",
    "        indexToEmails = collections.defaultdict(list)\n",
    "        for email, index in emailToIndex.items():\n",
    "            index = uf.find(index)\n",
    "            indexToEmails[index].append(email)\n",
    "        \n",
    "        ans = list()\n",
    "        for emails in indexToEmails.values():\n",
    "            ans.append([emailToName[emails[0]]] + sorted(emails))\n",
    "        return ans\n",
    "\n",
    "accounts = [[\"John\", \"johnsmith@mail.com\", \"john00@mail.com\"], [\"John\", \"johnnybravo@mail.com\"], [\"John\", \"johnsmith@mail.com\", \"john_newyork@mail.com\"], [\"Mary\", \"mary@mail.com\"]]\n",
    "\n",
    "accountsMerge(accounts)"
   ]
  }
 ],
 "metadata": {
  "kernelspec": {
   "display_name": "Python 3",
   "language": "python",
   "name": "python3"
  },
  "language_info": {
   "codemirror_mode": {
    "name": "ipython",
    "version": 3
   },
   "file_extension": ".py",
   "mimetype": "text/x-python",
   "name": "python",
   "nbconvert_exporter": "python",
   "pygments_lexer": "ipython3",
   "version": "3.8.5"
  }
 },
 "nbformat": 4,
 "nbformat_minor": 4
}
