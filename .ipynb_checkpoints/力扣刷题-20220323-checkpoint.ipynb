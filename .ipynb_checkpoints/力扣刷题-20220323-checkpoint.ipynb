{
 "cells": [
  {
   "cell_type": "code",
   "execution_count": 12,
   "metadata": {},
   "outputs": [
    {
     "name": "stdout",
     "output_type": "stream",
     "text": [
      "['1', '10', '11', '12', '13', '2', '3', '4', '5', '6', '7', '8', '9']\n"
     ]
    },
    {
     "data": {
      "text/plain": [
       "10"
      ]
     },
     "execution_count": 12,
     "metadata": {},
     "output_type": "execute_result"
    }
   ],
   "source": [
    "# 440. 字典序的第K小数字\n",
    "# https://leetcode-cn.com/problems/k-th-smallest-in-lexicographical-order/\n",
    "\n",
    "def findKthNumber(n: int, k: int) -> int:\n",
    "    # 智障作法，肯定超时了，苦难题，直接睡了，明天早上十点又要开组会\n",
    "    # 烦死，希望这学期能够顺利毕业，祈福！\n",
    "    ans = [str(i) for i in range(1,n+1)]\n",
    "    ans.sort(key=lambda x:str(x))\n",
    "#     print(ans)\n",
    "    return int(ans[k-1])\n",
    "\n",
    "findKthNumber(13,2)"
   ]
  }
 ],
 "metadata": {
  "kernelspec": {
   "display_name": "Python 3",
   "language": "python",
   "name": "python3"
  },
  "language_info": {
   "codemirror_mode": {
    "name": "ipython",
    "version": 3
   },
   "file_extension": ".py",
   "mimetype": "text/x-python",
   "name": "python",
   "nbconvert_exporter": "python",
   "pygments_lexer": "ipython3",
   "version": "3.6.9"
  },
  "toc-autonumbering": false,
  "toc-showcode": false,
  "toc-showmarkdowntxt": false,
  "toc-showtags": false
 },
 "nbformat": 4,
 "nbformat_minor": 4
}
