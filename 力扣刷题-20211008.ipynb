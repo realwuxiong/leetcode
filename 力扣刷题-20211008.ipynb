{
 "cells": [
  {
   "cell_type": "code",
   "execution_count": 3,
   "metadata": {},
   "outputs": [
    {
     "data": {
      "text/plain": [
       "['AAAAACCCCC', 'CCCCCAAAAA']"
      ]
     },
     "execution_count": 3,
     "metadata": {},
     "output_type": "execute_result"
    }
   ],
   "source": [
    "# 187. 重复的DNA序列\n",
    "# https://leetcode-cn.com/problems/repeated-dna-sequences/\n",
    "\n",
    "from typing import List\n",
    "def findRepeatedDnaSequences(s: str) -> List[str]:\n",
    "    dic = {}\n",
    "    ans = []\n",
    "    n = len(s)\n",
    "    for start in range(n):\n",
    "        end = start + 10\n",
    "        t = s[start:end]\n",
    "        dic.setdefault(t,0)\n",
    "        dic[t] += 1\n",
    "    for key in dic.keys():\n",
    "        if dic[key] > 1:\n",
    "            ans.append(key)\n",
    "    return ans\n",
    "            \n",
    "        \n",
    "    \n",
    "    pass\n",
    "s = \"AAAAACCCCCAAAAACCCCCCAAAAAGGGTTT\"\n",
    "findRepeatedDnaSequences(s)"
   ]
  }
 ],
 "metadata": {
  "kernelspec": {
   "display_name": "Python 3",
   "language": "python",
   "name": "python3"
  },
  "language_info": {
   "codemirror_mode": {
    "name": "ipython",
    "version": 3
   },
   "file_extension": ".py",
   "mimetype": "text/x-python",
   "name": "python",
   "nbconvert_exporter": "python",
   "pygments_lexer": "ipython3",
   "version": "3.6.9"
  },
  "toc-autonumbering": false,
  "toc-showcode": false,
  "toc-showmarkdowntxt": false,
  "toc-showtags": false
 },
 "nbformat": 4,
 "nbformat_minor": 4
}
