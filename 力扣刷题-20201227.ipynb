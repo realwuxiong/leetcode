{
 "cells": [
  {
   "cell_type": "code",
   "execution_count": 14,
   "metadata": {},
   "outputs": [
    {
     "name": "stdout",
     "output_type": "stream",
     "text": [
      "True\n"
     ]
    }
   ],
   "source": [
    "# 205.同构字符串\n",
    "# https://leetcode-cn.com/problems/isomorphic-strings/\n",
    "\n",
    "def isIsomorphic(s: str, t: str) -> bool:\n",
    "    if(len(set(s)) != len(set(t)) or len(s) != len(t)):\n",
    "        return False\n",
    "    \n",
    "    charactersDic={}\n",
    "    for index, data in enumerate(s):\n",
    "        if(data not in charactersDic.keys()):\n",
    "            charactersDic[data] = t[index]\n",
    "            continue\n",
    "        if(charactersDic[data] != t[index]):\n",
    "            return False\n",
    "    return True\n",
    "    pass\n",
    "\n",
    "s = \"foo\"\n",
    "t = \"baa\"\n",
    "print(isIsomorphic(s,t))"
   ]
  },
  {
   "cell_type": "code",
   "execution_count": 16,
   "metadata": {},
   "outputs": [
    {
     "name": "stdout",
     "output_type": "stream",
     "text": [
      "False\n"
     ]
    }
   ],
   "source": [
    "# 方法二 参考题目下面的评论，用数组\n",
    "\n",
    "def isIsomorphic(s: str, t: str) -> bool:\n",
    "    if(len(set(s)) != len(set(t)) or len(s) != len(t)):\n",
    "        return False\n",
    "    \n",
    "    list_s,list_t=[0]*128,[0]*128\n",
    "    \n",
    "    for i, data in enumerate(s):\n",
    "        if(list_s[ord(s[i])] != list_t[ord(t[i])]):\n",
    "            return False\n",
    "        list_s[ord(s[i])]=i\n",
    "        list_t[ord(t[i])]=i\n",
    "    \n",
    "    return True\n",
    "    pass\n",
    "\n",
    "s = \"foo\"\n",
    "t = \"bar\"\n",
    "print(isIsomorphic(s,t))"
   ]
  }
 ],
 "metadata": {
  "kernelspec": {
   "display_name": "Python 3",
   "language": "python",
   "name": "python3"
  },
  "language_info": {
   "codemirror_mode": {
    "name": "ipython",
    "version": 3
   },
   "file_extension": ".py",
   "mimetype": "text/x-python",
   "name": "python",
   "nbconvert_exporter": "python",
   "pygments_lexer": "ipython3",
   "version": "3.8.5"
  }
 },
 "nbformat": 4,
 "nbformat_minor": 4
}
