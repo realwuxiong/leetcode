{
 "cells": [
  {
   "cell_type": "code",
   "execution_count": 44,
   "metadata": {},
   "outputs": [
    {
     "data": {
      "text/plain": [
       "'AA'"
      ]
     },
     "execution_count": 44,
     "metadata": {},
     "output_type": "execute_result"
    }
   ],
   "source": [
    "# 168. Excel表列名称\n",
    "# https://leetcode-cn.com/problems/excel-sheet-column-title/\n",
    "\n",
    "# 就是26进制\n",
    "# 把思路好好理解一下。。。。。。。。\n",
    "def convertToTitle(columnNumber: int) -> str:\n",
    "    stack =[]\n",
    "    while columnNumber:\n",
    "        # 怎么这么简单的代码，写这么久\n",
    "        a = (columnNumber-1) % 26\n",
    "        stack.insert(0,chr(ord(\"A\")+a))\n",
    "        columnNumber = (columnNumber-1)//26\n",
    "\n",
    "    return \"\".join(stack)\n",
    "    pass\n",
    "columnNumber = 27\n",
    "convertToTitle(columnNumber)"
   ]
  }
 ],
 "metadata": {
  "kernelspec": {
   "display_name": "Python 3",
   "language": "python",
   "name": "python3"
  },
  "language_info": {
   "codemirror_mode": {
    "name": "ipython",
    "version": 3
   },
   "file_extension": ".py",
   "mimetype": "text/x-python",
   "name": "python",
   "nbconvert_exporter": "python",
   "pygments_lexer": "ipython3",
   "version": "3.6.9"
  }
 },
 "nbformat": 4,
 "nbformat_minor": 4
}
