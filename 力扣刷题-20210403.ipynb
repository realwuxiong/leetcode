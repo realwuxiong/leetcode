{
 "cells": [
  {
   "cell_type": "code",
   "execution_count": 19,
   "metadata": {},
   "outputs": [
    {
     "name": "stdout",
     "output_type": "stream",
     "text": [
      "0\n"
     ]
    }
   ],
   "source": [
    "# 1143. 最长公共子序列\n",
    "# https://leetcode-cn.com/problems/longest-common-subsequence/\n",
    "# 动态规划\n",
    "# 第一次在短时间内，把这个动态规划的题目写出来了。。。开心。。。。。\n",
    "def longestCommonSubsequence(text1: str, text2: str) -> int:\n",
    "    n = len(text1)\n",
    "    m = len(text2)\n",
    "    matrix = [[0]*(m+1) for _ in range(n+1)]\n",
    "    # matrix[i][j]代表text1[0-i],text2[0-j]的最长公共子序列\n",
    "    # 如果text1[i] = text2[j] matrix[i][j] = matrix[i-1][j-1]+1\n",
    "    # 如果不等于 matrix[i][j] = max(matrix[i-1][j],matrix[i][j-1])\n",
    "    # 动态规划，动态转移方程\n",
    "    for i in range(1,n+1):\n",
    "        for j in range(1,m+1):\n",
    "#             print(i,j)\n",
    "            if text1[i-1] == text2[j-1]:\n",
    "                matrix[i][j] = matrix[i-1][j-1] +1\n",
    "            else:\n",
    "                matrix[i][j] = max(matrix[i-1][j],matrix[i][j-1])\n",
    "    print(matrix[n][m])\n",
    "text1 = \"abc\"\n",
    "text2 = \"def\" \n",
    "longestCommonSubsequence(text1,text2)"
   ]
  }
 ],
 "metadata": {
  "kernelspec": {
   "display_name": "Python 3",
   "language": "python",
   "name": "python3"
  },
  "language_info": {
   "codemirror_mode": {
    "name": "ipython",
    "version": 3
   },
   "file_extension": ".py",
   "mimetype": "text/x-python",
   "name": "python",
   "nbconvert_exporter": "python",
   "pygments_lexer": "ipython3",
   "version": "3.8.5"
  }
 },
 "nbformat": 4,
 "nbformat_minor": 4
}
