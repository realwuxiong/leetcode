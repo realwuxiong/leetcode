{
 "cells": [
  {
   "cell_type": "code",
   "execution_count": 2,
   "metadata": {},
   "outputs": [
    {
     "data": {
      "text/plain": [
       "23"
      ]
     },
     "execution_count": 2,
     "metadata": {},
     "output_type": "execute_result"
    }
   ],
   "source": [
    "# 224. 基本计算器\n",
    "# https://leetcode-cn.com/problems/basic-calculator/\n",
    "# 老老实实刷题，，，不要投机取巧\n",
    "# 手写单例模式\n",
    "# 这个题目写的太漂亮了，这个题知真的真的写的太漂亮了，，，，，官方答案。。。\n",
    "\n",
    "def calculate(s: str) -> int:\n",
    "    i = 0\n",
    "    signal = 1\n",
    "    opt = [1]\n",
    "    res = 0\n",
    "    while(i<len(s)):\n",
    "        if s[i] == ' ':\n",
    "            i += 1\n",
    "        elif s[i] == '+':\n",
    "            signal = opt[-1] \n",
    "            i += 1\n",
    "        elif s[i] == '-':\n",
    "            signal = -opt[-1]\n",
    "            i += 1\n",
    "        elif s[i] == '(':\n",
    "            opt.append(signal)\n",
    "            i += 1\n",
    "        elif s[i] == ')':\n",
    "            opt.pop()\n",
    "            i += 1\n",
    "        else:\n",
    "            n = 0\n",
    "            while i < len(s) and s[i].isdigit():\n",
    "                n = n*10 + int(s[i])\n",
    "                i += 1\n",
    "            res += signal*n\n",
    "    return res      \n",
    "s = '(1+(4+5+2)-3)+(6+8)'\n",
    "calculate(s)\n",
    "\n",
    "\n",
    "\n",
    "# class Singleton{\n",
    "#     private Singleton singleton = new Singleton();\n",
    "#     private Singleton(){}\n",
    "#     public static getInstance(){\n",
    "#         return \n",
    "#     }\n",
    "# }"
   ]
  },
  {
   "cell_type": "code",
   "execution_count": 7,
   "metadata": {},
   "outputs": [
    {
     "name": "stdout",
     "output_type": "stream",
     "text": [
      "{1, 2, 3, 4}\n"
     ]
    }
   ],
   "source": [
    "a = [1,2,3]\n",
    "b = [2,3,4]\n",
    "print(set(a+b))"
   ]
  }
 ],
 "metadata": {
  "kernelspec": {
   "display_name": "Python 3",
   "language": "python",
   "name": "python3"
  },
  "language_info": {
   "codemirror_mode": {
    "name": "ipython",
    "version": 3
   },
   "file_extension": ".py",
   "mimetype": "text/x-python",
   "name": "python",
   "nbconvert_exporter": "python",
   "pygments_lexer": "ipython3",
   "version": "3.8.5"
  }
 },
 "nbformat": 4,
 "nbformat_minor": 4
}
