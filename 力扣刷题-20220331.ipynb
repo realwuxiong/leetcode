{
 "cells": [
  {
   "cell_type": "code",
   "execution_count": 6,
   "metadata": {},
   "outputs": [
    {
     "data": {
      "text/plain": [
       "[48, 55, 66, 77]"
      ]
     },
     "execution_count": 6,
     "metadata": {},
     "output_type": "execute_result"
    }
   ],
   "source": [
    "# 728. 自除数\n",
    "# https://leetcode-cn.com/problems/self-dividing-numbers/\n",
    "\n",
    "from typing import List\n",
    "def selfDividingNumbers(left: int, right: int) -> List[int]:\n",
    "    ans = []\n",
    "    \n",
    "    for i in range(left, right+1):\n",
    "        t = i\n",
    "        while t > 0:\n",
    "            if t%10 == 0 or i % (t%10) != 0:\n",
    "                break\n",
    "            t //= 10\n",
    "        else:\n",
    "            ans.append(i)\n",
    "    \n",
    "    return ans\n",
    "    pass\n",
    "\n",
    "left = 47\n",
    "right = 85\n",
    "selfDividingNumbers(left, right)"
   ]
  }
 ],
 "metadata": {
  "kernelspec": {
   "display_name": "Python 3",
   "language": "python",
   "name": "python3"
  },
  "language_info": {
   "codemirror_mode": {
    "name": "ipython",
    "version": 3
   },
   "file_extension": ".py",
   "mimetype": "text/x-python",
   "name": "python",
   "nbconvert_exporter": "python",
   "pygments_lexer": "ipython3",
   "version": "3.6.9"
  },
  "toc-autonumbering": false,
  "toc-showcode": false,
  "toc-showmarkdowntxt": false,
  "toc-showtags": false
 },
 "nbformat": 4,
 "nbformat_minor": 4
}
