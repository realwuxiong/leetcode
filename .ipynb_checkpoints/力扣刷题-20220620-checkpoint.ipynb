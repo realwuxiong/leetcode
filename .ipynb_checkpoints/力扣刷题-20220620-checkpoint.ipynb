{
 "cells": [
  {
   "cell_type": "code",
   "execution_count": null,
   "metadata": {},
   "outputs": [],
   "source": [
    "# 1108. IP 地址无效化\n",
    "# https://leetcode.cn/problems/defanging-an-ip-address/\n",
    "\n",
    "# 这题也太简单了吧。。。\n",
    "\n",
    "class Solution:\n",
    "    def defangIPaddr(self, address: str) -> str:\n",
    "        return address.replace(\".\",\"[.]\")"
   ]
  }
 ],
 "metadata": {
  "kernelspec": {
   "display_name": "Python 3",
   "language": "python",
   "name": "python3"
  },
  "language_info": {
   "codemirror_mode": {
    "name": "ipython",
    "version": 3
   },
   "file_extension": ".py",
   "mimetype": "text/x-python",
   "name": "python",
   "nbconvert_exporter": "python",
   "pygments_lexer": "ipython3",
   "version": "3.6.9"
  },
  "toc-autonumbering": false,
  "toc-showcode": false,
  "toc-showmarkdowntxt": false,
  "toc-showtags": false
 },
 "nbformat": 4,
 "nbformat_minor": 4
}
