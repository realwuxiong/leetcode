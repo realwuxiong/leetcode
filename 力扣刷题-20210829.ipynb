{
 "cells": [
  {
   "cell_type": "code",
   "execution_count": 10,
   "metadata": {},
   "outputs": [
    {
     "data": {
      "text/plain": [
       "58"
      ]
     },
     "execution_count": 10,
     "metadata": {},
     "output_type": "execute_result"
    }
   ],
   "source": [
    "# 1588. 所有奇数长度子数组的和\n",
    "# https://leetcode-cn.com/problems/sum-of-all-odd-length-subarrays/\n",
    "from typing import List\n",
    "def sumOddLengthSubarrays(arr: List[int]) -> int:\n",
    "    # 直接DFS就好了\n",
    "    # 连续子序列，这个得考虑一下\n",
    "    # 想的太复杂了，还想着dfs，fuck\n",
    "    \n",
    "    n = len(arr)\n",
    "    ans = 0\n",
    "    for i in range(n):\n",
    "        j = i \n",
    "        while j < n:\n",
    "            ans += sum(arr[i:j+1])  # 这个截断用sum求值的可以用前缀和来计算\n",
    "            j += 2\n",
    "    return ans\n",
    "\n",
    "arr = [1,4,2,5,3]\n",
    "sumOddLengthSubarrays(arr)"
   ]
  }
 ],
 "metadata": {
  "kernelspec": {
   "display_name": "Python 3",
   "language": "python",
   "name": "python3"
  },
  "language_info": {
   "codemirror_mode": {
    "name": "ipython",
    "version": 3
   },
   "file_extension": ".py",
   "mimetype": "text/x-python",
   "name": "python",
   "nbconvert_exporter": "python",
   "pygments_lexer": "ipython3",
   "version": "3.6.9"
  },
  "toc-autonumbering": false,
  "toc-showcode": false,
  "toc-showmarkdowntxt": false,
  "toc-showtags": false
 },
 "nbformat": 4,
 "nbformat_minor": 4
}
