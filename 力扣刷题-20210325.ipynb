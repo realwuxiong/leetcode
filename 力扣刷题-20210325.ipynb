{
 "cells": [
  {
   "cell_type": "code",
   "execution_count": null,
   "metadata": {},
   "outputs": [],
   "source": [
    "# 82. 删除排序链表中的重复元素 II\n",
    "# https://leetcode-cn.com/problems/remove-duplicates-from-sorted-list-ii/\n",
    "# 这个链表还把我难倒了。。。next.next把我搞晕了。。看看官方答案才能理解一点\n",
    "# Definition for singly-linked list.\n",
    "# class ListNode:\n",
    "#     def __init__(self, val=0, next=None):\n",
    "#         self.val = val\n",
    "#         self.next = next\n",
    "class Solution:\n",
    "    def deleteDuplicates(self, head: ListNode) -> ListNode:\n",
    "        # 又是链表\n",
    "        myhead = ListNode()\n",
    "        myhead.next = head\n",
    "        q = myhead\n",
    "        while q.next and q.next.next:\n",
    "            if q.next.val == q.next.next.val:\n",
    "                tem = q\n",
    "                while q.next.val == q.next.next.val:\n",
    "                    q = q.next\n",
    "                tem.next = q.next.next\n",
    "            else:\n",
    "                q = q.next\n",
    "                \n",
    "                \n",
    "        return myhead.next"
   ]
  }
 ],
 "metadata": {
  "kernelspec": {
   "display_name": "Python 3",
   "language": "python",
   "name": "python3"
  },
  "language_info": {
   "codemirror_mode": {
    "name": "ipython",
    "version": 3
   },
   "file_extension": ".py",
   "mimetype": "text/x-python",
   "name": "python",
   "nbconvert_exporter": "python",
   "pygments_lexer": "ipython3",
   "version": "3.8.5"
  }
 },
 "nbformat": 4,
 "nbformat_minor": 4
}
