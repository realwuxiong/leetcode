{
 "cells": [
  {
   "cell_type": "code",
   "execution_count": 10,
   "metadata": {},
   "outputs": [
    {
     "data": {
      "text/plain": [
       "1"
      ]
     },
     "execution_count": 10,
     "metadata": {},
     "output_type": "execute_result"
    }
   ],
   "source": [
    "# 475. 供暖器\n",
    "# https://leetcode-cn.com/problems/heaters/\n",
    "\n",
    "from typing import List\n",
    "def findRadius(houses: List[int], heaters: List[int]) -> int:\n",
    "    # 这个题其实就是一个贪心的问题\n",
    "    # 抄的答案，用双指针\n",
    "    ans = 0\n",
    "    houses.sort()\n",
    "    heaters.sort()\n",
    "    j = 0\n",
    "    for i, house in enumerate(houses):\n",
    "        curDistance = abs(house - heaters[j])\n",
    "        while j + 1 < len(heaters) and abs(houses[i] - heaters[j]) >= abs(houses[i] - heaters[j + 1]):\n",
    "            j += 1\n",
    "        curDistance = min(curDistance, abs(houses[i] - heaters[j]))\n",
    "        ans = max(ans, curDistance)\n",
    "    return ans\n",
    "        \n",
    "houses = [1,2,3,4]\n",
    "heaters = [1,4]\n",
    "findRadius(houses,heaters)"
   ]
  }
 ],
 "metadata": {
  "kernelspec": {
   "display_name": "Python 3",
   "language": "python",
   "name": "python3"
  },
  "language_info": {
   "codemirror_mode": {
    "name": "ipython",
    "version": 3
   },
   "file_extension": ".py",
   "mimetype": "text/x-python",
   "name": "python",
   "nbconvert_exporter": "python",
   "pygments_lexer": "ipython3",
   "version": "3.6.9"
  },
  "toc-autonumbering": false,
  "toc-showcode": false,
  "toc-showmarkdowntxt": false,
  "toc-showtags": false
 },
 "nbformat": 4,
 "nbformat_minor": 4
}
