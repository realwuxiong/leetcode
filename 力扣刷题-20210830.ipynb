{
 "cells": [
  {
   "cell_type": "code",
   "execution_count": 41,
   "metadata": {},
   "outputs": [
    {
     "name": "stdout",
     "output_type": "stream",
     "text": [
      "0.9646396977026546\n",
      "2\n"
     ]
    }
   ],
   "source": [
    "# 528. 按权重随机选择\n",
    "# https://leetcode-cn.com/problems/random-pick-with-weight/\n",
    "\n",
    "# 用random去模拟\n",
    "\n",
    "import random\n",
    "a = random.random()\n",
    "print(a)\n",
    "\n",
    "w = [1, 3,4]\n",
    "\n",
    "prefixSum = []\n",
    "sumW = sum(w)\n",
    "\n",
    "t = 0\n",
    "for num in w:\n",
    "    t += num\n",
    "    prefixSum.append(t/sumW)\n",
    "index = 0\n",
    "low = 0\n",
    "for p in prefixSum:\n",
    "    high = p\n",
    "    if low <= a <= high:\n",
    "        print(index)\n",
    "        break\n",
    "    index += 1\n",
    "    low = high\n",
    "\n",
    "# print(prefixSum)"
   ]
  }
 ],
 "metadata": {
  "kernelspec": {
   "display_name": "Python 3",
   "language": "python",
   "name": "python3"
  },
  "language_info": {
   "codemirror_mode": {
    "name": "ipython",
    "version": 3
   },
   "file_extension": ".py",
   "mimetype": "text/x-python",
   "name": "python",
   "nbconvert_exporter": "python",
   "pygments_lexer": "ipython3",
   "version": "3.6.9"
  },
  "toc-autonumbering": false,
  "toc-showcode": false,
  "toc-showmarkdowntxt": false,
  "toc-showtags": false
 },
 "nbformat": 4,
 "nbformat_minor": 4
}
