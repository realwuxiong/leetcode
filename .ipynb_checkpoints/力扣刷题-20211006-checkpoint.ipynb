{
 "cells": [
  {
   "cell_type": "code",
   "execution_count": 11,
   "metadata": {},
   "outputs": [
    {
     "name": "stdout",
     "output_type": "stream",
     "text": [
      "[1, 2, 3]\n"
     ]
    },
    {
     "data": {
      "text/plain": [
       "1"
      ]
     },
     "execution_count": 11,
     "metadata": {},
     "output_type": "execute_result"
    }
   ],
   "source": [
    "# 414. 第三大的数\n",
    "# https://leetcode-cn.com/problems/third-maximum-number/\n",
    "\n",
    "from typing import List\n",
    "def thirdMax(nums: List[int]) -> int:\n",
    "    import heapq\n",
    "    ans = []\n",
    "    for num in set(nums):\n",
    "        heapq.heappush(ans,num)\n",
    "        if len(ans) > 3:\n",
    "            heapq.heappop(ans)\n",
    "    if len(ans) < 3:\n",
    "        while len(ans) > 1:\n",
    "            heapq.heappop(ans)\n",
    "    return heapq.heappop(ans)\n",
    "nums = [2,2,3,1]\n",
    "thirdMax(nums)"
   ]
  }
 ],
 "metadata": {
  "kernelspec": {
   "display_name": "Python 3",
   "language": "python",
   "name": "python3"
  },
  "language_info": {
   "codemirror_mode": {
    "name": "ipython",
    "version": 3
   },
   "file_extension": ".py",
   "mimetype": "text/x-python",
   "name": "python",
   "nbconvert_exporter": "python",
   "pygments_lexer": "ipython3",
   "version": "3.6.9"
  },
  "toc-autonumbering": false,
  "toc-showcode": false,
  "toc-showmarkdowntxt": false,
  "toc-showtags": false
 },
 "nbformat": 4,
 "nbformat_minor": 4
}
