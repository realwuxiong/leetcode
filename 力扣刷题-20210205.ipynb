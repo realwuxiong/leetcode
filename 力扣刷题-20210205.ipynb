{
 "cells": [
  {
   "cell_type": "code",
   "execution_count": 21,
   "metadata": {},
   "outputs": [
    {
     "name": "stdout",
     "output_type": "stream",
     "text": [
      "4\n"
     ]
    }
   ],
   "source": [
    "# 1208. 尽可能使字符串相等\n",
    "# https://leetcode-cn.com/problems/get-equal-substrings-within-budget/\n",
    "# 这个月是滑动窗口月,哈哈哈双指针，和参考答案写的差不多。。\n",
    "'''\n",
    "class Solution {\n",
    "public:\n",
    "    int equalSubstring(string s, string t, int maxCost) {\n",
    "        int n = s.size() , left = 0 , right = 0;\n",
    "        for (int count = 0 ; right < n ; ++right) {\n",
    "            count += abs(s[right] - t[right]);\n",
    "            if (count > maxCost) \n",
    "                count -= abs(s[left] - t[left++]);\n",
    "        }\n",
    "        return right - left;\n",
    "    }\n",
    "};\n",
    "这个答案写的真不错，和2号那个题一样的思路\n",
    "'''\n",
    "\n",
    "def equalSubstring(s: str, t: str, maxCost: int) -> int:\n",
    "    res = 0 \n",
    "    maxRes=0\n",
    "    cost = 0\n",
    "    preIndex = 0 # 滑动窗口的开始\n",
    "    for index,data in enumerate(s):\n",
    "        cost += abs(ord(data) - ord(t[index]))\n",
    "        if(cost>maxCost):\n",
    "            while(cost > maxCost):\n",
    "                if(preIndex>index):\n",
    "                    break\n",
    "                cost -= abs(ord(t[preIndex])-ord(s[preIndex]))\n",
    "                res -= 1\n",
    "                preIndex += 1\n",
    "        res += 1\n",
    "        maxRes = max(maxRes,res)\n",
    "\n",
    "    print(res)    \n",
    "            \n",
    "    pass\n",
    "\n",
    "\n",
    "\n",
    "s = \"krpgjbjjznpzdfy\"\n",
    "t = \"nxargkbydxmsgby\"\n",
    "cost = 14\n",
    "equalSubstring(s,t,cost)"
   ]
  }
 ],
 "metadata": {
  "kernelspec": {
   "display_name": "Python 3",
   "language": "python",
   "name": "python3"
  },
  "language_info": {
   "codemirror_mode": {
    "name": "ipython",
    "version": 3
   },
   "file_extension": ".py",
   "mimetype": "text/x-python",
   "name": "python",
   "nbconvert_exporter": "python",
   "pygments_lexer": "ipython3",
   "version": "3.8.5"
  }
 },
 "nbformat": 4,
 "nbformat_minor": 4
}
