{
 "cells": [
  {
   "cell_type": "code",
   "execution_count": 1,
   "metadata": {},
   "outputs": [
    {
     "data": {
      "text/plain": [
       "91"
      ]
     },
     "execution_count": 1,
     "metadata": {},
     "output_type": "execute_result"
    }
   ],
   "source": [
    "# 357. 统计各位数字都不同的数字个数\n",
    "# https://leetcode-cn.com/problems/count-numbers-with-unique-digits/\n",
    "\n",
    "def countNumbersWithUniqueDigits(n: int) -> int:\n",
    "    if n == 0:\n",
    "        return 1\n",
    "    if n == 1:\n",
    "        return 10\n",
    "    res, cur = 10, 9\n",
    "    for i in range(n - 1):\n",
    "        cur *= 9 - i\n",
    "        res += cur\n",
    "    return res\n",
    "\n",
    "    pass\n",
    "n = 2\n",
    "countNumbersWithUniqueDigits(n)"
   ]
  }
 ],
 "metadata": {
  "kernelspec": {
   "display_name": "Python 3",
   "language": "python",
   "name": "python3"
  },
  "language_info": {
   "codemirror_mode": {
    "name": "ipython",
    "version": 3
   },
   "file_extension": ".py",
   "mimetype": "text/x-python",
   "name": "python",
   "nbconvert_exporter": "python",
   "pygments_lexer": "ipython3",
   "version": "3.6.9"
  },
  "toc-autonumbering": false,
  "toc-showcode": false,
  "toc-showmarkdowntxt": false,
  "toc-showtags": false
 },
 "nbformat": 4,
 "nbformat_minor": 4
}
