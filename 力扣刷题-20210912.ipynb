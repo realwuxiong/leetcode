{
 "cells": [
  {
   "cell_type": "code",
   "execution_count": 19,
   "metadata": {},
   "outputs": [
    {
     "name": "stdout",
     "output_type": "stream",
     "text": [
      "[(0, '('), (1, '('), (2, '('), (3, '('), (4, '('), (6, '('), (66, '('), (67, '('), (73, '('), (74, '('), (75, '('), (78, '('), (79, '(')]\n",
      "[(5, '*'), (13, '*'), (16, '*'), (17, '*'), (25, '*'), (33, '*'), (38, '*'), (39, '*'), (44, '*'), (46, '*'), (68, '*'), (82, '*'), (87, '*'), (91, '*'), (92, '*')]\n"
     ]
    },
    {
     "data": {
      "text/plain": [
       "False"
      ]
     },
     "execution_count": 19,
     "metadata": {},
     "output_type": "execute_result"
    }
   ],
   "source": [
    "# 678. 有效的括号字符串\n",
    "# https://leetcode-cn.com/problems/valid-parenthesis-string/\n",
    "def checkValidString(s: str) -> bool:\n",
    "    # 用堆栈、\n",
    "    stack1=[]\n",
    "    stack2=[]\n",
    "\n",
    "    for i,ss in enumerate(s):\n",
    "        if ss == \"(\":\n",
    "            stack1.append((i,ss))\n",
    "        elif ss == \")\": # 必须匹配\n",
    "            if stack1:\n",
    "                stack1.pop()\n",
    "            else:\n",
    "                if stack2:\n",
    "                    stack2.pop()\n",
    "                else:\n",
    "                    return False\n",
    "        else:\n",
    "            stack2.append((i,ss))\n",
    "\n",
    "    if len(stack1) > len(stack2):\n",
    "        return False\n",
    "    while stack1:\n",
    "        t = stack1.pop()\n",
    "        if not stack2:\n",
    "            return False\n",
    "        p = stack2.pop()\n",
    "        if t[0] > p[0]:\n",
    "            return False\n",
    "    return True\n",
    "\n",
    "\n",
    "s = \"(((((*(()((((*((**(((()()*)()()()*((((**)())*)*)))))))(())(()))())((*()()(((()((()*(())*(()**)()(())\"\n",
    "checkValidString(s)"
   ]
  },
  {
   "cell_type": "code",
   "execution_count": null,
   "metadata": {},
   "outputs": [],
   "source": [
    "# 答案的这个贪心算法牛\n",
    "\"\"\"\n",
    "方法三：贪心\n",
    "使用贪心的思想，可以将空间复杂度降到 O(1)O(1)。\n",
    "\n",
    "从左到右遍历字符串，遍历过程中，未匹配的左括号数量可能会出现如下变化：\n",
    "\n",
    "如果遇到左括号，则未匹配的左括号数量加 11；\n",
    "\n",
    "如果遇到右括号，则需要有一个左括号和右括号匹配，因此未匹配的左括号数量减 11；\n",
    "\n",
    "如果遇到星号，由于星号可以看成左括号、右括号或空字符串，因此未匹配的左括号数量可能加 11、减 11 或不变。\n",
    "\n",
    "基于上述结论，可以在遍历过程中维护未匹配的左括号数量可能的最小值和最大值，根据遍历到的字符更新最小值和最大值：\n",
    "\n",
    "如果遇到左括号，则将最小值和最大值分别加 11；\n",
    "\n",
    "如果遇到右括号，则将最小值和最大值分别减 11；\n",
    "\n",
    "如果遇到星号，则将最小值减 11，将最大值加 11。\n",
    "\n",
    "任何情况下，未匹配的左括号数量必须非负，因此当最大值变成负数时，说明没有左括号可以和右括号匹配，返回 \\text{false}false。\n",
    "\n",
    "当最小值为 00 时，不应将最小值继续减少，以确保最小值非负。\n",
    "\n",
    "遍历结束时，所有的左括号都应和右括号匹配，因此只有当最小值为 00 时，字符串 ss 才是有效的括号字符串。\n",
    "\n",
    "\"\"\""
   ]
  }
 ],
 "metadata": {
  "kernelspec": {
   "display_name": "Python 3",
   "language": "python",
   "name": "python3"
  },
  "language_info": {
   "codemirror_mode": {
    "name": "ipython",
    "version": 3
   },
   "file_extension": ".py",
   "mimetype": "text/x-python",
   "name": "python",
   "nbconvert_exporter": "python",
   "pygments_lexer": "ipython3",
   "version": "3.6.9"
  },
  "toc-autonumbering": false,
  "toc-showcode": false,
  "toc-showmarkdowntxt": false,
  "toc-showtags": false
 },
 "nbformat": 4,
 "nbformat_minor": 4
}
