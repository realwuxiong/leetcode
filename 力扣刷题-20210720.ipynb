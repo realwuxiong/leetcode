{
 "cells": [
  {
   "cell_type": "code",
   "execution_count": 18,
   "metadata": {},
   "outputs": [
    {
     "name": "stdout",
     "output_type": "stream",
     "text": [
      "0.00019240379333496094\n"
     ]
    }
   ],
   "source": [
    "# 1877. 数组中最大数对和的最小值\n",
    "# https://leetcode-cn.com/problems/minimize-maximum-pair-sum-in-array/\n",
    "\n",
    "# 刷完题，就看看面试的题目，明天（2021年7月21日晚上八点面字节跳动）\n",
    "from typing import List\n",
    "def minPairSum(nums: List[int]) -> int:\n",
    "    # 最大问题最小化，难道是二分法？？？\n",
    "    \n",
    "    # 感觉其实贪心算法就行。。。最大值配最小值\n",
    "    # 27 / 37 个通过测试用例 超时了，我估计是排序超时了\n",
    "    nums.sort()\n",
    "    ans = -1\n",
    "    while nums:\n",
    "        a = nums[0]\n",
    "        b = nums[-1]\n",
    "        del nums[0]\n",
    "        del nums[-1]\n",
    "        ans = max(ans,a+b)\n",
    "    return ans \n",
    "    pass\n",
    "start = time.time()\n",
    "nums = [3,5,2,3,4,5,234,23,23,23,32,23,32,23,123,1,1,\n",
    "        2,2,2,2,3,123,123,21,321,3,21,12,12,12,12,12,2,13,3,312,312,65,2,2,2,21,2]\n",
    "minPairSum(nums)\n",
    "print(time.time()-start)"
   ]
  },
  {
   "cell_type": "code",
   "execution_count": 19,
   "metadata": {},
   "outputs": [
    {
     "name": "stdout",
     "output_type": "stream",
     "text": [
      "0.00028014183044433594\n"
     ]
    }
   ],
   "source": [
    "from typing import List\n",
    "def minPairSum(nums: List[int]) -> int:\n",
    "    # 换一个思路再写一写,卧槽了，居然通过了。。。\n",
    "    nums.sort()\n",
    "    n = len(nums)\n",
    "    mid = n // 2\n",
    "    for i in range(mid):\n",
    "        nums[i] += nums[n-i-1]\n",
    "    return max(nums) \n",
    "    pass\n",
    "import time\n",
    "start = time.time()\n",
    "nums = [3,5,2,3,4,5,234,23,23,23,32,23,32,23,123,1,1,\n",
    "        2,2,2,2,3,123,123,21,321,3,21,12,12,12,12,12,2,13,3,312,312,65,2,2,2,21,2]\n",
    "minPairSum(nums)\n",
    "print(time.time()-start)"
   ]
  },
  {
   "cell_type": "code",
   "execution_count": 25,
   "metadata": {},
   "outputs": [
    {
     "name": "stdout",
     "output_type": "stream",
     "text": [
      "[1, 5, 7, 8, 5, 3, 4, 2, 1]\n"
     ]
    },
    {
     "data": {
      "text/plain": [
       "4"
      ]
     },
     "execution_count": 25,
     "metadata": {},
     "output_type": "execute_result"
    }
   ],
   "source": [
    "# 做一题动态规划玩玩\n",
    "# 1218. 最长定差子序列\n",
    "# https://leetcode-cn.com/problems/longest-arithmetic-subsequence-of-given-difference/\n",
    "from typing import List\n",
    "def longestSubsequence(arr: List[int], difference: int) -> int:\n",
    "    print(arr)\n",
    "    # 用hashMap\n",
    "    myHashMap ={}\n",
    "    for a in arr:\n",
    "        if (a - difference) not in myHashMap.keys():\n",
    "            myHashMap[a] = 1\n",
    "        else:\n",
    "            myHashMap[a] = (myHashMap[a - difference] + 1)\n",
    "    return max(myHashMap.values())\n",
    "    pass\n",
    "arr = [1,5,7,8,5,3,4,2,1]\n",
    "difference = -2\n",
    "longestSubsequence(arr,difference)"
   ]
  }
 ],
 "metadata": {
  "kernelspec": {
   "display_name": "Python 3",
   "language": "python",
   "name": "python3"
  },
  "language_info": {
   "codemirror_mode": {
    "name": "ipython",
    "version": 3
   },
   "file_extension": ".py",
   "mimetype": "text/x-python",
   "name": "python",
   "nbconvert_exporter": "python",
   "pygments_lexer": "ipython3",
   "version": "3.6.9"
  },
  "toc-autonumbering": false,
  "toc-showcode": false,
  "toc-showmarkdowntxt": false,
  "toc-showtags": false
 },
 "nbformat": 4,
 "nbformat_minor": 4
}
