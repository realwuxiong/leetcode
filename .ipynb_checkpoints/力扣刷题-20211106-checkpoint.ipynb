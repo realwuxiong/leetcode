{
 "cells": [
  {
   "cell_type": "code",
   "execution_count": 6,
   "metadata": {},
   "outputs": [
    {
     "name": "stdout",
     "output_type": "stream",
     "text": [
      "[9, 6, 4, 2, 3, 5, 7, 0, 1, -1]\n",
      "[-1, 6, 4, 2, 3, 5, 7, 0, 1, 9]\n",
      "[-1, 7, 4, 2, 3, 5, 7, 6, 1, 9]\n",
      "[-1, 7, 3, 4, 3, 5, 7, 6, 1, 9]\n",
      "[-1, 7, 3, 4, 3, 5, 7, 6, 1, 9]\n",
      "[-1, 7, 3, 4, 3, 5, 7, 6, 1, 9]\n",
      "[-1, 7, 3, 4, 3, 5, 7, 6, 1, 9]\n",
      "[-1, 7, 3, 4, 3, 5, 7, 6, 1, 9]\n",
      "[-1, 7, 3, 4, 3, 5, 7, 6, 1, 9]\n",
      "[-1, 7, 3, 4, 3, 5, 7, 1, 7, 9]\n",
      "[-1, 7, 3, 4, 3, 5, 7, 1, 7, 9]\n",
      "[-1, 7, 3, 4, 3, 5, 7, 1, 7, 9]\n"
     ]
    }
   ],
   "source": [
    "# 268. 丢失的数字\n",
    "# https://leetcode-cn.com/problems/missing-number/\n",
    "\n",
    "from typing import List\n",
    "def missingNumber(nums: List[int]) -> int:\n",
    "    ans = 0\n",
    "    \n",
    "    for i,data in enumerate(nums):\n",
    "        ans ^= data\n",
    "        ans  ^= i\n",
    "    return ans ^ len(nums)    \n",
    "    \n",
    "nums = [9,6,4,2,3,5,7,0,1]\n",
    "missingNumber(nums)"
   ]
  }
 ],
 "metadata": {
  "kernelspec": {
   "display_name": "Python 3",
   "language": "python",
   "name": "python3"
  },
  "language_info": {
   "codemirror_mode": {
    "name": "ipython",
    "version": 3
   },
   "file_extension": ".py",
   "mimetype": "text/x-python",
   "name": "python",
   "nbconvert_exporter": "python",
   "pygments_lexer": "ipython3",
   "version": "3.6.9"
  },
  "toc-autonumbering": false,
  "toc-showcode": false,
  "toc-showmarkdowntxt": false,
  "toc-showtags": false
 },
 "nbformat": 4,
 "nbformat_minor": 4
}
