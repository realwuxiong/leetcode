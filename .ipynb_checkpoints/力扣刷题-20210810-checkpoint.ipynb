{
 "cells": [
  {
   "cell_type": "code",
   "execution_count": 26,
   "metadata": {},
   "outputs": [
    {
     "data": {
      "text/plain": [
       "92"
      ]
     },
     "execution_count": 26,
     "metadata": {},
     "output_type": "execute_result"
    }
   ],
   "source": [
    "# 413. 等差数列划分\n",
    "# https://leetcode-cn.com/problems/arithmetic-slices/\n",
    "\n",
    "# 第一感觉有两种办法\n",
    "# 1、dfs 2、滑窗\n",
    "# 9:35\n",
    "from typing import List\n",
    "def numberOfArithmeticSlices(nums: List[int]) -> int:\n",
    "    # 采用滑窗\n",
    "    \n",
    "    ans = []\n",
    "    n = len(nums)\n",
    "    slow,fast = 0,2\n",
    "    while fast < n:\n",
    "        if nums[fast] - nums[fast-1] != nums[fast-1] - nums[fast-2]:\n",
    "            if fast-slow >= 3:\n",
    "                ans.append(fast-slow)\n",
    "                slow = fast\n",
    "            else:\n",
    "                slow += 1\n",
    "            fast += 2\n",
    "        else:\n",
    "            fast += 1\n",
    "    if fast-slow >= 3:\n",
    "        ans.append(fast-slow)\n",
    "    res = 0\n",
    "    for a in ans:\n",
    "        res += ((a-3)+1 + 1)*((a-3)+1)//2\n",
    "    return res\n",
    "nums = [1,2,3,4,1,2,3,4,5,1,1,1,1,2]\n",
    "numberOfArithmeticSlices(nums)"
   ]
  }
 ],
 "metadata": {
  "kernelspec": {
   "display_name": "Python 3",
   "language": "python",
   "name": "python3"
  },
  "language_info": {
   "codemirror_mode": {
    "name": "ipython",
    "version": 3
   },
   "file_extension": ".py",
   "mimetype": "text/x-python",
   "name": "python",
   "nbconvert_exporter": "python",
   "pygments_lexer": "ipython3",
   "version": "3.6.9"
  },
  "toc-autonumbering": false,
  "toc-showcode": false,
  "toc-showmarkdowntxt": false,
  "toc-showtags": false
 },
 "nbformat": 4,
 "nbformat_minor": 4
}
