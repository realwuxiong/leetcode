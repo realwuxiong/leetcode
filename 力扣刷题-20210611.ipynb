{
 "cells": [
  {
   "cell_type": "code",
   "execution_count": 12,
   "metadata": {},
   "outputs": [
    {
     "name": "stdout",
     "output_type": "stream",
     "text": [
      "[[1, 0, 0, 0, 0, 0, 0, 0, 0, 0, 0, 0, 0, 0], [1, 0, 0, 0, 0, 0, 0, 0, 0, 0, 0, 0, 0, 0], [1, 0, 0, 0, 0, 0, 0, 0, 0, 0, 0, 0, 0, 0], [1, 0, 0, 0, 0, 0, 0, 0, 0, 0, 0, 0, 0, 0]]\n"
     ]
    }
   ],
   "source": [
    "# 279. 完全平方数\n",
    "# https://leetcode-cn.com/problems/perfect-squares/\n",
    "\n",
    "# 又是背包问题？？  没做出来，后面补一补\n",
    "def numSquares(n: int) -> int:\n",
    "    import math\n",
    "    absn = math.floor(math.sqrt(n))\n",
    "    candidates = [i*i for i in range(1,absn+1)]\n",
    "    length = len(candidates)\n",
    "    dp =[[0]*(n+1) for i in range(absn+1)]\n",
    "    for i in range(absn+1):\n",
    "        dp[i][0] = 1\n",
    "    for i in range(1,absn+1):\n",
    "        num = candidates[i-1]\n",
    "        for j in range(n+1):\n",
    "            dp[i][j] = dp[i-1][j]\n",
    "            if num < j:\n",
    "                dp[i][j] = min(dp[i][j],dp[i-1][j-num]+1)\n",
    "    print(dp)\n",
    "    \n",
    "    pass\n",
    "numSquares(13)"
   ]
  },
  {
   "cell_type": "code",
   "execution_count": null,
   "metadata": {},
   "outputs": [],
   "source": [
    "# java 标准答案\n",
    "class Solution {\n",
    "    public int numSquares(int n) {\n",
    "        int[] f = new int[n + 1];\n",
    "        for (int i = 1; i <= n; i++) {\n",
    "            int minn = Integer.MAX_VALUE;\n",
    "            for (int j = 1; j * j <= i; j++) {\n",
    "                minn = Math.min(minn, f[i - j * j]);\n",
    "            }\n",
    "            f[i] = minn + 1;\n",
    "        }\n",
    "        return f[n];\n",
    "    }\n",
    "}\n",
    "\n"
   ]
  }
 ],
 "metadata": {
  "kernelspec": {
   "display_name": "Python 3",
   "language": "python",
   "name": "python3"
  },
  "language_info": {
   "codemirror_mode": {
    "name": "ipython",
    "version": 3
   },
   "file_extension": ".py",
   "mimetype": "text/x-python",
   "name": "python",
   "nbconvert_exporter": "python",
   "pygments_lexer": "ipython3",
   "version": "3.6.9"
  }
 },
 "nbformat": 4,
 "nbformat_minor": 4
}
