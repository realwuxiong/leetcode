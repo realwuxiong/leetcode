{
 "cells": [
  {
   "cell_type": "code",
   "execution_count": 1,
   "metadata": {},
   "outputs": [
    {
     "name": "stdout",
     "output_type": "stream",
     "text": [
      "[1, 1, 2]\n"
     ]
    }
   ],
   "source": [
    "# 810. 黑板异或游戏\n",
    "# https://leetcode-cn.com/problems/chalkboard-xor-game/\n",
    "\n",
    "# 搞了半天，这个题目是数学题目。。。。\n",
    "from typing import List\n",
    "def xorGame(nums: List[int]) -> bool:\n",
    "     if len(nums) % 2 == 0:\n",
    "            return True\n",
    "        \n",
    "    xorsum = reduce(xor, nums)\n",
    "    return xorsum == 0\n",
    "\n",
    "\n",
    "xorGame(nums)"
   ]
  }
 ],
 "metadata": {
  "kernelspec": {
   "display_name": "Python 3",
   "language": "python",
   "name": "python3"
  },
  "language_info": {
   "codemirror_mode": {
    "name": "ipython",
    "version": 3
   },
   "file_extension": ".py",
   "mimetype": "text/x-python",
   "name": "python",
   "nbconvert_exporter": "python",
   "pygments_lexer": "ipython3",
   "version": "3.6.9"
  }
 },
 "nbformat": 4,
 "nbformat_minor": 4
}
