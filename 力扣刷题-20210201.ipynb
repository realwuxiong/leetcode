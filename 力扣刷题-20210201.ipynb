{
 "cells": [
  {
   "cell_type": "code",
   "execution_count": 8,
   "metadata": {},
   "outputs": [
    {
     "name": "stdout",
     "output_type": "stream",
     "text": [
      "[5, 4]\n"
     ]
    }
   ],
   "source": [
    "# https://leetcode-cn.com/problems/fair-candy-swap/\n",
    "# 888. 公平的糖果棒交换\n",
    "from typing import List\n",
    "def fairCandySwap(A: List[int], B: List[int]) -> List[int]:\n",
    "    sumA = sum(A)\n",
    "    sumB = sum(B)\n",
    "    sumA_B = sumA+sumB\n",
    "    half_sumA_B = sumA_B/2  # 说了肯定有答案，那么肯定能分开\n",
    "    t = sumA - half_sumA_B  \n",
    "    ans=[]\n",
    "    for a in A:\n",
    "        if a-t in B:\n",
    "            ans.append(a)\n",
    "            ans.append(int(a-t))\n",
    "            return ans\n",
    "            \n",
    "A = [1,2,5]\n",
    "B = [2,4]\n",
    "print(fairCandySwap(A,B))\n"
   ]
  }
 ],
 "metadata": {
  "kernelspec": {
   "display_name": "Python 3",
   "language": "python",
   "name": "python3"
  },
  "language_info": {
   "codemirror_mode": {
    "name": "ipython",
    "version": 3
   },
   "file_extension": ".py",
   "mimetype": "text/x-python",
   "name": "python",
   "nbconvert_exporter": "python",
   "pygments_lexer": "ipython3",
   "version": "3.8.5"
  }
 },
 "nbformat": 4,
 "nbformat_minor": 4
}
