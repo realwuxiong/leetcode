{
 "cells": [
  {
   "cell_type": "code",
   "execution_count": null,
   "metadata": {},
   "outputs": [],
   "source": [
    "# 576. 出界的路径数\n",
    "# https://leetcode-cn.com/problems/out-of-boundary-paths/\n",
    "\n",
    "def findPaths(m: int, n: int, maxMove: int, startRow: int, startColumn: int) -> int:\n",
    "    \n",
    "    # 用dfs，但是超时了\n",
    "    ans = [0]\n",
    "    def dfs(row,clo,remainMove):\n",
    "\n",
    "\n",
    "        if row < 0 or clo < 0 or row  >=m or clo >= n:\n",
    "            if remainMove < 0:\n",
    "                return\n",
    "            ans[0] += 1\n",
    "            return \n",
    "        if remainMove < 0:\n",
    "            return\n",
    "\n",
    "        dfs(row+1,clo,remainMove-1)\n",
    "        dfs(row-1,clo,remainMove-1)\n",
    "        dfs(row,clo+1,remainMove-1)\n",
    "        dfs(row,clo-1,remainMove-1)\n",
    "\n",
    "\n",
    "    dfs(startRow,startColumn,maxMove)\n",
    "    return ans[0] % (10**9+7)\n"
   ]
  },
  {
   "cell_type": "code",
   "execution_count": null,
   "metadata": {},
   "outputs": [],
   "source": [
    "# 还是得动态规划"
   ]
  }
 ],
 "metadata": {
  "kernelspec": {
   "display_name": "Python 3",
   "language": "python",
   "name": "python3"
  },
  "language_info": {
   "codemirror_mode": {
    "name": "ipython",
    "version": 3
   },
   "file_extension": ".py",
   "mimetype": "text/x-python",
   "name": "python",
   "nbconvert_exporter": "python",
   "pygments_lexer": "ipython3",
   "version": "3.6.9"
  },
  "toc-autonumbering": false,
  "toc-showcode": false,
  "toc-showmarkdowntxt": false,
  "toc-showtags": false
 },
 "nbformat": 4,
 "nbformat_minor": 4
}
