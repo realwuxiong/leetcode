{
 "cells": [
  {
   "cell_type": "code",
   "execution_count": 6,
   "metadata": {},
   "outputs": [
    {
     "data": {
      "text/plain": [
       "61"
      ]
     },
     "execution_count": 6,
     "metadata": {},
     "output_type": "execute_result"
    }
   ],
   "source": [
    "# 1154. 一年中的第几天\n",
    "# https://leetcode-cn.com/problems/day-of-the-year/\n",
    "\n",
    "def dayOfYear(date: str) -> int:\n",
    "    # 还得判断是否是闰年\n",
    "    day_31 = [1,3,5,7,8,10] # 31天的月份，最后一个月不需要累加\n",
    "    year,month,day = (map(int,date.split(\"-\")))\n",
    "    ans = 0\n",
    "    for i in range(1,month):\n",
    "        if i == 2:\n",
    "            if year % 400 == 0 or (year % 4 == 0 and year % 100 != 0): # 是否是闰年\n",
    "                ans += 29\n",
    "            else:\n",
    "                ans += 28\n",
    "            continue\n",
    "        if i in day_31:\n",
    "            ans += 31\n",
    "        else:\n",
    "            ans += 30\n",
    "    return ans + day\n",
    "    \n",
    "date = \"2004-03-01\"\n",
    "dayOfYear(date)"
   ]
  },
  {
   "cell_type": "code",
   "execution_count": null,
   "metadata": {},
   "outputs": [],
   "source": [
    "# 跟答案的思路差不多，但是答案写的更好\n",
    "class Solution:\n",
    "    def dayOfYear(self, date: str) -> int:\n",
    "        year, month, day = [int(x) for x in date.split(\"-\")]\n",
    "\n",
    "        amount = [31, 28, 31, 30, 31, 30, 31, 31, 30, 31, 30, 31]\n",
    "        if year % 400 == 0 or (year % 4 == 0 and year % 100 != 0):\n",
    "            amount[1] += 1\n",
    "\n",
    "        ans = sum(amount[:month - 1])\n",
    "        return ans + day\n",
    "\n",
    "。"
   ]
  }
 ],
 "metadata": {
  "kernelspec": {
   "display_name": "Python 3",
   "language": "python",
   "name": "python3"
  },
  "language_info": {
   "codemirror_mode": {
    "name": "ipython",
    "version": 3
   },
   "file_extension": ".py",
   "mimetype": "text/x-python",
   "name": "python",
   "nbconvert_exporter": "python",
   "pygments_lexer": "ipython3",
   "version": "3.6.9"
  },
  "toc-autonumbering": false,
  "toc-showcode": false,
  "toc-showmarkdowntxt": false,
  "toc-showtags": false
 },
 "nbformat": 4,
 "nbformat_minor": 4
}
