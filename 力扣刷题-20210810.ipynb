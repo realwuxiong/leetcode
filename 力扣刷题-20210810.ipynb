{
 "cells": [
  {
   "cell_type": "code",
   "execution_count": 38,
   "metadata": {},
   "outputs": [
    {
     "data": {
      "text/plain": [
       "3"
      ]
     },
     "execution_count": 38,
     "metadata": {},
     "output_type": "execute_result"
    }
   ],
   "source": [
    "# 413. 等差数列划分\n",
    "# https://leetcode-cn.com/problems/arithmetic-slices/\n",
    "\n",
    "# 第一感觉有两种办法\n",
    "# 1、dfs 2、滑窗\n",
    "# 9:35\n",
    "from typing import List\n",
    "def numberOfArithmeticSlices(nums: List[int]) -> int:\n",
    "    # 采用滑窗\n",
    "#     ans = []\n",
    "#     n = len(nums)\n",
    "#     slow,fast = 0,2\n",
    "#     while fast < n:\n",
    "#         if nums[fast] - nums[fast-1] != nums[fast-1] - nums[fast-2]:\n",
    "#             print(fast,slow)\n",
    "#             if fast-slow >= 3:\n",
    "#                 ans.append(fast-slow)\n",
    "#                 slow = fast\n",
    "#             else:\n",
    "#                 slow += 1\n",
    "#             fast += 2\n",
    "#         else:\n",
    "#             fast += 1\n",
    "#     if fast-slow >= 3:\n",
    "#         ans.append(fast-slow)\n",
    "#     res = 0\n",
    "#     for a in ans:\n",
    "#         res += ((a-3)+1 + 1)*((a-3)+1)//2\n",
    "#  代码写的真的垃圾，还是错的，还是答案写的优雅。。。\n",
    "\n",
    "#     return res\n",
    "    n = len(nums)\n",
    "    if n == 1:\n",
    "        return 0\n",
    "\n",
    "    d, t = nums[0] - nums[1], 0\n",
    "    ans = 0\n",
    "\n",
    "    # 因为等差数列的长度至少为 3，所以可以从 i=2 开始枚举\n",
    "    for i in range(2, n):\n",
    "        if nums[i - 1] - nums[i] == d:\n",
    "            t += 1\n",
    "        else:\n",
    "            d = nums[i - 1] - nums[i]\n",
    "            t = 0\n",
    "        ans += t\n",
    "\n",
    "    return ans\n",
    "\n",
    "\n",
    "nums = [1,2,3,4]\n",
    "numberOfArithmeticSlices(nums)"
   ]
  }
 ],
 "metadata": {
  "kernelspec": {
   "display_name": "Python 3",
   "language": "python",
   "name": "python3"
  },
  "language_info": {
   "codemirror_mode": {
    "name": "ipython",
    "version": 3
   },
   "file_extension": ".py",
   "mimetype": "text/x-python",
   "name": "python",
   "nbconvert_exporter": "python",
   "pygments_lexer": "ipython3",
   "version": "3.6.9"
  },
  "toc-autonumbering": false,
  "toc-showcode": false,
  "toc-showmarkdowntxt": false,
  "toc-showtags": false
 },
 "nbformat": 4,
 "nbformat_minor": 4
}
