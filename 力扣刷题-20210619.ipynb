{
 "cells": [
  {
   "cell_type": "code",
   "execution_count": 9,
   "metadata": {},
   "outputs": [
    {
     "name": "stdout",
     "output_type": "stream",
     "text": [
      "26\n"
     ]
    }
   ],
   "source": [
    "# 1239. 串联字符串的最大长度\n",
    "# https://leetcode-cn.com/problems/maximum-length-of-a-concatenated-string-with-unique-characters/\n",
    "\n",
    "# 其实用回溯可以做，试试看吧，\n",
    "\n",
    "#没想到写出来了。。。果然dfs\n",
    "from typing import List\n",
    "def maxLength(arr: List[str]) -> int:\n",
    "    s = \"\".join(arr)\n",
    "    n = len(arr)\n",
    "    maxLength = len(set(s))\n",
    "#     print(maxLength)\n",
    "#     print(set(s))\n",
    "    \n",
    "    stack = []\n",
    "    ans = []\n",
    "    def dfs(i):\n",
    "        if i > n:\n",
    "            return\n",
    "        if len(\"\".join(stack)) != len(set(\"\".join(stack))):\n",
    "            return \n",
    "        else:\n",
    "            ans.append(len(\"\".join(stack)))\n",
    "        for j in range(i,n):\n",
    "            stack.append(arr[j])\n",
    "            dfs(j+1)\n",
    "            stack.pop()\n",
    "    dfs(0)\n",
    "    print(max(ans))\n",
    "arr=[\"abcdefghijklmnopqrstuvwxyz\"]\n",
    "maxLength(arr)"
   ]
  }
 ],
 "metadata": {
  "kernelspec": {
   "display_name": "Python 3",
   "language": "python",
   "name": "python3"
  },
  "language_info": {
   "codemirror_mode": {
    "name": "ipython",
    "version": 3
   },
   "file_extension": ".py",
   "mimetype": "text/x-python",
   "name": "python",
   "nbconvert_exporter": "python",
   "pygments_lexer": "ipython3",
   "version": "3.6.9"
  }
 },
 "nbformat": 4,
 "nbformat_minor": 4
}
