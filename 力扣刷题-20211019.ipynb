{
 "cells": [
  {
   "cell_type": "code",
   "execution_count": null,
   "metadata": {},
   "outputs": [],
   "source": [
    "# 211. 添加与搜索单词 - 数据结构设计\n",
    "# https://leetcode-cn.com/problems/design-add-and-search-words-data-structure/\n",
    "\n",
    "# 我就知道是字典树，明天补上，今天没时间做了。\n",
    "\n",
    "class TrieNode:\n",
    "    def __init__(self):\n",
    "        self.children = [None] * 26\n",
    "        self.isEnd = False\n",
    "\n",
    "    def insert(self, word: str) -> None:\n",
    "        node = self\n",
    "        for ch in word:\n",
    "            ch = ord(ch) - ord('a')\n",
    "            if not node.children[ch]:\n",
    "                node.children[ch] = TrieNode()\n",
    "            node = node.children[ch]\n",
    "        node.isEnd = True\n",
    "\n",
    "\n",
    "class WordDictionary:\n",
    "    def __init__(self):\n",
    "        self.trieRoot = TrieNode()\n",
    "\n",
    "    def addWord(self, word: str) -> None:\n",
    "        self.trieRoot.insert(word)\n",
    "\n",
    "    def search(self, word: str) -> bool:\n",
    "        def dfs(index: int, node: TrieNode) -> bool:\n",
    "            if index == len(word):\n",
    "                return node.isEnd\n",
    "            ch = word[index]\n",
    "            if ch != '.':\n",
    "                child = node.children[ord(ch) - ord('a')]\n",
    "                if child is not None and dfs(index + 1, child):\n",
    "                    return True\n",
    "            else:\n",
    "                for child in node.children:\n",
    "                    if child is not None and dfs(index + 1, child):\n",
    "                        return True\n",
    "            return False\n",
    "\n",
    "        return dfs(0, self.trieRoot)\n"
   ]
  }
 ],
 "metadata": {
  "kernelspec": {
   "display_name": "Python 3",
   "language": "python",
   "name": "python3"
  },
  "language_info": {
   "codemirror_mode": {
    "name": "ipython",
    "version": 3
   },
   "file_extension": ".py",
   "mimetype": "text/x-python",
   "name": "python",
   "nbconvert_exporter": "python",
   "pygments_lexer": "ipython3",
   "version": "3.6.9"
  },
  "toc-autonumbering": false,
  "toc-showcode": false,
  "toc-showmarkdowntxt": false,
  "toc-showtags": false
 },
 "nbformat": 4,
 "nbformat_minor": 4
}
