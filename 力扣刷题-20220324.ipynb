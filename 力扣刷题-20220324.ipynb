{
 "cells": [
  {
   "cell_type": "code",
   "execution_count": 4,
   "metadata": {},
   "outputs": [
    {
     "data": {
      "text/plain": [
       "[[137, 141, 137], [141, 138, 141], [137, 141, 137]]"
      ]
     },
     "execution_count": 4,
     "metadata": {},
     "output_type": "execute_result"
    }
   ],
   "source": [
    "# 661. 图片平滑器\n",
    "# https://leetcode-cn.com/problems/image-smoother/\n",
    "\n",
    "from typing import List\n",
    "def imageSmoother(img: List[List[int]]) -> List[List[int]]:\n",
    "    # 上三，中三，下三\n",
    "    step = [(-1,-1),(-1,0),(-1,1),\n",
    "           (0,-1),(0,0),(0,1),\n",
    "           (1,-1),(1,0),(1,1)]\n",
    "    m,n = len(img), len(img[0])\n",
    "    ans = [[0]*n for i in range(m)]\n",
    "    \n",
    "    for i in range(m):\n",
    "        for j in range(n):\n",
    "            t = 0\n",
    "            tem = 0\n",
    "            for s in step:\n",
    "                x,y =s[0]+i,s[1]+j\n",
    "                if 0 <= x < m and 0 <= y < n:\n",
    "                    t += 1\n",
    "                    tem += img[x][y]\n",
    "            ans[i][j] = tem // t\n",
    "    return ans\n",
    "\n",
    "\n",
    "img = [[100,200,100],[200,50,200],[100,200,100]]\n",
    "imageSmoother(img)"
   ]
  }
 ],
 "metadata": {
  "kernelspec": {
   "display_name": "Python 3",
   "language": "python",
   "name": "python3"
  },
  "language_info": {
   "codemirror_mode": {
    "name": "ipython",
    "version": 3
   },
   "file_extension": ".py",
   "mimetype": "text/x-python",
   "name": "python",
   "nbconvert_exporter": "python",
   "pygments_lexer": "ipython3",
   "version": "3.6.9"
  },
  "toc-autonumbering": false,
  "toc-showcode": false,
  "toc-showmarkdowntxt": false,
  "toc-showtags": false
 },
 "nbformat": 4,
 "nbformat_minor": 4
}
