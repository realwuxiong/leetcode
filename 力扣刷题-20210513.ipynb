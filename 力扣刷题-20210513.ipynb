{
 "cells": [
  {
   "cell_type": "code",
   "execution_count": 20,
   "metadata": {},
   "outputs": [
    {
     "name": "stdout",
     "output_type": "stream",
     "text": [
      "32\n"
     ]
    }
   ],
   "source": [
    "# 1269. 停在原地的方案数\n",
    "# https://leetcode-cn.com/problems/number-of-ways-to-stay-in-the-same-place-after-some-steps/\n",
    "\n",
    "# 试试DFS,不知道动态规划行不行\n",
    "# DFS写出来了，但是超时了\n",
    "from typing import List\n",
    "def numWays(steps: int, arrLen: int) -> int:\n",
    "    global ans\n",
    "    ans = 0\n",
    "    # DFS没啥问题。就是超时了\n",
    "    def dfs(step,index):\n",
    "        global ans\n",
    "        \n",
    "        if 0 == index and step==0:\n",
    "            ans += 1\n",
    "            return\n",
    "        \n",
    "#         if index >= arrLen // 2 or index < 0:\n",
    "#             return\n",
    "\n",
    "        if step<index or index < 0 or index > arrLen-1 :\n",
    "            return\n",
    "#         print(step,index)\n",
    "        dfs(step-1,index) #不动\n",
    "        dfs(step-1,index+1) # 右移\n",
    "        dfs(step-1,index-1) #左移\n",
    "    dfs(steps,0)\n",
    "    print(ans)\n",
    "    pass\n",
    "numWays(6,2)\n"
   ]
  },
  {
   "cell_type": "code",
   "execution_count": null,
   "metadata": {},
   "outputs": [],
   "source": [
    "# 还是得动态规划\n",
    "# 看到答案。明天再把这个代码试一试\n",
    "class Solution:\n",
    "    def numWays(self, steps: int, arrLen: int) -> int:\n",
    "        mod = 10**9 + 7\n",
    "        maxColumn = min(arrLen - 1, steps)\n",
    "\n",
    "        dp = [[0] * (maxColumn + 1) for _ in range(steps + 1)]\n",
    "        dp[0][0] = 1\n",
    "\n",
    "        for i in range(1, steps + 1):\n",
    "            for j in range(0, maxColumn + 1):\n",
    "                dp[i][j] = dp[i - 1][j]\n",
    "                if j - 1 >= 0:\n",
    "                    dp[i][j] = (dp[i][j] + dp[i - 1][j - 1]) % mod\n",
    "                if j + 1 <= maxColumn:\n",
    "                    dp[i][j] = (dp[i][j] + dp[i - 1][j + 1]) % mod\n",
    "        \n",
    "        return dp[steps][0]\n",
    "\n"
   ]
  },
  {
   "cell_type": "code",
   "execution_count": 34,
   "metadata": {},
   "outputs": [
    {
     "name": "stdout",
     "output_type": "stream",
     "text": [
      "[[1, 0, 0, 0, 0, 0, 0, 0, 0, 0, 0, 0, 0, 0, 0, 0, 0, 0, 0, 0], [1, 1, 0, 0, 0, 0, 0, 0, 0, 0, 0, 0, 0, 0, 0, 0, 0, 0, 0, 0], [2, 2, 1, 0, 0, 0, 0, 0, 0, 0, 0, 0, 0, 0, 0, 0, 0, 0, 0, 0], [4, 5, 3, 1, 0, 0, 0, 0, 0, 0, 0, 0, 0, 0, 0, 0, 0, 0, 0, 0], [9, 12, 9, 4, 1, 0, 0, 0, 0, 0, 0, 0, 0, 0, 0, 0, 0, 0, 0, 0], [21, 30, 25, 14, 5, 1, 0, 0, 0, 0, 0, 0, 0, 0, 0, 0, 0, 0, 0, 0], [51, 76, 69, 44, 20, 6, 1, 0, 0, 0, 0, 0, 0, 0, 0, 0, 0, 0, 0, 0], [127, 196, 189, 133, 70, 27, 7, 1, 0, 0, 0, 0, 0, 0, 0, 0, 0, 0, 0, 0], [323, 512, 518, 392, 230, 104, 35, 8, 1, 0, 0, 0, 0, 0, 0, 0, 0, 0, 0, 0]]\n",
      "323\n"
     ]
    }
   ],
   "source": [
    "# 采用动态规划的方法，靠自己写一遍\n",
    "def numWays(steps: int, arrLen: int) -> int:\n",
    "    # 最后的结果取余10**9 + 7 \n",
    "#     a[i][j]代表还有i步，index在j的位置的方案数\n",
    "    # 先不取余\n",
    "    # 可以，差不多跟答案一样了....,还是需要多练练，这种问数量的问题基本上都是动态规划，，，\n",
    "    dp = [[0]*(arrLen) for _ in range(steps+1)]\n",
    "#     print(dp)\n",
    "    dp[0][0] = 1\n",
    "    for i in range(1,steps+1):\n",
    "        for j in range(arrLen):\n",
    "            dp[i][j] += dp[i-1][j]\n",
    "            if j-1 >= 0:\n",
    "                dp[i][j] += dp[i-1][j-1]\n",
    "            if j +1 < arrLen:\n",
    "                dp[i][j] += dp[i-1][j+1]\n",
    "    print(dp)\n",
    "    print(dp[steps][0])\n",
    "    pass\n",
    "steps = 8\n",
    "arrLen = 20\n",
    "numWays(steps,arrLen)"
   ]
  },
  {
   "cell_type": "code",
   "execution_count": null,
   "metadata": {},
   "outputs": [],
   "source": []
  }
 ],
 "metadata": {
  "kernelspec": {
   "display_name": "Python 3",
   "language": "python",
   "name": "python3"
  },
  "language_info": {
   "codemirror_mode": {
    "name": "ipython",
    "version": 3
   },
   "file_extension": ".py",
   "mimetype": "text/x-python",
   "name": "python",
   "nbconvert_exporter": "python",
   "pygments_lexer": "ipython3",
   "version": "3.6.9"
  }
 },
 "nbformat": 4,
 "nbformat_minor": 4
}
