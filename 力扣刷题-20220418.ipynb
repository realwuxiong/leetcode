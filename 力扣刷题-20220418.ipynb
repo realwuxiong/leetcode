{
 "cells": [
  {
   "cell_type": "code",
   "execution_count": 7,
   "metadata": {},
   "outputs": [
    {
     "data": {
      "text/plain": [
       "[1, 10, 11, 12, 13, 14, 15, 2, 3, 4, 5, 6, 7, 8, 9]"
      ]
     },
     "execution_count": 7,
     "metadata": {},
     "output_type": "execute_result"
    }
   ],
   "source": [
    "# 386. 字典序排数\n",
    "# https://leetcode-cn.com/problems/lexicographical-numbers/\n",
    "\n",
    "from typing import List\n",
    "def lexicalOrder(n: int) -> List[int]:\n",
    "    # 用深度优先搜索\n",
    "    ans = []\n",
    "    def dfs(i):\n",
    "        if i > n:\n",
    "            return\n",
    "        ans.append(i)\n",
    "        for j in range(10):\n",
    "            dfs(j+i*10)\n",
    "    for i in range(1,10):\n",
    "        dfs(i)\n",
    "    return ans\n",
    "    pass\n",
    "n = 15\n",
    "lexicalOrder(n)"
   ]
  }
 ],
 "metadata": {
  "kernelspec": {
   "display_name": "Python 3",
   "language": "python",
   "name": "python3"
  },
  "language_info": {
   "codemirror_mode": {
    "name": "ipython",
    "version": 3
   },
   "file_extension": ".py",
   "mimetype": "text/x-python",
   "name": "python",
   "nbconvert_exporter": "python",
   "pygments_lexer": "ipython3",
   "version": "3.6.9"
  },
  "toc-autonumbering": false,
  "toc-showcode": false,
  "toc-showmarkdowntxt": false,
  "toc-showtags": false
 },
 "nbformat": 4,
 "nbformat_minor": 4
}
