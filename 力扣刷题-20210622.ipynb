{
 "cells": [
  {
   "cell_type": "code",
   "execution_count": 16,
   "metadata": {},
   "outputs": [
    {
     "name": "stdout",
     "output_type": "stream",
     "text": [
      "[False, False, False]\n"
     ]
    }
   ],
   "source": [
    "# 剑指 Offer 38. 字符串的排列\n",
    "# https://leetcode-cn.com/problems/zi-fu-chuan-de-pai-lie-lcof/\n",
    "\n",
    "# 艹又做不出来\n",
    "def permutation(s: str):\n",
    "    s = list(set(s))\n",
    "#     print(s)\n",
    "    n = len(s)\n",
    "    ans = []\n",
    "    stack = []\n",
    "    flag = [False] * n\n",
    "    def dfs():\n",
    "        \n",
    "    pass\n",
    "s = \"abc\"\n",
    "permutation(s)"
   ]
  },
  {
   "cell_type": "code",
   "execution_count": null,
   "metadata": {},
   "outputs": [],
   "source": [
    "class Solution {\n",
    "    List<String> rec;\n",
    "    boolean[] vis;\n",
    "\n",
    "    public String[] permutation(String s) {\n",
    "        int n = s.length();\n",
    "        rec = new ArrayList<String>();\n",
    "        vis = new boolean[n];\n",
    "        char[] arr = s.toCharArray();\n",
    "        Arrays.sort(arr);\n",
    "        StringBuffer perm = new StringBuffer();\n",
    "        backtrack(arr, 0, n, perm);\n",
    "        int size = rec.size();\n",
    "        String[] recArr = new String[size];\n",
    "        for (int i = 0; i < size; i++) {\n",
    "            recArr[i] = rec.get(i);\n",
    "        }\n",
    "        return recArr;\n",
    "    }\n",
    "\n",
    "    public void backtrack(char[] arr, int i, int n, StringBuffer perm) {\n",
    "        if (i == n) {\n",
    "            rec.add(perm.toString());\n",
    "            return;\n",
    "        }\n",
    "        for (int j = 0; j < n; j++) {\n",
    "            if (vis[j] || (j > 0 && !vis[j - 1] && arr[j - 1] == arr[j])) {\n",
    "                continue;\n",
    "            }\n",
    "            vis[j] = true;\n",
    "            perm.append(arr[j]);\n",
    "            backtrack(arr, i + 1, n, perm);\n",
    "            perm.deleteCharAt(perm.length() - 1);\n",
    "            vis[j] = false;\n",
    "        }\n",
    "    }\n",
    "}\n"
   ]
  }
 ],
 "metadata": {
  "kernelspec": {
   "display_name": "Python 3",
   "language": "python",
   "name": "python3"
  },
  "language_info": {
   "codemirror_mode": {
    "name": "ipython",
    "version": 3
   },
   "file_extension": ".py",
   "mimetype": "text/x-python",
   "name": "python",
   "nbconvert_exporter": "python",
   "pygments_lexer": "ipython3",
   "version": "3.6.9"
  }
 },
 "nbformat": 4,
 "nbformat_minor": 4
}
