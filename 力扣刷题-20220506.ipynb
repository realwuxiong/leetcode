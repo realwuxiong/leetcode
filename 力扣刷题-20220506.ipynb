{
 "cells": [
  {
   "cell_type": "code",
   "execution_count": null,
   "metadata": {},
   "outputs": [],
   "source": [
    "# 933. 最近的请求次数\n",
    "# https://leetcode-cn.com/problems/number-of-recent-calls/\n",
    "\n",
    "class RecentCounter:\n",
    "\n",
    "    def __init__(self):\n",
    "        from collections import deque\n",
    "        self.stack = deque([])\n",
    "        \n",
    "\n",
    "\n",
    "    def ping(self, t: int) -> int:\n",
    "        self.stack.append(t)\n",
    "        # print(self.stack)\n",
    "        while self.stack and self.stack[0] + 3000 < t:\n",
    "            self.stack.popleft()\n",
    "\n",
    "\n",
    "        return len(self.stack)\n",
    "\n",
    "\n",
    "\n",
    "# Your RecentCounter object will be instantiated and called as such:\n",
    "# obj = RecentCounter()\n",
    "# param_1 = obj.ping(t)"
   ]
  }
 ],
 "metadata": {
  "kernelspec": {
   "display_name": "Python 3",
   "language": "python",
   "name": "python3"
  },
  "language_info": {
   "codemirror_mode": {
    "name": "ipython",
    "version": 3
   },
   "file_extension": ".py",
   "mimetype": "text/x-python",
   "name": "python",
   "nbconvert_exporter": "python",
   "pygments_lexer": "ipython3",
   "version": "3.6.9"
  },
  "toc-autonumbering": false,
  "toc-showcode": false,
  "toc-showmarkdowntxt": false,
  "toc-showtags": false
 },
 "nbformat": 4,
 "nbformat_minor": 4
}
