{
 "cells": [
  {
   "cell_type": "code",
   "execution_count": 12,
   "metadata": {},
   "outputs": [
    {
     "name": "stdout",
     "output_type": "stream",
     "text": [
      "1232\n"
     ]
    }
   ],
   "source": [
    "# 1190. 反转每对括号间的子串\n",
    "# https://leetcode-cn.com/problems/reverse-substrings-between-each-pair-of-parentheses/\n",
    "\n",
    "# 用堆栈试试。。。,这题目就很简单。。。\n",
    "def reverseParentheses(s: str) -> str:\n",
    "    stack = []\n",
    "    for ss in s:\n",
    "        if ss != \")\":\n",
    "            stack.append(ss)\n",
    "        elif ss == \")\":\n",
    "            t = []\n",
    "            while stack and stack[-1] != \"(\":\n",
    "                t.append(stack.pop())\n",
    "            stack.pop()\n",
    "            stack +=  t\n",
    "#             print(stack)\n",
    "    print(\"\".join(stack))\n",
    "    pass\n",
    "s = \"12(23)\"\n",
    "reverseParentheses(s)"
   ]
  },
  {
   "cell_type": "code",
   "execution_count": null,
   "metadata": {},
   "outputs": [],
   "source": [
    "AFWCasd342"
   ]
  }
 ],
 "metadata": {
  "kernelspec": {
   "display_name": "Python 3",
   "language": "python",
   "name": "python3"
  },
  "language_info": {
   "codemirror_mode": {
    "name": "ipython",
    "version": 3
   },
   "file_extension": ".py",
   "mimetype": "text/x-python",
   "name": "python",
   "nbconvert_exporter": "python",
   "pygments_lexer": "ipython3",
   "version": "3.6.9"
  }
 },
 "nbformat": 4,
 "nbformat_minor": 4
}
