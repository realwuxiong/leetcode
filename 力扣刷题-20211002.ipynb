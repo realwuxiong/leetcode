{
 "cells": [
  {
   "cell_type": "code",
   "execution_count": 9,
   "metadata": {},
   "outputs": [
    {
     "data": {
      "text/plain": [
       "'ffffffff'"
      ]
     },
     "execution_count": 9,
     "metadata": {},
     "output_type": "execute_result"
    }
   ],
   "source": [
    "# 405. 数字转换为十六进制数\n",
    "# https://leetcode-cn.com/problems/convert-a-number-to-hexadecimal/\n",
    "\n",
    "# 看的一个评论的做法\n",
    "def toHex(num: int) -> str:\n",
    "    if num == 0:\n",
    "        return '0'\n",
    "    hexdigits = '0123456789abcdef'\n",
    "    if num < 0:\n",
    "        num += 2 ** 32\n",
    "    ans = ''\n",
    "    while num:\n",
    "        ans += hexdigits[num % 16]\n",
    "        num //= 16\n",
    "    return ans[::-1]  #字符串翻转\n",
    "toHex(-1)"
   ]
  }
 ],
 "metadata": {
  "kernelspec": {
   "display_name": "Python 3",
   "language": "python",
   "name": "python3"
  },
  "language_info": {
   "codemirror_mode": {
    "name": "ipython",
    "version": 3
   },
   "file_extension": ".py",
   "mimetype": "text/x-python",
   "name": "python",
   "nbconvert_exporter": "python",
   "pygments_lexer": "ipython3",
   "version": "3.6.9"
  },
  "toc-autonumbering": false,
  "toc-showcode": false,
  "toc-showmarkdowntxt": false,
  "toc-showtags": false
 },
 "nbformat": 4,
 "nbformat_minor": 4
}
