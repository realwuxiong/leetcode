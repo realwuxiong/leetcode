{
 "cells": [
  {
   "cell_type": "code",
   "execution_count": 1,
   "metadata": {},
   "outputs": [
    {
     "data": {
      "text/plain": [
       "False"
      ]
     },
     "execution_count": 1,
     "metadata": {},
     "output_type": "execute_result"
    }
   ],
   "source": [
    "# 473. 火柴拼正方形\n",
    "# https://leetcode.cn/problems/matchsticks-to-square/\n",
    "\n",
    "from typing import List\n",
    "def makesquare(matchsticks: List[int]) -> bool:\n",
    "    # 看清题目的选择一共也就15根火柴，直接DFS就行吧。\n",
    "    # 居然没写出来，是看的答案，答案的方法一也是DFS\n",
    "    totalLen = sum(matchsticks)\n",
    "    if totalLen % 4:\n",
    "        return False\n",
    "    matchsticks.sort(reverse=True)\n",
    "\n",
    "    edges = [0] * 4\n",
    "    def dfs(idx: int) -> bool:\n",
    "        if idx == len(matchsticks):\n",
    "            return True\n",
    "        for i in range(4):\n",
    "            edges[i] += matchsticks[idx]\n",
    "            if edges[i] <= totalLen // 4 and dfs(idx + 1):\n",
    "                return True\n",
    "            edges[i] -= matchsticks[idx]\n",
    "        return False\n",
    "    return dfs(0)\n",
    "\n",
    "matchsticks = [3,3,3,3,4]\n",
    "makesquare(matchsticks)"
   ]
  }
 ],
 "metadata": {
  "kernelspec": {
   "display_name": "Python 3",
   "language": "python",
   "name": "python3"
  },
  "language_info": {
   "codemirror_mode": {
    "name": "ipython",
    "version": 3
   },
   "file_extension": ".py",
   "mimetype": "text/x-python",
   "name": "python",
   "nbconvert_exporter": "python",
   "pygments_lexer": "ipython3",
   "version": "3.6.9"
  },
  "toc-autonumbering": false,
  "toc-showcode": false,
  "toc-showmarkdowntxt": false,
  "toc-showtags": false
 },
 "nbformat": 4,
 "nbformat_minor": 4
}
