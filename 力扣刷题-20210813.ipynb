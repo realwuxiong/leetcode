{
 "cells": [
  {
   "cell_type": "code",
   "execution_count": 3,
   "metadata": {},
   "outputs": [
    {
     "data": {
      "text/plain": [
       "6"
      ]
     },
     "execution_count": 3,
     "metadata": {},
     "output_type": "execute_result"
    }
   ],
   "source": [
    "# 233. 数字 1 的个数\n",
    "# https://leetcode-cn.com/problems/number-of-digit-one/\n",
    "\n",
    "# 这个题如果暴力破解肯定过不了。。\n",
    "# 今天完全不想刷题，组会开的贼差。。。。\n",
    "def countDigitOne(n: int) -> int:\n",
    "    # mulk 表示 10^k\n",
    "    # 在下面的代码中，可以发现 k 并没有被直接使用到（都是使用 10^k）\n",
    "    # 但为了让代码看起来更加直观，这里保留了 k\n",
    "    k, mulk = 0, 1\n",
    "    ans = 0\n",
    "    while n >= mulk:\n",
    "        ans += (n // (mulk * 10)) * mulk + min(max(n % (mulk * 10) - mulk + 1, 0), mulk)\n",
    "        k += 1\n",
    "        mulk *= 10\n",
    "    return ans\n",
    "\n",
    "\n",
    "n = 13\n",
    "countDigitOne(n)"
   ]
  }
 ],
 "metadata": {
  "kernelspec": {
   "display_name": "Python 3",
   "language": "python",
   "name": "python3"
  },
  "language_info": {
   "codemirror_mode": {
    "name": "ipython",
    "version": 3
   },
   "file_extension": ".py",
   "mimetype": "text/x-python",
   "name": "python",
   "nbconvert_exporter": "python",
   "pygments_lexer": "ipython3",
   "version": "3.6.9"
  },
  "toc-autonumbering": false,
  "toc-showcode": false,
  "toc-showmarkdowntxt": false,
  "toc-showtags": false
 },
 "nbformat": 4,
 "nbformat_minor": 4
}
