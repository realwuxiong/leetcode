{
 "cells": [
  {
   "cell_type": "code",
   "execution_count": 5,
   "metadata": {},
   "outputs": [
    {
     "name": "stdout",
     "output_type": "stream",
     "text": [
      "[1, 2, 5, 7]\n"
     ]
    }
   ],
   "source": [
    "# 345. 反转字符串中的元音字母\n",
    "# https://leetcode-cn.com/problems/reverse-vowels-of-a-string/\n",
    "def reverseVowels(s: str) -> str:\n",
    "    \"\"\"\n",
    "    元音字母：aeiou\n",
    "    \"\"\"\n",
    "    \n",
    "    # 记录元音字母的index\n",
    "    s = list(s)\n",
    "    stack = [i for i in range(len(s)) if s[i] in \"aeiou\"]\n",
    "    \n",
    "    low = 0\n",
    "    high = len(stack)-1\n",
    "    \n",
    "    while low < high:\n",
    "        \n",
    "        \n",
    "    pass\n",
    "s = \"leetcode\"\n",
    "reverseVowels(s)"
   ]
  }
 ],
 "metadata": {
  "kernelspec": {
   "display_name": "Python 3",
   "language": "python",
   "name": "python3"
  },
  "language_info": {
   "codemirror_mode": {
    "name": "ipython",
    "version": 3
   },
   "file_extension": ".py",
   "mimetype": "text/x-python",
   "name": "python",
   "nbconvert_exporter": "python",
   "pygments_lexer": "ipython3",
   "version": "3.6.9"
  },
  "toc-autonumbering": false,
  "toc-showcode": false,
  "toc-showmarkdowntxt": false,
  "toc-showtags": false
 },
 "nbformat": 4,
 "nbformat_minor": 4
}
