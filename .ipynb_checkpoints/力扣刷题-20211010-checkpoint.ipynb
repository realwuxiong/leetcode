{
 "cells": [
  {
   "cell_type": "code",
   "execution_count": 6,
   "metadata": {},
   "outputs": [
    {
     "name": "stdout",
     "output_type": "stream",
     "text": [
      "1 3\n",
      "3 6\n",
      "6 10\n"
     ]
    },
    {
     "data": {
      "text/plain": [
       "3"
      ]
     },
     "execution_count": 6,
     "metadata": {},
     "output_type": "execute_result"
    }
   ],
   "source": [
    "# 441. 排列硬币\n",
    "# https://leetcode-cn.com/problems/arranging-coins/\n",
    "\n",
    "def arrangeCoins(n: int) -> int:\n",
    "    # 最多有多少行\n",
    "    # 应该用二分法试试，\n",
    "    for i in range(1,n+1):\n",
    "        a = (i+1)*i//2\n",
    "        b = (i+1+1)*(i+1)//2\n",
    "        if a <= n and b > n:\n",
    "            return i\n",
    "    \n",
    "arrangeCoins(8)\n"
   ]
  },
  {
   "cell_type": "code",
   "execution_count": 17,
   "metadata": {},
   "outputs": [
    {
     "data": {
      "text/plain": [
       "2"
      ]
     },
     "execution_count": 17,
     "metadata": {},
     "output_type": "execute_result"
    }
   ],
   "source": [
    "def arrangeCoins(n: int) -> int:\n",
    "    # 二分法\n",
    "    low,high = 1,n\n",
    "    while low < high:\n",
    "        mid = (high+low)//2\n",
    "        t = (1+mid)*mid//2\n",
    "        if t <= n:\n",
    "            low = mid + 1\n",
    "        elif t > n:\n",
    "            high = mid - 1\n",
    "    return low\n",
    "    \n",
    "arrangeCoins(2)"
   ]
  }
 ],
 "metadata": {
  "kernelspec": {
   "display_name": "Python 3",
   "language": "python",
   "name": "python3"
  },
  "language_info": {
   "codemirror_mode": {
    "name": "ipython",
    "version": 3
   },
   "file_extension": ".py",
   "mimetype": "text/x-python",
   "name": "python",
   "nbconvert_exporter": "python",
   "pygments_lexer": "ipython3",
   "version": "3.6.9"
  },
  "toc-autonumbering": false,
  "toc-showcode": false,
  "toc-showmarkdowntxt": false,
  "toc-showtags": false
 },
 "nbformat": 4,
 "nbformat_minor": 4
}
