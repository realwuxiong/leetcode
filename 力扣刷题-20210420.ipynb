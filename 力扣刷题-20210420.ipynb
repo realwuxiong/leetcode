{
 "cells": [
  {
   "cell_type": "code",
   "execution_count": 19,
   "metadata": {},
   "outputs": [
    {
     "data": {
      "text/plain": [
       "2"
      ]
     },
     "execution_count": 19,
     "metadata": {},
     "output_type": "execute_result"
    }
   ],
   "source": [
    "// 28. 实现 strStr()\n",
    "// https://leetcode-cn.com/problems/implement-strstr/\n",
    "// 实现java中的indexof()\n",
    "// 还可以用KMP算法，字符串匹配\n",
    "// java代码写的太费劲了\n",
    "public int strStr(String haystack, String needle) {\n",
    "    // 我操，java代码写的太费劲了。。。还得继续练习练习啊。\n",
    "    if(\"\".equals(needle)){\n",
    "        return 0;\n",
    "    }\n",
    "    if(needle.length()>haystack.length()){\n",
    "        return -1;\n",
    "    }\n",
    "    Boolean flag = true;\n",
    "    for(int i =0; i +needle.length() <= haystack.length();++i){\n",
    "        flag = true;\n",
    "//         System.out.println(i);\n",
    "        int t = i;\n",
    "        for(int j=0;j<needle.length();++j){\n",
    "            if(haystack.charAt(t++) != needle.charAt(j)){\n",
    "                flag = false;\n",
    "                break;\n",
    "            }\n",
    "        }\n",
    "        if(flag){\n",
    "            return i;\n",
    "        }\n",
    "        \n",
    "    }\n",
    "    return -1;\n",
    "}\n",
    "String haystack = \"hello\", needle = \"ll\";\n",
    "strStr(haystack,needle)"
   ]
  },
  {
   "cell_type": "code",
   "execution_count": 34,
   "metadata": {},
   "outputs": [
    {
     "name": "stdout",
     "output_type": "stream",
     "text": [
      "1"
     ]
    }
   ],
   "source": [
    "// 找最大值，最小值\n",
    "Integer []a = {1,2,3,4,6,10,5};\n",
    "Arrays.sort(a);\n",
    "\n",
    "System.out.print((int)Collections.min(Arrays.asList(a)));"
   ]
  },
  {
   "cell_type": "code",
   "execution_count": 44,
   "metadata": {},
   "outputs": [
    {
     "name": "stdout",
     "output_type": "stream",
     "text": [
      "[bbb, caa]"
     ]
    }
   ],
   "source": [
    "List<String> a = new ArrayList<String>();\n",
    "a.add(\"caa\");\n",
    "a.add(\"bbb\");\n",
    "Collections.sort(a);\n",
    "System.out.print(a);"
   ]
  }
 ],
 "metadata": {
  "kernelspec": {
   "display_name": "Java",
   "language": "java",
   "name": "java"
  },
  "language_info": {
   "codemirror_mode": "java",
   "file_extension": ".jshell",
   "mimetype": "text/x-java-source",
   "name": "Java",
   "pygments_lexer": "java",
   "version": "11.0.10+9-Ubuntu-0ubuntu1.18.04"
  }
 },
 "nbformat": 4,
 "nbformat_minor": 4
}
