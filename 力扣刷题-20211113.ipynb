{
 "cells": [
  {
   "cell_type": "code",
   "execution_count": 13,
   "metadata": {},
   "outputs": [
    {
     "data": {
      "text/plain": [
       "True"
      ]
     },
     "execution_count": 13,
     "metadata": {},
     "output_type": "execute_result"
    }
   ],
   "source": [
    "# 520. 检测大写字母\n",
    "# https://leetcode-cn.com/problems/detect-capital/\n",
    "\n",
    "def detectCapitalUse(word: str) -> bool:\n",
    "    if 'a'<=word[0]<='z':\n",
    "        return word == word.lower()\n",
    "    if 'A'<=word[0]<='Z':\n",
    "        word = word[1:]\n",
    "        return (word==word.upper() or word == word.lower())\n",
    "\n",
    "word = \"Leetcode\"\n",
    "detectCapitalUse(word)"
   ]
  }
 ],
 "metadata": {
  "kernelspec": {
   "display_name": "Python 3",
   "language": "python",
   "name": "python3"
  },
  "language_info": {
   "codemirror_mode": {
    "name": "ipython",
    "version": 3
   },
   "file_extension": ".py",
   "mimetype": "text/x-python",
   "name": "python",
   "nbconvert_exporter": "python",
   "pygments_lexer": "ipython3",
   "version": "3.6.9"
  },
  "toc-autonumbering": false,
  "toc-showcode": false,
  "toc-showmarkdowntxt": false,
  "toc-showtags": false
 },
 "nbformat": 4,
 "nbformat_minor": 4
}
