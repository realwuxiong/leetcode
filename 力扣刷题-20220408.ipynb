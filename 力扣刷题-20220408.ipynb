{
 "cells": [
  {
   "cell_type": "code",
   "execution_count": null,
   "metadata": {},
   "outputs": [],
   "source": [
    "# 429. N 叉树的层序遍历\n",
    "# https://leetcode-cn.com/problems/n-ary-tree-level-order-traversal/\n",
    "\"\"\"\n",
    "# Definition for a Node.\n",
    "class Node:\n",
    "    def __init__(self, val=None, children=None):\n",
    "        self.val = val\n",
    "        self.children = children\n",
    "\"\"\"\n",
    "\n",
    "class Solution:\n",
    "    def levelOrder(self, root: 'Node') -> List[List[int]]:\n",
    "        import collections\n",
    "        d = collections.deque()\n",
    "        ans = []\n",
    "        d.append(root)\n",
    "        while d:\n",
    "            size = len(d)\n",
    "            tem = []\n",
    "            for i in range(size):\n",
    "                node = d.popleft()\n",
    "                if node:\n",
    "                    tem.append(node.val)\n",
    "                    for child in node.children:\n",
    "                        d.append(child)\n",
    "            if tem:\n",
    "                ans.append(tem)\n",
    "        return ans\n"
   ]
  }
 ],
 "metadata": {
  "kernelspec": {
   "display_name": "Python 3",
   "language": "python",
   "name": "python3"
  },
  "language_info": {
   "codemirror_mode": {
    "name": "ipython",
    "version": 3
   },
   "file_extension": ".py",
   "mimetype": "text/x-python",
   "name": "python",
   "nbconvert_exporter": "python",
   "pygments_lexer": "ipython3",
   "version": "3.6.9"
  },
  "toc-autonumbering": false,
  "toc-showcode": false,
  "toc-showmarkdowntxt": false,
  "toc-showtags": false
 },
 "nbformat": 4,
 "nbformat_minor": 4
}
