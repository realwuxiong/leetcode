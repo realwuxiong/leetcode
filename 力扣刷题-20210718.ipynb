{
 "cells": [
  {
   "cell_type": "code",
   "execution_count": 7,
   "metadata": {},
   "outputs": [
    {
     "name": "stdout",
     "output_type": "stream",
     "text": [
      "[['eat', 'tea', 'ate'], ['tan', 'nat'], ['bat']]\n"
     ]
    }
   ],
   "source": [
    "# 面试题 10.02. 变位词组\n",
    "# https://leetcode-cn.com/problems/group-anagrams-lcci/\n",
    "# 很easy\n",
    "\n",
    "from typing import List\n",
    "def groupAnagrams(strs: List[str]) -> List[List[str]]:\n",
    "    # 用哈希值\n",
    "    myHashMap = {}\n",
    "    for s in strs:\n",
    "        ss = \"\".join(sorted(s))\n",
    "        if ss not in myHashMap.keys():\n",
    "            myHashMap[ss] = [s]\n",
    "        else:\n",
    "            myHashMap[ss].append(s)\n",
    "    print(list(myHashMap.values()))\n",
    "        \n",
    "    pass\n",
    "strs =  [\"eat\", \"tea\", \"tan\", \"ate\", \"nat\", \"bat\"]\n",
    "groupAnagrams(strs)"
   ]
  }
 ],
 "metadata": {
  "kernelspec": {
   "display_name": "Python 3",
   "language": "python",
   "name": "python3"
  },
  "language_info": {
   "codemirror_mode": {
    "name": "ipython",
    "version": 3
   },
   "file_extension": ".py",
   "mimetype": "text/x-python",
   "name": "python",
   "nbconvert_exporter": "python",
   "pygments_lexer": "ipython3",
   "version": "3.6.9"
  }
 },
 "nbformat": 4,
 "nbformat_minor": 4
}
