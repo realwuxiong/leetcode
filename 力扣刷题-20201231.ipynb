{
 "cells": [
  {
   "cell_type": "code",
   "execution_count": 2,
   "metadata": {},
   "outputs": [
    {
     "data": {
      "text/plain": [
       "True"
      ]
     },
     "execution_count": 2,
     "metadata": {},
     "output_type": "execute_result"
    }
   ],
   "source": [
    "//  435. 无重叠区间\n",
    "//  https://leetcode-cn.com/problems/non-overlapping-intervals/\n",
    "//  第一感觉的思路： 先把最大的区间找出来。\n",
    "//  动态规划。。。。哎，感觉不想写了。。。。。。。。。。。。。。\n",
    "\n",
    "class Solution {\n",
    "    public int eraseOverlapIntervals(int[][] intervals) {\n",
    "        if (intervals.length == 0) {\n",
    "            return 0;\n",
    "        }\n",
    "        \n",
    "        Arrays.sort(intervals, new Comparator<int[]>() {\n",
    "            public int compare(int[] interval1, int[] interval2) {\n",
    "                return interval1[0] - interval2[0];\n",
    "            }\n",
    "        });\n",
    "\n",
    "        int n = intervals.length;\n",
    "        int[] f = new int[n];\n",
    "        Arrays.fill(f, 1);\n",
    "        for (int i = 1; i < n; ++i) {\n",
    "            for (int j = 0; j < i; ++j) {\n",
    "                if (intervals[j][1] <= intervals[i][0]) {\n",
    "                    f[i] = Math.max(f[i], f[j] + 1);\n",
    "                }\n",
    "            }\n",
    "        }\n",
    "        return n - Arrays.stream(f).max().getAsInt();\n",
    "    }\n",
    "}\n",
    "\n"
   ]
  }
 ],
 "metadata": {
  "kernelspec": {
   "display_name": "Java",
   "language": "java",
   "name": "java"
  },
  "language_info": {
   "codemirror_mode": "java",
   "file_extension": ".jshell",
   "mimetype": "text/x-java-source",
   "name": "Java",
   "pygments_lexer": "java",
   "version": "11.0.9.1+1-Ubuntu-0ubuntu1.20.04"
  }
 },
 "nbformat": 4,
 "nbformat_minor": 4
}
