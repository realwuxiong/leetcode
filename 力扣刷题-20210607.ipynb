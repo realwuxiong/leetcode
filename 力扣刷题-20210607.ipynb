{
 "cells": [
  {
   "cell_type": "code",
   "execution_count": 11,
   "metadata": {},
   "outputs": [
    {
     "name": "stdout",
     "output_type": "stream",
     "text": [
      "[1]\n",
      "1\n"
     ]
    }
   ],
   "source": [
    "# 494. 目标和\n",
    "# https://leetcode-cn.com/problems/target-sum/\n",
    "\n",
    "\n",
    "# 回溯法试试，但是超时了\n",
    "from typing import List\n",
    "def findTargetSumWays(nums: List[int], target: int) -> int:\n",
    "    stack = []\n",
    "    ans = []\n",
    "    def dfs(i):\n",
    "        if i == len(nums):\n",
    "            \n",
    "            if sum(stack) == target and len(stack) == len(nums):\n",
    "                print(stack)\n",
    "                ans.append(1)\n",
    "            return \n",
    "#         print(i)\n",
    "        for j in range(i,len(nums)):\n",
    "            stack.append(nums[j]*1)\n",
    "            dfs(j+1)\n",
    "            stack.pop()\n",
    "            stack.append(nums[j]*-1)\n",
    "            dfs(j+1)\n",
    "            stack.pop()\n",
    "    dfs(0)\n",
    "    print(sum(ans))\n",
    "    pass\n",
    "nums = [1]\n",
    "target = 1\n",
    "findTargetSumWays(nums,target)"
   ]
  }
 ],
 "metadata": {
  "kernelspec": {
   "display_name": "Python 3",
   "language": "python",
   "name": "python3"
  },
  "language_info": {
   "codemirror_mode": {
    "name": "ipython",
    "version": 3
   },
   "file_extension": ".py",
   "mimetype": "text/x-python",
   "name": "python",
   "nbconvert_exporter": "python",
   "pygments_lexer": "ipython3",
   "version": "3.6.9"
  }
 },
 "nbformat": 4,
 "nbformat_minor": 4
}
