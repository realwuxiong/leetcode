{
 "cells": [
  {
   "cell_type": "code",
   "execution_count": 33,
   "metadata": {},
   "outputs": [
    {
     "data": {
      "text/plain": [
       "2"
      ]
     },
     "execution_count": 33,
     "metadata": {},
     "output_type": "execute_result"
    }
   ],
   "source": [
    "# 581. 最短无序连续子数组\n",
    "# https://leetcode-cn.com/problems/shortest-unsorted-continuous-subarray/\n",
    "from typing import List\n",
    "def findUnsortedSubarray(nums: List[int]) -> int:\n",
    "    # 连续的子数组，这个到还挺简单的\n",
    "    # 单调栈解题\n",
    "    # 加快解答题目的时间，，，，，，太慢了\n",
    "    \n",
    "    # 一次遍历,还是得看答案，这几天是怎么了。。。。。\n",
    "     n = len(nums)\n",
    "    maxn, right = float(\"-inf\"), -1\n",
    "    minn, left = float(\"inf\"), -1\n",
    "    for i in range(len(nums)):\n",
    "        maxNums = -1\n",
    "        ans = []\n",
    "        for i in range(len(nums)):\n",
    "            if nums[i] < maxNums:\n",
    "                ans.append(i)\n",
    "            else:\n",
    "                maxNums = nums[i]\n",
    "        return ans[-1]-ans[0]+2 if ans else 0\n",
    "    \n",
    "    \n",
    "    \n",
    "    \n",
    "    pass\n",
    "nums =  [2,3,3,2,4]\n",
    "findUnsortedSubarray(nums)"
   ]
  }
 ],
 "metadata": {
  "kernelspec": {
   "display_name": "Python 3",
   "language": "python",
   "name": "python3"
  },
  "language_info": {
   "codemirror_mode": {
    "name": "ipython",
    "version": 3
   },
   "file_extension": ".py",
   "mimetype": "text/x-python",
   "name": "python",
   "nbconvert_exporter": "python",
   "pygments_lexer": "ipython3",
   "version": "3.6.9"
  },
  "toc-autonumbering": false,
  "toc-showcode": false,
  "toc-showmarkdowntxt": false,
  "toc-showtags": false
 },
 "nbformat": 4,
 "nbformat_minor": 4
}
