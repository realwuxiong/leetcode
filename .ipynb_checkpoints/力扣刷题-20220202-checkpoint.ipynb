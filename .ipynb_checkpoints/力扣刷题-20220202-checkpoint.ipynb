{
 "cells": [
  {
   "cell_type": "code",
   "execution_count": 5,
   "metadata": {},
   "outputs": [
    {
     "data": {
      "text/plain": [
       "'zxyxxe'"
      ]
     },
     "execution_count": 5,
     "metadata": {},
     "output_type": "execute_result"
    }
   ],
   "source": [
    "# 2000. 反转单词前缀\n",
    "# https://leetcode-cn.com/problems/reverse-prefix-of-word/\n",
    "def reversePrefix(word: str, ch: str) -> str:\n",
    "    index = word.find(ch)\n",
    "    if index == -1:\n",
    "        return word\n",
    "    word = list(word)\n",
    "    \n",
    "    low, high = 0,index\n",
    "    while low < high:\n",
    "        word[low],word[high] = word[high], word[low]\n",
    "        low += 1\n",
    "        high -= 1\n",
    "    return \"\".join(word)\n",
    "    pass\n",
    "word = \"xyxzxe\"\n",
    "ch = \"z\"\n",
    "reversePrefix(word,ch)"
   ]
  },
  {
   "cell_type": "code",
   "execution_count": 6,
   "metadata": {},
   "outputs": [
    {
     "ename": "SyntaxError",
     "evalue": "'return' outside function (<ipython-input-6-7fb16b9a500e>, line 3)",
     "output_type": "error",
     "traceback": [
      "\u001b[0;36m  File \u001b[0;32m\"<ipython-input-6-7fb16b9a500e>\"\u001b[0;36m, line \u001b[0;32m3\u001b[0m\n\u001b[0;31m    return word[:i][::-1] + word[i:]\u001b[0m\n\u001b[0m                                    ^\u001b[0m\n\u001b[0;31mSyntaxError\u001b[0m\u001b[0;31m:\u001b[0m 'return' outside function\n"
     ]
    }
   ],
   "source": [
    "# 看答案\n",
    "i = word.find(ch) + 1\n",
    "return word[:i][::-1] + word[i:]"
   ]
  }
 ],
 "metadata": {
  "kernelspec": {
   "display_name": "Python 3",
   "language": "python",
   "name": "python3"
  },
  "language_info": {
   "codemirror_mode": {
    "name": "ipython",
    "version": 3
   },
   "file_extension": ".py",
   "mimetype": "text/x-python",
   "name": "python",
   "nbconvert_exporter": "python",
   "pygments_lexer": "ipython3",
   "version": "3.6.9"
  },
  "toc-autonumbering": false,
  "toc-showcode": false,
  "toc-showmarkdowntxt": false,
  "toc-showtags": false
 },
 "nbformat": 4,
 "nbformat_minor": 4
}
