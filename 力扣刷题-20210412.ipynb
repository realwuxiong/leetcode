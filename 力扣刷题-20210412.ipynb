{
 "cells": [
  {
   "cell_type": "code",
   "execution_count": 19,
   "metadata": {},
   "outputs": [
    {
     "data": {
      "text/plain": [
       "'0'"
      ]
     },
     "execution_count": 19,
     "metadata": {},
     "output_type": "execute_result"
    }
   ],
   "source": [
    "# 179. 最大数\n",
    "# https://leetcode-cn.com/problems/largest-number/\n",
    "# 这个题目的思想可以好好理解理解。。。\n",
    "from typing import List\n",
    "import functools\n",
    "def largestNumber(nums: List[int]) -> str:\n",
    "    nums_str = list(map(str,nums))\n",
    "    def cmp(a,b):\n",
    "        return -1 if a+b>b+a else 1\n",
    "    nums_str.sort(key=functools.cmp_to_key(cmp))\n",
    "    res = \"\".join(nums_str)\n",
    "    return res if not res.startswith(\"0\") else \"0\"\n",
    "    pass\n",
    "\n",
    "nums = [0,0]\n",
    "largestNumber(nums)"
   ]
  },
  {
   "cell_type": "code",
   "execution_count": 7,
   "metadata": {},
   "outputs": [
    {
     "data": {
      "text/plain": [
       "2"
      ]
     },
     "execution_count": 7,
     "metadata": {},
     "output_type": "execute_result"
    }
   ],
   "source": [
    "# 输入三个数A、B、C，求A的B次方对C取余的结果。\n",
    "# 方法1\n",
    "def func1(A,B,C):\n",
    "    # A^B对C的取余的结果\n",
    "    return A**B%C\n",
    "# 方法2\n",
    "def func2(A,B,C):\n",
    "    # 先对A和B进行取余\n",
    "    A = A - (A//C)*C # A对C进行整除\n",
    "    if A == 0:\n",
    "        return 0\n",
    "    B = B - (B//C)*C # B对C进行整除\n",
    "    if B == 0:\n",
    "        return 0\n",
    "    return A**B%C\n",
    "# 方法3 快速幂\n",
    "def func3(A,B,C):\n",
    "    ans = 1\n",
    "    base = A\n",
    "    while B != 0:\n",
    "        if (B & 1 != 0):\n",
    "            ans *= base\n",
    "        base *= base\n",
    "        B >>= 1\n",
    "    return ans % C\n",
    "\n",
    "\n",
    "func3(2,31,3)"
   ]
  }
 ],
 "metadata": {
  "kernelspec": {
   "display_name": "Python 3",
   "language": "python",
   "name": "python3"
  },
  "language_info": {
   "codemirror_mode": {
    "name": "ipython",
    "version": 3
   },
   "file_extension": ".py",
   "mimetype": "text/x-python",
   "name": "python",
   "nbconvert_exporter": "python",
   "pygments_lexer": "ipython3",
   "version": "3.8.5"
  }
 },
 "nbformat": 4,
 "nbformat_minor": 4
}
