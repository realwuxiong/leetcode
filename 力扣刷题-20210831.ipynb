{
 "cells": [
  {
   "cell_type": "code",
   "execution_count": 12,
   "metadata": {},
   "outputs": [
    {
     "data": {
      "text/plain": [
       "[10, 25]"
      ]
     },
     "execution_count": 12,
     "metadata": {},
     "output_type": "execute_result"
    }
   ],
   "source": [
    "# 1109. 航班预订统计\n",
    "# https://leetcode-cn.com/problems/corporate-flight-bookings/\n",
    "from typing import List\n",
    "\n",
    "# 差分数组\n",
    "# 10:42-10:49\n",
    "def corpFlightBookings(bookings: List[List[int]], n: int) -> List[int]:\n",
    "    \n",
    "    # 总算来了差分数组\n",
    "    # 一次性AC\n",
    "    # 其实代码还可以写优雅一点，比如答案写的就很好\n",
    "    t = [0]*(n+2)\n",
    "    for booking in bookings:\n",
    "        t[booking[0]] += booking[2]\n",
    "        t[booking[1]+1] -= booking[2]\n",
    "    count = 0\n",
    "    ans = []\n",
    "    for i in range(1,n+1):\n",
    "        count += t[i]\n",
    "        ans.append(count)\n",
    "    \n",
    "    return ans\n",
    "\n",
    "bookings = [[1,2,10],[2,2,15]]\n",
    "n = 2\n",
    "corpFlightBookings(bookings,n)"
   ]
  },
  {
   "cell_type": "code",
   "execution_count": 13,
   "metadata": {},
   "outputs": [
    {
     "data": {
      "text/plain": [
       "[10, 25]"
      ]
     },
     "execution_count": 13,
     "metadata": {},
     "output_type": "execute_result"
    }
   ],
   "source": [
    "# 标准答案\n",
    "def corpFlightBookings(bookings: List[List[int]], n: int) -> List[int]:\n",
    "    nums = [0] * n\n",
    "    for left, right, inc in bookings:\n",
    "        nums[left - 1] += inc\n",
    "        if right < n:\n",
    "            nums[right] -= inc\n",
    "\n",
    "    for i in range(1, n):\n",
    "        nums[i] += nums[i - 1]\n",
    "\n",
    "    return nums\n",
    "\n",
    "bookings = [[1,2,10],[2,2,15]]\n",
    "n = 2\n",
    "corpFlightBookings(bookings,n)"
   ]
  }
 ],
 "metadata": {
  "kernelspec": {
   "display_name": "Python 3",
   "language": "python",
   "name": "python3"
  },
  "language_info": {
   "codemirror_mode": {
    "name": "ipython",
    "version": 3
   },
   "file_extension": ".py",
   "mimetype": "text/x-python",
   "name": "python",
   "nbconvert_exporter": "python",
   "pygments_lexer": "ipython3",
   "version": "3.6.9"
  },
  "toc-autonumbering": false,
  "toc-showcode": false,
  "toc-showmarkdowntxt": false,
  "toc-showtags": false
 },
 "nbformat": 4,
 "nbformat_minor": 4
}
