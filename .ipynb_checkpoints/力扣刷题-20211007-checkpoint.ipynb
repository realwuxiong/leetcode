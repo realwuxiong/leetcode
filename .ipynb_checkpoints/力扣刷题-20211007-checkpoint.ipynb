{
 "cells": [
  {
   "cell_type": "code",
   "execution_count": 1,
   "metadata": {},
   "outputs": [
    {
     "data": {
      "text/plain": [
       "5"
      ]
     },
     "execution_count": 1,
     "metadata": {},
     "output_type": "execute_result"
    }
   ],
   "source": [
    "# 434. 字符串中的单词数\n",
    "# https://leetcode-cn.com/problems/number-of-segments-in-a-string/\n",
    "# 这几天的题目还挺简单的\n",
    "def countSegments(s: str) -> int:\n",
    "    return len(s.split())\n",
    "    pass\n",
    "\n",
    "s = \"Hello, my name is John\"\n",
    "countSegments(s)"
   ]
  }
 ],
 "metadata": {
  "kernelspec": {
   "display_name": "Python 3",
   "language": "python",
   "name": "python3"
  },
  "language_info": {
   "codemirror_mode": {
    "name": "ipython",
    "version": 3
   },
   "file_extension": ".py",
   "mimetype": "text/x-python",
   "name": "python",
   "nbconvert_exporter": "python",
   "pygments_lexer": "ipython3",
   "version": "3.6.9"
  },
  "toc-autonumbering": false,
  "toc-showcode": false,
  "toc-showmarkdowntxt": false,
  "toc-showtags": false
 },
 "nbformat": 4,
 "nbformat_minor": 4
}
