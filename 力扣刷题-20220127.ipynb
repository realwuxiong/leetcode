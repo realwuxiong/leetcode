{
 "cells": [
  {
   "cell_type": "code",
   "execution_count": null,
   "metadata": {},
   "outputs": [],
   "source": [
    "# 2047. 句子中的有效单词数\n",
    "# https://leetcode-cn.com/problems/number-of-valid-words-in-a-sentence/\n",
    "\n",
    "# 简单题也开始抄答案了。。。正则没写出来。。。\n",
    "def countValidWords(sentence: str) -> int:\n",
    "    def valid(s: str) -> bool:\n",
    "        hasHyphens = False\n",
    "        for i, ch in enumerate(s):\n",
    "            if ch.isdigit() or ch in \"!.,\" and i < len(s) - 1:\n",
    "                return False\n",
    "            if ch == '-':\n",
    "                if hasHyphens or i == 0 or i == len(s) - 1 or not s[i - 1].islower() or not s[i + 1].islower():\n",
    "                    return False\n",
    "                hasHyphens = True\n",
    "        return True\n",
    "\n",
    "    return sum(valid(s) for s in sentence.split())\n",
    "\n",
    "countValidWords(sentence)"
   ]
  }
 ],
 "metadata": {
  "kernelspec": {
   "display_name": "Python 3",
   "language": "python",
   "name": "python3"
  },
  "language_info": {
   "codemirror_mode": {
    "name": "ipython",
    "version": 3
   },
   "file_extension": ".py",
   "mimetype": "text/x-python",
   "name": "python",
   "nbconvert_exporter": "python",
   "pygments_lexer": "ipython3",
   "version": "3.6.9"
  },
  "toc-autonumbering": false,
  "toc-showcode": false,
  "toc-showmarkdowntxt": false,
  "toc-showtags": false
 },
 "nbformat": 4,
 "nbformat_minor": 4
}
