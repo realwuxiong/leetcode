{
 "cells": [
  {
   "cell_type": "code",
   "execution_count": 3,
   "metadata": {},
   "outputs": [
    {
     "data": {
      "text/plain": [
       "[4, 2, 3, 1]"
      ]
     },
     "execution_count": 3,
     "metadata": {},
     "output_type": "execute_result"
    }
   ],
   "source": [
    "# 面试题 17.14. 最小K个数\n",
    "# https://leetcode-cn.com/problems/smallest-k-lcci/\n",
    "\n",
    "from typing import List\n",
    "def smallestK(arr: List[int], k: int) -> List[int]:\n",
    "    import heapq\n",
    "    \n",
    "    ans = []\n",
    "    heapq.heapify(ans)\n",
    "    for a in arr:\n",
    "        if len(ans)<k:\n",
    "            heapq.heappush(ans,-a)\n",
    "        else:\n",
    "            heapq.heappush(ans,-a)\n",
    "            heapq.heappop(ans)\n",
    "    \n",
    "    return list(map(lambda n:-n,ans))\n",
    "    \n",
    "    \n",
    "    pass\n",
    "arr = [1,3,5,7,2,4,6,8]\n",
    "k = 4\n",
    "smallestK(arr,k)"
   ]
  },
  {
   "cell_type": "code",
   "execution_count": 16,
   "metadata": {},
   "outputs": [
    {
     "name": "stdout",
     "output_type": "stream",
     "text": [
      "0 0 0\n",
      "[1, 3, 5, 7, 2, 4, 6, 8]\n"
     ]
    }
   ],
   "source": [
    "# 用快排思路写一下\n",
    "\n",
    "from typing import List\n",
    "def smallestK(arr: List[int], k: int) -> List[int]:\n",
    "    \n",
    "    def similarQuickSort(start,end):\n",
    "        low = start\n",
    "        high = end\n",
    "        if low >= high:\n",
    "            return \n",
    "        \n",
    "#         if low == k -1:\n",
    "#             return\n",
    "        t = arr[low]\n",
    "        while low < high:\n",
    "            while low < high and arr[high] >= t:\n",
    "                high -= 1\n",
    "            arr[low] = arr[high]\n",
    "            while low < high and arr[low] <= t:\n",
    "                low += 1\n",
    "            arr[high] = arr[low]\n",
    "            arr[low] = t\n",
    "        print(start,low,high)\n",
    "        similarQuickSort(start,low-1)\n",
    "        similarQuickSort(low+1,high)\n",
    "    \n",
    "    similarQuickSort(0,len(arr)-1)\n",
    "    print(arr)\n",
    "        \n",
    "arr = [1,3,5,7,2,4,6,8]\n",
    "k = 4\n",
    "smallestK(arr,k)"
   ]
  }
 ],
 "metadata": {
  "kernelspec": {
   "display_name": "Python 3",
   "language": "python",
   "name": "python3"
  },
  "language_info": {
   "codemirror_mode": {
    "name": "ipython",
    "version": 3
   },
   "file_extension": ".py",
   "mimetype": "text/x-python",
   "name": "python",
   "nbconvert_exporter": "python",
   "pygments_lexer": "ipython3",
   "version": "3.6.9"
  },
  "toc-autonumbering": false,
  "toc-showcode": false,
  "toc-showmarkdowntxt": false,
  "toc-showtags": false
 },
 "nbformat": 4,
 "nbformat_minor": 4
}
