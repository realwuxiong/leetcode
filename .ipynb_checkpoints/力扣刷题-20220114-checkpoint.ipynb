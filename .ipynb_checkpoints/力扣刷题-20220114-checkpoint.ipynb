{
 "cells": [
  {
   "cell_type": "code",
   "execution_count": 2,
   "metadata": {},
   "outputs": [
    {
     "data": {
      "text/plain": [
       "[[1, 3], [2, 3]]"
      ]
     },
     "execution_count": 2,
     "metadata": {},
     "output_type": "execute_result"
    }
   ],
   "source": [
    "# 373. 查找和最小的 K 对数字\n",
    "# https://leetcode-cn.com/problems/find-k-pairs-with-smallest-sums/\n",
    "\n",
    "# 方法一\n",
    "from typing import List\n",
    "def kSmallestPairs(nums1: List[int], nums2: List[int], k: int) -> List[List[int]]:\n",
    "    # 方法肯定是对的，但是超时\n",
    "    ans = []\n",
    "    for num1 in nums1:\n",
    "        for num2 in nums2:\n",
    "            ans.append([num1,num2])\n",
    "    ans.sort(key = lambda x : x[0]+x[1])\n",
    "    return ans[:k]\n",
    "    pass\n",
    "\n",
    "nums1 = [1,2]\n",
    "nums2 = [3]\n",
    "k = 3 \n",
    "kSmallestPairs(nums1,nums2,k)"
   ]
  },
  {
   "cell_type": "code",
   "execution_count": null,
   "metadata": {},
   "outputs": [],
   "source": [
    "# 方法二 用贪心\n",
    "from typing import List\n",
    "def kSmallestPairs(nums1: List[int], nums2: List[int], k: int) -> List[List[int]]:\n",
    "    ans = []\n",
    "    \n",
    "    i,j = 0,0\n",
    "    m,n = len(nums1),len(nums2)\n",
    "    ans.append([nums1[0],nums2[0]])\n",
    "    while True:\n",
    "        if nums1[i]+nums2[j+1] < nums1[i+1]+nums2[j]:\n",
    "            j = (j+1)%n\n",
    "            ans.append([nums1[i],nums2[j+1]])\n",
    "        else:\n",
    "            i = (i+1)%m\n",
    "            ans.append([nums1[i],nums2[j+1]])\n",
    "        if len(ans) == k:\n",
    "            return ans\n",
    "    \n",
    "    \n",
    "    pass\n",
    "\n",
    "nums1 = [1,2]\n",
    "nums2 = [3]\n",
    "k = 3 \n",
    "kSmallestPairs(nums1,nums2,k)"
   ]
  }
 ],
 "metadata": {
  "kernelspec": {
   "display_name": "Python 3",
   "language": "python",
   "name": "python3"
  },
  "language_info": {
   "codemirror_mode": {
    "name": "ipython",
    "version": 3
   },
   "file_extension": ".py",
   "mimetype": "text/x-python",
   "name": "python",
   "nbconvert_exporter": "python",
   "pygments_lexer": "ipython3",
   "version": "3.6.9"
  },
  "toc-autonumbering": false,
  "toc-showcode": false,
  "toc-showmarkdowntxt": false,
  "toc-showtags": false
 },
 "nbformat": 4,
 "nbformat_minor": 4
}
