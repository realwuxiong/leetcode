{
 "cells": [
  {
   "cell_type": "code",
   "execution_count": 53,
   "metadata": {},
   "outputs": [
    {
     "data": {
      "text/plain": [
       "'13211311123113112211'"
      ]
     },
     "execution_count": 53,
     "metadata": {},
     "output_type": "execute_result"
    }
   ],
   "source": [
    "# 38. 外观数列\n",
    "# https://leetcode-cn.com/problems/count-and-say/\n",
    "\n",
    "# 复制粘贴，不想做。。。。。。。。\n",
    "def countAndSay(n: int) -> str:\n",
    "    prev = \"1\"\n",
    "    for i in range(n-1):\n",
    "        curr = \"\"\n",
    "        pos = 0\n",
    "        start = 0\n",
    "\n",
    "        while pos < len(prev):\n",
    "            while pos < len(prev) and prev[pos] == prev[start]:\n",
    "                pos += 1\n",
    "            curr += str(pos - start) + prev[start]\n",
    "            start = pos\n",
    "        prev = curr\n",
    "\n",
    "    return prev\n",
    "n = 10\n",
    "countAndSay(n)"
   ]
  },
  {
   "cell_type": "code",
   "execution_count": 56,
   "metadata": {},
   "outputs": [
    {
     "data": {
      "text/plain": [
       "'13211311123113112211'"
      ]
     },
     "execution_count": 56,
     "metadata": {},
     "output_type": "execute_result"
    }
   ],
   "source": [
    "# 第二天补的（10月16日）\n",
    "def countAndSay(n: int) -> str:\n",
    "    pre = \"1\"\n",
    "    for i in range(n-1):\n",
    "#         print(pre)\n",
    "        tem = \"\"\n",
    "        if(i == 0):\n",
    "            pre = \"11\"\n",
    "            continue\n",
    "        count = 1\n",
    "        for j in range(1,len(pre)):\n",
    "            if pre[j] != pre[j-1]:\n",
    "                tem += str(count)+pre[j-1]\n",
    "                count = 0\n",
    "            count += 1\n",
    "        if pre[-1] == pre[-2]:\n",
    "            tem += str(count)+pre[-1]\n",
    "        else:\n",
    "            tem += str(count)+pre[-1]\n",
    "        pre = tem\n",
    "    return pre\n",
    "countAndSay(10)"
   ]
  }
 ],
 "metadata": {
  "kernelspec": {
   "display_name": "Python 3",
   "language": "python",
   "name": "python3"
  },
  "language_info": {
   "codemirror_mode": {
    "name": "ipython",
    "version": 3
   },
   "file_extension": ".py",
   "mimetype": "text/x-python",
   "name": "python",
   "nbconvert_exporter": "python",
   "pygments_lexer": "ipython3",
   "version": "3.6.9"
  },
  "toc-autonumbering": false,
  "toc-showcode": false,
  "toc-showmarkdowntxt": false,
  "toc-showtags": false
 },
 "nbformat": 4,
 "nbformat_minor": 4
}
