{
 "cells": [
  {
   "cell_type": "code",
   "execution_count": 13,
   "metadata": {},
   "outputs": [
    {
     "name": "stdout",
     "output_type": "stream",
     "text": [
      "[-1, 4, 4, 5]\n"
     ]
    }
   ],
   "source": [
    "# // 503. 下一个更大元素 II\n",
    "# // https://leetcode-cn.com/problems/next-greater-element-ii/\n",
    "#  第一感觉就是采用单调栈\n",
    "# 09:35开始\n",
    "# 09:53结束\n",
    "# 一波就写出来了，哈哈哈开心。。。。\n",
    "from typing import List\n",
    "def nextGreaterElements(nums: List[int]) -> List[int]:\n",
    "    # 单调栈\n",
    "    # 难点就是解决循环的问题\n",
    "    res = [-1]*len(nums)\n",
    "    stack = []\n",
    "    for i in range(len(nums)*2):  # 两倍长度就可以解决。\n",
    "        i = i % len(nums)\n",
    "        while stack and nums[stack[-1]] < nums[i]:\n",
    "            res[stack[-1]] = nums[i]\n",
    "            stack.pop()\n",
    "        stack.append(i)\n",
    "    print(res)\n",
    "\n",
    "nums = [5,2,1,4]\n",
    "nextGreaterElements(nums)"
   ]
  }
 ],
 "metadata": {
  "kernelspec": {
   "display_name": "Python 3",
   "language": "python",
   "name": "python3"
  },
  "language_info": {
   "codemirror_mode": {
    "name": "ipython",
    "version": 3
   },
   "file_extension": ".py",
   "mimetype": "text/x-python",
   "name": "python",
   "nbconvert_exporter": "python",
   "pygments_lexer": "ipython3",
   "version": "3.8.5"
  }
 },
 "nbformat": 4,
 "nbformat_minor": 4
}
