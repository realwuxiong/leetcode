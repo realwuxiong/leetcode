{
 "cells": [
  {
   "cell_type": "code",
   "execution_count": 5,
   "metadata": {},
   "outputs": [
    {
     "data": {
      "text/plain": [
       "False"
      ]
     },
     "execution_count": 5,
     "metadata": {},
     "output_type": "execute_result"
    }
   ],
   "source": [
    "# 859. 亲密字符串\n",
    "# https://leetcode-cn.com/problems/buddy-strings/\n",
    "\n",
    "# 简单题也不简单啊.......抄的答案\n",
    "def buddyStrings(s: str, goal: str) -> bool:\n",
    "    if len(s) != len(goal):\n",
    "        return False\n",
    "    if s == goal:\n",
    "        if len(set(s)) < len(goal): \n",
    "            return True\n",
    "        else:\n",
    "            return False\n",
    "    diff = [(a, b) for a, b in zip(s, goal) if a != b]\n",
    "    return len(diff) == 2 and diff[0][0] == diff[1][1] and diff[0][1] == diff[1][0]\n",
    "\n",
    "s = \"ab\"\n",
    "goal = \"ab\"\n",
    "buddyStrings(s,goal)"
   ]
  }
 ],
 "metadata": {
  "kernelspec": {
   "display_name": "Python 3",
   "language": "python",
   "name": "python3"
  },
  "language_info": {
   "codemirror_mode": {
    "name": "ipython",
    "version": 3
   },
   "file_extension": ".py",
   "mimetype": "text/x-python",
   "name": "python",
   "nbconvert_exporter": "python",
   "pygments_lexer": "ipython3",
   "version": "3.6.9"
  },
  "toc-autonumbering": false,
  "toc-showcode": false,
  "toc-showmarkdowntxt": false,
  "toc-showtags": false
 },
 "nbformat": 4,
 "nbformat_minor": 4
}
