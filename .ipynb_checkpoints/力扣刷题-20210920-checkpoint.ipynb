{
 "cells": [
  {
   "cell_type": "code",
   "execution_count": 7,
   "metadata": {},
   "outputs": [
    {
     "data": {
      "text/plain": [
       "2"
      ]
     },
     "execution_count": 7,
     "metadata": {},
     "output_type": "execute_result"
    }
   ],
   "source": [
    "# 673. 最长递增子序列的个数\n",
    "# https://leetcode-cn.com/problems/number-of-longest-increasing-subsequence/\n",
    "\n",
    "# 是300的变形。。不想做，后面再看看。\n",
    "from typing import List\n",
    "def findNumberOfLIS(nums: List[int]) -> int:\n",
    "    n, max_len, ans = len(nums), 0, 0\n",
    "    dp = [0] * n\n",
    "    cnt = [0] * n\n",
    "    for i, x in enumerate(nums):\n",
    "        dp[i] = 1\n",
    "        cnt[i] = 1\n",
    "        for j in range(i):\n",
    "            if x > nums[j]:\n",
    "                if dp[j] + 1 > dp[i]:\n",
    "                    dp[i] = dp[j] + 1\n",
    "                    cnt[i] = cnt[j]  # 重置计数\n",
    "                elif dp[j] + 1 == dp[i]:\n",
    "                    cnt[i] += cnt[j]\n",
    "        if dp[i] > max_len:\n",
    "            max_len = dp[i]\n",
    "            ans = cnt[i]  # 重置计数\n",
    "        elif dp[i] == max_len:\n",
    "            ans += cnt[i]\n",
    "    return ans\n",
    "\n",
    "\n",
    "nums = [1,3,5,4,7]\n",
    "findNumberOfLIS(nums)"
   ]
  },
  {
   "cell_type": "code",
   "execution_count": 6,
   "metadata": {},
   "outputs": [
    {
     "data": {
      "text/plain": [
       "4"
      ]
     },
     "execution_count": 6,
     "metadata": {},
     "output_type": "execute_result"
    }
   ],
   "source": [
    "# 300. 最长递增子序列\n",
    "# https://leetcode-cn.com/problems/longest-increasing-subsequence/\n",
    "\n",
    "from typing import List\n",
    "def lengthOfLIS(nums: List[int]) -> int:\n",
    "    n = len(nums)\n",
    "    ans = [1] * n\n",
    "    cnt = [0] * n\n",
    "    for i in range(1,n):\n",
    "        for j in range(i):\n",
    "            if nums[i] > nums[j] and ans[j]+1>ans[i]:\n",
    "                ans[i] = ans[j] + 1\n",
    "    return max(ans)\n",
    "nums = [1,3,5,4,7]\n",
    "lengthOfLIS(nums)"
   ]
  }
 ],
 "metadata": {
  "kernelspec": {
   "display_name": "Python 3",
   "language": "python",
   "name": "python3"
  },
  "language_info": {
   "codemirror_mode": {
    "name": "ipython",
    "version": 3
   },
   "file_extension": ".py",
   "mimetype": "text/x-python",
   "name": "python",
   "nbconvert_exporter": "python",
   "pygments_lexer": "ipython3",
   "version": "3.6.9"
  },
  "toc-autonumbering": false,
  "toc-showcode": false,
  "toc-showmarkdowntxt": false,
  "toc-showtags": false
 },
 "nbformat": 4,
 "nbformat_minor": 4
}
