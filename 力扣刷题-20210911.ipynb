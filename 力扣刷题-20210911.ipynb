{
 "cells": [
  {
   "cell_type": "code",
   "execution_count": null,
   "metadata": {},
   "outputs": [],
   "source": [
    "# 600. 不含连续1的非负整数\n",
    "# https://leetcode-cn.com/problems/non-negative-integers-without-consecutive-ones/\n",
    "\n",
    "# 不想做，后面再补一补\n",
    "class Solution:\n",
    "    def findIntegers(self, n: int) -> int:\n",
    "        dp = [0] * 31\n",
    "        dp[0] = 1\n",
    "        dp[1] = 1\n",
    "        for i in range(2, 31):\n",
    "            dp[i] = dp[i - 1] + dp[i - 2]\n",
    "\n",
    "        pre = 0\n",
    "        res = 0\n",
    "\n",
    "        for i in range(29, -1, -1):\n",
    "            val = (1 << i)\n",
    "            if n & val:\n",
    "                res += dp[i + 1]\n",
    "                if pre == 1:\n",
    "                    break\n",
    "                pre = 1\n",
    "            else:\n",
    "                pre = 0\n",
    "\n",
    "            if i == 0:\n",
    "                res += 1\n",
    "\n",
    "        return res\n"
   ]
  }
 ],
 "metadata": {
  "kernelspec": {
   "display_name": "Python 3",
   "language": "python",
   "name": "python3"
  },
  "language_info": {
   "codemirror_mode": {
    "name": "ipython",
    "version": 3
   },
   "file_extension": ".py",
   "mimetype": "text/x-python",
   "name": "python",
   "nbconvert_exporter": "python",
   "pygments_lexer": "ipython3",
   "version": "3.6.9"
  },
  "toc-autonumbering": false,
  "toc-showcode": false,
  "toc-showmarkdowntxt": false,
  "toc-showtags": false
 },
 "nbformat": 4,
 "nbformat_minor": 4
}
