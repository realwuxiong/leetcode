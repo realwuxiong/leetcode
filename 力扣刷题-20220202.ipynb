{
 "cells": [
  {
   "cell_type": "code",
   "execution_count": 5,
   "metadata": {},
   "outputs": [
    {
     "data": {
      "text/plain": [
       "'zxyxxe'"
      ]
     },
     "execution_count": 5,
     "metadata": {},
     "output_type": "execute_result"
    }
   ],
   "source": [
    "# 2000. 反转单词前缀\n",
    "# https://leetcode-cn.com/problems/reverse-prefix-of-word/\n",
    "def reversePrefix(word: str, ch: str) -> str:\n",
    "    index = word.find(ch)\n",
    "    if index == -1:\n",
    "        return word\n",
    "    word = list(word)\n",
    "    \n",
    "    low, high = 0,index\n",
    "    while low < high:\n",
    "        word[low],word[high] = word[high], word[low]\n",
    "        low += 1\n",
    "        high -= 1\n",
    "    return \"\".join(word)\n",
    "    pass\n",
    "word = \"xyxzxe\"\n",
    "ch = \"z\"\n",
    "reversePrefix(word,ch)"
   ]
  },
  {
   "cell_type": "code",
   "execution_count": null,
   "metadata": {},
   "outputs": [],
   "source": [
    "# 看答案\n",
    "i = word.find(ch) + 1\n",
    "return word[:i][::-1] + word[i:]"
   ]
  }
 ],
 "metadata": {
  "kernelspec": {
   "display_name": "Python 3",
   "language": "python",
   "name": "python3"
  },
  "language_info": {
   "codemirror_mode": {
    "name": "ipython",
    "version": 3
   },
   "file_extension": ".py",
   "mimetype": "text/x-python",
   "name": "python",
   "nbconvert_exporter": "python",
   "pygments_lexer": "ipython3",
   "version": "3.6.9"
  },
  "toc-autonumbering": false,
  "toc-showcode": false,
  "toc-showmarkdowntxt": false,
  "toc-showtags": false
 },
 "nbformat": 4,
 "nbformat_minor": 4
}
