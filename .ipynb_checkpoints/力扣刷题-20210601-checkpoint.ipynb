{
 "cells": [
  {
   "cell_type": "code",
   "execution_count": null,
   "metadata": {},
   "outputs": [],
   "source": [
    "# 1744. 你能在你最喜欢的那天吃到你最喜欢的糖果吗？\n",
    "# https://leetcode-cn.com/problems/can-you-eat-your-favorite-candy-on-your-favorite-day/\n",
    "\n",
    "\n",
    "# 补一下\n",
    "from typing import List\n",
    "def canEat(candiesCount: List[int], queries: List[List[int]]) -> List[bool]:\n",
    "    pass"
   ]
  }
 ],
 "metadata": {
  "kernelspec": {
   "display_name": "Python 3",
   "language": "python",
   "name": "python3"
  },
  "language_info": {
   "codemirror_mode": {
    "name": "ipython",
    "version": 3
   },
   "file_extension": ".py",
   "mimetype": "text/x-python",
   "name": "python",
   "nbconvert_exporter": "python",
   "pygments_lexer": "ipython3",
   "version": "3.6.9"
  }
 },
 "nbformat": 4,
 "nbformat_minor": 4
}
