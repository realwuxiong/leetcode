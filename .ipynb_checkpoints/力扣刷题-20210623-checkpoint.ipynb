{
 "cells": [
  {
   "cell_type": "code",
   "execution_count": 4,
   "metadata": {},
   "outputs": [
    {
     "name": "stdout",
     "output_type": "stream",
     "text": [
      "3\n"
     ]
    }
   ],
   "source": [
    "# 剑指 Offer 15. 二进制中1的个数\n",
    "# https://leetcode-cn.com/problems/er-jin-zhi-zhong-1de-ge-shu-lcof/\n",
    "# easy\n",
    "def hammingWeight(n: int) -> int:\n",
    "    count = 0\n",
    "    while n:\n",
    "        n = n & (n-1)\n",
    "        count += 1\n",
    "        \n",
    "    print(count)\n",
    "    pass\n",
    "hammingWeight(11)"
   ]
  },
  {
   "cell_type": "code",
   "execution_count": 20,
   "metadata": {},
   "outputs": [
    {
     "name": "stdout",
     "output_type": "stream",
     "text": [
      "[1, 1]\n",
      "{0: -1, 1: 0}\n"
     ]
    },
    {
     "data": {
      "text/plain": [
       "False"
      ]
     },
     "execution_count": 20,
     "metadata": {},
     "output_type": "execute_result"
    }
   ],
   "source": [
    "# 前缀和再做一次\n",
    "#  https://leetcode-cn.com/problems/continuous-subarray-sum/\n",
    "from typing import List\n",
    "def checkSubarraySum(nums: List[int], k: int) -> bool:\n",
    "    # 前缀和\n",
    "    n = len(nums)\n",
    "    if n < 2:\n",
    "        return False\n",
    "    #前缀和\n",
    "    x = 0\n",
    "    prefixSum = []\n",
    "    for num in nums:\n",
    "        x += num\n",
    "        prefixSum.append(x)\n",
    "    print(prefixSum)\n",
    "    ans = {}\n",
    "    ans[0] = -1\n",
    "    for i,p in enumerate(prefixSum):\n",
    "        key = p % k\n",
    "        if key not in ans.keys():\n",
    "            ans[key] = i\n",
    "        else:\n",
    "            if i - ans[key] >2:\n",
    "                return True\n",
    "    print(ans)\n",
    "    return False\n",
    "    pass\n",
    "nums =[1,0]\n",
    "k = 2\n",
    "checkSubarraySum(nums,k)"
   ]
  },
  {
   "cell_type": "code",
   "execution_count": 24,
   "metadata": {},
   "outputs": [
    {
     "name": "stdout",
     "output_type": "stream",
     "text": [
      "8\n"
     ]
    }
   ],
   "source": [
    "# https://leetcode-cn.com/problems/contiguous-array/\n",
    "# 差不多写出来了。。。\n",
    "from typing import List\n",
    "def findMaxLength(nums: List[int]) -> int:\n",
    "    x = 0\n",
    "    prefixSum = []\n",
    "    for num in nums:\n",
    "        if num == 0:\n",
    "            x -= 1\n",
    "        else:\n",
    "            x += 1\n",
    "        prefixSum.append(x)\n",
    "    ans={}\n",
    "    ans[0] = -1\n",
    "    result = 0\n",
    "    for i, p in enumerate(prefixSum):\n",
    "        if p not in ans.keys():\n",
    "            ans[p] = i\n",
    "        else:\n",
    "            result = max(result,i-ans[p])\n",
    "    print(result)  \n",
    "findMaxLength([0,1,0,1,0,1,0,1,1,1,1,])"
   ]
  }
 ],
 "metadata": {
  "kernelspec": {
   "display_name": "Python 3",
   "language": "python",
   "name": "python3"
  },
  "language_info": {
   "codemirror_mode": {
    "name": "ipython",
    "version": 3
   },
   "file_extension": ".py",
   "mimetype": "text/x-python",
   "name": "python",
   "nbconvert_exporter": "python",
   "pygments_lexer": "ipython3",
   "version": "3.6.9"
  }
 },
 "nbformat": 4,
 "nbformat_minor": 4
}
