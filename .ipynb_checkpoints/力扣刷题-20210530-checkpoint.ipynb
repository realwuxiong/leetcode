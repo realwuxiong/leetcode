{
 "cells": [
  {
   "cell_type": "code",
   "execution_count": null,
   "metadata": {},
   "outputs": [],
   "source": [
    "# 1074. 元素和为目标值的子矩阵数量\n",
    "# https://leetcode-cn.com/problems/number-of-submatrices-that-sum-to-target/\n",
    "\n",
    "# 明天重新做\n",
    "def numSubmatrixSumTarget(matrix: List[List[int]], target: int) -> int:\n",
    "    \n",
    "    pass\n",
    "\n",
    "matrix = [[0,1,0],[1,1,1],[0,1,0]]\n",
    "target = 0\n",
    "\n"
   ]
  }
 ],
 "metadata": {
  "kernelspec": {
   "display_name": "Python 3",
   "language": "python",
   "name": "python3"
  },
  "language_info": {
   "codemirror_mode": {
    "name": "ipython",
    "version": 3
   },
   "file_extension": ".py",
   "mimetype": "text/x-python",
   "name": "python",
   "nbconvert_exporter": "python",
   "pygments_lexer": "ipython3",
   "version": "3.6.9"
  }
 },
 "nbformat": 4,
 "nbformat_minor": 4
}
