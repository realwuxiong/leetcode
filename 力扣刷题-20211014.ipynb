{
 "cells": [
  {
   "cell_type": "code",
   "execution_count": 19,
   "metadata": {},
   "outputs": [
    {
     "name": "stdout",
     "output_type": "stream",
     "text": [
      "0 3 1\n",
      "2 3 2\n"
     ]
    },
    {
     "data": {
      "text/plain": [
       "3"
      ]
     },
     "execution_count": 19,
     "metadata": {},
     "output_type": "execute_result"
    }
   ],
   "source": [
    "# 剑指 Offer II 069. 山峰数组的顶部\n",
    "# https://leetcode-cn.com/problems/B1IidL/\n",
    "\n",
    "from typing import List\n",
    "def peakIndexInMountainArray(arr: List[int]) -> int:\n",
    "    # 二分法\n",
    "    n = len(arr)\n",
    "    low,high = 0, n-1\n",
    "    while low < high:\n",
    "        mid = low + (high - low) // 2\n",
    "        if arr[mid+1] > arr[mid] > arr[mid-1]:\n",
    "            low = mid + 1\n",
    "        elif arr[mid+1] < arr[mid] < arr[mid-1]:\n",
    "            high = mid - 1\n",
    "        elif arr[mid+1] < arr[mid] and arr[mid] > arr[mid-1]:\n",
    "            return mid\n",
    "\n",
    "    return low \n",
    "\n",
    "arr = [0,1,2,3]\n",
    "peakIndexInMountainArray(arr)"
   ]
  }
 ],
 "metadata": {
  "kernelspec": {
   "display_name": "Python 3",
   "language": "python",
   "name": "python3"
  },
  "language_info": {
   "codemirror_mode": {
    "name": "ipython",
    "version": 3
   },
   "file_extension": ".py",
   "mimetype": "text/x-python",
   "name": "python",
   "nbconvert_exporter": "python",
   "pygments_lexer": "ipython3",
   "version": "3.6.9"
  },
  "toc-autonumbering": false,
  "toc-showcode": false,
  "toc-showmarkdowntxt": false,
  "toc-showtags": false
 },
 "nbformat": 4,
 "nbformat_minor": 4
}
