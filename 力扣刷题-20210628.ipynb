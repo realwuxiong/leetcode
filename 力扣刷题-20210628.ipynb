{
 "cells": [
  {
   "cell_type": "code",
   "execution_count": null,
   "metadata": {},
   "outputs": [],
   "source": [
    "# 815. 公交路线\n",
    "# https://leetcode-cn.com/problems/bus-routes/\n",
    "\n",
    "# 艹 这题也太难了吧，天天广度搜索\n",
    "from typing import List\n",
    "def numBusesToDestination(routes: List[List[int]], source: int, target: int) -> int:\n",
    "    \n",
    "    # 又是广度搜索\n",
    "    # 图+广度搜索\n",
    "    \n",
    "    # 这个图的结构应该怎么写呢？？\n",
    "    # 标准答案是用hashMap\n",
    "    grapy = {}\n",
    "    def buildGraph():\n",
    "        \n",
    "        \n",
    "        \n",
    "        \n",
    "    \n",
    "    pass\n",
    "routes = [[7,12],[4,5,15],[6],[15,19],[9,12,13]]\n",
    "source = 15\n",
    "target = 12"
   ]
  }
 ],
 "metadata": {
  "kernelspec": {
   "display_name": "Python 3",
   "language": "python",
   "name": "python3"
  },
  "language_info": {
   "codemirror_mode": {
    "name": "ipython",
    "version": 3
   },
   "file_extension": ".py",
   "mimetype": "text/x-python",
   "name": "python",
   "nbconvert_exporter": "python",
   "pygments_lexer": "ipython3",
   "version": "3.6.9"
  }
 },
 "nbformat": 4,
 "nbformat_minor": 4
}
