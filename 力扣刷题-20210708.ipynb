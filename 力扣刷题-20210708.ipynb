{
 "cells": [
  {
   "cell_type": "code",
   "execution_count": 10,
   "metadata": {},
   "outputs": [
    {
     "name": "stdout",
     "output_type": "stream",
     "text": [
      "24\n"
     ]
    }
   ],
   "source": [
    "# 930. 和相同的二元子数组\n",
    "# https://leetcode-cn.com/problems/binary-subarrays-with-sum/\n",
    "\n",
    "# 19:25-19:54\n",
    "# 53 / 60 个通过测试用例,超时\n",
    "\n",
    "from typing import List\n",
    "def numSubarraysWithSum(nums: List[int], goal: int) -> int:\n",
    "    n = len(nums)\n",
    "    count = 0\n",
    "    x = 0\n",
    "    prefixSum = []\n",
    "    for num in nums:\n",
    "        x += num\n",
    "        prefixSum.append(x)\n",
    "    for i in range(n):\n",
    "        if prefixSum[i] == goal :\n",
    "            count += 1\n",
    "        j = i+1\n",
    "        while j < n:\n",
    "            if prefixSum[j]-prefixSum[i] == goal:\n",
    "                count += 1\n",
    "            \n",
    "            if prefixSum[j]-prefixSum[i] > goal:\n",
    "                break\n",
    "            \n",
    "            if prefixSum[j]-prefixSum[i] < goal:\n",
    "                j += goal -(prefixSum[j]-prefixSum[i])\n",
    "            else:\n",
    "                j += 1\n",
    "    print(count)\n",
    "    pass\n",
    "nums = [1,0,1,0,1,1,1,1,1,1,1,1,0,1,1,0,0,0,0]\n",
    "goal = 2\n",
    "numSubarraysWithSum(nums,goal)"
   ]
  },
  {
   "cell_type": "code",
   "execution_count": 27,
   "metadata": {},
   "outputs": [
    {
     "name": "stdout",
     "output_type": "stream",
     "text": [
      "24\n"
     ]
    }
   ],
   "source": [
    "# 用哈希表\n",
    "# 930. 和相同的二元子数组\n",
    "# https://leetcode-cn.com/problems/binary-subarrays-with-sum/\n",
    "# 艹了呀，没想到用哈希表，然后边界问题没处理好。。\n",
    "from typing import List\n",
    "def numSubarraysWithSum(nums: List[int], goal: int) -> int:\n",
    "    myMap = {}\n",
    "    xx = 0\n",
    "    count = 0\n",
    "    for num in nums:\n",
    "        if xx not in myMap.keys():\n",
    "            myMap[xx] = 1\n",
    "        else:\n",
    "            myMap[xx] += 1\n",
    "#         print(myMap)\n",
    "        xx+=num\n",
    "        if (xx-goal) in  myMap.keys():\n",
    "            count += myMap[xx-goal]\n",
    "    print(count)\n",
    "            \n",
    "    pass\n",
    "nums = [1,0,1,0,1,1,1,1,1,1,1,1,0,1,1,0,0,0,0]\n",
    "goal = 2\n",
    "numSubarraysWithSum(nums,goal)"
   ]
  }
 ],
 "metadata": {
  "kernelspec": {
   "display_name": "Python 3",
   "language": "python",
   "name": "python3"
  },
  "language_info": {
   "codemirror_mode": {
    "name": "ipython",
    "version": 3
   },
   "file_extension": ".py",
   "mimetype": "text/x-python",
   "name": "python",
   "nbconvert_exporter": "python",
   "pygments_lexer": "ipython3",
   "version": "3.6.9"
  }
 },
 "nbformat": 4,
 "nbformat_minor": 4
}
