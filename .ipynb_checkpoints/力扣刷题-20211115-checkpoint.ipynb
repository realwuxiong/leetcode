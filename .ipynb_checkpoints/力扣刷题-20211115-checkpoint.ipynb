{
 "cells": [
  {
   "cell_type": "code",
   "execution_count": 5,
   "metadata": {},
   "outputs": [
    {
     "data": {
      "text/plain": [
       "5"
      ]
     },
     "execution_count": 5,
     "metadata": {},
     "output_type": "execute_result"
    }
   ],
   "source": [
    "# 319. 灯泡开关\n",
    "# https://leetcode-cn.com/problems/bulb-switcher/\n",
    "\n",
    "def bulbSwitch(n: int) -> int:\n",
    "    # 超时了\n",
    "    ans = 0\n",
    "    for i in range(1,n+1):\n",
    "        count = 0\n",
    "        for j in range(1,i+1):\n",
    "            if i % j == 0:\n",
    "                count += 1\n",
    "        if count % 2 == 1:\n",
    "            ans += 1\n",
    "    return ans\n",
    "\n",
    "n = 30\n",
    "bulbSwitch(n)"
   ]
  },
  {
   "cell_type": "code",
   "execution_count": null,
   "metadata": {},
   "outputs": [],
   "source": [
    "# 答案秒杀我。。。\n",
    "class Solution:\n",
    "    def bulbSwitch(self, n: int) -> int:\n",
    "        return int(sqrt(n + 0.5))\n",
    "\n"
   ]
  }
 ],
 "metadata": {
  "kernelspec": {
   "display_name": "Python 3",
   "language": "python",
   "name": "python3"
  },
  "language_info": {
   "codemirror_mode": {
    "name": "ipython",
    "version": 3
   },
   "file_extension": ".py",
   "mimetype": "text/x-python",
   "name": "python",
   "nbconvert_exporter": "python",
   "pygments_lexer": "ipython3",
   "version": "3.6.9"
  },
  "toc-autonumbering": false,
  "toc-showcode": false,
  "toc-showmarkdowntxt": false,
  "toc-showtags": false
 },
 "nbformat": 4,
 "nbformat_minor": 4
}
