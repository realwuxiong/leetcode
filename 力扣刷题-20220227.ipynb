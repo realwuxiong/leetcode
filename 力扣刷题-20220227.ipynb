{
 "cells": [
  {
   "cell_type": "code",
   "execution_count": 15,
   "metadata": {},
   "outputs": [
    {
     "data": {
      "text/plain": [
       "1"
      ]
     },
     "execution_count": 15,
     "metadata": {},
     "output_type": "execute_result"
    }
   ],
   "source": [
    "# 258. 各位相加\n",
    "# https://leetcode-cn.com/problems/add-digits/\n",
    "\n",
    "def addDigits(num: int) -> int:\n",
    "    def func(n):\n",
    "        ans = 0\n",
    "        while n >0:\n",
    "            ans += n % 10\n",
    "            n = n // 10\n",
    "        return ans\n",
    "    while num >= 10:\n",
    "        num = func(num)\n",
    "    return num\n",
    "\n",
    "\n",
    "num = 100\n",
    "addDigits(num)"
   ]
  }
 ],
 "metadata": {
  "kernelspec": {
   "display_name": "Python 3",
   "language": "python",
   "name": "python3"
  },
  "language_info": {
   "codemirror_mode": {
    "name": "ipython",
    "version": 3
   },
   "file_extension": ".py",
   "mimetype": "text/x-python",
   "name": "python",
   "nbconvert_exporter": "python",
   "pygments_lexer": "ipython3",
   "version": "3.6.9"
  },
  "toc-autonumbering": false,
  "toc-showcode": false,
  "toc-showmarkdowntxt": false,
  "toc-showtags": false
 },
 "nbformat": 4,
 "nbformat_minor": 4
}
