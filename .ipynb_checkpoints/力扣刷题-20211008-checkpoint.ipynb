{
 "cells": [
  {
   "cell_type": "code",
   "execution_count": 2,
   "metadata": {},
   "outputs": [
    {
     "name": "stdout",
     "output_type": "stream",
     "text": [
      "AAAAACCCCCAAAAACCCCCCAAAAAGGGTTT\n"
     ]
    }
   ],
   "source": [
    "# 187. 重复的DNA序列\n",
    "# https://leetcode-cn.com/problems/repeated-dna-sequences/\n",
    "\n",
    "from typing import List\n",
    "def findRepeatedDnaSequences(s: str) -> List[str]:\n",
    "    \n",
    "    pass\n",
    "s = \"AAAAACCCCCAAAAACCCCCCAAAAAGGGTTT\"\n",
    "findRepeatedDnaSequences(s)"
   ]
  }
 ],
 "metadata": {
  "kernelspec": {
   "display_name": "Python 3",
   "language": "python",
   "name": "python3"
  },
  "language_info": {
   "codemirror_mode": {
    "name": "ipython",
    "version": 3
   },
   "file_extension": ".py",
   "mimetype": "text/x-python",
   "name": "python",
   "nbconvert_exporter": "python",
   "pygments_lexer": "ipython3",
   "version": "3.6.9"
  },
  "toc-autonumbering": false,
  "toc-showcode": false,
  "toc-showmarkdowntxt": false,
  "toc-showtags": false
 },
 "nbformat": 4,
 "nbformat_minor": 4
}
