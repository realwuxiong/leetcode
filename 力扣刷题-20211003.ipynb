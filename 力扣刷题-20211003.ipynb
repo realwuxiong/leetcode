{
 "cells": [
  {
   "cell_type": "code",
   "execution_count": 4,
   "metadata": {},
   "outputs": [
    {
     "name": "stdout",
     "output_type": "stream",
     "text": [
      "0.012012012012012012\n"
     ]
    }
   ],
   "source": [
    "# 166. 分数到小数\n",
    "# https://leetcode-cn.com/problems/fraction-to-recurring-decimal/\n",
    "# 又不想做了\n",
    "def fractionToDecimal(numerator: int, denominator: int) -> str:\n",
    "    # 主要就是找循环节\n",
    "    # 余数重复出现，则出现了循环节\n",
    "    mod = []\n",
    "    \n",
    "    \n",
    "    pass\n",
    "numerator = 4\n",
    "denominator = 333\n",
    "fractionToDecimal(numerator,denominator)"
   ]
  },
  {
   "cell_type": "code",
   "execution_count": null,
   "metadata": {},
   "outputs": [],
   "source": [
    "// 复制的答案，java版\n",
    "class Solution {\n",
    "    public String fractionToDecimal(int numerator, int denominator) {\n",
    "        long numeratorLong = (long) numerator;\n",
    "        long denominatorLong = (long) denominator;\n",
    "        if (numeratorLong % denominatorLong == 0) {\n",
    "            return String.valueOf(numeratorLong / denominatorLong);\n",
    "        }\n",
    "\n",
    "        StringBuffer sb = new StringBuffer();\n",
    "        if (numeratorLong < 0 ^ denominatorLong < 0) {\n",
    "            sb.append('-');\n",
    "        }\n",
    "\n",
    "        // 整数部分\n",
    "        numeratorLong = Math.abs(numeratorLong);\n",
    "        denominatorLong = Math.abs(denominatorLong);\n",
    "        long integerPart = numeratorLong / denominatorLong;\n",
    "        sb.append(integerPart);\n",
    "        sb.append('.');\n",
    "\n",
    "        // 小数部分\n",
    "        StringBuffer fractionPart = new StringBuffer();\n",
    "        Map<Long, Integer> remainderIndexMap = new HashMap<Long, Integer>();\n",
    "        long remainder = numeratorLong % denominatorLong;\n",
    "        int index = 0;\n",
    "        while (remainder != 0 && !remainderIndexMap.containsKey(remainder)) {\n",
    "            remainderIndexMap.put(remainder, index);\n",
    "            remainder *= 10;\n",
    "            fractionPart.append(remainder / denominatorLong);\n",
    "            remainder %= denominatorLong;\n",
    "            index++;\n",
    "        }\n",
    "        if (remainder != 0) { // 有循环节\n",
    "            int insertIndex = remainderIndexMap.get(remainder);\n",
    "            fractionPart.insert(insertIndex, '(');\n",
    "            fractionPart.append(')');\n",
    "        }\n",
    "        sb.append(fractionPart.toString());\n",
    "\n",
    "        return sb.toString();\n",
    "    }\n",
    "}\n",
    "\n"
   ]
  }
 ],
 "metadata": {
  "kernelspec": {
   "display_name": "Python 3",
   "language": "python",
   "name": "python3"
  },
  "language_info": {
   "codemirror_mode": {
    "name": "ipython",
    "version": 3
   },
   "file_extension": ".py",
   "mimetype": "text/x-python",
   "name": "python",
   "nbconvert_exporter": "python",
   "pygments_lexer": "ipython3",
   "version": "3.6.9"
  },
  "toc-autonumbering": false,
  "toc-showcode": false,
  "toc-showmarkdowntxt": false,
  "toc-showtags": false
 },
 "nbformat": 4,
 "nbformat_minor": 4
}
