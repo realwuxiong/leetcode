{
 "cells": [
  {
   "cell_type": "code",
   "execution_count": 14,
   "metadata": {},
   "outputs": [
    {
     "name": "stdout",
     "output_type": "stream",
     "text": [
      "[[1, 0, 0], [0, 1, 0], [1, 1, 1]]\n"
     ]
    }
   ],
   "source": [
    "# 832. 翻转图像\n",
    "# https://leetcode-cn.com/problems/flipping-an-image/\n",
    "# 这个题目之前刷到过，再做一遍，待会再刷一道别的题目\n",
    "\n",
    "from typing import List\n",
    "def flip(nums:List[int]):\n",
    "    first = 0\n",
    "    last = len(nums)-1\n",
    "    while first <= last:\n",
    "        tem = nums[first]\n",
    "#         print(nums[last],nums[first],nums[last]^1,nums[first]^1)\n",
    "        nums[first] = nums[last] ^1\n",
    "        nums[last] = tem ^1\n",
    "        first += 1\n",
    "        last -= 1\n",
    "        \n",
    "        \n",
    "def flipAndInvertImage(A: List[List[int]]) -> List[List[int]]:\n",
    "    for i in range(len(A)):\n",
    "        flip(A[i])\n",
    "    print(A)\n",
    "A = [[1,1,0],[1,0,1],[0,0,0]]\n",
    "flipAndInvertImage(A)"
   ]
  },
  {
   "cell_type": "code",
   "execution_count": 27,
   "metadata": {},
   "outputs": [
    {
     "data": {
      "text/plain": [
       "2"
      ]
     },
     "execution_count": 27,
     "metadata": {},
     "output_type": "execute_result"
    }
   ],
   "source": [
    "# 287. 寻找重复数\n",
    "# https://leetcode-cn.com/problems/find-the-duplicate-number/\n",
    "# easy 直接用异或运算\n",
    "from typing import List\n",
    "# def findDuplicate(nums: List[int]) -> int:\n",
    "#     tem = 0\n",
    "#     removeDuplicateNums = set(nums)\n",
    "#     for num in nums:\n",
    "#         tem ^= num\n",
    "# #     print(removeDuplicateNums)\n",
    "#     for num in removeDuplicateNums:\n",
    "#         tem ^= num\n",
    "#     return tem\n",
    "# 反异或，a^b=c a=b^c 但是这个题目不是适合在这里，上面的代码有问题[2,2,2,2,2]\n",
    "def findDuplicate(nums: List[int]) -> int:\n",
    "    dic = []\n",
    "    for num in nums:\n",
    "        if num not in dic:\n",
    "            dic.append(num)\n",
    "        else:\n",
    "            return num\n",
    "\n",
    "nums = [2,2,2,2,2,1]\n",
    "findDuplicate(nums)"
   ]
  },
  {
   "cell_type": "code",
   "execution_count": 21,
   "metadata": {},
   "outputs": [
    {
     "name": "stdout",
     "output_type": "stream",
     "text": [
      "3\n"
     ]
    }
   ],
   "source": []
  }
 ],
 "metadata": {
  "kernelspec": {
   "display_name": "Python 3",
   "language": "python",
   "name": "python3"
  },
  "language_info": {
   "codemirror_mode": {
    "name": "ipython",
    "version": 3
   },
   "file_extension": ".py",
   "mimetype": "text/x-python",
   "name": "python",
   "nbconvert_exporter": "python",
   "pygments_lexer": "ipython3",
   "version": "3.8.5"
  }
 },
 "nbformat": 4,
 "nbformat_minor": 4
}
