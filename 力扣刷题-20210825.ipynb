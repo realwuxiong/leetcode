{
 "cells": [
  {
   "cell_type": "code",
   "execution_count": 8,
   "metadata": {},
   "outputs": [
    {
     "data": {
      "text/plain": [
       "[[0, 4], [0, 3, 4], [0, 1, 3, 4], [0, 1, 2, 3, 4], [0, 1, 4]]"
      ]
     },
     "execution_count": 8,
     "metadata": {},
     "output_type": "execute_result"
    }
   ],
   "source": [
    "# 797. 所有可能的路径\n",
    "# https://leetcode-cn.com/problems/all-paths-from-source-to-target/\n",
    "\n",
    "# 应该是DFS\n",
    "# 16:40-16:48 一次调试成功\n",
    "from typing import List\n",
    "def allPathsSourceTarget(graph: List[List[int]]) -> List[List[int]]:\n",
    "    \n",
    "    def dfs(index):\n",
    "        if index == n-1:\n",
    "            ans.append(stack[:])\n",
    "        for i in graph[index]:\n",
    "            stack.append(i)\n",
    "            dfs(i)\n",
    "            stack.pop()\n",
    "    n = len(graph)   \n",
    "    stack = [0]\n",
    "    ans = []\n",
    "    dfs(0)\n",
    "    return ans\n",
    "graph = [[4,3,1],[3,2,4],[3],[4],[]]\n",
    "allPathsSourceTarget(graph)"
   ]
  },
  {
   "cell_type": "code",
   "execution_count": 19,
   "metadata": {},
   "outputs": [
    {
     "name": "stdout",
     "output_type": "stream",
     "text": [
      "[[0, inf, inf], [inf, 100, 500], [inf, inf, 200]]\n"
     ]
    },
    {
     "data": {
      "text/plain": [
       "200"
      ]
     },
     "execution_count": 19,
     "metadata": {},
     "output_type": "execute_result"
    }
   ],
   "source": [
    "# 把昨天的题目补一补\n",
    "# 787. K 站中转内最便宜的航班\n",
    "# https://leetcode-cn.com/problems/cheapest-flights-within-k-stops/\n",
    "\n",
    "from typing import List\n",
    "def findCheapestPrice(n: int, flights: List[List[int]], src: int, dst: int, k: int) -> int:\n",
    "    # 主要得想到，为什么可以采用动态规划算法。。。，转移方程是什么，怎么定义dp数组\n",
    "    # dp[t][i] 表示经过t次航班到，到达i的最小代价\n",
    "    \n",
    "    dp = [[float(\"INF\")]*n for _ in range(k+2)]\n",
    "    # 初始化，为这样初始化呢，因为别的路径到达的dst代价都会是inf\n",
    "    dp[0][src] = 0\n",
    "    \n",
    "    for t in range(1,k+2):\n",
    "        for fro,to,price  in flights:\n",
    "            dp[t][to] = min(dp[t][to], dp[t-1][fro]+price)\n",
    "#     print(dp)\n",
    "    ans = min([dp[i][dst] for i in range(k+2)])\n",
    "    return -1 if ans == float(\"inf\") else ans\n",
    "    pass\n",
    "n = 3\n",
    "edges = [[0,1,100],[1,2,100],[0,2,500]]\n",
    "src = 0\n",
    "dst = 2\n",
    "k = 1\n",
    "findCheapestPrice(n,edges,src,dst,k)"
   ]
  }
 ],
 "metadata": {
  "kernelspec": {
   "display_name": "Python 3",
   "language": "python",
   "name": "python3"
  },
  "language_info": {
   "codemirror_mode": {
    "name": "ipython",
    "version": 3
   },
   "file_extension": ".py",
   "mimetype": "text/x-python",
   "name": "python",
   "nbconvert_exporter": "python",
   "pygments_lexer": "ipython3",
   "version": "3.6.9"
  },
  "toc-autonumbering": false,
  "toc-showcode": false,
  "toc-showmarkdowntxt": false,
  "toc-showtags": false
 },
 "nbformat": 4,
 "nbformat_minor": 4
}
