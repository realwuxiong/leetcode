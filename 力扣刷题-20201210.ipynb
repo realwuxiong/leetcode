{
 "cells": [
  {
   "cell_type": "code",
   "execution_count": 1,
   "metadata": {},
   "outputs": [
    {
     "data": {
      "text/plain": [
       "True"
      ]
     },
     "execution_count": 1,
     "metadata": {},
     "output_type": "execute_result"
    }
   ],
   "source": [
    "# 柠檬水\n",
    "# https://leetcode-cn.com/problems/lemonade-change/\n",
    "# 其实就是贪心算法，尽可能多的保留5元的钱\n",
    "\n",
    "def lemonadeChange(bills) -> bool:\n",
    "        dic={'5':0,'10':0,'20':0}\n",
    "        for bill in bills:\n",
    "            \n",
    "            if bill == 5:\n",
    "                dic[str(bill)] = dic[str(bill)]+1\n",
    "                continue\n",
    "            \n",
    "            if bill == 10 :\n",
    "                if dic['5']>0:\n",
    "                    dic[str(bill)] = dic[str(bill)]+1\n",
    "                    dic['5'] = dic['5'] -1\n",
    "                else:\n",
    "                    return False\n",
    "  \n",
    "            if bill == 20 :\n",
    "                if(dic['5']>=1 and dic['10']>=1):\n",
    "                    dic['20'] = dic['20']+1\n",
    "                    dic['5'] = dic['5'] -1\n",
    "                    dic['10'] = dic['10'] -1\n",
    "                elif(dic['5']>=3):\n",
    "                    dic['20'] = dic['20']+1\n",
    "                    dic['5'] = dic['5'] -3\n",
    "                else:\n",
    "                    return False\n",
    "        return True\n",
    "lemonadeChange([5,5,5,10,20])"
   ]
  }
 ],
 "metadata": {
  "kernelspec": {
   "display_name": "Python 3",
   "language": "python",
   "name": "python3"
  },
  "language_info": {
   "codemirror_mode": {
    "name": "ipython",
    "version": 3
   },
   "file_extension": ".py",
   "mimetype": "text/x-python",
   "name": "python",
   "nbconvert_exporter": "python",
   "pygments_lexer": "ipython3",
   "version": "3.6.9"
  }
 },
 "nbformat": 4,
 "nbformat_minor": 4
}
