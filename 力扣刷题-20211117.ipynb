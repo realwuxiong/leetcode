{
 "cells": [
  {
   "cell_type": "code",
   "execution_count": 8,
   "metadata": {},
   "outputs": [
    {
     "data": {
      "text/plain": [
       "15"
      ]
     },
     "execution_count": 8,
     "metadata": {},
     "output_type": "execute_result"
    }
   ],
   "source": [
    "# 318. 最大单词长度乘积\n",
    "# https://leetcode-cn.com/problems/maximum-product-of-word-lengths/\n",
    "\n",
    "from typing import List\n",
    "def maxProduct(words: List[str]) -> int:\n",
    "    # 思路：如果分别用26位数组来记录单词出现的个数，感觉会超出空间限制\n",
    "    \n",
    "    # 用set居然过了\n",
    "    \"\"\"\n",
    "    执行结果：通过\n",
    "    执行用时：8536 ms, 在所有 Python3 提交中击败了5.14%的用户\n",
    "    内存消耗：15.3 MB, 在所有 Python3 提交中击败了76.68%的用户\n",
    "    通过测试用例：167 / 167\n",
    "    \"\"\"\n",
    "    ans = 0\n",
    "    for word1 in words:\n",
    "        for word2 in words:\n",
    "            if len(set(word1+word2))== len(set(word1))+len(set(word2)):\n",
    "                ans = max(len(word1)*len(word2),ans)\n",
    "    return ans\n",
    "    \n",
    "    pass\n",
    "words = [\"eae\",\"ea\",\"aaf\",\"bda\",\"fcf\",\"dc\",\"ac\",\"ce\",\"cefde\",\"dabae\"]\n",
    "maxProduct(words)"
   ]
  },
  {
   "cell_type": "code",
   "execution_count": null,
   "metadata": {},
   "outputs": [],
   "source": [
    "// 答案的位掩码，还是很不错的的。。\n",
    "class Solution {\n",
    "    public int maxProduct(String[] words) {\n",
    "        int length = words.length;\n",
    "        int[] masks = new int[length];\n",
    "        for (int i = 0; i < length; i++) {\n",
    "            String word = words[i];\n",
    "            int wordLength = word.length();\n",
    "            for (int j = 0; j < wordLength; j++) {\n",
    "                masks[i] |= 1 << (word.charAt(j) - 'a');\n",
    "            }\n",
    "        }\n",
    "        int maxProd = 0;\n",
    "        for (int i = 0; i < length; i++) {\n",
    "            for (int j = i + 1; j < length; j++) {\n",
    "                if ((masks[i] & masks[j]) == 0) {\n",
    "                    maxProd = Math.max(maxProd, words[i].length() * words[j].length());\n",
    "                }\n",
    "            }\n",
    "        }\n",
    "        return maxProd;\n",
    "    }\n",
    "}\n",
    "\n"
   ]
  },
  {
   "cell_type": "code",
   "execution_count": 11,
   "metadata": {},
   "outputs": [
    {
     "data": {
      "text/plain": [
       "15"
      ]
     },
     "execution_count": 11,
     "metadata": {},
     "output_type": "execute_result"
    }
   ],
   "source": [
    "\n",
    "from typing import List\n",
    "def maxProduct(words: List[str]) -> int:\n",
    "    # 位掩码\n",
    "    masks = [0]*len(words)\n",
    "    ans = 0\n",
    "    for i in range(len(words)):\n",
    "        for j in range(len(words[i])):\n",
    "            masks[i] |= 1 << ord(words[i][j])-ord('a')\n",
    "    for i in range(len(words)):\n",
    "        for j in range(i,len(words)):\n",
    "            if masks[i]&masks[j]==0:\n",
    "                ans = max(ans,len(words[i])*len(words[j]))\n",
    "    return ans\n",
    "    \n",
    "\n",
    "words = [\"eae\",\"ea\",\"aaf\",\"bda\",\"fcf\",\"dc\",\"ac\",\"ce\",\"cefde\",\"dabae\"]\n",
    "maxProduct(words)"
   ]
  }
 ],
 "metadata": {
  "kernelspec": {
   "display_name": "Python 3",
   "language": "python",
   "name": "python3"
  },
  "language_info": {
   "codemirror_mode": {
    "name": "ipython",
    "version": 3
   },
   "file_extension": ".py",
   "mimetype": "text/x-python",
   "name": "python",
   "nbconvert_exporter": "python",
   "pygments_lexer": "ipython3",
   "version": "3.6.9"
  },
  "toc-autonumbering": false,
  "toc-showcode": false,
  "toc-showmarkdowntxt": false,
  "toc-showtags": false
 },
 "nbformat": 4,
 "nbformat_minor": 4
}
