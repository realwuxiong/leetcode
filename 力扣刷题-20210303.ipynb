{
 "cells": [
  {
   "cell_type": "code",
   "execution_count": null,
   "metadata": {},
   "outputs": [],
   "source": [
    "# 338. 比特位计数\n",
    "# https://leetcode-cn.com/problems/counting-bits/\n",
    "# 这是标准答案，好好看看移位运算。。http://note.youdao.com/s/71Anik6J\n",
    "class Solution:\n",
    "    def countBits(self, num: int) -> List[int]:\n",
    "        def countOnes(x: int) -> int:\n",
    "            ones = 0\n",
    "            while x > 0:\n",
    "                x &= (x - 1)\n",
    "                ones += 1\n",
    "            return ones\n",
    "        \n",
    "        bits = [countOnes(i) for i in range(num + 1)]\n",
    "        return bits\n",
    "\n"
   ]
  }
 ],
 "metadata": {
  "kernelspec": {
   "display_name": "Python 3",
   "language": "python",
   "name": "python3"
  },
  "language_info": {
   "codemirror_mode": {
    "name": "ipython",
    "version": 3
   },
   "file_extension": ".py",
   "mimetype": "text/x-python",
   "name": "python",
   "nbconvert_exporter": "python",
   "pygments_lexer": "ipython3",
   "version": "3.8.5"
  }
 },
 "nbformat": 4,
 "nbformat_minor": 4
}
