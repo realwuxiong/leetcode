{
 "cells": [
  {
   "cell_type": "code",
   "execution_count": null,
   "metadata": {},
   "outputs": [],
   "source": [
    "# 824. 山羊拉丁文\n",
    "# https://leetcode-cn.com/problems/goat-latin/\n",
    "\n",
    "def toGoatLatin(sentence: str) -> str:\n",
    "    t = \"aeiouAEIOU\"\n",
    "    sentence_array = sentence.split()\n",
    "    n = len(sentence_array)\n",
    "    for i in range(n):\n",
    "        if sentence_array[i][0] in t:\n",
    "            sentence_array[i] += \"ma\"+(i+1)*\"a\"\n",
    "        else:\n",
    "            sentence_array[i] = sentence_array[i][1:]+sentence_array[i][0]+(i+1)*\"a\"\n",
    "    \n",
    "    \n",
    "    \n",
    "    pass\n",
    "\n",
    "sentence = \"The quick brown fox jumped over the lazy dog\"\n",
    "toGoatLatin(sentence)"
   ]
  }
 ],
 "metadata": {
  "kernelspec": {
   "display_name": "Python 3",
   "language": "python",
   "name": "python3"
  },
  "language_info": {
   "codemirror_mode": {
    "name": "ipython",
    "version": 3
   },
   "file_extension": ".py",
   "mimetype": "text/x-python",
   "name": "python",
   "nbconvert_exporter": "python",
   "pygments_lexer": "ipython3",
   "version": "3.6.9"
  },
  "toc-autonumbering": false,
  "toc-showcode": false,
  "toc-showmarkdowntxt": false,
  "toc-showtags": false
 },
 "nbformat": 4,
 "nbformat_minor": 4
}
