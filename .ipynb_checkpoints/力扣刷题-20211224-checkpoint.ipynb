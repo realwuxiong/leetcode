{
 "cells": [
  {
   "cell_type": "code",
   "execution_count": 39,
   "metadata": {},
   "outputs": [
    {
     "data": {
      "text/plain": [
       "7"
      ]
     },
     "execution_count": 39,
     "metadata": {},
     "output_type": "execute_result"
    }
   ],
   "source": [
    "# 1705. 吃苹果的最大数目\n",
    "# https://leetcode-cn.com/problems/maximum-number-of-eaten-apples/\n",
    "\n",
    "from typing import List\n",
    "import heapq\n",
    "def eatenApples(apples: List[int], days: List[int]) -> int:\n",
    "    # 其实就是一个贪心算法，优先队列。。\n",
    "    # 一天只能吃一个\n",
    "    # 写了半天没写出来，抄的答案\n",
    "    ans = 0\n",
    "    pq = []\n",
    "    i = 0\n",
    "    while i < len(apples):\n",
    "        while pq and pq[0][0] <= i:\n",
    "            heapq.heappop(pq)\n",
    "        if apples[i]:\n",
    "            heapq.heappush(pq, [i + days[i], apples[i]])\n",
    "        if pq:\n",
    "            pq[0][1] -= 1\n",
    "            if pq[0][1] == 0:\n",
    "                heapq.heappop(pq)\n",
    "            ans += 1\n",
    "        i += 1\n",
    "    while pq:\n",
    "        while pq and pq[0][0] <= i:\n",
    "            heapq.heappop(pq)\n",
    "        if len(pq) == 0:\n",
    "            break\n",
    "        p = heapq.heappop(pq)\n",
    "        num = min(p[0] - i, p[1])\n",
    "        ans += num\n",
    "        i += num\n",
    "    return ans\n",
    "\n",
    "\n",
    "apples =  [1,2,3,5,2]\n",
    "days =  [3,2,1,4,2]\n",
    "eatenApples(apples,days)"
   ]
  }
 ],
 "metadata": {
  "kernelspec": {
   "display_name": "Python 3",
   "language": "python",
   "name": "python3"
  },
  "language_info": {
   "codemirror_mode": {
    "name": "ipython",
    "version": 3
   },
   "file_extension": ".py",
   "mimetype": "text/x-python",
   "name": "python",
   "nbconvert_exporter": "python",
   "pygments_lexer": "ipython3",
   "version": "3.6.9"
  },
  "toc-autonumbering": false,
  "toc-showcode": false,
  "toc-showmarkdowntxt": false,
  "toc-showtags": false
 },
 "nbformat": 4,
 "nbformat_minor": 4
}
