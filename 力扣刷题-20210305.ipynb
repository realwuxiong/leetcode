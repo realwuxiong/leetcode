{
 "cells": [
  {
   "cell_type": "code",
   "execution_count": 20,
   "metadata": {},
   "outputs": [
    {
     "name": "stdout",
     "output_type": "stream",
     "text": [
      "false 3 [1, 2, 3]\n"
     ]
    }
   ],
   "source": [
    "// java 数学一下栈和堆\n",
    "\n",
    "import java.util.*;\n",
    "\n",
    "Stack<Integer> mystack = new Stack<Integer>();\n",
    "mystack.push(new Integer(1));\n",
    "mystack.push(new Integer(2));\n",
    "mystack.push(new Integer(3));\n",
    "\n",
    "System.out.println(mystack.empty()+\" \"+mystack.peek()+' '+mystack);"
   ]
  }
 ],
 "metadata": {
  "kernelspec": {
   "display_name": "Java",
   "language": "java",
   "name": "java"
  },
  "language_info": {
   "codemirror_mode": "java",
   "file_extension": ".jshell",
   "mimetype": "text/x-java-source",
   "name": "Java",
   "pygments_lexer": "java",
   "version": "11.0.10+9-Ubuntu-0ubuntu1.20.04"
  }
 },
 "nbformat": 4,
 "nbformat_minor": 4
}
