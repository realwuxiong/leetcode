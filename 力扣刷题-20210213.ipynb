{
 "cells": [
  {
   "cell_type": "code",
   "execution_count": 10,
   "metadata": {},
   "outputs": [
    {
     "data": {
      "text/plain": [
       "[5, 6]"
      ]
     },
     "execution_count": 10,
     "metadata": {},
     "output_type": "execute_result"
    }
   ],
   "source": [
    "# 448. 找到所有数组中消失的数字\n",
    "# https://leetcode-cn.com/problems/find-all-numbers-disappeared-in-an-array/\n",
    "# 这个题目的答案非常的巧妙，用原地哈希的方法\n",
    "from typing import List\n",
    "def findDisappearedNumbers(nums: List[int]) -> List[int]:\n",
    "    n = len(nums)\n",
    "    for num in nums:\n",
    "        x = (num-1)%n\n",
    "        nums[x] += n\n",
    "    return [i+1 for i,data in enumerate(nums) if data <= n]\n",
    "nums = [4,3,2,7,8,2,3,1]\n",
    "findDisappearedNumbers(nums)"
   ]
  }
 ],
 "metadata": {
  "kernelspec": {
   "display_name": "Python 3",
   "language": "python",
   "name": "python3"
  },
  "language_info": {
   "codemirror_mode": {
    "name": "ipython",
    "version": 3
   },
   "file_extension": ".py",
   "mimetype": "text/x-python",
   "name": "python",
   "nbconvert_exporter": "python",
   "pygments_lexer": "ipython3",
   "version": "3.8.5"
  }
 },
 "nbformat": 4,
 "nbformat_minor": 4
}
