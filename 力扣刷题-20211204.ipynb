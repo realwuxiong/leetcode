{
 "cells": [
  {
   "cell_type": "code",
   "execution_count": 3,
   "metadata": {},
   "outputs": [
    {
     "data": {
      "text/plain": [
       "True"
      ]
     },
     "execution_count": 3,
     "metadata": {},
     "output_type": "execute_result"
    }
   ],
   "source": [
    "# 383. 赎金信\n",
    "# https://leetcode-cn.com/problems/ransom-note/\n",
    "\n",
    "def canConstruct(ransomNote: str, magazine: str) -> bool:\n",
    "    a = [0]*26\n",
    "    b = [0]*26\n",
    "    \n",
    "    for r in ransomNote:\n",
    "        a[ord(r)-ord('a')] += 1\n",
    "    for m in magazine:\n",
    "        b[ord(m)-ord('a')] += 1\n",
    "    \n",
    "    for i in range(26):\n",
    "        if a[i] > b[i]:\n",
    "            return False\n",
    "    return True\n",
    "    \n",
    "    pass\n",
    "ransomNote = \"a\"\n",
    "magazine = \"b\"\n",
    "canConstruct(ransomNote,magazine)"
   ]
  }
 ],
 "metadata": {
  "kernelspec": {
   "display_name": "Python 3",
   "language": "python",
   "name": "python3"
  },
  "language_info": {
   "codemirror_mode": {
    "name": "ipython",
    "version": 3
   },
   "file_extension": ".py",
   "mimetype": "text/x-python",
   "name": "python",
   "nbconvert_exporter": "python",
   "pygments_lexer": "ipython3",
   "version": "3.6.9"
  },
  "toc-autonumbering": false,
  "toc-showcode": false,
  "toc-showmarkdowntxt": false,
  "toc-showtags": false
 },
 "nbformat": 4,
 "nbformat_minor": 4
}
