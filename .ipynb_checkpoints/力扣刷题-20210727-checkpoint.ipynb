{
 "cells": [
  {
   "cell_type": "code",
   "execution_count": null,
   "metadata": {},
   "outputs": [],
   "source": [
    "# 671. 二叉树中第二小的节点\n",
    "# https://leetcode-cn.com/problems/second-minimum-node-in-a-binary-tree/\n",
    "\n",
    "# 竟然写不出来，，dfs这个。。。。。。。服了，二叉树遍历的题目还得加强加强\n",
    "# 这个题目其实用层次遍历我感觉也行。。。。。\n",
    "class Solution:\n",
    "    def findSecondMinimumValue(self, root: TreeNode) -> int:\n",
    "        ans, rootvalue = -1, root.val\n",
    "\n",
    "        def dfs(node: TreeNode) -> None:\n",
    "            nonlocal ans\n",
    "            if not node:\n",
    "                return\n",
    "            if ans != -1 and node.val >= ans:\n",
    "                return\n",
    "            if node.val > rootvalue:\n",
    "                ans = node.val\n",
    "            \n",
    "            dfs(node.left)\n",
    "            dfs(node.right)\n",
    "\n",
    "        dfs(root)\n",
    "        return ans\n"
   ]
  }
 ],
 "metadata": {
  "kernelspec": {
   "display_name": "Python 3",
   "language": "python",
   "name": "python3"
  },
  "language_info": {
   "codemirror_mode": {
    "name": "ipython",
    "version": 3
   },
   "file_extension": ".py",
   "mimetype": "text/x-python",
   "name": "python",
   "nbconvert_exporter": "python",
   "pygments_lexer": "ipython3",
   "version": "3.6.9"
  },
  "toc-autonumbering": false,
  "toc-showcode": false,
  "toc-showmarkdowntxt": false,
  "toc-showtags": false
 },
 "nbformat": 4,
 "nbformat_minor": 4
}
