{
 "cells": [
  {
   "cell_type": "code",
   "execution_count": null,
   "metadata": {},
   "outputs": [],
   "source": [
    "# 1185. 一周中的第几天\n",
    "# https://leetcode-cn.com/problems/day-of-the-week/\n",
    "\n",
    "def dayOfTheWeek(day: int, month: int, year: int) -> str:\n",
    "    # 首先判断是不是闰年\n",
    "    \n",
    "    week = [\"Monday\", \"Tuesday\", \"Wednesday\", \"Thursday\", \"Friday\", \"Saturday\", \"Sunday\"]\n",
    "    monthDays = [31, 28, 31, 30, 31, 30, 31, 31, 30, 31, 30]\n",
    "    days = 0\n",
    "    # 输入年份之前的年份的天数贡献\n",
    "    days += 365 * (year - 1971) + (year - 1969) // 4\n",
    "    # 输入年份中，输入月份之前的月份的天数贡献\n",
    "    days += sum(monthDays[:month-1])\n",
    "    if (year % 400 == 0 or (year % 4 == 0 and year % 100 != 0)) and month >= 3:\n",
    "        days += 1\n",
    "    # 输入月份中的天数贡献\n",
    "    days += day\n",
    "\n",
    "    return week[(days + 3) % 7]\n",
    "    \n",
    "    \n",
    "    \n",
    "    pass\n",
    "\n",
    "day = 31\n",
    "month = 8\n",
    "year = 2019\n",
    "dayOfTheWeek(day,month,year)"
   ]
  },
  {
   "cell_type": "code",
   "execution_count": 2,
   "metadata": {},
   "outputs": [
    {
     "data": {
      "text/plain": [
       "[30, 30, 30, 30, 30, 30, 30, 30, 30, 30, 30, 30]"
      ]
     },
     "execution_count": 2,
     "metadata": {},
     "output_type": "execute_result"
    }
   ],
   "source": [
    "[30]*12"
   ]
  }
 ],
 "metadata": {
  "kernelspec": {
   "display_name": "Python 3",
   "language": "python",
   "name": "python3"
  },
  "language_info": {
   "codemirror_mode": {
    "name": "ipython",
    "version": 3
   },
   "file_extension": ".py",
   "mimetype": "text/x-python",
   "name": "python",
   "nbconvert_exporter": "python",
   "pygments_lexer": "ipython3",
   "version": "3.6.9"
  },
  "toc-autonumbering": false,
  "toc-showcode": false,
  "toc-showmarkdowntxt": false,
  "toc-showtags": false
 },
 "nbformat": 4,
 "nbformat_minor": 4
}
