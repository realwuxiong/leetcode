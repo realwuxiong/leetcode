{
 "cells": [
  {
   "cell_type": "code",
   "execution_count": 102,
   "metadata": {},
   "outputs": [
    {
     "data": {
      "text/plain": [
       "False"
      ]
     },
     "execution_count": 102,
     "metadata": {},
     "output_type": "execute_result"
    }
   ],
   "source": [
    "# 794. 有效的井字游戏\n",
    "# https://leetcode-cn.com/problems/valid-tic-tac-toe-state/\n",
    "\n",
    "from typing import List\n",
    "def validTicTacToe(board: List[str]) -> bool:\n",
    "    # 这个题目不好整啊，最近没心情写代码。。。本周日中期。。。\n",
    "    a = []\n",
    "    b = []\n",
    "    for i in range(3):\n",
    "        for j in range(3):\n",
    "            if board[i][j] == \" \":\n",
    "                continue\n",
    "            if board[i][j] == \"X\":\n",
    "                a.append((i,j))\n",
    "            else:\n",
    "                b.append((i,j))\n",
    "    if len(a) != len(b):\n",
    "        return False\n",
    "# #     def check()\n",
    "    \n",
    "    \n",
    "    pass\n",
    "board = [\"O  \", \"   \", \"   \"]\n",
    "validTicTacToe(board)"
   ]
  },
  {
   "cell_type": "code",
   "execution_count": null,
   "metadata": {},
   "outputs": [],
   "source": [
    "# 不想做，直接复制了。。\n",
    "class Solution:\n",
    "    def win(self, board: List[str], p: str) -> bool:\n",
    "        return any(board[i][0] == p and board[i][1] == p and board[i][2] == p or\n",
    "                   board[0][i] == p and board[1][i] == p and board[2][i] == p for i in range(3)) or \\\n",
    "                   board[0][0] == p and board[1][1] == p and board[2][2] == p or \\\n",
    "                   board[0][2] == p and board[1][1] == p and board[2][0] == p\n",
    "\n",
    "    def validTicTacToe(self, board: List[str]) -> bool:\n",
    "        oCount = sum(row.count('O') for row in board)\n",
    "        xCount = sum(row.count('X') for row in board)\n",
    "        return not (oCount != xCount and oCount != xCount - 1 or\n",
    "                    oCount != xCount and self.win(board, 'O') or\n",
    "                    oCount != xCount - 1 and self.win(board, 'X'))\n"
   ]
  }
 ],
 "metadata": {
  "kernelspec": {
   "display_name": "Python 3",
   "language": "python",
   "name": "python3"
  },
  "language_info": {
   "codemirror_mode": {
    "name": "ipython",
    "version": 3
   },
   "file_extension": ".py",
   "mimetype": "text/x-python",
   "name": "python",
   "nbconvert_exporter": "python",
   "pygments_lexer": "ipython3",
   "version": "3.6.9"
  },
  "toc-autonumbering": false,
  "toc-showcode": false,
  "toc-showmarkdowntxt": false,
  "toc-showtags": false
 },
 "nbformat": 4,
 "nbformat_minor": 4
}
