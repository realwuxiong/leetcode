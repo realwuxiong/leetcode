{
 "cells": [
  {
   "cell_type": "code",
   "execution_count": 9,
   "metadata": {},
   "outputs": [
    {
     "data": {
      "text/plain": [
       "16"
      ]
     },
     "execution_count": 9,
     "metadata": {},
     "output_type": "execute_result"
    }
   ],
   "source": [
    "# 1818. 绝对差值和\n",
    "# https://leetcode-cn.com/problems/minimum-absolute-sum-difference/\n",
    "# 太蠢了，这思路是错的。。。。不想整了。看看答案\n",
    "from typing import List\n",
    "def minAbsoluteSumDiff(nums1: List[int], nums2: List[int]) -> int:\n",
    "    # 记住绝对值最大的index\n",
    "    index = 0\n",
    "    i = 0\n",
    "    t = -1\n",
    "    ans = 0\n",
    "    for num1,num2 in zip(nums1,nums2):\n",
    "        if abs(num1-num2)>t:\n",
    "            i = index\n",
    "            t = abs(num1-num2)\n",
    "        index += 1\n",
    "        ans += abs(num1-num2)\n",
    "        ans %= 10**9 + 7\n",
    "    if ans == 0:\n",
    "        return 0\n",
    "    \n",
    "    n1 = nums1[i]\n",
    "    n2 = nums2[i]\n",
    "    \n",
    "    tt = t\n",
    "    targetValue = n1\n",
    "    for num1 in nums1:\n",
    "        if abs(num1 - n2) < t:\n",
    "            t = abs(num1 - n2)\n",
    "    \n",
    "    return (ans - (tt-t))%(10**9+7)\n",
    "        \n",
    "    pass\n",
    "\n",
    "\n",
    "nums1 = [1,28,21]\n",
    "nums2 = [9,21,20]\n",
    "minAbsoluteSumDiff(nums1,nums2)"
   ]
  },
  {
   "cell_type": "code",
   "execution_count": null,
   "metadata": {},
   "outputs": [],
   "source": [
    "// 答案\n",
    "class Solution {\n",
    "    public int minAbsoluteSumDiff(int[] nums1, int[] nums2) {\n",
    "        final int MOD = 1000000007;\n",
    "        int n = nums1.length;\n",
    "        int[] rec = new int[n];\n",
    "        System.arraycopy(nums1, 0, rec, 0, n);\n",
    "        Arrays.sort(rec);\n",
    "        int sum = 0, maxn = 0;\n",
    "        for (int i = 0; i < n; i++) {\n",
    "            int diff = Math.abs(nums1[i] - nums2[i]);\n",
    "            sum = (sum + diff) % MOD;\n",
    "            int j = binarySearch(rec, nums2[i]);\n",
    "            if (j < n) {\n",
    "                maxn = Math.max(maxn, diff - (rec[j] - nums2[i]));\n",
    "            }\n",
    "            if (j > 0) {\n",
    "                maxn = Math.max(maxn, diff - (nums2[i] - rec[j - 1]));\n",
    "            }\n",
    "        }\n",
    "        return (sum - maxn + MOD) % MOD;\n",
    "    }\n",
    "\n",
    "    public int binarySearch(int[] rec, int target) {\n",
    "        int low = 0, high = rec.length - 1;\n",
    "        if (rec[high] < target) {\n",
    "            return high + 1;\n",
    "        }\n",
    "        while (low < high) {\n",
    "            int mid = (high - low) / 2 + low;\n",
    "            if (rec[mid] < target) {\n",
    "                low = mid + 1;\n",
    "            } else {\n",
    "                high = mid;\n",
    "            }\n",
    "        }\n",
    "        return low;\n",
    "    }\n",
    "}\n"
   ]
  }
 ],
 "metadata": {
  "kernelspec": {
   "display_name": "Python 3",
   "language": "python",
   "name": "python3"
  },
  "language_info": {
   "codemirror_mode": {
    "name": "ipython",
    "version": 3
   },
   "file_extension": ".py",
   "mimetype": "text/x-python",
   "name": "python",
   "nbconvert_exporter": "python",
   "pygments_lexer": "ipython3",
   "version": "3.6.9"
  }
 },
 "nbformat": 4,
 "nbformat_minor": 4
}
