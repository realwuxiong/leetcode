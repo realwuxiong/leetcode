{
 "cells": [
  {
   "cell_type": "code",
   "execution_count": 4,
   "metadata": {},
   "outputs": [
    {
     "data": {
      "text/plain": [
       "False"
      ]
     },
     "execution_count": 4,
     "metadata": {},
     "output_type": "execute_result"
    }
   ],
   "source": [
    "# 1037. 有效的回旋镖\n",
    "# https://leetcode.cn/problems/valid-boomerang/\n",
    "\n",
    "from typing import List\n",
    "def isBoomerang(points: List[List[int]]) -> bool:\n",
    "    v1 = (points[1][0] - points[0][0], points[1][1] - points[0][1])\n",
    "    v2 = (points[2][0] - points[0][0], points[2][1] - points[0][1])\n",
    "    return v1[0] * v2[1] - v1[1] * v2[0] != 0\n",
    "\n",
    "points = [[1,1],[2,2],[3,3]]\n",
    "isBoomerang(points)"
   ]
  }
 ],
 "metadata": {
  "kernelspec": {
   "display_name": "Python 3",
   "language": "python",
   "name": "python3"
  },
  "language_info": {
   "codemirror_mode": {
    "name": "ipython",
    "version": 3
   },
   "file_extension": ".py",
   "mimetype": "text/x-python",
   "name": "python",
   "nbconvert_exporter": "python",
   "pygments_lexer": "ipython3",
   "version": "3.6.9"
  },
  "toc-autonumbering": false,
  "toc-showcode": false,
  "toc-showmarkdowntxt": false,
  "toc-showtags": false
 },
 "nbformat": 4,
 "nbformat_minor": 4
}
