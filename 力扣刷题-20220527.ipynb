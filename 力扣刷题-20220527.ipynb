{
 "cells": [
  {
   "cell_type": "code",
   "execution_count": 8,
   "metadata": {},
   "outputs": [
    {
     "name": "stdout",
     "output_type": "stream",
     "text": [
      "[2, 5, 8] [3]\n"
     ]
    },
    {
     "data": {
      "text/plain": [
       "1"
      ]
     },
     "execution_count": 8,
     "metadata": {},
     "output_type": "execute_result"
    }
   ],
   "source": [
    "# 面试题 17.11. 单词距离\n",
    "# https://leetcode.cn/problems/find-closest-lcci/\n",
    "# 一次过，nice\n",
    "from typing import List\n",
    "def findClosest(words: List[str], word1: str, word2: str) -> int:\n",
    "    list1 = [i for i,word in enumerate(words) if word == word1]\n",
    "    list2 = [i for i,word in enumerate(words) if word == word2]\n",
    "#     print(list1,list2)\n",
    "    \n",
    "    def findClosetN(num):\n",
    "        n = len(list2)\n",
    "        start,end = 0, n-1\n",
    "        \n",
    "        while start < end:\n",
    "            mid = start + (end-start)//2\n",
    "            \n",
    "            if list2[mid] == num:  # 题目的限制，不存在等于的情况\n",
    "                return\n",
    "            if list2[mid] > num:\n",
    "                end = mid -1 \n",
    "            else:\n",
    "                start = mid + 1\n",
    "        if start +1 < n and abs(list2[start+1] - num) < abs(list2[start] - num):\n",
    "            return list2[start+1]\n",
    "        \n",
    "        if start -1 > -1 and abs(list2[start-1] - num) < abs(list2[start] - num):\n",
    "            return list2[start-1]\n",
    "        return list2[start]\n",
    "            \n",
    "        \n",
    "    return min([abs(num-findClosetN(num)) for num in list1])\n",
    "\n",
    "\n",
    "words = [\"I\",\"am\",\"a\",\"student\",\"from\",\"a\",\"university\",\"in\",\"a\",\"city\"]\n",
    "word1 = \"a\"\n",
    "word2 = \"student\"\n",
    "\n",
    "findClosest(words,word1,word2)"
   ]
  },
  {
   "cell_type": "code",
   "execution_count": null,
   "metadata": {},
   "outputs": [],
   "source": [
    "# 答案的解法更加巧妙\n",
    "class Solution:\n",
    "    def findClosest(self, words: List[str], word1: str, word2: str) -> int:\n",
    "        ans = len(words)\n",
    "        index1, index2 = -1, -1\n",
    "        for i, word in enumerate(words):\n",
    "            if word == word1:\n",
    "                index1 = i\n",
    "            elif word == word2:\n",
    "                index2 = i\n",
    "            if index1 >= 0 and index2 >= 0:\n",
    "                ans = min(ans, abs(index1 - index2))\n",
    "        return ans\n"
   ]
  }
 ],
 "metadata": {
  "kernelspec": {
   "display_name": "Python 3",
   "language": "python",
   "name": "python3"
  },
  "language_info": {
   "codemirror_mode": {
    "name": "ipython",
    "version": 3
   },
   "file_extension": ".py",
   "mimetype": "text/x-python",
   "name": "python",
   "nbconvert_exporter": "python",
   "pygments_lexer": "ipython3",
   "version": "3.6.9"
  },
  "toc-autonumbering": false,
  "toc-showcode": false,
  "toc-showmarkdowntxt": false,
  "toc-showtags": false
 },
 "nbformat": 4,
 "nbformat_minor": 4
}
