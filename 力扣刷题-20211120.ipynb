{
 "cells": [
  {
   "cell_type": "code",
   "execution_count": 4,
   "metadata": {},
   "outputs": [
    {
     "data": {
      "text/plain": [
       "5"
      ]
     },
     "execution_count": 4,
     "metadata": {},
     "output_type": "execute_result"
    }
   ],
   "source": [
    "# 594. 最长和谐子序列\n",
    "# https://leetcode-cn.com/problems/longest-harmonious-subsequence/\n",
    "\n",
    "from typing import List\n",
    "def findLHS(nums: List[int]) -> int:\n",
    "    \n",
    "    import collections \n",
    "    counter = collections.Counter(nums)\n",
    "    data = sorted(counter.keys())\n",
    "    ans = 0\n",
    "    for i in range(1,len(data)):\n",
    "        if data[i] - data[i-1] == 1:\n",
    "            ans = max(ans,counter[data[i]]+counter[data[i-1]])\n",
    "    return ans\n",
    "    pass\n",
    "nums = [1,3,2,2,5,2,3,7]\n",
    "findLHS(nums)"
   ]
  }
 ],
 "metadata": {
  "kernelspec": {
   "display_name": "Python 3",
   "language": "python",
   "name": "python3"
  },
  "language_info": {
   "codemirror_mode": {
    "name": "ipython",
    "version": 3
   },
   "file_extension": ".py",
   "mimetype": "text/x-python",
   "name": "python",
   "nbconvert_exporter": "python",
   "pygments_lexer": "ipython3",
   "version": "3.6.9"
  },
  "toc-autonumbering": false,
  "toc-showcode": false,
  "toc-showmarkdowntxt": false,
  "toc-showtags": false
 },
 "nbformat": 4,
 "nbformat_minor": 4
}
