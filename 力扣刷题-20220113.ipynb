{
 "cells": [
  {
   "cell_type": "code",
   "execution_count": 14,
   "metadata": {},
   "outputs": [
    {
     "name": "stdout",
     "output_type": "stream",
     "text": [
      "-inf\n"
     ]
    },
    {
     "data": {
      "text/plain": [
       "0"
      ]
     },
     "execution_count": 14,
     "metadata": {},
     "output_type": "execute_result"
    }
   ],
   "source": [
    "# 747. 至少是其他数字两倍的最大数\n",
    "# https://leetcode-cn.com/problems/largest-number-at-least-twice-of-others/\n",
    "\n",
    "from typing import List\n",
    "def dominantIndex(nums: List[int]) -> int:\n",
    "    # 只用比最大的数和第二大的数\n",
    "    first = max(nums)\n",
    "    ans = -1\n",
    "    second = float(\"-inf\")\n",
    "    for i in range(len(nums)):\n",
    "        if second < nums[i] and nums[i] != first:\n",
    "            second = nums[i]\n",
    "        if first == nums[i]:\n",
    "            ans = i\n",
    "    return ans if second == float(\"-inf\") or first >= second * 2 else -1\n",
    "    \n",
    "nums = [1]\n",
    "dominantIndex(nums)"
   ]
  }
 ],
 "metadata": {
  "kernelspec": {
   "display_name": "Python 3",
   "language": "python",
   "name": "python3"
  },
  "language_info": {
   "codemirror_mode": {
    "name": "ipython",
    "version": 3
   },
   "file_extension": ".py",
   "mimetype": "text/x-python",
   "name": "python",
   "nbconvert_exporter": "python",
   "pygments_lexer": "ipython3",
   "version": "3.6.9"
  },
  "toc-autonumbering": false,
  "toc-showcode": false,
  "toc-showmarkdowntxt": false,
  "toc-showtags": false
 },
 "nbformat": 4,
 "nbformat_minor": 4
}
