{
 "cells": [
  {
   "cell_type": "code",
   "execution_count": null,
   "metadata": {},
   "outputs": [],
   "source": [
    "# 897. 递增顺序搜索树\n",
    "# https://leetcode-cn.com/problems/increasing-order-search-tree/\n",
    "# 这个题目到简单\n",
    "# Definition for a binary tree node.\n",
    "# class TreeNode:\n",
    "#     def __init__(self, val=0, left=None, right=None):\n",
    "#         self.val = val\n",
    "#         self.left = left\n",
    "#         self.right = right\n",
    "class Solution:\n",
    "    def increasingBST(self, root: TreeNode) -> TreeNode:\n",
    "        res = TreeNode()\n",
    "        global p\n",
    "        p = res\n",
    "        def dfs(root):\n",
    "            global p\n",
    "            if not root:\n",
    "                return\n",
    "            dfs(root.left)\n",
    "            print(root.val)\n",
    "            p.right = TreeNode(val=root.val)\n",
    "            p = p.right\n",
    "            dfs(root.right)\n",
    "        dfs(root)\n",
    "        return res.right"
   ]
  },
  {
   "cell_type": "code",
   "execution_count": null,
   "metadata": {},
   "outputs": [],
   "source": [
    "// java 版本\n",
    "/**\n",
    " * Definition for a binary tree node.\n",
    " * public class TreeNode {\n",
    " *     int val;\n",
    " *     TreeNode left;\n",
    " *     TreeNode right;\n",
    " *     TreeNode() {}\n",
    " *     TreeNode(int val) { this.val = val; }\n",
    " *     TreeNode(int val, TreeNode left, TreeNode right) {\n",
    " *         this.val = val;\n",
    " *         this.left = left;\n",
    " *         this.right = right;\n",
    " *     }\n",
    " * }\n",
    " */\n",
    "class Solution {\n",
    "    private TreeNode dummyNode,p;\n",
    "    public TreeNode increasingBST(TreeNode root) {\n",
    "        dummyNode = new TreeNode(-1);\n",
    "        p = dummyNode;\n",
    "        dfs(root);\n",
    "        return dummyNode.right;\n",
    "    }\n",
    "    public void dfs(TreeNode root){\n",
    "        if(root == null)return;\n",
    "        dfs(root.left);\n",
    "        p.right = root;\n",
    "        root.left = null;\n",
    "        p = p.right;\n",
    "        dfs(root.right);\n",
    "    }\n",
    "}"
   ]
  }
 ],
 "metadata": {
  "kernelspec": {
   "display_name": "Python 3",
   "language": "python",
   "name": "python3"
  },
  "language_info": {
   "codemirror_mode": {
    "name": "ipython",
    "version": 3
   },
   "file_extension": ".py",
   "mimetype": "text/x-python",
   "name": "python",
   "nbconvert_exporter": "python",
   "pygments_lexer": "ipython3",
   "version": "3.6.9"
  }
 },
 "nbformat": 4,
 "nbformat_minor": 4
}
