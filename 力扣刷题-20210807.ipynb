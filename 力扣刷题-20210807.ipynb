{
 "cells": [
  {
   "cell_type": "code",
   "execution_count": 18,
   "metadata": {},
   "outputs": [
    {
     "data": {
      "text/plain": [
       "False"
      ]
     },
     "execution_count": 18,
     "metadata": {},
     "output_type": "execute_result"
    }
   ],
   "source": [
    "# 457. 环形数组是否存在循环\n",
    "# https://leetcode-cn.com/problems/circular-array-loop/\n",
    "\n",
    "from typing import List\n",
    "def circularArrayLoop(nums: List[int]) -> bool:\n",
    "    n = len(nums)\n",
    "    # 总算写出来了。。。。\n",
    "    for i in range(n):\n",
    "        # 从i开始出发\n",
    "        mySet = set()\n",
    "        flag = nums[i] > 0  # 为正数是True,反之为False\n",
    "        t = i\n",
    "        while flag == (nums[t]>0) and len(mySet) <= n:\n",
    "            if t in mySet :\n",
    "                if len(mySet) > 1:\n",
    "                    return True\n",
    "                else:\n",
    "                    break\n",
    "            else:\n",
    "                mySet.add(t)\n",
    "                if t == (t+nums[t]+n)%n:\n",
    "                    break\n",
    "                t = (t+nums[t])%n\n",
    "    return False\n",
    "    pass\n",
    "nums =  [-1,-2,-3,-4,-5]\n",
    "circularArrayLoop(nums)"
   ]
  },
  {
   "cell_type": "code",
   "execution_count": 17,
   "metadata": {},
   "outputs": [
    {
     "data": {
      "text/plain": [
       "False"
      ]
     },
     "execution_count": 17,
     "metadata": {},
     "output_type": "execute_result"
    }
   ],
   "source": [
    "# 精简了一下代码\n",
    "from typing import List\n",
    "def circularArrayLoop(nums: List[int]) -> bool:\n",
    "    n = len(nums)\n",
    "    for i in range(n):\n",
    "        # 从i开始出发\n",
    "        mySet = set()\n",
    "        flag = nums[i] > 0  # 为正数是True,反之为False\n",
    "        t = i\n",
    "        while flag == (nums[t]>0) and len(mySet) <= n:\n",
    "            if t == (t+nums[t])%n:  #自循环的时候不算，因为要求K>1\n",
    "                break\n",
    "            if t in mySet:\n",
    "                return True\n",
    "            mySet.add(t)\n",
    "            t = (t+nums[t]+n)%n # 括号里加一个n容易理解，比如-1,就变成了n-1就是最后一个索引\n",
    "    return False\n",
    "nums =  [-1,-2,-3,-4,-5]\n",
    "circularArrayLoop(nums)"
   ]
  }
 ],
 "metadata": {
  "kernelspec": {
   "display_name": "Python 3",
   "language": "python",
   "name": "python3"
  },
  "language_info": {
   "codemirror_mode": {
    "name": "ipython",
    "version": 3
   },
   "file_extension": ".py",
   "mimetype": "text/x-python",
   "name": "python",
   "nbconvert_exporter": "python",
   "pygments_lexer": "ipython3",
   "version": "3.6.9"
  },
  "toc-autonumbering": false,
  "toc-showcode": false,
  "toc-showmarkdowntxt": false,
  "toc-showtags": false
 },
 "nbformat": 4,
 "nbformat_minor": 4
}
