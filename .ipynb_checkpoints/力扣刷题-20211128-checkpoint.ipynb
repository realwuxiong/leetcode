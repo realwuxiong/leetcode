{
 "cells": [
  {
   "cell_type": "code",
   "execution_count": 13,
   "metadata": {},
   "outputs": [
    {
     "data": {
      "text/plain": [
       "[0, 1, 2]"
      ]
     },
     "execution_count": 13,
     "metadata": {},
     "output_type": "execute_result"
    }
   ],
   "source": [
    "# 438. 找到字符串中所有字母异位词\n",
    "# https://leetcode-cn.com/problems/find-all-anagrams-in-a-string/\n",
    "\n",
    "# 居然和答案的写法一模一样。。。\n",
    "from typing import List\n",
    "def findAnagrams(s: str, p: str) -> List[int]:\n",
    "    # 其实就是滑动窗口\n",
    "    ans = []\n",
    "    if len(p)>len(s):\n",
    "        return ans\n",
    "    n = len(p)\n",
    "    target = [0]*26\n",
    "    stack = [0]*26\n",
    "    for pp in p:\n",
    "        target[ord(pp)-ord('a')] += 1\n",
    "    for i in range(n):\n",
    "        stack[ord(s[i])-ord('a')] += 1\n",
    "    if stack==target:\n",
    "        ans.append(0)\n",
    "    for i in range(n,len(s)):\n",
    "        stack[ord(s[i-n])-ord('a')] -= 1\n",
    "        stack[ord(s[i])-ord('a')] += 1\n",
    "        if stack == target:\n",
    "            ans.append(i-n+1)\n",
    "    return ans\n",
    "s = \"abab\"\n",
    "p = \"ab\"\n",
    "findAnagrams(s,p)"
   ]
  }
 ],
 "metadata": {
  "kernelspec": {
   "display_name": "Python 3",
   "language": "python",
   "name": "python3"
  },
  "language_info": {
   "codemirror_mode": {
    "name": "ipython",
    "version": 3
   },
   "file_extension": ".py",
   "mimetype": "text/x-python",
   "name": "python",
   "nbconvert_exporter": "python",
   "pygments_lexer": "ipython3",
   "version": "3.6.9"
  },
  "toc-autonumbering": false,
  "toc-showcode": false,
  "toc-showmarkdowntxt": false,
  "toc-showtags": false
 },
 "nbformat": 4,
 "nbformat_minor": 4
}
