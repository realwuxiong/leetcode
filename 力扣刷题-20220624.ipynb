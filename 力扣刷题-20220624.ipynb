{
 "cells": [
  {
   "cell_type": "code",
   "execution_count": null,
   "metadata": {},
   "outputs": [],
   "source": [
    "# 515. 在每个树行中找最大值\n",
    "# https://leetcode.cn/problems/find-largest-value-in-each-tree-row/\n",
    "\n",
    "# Definition for a binary tree node.\n",
    "# class TreeNode:\n",
    "#     def __init__(self, val=0, left=None, right=None):\n",
    "#         self.val = val\n",
    "#         self.left = left\n",
    "#         self.right = right\n",
    "class Solution:\n",
    "    def largestValues(self, root: Optional[TreeNode]) -> List[int]:\n",
    "        # 双向链表\n",
    "        # 按层次遍历不久完事了？\n",
    "        if not root:\n",
    "            return []\n",
    "        import collections\n",
    "        d = collections.deque()\n",
    "        d.append(root)\n",
    "        ans = []\n",
    "        while d:\n",
    "            n = len(d)\n",
    "            t = float(\"-INF\")\n",
    "            for i in range(n):\n",
    "                node = d.popleft()\n",
    "                t = max(t,node.val)\n",
    "                if node.left:\n",
    "                    d.append(node.left)\n",
    "                if node.right:\n",
    "                    d.append(node.right)\n",
    "            ans.append(t)\n",
    "        return ans"
   ]
  }
 ],
 "metadata": {
  "kernelspec": {
   "display_name": "Python 3",
   "language": "python",
   "name": "python3"
  },
  "language_info": {
   "codemirror_mode": {
    "name": "ipython",
    "version": 3
   },
   "file_extension": ".py",
   "mimetype": "text/x-python",
   "name": "python",
   "nbconvert_exporter": "python",
   "pygments_lexer": "ipython3",
   "version": "3.6.9"
  },
  "toc-autonumbering": false,
  "toc-showcode": false,
  "toc-showmarkdowntxt": false,
  "toc-showtags": false
 },
 "nbformat": 4,
 "nbformat_minor": 4
}
