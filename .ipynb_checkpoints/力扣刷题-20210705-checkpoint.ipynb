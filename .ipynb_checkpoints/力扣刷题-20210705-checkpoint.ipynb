{
 "cells": [
  {
   "cell_type": "code",
   "execution_count": null,
   "metadata": {},
   "outputs": [],
   "source": [
    "# 726. 原子的数量\n",
    "# https://leetcode-cn.com/problems/number-of-atoms/\n",
    "\n",
    "def countOfAtoms(formula: str) -> str:\n",
    "    # 用堆栈就行,这个题目和那个eval加减法很相似，，\n",
    "    # 做不出来，，，先cv吧\n",
    "    n = len(formula)\n",
    "    i = 0\n",
    "    def dfs(j):\n",
    "        dic = {}\n",
    "        while j < n:\n",
    "            if '(' == formula[j]:\n",
    "                index,dicc=dfs(j+1)\n",
    "                j = index\n",
    "            elif \")\"== formula[j]:\n",
    "                while j+1 < n:\n",
    "                    x = 1\n",
    "                    ans = 0\n",
    "                    if formula[j+1].isdigit():\n",
    "                        ans += int(formula[j+1])*(10**(x-1))\n",
    "                        x+=1\n",
    "                        j+=1\n",
    "                    else:\n",
    "                        break\n",
    "                if ans >0:\n",
    "                    for k in dic.keys():\n",
    "                        dic[k] = ans\n",
    "                return j,dic\n",
    "                \n",
    "            \n",
    "        \n",
    "    while i < n:\n",
    "        j = i\n",
    "        if '(' == formula[i]:\n",
    "            dfs(j+1)\n",
    "    \n",
    "    \n",
    "    \n",
    "    \n",
    "    pass\n",
    "formula = \"K4(ON(SO3)2)2\"\n",
    "countOfAtoms(formula)"
   ]
  }
 ],
 "metadata": {
  "kernelspec": {
   "display_name": "Python 3",
   "language": "python",
   "name": "python3"
  },
  "language_info": {
   "codemirror_mode": {
    "name": "ipython",
    "version": 3
   },
   "file_extension": ".py",
   "mimetype": "text/x-python",
   "name": "python",
   "nbconvert_exporter": "python",
   "pygments_lexer": "ipython3",
   "version": "3.6.9"
  }
 },
 "nbformat": 4,
 "nbformat_minor": 4
}
