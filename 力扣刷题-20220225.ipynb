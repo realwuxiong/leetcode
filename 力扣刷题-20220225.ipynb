{
 "cells": [
  {
   "cell_type": "code",
   "execution_count": 19,
   "metadata": {},
   "outputs": [
    {
     "data": {
      "text/plain": [
       "'-1236+12152i'"
      ]
     },
     "execution_count": 19,
     "metadata": {},
     "output_type": "execute_result"
    }
   ],
   "source": [
    "# 537. 复数乘法\n",
    "# https://leetcode-cn.com/problems/complex-number-multiplication/\n",
    "\n",
    "# 没有答案写的简介。。\n",
    "def complexNumberMultiply(num1: str, num2: str) -> str:\n",
    "    n1,n2 = len(num1),len(num2)\n",
    "    def func(num):\n",
    "        nums = num.split(\"+\")\n",
    "        a = 0 if len(nums[0]) == 0 else int(nums[0])\n",
    "        b = int(nums[1][:-1])\n",
    "        return (a,b)\n",
    "\n",
    "    s1,i1 =  func(num1)\n",
    "    s2,i2 =  func(num2)\n",
    "    \n",
    "    ans_s_1 = s1*s2\n",
    "    ans_i_1 = s1*i2\n",
    "    \n",
    "    ans_i_2 = i1*s2\n",
    "    ans_s_2 = -1*i1*i2\n",
    "    \n",
    "    return f\"{ans_s_1+ans_s_2}+{ans_i_1+ans_i_2}i\"\n",
    "    \n",
    "    pass\n",
    "# \"78+-76i\"\n",
    "# \"-86+72i\"\n",
    "num1 = \"78+-76i\"\n",
    "num2 = \"-86+72i\"\n",
    "complexNumberMultiply(num1,num2)"
   ]
  },
  {
   "cell_type": "code",
   "execution_count": 17,
   "metadata": {},
   "outputs": [
    {
     "data": {
      "text/plain": [
       "0"
      ]
     },
     "execution_count": 17,
     "metadata": {},
     "output_type": "execute_result"
    }
   ],
   "source": []
  }
 ],
 "metadata": {
  "kernelspec": {
   "display_name": "Python 3",
   "language": "python",
   "name": "python3"
  },
  "language_info": {
   "codemirror_mode": {
    "name": "ipython",
    "version": 3
   },
   "file_extension": ".py",
   "mimetype": "text/x-python",
   "name": "python",
   "nbconvert_exporter": "python",
   "pygments_lexer": "ipython3",
   "version": "3.6.9"
  },
  "toc-autonumbering": false,
  "toc-showcode": false,
  "toc-showmarkdowntxt": false,
  "toc-showtags": false
 },
 "nbformat": 4,
 "nbformat_minor": 4
}
