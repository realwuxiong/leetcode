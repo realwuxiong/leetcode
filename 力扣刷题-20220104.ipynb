{
 "cells": [
  {
   "cell_type": "code",
   "execution_count": null,
   "metadata": {},
   "outputs": [],
   "source": [
    "# 913. 猫和老鼠\n",
    "# https://leetcode-cn.com/problems/cat-and-mouse/\n",
    "\n",
    "from typing import List\n",
    "def catMouseGame(graph: List[List[int]]) -> int:\n",
    "    # 其实就是看谁最先到洞里\n",
    "    # 困难题，直接放弃\n",
    "    \n",
    "    pass\n",
    "graph = [[2,5],[3],[0,4,5],[1,4,5],[2,3],[0,2,3]]\n",
    "catMouseGame(graph)"
   ]
  }
 ],
 "metadata": {
  "kernelspec": {
   "display_name": "Python 3",
   "language": "python",
   "name": "python3"
  },
  "language_info": {
   "codemirror_mode": {
    "name": "ipython",
    "version": 3
   },
   "file_extension": ".py",
   "mimetype": "text/x-python",
   "name": "python",
   "nbconvert_exporter": "python",
   "pygments_lexer": "ipython3",
   "version": "3.6.9"
  },
  "toc-autonumbering": false,
  "toc-showcode": false,
  "toc-showmarkdowntxt": false,
  "toc-showtags": false
 },
 "nbformat": 4,
 "nbformat_minor": 4
}
