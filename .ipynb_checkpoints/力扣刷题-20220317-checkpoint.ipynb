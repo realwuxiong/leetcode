{
 "cells": [
  {
   "cell_type": "code",
   "execution_count": 3,
   "metadata": {},
   "outputs": [
    {
     "data": {
      "text/plain": [
       "'banana'"
      ]
     },
     "execution_count": 3,
     "metadata": {},
     "output_type": "execute_result"
    }
   ],
   "source": [
    "# 720. 词典中最长的单词\n",
    "# https://leetcode-cn.com/problems/longest-word-in-dictionary/\n",
    "\n",
    "from typing import List\n",
    "def longestWord(words: List[str]) -> str:\n",
    "    max_length = 0\n",
    "    max_word = words[0]\n",
    "    \n",
    "    for word in words:\n",
    "        if len(word) > max_length:\n",
    "            max_length = len(word)\n",
    "            max_word = word\n",
    "        elif len(word) == max_length and word < max_words:\n",
    "            max_word = word\n",
    "    return max_word\n",
    "    \n",
    "    pass\n",
    "\n",
    "words = [\"a\", \"banana\", \"app\", \"appl\", \"ap\", \"apply\", \"apple\"]\n",
    "longestWord(words)"
   ]
  },
  {
   "cell_type": "code",
   "execution_count": null,
   "metadata": {},
   "outputs": [],
   "source": [
    "\n",
    "# 下面三个值你都需要写输入，然后存到对应数字里\n",
    "a = 6\n",
    "list1 = [67,88,91,88,99,88]\n",
    "list2 = [80,92,68,70,85,77]\n",
    "\n",
    "mylist = []\n",
    "for i in range(a):\n",
    "    "
   ]
  }
 ],
 "metadata": {
  "kernelspec": {
   "display_name": "Python 3",
   "language": "python",
   "name": "python3"
  },
  "language_info": {
   "codemirror_mode": {
    "name": "ipython",
    "version": 3
   },
   "file_extension": ".py",
   "mimetype": "text/x-python",
   "name": "python",
   "nbconvert_exporter": "python",
   "pygments_lexer": "ipython3",
   "version": "3.6.9"
  },
  "toc-autonumbering": false,
  "toc-showcode": false,
  "toc-showmarkdowntxt": false,
  "toc-showtags": false
 },
 "nbformat": 4,
 "nbformat_minor": 4
}
