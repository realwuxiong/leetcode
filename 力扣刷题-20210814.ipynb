{
 "cells": [
  {
   "cell_type": "code",
   "execution_count": 2,
   "metadata": {},
   "outputs": [
    {
     "name": "stdout",
     "output_type": "stream",
     "text": [
      "4 [[1, 2, 3], [3, 2, 0], [3, 1, 0], [1, 2, 0]] [[0, 1], [2, 3]]\n"
     ]
    }
   ],
   "source": [
    "# 1583. 统计不开心的朋友\n",
    "# https://leetcode-cn.com/problems/count-unhappy-friends/\n",
    "\n",
    "from typing import List\n",
    "def unhappyFriends(n: int, preferences: List[List[int]], pairs: List[List[int]]) -> int:\n",
    "    print(n,preferences,pairs)\n",
    "    pass\n",
    "\n",
    "n = 4\n",
    "preferences = [[1, 2, 3], [3, 2, 0], [3, 1, 0], [1, 2, 0]]\n",
    "pairs = [[0, 1], [2, 3]]\n",
    "unhappyFriends(n,preferences,pairs)\n"
   ]
  }
 ],
 "metadata": {
  "kernelspec": {
   "display_name": "Python 3",
   "language": "python",
   "name": "python3"
  },
  "language_info": {
   "codemirror_mode": {
    "name": "ipython",
    "version": 3
   },
   "file_extension": ".py",
   "mimetype": "text/x-python",
   "name": "python",
   "nbconvert_exporter": "python",
   "pygments_lexer": "ipython3",
   "version": "3.6.9"
  },
  "toc-autonumbering": false,
  "toc-showcode": false,
  "toc-showmarkdowntxt": false,
  "toc-showtags": false
 },
 "nbformat": 4,
 "nbformat_minor": 4
}
