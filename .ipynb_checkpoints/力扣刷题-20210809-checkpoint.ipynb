{
 "cells": [
  {
   "cell_type": "code",
   "execution_count": 18,
   "metadata": {},
   "outputs": [
    {
     "data": {
      "text/plain": [
       "32"
      ]
     },
     "execution_count": 18,
     "metadata": {},
     "output_type": "execute_result"
    }
   ],
   "source": [
    "# 313. 超级丑数\n",
    "# https://leetcode-cn.com/problems/super-ugly-number/\n",
    "\n",
    "# 用264. 丑数 II的动态规划的方法\n",
    "# 这题目真漂亮啊，多指针，动态规划。。。\n",
    "from typing import List\n",
    "def nthSuperUglyNumber(n: int, primes: List[int]) -> int:\n",
    "    ans = [1]\n",
    "    total = len(primes)\n",
    "    p = [0]*total\n",
    "    \n",
    "    while len(ans) < n:\n",
    "        minValue = min([ans[p[i]]*primes[i] for i in range(total)])\n",
    "        ans.append(minValue)\n",
    "        for i in range(total):\n",
    "            if ans[p[i]]*primes[i] == minValue:\n",
    "                p[i] += 1\n",
    "                \n",
    "    return ans[-1]\n",
    "    pass\n",
    "n = 12\n",
    "primes = [2,7,13,19]\n",
    "nthSuperUglyNumber(n,primes)"
   ]
  },
  {
   "cell_type": "code",
   "execution_count": 10,
   "metadata": {},
   "outputs": [
    {
     "data": {
      "text/plain": [
       "243"
      ]
     },
     "execution_count": 10,
     "metadata": {},
     "output_type": "execute_result"
    }
   ],
   "source": [
    "# 264. 丑数 II\n",
    "# https://leetcode-cn.com/problems/ugly-number-ii/\n",
    "# 两种方法，最小堆和动态规划，动态规划很nice\n",
    "def nthUglyNumber(n: int) -> int:\n",
    "#     方法1，小顶堆\n",
    "    ans = [1]\n",
    "    import heapq\n",
    "    heapq.heapify(ans)\n",
    "    \n",
    "    i = 0\n",
    "    t=1\n",
    "    while i < n:\n",
    "        t = heapq.heappop(ans)\n",
    "        if t*2 not in ans:\n",
    "            heapq.heappush(ans,t*2)\n",
    "        if t*3 not in ans:\n",
    "            heapq.heappush(ans,t*3)\n",
    "        if t*5 not in ans:\n",
    "            heapq.heappush(ans,t*5)\n",
    "        i += 1\n",
    "    return t\n",
    "\n",
    "n = 50\n",
    "nthUglyNumber(n)\n"
   ]
  },
  {
   "cell_type": "code",
   "execution_count": 16,
   "metadata": {},
   "outputs": [
    {
     "data": {
      "text/plain": [
       "243"
      ]
     },
     "execution_count": 16,
     "metadata": {},
     "output_type": "execute_result"
    }
   ],
   "source": [
    "def nthUglyNumber(n: int) -> int:\n",
    "#     方法2，动态规划\n",
    "    ans = [1]\n",
    "    p1,p2,p3=0,0,0\n",
    "    while len(ans)<n:\n",
    "        t = min(ans[p1]*2,ans[p2]*3,ans[p3]*5)\n",
    "        ans.append(t)\n",
    "        if t == ans[p1]*2:\n",
    "            p1+=1\n",
    "        if t == ans[p2]*3:\n",
    "            p2+=1\n",
    "        if t == ans[p3]*5:\n",
    "            p3+=1\n",
    "    return ans[-1]  \n",
    "\n",
    "n = 50\n",
    "nthUglyNumber(n)\n"
   ]
  }
 ],
 "metadata": {
  "kernelspec": {
   "display_name": "Python 3",
   "language": "python",
   "name": "python3"
  },
  "language_info": {
   "codemirror_mode": {
    "name": "ipython",
    "version": 3
   },
   "file_extension": ".py",
   "mimetype": "text/x-python",
   "name": "python",
   "nbconvert_exporter": "python",
   "pygments_lexer": "ipython3",
   "version": "3.6.9"
  },
  "toc-autonumbering": false,
  "toc-showcode": false,
  "toc-showmarkdowntxt": false,
  "toc-showtags": false
 },
 "nbformat": 4,
 "nbformat_minor": 4
}
