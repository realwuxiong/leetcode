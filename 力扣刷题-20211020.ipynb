{
 "cells": [
  {
   "cell_type": "code",
   "execution_count": 16,
   "metadata": {},
   "outputs": [
    {
     "data": {
      "text/plain": [
       "3"
      ]
     },
     "execution_count": 16,
     "metadata": {},
     "output_type": "execute_result"
    }
   ],
   "source": [
    "# 453. 最小操作次数使数组元素相等\n",
    "# https://leetcode-cn.com/problems/minimum-moves-to-equal-array-elements/\n",
    "\n",
    "from typing import List\n",
    "def minMoves(nums: List[int]) -> int:\n",
    "#     print(nums)\n",
    "    # 智障做法，估计会超时\n",
    "    count = 0\n",
    "    n = len(nums)\n",
    "    while max(nums) != min(nums):\n",
    "        max_nums = max(nums)\n",
    "        min_nums = min(nums)\n",
    "\n",
    "        count += 1\n",
    "    return count\n",
    "    \n",
    "    pass\n",
    "nums = [1,2,3]\n",
    "minMoves(nums)"
   ]
  },
  {
   "cell_type": "code",
   "execution_count": null,
   "metadata": {},
   "outputs": [],
   "source": [
    "# 还是答案牛逼啊，n-1加1相当于1个数减1\n",
    "class Solution:\n",
    "    def minMoves(self, nums: List[int]) -> int:\n",
    "        min_num = min(nums)\n",
    "        res = 0\n",
    "        for num in nums:\n",
    "            res += num - min_num\n",
    "        return res\n",
    "\n"
   ]
  }
 ],
 "metadata": {
  "kernelspec": {
   "display_name": "Python 3",
   "language": "python",
   "name": "python3"
  },
  "language_info": {
   "codemirror_mode": {
    "name": "ipython",
    "version": 3
   },
   "file_extension": ".py",
   "mimetype": "text/x-python",
   "name": "python",
   "nbconvert_exporter": "python",
   "pygments_lexer": "ipython3",
   "version": "3.6.9"
  },
  "toc-autonumbering": false,
  "toc-showcode": false,
  "toc-showmarkdowntxt": false,
  "toc-showtags": false
 },
 "nbformat": 4,
 "nbformat_minor": 4
}
