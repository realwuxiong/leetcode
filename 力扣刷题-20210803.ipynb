{
 "cells": [
  {
   "cell_type": "code",
   "execution_count": 36,
   "metadata": {},
   "outputs": [
    {
     "data": {
      "text/plain": [
       "3"
      ]
     },
     "execution_count": 36,
     "metadata": {},
     "output_type": "execute_result"
    }
   ],
   "source": [
    "# 581. 最短无序连续子数组\n",
    "# https://leetcode-cn.com/problems/shortest-unsorted-continuous-subarray/\n",
    "from typing import List\n",
    "def findUnsortedSubarray(nums: List[int]) -> int:\n",
    "    # 连续的子数组，这个到还挺简单的\n",
    "    # 单调栈解题\n",
    "    # 加快解答题目的时间，，，，，，太慢了\n",
    "    \n",
    "    # 一次遍历,还是得看答案，这几天是怎么了。。。。。\n",
    "    n = len(nums)\n",
    "    maxn, right = float(\"-inf\"), -1\n",
    "    minn, left = float(\"inf\"), -1\n",
    "\n",
    "    for i in range(n):\n",
    "        if maxn > nums[i]:\n",
    "            right = i\n",
    "        else:\n",
    "            maxn = nums[i]\n",
    "\n",
    "        if minn < nums[n - i - 1]:\n",
    "            left = n - i - 1\n",
    "        else:\n",
    "            minn = nums[n - i - 1]\n",
    "\n",
    "    return 0 if right == -1 else right - left + 1\n",
    "\n",
    "    \n",
    "    pass\n",
    "nums =  [2,3,3,2,4]\n",
    "findUnsortedSubarray(nums)"
   ]
  }
 ],
 "metadata": {
  "kernelspec": {
   "display_name": "Python 3",
   "language": "python",
   "name": "python3"
  },
  "language_info": {
   "codemirror_mode": {
    "name": "ipython",
    "version": 3
   },
   "file_extension": ".py",
   "mimetype": "text/x-python",
   "name": "python",
   "nbconvert_exporter": "python",
   "pygments_lexer": "ipython3",
   "version": "3.6.9"
  },
  "toc-autonumbering": false,
  "toc-showcode": false,
  "toc-showmarkdowntxt": false,
  "toc-showtags": false
 },
 "nbformat": 4,
 "nbformat_minor": 4
}
