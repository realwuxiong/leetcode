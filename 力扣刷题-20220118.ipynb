{
 "cells": [
  {
   "cell_type": "code",
   "execution_count": 4,
   "metadata": {},
   "outputs": [
    {
     "data": {
      "text/plain": [
       "0"
      ]
     },
     "execution_count": 4,
     "metadata": {},
     "output_type": "execute_result"
    }
   ],
   "source": [
    "# 539. 最小时间差\n",
    "# https://leetcode-cn.com/problems/minimum-time-difference/\n",
    "\n",
    "\n",
    "\"\"\"\n",
    "\n",
    "根据题意，一共有 24 \\times 60=144024×60=1440 种不同的时间。由鸽巢原理可知，\n",
    "如果 \\textit{timePoints}timePoints 的长度超过 14401440，那么必然会有两个相同的时间，此时可以直接返回 00。\n",
    "\n",
    "\"\"\"\n",
    "from typing import List\n",
    "def findMinDifference(timePoints: List[str]) -> int:\n",
    "    n = len(timePoints)\n",
    "    if n > 24*60:\n",
    "        return 0\n",
    "    minutes = []\n",
    "    for timePoint in timePoints:\n",
    "        a,b = (map(int,timePoint.split(\":\")))\n",
    "        minutes.append((a*60+b))\n",
    "    minutes.sort()\n",
    "    ans = float(\"INF\")\n",
    "    for i in range(1,n):\n",
    "        ans = min(ans,minutes[i]-minutes[i-1])\n",
    "    return min(ans,24*60-minutes[-1]+minutes[0])  # 考虑环。\n",
    "    pass\n",
    "timePoints = [\"00:00\",\"23:59\",\"00:00\"]\n",
    "findMinDifference(timePoints)"
   ]
  },
  {
   "cell_type": "code",
   "execution_count": 3,
   "metadata": {},
   "outputs": [
    {
     "data": {
      "text/plain": [
       "1440"
      ]
     },
     "execution_count": 3,
     "metadata": {},
     "output_type": "execute_result"
    }
   ],
   "source": [
    "24*60"
   ]
  }
 ],
 "metadata": {
  "kernelspec": {
   "display_name": "Python 3",
   "language": "python",
   "name": "python3"
  },
  "language_info": {
   "codemirror_mode": {
    "name": "ipython",
    "version": 3
   },
   "file_extension": ".py",
   "mimetype": "text/x-python",
   "name": "python",
   "nbconvert_exporter": "python",
   "pygments_lexer": "ipython3",
   "version": "3.6.9"
  },
  "toc-autonumbering": false,
  "toc-showcode": false,
  "toc-showmarkdowntxt": false,
  "toc-showtags": false
 },
 "nbformat": 4,
 "nbformat_minor": 4
}
