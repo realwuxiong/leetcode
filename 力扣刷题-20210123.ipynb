{
 "cells": [
  {
   "cell_type": "code",
   "execution_count": 10,
   "metadata": {},
   "outputs": [
    {
     "name": "stdout",
     "output_type": "stream",
     "text": [
      "4\n",
      "[1, 2, 4, 4, 4]\n",
      "1\n"
     ]
    },
    {
     "data": {
      "text/plain": [
       "0"
      ]
     },
     "execution_count": 10,
     "metadata": {},
     "output_type": "execute_result"
    }
   ],
   "source": [
    "# 1319. 连通网络的操作次数\n",
    "# https://leetcode-cn.com/problems/number-of-operations-to-make-network-connected/\n",
    "# fuck 并查集\n",
    "#  fuck  總算寫出來了\n",
    "def makeConnected( n: int, connections) :\n",
    "    \n",
    "    def find(i):\n",
    "        if(computers[i]!=i):\n",
    "            computers[i]=find(computers[i])\n",
    "        return computers[i]\n",
    "    def union(i,j):\n",
    "        computers[find(i)]=find(j)\n",
    "        pass\n",
    "    \n",
    "    lines = len(connections)   # 獲取有多少條綫\n",
    "    \n",
    "    if lines < n-1:\n",
    "        return -1\n",
    "    \n",
    "    print(lines)\n",
    "    computers = [i for i in range(n)]\n",
    "    for data in connections:\n",
    "        union(data[0],data[1])\n",
    "    print(computers)\n",
    "    unionSum = 0\n",
    "    for i in range(n):\n",
    "        if(i == computers[i]):\n",
    "            unionSum += 1\n",
    "    print(unionSum)\n",
    "    pass\n",
    "\n",
    "    return unionSum-1\n",
    "n = 6\n",
    "n = 5\n",
    "connections = [[0,1],[0,2],[3,4],[2,3]]\n",
    "\n",
    "makeConnected(n,connections)\n"
   ]
  }
 ],
 "metadata": {
  "kernelspec": {
   "display_name": "Python 3",
   "language": "python",
   "name": "python3"
  },
  "language_info": {
   "codemirror_mode": {
    "name": "ipython",
    "version": 3
   },
   "file_extension": ".py",
   "mimetype": "text/x-python",
   "name": "python",
   "nbconvert_exporter": "python",
   "pygments_lexer": "ipython3",
   "version": "3.8.5"
  }
 },
 "nbformat": 4,
 "nbformat_minor": 4
}
