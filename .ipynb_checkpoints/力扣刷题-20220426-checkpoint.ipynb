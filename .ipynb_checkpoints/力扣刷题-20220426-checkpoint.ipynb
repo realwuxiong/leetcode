{
 "cells": [
  {
   "cell_type": "code",
   "execution_count": null,
   "metadata": {},
   "outputs": [],
   "source": [
    "# 883. 三维形体投影面积\n",
    "# https://leetcode-cn.com/problems/projection-area-of-3d-shapes/\n",
    "\n",
    "from typing import List\n",
    "def projectionArea(grid: List[List[int]]) -> int:\n",
    "    x = len(grid)  # 俯视图\n",
    "    \n",
    "    pass\n",
    "\n",
    "\n",
    "grid = [[1,2],[3,4]]\n",
    "projectionArea(grid)"
   ]
  }
 ],
 "metadata": {
  "kernelspec": {
   "display_name": "Python 3",
   "language": "python",
   "name": "python3"
  },
  "language_info": {
   "codemirror_mode": {
    "name": "ipython",
    "version": 3
   },
   "file_extension": ".py",
   "mimetype": "text/x-python",
   "name": "python",
   "nbconvert_exporter": "python",
   "pygments_lexer": "ipython3",
   "version": "3.6.9"
  },
  "toc-autonumbering": false,
  "toc-showcode": false,
  "toc-showmarkdowntxt": false,
  "toc-showtags": false
 },
 "nbformat": 4,
 "nbformat_minor": 4
}
