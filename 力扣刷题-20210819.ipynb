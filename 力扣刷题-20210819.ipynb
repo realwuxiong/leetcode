{
 "cells": [
  {
   "cell_type": "code",
   "execution_count": 1,
   "metadata": {},
   "outputs": [
    {
     "data": {
      "text/plain": [
       "'leotcede'"
      ]
     },
     "execution_count": 1,
     "metadata": {},
     "output_type": "execute_result"
    }
   ],
   "source": [
    "# 345. 反转字符串中的元音字母\n",
    "# https://leetcode-cn.com/problems/reverse-vowels-of-a-string/\n",
    "def reverseVowels(s: str) -> str:\n",
    "    \"\"\"\n",
    "    元音字母：aeiou\n",
    "    这题目到是很easy\n",
    "    \n",
    "    题目还可以优化一下，就是用双指针，分别找到元音字母，然后交换。继续往前找\n",
    "    \"\"\"\n",
    "    \n",
    "    # 记录元音字母的index\n",
    "    s = list(s)\n",
    "    stack = [i for i in range(len(s)) if s[i] in \"aeiouAEIOU\"]\n",
    "    \n",
    "    low = 0\n",
    "    high = len(stack)-1\n",
    "    \n",
    "    while low < high:\n",
    "        s[stack[low]],s[stack[high]] = s[stack[high]],s[stack[low]]\n",
    "        low += 1\n",
    "        high -= 1\n",
    "    return \"\".join(s)  \n",
    "    pass\n",
    "s = \"leetcode\"\n",
    "reverseVowels(s)"
   ]
  }
 ],
 "metadata": {
  "kernelspec": {
   "display_name": "Python 3",
   "language": "python",
   "name": "python3"
  },
  "language_info": {
   "codemirror_mode": {
    "name": "ipython",
    "version": 3
   },
   "file_extension": ".py",
   "mimetype": "text/x-python",
   "name": "python",
   "nbconvert_exporter": "python",
   "pygments_lexer": "ipython3",
   "version": "3.6.9"
  },
  "toc-autonumbering": false,
  "toc-showcode": false,
  "toc-showmarkdowntxt": false,
  "toc-showtags": false
 },
 "nbformat": 4,
 "nbformat_minor": 4
}
