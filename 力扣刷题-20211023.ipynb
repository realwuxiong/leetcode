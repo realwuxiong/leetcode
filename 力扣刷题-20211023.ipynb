{
 "cells": [
  {
   "cell_type": "code",
   "execution_count": 7,
   "metadata": {},
   "outputs": [
    {
     "data": {
      "text/plain": [
       "[inf, -inf]"
      ]
     },
     "execution_count": 7,
     "metadata": {},
     "output_type": "execute_result"
    }
   ],
   "source": [
    "# 492. 构造矩形\n",
    "# https://leetcode-cn.com/problems/construct-the-rectangle/\n",
    "\n",
    "from typing import List\n",
    "def constructRectangle(area: int) -> List[int]:\n",
    "    # 用最智障的做法\n",
    "    \n",
    "    # [长,宽]\n",
    "    ans = [float(\"INF\"),float(\"-INF\")]\n",
    "    \n",
    "    for i in range(1,area+1):\n",
    "        if area % i == 0 and i >= area //i and ans[0] - ans[1] >= i - area//i:\n",
    "            ans = [i,area//i]\n",
    "    return ans\n",
    "    \n",
    "    pass\n",
    "\n",
    "area =37\n",
    "constructRectangle(area)"
   ]
  },
  {
   "cell_type": "code",
   "execution_count": null,
   "metadata": {},
   "outputs": [],
   "source": [
    "# 官方答案多简洁。。。\n",
    "def constructRectangle(self, area: int) -> List[int]:\n",
    "    w = int(sqrt(area))\n",
    "    while area % w:\n",
    "        w -= 1\n",
    "    return [area // w, w]\n"
   ]
  }
 ],
 "metadata": {
  "kernelspec": {
   "display_name": "Python 3",
   "language": "python",
   "name": "python3"
  },
  "language_info": {
   "codemirror_mode": {
    "name": "ipython",
    "version": 3
   },
   "file_extension": ".py",
   "mimetype": "text/x-python",
   "name": "python",
   "nbconvert_exporter": "python",
   "pygments_lexer": "ipython3",
   "version": "3.6.9"
  },
  "toc-autonumbering": false,
  "toc-showcode": false,
  "toc-showmarkdowntxt": false,
  "toc-showtags": false
 },
 "nbformat": 4,
 "nbformat_minor": 4
}
