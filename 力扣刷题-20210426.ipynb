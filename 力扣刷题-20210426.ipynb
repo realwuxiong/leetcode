{
 "cells": [
  {
   "cell_type": "code",
   "execution_count": 3,
   "metadata": {},
   "outputs": [
    {
     "data": {
      "text/plain": [
       "15"
      ]
     },
     "execution_count": 3,
     "metadata": {},
     "output_type": "execute_result"
    }
   ],
   "source": [
    "# 1011. 在 D 天内送达包裹的能力\n",
    "# https://leetcode-cn.com/problems/capacity-to-ship-packages-within-d-days/\n",
    "from typing import List\n",
    "def shipWithinDays(weights: List[int], D: int) -> int:\n",
    "     # 确定二分查找左右边界\n",
    "    left, right = max(weights), sum(weights)\n",
    "    while left < right:\n",
    "        mid = (left + right) // 2\n",
    "        # need 为需要运送的天数\n",
    "        # cur 为当前这一天已经运送的包裹重量之和\n",
    "        need, cur = 1, 0\n",
    "        for weight in weights:\n",
    "            if cur + weight > mid:\n",
    "                need += 1\n",
    "                cur = 0\n",
    "            cur += weight\n",
    "\n",
    "        if need <= D:\n",
    "            right = mid\n",
    "        else:\n",
    "            left = mid + 1\n",
    "\n",
    "    return left\n",
    "\n",
    "weights = [1,2,3,4,5,6,7,8,9,10]\n",
    "D = 5\n",
    "shipWithinDays(weights,D)"
   ]
  }
 ],
 "metadata": {
  "kernelspec": {
   "display_name": "Python 3",
   "language": "python",
   "name": "python3"
  },
  "language_info": {
   "codemirror_mode": {
    "name": "ipython",
    "version": 3
   },
   "file_extension": ".py",
   "mimetype": "text/x-python",
   "name": "python",
   "nbconvert_exporter": "python",
   "pygments_lexer": "ipython3",
   "version": "3.6.9"
  }
 },
 "nbformat": 4,
 "nbformat_minor": 4
}
