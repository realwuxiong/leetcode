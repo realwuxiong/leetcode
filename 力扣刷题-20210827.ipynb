{
 "cells": [
  {
   "cell_type": "code",
   "execution_count": null,
   "metadata": {},
   "outputs": [],
   "source": [
    "# 295. 数据流的中位数\n",
    "# https://leetcode-cn.com/problems/find-median-from-data-stream/\n",
    "class MedianFinder:\n",
    "\n",
    "    def __init__(self):\n",
    "        \"\"\"\n",
    "        initialize your data structure here.\n",
    "        \"\"\"\n",
    "        self.nums = []\n",
    "        self.n = 0\n",
    "\n",
    "    # 超出了时间限制\n",
    "    # 确实想过用两个优先队列，用小根堆和大根堆的结合来实现，但是没想好具体的思路\n",
    "    # 或者用有序列表去实现\n",
    "    # 可以看一看标准答案的做法\n",
    "    def addNum(self, num: int) -> None:\n",
    "        self.nums.append(num)\n",
    "        self.nums.sort()\n",
    "        self.n += 1\n",
    "\n",
    "    def findMedian(self) -> float:\n",
    "        if self.n & 1 == 0: #偶数\n",
    "            return (self.nums[self.n//2]+self.nums[self.n//2-1])/2.0\n",
    "        else:\n",
    "            return self.nums[self.n//2]\n",
    "\n",
    "\n",
    "\n",
    "# Your MedianFinder object will be instantiated and called as such:\n",
    "# obj = MedianFinder()\n",
    "# obj.addNum(num)\n",
    "# param_2 = obj.findMedian()"
   ]
  }
 ],
 "metadata": {
  "kernelspec": {
   "display_name": "Python 3",
   "language": "python",
   "name": "python3"
  },
  "language_info": {
   "codemirror_mode": {
    "name": "ipython",
    "version": 3
   },
   "file_extension": ".py",
   "mimetype": "text/x-python",
   "name": "python",
   "nbconvert_exporter": "python",
   "pygments_lexer": "ipython3",
   "version": "3.6.9"
  },
  "toc-autonumbering": false,
  "toc-showcode": false,
  "toc-showmarkdowntxt": false,
  "toc-showtags": false
 },
 "nbformat": 4,
 "nbformat_minor": 4
}
