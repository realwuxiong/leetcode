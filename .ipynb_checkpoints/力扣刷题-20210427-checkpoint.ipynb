{
 "cells": [
  {
   "cell_type": "code",
   "execution_count": null,
   "metadata": {},
   "outputs": [],
   "source": [
    "# 938. 二叉搜索树的范围和\n",
    "# https://leetcode-cn.com/problems/range-sum-of-bst/\n",
    "# Definition for a binary tree node.\n",
    "# class TreeNode:\n",
    "#     def __init__(self, val=0, left=None, right=None):\n",
    "#         self.val = val\n",
    "#         self.left = left\n",
    "#         self.right = right\n",
    "class Solution:\n",
    "    def rangeSumBST(self, root: TreeNode, low: int, high: int) -> int:\n",
    "        ans = []\n",
    "        \n",
    "        def dfs(root):\n",
    "            if not root:\n",
    "                return\n",
    "            val = root.val\n",
    "\n",
    "            if val < low:\n",
    "                dfs(root.right)\n",
    "            elif val > high:\n",
    "                dfs(root.left)\n",
    "            else:\n",
    "                ans.append(val)\n",
    "                dfs(root.left)\n",
    "                dfs(root.right)\n",
    "        dfs(root)\n",
    "        return sum(ans)"
   ]
  },
  {
   "cell_type": "code",
   "execution_count": null,
   "metadata": {},
   "outputs": [],
   "source": [
    "// java 版本\n",
    "/**\n",
    " * Definition for a binary tree node.\n",
    " * public class TreeNode {\n",
    " *     int val;\n",
    " *     TreeNode left;\n",
    " *     TreeNode right;\n",
    " *     TreeNode() {}\n",
    " *     TreeNode(int val) { this.val = val; }\n",
    " *     TreeNode(int val, TreeNode left, TreeNode right) {\n",
    " *         this.val = val;\n",
    " *         this.left = left;\n",
    " *         this.right = right;\n",
    " *     }\n",
    " * }\n",
    " */\n",
    "class Solution {\n",
    "    private int ans = 0;\n",
    "    private int low,high;\n",
    "    public int rangeSumBST(TreeNode root, int low, int high) {\n",
    "        this.low = low;\n",
    "        this.high = high;\n",
    "        dfs(root);\n",
    "        return ans;\n",
    "    }\n",
    "    public void dfs(TreeNode root){\n",
    "        if(root == null)return;\n",
    "        int val = root.val;\n",
    "        if(val < low){\n",
    "            dfs(root.right);\n",
    "        }else if(val > high){\n",
    "            dfs(root.left);\n",
    "        }else{\n",
    "            ans += val;\n",
    "            dfs(root.left);\n",
    "            dfs(root.right);\n",
    "        }\n",
    "\n",
    "    }\n",
    "}"
   ]
  }
 ],
 "metadata": {
  "kernelspec": {
   "display_name": "Python 3",
   "language": "python",
   "name": "python3"
  },
  "language_info": {
   "codemirror_mode": {
    "name": "ipython",
    "version": 3
   },
   "file_extension": ".py",
   "mimetype": "text/x-python",
   "name": "python",
   "nbconvert_exporter": "python",
   "pygments_lexer": "ipython3",
   "version": "3.6.9"
  }
 },
 "nbformat": 4,
 "nbformat_minor": 4
}
