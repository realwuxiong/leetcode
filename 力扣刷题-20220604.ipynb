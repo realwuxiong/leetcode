{
 "cells": [
  {
   "cell_type": "code",
   "execution_count": 11,
   "metadata": {},
   "outputs": [
    {
     "name": "stdout",
     "output_type": "stream",
     "text": [
      "testemail leetcode.com\n",
      "testemailleet code.com\n"
     ]
    },
    {
     "data": {
      "text/plain": [
       "1"
      ]
     },
     "execution_count": 11,
     "metadata": {},
     "output_type": "execute_result"
    }
   ],
   "source": [
    "# 929. 独特的电子邮件地址\n",
    "# https://leetcode.cn/problems/unique-email-addresses/\n",
    "\n",
    "from typing import List\n",
    "def numUniqueEmails(emails: List[str]) -> int:\n",
    "    ans = set()\n",
    "    for email in emails:\n",
    "        localName,domainName = email.split(\"@\")\n",
    "        localName = localName.replace(\".\",\"\")\n",
    "        localName = localName.split(\"+\")[0]\n",
    "#         print(localName,domainName)\n",
    "        ans.add(localName+\"@\"+domainName)\n",
    "    return len(ans)\n",
    "\n",
    "\n",
    "emails = [\"test.email+alex@leetcode.com\",\"test.email.leet+alex@code.com\"]\n",
    "numUniqueEmails(emails)"
   ]
  }
 ],
 "metadata": {
  "kernelspec": {
   "display_name": "Python 3",
   "language": "python",
   "name": "python3"
  },
  "language_info": {
   "codemirror_mode": {
    "name": "ipython",
    "version": 3
   },
   "file_extension": ".py",
   "mimetype": "text/x-python",
   "name": "python",
   "nbconvert_exporter": "python",
   "pygments_lexer": "ipython3",
   "version": "3.6.9"
  },
  "toc-autonumbering": false,
  "toc-showcode": false,
  "toc-showmarkdowntxt": false,
  "toc-showtags": false
 },
 "nbformat": 4,
 "nbformat_minor": 4
}
