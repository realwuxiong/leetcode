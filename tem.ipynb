{
 "cells": [
  {
   "cell_type": "code",
   "execution_count": null,
   "metadata": {},
   "outputs": [],
   "source": [
    "## !/usr/bin/python3\n",
    "\n",
    "# \n",
    "# 2020年12月28日\n",
    "\n",
    "\n",
    "# Python3实现循环链表\n",
    "\n",
    "def func()->bool:\n",
    "    a = int(input(\"第一个参数：\"))\n",
    "    b = int(input(\"第二个参数：\"))\n",
    "    c = list(input(\"第三个参数：\"))\n",
    "    li = c\n",
    "#     li=[1,2,3,4,6]\n",
    "    sum_li = sum(li)\n",
    "    for index in range(len(li)):\n",
    "        x = 0\n",
    "        for i in range(index,len(li)*2):\n",
    "            if(i >= len(li)):\n",
    "                i = i % len(li)\n",
    "            x += li[i]\n",
    "            if(x==sum_li/2):\n",
    "                return True\n",
    "            if(x>sum_li/2):\n",
    "                break\n",
    "    return False\n",
    "            \n",
    "\n",
    "func()"
   ]
  },
  {
   "cell_type": "code",
   "execution_count": 12,
   "metadata": {},
   "outputs": [
    {
     "name": "stdout",
     "output_type": "stream",
     "text": [
      "[2, 3, 3, 4, 4, 5, 7, 12, 19]\n"
     ]
    }
   ],
   "source": [
    "# 现场写一个快排\n",
    "# 2021年8月10日\n",
    "\n",
    "def quickSort(nums):\n",
    "    n = len(nums)\n",
    "    low = 0\n",
    "    high = n-1\n",
    "    \n",
    "    \n",
    "    def quick_sort(start,end):\n",
    "        low = start\n",
    "        high = end\n",
    "        if start >= end:\n",
    "            return\n",
    "        t = nums[low]\n",
    "        while low < high:\n",
    "            while t <= nums[high] and low < high:\n",
    "                high -= 1\n",
    "            nums[low] = nums[high]\n",
    "            while t >= nums[low] and low < high:\n",
    "                low += 1\n",
    "            nums[high] = nums[low]\n",
    "        nums[low] = t\n",
    "        quick_sort(start,low-1)\n",
    "        quick_sort(low+1,end)\n",
    "    quick_sort(0,n-1)       \n",
    "    print(nums)\n",
    "    pass\n",
    "nums = [12,3,4,5,7,19,2,3,4]\n",
    "quickSort(nums)"
   ]
  },
  {
   "cell_type": "code",
   "execution_count": 33,
   "metadata": {},
   "outputs": [
    {
     "data": {
      "text/plain": [
       "'1099'"
      ]
     },
     "execution_count": 33,
     "metadata": {},
     "output_type": "execute_result"
    }
   ],
   "source": [
    "def solve(s, t):\n",
    "    # 大数加法\n",
    "    # 先用0补齐\n",
    "    m = len(s)\n",
    "    n = len(t)\n",
    "    gap = abs(m-n)\n",
    "    if m > n:\n",
    "        t = \"0\"*gap + t\n",
    "    elif m < n:\n",
    "        s = \"0\"*gap +s\n",
    "        \n",
    "    length = max(m,n)\n",
    "    tt = 0\n",
    "    ans = []\n",
    "    for i in range(length-1,-1,-1):\n",
    "        ans.insert(0,str((int(s[i])+int(t[i])+tt)%10))\n",
    "        if (int(s[i])+int(t[i])+tt) >= 10:\n",
    "            tt = 1\n",
    "        else:\n",
    "            tt = 0\n",
    "    if tt == 1:\n",
    "        ans.insert(0,\"1\")\n",
    "    return \"\".join(ans)\n",
    "        \n",
    "    \n",
    "    \n",
    "solve(\"999\",\"100\")       "
   ]
  }
 ],
 "metadata": {
  "kernelspec": {
   "display_name": "Python 3",
   "language": "python",
   "name": "python3"
  },
  "language_info": {
   "codemirror_mode": {
    "name": "ipython",
    "version": 3
   },
   "file_extension": ".py",
   "mimetype": "text/x-python",
   "name": "python",
   "nbconvert_exporter": "python",
   "pygments_lexer": "ipython3",
   "version": "3.6.9"
  }
 },
 "nbformat": 4,
 "nbformat_minor": 4
}
