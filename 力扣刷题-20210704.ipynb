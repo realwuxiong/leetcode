{
 "cells": [
  {
   "cell_type": "code",
   "execution_count": 13,
   "metadata": {},
   "outputs": [
    {
     "name": "stdout",
     "output_type": "stream",
     "text": [
      "[2, 3]\n"
     ]
    }
   ],
   "source": [
    "# 645. 错误的集合\n",
    "# https://leetcode-cn.com/problems/set-mismatch/\n",
    "\n",
    "# easy\n",
    "from typing import List\n",
    "def findErrorNums(nums: List[int]) -> List[int]:\n",
    "    x = set(nums)\n",
    "    \n",
    "    m = 0\n",
    "    for xx in x:\n",
    "        m ^= xx\n",
    "    \n",
    "    ans = []\n",
    "    p = 0\n",
    "    for i in range(1,len(nums)+1):\n",
    "        p ^= i\n",
    "        m ^= i\n",
    "    ans.append(m)\n",
    "\n",
    "    for num in nums:\n",
    "        p ^= num\n",
    "        \n",
    "    ans.insert(0,m^p)\n",
    "    print(ans)\n",
    "    pass\n",
    "nums = [1,2,2,4]\n",
    "findErrorNums(nums)"
   ]
  }
 ],
 "metadata": {
  "kernelspec": {
   "display_name": "Python 3",
   "language": "python",
   "name": "python3"
  },
  "language_info": {
   "codemirror_mode": {
    "name": "ipython",
    "version": 3
   },
   "file_extension": ".py",
   "mimetype": "text/x-python",
   "name": "python",
   "nbconvert_exporter": "python",
   "pygments_lexer": "ipython3",
   "version": "3.6.9"
  }
 },
 "nbformat": 4,
 "nbformat_minor": 4
}
