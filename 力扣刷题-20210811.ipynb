{
 "cells": [
  {
   "cell_type": "code",
   "execution_count": 5,
   "metadata": {},
   "outputs": [
    {
     "data": {
      "text/plain": [
       "'a = \\n    print(a)'"
      ]
     },
     "execution_count": 5,
     "metadata": {},
     "output_type": "execute_result"
    }
   ],
   "source": [
    "# 446. 等差数列划分 II - 子序列\n",
    "# https://leetcode-cn.com/problems/arithmetic-slices-ii-subsequence/\n",
    "\n",
    "# 这个题和昨天的那个题需要有一个对比\n",
    "# 15:10-\n",
    "\n",
    "from typing import List\n",
    "def numberOfArithmeticSlices(nums: List[int]) -> int:\n",
    "    # 要求子序列\n",
    "    n = len(nums)\n",
    "    # 动态规划+哈希表\n",
    "    # 思路是动态规划\n",
    "    # dp[i][j]表示？\n",
    "    \"\"\"\n",
    "    \n",
    "    我们首先考虑至少有两个元素的等差子序列，下文将其称作弱等差子序列。\n",
    "\n",
    "    由于尾项和公差可以确定一个等差数列，因此我们定义状态 f[i][d]f[i][d] 表示尾项为 \\textit{nums}[i]nums[i]，公差为 dd 的弱等差子序列的个数。\n",
    "\n",
    "    我们用一个二重循环去遍历 \\textit{nums}nums 中的所有元素对 (\\textit{nums}[i],\\textit{nums}[j])(nums[i],nums[j])，其中 j<ij<i。将 \\textit{nums}[i]nums[i] 和 \\textit{nums}[j]nums[j] 分别当作等差数列的尾项和倒数第二项，则该等差数列的公差 d=\\textit{nums}[i]-\\textit{nums}[j]d=nums[i]−nums[j]。由于公差相同，我们可以将 \\textit{nums}[i]nums[i] 加到以 \\textit{nums}[j]nums[j] 为尾项，公差为 dd 的弱等差子序列的末尾，这对应着状态转移 f[i][d] += f[j][d]f[i][d]+=f[j][d]。同时，(\\textit{nums}[i],\\textit{nums}[j])(nums[i],nums[j]) 这一对元素也可以当作一个弱等差子序列，故有状态转移\n",
    "\n",
    "    f[i][d] += f[j][d] + 1\n",
    "    f[i][d]+=f[j][d]+1\n",
    "\n",
    "    由于题目要统计的等差子序列至少有三个元素，我们回顾上述二重循环，其中「将 \\textit{nums}[i]nums[i] 加到以 \\textit{nums}[j]nums[j] 为尾项，公差为 dd 的弱等差子序列的末尾」这一操作，实际上就构成了一个至少有三个元素的等差子序列，因此我们将循环中的 f[j][d]f[j][d] 累加，即为答案。\n",
    "\n",
    "    代码实现时，由于 \\textit{nums}[i]nums[i] 的范围很大，所以计算出的公差的范围也很大，我们可以将状态转移数组 ff 的第二维用哈希表代替。\n",
    "        \"\"\"\n",
    "    # 这也太难了，哈希数组。。。。\n",
    "    ans = 0\n",
    "    f = [defaultdict(int) for _ in nums]\n",
    "    for i, x in enumerate(nums):\n",
    "        for j in range(i):\n",
    "            d = x - nums[j]\n",
    "            cnt = f[j][d]\n",
    "            ans += cnt\n",
    "            f[i][d] += cnt + 1\n",
    "    return ans\n",
    "    pass\n",
    "nums = [2,4,6,8,10]\n",
    "numberOfArithmeticSlices(nums)"
   ]
  }
 ],
 "metadata": {
  "kernelspec": {
   "display_name": "Python 3",
   "language": "python",
   "name": "python3"
  },
  "language_info": {
   "codemirror_mode": {
    "name": "ipython",
    "version": 3
   },
   "file_extension": ".py",
   "mimetype": "text/x-python",
   "name": "python",
   "nbconvert_exporter": "python",
   "pygments_lexer": "ipython3",
   "version": "3.6.9"
  },
  "toc-autonumbering": false,
  "toc-showcode": false,
  "toc-showmarkdowntxt": false,
  "toc-showtags": false
 },
 "nbformat": 4,
 "nbformat_minor": 4
}
