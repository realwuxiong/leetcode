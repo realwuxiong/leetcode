{
 "cells": [
  {
   "cell_type": "code",
   "execution_count": 4,
   "metadata": {},
   "outputs": [
    {
     "data": {
      "text/plain": [
       "-1"
      ]
     },
     "execution_count": 4,
     "metadata": {},
     "output_type": "execute_result"
    }
   ],
   "source": [
    "# 997. 找到小镇的法官\n",
    "# https://leetcode-cn.com/problems/find-the-town-judge/\n",
    "# 我写的太智障了，看看答案的写法，其实就是出度和入度。\n",
    "from typing import List\n",
    "def findJudge(n: int, trust: List[List[int]]) -> int:\n",
    "    length = len(trust)\n",
    "    trustPerson = set()\n",
    "    for t in trust:\n",
    "        trustPerson.add(t[0])\n",
    "    if len(trustPerson) != n -1:\n",
    "        return -1\n",
    "    ans = 0\n",
    "    for person  in trustPerson:\n",
    "        ans ^= person\n",
    "    for i in range(1,n+1):\n",
    "        ans ^= i\n",
    "    \n",
    "    temp = set()\n",
    "    for t in trust:\n",
    "        if t[1] == ans:\n",
    "            temp.add(t[0])\n",
    "    if len(temp) != n-1:\n",
    "        return -1\n",
    "    \n",
    "    return ans\n",
    "\n",
    "n = 3\n",
    "trust = [[1,2],[2,3]]\n",
    "findJudge(n,trust)"
   ]
  },
  {
   "cell_type": "code",
   "execution_count": null,
   "metadata": {},
   "outputs": [],
   "source": [
    "class Solution:\n",
    "    def findJudge(self, n: int, trust: List[List[int]]) -> int:\n",
    "        inDegrees = Counter(y for _, y in trust)\n",
    "        outDegrees = Counter(x for x, _ in trust)\n",
    "        return next((i for i in range(1, n + 1) if inDegrees[i] == n - 1 and outDegrees[i] == 0), -1)\n",
    "\n"
   ]
  }
 ],
 "metadata": {
  "kernelspec": {
   "display_name": "Python 3",
   "language": "python",
   "name": "python3"
  },
  "language_info": {
   "codemirror_mode": {
    "name": "ipython",
    "version": 3
   },
   "file_extension": ".py",
   "mimetype": "text/x-python",
   "name": "python",
   "nbconvert_exporter": "python",
   "pygments_lexer": "ipython3",
   "version": "3.6.9"
  },
  "toc-autonumbering": false,
  "toc-showcode": false,
  "toc-showmarkdowntxt": false,
  "toc-showtags": false
 },
 "nbformat": 4,
 "nbformat_minor": 4
}
