{
 "cells": [
  {
   "cell_type": "code",
   "execution_count": 4,
   "metadata": {},
   "outputs": [
    {
     "name": "stdout",
     "output_type": "stream",
     "text": [
      "[1, 1, 4, 2, 1, 1, 0, 0]\n"
     ]
    }
   ],
   "source": [
    "# https://leetcode-cn.com/problems/daily-temperatures/\n",
    "# 每日温度\n",
    "temperatures = [73, 74, 75, 71, 69, 72, 76, 73]\n",
    "def Solution(temperatures):\n",
    "    output=[0]*len(temperatures)\n",
    "    #单调栈\n",
    "    stack = []\n",
    "    for index in range(len(temperatures)):\n",
    "        while(stack and temperatures[index] > temperatures[stack[-1]]):\n",
    "            output[stack[-1]] = index - stack[-1]\n",
    "            stack.pop()\n",
    "        stack.append(index)\n",
    "    return output\n",
    "print(Solution(temperatures))"
   ]
  },
  {
   "cell_type": "code",
   "execution_count": 19,
   "metadata": {},
   "outputs": [
    {
     "name": "stdout",
     "output_type": "stream",
     "text": [
      "6\n"
     ]
    }
   ],
   "source": [
    "# https://leetcode-cn.com/problems/trapping-rain-water/\n",
    "# 接雨水\n",
    "\n",
    "height = [0,1,0,2,1,0,1,3,2,1,2,1]\n",
    "def rainWater(height):\n",
    "    ans = 0\n",
    "    stack =[]\n",
    "    for current in range(len(height)):\n",
    "        while(len(stack) >0 and height[current] > height[stack[-1]]):\n",
    "            top = stack.pop()\n",
    "            if len(stack) == 0:\n",
    "                break\n",
    "            distance = current - stack[-1] -1\n",
    "            ans = ans+ distance * ( min(height[stack[-1]],height[current]) -height[top])\n",
    "            \n",
    "        stack.append(current)\n",
    "    return ans\n",
    "\n",
    "print(rainWater(height))"
   ]
  }
 ],
 "metadata": {
  "kernelspec": {
   "display_name": "Python 3",
   "language": "python",
   "name": "python3"
  },
  "language_info": {
   "codemirror_mode": {
    "name": "ipython",
    "version": 3
   },
   "file_extension": ".py",
   "mimetype": "text/x-python",
   "name": "python",
   "nbconvert_exporter": "python",
   "pygments_lexer": "ipython3",
   "version": "3.6.9"
  }
 },
 "nbformat": 4,
 "nbformat_minor": 4
}
