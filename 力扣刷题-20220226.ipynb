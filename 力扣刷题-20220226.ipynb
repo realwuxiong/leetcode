{
 "cells": [
  {
   "cell_type": "code",
   "execution_count": 22,
   "metadata": {},
   "outputs": [
    {
     "data": {
      "text/plain": [
       "-1"
      ]
     },
     "execution_count": 22,
     "metadata": {},
     "output_type": "execute_result"
    }
   ],
   "source": [
    "# 2016. 增量元素之间的最大差值\n",
    "# https://leetcode-cn.com/problems/maximum-difference-between-increasing-elements/\n",
    "\n",
    "from typing import List\n",
    "def maximumDifference(nums: List[int]) -> int:\n",
    "    # 最小前缀\n",
    "    n = len(nums)\n",
    "    ans, premin = -1, nums[0]\n",
    "\n",
    "    for i in range(1, n):\n",
    "        if nums[i] > premin:\n",
    "            ans = max(ans, nums[i] - premin)\n",
    "        else:\n",
    "            premin = nums[i]\n",
    "\n",
    "    return ans\n",
    "\n",
    "nums = [1,1,1,1]\n",
    "maximumDifference(nums)"
   ]
  }
 ],
 "metadata": {
  "kernelspec": {
   "display_name": "Python 3",
   "language": "python",
   "name": "python3"
  },
  "language_info": {
   "codemirror_mode": {
    "name": "ipython",
    "version": 3
   },
   "file_extension": ".py",
   "mimetype": "text/x-python",
   "name": "python",
   "nbconvert_exporter": "python",
   "pygments_lexer": "ipython3",
   "version": "3.6.9"
  },
  "toc-autonumbering": false,
  "toc-showcode": false,
  "toc-showmarkdowntxt": false,
  "toc-showtags": false
 },
 "nbformat": 4,
 "nbformat_minor": 4
}
