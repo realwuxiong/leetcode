{
 "cells": [
  {
   "cell_type": "code",
   "execution_count": 26,
   "metadata": {},
   "outputs": [
    {
     "name": "stdout",
     "output_type": "stream",
     "text": [
      "[0, 1, 3, 2, 0]\n"
     ]
    }
   ],
   "source": [
    "# 1178. 猜字谜\n",
    "# 今天正月十五元宵节\n",
    "# https://leetcode-cn.com/problems/number-of-valid-words-for-each-puzzle/\n",
    "# 超出时间限制,这个题目太难了，\n",
    "# 标准答案如下：这个题目没搞懂。。。\n",
    "# class Solution:\n",
    "#     def findNumOfValidWords(self, words: List[str], puzzles: List[str]) -> List[int]:\n",
    "#         frequency = collections.Counter()\n",
    "\n",
    "#         for word in words:\n",
    "#             mask = 0\n",
    "#             for ch in word:\n",
    "#                 mask |= (1 << (ord(ch) - ord(\"a\")))\n",
    "#             if str(bin(mask)).count(\"1\") <= 7:\n",
    "#                 frequency[mask] += 1\n",
    "        \n",
    "#         ans = list()\n",
    "#         for puzzle in puzzles:\n",
    "#             total = 0\n",
    "\n",
    "#             # 枚举子集方法一\n",
    "#             # for choose in range(1 << 6):\n",
    "#             #     mask = 0\n",
    "#             #     for i in range(6):\n",
    "#             #         if choose & (1 << i):\n",
    "#             #             mask |= (1 << (ord(puzzle[i + 1]) - ord(\"a\")))\n",
    "#             #     mask |= (1 << (ord(puzzle[0]) - ord(\"a\")))\n",
    "#             #     if mask in frequency:\n",
    "#             #         total += frequency[mask]\n",
    "\n",
    "#             # 枚举子集方法二\n",
    "#             mask = 0\n",
    "#             for i in range(1, 7):\n",
    "#                 mask |= (1 << (ord(puzzle[i]) - ord(\"a\")))\n",
    "            \n",
    "#             subset = mask\n",
    "#             while subset:\n",
    "#                 s = subset | (1 << (ord(puzzle[0]) - ord(\"a\")))\n",
    "#                 if s in frequency:\n",
    "#                     total += frequency[s]\n",
    "#                 subset = (subset - 1) & mask\n",
    "            \n",
    "#             # 在枚举子集的过程中，要么会漏掉全集 mask，要么会漏掉空集\n",
    "#             # 这里会漏掉空集，因此需要额外判断空集\n",
    "#             if (1 << (ord(puzzle[0]) - ord(\"a\"))) in frequency:\n",
    "#                 total += frequency[1 << (ord(puzzle[0]) - ord(\"a\"))]\n",
    "\n",
    "#             ans.append(total)\n",
    "        \n",
    "#         return ans\n",
    "\n",
    "\n",
    "from typing import List\n",
    "import collections\n",
    "def findNumOfValidWords(words: List[str], puzzles: List[str]) -> List[int]:\n",
    "    res = []\n",
    "    for puzzle in puzzles:\n",
    "        puzzleSet = set(puzzle)  \n",
    "        count = 0\n",
    "        for word in words:\n",
    "            if puzzle[0] not in word:\n",
    "                continue\n",
    "            count +=1\n",
    "            for w in word:\n",
    "                if w not in puzzleSet:\n",
    "                    count -= 1\n",
    "                    break\n",
    "        res.append(count)\n",
    "    print(res)\n",
    "words = [\"apple\",\"pleas\",\"please\"]\n",
    "puzzles = [\"aelwxyz\",\"aelpxyz\",\"aelpsxy\",\"saelpxy\",\"xaelpsy\"]\n",
    "findNumOfValidWords(words,puzzles)"
   ]
  },
  {
   "cell_type": "code",
   "execution_count": 16,
   "metadata": {},
   "outputs": [
    {
     "data": {
      "text/plain": [
       "True"
      ]
     },
     "execution_count": 16,
     "metadata": {},
     "output_type": "execute_result"
    }
   ],
   "source": []
  }
 ],
 "metadata": {
  "kernelspec": {
   "display_name": "Python 3",
   "language": "python",
   "name": "python3"
  },
  "language_info": {
   "codemirror_mode": {
    "name": "ipython",
    "version": 3
   },
   "file_extension": ".py",
   "mimetype": "text/x-python",
   "name": "python",
   "nbconvert_exporter": "python",
   "pygments_lexer": "ipython3",
   "version": "3.8.5"
  }
 },
 "nbformat": 4,
 "nbformat_minor": 4
}
