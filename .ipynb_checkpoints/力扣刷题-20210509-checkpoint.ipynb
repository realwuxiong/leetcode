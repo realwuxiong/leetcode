{
 "cells": [
  {
   "cell_type": "code",
   "execution_count": 10,
   "metadata": {},
   "outputs": [
    {
     "data": {
      "text/plain": [
       "12"
      ]
     },
     "execution_count": 10,
     "metadata": {},
     "output_type": "execute_result"
    }
   ],
   "source": [
    "# 1482. 制作 m 束花所需的最少天数\n",
    "# https://leetcode-cn.com/problems/minimum-number-of-days-to-make-m-bouquets/\n",
    "# 2021年5月9日 9：45-9:54\n",
    "# 主要就是得想到用二分法\n",
    "\n",
    "from typing import List\n",
    "def minDays(bloomDay: List[int], m: int, k: int) -> int:\n",
    "    low = min(bloomDay)\n",
    "    high = max(bloomDay)\n",
    "    maxtotal = 0\n",
    "    while(low <= high):\n",
    "        mid = (low+high)//2\n",
    "        total = 0\n",
    "        t = 0\n",
    "#         print(low,high,mid)\n",
    "        for i in range(len(bloomDay)):\n",
    "            if bloomDay[i] <= mid:\n",
    "                t += 1\n",
    "            else:\n",
    "                t = 0\n",
    "            if t == k:\n",
    "                total += 1\n",
    "                t = 0\n",
    "        if total < m:\n",
    "            low = mid + 1\n",
    "        else:\n",
    "            high = mid - 1\n",
    "        maxtotal = max(maxtotal,total)\n",
    "#     print(maxtotal)\n",
    "#     if maxtotal < m:\n",
    "#         print(-1)\n",
    "#     print(low)\n",
    "    return -1 if maxtotal < m else low\n",
    "    pass\n",
    "bloomDay = [7,7,7,7,12,7,7]\n",
    "m = 2\n",
    "k = 3\n",
    "minDays(bloomDay,m,k)"
   ]
  },
  {
   "cell_type": "code",
   "execution_count": null,
   "metadata": {},
   "outputs": [],
   "source": [
    "// java 版本"
   ]
  }
 ],
 "metadata": {
  "kernelspec": {
   "display_name": "Python 3",
   "language": "python",
   "name": "python3"
  },
  "language_info": {
   "codemirror_mode": {
    "name": "ipython",
    "version": 3
   },
   "file_extension": ".py",
   "mimetype": "text/x-python",
   "name": "python",
   "nbconvert_exporter": "python",
   "pygments_lexer": "ipython3",
   "version": "3.6.9"
  }
 },
 "nbformat": 4,
 "nbformat_minor": 4
}
