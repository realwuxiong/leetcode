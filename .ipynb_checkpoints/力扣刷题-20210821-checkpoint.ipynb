{
 "cells": [
  {
   "cell_type": "code",
   "execution_count": 35,
   "metadata": {},
   "outputs": [
    {
     "name": "stdout",
     "output_type": "stream",
     "text": [
      "['a', '2', 'b', '2', 'c', 'c', 'c'] 5 3\n",
      "['a', '2', 'b', '2', 'c', '3']\n"
     ]
    }
   ],
   "source": [
    "# 443. 压缩字符串\n",
    "# https://leetcode-cn.com/problems/string-compression/\n",
    "from typing import List\n",
    "def compress(chars: List[str]) -> int:\n",
    "    # 设置一个默认的字符，记录上一个字符是什么\n",
    "    # 由于char表示一个字符，所以我初始化成一个两位的字符，用去区分chars的所有可能值\n",
    "    \n",
    "    # 最后需要转存到chars里面\n",
    "    index = 0\n",
    "    \n",
    "    preChar = \"SS\"\n",
    "    t = 0\n",
    "    for ch in chars:\n",
    "        if ch != preChar:\n",
    "            if preChar != \"SS\":\n",
    "                chars[index] = preChar\n",
    "                index += 1\n",
    "                stack = []\n",
    "                if t != 1:\n",
    "                    while t > 0:\n",
    "                        stack.insert(0,str(t%10))\n",
    "                        t //= 10\n",
    "                for sss in stack:\n",
    "                    chars[index] = sss\n",
    "                    index += 1    \n",
    "            t = 1\n",
    "            preChar = ch\n",
    "        else:\n",
    "            t += 1\n",
    "    chars[index] = preChar\n",
    "    index += 1\n",
    "    if t != 1:\n",
    "        stack = []\n",
    "        while t > 0:\n",
    "            stack.insert(0,str(t%10))\n",
    "            t //= 10\n",
    "#         print(s)\n",
    "        for sss in stack:\n",
    "            chars[index] = sss\n",
    "            index += 1    \n",
    "    \n",
    "    return index\n",
    "    pass\n",
    "chars = [\"a\",\"a\",\"b\",\"b\",\"c\",\"c\",\"c\"]\n",
    "compress(chars)"
   ]
  }
 ],
 "metadata": {
  "kernelspec": {
   "display_name": "Python 3",
   "language": "python",
   "name": "python3"
  },
  "language_info": {
   "codemirror_mode": {
    "name": "ipython",
    "version": 3
   },
   "file_extension": ".py",
   "mimetype": "text/x-python",
   "name": "python",
   "nbconvert_exporter": "python",
   "pygments_lexer": "ipython3",
   "version": "3.6.9"
  },
  "toc-autonumbering": false,
  "toc-showcode": false,
  "toc-showmarkdowntxt": false,
  "toc-showtags": false
 },
 "nbformat": 4,
 "nbformat_minor": 4
}
