{
 "cells": [
  {
   "cell_type": "code",
   "execution_count": 18,
   "metadata": {},
   "outputs": [
    {
     "data": {
      "text/plain": [
       "[[0, 2]]"
      ]
     },
     "execution_count": 18,
     "metadata": {},
     "output_type": "execute_result"
    }
   ],
   "source": [
    "# 830. 较大分组的位置\n",
    "# https://leetcode-cn.com/problems/positions-of-large-groups/\n",
    "\n",
    "def largeGroupPositions(s: str) :\n",
    "    # 定义长度为26的数组\n",
    "    count = 0\n",
    "    start,end=0,0\n",
    "    ans=[]\n",
    "    tem = s[0]\n",
    "    for index,data in enumerate(s):\n",
    "        if tem == data:\n",
    "            count += 1\n",
    "            end = index\n",
    "            if(index == len(s)-1 and count>=3):\n",
    "                ans.append([start,end])\n",
    "        else:\n",
    "            if(count>=3):\n",
    "                ans.append([start,end])\n",
    "            count = 1\n",
    "            tem = data\n",
    "            start = index\n",
    "    return ans\n",
    "ans = largeGroupPositions(\"aaa\")\n",
    "# ans = largeGroupPositions(\"abcdddeeeeaabbbcd\")\n",
    "ans "
   ]
  }
 ],
 "metadata": {
  "kernelspec": {
   "display_name": "Python 3",
   "language": "python",
   "name": "python3"
  },
  "language_info": {
   "codemirror_mode": {
    "name": "ipython",
    "version": 3
   },
   "file_extension": ".py",
   "mimetype": "text/x-python",
   "name": "python",
   "nbconvert_exporter": "python",
   "pygments_lexer": "ipython3",
   "version": "3.8.5"
  }
 },
 "nbformat": 4,
 "nbformat_minor": 4
}
