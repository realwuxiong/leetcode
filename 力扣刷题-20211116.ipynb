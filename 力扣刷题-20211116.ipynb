{
 "cells": [
  {
   "cell_type": "code",
   "execution_count": 3,
   "metadata": {},
   "outputs": [
    {
     "data": {
      "text/plain": [
       "True"
      ]
     },
     "execution_count": 3,
     "metadata": {},
     "output_type": "execute_result"
    }
   ],
   "source": [
    "# 391. 完美矩形\n",
    "# https://leetcode-cn.com/problems/perfect-rectangle/\n",
    "\n",
    "from typing import List\n",
    "from collections import defaultdict\n",
    "def isRectangleCover(rectangles: List[List[int]]) -> bool:\n",
    "    area, minX, minY, maxX, maxY = 0, rectangles[0][0], rectangles[0][1], rectangles[0][2], rectangles[0][3]\n",
    "    cnt = defaultdict(int)\n",
    "    for rect in rectangles:\n",
    "        x, y, a, b = rect[0], rect[1], rect[2], rect[3]\n",
    "        area += (a - x) * (b - y)\n",
    "\n",
    "        minX = min(minX, x)\n",
    "        minY = min(minY, y)\n",
    "        maxX = max(maxX, a)\n",
    "        maxY = max(maxY, b)\n",
    "\n",
    "        cnt[(x, y)] += 1\n",
    "        cnt[(x, b)] += 1\n",
    "        cnt[(a, y)] += 1\n",
    "        cnt[(a, b)] += 1\n",
    "\n",
    "    if area != (maxX - minX) * (maxY - minY) or cnt[(minX, minY)] != 1 or cnt[(minX, maxY)] != 1 or cnt[(maxX, minY)] != 1 or cnt[(maxX, maxY)] != 1:\n",
    "        return False\n",
    "\n",
    "    del cnt[(minX, minY)], cnt[(minX, maxY)], cnt[(maxX, minY)], cnt[(maxX, maxY)]\n",
    "\n",
    "    return all(c == 2 or c == 4 for c in cnt.values())\n",
    "rectangles = [[1,1,3,3],[3,1,4,2],[3,2,4,4],[1,3,2,4],[2,3,3,4]]\n",
    "isRectangleCover(rectangles)"
   ]
  }
 ],
 "metadata": {
  "kernelspec": {
   "display_name": "Python 3",
   "language": "python",
   "name": "python3"
  },
  "language_info": {
   "codemirror_mode": {
    "name": "ipython",
    "version": 3
   },
   "file_extension": ".py",
   "mimetype": "text/x-python",
   "name": "python",
   "nbconvert_exporter": "python",
   "pygments_lexer": "ipython3",
   "version": "3.6.9"
  },
  "toc-autonumbering": false,
  "toc-showcode": false,
  "toc-showmarkdowntxt": false,
  "toc-showtags": false
 },
 "nbformat": 4,
 "nbformat_minor": 4
}
