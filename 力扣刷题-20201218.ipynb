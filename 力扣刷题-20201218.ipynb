{
 "cells": [
  {
   "cell_type": "code",
   "execution_count": 1,
   "metadata": {},
   "outputs": [
    {
     "name": "stdout",
     "output_type": "stream",
     "text": [
      "Counter({'a': 1, 'b': 1, 'c': 1, 'd': 1}) Counter({'a': 1, 'b': 1, 'c': 1})\n",
      "d\n",
      "d\n"
     ]
    }
   ],
   "source": [
    "# 2020年12月18日\n",
    "# 吴雄\n",
    "# 2020年12月18日 10:10\n",
    "# https://leetcode-cn.com/problems/find-the-difference/submissions/\n",
    "import collections\n",
    "def findTheDifference(s: str, t: str) -> str:\n",
    "   t_dic = collections.Counter(t)\n",
    "   s_dic = collections.Counter(s)\n",
    "   print(t_dic,s_dic)\n",
    "   for data in t_dic.keys():\n",
    "       try:\n",
    "           if(t_dic[data]!=s_dic[data]):\n",
    "               return data\n",
    "       except Exception as e:\n",
    "           return data\n",
    "print(findTheDifference(\"abc\",\"abcd\"))\n",
    "\n",
    "# 用异或可太牛逼了。。。。。\n",
    "# 异或满足交换律结合律。\n",
    "def findTheDifference( s: str, t: str) -> str:\n",
    "        ans=0\n",
    "        for i in s:\n",
    "            ans = ans^ord(i)\n",
    "        for j in t:\n",
    "            ans = ans^ord(j)\n",
    "        return chr(ans)\n",
    "print(findTheDifference(\"abc\",\"abcd\"))"
   ]
  },
  {
   "cell_type": "code",
   "execution_count": null,
   "metadata": {},
   "outputs": [],
   "source": []
  }
 ],
 "metadata": {
  "kernelspec": {
   "display_name": "Python 3",
   "language": "python",
   "name": "python3"
  },
  "language_info": {
   "codemirror_mode": {
    "name": "ipython",
    "version": 3
   },
   "file_extension": ".py",
   "mimetype": "text/x-python",
   "name": "python",
   "nbconvert_exporter": "python",
   "pygments_lexer": "ipython3",
   "version": "3.6.9"
  }
 },
 "nbformat": 4,
 "nbformat_minor": 4
}
