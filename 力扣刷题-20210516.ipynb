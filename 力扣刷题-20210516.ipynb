{
 "cells": [
  {
   "cell_type": "code",
   "execution_count": 15,
   "metadata": {},
   "outputs": [
    {
     "name": "stdout",
     "output_type": "stream",
     "text": [
      "10\n",
      "10\n"
     ]
    }
   ],
   "source": [
    "# 421. 数组中两个数的最大异或值\n",
    "# https://leetcode-cn.com/problems/maximum-xor-of-two-numbers-in-an-array/\n",
    "\n",
    "# 最大异或，要求在O(n)的时间复杂度去找到这个值\n",
    "# 2021年5月16日 10:04-\n",
    "# 我的思路：动态规划？或者是利用异或的性质\n",
    "# 老是超时，放弃了，下午看看答案的解析。。。。。\n",
    "from typing import List\n",
    "def findMaximumXOR1(nums: List[int]) -> int:\n",
    "    # 先用两层循环试一下,这个是超时的\n",
    "    ans = 0\n",
    "    for i in range(len(nums)):\n",
    "        for j in range(i+1,len(nums)):\n",
    "            ans = max(ans,nums[i]^nums[j])\n",
    "    print(ans)\n",
    "    pass\n",
    "def findMaximumXOR2(nums: List[int]) -> int:\n",
    "    # 通过异或的性质可以知道，这两个数肯定是有一个最大值的\n",
    "    ans = 0\n",
    "    maxNumber = max(nums)\n",
    "    t = -1\n",
    "    while maxNumber:\n",
    "        maxNumber >>= 1\n",
    "        t += 1\n",
    "    candidates = []\n",
    "    for i in range(len(nums)):\n",
    "        if nums[i] >= 2 ** t:\n",
    "            candidates.append(nums[i])\n",
    "    for i in range(len(nums)):\n",
    "        for candidate in candidates:\n",
    "                ans = max(ans,candidate^nums[i])\n",
    "    print(ans)\n",
    "nums = [8,10,2]\n",
    "findMaximumXOR1(nums)\n",
    "findMaximumXOR2(nums)"
   ]
  },
  {
   "cell_type": "code",
   "execution_count": 23,
   "metadata": {},
   "outputs": [
    {
     "name": "stdout",
     "output_type": "stream",
     "text": [
      "[[], [1], [1, 2], [1, 2, 3], [1, 3], [2], [2, 3], [3]]\n"
     ]
    }
   ],
   "source": [
    "# 试一下DFS求幂集\n",
    "nums = [1,2,3]\n",
    "ans = []\n",
    "t=[]\n",
    "def dfs(i):\n",
    "    if i > len(nums):\n",
    "        return\n",
    "    ans.append(t[:])\n",
    "    for j in range(i,len(nums)):\n",
    "        t.append(nums[j])\n",
    "        dfs(j+1)\n",
    "        t.pop()\n",
    "dfs(0)\n",
    "print(ans)\n",
    "    "
   ]
  }
 ],
 "metadata": {
  "kernelspec": {
   "display_name": "Python 3",
   "language": "python",
   "name": "python3"
  },
  "language_info": {
   "codemirror_mode": {
    "name": "ipython",
    "version": 3
   },
   "file_extension": ".py",
   "mimetype": "text/x-python",
   "name": "python",
   "nbconvert_exporter": "python",
   "pygments_lexer": "ipython3",
   "version": "3.6.9"
  }
 },
 "nbformat": 4,
 "nbformat_minor": 4
}
