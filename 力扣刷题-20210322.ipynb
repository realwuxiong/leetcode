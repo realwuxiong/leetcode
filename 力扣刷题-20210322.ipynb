{
 "cells": [
  {
   "cell_type": "code",
   "execution_count": 5,
   "metadata": {},
   "outputs": [
    {
     "data": {
      "text/plain": [
       "{1}"
      ]
     },
     "execution_count": 5,
     "metadata": {},
     "output_type": "execute_result"
    }
   ],
   "source": [
    "# 191. 位1的个数\n",
    "# https://leetcode-cn.com/problems/number-of-1-bits/\n",
    "# 就很easy\n",
    "class Solution:\n",
    "    def hammingWeight(self, n: int) -> int:\n",
    "        i = 0\n",
    "        while n:\n",
    "            i+=1\n",
    "            n=n&n-1\n",
    "        return i\n"
   ]
  },
  {
   "cell_type": "code",
   "execution_count": 8,
   "metadata": {},
   "outputs": [
    {
     "data": {
      "text/plain": [
       "'1234321'"
      ]
     },
     "execution_count": 8,
     "metadata": {},
     "output_type": "execute_result"
    }
   ],
   "source": [
    "# 5. 最长回文子串\n",
    "# 做一题动态规划\n",
    "# https://leetcode-cn.com/problems/longest-palindromic-substring/\n",
    "# 看的答案，，哎动态规划。。这个一直不太行。。。\n",
    "def longestPalindrome(s: str) -> str:\n",
    "    n = len(s)\n",
    "    dp = [[False]*n for _ in range(n)]\n",
    "    ans =\"\"\n",
    "    for l in range(n):  # 回文字符串长度为l\n",
    "        for i in range(n):\n",
    "            j = i + l\n",
    "            if j >= len(s):\n",
    "                break\n",
    "            if l == 0:\n",
    "                dp[i][j] = True\n",
    "            elif l == 1:\n",
    "                dp[i][j] = (s[i] == s[j])\n",
    "            else:\n",
    "                dp[i][j] = (dp[i + 1][j - 1] and s[i] == s[j])\n",
    "            if dp[i][j] and l + 1 > len(ans):\n",
    "                ans = s[i:j+1]\n",
    "    return ans\n",
    "\n",
    "    pass\n",
    "s = \"abc1234321ab\"\n",
    "longestPalindrome(s)"
   ]
  }
 ],
 "metadata": {
  "kernelspec": {
   "display_name": "Python 3",
   "language": "python",
   "name": "python3"
  },
  "language_info": {
   "codemirror_mode": {
    "name": "ipython",
    "version": 3
   },
   "file_extension": ".py",
   "mimetype": "text/x-python",
   "name": "python",
   "nbconvert_exporter": "python",
   "pygments_lexer": "ipython3",
   "version": "3.8.5"
  }
 },
 "nbformat": 4,
 "nbformat_minor": 4
}
