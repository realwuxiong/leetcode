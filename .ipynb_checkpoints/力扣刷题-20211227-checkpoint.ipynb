{
 "cells": [
  {
   "cell_type": "code",
   "execution_count": null,
   "metadata": {},
   "outputs": [],
   "source": [
    "# 472. 连接词\n",
    "# https://leetcode-cn.com/problems/concatenated-words/\n",
    "\n",
    "from typing import List\n",
    "def findAllConcatenatedWordsInADict(words: List[str]) -> List[str]:\n",
    "    # 进行排序？？？\n",
    "    \n",
    "    # 字典树，，，完全不想做，把之前的典型的字典树做一下吧\n",
    "    \n",
    "    pass\n",
    "\n",
    "words = [\"cat\",\"dog\",\"catdog\"]\n",
    "findAllConcatenatedWordsInADict(words)"
   ]
  },
  {
   "cell_type": "code",
   "execution_count": null,
   "metadata": {},
   "outputs": [],
   "source": [
    "# 208. 实现 Trie (前缀树)\n",
    "# https://leetcode-cn.com/problems/implement-trie-prefix-tree/\n",
    "# 重写了一次字典树\n",
    "class Trie:\n",
    "\n",
    "    def __init__(self):\n",
    "        self.child = [None]*26\n",
    "        self.isEnd = False\n",
    "    def searchPrefix(self, prefix: str) -> \"Trie\":\n",
    "        node = self\n",
    "        for p in prefix:\n",
    "            t = ord(p)-ord('a')\n",
    "            if not node.child[t]:\n",
    "                return None\n",
    "            node = node.child[t]\n",
    "        return node\n",
    "    def insert(self, word: str) -> None:\n",
    "        node = self\n",
    "        for w in word:\n",
    "            if not node.child[ord(w)-ord('a')]:\n",
    "                node.child[ord(w)-ord('a')] = Trie()\n",
    "            node = node.child[ord(w)-ord('a')]\n",
    "        node.isEnd = True\n",
    "    def search(self, word: str) -> bool:\n",
    "        node = self.searchPrefix(word)\n",
    "        return node is not None and node.isEnd == True\n",
    "\n",
    "    def startsWith(self, prefix: str) -> bool:\n",
    "        return self.searchPrefix(prefix) is not None\n",
    "\n",
    "    \n",
    "\n",
    "\n",
    "# Your Trie object will be instantiated and called as such:\n",
    "# obj = Trie()\n",
    "# obj.insert(word)\n",
    "# param_2 = obj.search(word)\n",
    "# param_3 = obj.startsWith(prefix)"
   ]
  }
 ],
 "metadata": {
  "kernelspec": {
   "display_name": "Python 3",
   "language": "python",
   "name": "python3"
  },
  "language_info": {
   "codemirror_mode": {
    "name": "ipython",
    "version": 3
   },
   "file_extension": ".py",
   "mimetype": "text/x-python",
   "name": "python",
   "nbconvert_exporter": "python",
   "pygments_lexer": "ipython3",
   "version": "3.6.9"
  },
  "toc-autonumbering": false,
  "toc-showcode": false,
  "toc-showmarkdowntxt": false,
  "toc-showtags": false
 },
 "nbformat": 4,
 "nbformat_minor": 4
}
