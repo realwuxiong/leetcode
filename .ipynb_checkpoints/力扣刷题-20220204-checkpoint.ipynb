{
 "cells": [
  {
   "cell_type": "code",
   "execution_count": 5,
   "metadata": {},
   "outputs": [
    {
     "data": {
      "text/plain": [
       "3"
      ]
     },
     "execution_count": 5,
     "metadata": {},
     "output_type": "execute_result"
    }
   ],
   "source": [
    "# 1725. 可以形成最大正方形的矩形数目\n",
    "# https://leetcode-cn.com/problems/number-of-rectangles-that-can-form-the-largest-square/\n",
    "\n",
    "from typing import List\n",
    "def countGoodRectangles(rectangles: List[List[int]]) -> int:\n",
    "    maxValue = 0\n",
    "    # 其实这个写法也不够好，可以瞅瞅答案的空间复杂度为O(1)的做法\n",
    "    dic = {}\n",
    "    for i in range(len(rectangles)):\n",
    "        key = min(rectangles[i])\n",
    "        dic[key] = dic.setdefault(key, 0)+1\n",
    "        if key > maxValue:\n",
    "            maxValue = key\n",
    "    return dic[maxValue]\n",
    "        \n",
    "    pass\n",
    "rectangles = [[2,3],[3,7],[4,3],[3,7]]\n",
    "countGoodRectangles(rectangles)"
   ]
  }
 ],
 "metadata": {
  "kernelspec": {
   "display_name": "Python 3",
   "language": "python",
   "name": "python3"
  },
  "language_info": {
   "codemirror_mode": {
    "name": "ipython",
    "version": 3
   },
   "file_extension": ".py",
   "mimetype": "text/x-python",
   "name": "python",
   "nbconvert_exporter": "python",
   "pygments_lexer": "ipython3",
   "version": "3.6.9"
  },
  "toc-autonumbering": false,
  "toc-showcode": false,
  "toc-showmarkdowntxt": false,
  "toc-showtags": false
 },
 "nbformat": 4,
 "nbformat_minor": 4
}
