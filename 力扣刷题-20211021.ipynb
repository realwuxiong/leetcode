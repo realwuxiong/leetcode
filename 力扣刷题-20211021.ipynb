{
 "cells": [
  {
   "cell_type": "code",
   "execution_count": 3,
   "metadata": {},
   "outputs": [
    {
     "data": {
      "text/plain": [
       "[1, 0, 0, 0, 0, 0]"
      ]
     },
     "execution_count": 3,
     "metadata": {},
     "output_type": "execute_result"
    }
   ],
   "source": [
    "# 66. 加一\n",
    "# https://leetcode-cn.com/problems/plus-one/\n",
    "\n",
    "from typing import List\n",
    "def plusOne(digits: List[int]) -> List[int]:\n",
    "    n = len(digits)\n",
    "    flag = True\n",
    "    for i in range(n-1,-1,-1):\n",
    "        if digits[i] + 1 < 10:\n",
    "            digits[i] += 1\n",
    "            flag = False\n",
    "            break\n",
    "        digits[i] = (digits[i]+1)-10\n",
    "    if flag:\n",
    "        digits.insert(0,1)\n",
    "    return digits\n",
    "digits = [9,9,9,9,9]\n",
    "plusOne(digits)"
   ]
  },
  {
   "cell_type": "code",
   "execution_count": null,
   "metadata": {},
   "outputs": [],
   "source": [
    "\"s\".isdigit()"
   ]
  }
 ],
 "metadata": {
  "kernelspec": {
   "display_name": "Python 3",
   "language": "python",
   "name": "python3"
  },
  "language_info": {
   "codemirror_mode": {
    "name": "ipython",
    "version": 3
   },
   "file_extension": ".py",
   "mimetype": "text/x-python",
   "name": "python",
   "nbconvert_exporter": "python",
   "pygments_lexer": "ipython3",
   "version": "3.6.9"
  },
  "toc-autonumbering": false,
  "toc-showcode": false,
  "toc-showmarkdowntxt": false,
  "toc-showtags": false
 },
 "nbformat": 4,
 "nbformat_minor": 4
}
