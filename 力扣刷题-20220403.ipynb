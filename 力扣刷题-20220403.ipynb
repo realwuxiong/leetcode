{
 "cells": [
  {
   "cell_type": "code",
   "execution_count": 3,
   "metadata": {},
   "outputs": [
    {
     "data": {
      "text/plain": [
       "'c'"
      ]
     },
     "execution_count": 3,
     "metadata": {},
     "output_type": "execute_result"
    }
   ],
   "source": [
    "# 744. 寻找比目标字母大的最小字母\n",
    "# https://leetcode-cn.com/problems/find-smallest-letter-greater-than-target/\n",
    "\n",
    "from typing import List\n",
    "def nextGreatestLetter(letters: List[str], target: str) -> str:\n",
    "    for letter in letters:\n",
    "        if letter > target:\n",
    "            return letter\n",
    "    return letters[0]\n",
    "    pass\n",
    "\n",
    "letters = [\"c\",\"f\",\"j\"]\n",
    "target = \"j\"\n",
    "nextGreatestLetter(letters,target)"
   ]
  }
 ],
 "metadata": {
  "kernelspec": {
   "display_name": "Python 3",
   "language": "python",
   "name": "python3"
  },
  "language_info": {
   "codemirror_mode": {
    "name": "ipython",
    "version": 3
   },
   "file_extension": ".py",
   "mimetype": "text/x-python",
   "name": "python",
   "nbconvert_exporter": "python",
   "pygments_lexer": "ipython3",
   "version": "3.6.9"
  },
  "toc-autonumbering": false,
  "toc-showcode": false,
  "toc-showmarkdowntxt": false,
  "toc-showtags": false
 },
 "nbformat": 4,
 "nbformat_minor": 4
}
