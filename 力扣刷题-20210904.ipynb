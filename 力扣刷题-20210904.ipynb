{
 "cells": [
  {
   "cell_type": "code",
   "execution_count": 10,
   "metadata": {},
   "outputs": [
    {
     "data": {
      "text/plain": [
       "1134903170"
      ]
     },
     "execution_count": 10,
     "metadata": {},
     "output_type": "execute_result"
    }
   ],
   "source": [
    "# 剑指 Offer 10- I. 斐波那契数列\n",
    "# https://leetcode-cn.com/problems/fei-bo-na-qi-shu-lie-lcof/\n",
    "\n",
    "#这几天怎么天天是简单题\n",
    "\n",
    "def fib(n: int) -> int:\n",
    "    if n == 0:\n",
    "        return 0\n",
    "    a, b = 0, 1\n",
    "    for i in range(1,n):\n",
    "        a,b = b,a+b\n",
    "    return b % 1000000007\n",
    "fib(45)"
   ]
  }
 ],
 "metadata": {
  "kernelspec": {
   "display_name": "Python 3",
   "language": "python",
   "name": "python3"
  },
  "language_info": {
   "codemirror_mode": {
    "name": "ipython",
    "version": 3
   },
   "file_extension": ".py",
   "mimetype": "text/x-python",
   "name": "python",
   "nbconvert_exporter": "python",
   "pygments_lexer": "ipython3",
   "version": "3.6.9"
  },
  "toc-autonumbering": false,
  "toc-showcode": false,
  "toc-showmarkdowntxt": false,
  "toc-showtags": false
 },
 "nbformat": 4,
 "nbformat_minor": 4
}
