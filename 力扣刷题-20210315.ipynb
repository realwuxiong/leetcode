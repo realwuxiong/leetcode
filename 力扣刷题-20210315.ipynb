{
 "cells": [
  {
   "cell_type": "code",
   "execution_count": 12,
   "metadata": {},
   "outputs": [
    {
     "data": {
      "text/plain": [
       "[7, 9, 6]"
      ]
     },
     "execution_count": 12,
     "metadata": {},
     "output_type": "execute_result"
    }
   ],
   "source": [
    "# 54. 螺旋矩阵\n",
    "# https://leetcode-cn.com/problems/spiral-matrix/\n",
    "# 是不是又是用堆栈解决这个问题？？  前面两天刷的是别的题目\n",
    "# 哈哈，没想到我写出来了。。。我的思路就是遍历一行就删除一行，遍历一列就删除一列。就很容易理解了、、、、\n",
    "from typing import List\n",
    "def spiralOrder(matrix: List[List[int]]) -> List[int]:\n",
    "    res = []\n",
    "    while matrix and matrix[0]:\n",
    "        # 从左到右,最上面一行\n",
    "        for i in range(len(matrix[0])):\n",
    "            res.append(matrix[0][i])\n",
    "        # 删除最上面一行\n",
    "        del matrix[0]\n",
    "        \n",
    "        if not matrix or not matrix[0]:\n",
    "            break\n",
    "        # 从上到下，最左边一行\n",
    "        for i in range(len(matrix)):\n",
    "            res.append(matrix[i][-1])\n",
    "            del matrix[i][-1]   #删除最后一列\n",
    "        \n",
    "        if not matrix or not matrix[0]:\n",
    "            break\n",
    "        # 从右到左,最下面的一行\n",
    "        for i in range(len(matrix[0])-1,-1,-1):\n",
    "            res.append(matrix[-1][i])\n",
    "        del matrix[-1]\n",
    "        \n",
    "        if not matrix or not matrix[0]:\n",
    "            break\n",
    "        # 从下到上，最左边的一行\n",
    "        for i in range(len(matrix)-1,-1,-1):\n",
    "            res.append(matrix[i][0])\n",
    "            del matrix[i][0]\n",
    "        \n",
    "            \n",
    "    return res\n",
    "\n",
    "    \n",
    "matrix = [[7],[9],[6]]\n",
    "spiralOrder(matrix)"
   ]
  }
 ],
 "metadata": {
  "kernelspec": {
   "display_name": "Python 3",
   "language": "python",
   "name": "python3"
  },
  "language_info": {
   "codemirror_mode": {
    "name": "ipython",
    "version": 3
   },
   "file_extension": ".py",
   "mimetype": "text/x-python",
   "name": "python",
   "nbconvert_exporter": "python",
   "pygments_lexer": "ipython3",
   "version": "3.8.5"
  }
 },
 "nbformat": 4,
 "nbformat_minor": 4
}
