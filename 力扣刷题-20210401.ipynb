{
 "cells": [
  {
   "cell_type": "code",
   "execution_count": 37,
   "metadata": {},
   "outputs": [
    {
     "name": "stdout",
     "output_type": "stream",
     "text": [
      "[90]\n",
      "[11]\n",
      "[11, 7]\n",
      "[11, 7, -6]\n",
      "[11, 7, -30]\n",
      "[11, 7, -7]\n",
      "[11, 7, -7, 3]\n",
      "[11, 7, -7, 3, -2]\n",
      "[11, 7, -7, 3, -2]\n",
      "12\n"
     ]
    }
   ],
   "source": [
    "# 四月的第一天，继续加油！\n",
    "# 1006. 笨阶乘\n",
    "# https://leetcode-cn.com/problems/clumsy-factorial/\n",
    "# 10:04\n",
    "import math\n",
    "def clumsy(N: int) -> int:\n",
    "    a = 0\n",
    "    '''\n",
    "    0:*\n",
    "    1:/\n",
    "    2:+\n",
    "    3:-\n",
    "    '''\n",
    "    # 可以不用递归，也可以用递归，先不用递归试试\n",
    "    # 用栈，哎，做了几次这样的题居然还没做出来\n",
    "    stack = []\n",
    "    stack.append(N)\n",
    "    N -= 1\n",
    "    while N > 0:\n",
    "        if a % 4==0:\n",
    "            stack.append(stack.pop()*N)\n",
    "        elif a %4 == 1:\n",
    "            tem = stack.pop()/N\n",
    "            if tem >= 0:\n",
    "                stack.append(math.floor(tem))\n",
    "            else:\n",
    "                stack.append(math.ceil(tem)) \n",
    "        elif a % 4 == 2:\n",
    "            stack.append(N)\n",
    "        else:\n",
    "            stack.append(-N)\n",
    "        N -= 1\n",
    "        a += 1\n",
    "    print(sum(stack))\n",
    "            \n",
    "clumsy(10)"
   ]
  }
 ],
 "metadata": {
  "kernelspec": {
   "display_name": "Python 3",
   "language": "python",
   "name": "python3"
  },
  "language_info": {
   "codemirror_mode": {
    "name": "ipython",
    "version": 3
   },
   "file_extension": ".py",
   "mimetype": "text/x-python",
   "name": "python",
   "nbconvert_exporter": "python",
   "pygments_lexer": "ipython3",
   "version": "3.8.5"
  }
 },
 "nbformat": 4,
 "nbformat_minor": 4
}
