{
 "cells": [
  {
   "cell_type": "code",
   "execution_count": 36,
   "metadata": {},
   "outputs": [
    {
     "data": {
      "text/plain": [
       "7"
      ]
     },
     "execution_count": 36,
     "metadata": {},
     "output_type": "execute_result"
    }
   ],
   "source": [
    "# 274. H 指数\n",
    "# https://leetcode-cn.com/problems/h-index/\n",
    "\n",
    "# 今天周日\n",
    "# 15:55-\n",
    "from typing import List\n",
    "def hIndex(citations: List[int]) -> int:\n",
    "    # 先排序，应该很容易做出来,这么简单的问题为啥我想了这么久。。。\n",
    "    citations.sort(reverse=True)\n",
    "    h = 0; i = 0; n = len(citations)\n",
    "    while i < n and citations[i] > h:\n",
    "        h += 1\n",
    "        i += 1\n",
    "    return h\n",
    "\n",
    "\n",
    "    \n",
    "    \n",
    "    pass\n",
    "citations = [1,23,21,1,213,31,123,23,1,9]\n",
    "hIndex(citations)"
   ]
  }
 ],
 "metadata": {
  "kernelspec": {
   "display_name": "Python 3",
   "language": "python",
   "name": "python3"
  },
  "language_info": {
   "codemirror_mode": {
    "name": "ipython",
    "version": 3
   },
   "file_extension": ".py",
   "mimetype": "text/x-python",
   "name": "python",
   "nbconvert_exporter": "python",
   "pygments_lexer": "ipython3",
   "version": "3.6.9"
  }
 },
 "nbformat": 4,
 "nbformat_minor": 4
}
