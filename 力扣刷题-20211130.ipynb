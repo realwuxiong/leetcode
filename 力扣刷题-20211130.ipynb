{
 "cells": [
  {
   "cell_type": "code",
   "execution_count": 3,
   "metadata": {},
   "outputs": [
    {
     "data": {
      "text/plain": [
       "0"
      ]
     },
     "execution_count": 3,
     "metadata": {},
     "output_type": "execute_result"
    }
   ],
   "source": [
    "# 400. 第 N 位数字\n",
    "# https://leetcode-cn.com/problems/nth-digit/\n",
    "\n",
    "# 不想做，抄的答案\n",
    "def findNthDigit(n: int) -> int:\n",
    "    d, count = 1, 9\n",
    "    while n > d * count:\n",
    "        n -= d * count\n",
    "        d += 1\n",
    "        count *= 10\n",
    "    index = n - 1\n",
    "    start = 10 ** (d - 1)\n",
    "    num = start + index // d\n",
    "    digitIndex = index % d\n",
    "    return num // 10 ** (d - digitIndex - 1) % 10\n",
    "\n",
    "n = 11\n",
    "findNthDigit(n)"
   ]
  }
 ],
 "metadata": {
  "kernelspec": {
   "display_name": "Python 3",
   "language": "python",
   "name": "python3"
  },
  "language_info": {
   "codemirror_mode": {
    "name": "ipython",
    "version": 3
   },
   "file_extension": ".py",
   "mimetype": "text/x-python",
   "name": "python",
   "nbconvert_exporter": "python",
   "pygments_lexer": "ipython3",
   "version": "3.6.9"
  },
  "toc-autonumbering": false,
  "toc-showcode": false,
  "toc-showmarkdowntxt": false,
  "toc-showtags": false
 },
 "nbformat": 4,
 "nbformat_minor": 4
}
