{
 "cells": [
  {
   "cell_type": "code",
   "execution_count": null,
   "metadata": {},
   "outputs": [],
   "source": [
    "# 149. 直线上最多的点数\n",
    "# https://leetcode-cn.com/problems/max-points-on-a-line/\n",
    "from typing import List\n",
    "def maxPoints(points: List[List[int]]) -> int:\n",
    "    pass\n",
    "points = [[1,1],[2,2],[3,3]]\n",
    "maxPoints(points)"
   ]
  }
 ],
 "metadata": {
  "kernelspec": {
   "display_name": "Python 3",
   "language": "python",
   "name": "python3"
  },
  "language_info": {
   "codemirror_mode": {
    "name": "ipython",
    "version": 3
   },
   "file_extension": ".py",
   "mimetype": "text/x-python",
   "name": "python",
   "nbconvert_exporter": "python",
   "pygments_lexer": "ipython3",
   "version": "3.6.9"
  }
 },
 "nbformat": 4,
 "nbformat_minor": 4
}
