{
 "cells": [
  {
   "cell_type": "code",
   "execution_count": null,
   "metadata": {},
   "outputs": [],
   "source": [
    "# 606. 根据二叉树创建字符串\n",
    "# https://leetcode-cn.com/problems/construct-string-from-binary-tree/\n",
    "\n",
    "# 抄的答案\n",
    "\n",
    "# Definition for a binary tree node.\n",
    "# class TreeNode:\n",
    "#     def __init__(self, val=0, left=None, right=None):\n",
    "#         self.val = val\n",
    "#         self.left = left\n",
    "#         self.right = right\n",
    "class Solution:\n",
    "    def tree2str(self, root: Optional[TreeNode]) -> str:\n",
    "        \n",
    "        if root is None:\n",
    "            return \"\"\n",
    "        if root.left is None and root.right is None:\n",
    "            return str(root.val)\n",
    "        if root.right is None:\n",
    "            return f\"{root.val}({self.tree2str(root.left)})\"\n",
    "        return f\"{root.val}({self.tree2str(root.left)})({self.tree2str(root.right)})\"\n"
   ]
  }
 ],
 "metadata": {
  "kernelspec": {
   "display_name": "Python 3",
   "language": "python",
   "name": "python3"
  },
  "language_info": {
   "codemirror_mode": {
    "name": "ipython",
    "version": 3
   },
   "file_extension": ".py",
   "mimetype": "text/x-python",
   "name": "python",
   "nbconvert_exporter": "python",
   "pygments_lexer": "ipython3",
   "version": "3.6.9"
  },
  "toc-autonumbering": false,
  "toc-showcode": false,
  "toc-showmarkdowntxt": false,
  "toc-showtags": false
 },
 "nbformat": 4,
 "nbformat_minor": 4
}
